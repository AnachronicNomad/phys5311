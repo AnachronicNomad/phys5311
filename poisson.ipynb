version https://git-lfs.github.com/spec/v1
oid sha256:60382b169a74b1d0e2025ead186362cd2c9eba4cab09f7e1029d5640745422d8
size 9078
