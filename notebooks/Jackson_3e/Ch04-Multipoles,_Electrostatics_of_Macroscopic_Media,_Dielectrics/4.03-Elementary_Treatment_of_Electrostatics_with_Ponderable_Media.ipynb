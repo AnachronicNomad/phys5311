{
 "cells": [
  {
   "cell_type": "markdown",
   "metadata": {},
   "source": [
    "### [4.3] Elementary Treatment of Electrostatics with Ponderable Media"
   ]
  },
  {
   "cell_type": "markdown",
   "metadata": {},
   "source": [
    ">   * In Chapters 1, 2, and 3 we considered electrostatic potentials and fields in the presence of charges and conductors, but no other ponderable media. \n",
    ">       - We therefore made no distinction between microscopic fields and macroscopic fields, although our treatment of conductors in an idealized fashion with _surface_ charge densities implied a macroscopic description. \n",
    ">       - Air is sufficiently tenuous that the neglect of its dielectric peoperties causes no great error; our results so far are applicable there.\n",
    ">   * However, much of electrostatics concerns itself with charges and fields in ponderable media whose respective electric responses must be taken into account.\n",
    ">       - In the Introduction we indicated the need for averaging over macroscopically small, but microscopically large, regions to obtain the Maxwell equations appropriate for macroscopic phenomena. \n",
    ">       - This is done in a careful fashion in Chapter 6, after the Maxwell equations with time variation have been discussed. \n",
    ">   * For the present we remind the reader of the outlines of the elementary discussion of polarization **(TODO :> Section Ref ??)**, in a fashion that glosses over difficult and sometimes subtle aspects, of the averaging procedure and the introduction of the macroscopic quantities."
   ]
  },
  {
   "cell_type": "markdown",
   "metadata": {},
   "source": [
    ">   * The first observation is that when an averaging is made of the homogeneous equation, $\\mathbf{\\nabla \\times E}_{\\textrm{micro}} = 0$, the same equation, namely $$ \\mathbf{\\nabla \\times E} = 0 $$ holds for the averaged (i.e. the macroscopic) electric field $\\mathbf{E}$.\n",
    ">       - This means that the electric field is still derivable from a potential $\\Phi\\left({\\mathbf{x}}\\right)$ in electrostatics. "
   ]
  },
  {
   "cell_type": "markdown",
   "metadata": {},
   "source": [
    ">   * If an electric field is applied to a medium made up of a large nuber of atoms or molecules, the charges bound in each molecule will response to the applied field and will execute perturbed motions. \n",
    ">       - The molecular charge density will be distorted. "
   ]
  }
 ],
 "metadata": {
  "language_info": {
   "name": "python"
  }
 },
 "nbformat": 4,
 "nbformat_minor": 2
}
