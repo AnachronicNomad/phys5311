{
 "cells": [
  {
   "cell_type": "markdown",
   "metadata": {},
   "source": [
    "### [4.3] Elementary Treatment of Electrostatics with Ponderable Media"
   ]
  },
  {
   "cell_type": "markdown",
   "metadata": {},
   "source": [
    ">   * In Chapters 1, 2, and 3 we considered electrostatic potentials and fields in the presence of charges and conductors, but no other ponderable media. \n",
    ">       - We therefore made no distinction between microscopic fields and macroscopic fields, although our treatment of conductors in an idealized fashion with _surface_ charge densities implied a macroscopic description. \n",
    ">       - Air is sufficiently tenuous that the neglect of its dielectric properties causes no great error; our results so far are applicable there.\n",
    ">   * However, much of electrostatics concerns itself with charges and fields in ponderable media whose respective electric responses must be taken into account.\n",
    ">       - In the Introduction we indicated the need for averaging over macroscopically small, but microscopically large, regions to obtain the Maxwell equations appropriate for macroscopic phenomena. \n",
    ">       - This is done in a careful fashion in Chapter 6, after the Maxwell equations with time variation have been discussed. \n",
    ">   * For the present we remind the reader of the outlines of the elementary discussion of polarization **(TODO :> Section Ref ??)**, \n",
    ">       - in a fashion that glosses over difficult and sometimes subtle aspects, of the averaging procedure and the introduction of the macroscopic quantities."
   ]
  },
  {
   "cell_type": "markdown",
   "metadata": {},
   "source": [
    "#### Electric Fields in Matter - Polarization & Dipole Moments"
   ]
  },
  {
   "cell_type": "markdown",
   "metadata": {},
   "source": [
    ">   * The first observation is that when an averaging is made of the homogeneous equation, $\\mathbf{\\nabla \\times E}_{\\textrm{micro}} = 0$, the same equation, namely $$ \\mathbf{\\nabla \\times E} = 0 $$ holds for the averaged (i.e. the macroscopic) electric field $\\mathbf{E}$.\n",
    ">       - This means that the electric field is still derivable from a potential $\\Phi\\left({\\mathbf{x}}\\right)$ in electrostatics. "
   ]
  },
  {
   "cell_type": "markdown",
   "metadata": {},
   "source": [
    ">   * If an electric field is applied to a medium made up of a large nuber of atoms or molecules, \n",
    ">       - the charges bound in each molecule will respond to the applied field and will execute perturbed motions. \n",
    ">           + The molecular charge density will be distorted. \n",
    ">           + The multipole moments of each molecule will be different from what they were in the absence of the field. \n",
    ">       - In simple substances, when there is no applied field, the multipole moments are all zero \n",
    ">           + (at least when averaged over many molecules)\n",
    ">       - The dominant molecular multipole with the applied fields is the dipole.\n",
    ">       - There is thus produced in the medium an _electric polarization_ $\\mathbf{P}$ (dipole moment per unit volume) given by $$ \\mathbf{P} \\left( \\mathbf{x} \\right) = \\sum_i N_i \\langle \\mathbf{p}_i \\rangle $$ where\n",
    ">           + $\\mathbf{p}_i$ is the dipole moment of the $i$-th type of molecule in the medium,\n",
    ">           + the average is taken over a small volume centered at $\\mathbf{x}$ and \n",
    ">           + $N_i$ is the average number per unit volume of the $i$-th type of molecule, at the point $\\mathbf{x}$.\n",
    ">   * If the molecules have a net charge $e_i$ and, in addition, there is macroscopic excess or \"free\" charge, \n",
    ">       - the charge density at the macroscopic level will be $$ \\rho\\left( \\mathbf{x} \\right) = \\sum_i N_i \\langle e_i \\rangle + \\rho_{\\textrm{excess}} $$\n",
    ">       - Usually, the average molecular charge is zero. \n",
    ">       - Then, the charge density is the excess or (**todo:> sp?** 'or' or 'of'?) \"free\" charge (suitably averaged)"
   ]
  },
  {
   "cell_type": "markdown",
   "metadata": {},
   "source": [
    ">   * If we now look at the medium from a macroscopic point of view, \n",
    ">       - we can build up the potential or field by linear superposition (Section I.03)\n",
    ">           + of the contributions from each macroscopically small volume element $\\Delta V$ at the variable point $\\mathbf{x}^\\prime$\n",
    ">       - Thus the charge of $\\Delta V$ is $\\rho(\\mathbf{x}^\\prime) \\Delta V$\n",
    ">       - and the dipole moment of $\\Delta V$ is $\\mathbf{P}\\left(\\mathbf{x}^\\prime\\right) \\Delta V$.\n",
    ">   * If there are no higher macroscopic multipole moment densities, the potential $\\Delta \\Phi\\left(\\mathbf{x}, \\mathbf{x^\\prime}\\right)$\n",
    ">       - caused by the configuration of moments in $\\Delta V$,\n",
    ">       - provided $\\mathbf{x}$ is outside $\\Delta V$,\n",
    ">       - can be seen from (4.10) to be given without approximation by $$\\Delta \\Phi\\left(\\mathbf{x}, \\mathbf{x^\\prime}\\right) = \\frac{1}{4\\pi\\epsilon_0}\\left[ \\frac{\\rho(\\mathbf{x^\\prime})}{|\\mathbf{x} - \\mathbf{x^\\prime}|}\\Delta V + \\frac{\\mathbf{P}(\\mathbf{x^\\prime}) \\cdot (\\mathbf{x} - \\mathbf{x^\\prime})}{|\\mathbf{x} - \\mathbf{x^\\prime}|^3} \\right] \\Delta V$$\n",
    ">   * We now treat $\\Delta V$ as (macroscopically) infinitesimal, put it equal to $d^3 x^\\prime$, and integrate over all space to obtain the potential $$\\Phi(\\mathbf{x}) = \\frac{1}{4\\pi\\epsilon_0} \\int d^3 x^\\prime \\left[ \\frac{\\rho(\\mathbf{x^\\prime})}{|\\mathbf{x} - \\mathbf{x^\\prime}|} + \\mathbf{P(x^\\prime)} \\cdot \\nabla^\\prime \\left( \\frac{1}{|\\mathbf{x} - \\mathbf{x^\\prime}|} \\right) \\right]$$\n",
    ">       - The second term is analogous to the dipole layer potential (1.25), but is for a volume distribution of dipoles.\n",
    ">   * An integration by parts transforms the potential into $$\\Phi(\\mathbf{x}) = \\frac{1}{4 \\pi \\epsilon_0} \\int d^3 x^\\prime \\frac{1}{|\\mathbf{x} - \\mathbf{x^\\prime}|} \\left[ \\rho(\\mathbf{x^\\prime}) - \\mathbf{\\nabla^\\prime} \\cdot \\mathbf{P(x^\\prime)} \\right]$$\n",
    ">       - This is just the customary expression for the potential caused by a charge distribution $(\\rho - \\mathbf{\\nabla \\cdot P})$.\n",
    ">   * With $\\mathbf{E} = -\\nabla\\Phi$, the first Maxwell equation therefore reads $$\\nabla \\cdot \\mathbf{E} = \\frac{1}{\\epsilon_0} \\left[\\rho - \\mathbf{\\nabla \\cdot P}\\right]$$\n",
    ">       - The presence of the divergence of $\\mathbf{P}$ in the effective charge density can be understood qualitatively. \n",
    ">       - If the polarization is nonuniform, there can be a net increase or decrease of charge, within any small volume\n",
    ">           + as indicated schematically in Fig. 4.2"
   ]
  },
  {
   "cell_type": "markdown",
   "metadata": {},
   "source": [
    "<img src=\"./figs/fig_4-2.png\" width=\"33%\" height=\"33%\">\n",
    "\n",
    ">   **Fig. 4.2 - Origin of polarization-charge density**. Because of spatial variation of polarization, more molecular charge may leave a given small volume than enters it. Only molecules near the boundary are shown. "
   ]
  },
  {
   "cell_type": "markdown",
   "metadata": {},
   "source": [
    "#### Electric Fields in Matter - Dielectric Constant in Isotropic, Uniform, Media"
   ]
  },
  {
   "cell_type": "markdown",
   "metadata": {},
   "source": [
    ">   * As discussed in the Introduction, a _constitutive relation_ connecting $\\mathbf{D}$ and $\\mathbf{E}$ is necessary before a solution for the electrostatic potential or fields can be obtained.\n",
    ">       - In the subsequent sections of this chapter we assume that the response of the system to an applied field is lienar. \n",
    ">       - This excludes ferroelectricity from discussion, but otherwise is no real restriction\n",
    ">           + provided the field strengths do not become extremely large. \n",
    ">   * As a further simplification we suppose that the _medium is isotropic_.\n",
    ">       - Then the induced polarization $\\mathbf{P}$ is parallel to $\\mathbf{E}$\n",
    ">       - with a coefficient of polarity that is independent of direction: $$\\mathbf{P} = \\epsilon_0\\chi_e\\mathbf{E}$$\n",
    ">           + constant $\\chi_e$ is called the _electric susceptibility_ of the medium.\n",
    ">       - the displacement $\\mathbf{D}$ is therefore proportional to $\\mathbf{E}$, $$\\mathbf{D} = \\epsilon \\mathbf{E}$$ where\n",
    ">           + $\\epsilon = \\epsilon_0(1 + \\chi_e)$ is the _electric permittivity_\n",
    ">           + $\\epsilon / \\epsilon_0 = 1 + \\chi_e$ is called the _dielectric constant_ or \"relative electric permittivity\". "
   ]
  },
  {
   "cell_type": "markdown",
   "metadata": {},
   "source": [
    ">   * If the dielectric is not only isotropic, but also uniform,\n",
    ">       - then $\\epsilon$ is independent of position. \n",
    ">       - the divergence equations (4.35) can then be written $$\\mathbf{\\nabla \\cdot E} = \\rho / \\epsilon$$\n",
    ">   * All problems _in that medium_ are reduced to those of preceding chapters\n",
    ">       - except that the electric fields produced by given charges are reduced by a factor $\\epsilon_0 / \\epsilon$. \n",
    ">           + the reduction can be understood in terms of a polarization of the atoms that produce fields, in opposition to that of the given charge. \n",
    ">       - One immediate consequence is that the capacitance of a capacitor is increased by a factor of $\\epsilon / \\epsilon_0$\n",
    ">           + if the empty space between the electrodes is filled with a dielectric, with dielectric constant $\\epsilon / \\epsilon_0$.\n",
    ">           + (true only to the extent that fringing fields can be neglected)"
   ]
  },
  {
   "cell_type": "markdown",
   "metadata": {},
   "source": [
    "#### Electric Fields in Matter - Discontinuities in the Medium"
   ]
  },
  {
   "cell_type": "markdown",
   "metadata": {},
   "source": [
    ">   * If the uniform medium does not fill all of the space where there are electric fields\n",
    ">       - or, more generally, if there are different media juxtaposed, not necessarily linear in their responses,\n",
    ">       - we must consider the question of boundary conditions on $\\mathbf{D}$ and $\\mathbf{E}$ at the interfaces between media. \n",
    ">       - These boundary conditions are derived from the full set of Maxwell equations in Section I.5.\n",
    ">   * The results are that the normal components of $\\mathbf{D}$ and the tangential components of $\\mathbf{E}$ on either side of an interface satisfy the _boundary conditions_\n",
    ">       - valid for time-varying as well as static fields, \n",
    ">           $$\\left.\\begin{aligned}\n",
    ">               (\\mathbf{D_2 - D_1}) \\cdot \\mathbf{n_{21}} &= \\sigma \\\\\n",
    ">               (\\mathbf{E_2 - E_1}) \\times \\mathbf{n_{21}} &= 0\n",
    ">           \\end{aligned}\\right\\rbrace$$\n",
    ">           where \n",
    ">           + $\\mathbf{n_{21}}$ is a unit normal to the surface, directed from region 1 to region 2, and\n",
    ">           + $\\sigma$ is the macroscopic surface-charge density on the boundary surface\n",
    ">               * (_not_ including the polarization charge)"
   ]
  },
  {
   "cell_type": "markdown",
   "metadata": {},
   "source": []
  }
 ],
 "metadata": {
  "kernelspec": {
   "display_name": "phys5311-env",
   "language": "python",
   "name": "python3"
  },
  "language_info": {
   "name": "python",
   "version": "3.13.1"
  }
 },
 "nbformat": 4,
 "nbformat_minor": 2
}
