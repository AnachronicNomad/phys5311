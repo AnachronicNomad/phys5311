{
 "cells": [
  {
   "cell_type": "markdown",
   "metadata": {},
   "source": [
    "### [4.4] Boundary-Value Problems with Dielectrics"
   ]
  },
  {
   "cell_type": "markdown",
   "metadata": {},
   "source": [
    ">.\n",
    ">\n",
    ">   * The methods of earlier chapters for the solution of electrostatic boundary-value problems can readily be extended to handle the presence of dielectrics.\n",
    ">   * In this section, we treat a few examples of the various techniques applied to dielectric media.\n",
    ">\n",
    ">."
   ]
  },
  {
   "cell_type": "markdown",
   "metadata": {},
   "source": [
    "#### Method of Images for Dielectrics"
   ]
  },
  {
   "cell_type": "markdown",
   "metadata": {},
   "source": [
    ">.\n",
    ">\n",
    ">   * To illustrate the method of images for dielectrics,\n",
    ">       - we consider a point charge $q$ \n",
    ">           + embedded in a semi-infinite dielectric $\\epsilon_1$,\n",
    ">           + a distance $d$ away from a plane interface, that separates the first medium from another semi-infinite dielectric $\\epsilon_2$. \n",
    ">           + The surface may be taken as the plane $z=0$, as shown in Fig 4.3\n",
    ">\n",
    ">   **Figure 4.3**\n",
    ">\n",
    "> <img src=\"./figs/fig_4.3.png\" width=\"33%\" height=\"33%\">"
   ]
  },
  {
   "cell_type": "markdown",
   "metadata": {},
   "source": [
    ">.\n",
    ">\n",
    ">   * We must find the appropriate solution to the equations:\n",
    ">       $$\\begin{aligned}\n",
    ">           \\epsilon_1 \\nabla \\cdot \\mathbf{E} &= \\rho,&\\qquad z>0 \\\\\n",
    ">           \\epsilon_2 \\nabla \\cdot \\mathbf{E} &= 0,&\\qquad z < 0 \\\\\n",
    "            \\textrm{and} \\qquad \\qquad & & \\\\\n",
    "            \\nabla \\times \\mathbf{E} &= 0,&\\qquad \\textrm{everywhere}\n",
    ">       \\end{aligned}$$\n",
    ">       subject to the boundary conditions at $z=0$:\n",
    ">       $$\\lim_{z \\rightarrow 0^+} \\begin{Bmatrix} \\epsilon_1 E_z \\\\ E_x \\\\ E_y \\end{Bmatrix} = \\lim_{z\\rightarrow0^-} \\begin{Bmatrix} \\epsilon_2 E_z \\\\ E_x \\\\ E_y \\end{Bmatrix}$$\n",
    ">       - Since $\\nabla \\times \\mathbf{E} = 0$ everywhere, $\\mathbf{E}$ is derivable in the usual way, from a potential, $\\mathbf{E} = - \\nabla \\Phi$.\n",
    ">           + <<TODO: Laplace's equation, \"See Section Cref ??\">>\n",
    ">\n",
    ">   * In attempting to use the image method, it is natural to locate an image charge $q^\\prime$ at the symmetrical position $A^\\prime$ shown in Fig. 4.4.\n",
    ">       - Then for $z > 0$, the potential at a point $P$ described by cylindrical coordinates $(\\rho, \\phi, z)$ will be $$\\Phi = \\frac{1}{4\\pi\\epsilon_1} \\left( \\frac{q}{R_1} + \\frac{q^\\prime}{R_2} \\right), \\qquad z > 0$$ where:\n",
    ">           + $R_1 = \\sqrt{\\rho^2 + (d-z)^2}$,\n",
    ">           + $R_2 = \\sqrt{\\rho^2 + (d+z)^2}$.\n",
    ">\n",
    ">   * So far, the procedure is completely analogous to the problem with a conducting material, in place of the dielectric $\\epsilon_2$ for $z < 0$.\n",
    ">       - But now we must specify the potential for $z < 0$.\n",
    ">       - Since there are no charges in the region $z < 0$, it must be a solution of the Laplace equation without singularities in that region. \n",
    ">       - The simplest assumption is that for $z < 0$, the potential is equivalent to that of a charge $q^{\\prime\\prime}$ at the position $A$ of the actual charge $q$:\n",
    ">           $$\\Phi = \\frac{1}{4\\pi\\epsilon_2} \\frac{q^{\\prime\\prime}}{R_1}, \\qquad z < 0$$\n",
    ">\n",
    "> **Figure 4.4**\n",
    ">\n",
    ">   <img src=\"./figs/fig_4.4.png\" width=\"33%\" height=\"33%\">"
   ]
  },
  {
   "cell_type": "markdown",
   "metadata": {},
   "source": [
    ">.\n",
    ">\n",
    ">   * Since \n",
    ">       $$\\left. \\frac{\\partial}{\\partial z} \\left(\\frac{1}{R_1}\\right) \\right\\rvert_{z=0} = \\left. -\\frac{\\partial}{\\partial z} \\left( \\frac{1}{R_2} \\right) \\right\\rvert_{z=0} = \\frac{d}{(\\rho^2 + d^2)^{3/2}}$$\n",
    ">       while \n",
    ">       $$\\left. \\frac{\\partial}{\\partial \\rho} \\left( \\frac{1}{R_1} \\right) \\right\\rvert_{z=0} = \\left. \\frac{\\partial}{\\partial \\rho} \\left( \\frac{1}{R_2} \\right) \\right\\rvert_{z=0} = \\frac{-\\rho}{(\\rho^2 + d^2)^{3/2}}$$\n",
    ">       the boundary conditions (4.42) lead to the requirements:\n",
    ">       $$\\begin{align*}\n",
    ">           q - q^\\prime &= q^{\\prime\\prime} \\\\\n",
    ">           \\frac{1}{\\epsilon_1}(q + q^\\prime) &= \\frac{1}{\\epsilon_2} q^{\\prime\\prime}\n",
    ">       \\end{align*}$$\n",
    ">   * These can be solved to yield the image charges $q^\\prime$ and $q^{\\prime\\prime}$:\n",
    ">       $$\\begin{align*}\n",
    ">           q^\\prime &= -\\left( \\frac{\\epsilon_2 - \\epsilon_1}{\\epsilon_2 + \\epsilon_q} \\right) q \\\\\n",
    ">           q^{\\prime\\prime} &= \\left( \\frac{2 \\epsilon_2}{\\epsilon_2 + \\epsilon_1} \\right) q\n",
    ">       \\end{align*}$$\n",
    ">   * For the two cases $\\epsilon_2 > \\epsilon_1$ and $\\epsilon_2 < \\epsilon_1$, the lines of force (actually lines of $\\mathbf{D}$) are shown qualitatively in Fig. 4.5.\n",
    ">\n",
    "> <center><img src=\"./figs/fig_4.5.png\" width=\"66%\" height=\"66%\" class=\"center\"></center>\n",
    ">\n",
    "> **Figure 4.5** - Lines of electric displacement for a point charge embedded in a dielectric $\\mathbf{\\epsilon_1}$ near a semi-infinite slab of dielectric $\\mathbf{\\epsilon_2}$.\n",
    ">\n",
    ">."
   ]
  },
  {
   "cell_type": "markdown",
   "metadata": {},
   "source": [
    ">.\n",
    ">\n",
    ">   * The polarization-charge density is given by $-\\nabla \\cdot \\mathbf{P}$.\n",
    ">       - Inside either dielectric, $\\mathbf{P} = \\epsilon_0 \\chi_e \\mathbf{E}$,\n",
    ">           + so that $-\\nabla \\cdot \\mathbf{P} = \\epsilon_0 \\chi_e \\nabla \\cdot \\mathbf{E} = 0$\n",
    ">           + except at the point charge $q$.\n",
    ">       - At the surface, however, $\\chi_e$ takes a discontinuous jump,\n",
    ">           + $\\nabla \\chi_e = (\\epsilon_1 - \\epsilon_2) / \\epsilon_0$ as $z$ passes through $z=0$.\n",
    ">           + This implies that there is a polarization-surface-charge density on the plane $z = 0$:\n",
    ">               $$\\sigma_{\\textrm{pol}} = - (\\mathbf{P_2} - \\mathbf{P_1}) \\cdot \\mathbf{n}_{21}$$\n",
    ">               where\n",
    ">               * $\\mathbf{n}_{21}$ is the unit normal from dieletric 1 to dielectric 2, and\n",
    ">               * $\\mathbf{P}_i$ is the polarization in dielectric $i$ at $z=0$.\n",
    ">   * Since $$\\mathbf{P}_i = (\\epsilon_i - \\epsilon_0) \\mathbf{E}_i = -(\\epsilon_i - \\epsilon_0) \\nabla \\Phi (0^\\pm)$$\n",
    ">       - it can be shown that the polarization-charge density is \n",
    ">           $$\\sigma_{\\textrm{pol}} = -\\frac{q}{2\\pi} \\frac{\\epsilon_0(\\epsilon_2 - \\epsilon_1)}{\\epsilon_1(\\epsilon_2 + \\epsilon_1)} \\frac{d}{(\\rho^2 + d^2)^{3/2}}$$\n",
    ">   * In the limit $\\epsilon_2 \\gg \\epsilon_1$, the dielectric $\\epsilon_2$ behaves much like a conductor\n",
    ">       - in that the electric field inside it becomes very small,\n",
    ">       - and the surface-charge density (4.47) approaches the value appropriate to a conducting surface, apart from a factor of $\\epsilon_0 / \\epsilon_1$\n",
    "> \n",
    ">."
   ]
  },
  {
   "cell_type": "markdown",
   "metadata": {},
   "source": [
    "#### Dielectric Sphere in a Uniform Field"
   ]
  },
  {
   "cell_type": "markdown",
   "metadata": {},
   "source": [
    ">.\n",
    ">\n",
    "> <center><img src=\"./figs/fig_4.6.png\" width=\"66%\" height=\"66%\"></center>\n",
    ">\n",
    ">."
   ]
  },
  {
   "cell_type": "markdown",
   "metadata": {},
   "source": [
    ">.\n",
    ">\n",
    ">   * The second illustration of electrostatic problems involving dielectrics is that of a dielectric sphere\n",
    ">       - of radius $a$,\n",
    ">       - with dielectric constant $\\epsilon / \\epsilon_0$,\n",
    ">       - placed in an initially uniform electric field, \n",
    ">           + which at large distances from the sphere,\n",
    ">               * is directed along the $z$-axis\n",
    ">               * and has magnitude $E_0$\n",
    ">       - as indicated in Fig. 4.6\n",
    ">\n",
    ">   * Both inside and outside the sphere there are no free charges.\n",
    ">       - Consequently, the problem is one of solving the Laplace equation with the proper boundary conditions, at $r=a$. \n",
    ">\n",
    ">   * From the axial symmetry of the geometry, we can take the solution to be of the form:\n",
    ">\n",
    ">       $\\textrm{INSIDE}$:\n",
    ">       $$\\Phi_{\\textrm{in}} = \\sum_{l=0}^{\\infty} A_l r^l P_l (\\cos \\theta)$$\n",
    ">\n",
    ">       $\\textrm{OUTSIDE}$:\n",
    ">       $$\\Phi_\\textrm{out} = \\sum_{l=0}^\\infty \\left[ B_l r^l + C_l r^{-(l+1)} \\right] P_l (\\cos \\theta)$$\n",
    ">\n",
    ">   * From the boundary condition at infinity ($\\Phi \\rightarrow - E_0 z = -E_0 r \\cos \\theta$), we find that the only nonvanishing $B_l$ is $B_1 = -E_0$. \n",
    ">       - The other coefficients are determined from the boundary conditions at $r=a$:\n",
    ">           \n",
    ">           $\\textrm{TANGENTIAL } E$:\n",
    ">           $$\\left. -\\frac{1}{a} \\frac{\\partial \\Phi_\\textrm{in}}{\\partial \\theta} \\right\\rvert_{r=a} = \\left. -\\frac{1}{a} \\frac{\\partial \\Phi_\\textrm{out}}{\\partial \\theta} \\right\\rvert_{r=a}$$\n",
    ">           $\\textrm{NORMAL } D$:\n",
    ">           $$\\left. -\\epsilon \\frac{\\Phi_\\textrm{in}}{\\partial r} \\right\\rvert_{r=a} = \\left. -\\epsilon_0 \\frac{\\partial_\\textrm{out}}{\\partial \\theta} \\right\\rvert{r=a}$$\n",
    ">\n",
    ">   * When the series (4.48) and (4.49) are substituted, there resulting two series of Legendre functions equal to zero.\n",
    ">       - Since these must vanish for all $\\theta$, the coefficient of each Legendre function must vanish separately.\n",
    ">       - For the first boundary condition this leads to the relations (through orthogonality of $P^1_l = \\partial P_l / \\partial \\theta$):\n",
    ">           $$\\begin{aligned}\n",
    ">               A_1 &= -E_0 + \\frac{C_1}{a^3} \\\\\n",
    ">               A_l &= \\frac{C_l}{a^{2l+1}} \\qquad \\textrm{for } l \\ne 1\n",
    ">           \\end{aligned}$$\n",
    ">\n",
    ">       - while the second gives (through orthogonality of $P_l$):\n",
    ">           $$\\begin{aligned}\n",
    ">               (\\epsilon / \\epsilon_0) A_1 &= -E_0 - 2 \\frac{C_1}{a^3} \\\\\n",
    ">               (\\epsilon/\\epsilon_0) l A_l &= -(l+1) \\frac{C_1}{a^{2l+1}}\n",
    ">           \\end{aligned}$$\n",
    ">\n",
    ">   * The second equations in (4.51) and (4.52) can be satisfied simultaneously only with $A_l = C_l = 0$ for all $l \\ne 1$.\n",
    ">       - The remaining coefficients are given in terms of the applied electric field $E_0$:\n",
    ">           $$\\begin{aligned}\n",
    ">               A_1 &= -\\left( \\frac{3}{2 + \\epsilon/\\epsilon_0} \\right) E_0 \\\\\n",
    ">               C_2 &= \\left( \\frac{\\epsilon/\\epsilon_0 - 1}{\\epsilon/\\epsilon_0 + 2} \\right) a^3 E_0\n",
    ">           \\end{aligned}$$\n",
    ">   * The potential is therefore \n",
    ">       $$\\begin{aligned}\n",
    ">           \\Phi_\\textrm{in} &= -\\left( \\frac{3}{\\epsilon / \\epsilon_0 + 2} \\right) E_0 r \\cos \\theta \\\\\n",
    ">           \\Phi_\\textrm{out} &= -E_0 r \\cos \\theta + \\left( \\frac{\\epsilon/\\epsilon_0 - 1}{\\epsilon/\\epsilon_0 + 2} \\right) E_0 \\frac{a^3}{r^2} \\cos \\theta\n",
    ">       \\end{aligned}$$\n",
    ">\n",
    ">."
   ]
  },
  {
   "cell_type": "markdown",
   "metadata": {},
   "source": [
    ">.\n",
    ">\n",
    ">   * The potential inside the sphere describes a constant electric field, parallel to the applied field with magnitude \n",
    ">       $$\\begin{aligned}\n",
    ">           E_\\textrm{in} &= \\frac{3}{\\epsilon/\\epsilon_0 + 2} E_0 \\\\ \n",
    ">           \\\\\n",
    ">           E_\\textrm{in} &< E_0 \\quad \\textrm{if} \\quad \\epsilon > \\epsilon_0\n",
    ">       \\end{aligned}$$\n",
    ">   * Outside the sphere, the potential is equivalent to the applied field $E_0$,\n",
    ">       - plus the field of an electric dipole at the origin\n",
    ">       - with dipole moment $$p = 4\\pi\\epsilon_0 \\left( \\frac{\\epsilon/\\epsilon_0 - 1}{\\epsilon/\\epsilon_0 + 2}\\right) a^3 E_0$$ oriented in the direction of the applied field.\n",
    ">   * The dipole moment can be interpreted as the volume integral of the polarization $\\mathbf{P}$.\n",
    ">       - The polarization is $$\\mathbf{P} = (\\epsilon - \\epsilon_0) \\mathbf{E} = 3 \\epsilon_0 \\left( \\frac{\\epsilon/\\epsilon_0 - 1}{\\epsilon / \\epsilon_0 + 2} \\right) \\mathbf{E}_0$$\n",
    ">       - It is constant throughout the volume of the sphere and has a volume integral given by (4.56).\n",
    ">   * The polarization-surface-charge density is, according to (4.46), $\\sigma_\\textrm{pol} = (\\mathbf{P} \\cdot \\mathbf{r}) / r$:\n",
    ">       $$\\sigma_\\textrm{pol} = 3 \\epsilon_0 \\left( \\frac{\\epsilon/\\epsilon_0 - 1}{\\epsilon/\\epsilon_0 + 2} \\right) \\mathbf{E}_0 \\cos \\theta$$\n",
    ">       - This can be thought of as producing an internal field directed oppositely to the applied field,\n",
    ">       - so reducing the field inside the sphere to its value (4.55), as sketched in Fig. 4.7.\n",
    ">\n",
    "> <center><img src=\"./figs/fig_4-7.png\" width=\"66%\" height=\"66%\"></center>\n",
    ">\n",
    ">   **Figure 4.7 - Dielectric sphere in a uniform field $E_0$**, showing the polarization on the left and the polarization charge, with its associated, opposing, electric field on the right. \n",
    ">\n",
    ">."
   ]
  },
  {
   "cell_type": "markdown",
   "metadata": {},
   "source": [
    "#### Spherical Cavity in a Dielectric Medium"
   ]
  },
  {
   "cell_type": "markdown",
   "metadata": {},
   "source": [
    ">.\n",
    ">   * The problem of a spherical cavity of radius $a$ in a dielectric medium\n",
    ">       - with dielectric constant $\\epsilon/\\epsilon_0$ \n",
    ">       - and with an applied electric field $E_0$ parallel to the $z$-axis\n",
    ">           + as shown in Fig. 4.8\n",
    ">       - can be handled in exactly the same way as the dielectric sphere.\n",
    ">\n",
    ">   * In fact, inspection of the boundary conditions (4.50) shows that the results for the cavity, can be obtained from those of the sphere,\n",
    ">       - by the replacement $\\epsilon / \\epsilon_0 \\rightarrow (\\epsilon_0 / \\epsilon)$\n",
    ">       - Thus, for example, the field inside the cavity is uniform, parallel to $\\mathbf{E_0}$, and of magnitude \n",
    ">           $$\\begin{aligned}\n",
    ">               E_\\textrm{in} &= \\frac{3\\epsilon}{2\\epsilon + \\epsilon_0} E_0 \\\\\n",
    ">               \\\\\n",
    ">               E_\\textrm{in} &< E_0 \\quad \\textrm{if} \\quad \\epsilon > \\epsilon_0\n",
    ">           \\end{aligned}$$\n",
    ">\n",
    ">   * Similarly, the field outside is the applied field, plus that of a dipole at the origin _oriented oppositely_ to the applied field,\n",
    ">       - and with dipole moment $$p = 4 \\pi \\epsilon_0 \\left( \\frac{\\epsilon/\\epsilon_0 - 1}{2\\epsilon/\\epsilon_0 + 1} \\right) a^3 E_0$$\n",
    ">\n",
    ">."
   ]
  }
 ],
 "metadata": {
  "kernelspec": {
   "display_name": "phys5311-env",
   "language": "python",
   "name": "python3"
  },
  "language_info": {
   "name": "python",
   "version": "3.13.1"
  }
 },
 "nbformat": 4,
 "nbformat_minor": 2
}
