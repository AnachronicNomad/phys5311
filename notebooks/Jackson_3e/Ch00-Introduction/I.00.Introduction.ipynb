{
 "cells": [
  {
   "cell_type": "markdown",
   "metadata": {},
   "source": [
    "# [I.00] - Introduction"
   ]
  },
  {
   "cell_type": "markdown",
   "metadata": {},
   "source": [
    "> Although amber and lodestone were known to the ancient Greeks, electrodynamics developed as a quantitative subject in less than a hundred years. \n",
    ">   * Cavendish's remarkable experiments in electrostatics were done from 1771 to 1773.  Coulomb's monumental researches began to be published in 1785. \n",
    ">       - This marked the beginning of quantitative research in electricity and magnetism on a worldwide scale. \n",
    ">   * Fifty years later, Faraday was studying the effects of time-varying currents and magnetic fields. \n",
    ">       - By 1864, Maxwell had published his famous paper on a dynamical theory of the electromagnetic field. \n",
    ">   * Twenty-four years later (1888) Hertz published his discovery of transverse electromagnetic waves, which propagated at the same speed as light, and placed Maxwell's theory on a firm experimental footing. "
   ]
  },
  {
   "cell_type": "markdown",
   "metadata": {},
   "source": [
    "> * For a detailed account of the fascinating history, the reader should consult the authoritative volumes by _Whittaker_ $^\\dagger$.  A briefer account, with emphasis on optical phenomena, appears at the beginning of _Born and Wolf_. \n",
    ">\n",
    "> * $\\dagger$ Italicized surnamed denote books that are cited fully in the Bibliography. "
   ]
  },
  {
   "cell_type": "markdown",
   "metadata": {},
   "source": [
    "> * Since the 1960s there has been a true revolution in our understanding of the basic forces and constituents of matter.  \n",
    "> * Now, (1990s) classical electrodynamics rests in a sector of the unified description of particles and interactions known as the _standard model_.  \n",
    "> * The standard model gives a coherent quantum-mechanical description of electromagnetic, weak, and strong interactions based on fundamental constituents -- \n",
    ">   - quarks and leptons -- interacting via force carriers, \n",
    ">   - photons, \n",
    ">   - W and Z bosons, and \n",
    ">   - gluons.  \n",
    "> \n",
    "> * The unified theoretical framework in generated through principles of continuous gauge (really, _phase_) invariance of the forces and discrete symmetries of particle properties. "
   ]
  },
  {
   "cell_type": "markdown",
   "metadata": {},
   "source": [
    "> * From the point of view of the standard model, classical electrodynamics is a limit of quantum electrodynamics\n",
    ">   - for small momentum and energy transfers, and \n",
    ">   - and large average numbers of virtual or real photons.\n",
    "> * Quantum electrodynamics, in turn, is a consequence of a spontaneously broken symmetry in a theory in which initially, the weak and electromagnetic interactions are unified and the force carriers of both are massless. \n",
    ">   - The symmetry breaking leaves the electromagnetic force carrier (photon) massless with a Coulomb's law of infinite range,\n",
    ">   - while the weak force carriers acquire masses of the order $80$-$90$ $\\mathrm{GeV}/c^2$.\n",
    ">   - with a weak interaction at low energies of extremely short range ($2 \\times 10^{-18}$ meter).\n",
    "> * Because of the origins in a unified theory, the range and strength of the weak interaction are related to the electromagnetic coupling \n",
    ">   - (the fine structure constant, $\\alpha \\approx 1/137$)"
   ]
  },
  {
   "cell_type": "markdown",
   "metadata": {},
   "source": [
    "> * Despite the presence of a rather large number of quantities that must be taken from experiment, the Standard Model (together with general relativity at large scales) provides a highly accurate description of nature in all its aspects,\n",
    ">   - from far inside the nucleus, to tables and chairs, to the most remote galaxy.\n",
    "> * Many of the phenomena are classical or explicable with nonrelativistic quantum mechanics, of course, \n",
    ">   - but, the precision of the agreement of the standard model with experiment, in atomic and particle physics (where relativistic quantum mechanics rules), is truly astounding.\n",
    "> * Classical mechanics and classical electrodynamics served as progenitors of our current understanding, and still play important roles in practical life and at the research frontier. "
   ]
  },
  {
   "cell_type": "markdown",
   "metadata": {},
   "source": [
    "> * This book is self-contained in that, though some mathematical background (vector calculus, differential equations) is assumed, the subject of electrodynamics is developed from its beginnings in electrostatics.\n",
    "> * Most readers are not coming to the subject for the first time, however. The purpose of this introduction is therefore not to set the state for a discussion of Coulomb's law and other basics, but rather to present a review and a survey of classical electromagnetism. \n",
    ">   * Questions such as \n",
    ">       - the current accuracy of the inverse square law of force (mass of the photon),\n",
    ">       - the limits of validity of the principle of linear superposition, \n",
    ">       - and the effects of discreteness of charge and of energy density\n",
    ">\n",
    ">       are discussed. \n",
    ">\n",
    ">   * \"Bread and butter\" topics such as\n",
    ">       - the boundary conditions for macroscopic fields at surfaces between different media, \n",
    ">       - and at conductors,\n",
    ">\n",
    ">       are also treated."
   ]
  },
  {
   "cell_type": "markdown",
   "metadata": {},
   "source": [
    ">   * The aim is to set classical electromagnetism in context, to indicate its domain of validity, and to elucidate some of the idealizations that it contains. \n",
    ">   * Some results from later in the book and some nonclassical ideas are used in the course of the discussion.\n",
    ">   * Certainly a reader beginning electromagnetism for the first time will not follow all the arguments or see their significance. \n",
    ">       - For others, however, this introduction will serve as a springboard into the later parts of the book, beyond Chapter 5, and will remind them of how the subject stands as an experimental science. "
   ]
  },
  {
   "cell_type": "markdown",
   "metadata": {},
   "source": []
  }
 ],
 "metadata": {
  "language_info": {
   "name": "python"
  }
 },
 "nbformat": 4,
 "nbformat_minor": 2
}
