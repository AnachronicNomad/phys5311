{
 "cells": [
  {
   "cell_type": "markdown",
   "metadata": {},
   "source": [
    "### [I.2] Inverse Square Law, or, the Mass of the Photon"
   ]
  },
  {
   "cell_type": "markdown",
   "metadata": {},
   "source": [
    ">   * The distance dependence of the electrostatic law of force was shown quantitatively by Cavendish and Coulomb to be an inverse square law.\n",
    ">       - Through Gauss's law and the divergence theorem (see Sections 1.3 and 1.4), this leads to the first of the Maxwell Equations (I.1b).\n",
    ">       - The original experiments had an accuracy of only a few percent and, furthermore, were at a laboratory length scale.\n",
    ">   * Experiments at higher precision and involving different regimes of size have been performed over the years, it is now customary to quote the tests of the inverse square law in one of two ways:\n",
    ">       1. Assume that the force varies as $1/r^{2+\\epsilon}$ and quote a value or limit for $\\epsilon$.\n",
    ">       2. Assume that the electrostatic potential has the \"Yukawa\" form $r^{-1}e^{-\\mu r}$ (see Section 12.8), and quote a value or limit for $\\mu$ or $\\mu^{-1}$\n",
    ">           - Since $\\mu = m_\\gamma c / \\hbar$, where $m_\\gamma$ is the assumed mass of the photon, the test of the inverse square law is sometimes phrased in terms of an upper limit on $m_\\gamma$.\n",
    ">           - Laboratory experiments usually give $\\epsilon$ and perhaps $\\mu$ or $m_\\gamma$; geomagnetic experiments give $\\mu$ or $m_\\gamma$"
   ]
  },
  {
   "cell_type": "markdown",
   "metadata": {},
   "source": [
    "[[ FIG I.1 HERE ]]"
   ]
  },
  {
   "cell_type": "markdown",
   "metadata": {},
   "source": [
    ">   * The original experiment with concentric spheres by Cavendish $^\\dagger$ in 1772 gave an upper limit on $\\epsilon$ of $|\\epsilon| \\leq 0.02$.\n",
    ">       - His apparatus is shown in Fig. I.1.\n",
    ">       - About 100 years later Maxwell performed a very similar experiment at Cambridge $^\\ddagger$ and set an upper limit of $|\\epsilon| \\leq 5 \\times 10^{-5}$.\n",
    ">       - Two other noteworthy laboratory experiments based on Gauss's law are those of Plimpton and Lawton $^{\\dag \\dag}$, which gave $|\\epsilon| < 2 \\times 10^{-9}$, and the recent one of Williams, Faller, and Hill $^{\\ddag \\ddag}$.\n",
    ">   * A schematic drawing of the apparatus of the latter experiment is shown in Fig. I.2.\n",
    ">       - Though not a static experiment ($\\nu = 4 \\times 10^6 \\textrm{Hz}$), the basic idea is almost the same as Cavendish's.\n",
    ">           + He looked for a charge on the inner sphere after it had been brought into electrical contact with the charged outer sphere and then disconnected; he found none. \n",
    ">       - Williams, Faller, and Hill looked for a voltage difference between two concentric shells when the outer one was subjected to an alternating voltage of $\\pm 10 \\textrm{kV}$ with respect to ground. \n",
    ">           + Their sensitivity was such that a voltage difference of less than $10^{-12}$ could have been detected.\n",
    ">       - Their null result, when interpreted by means of the Proca equations (Section 12.8), gives a limit of $\\epsilon = (2.7 \\pm 3.1) \\times 10^{16}$\n",
    "> ***\n",
    ">   * $\\dag$ H. Cavendish, _Electrical Researches_, ed. J. C. Maxwell, Cambridge University Press, Cambridge (1879), pp. 104-133.\n",
    ">   * $\\ddag$ _Ibid_., see note 19.\n",
    ">   * $\\dag \\dag$ S.J. Plimpton and W.E. Lawton, _Phys. Rev._ **50**, 1066 (1936).\n",
    ">   * $\\ddag \\ddag$ E.R. Williams, J.E. Fuller, and H.A. Hill, _Phys. Rev. Lett._ **26**, 721 (1971)."
   ]
  },
  {
   "cell_type": "markdown",
   "metadata": {},
   "source": [
    ">   * Measurements of the earth's magnetic field, both on the surface, and out from the surface by satellite observation, permit the best direct limits to be set on $\\epsilon$, or equivalently, the photon mass $m_\\gamma$.\n",
    ">       - The geophysical and laboratory observations are discussed in the reviews by Kobzarev and Okun', and by Goldhaber and Nieto, listed at the end of this introduction.\n",
    ">   * The surface measurements of the earth's magnetic field give a slightly better value (see Problem 12.15), namely \n",
    ">       $$\\begin{align*}\n",
    ">           m_\\gamma &< 4 \\times 10^{-51}\\ \\textrm{kg} \\\\\n",
    ">           &\\Leftrightarrow \\\\\n",
    ">           \\mu^{-1} &> 10^8\\ \\textrm{m}\n",
    ">        \\end{align*}$$\n",
    ">       - For comparison, the electron mass is $m_e = 9.11 \\times 10^{-31}\\ \\textrm{kg}$.\n",
    ">       - The laboratory experiment of Williams, Faller, and Hill can be interpreted as setting a limit $m_\\gamma < 1.6 \\times 10^{-50}\\ \\textrm{kg}$, only a factor of 4 poorer than the geomagnetic limit."
   ]
  },
  {
   "cell_type": "markdown",
   "metadata": {},
   "source": [
    "[[ FIG I.2 HERE ]]"
   ]
  },
  {
   "cell_type": "markdown",
   "metadata": {},
   "source": [
    ">   * A _rough_ limit on the photon mass can be set quite easily by noting the existence of very low frequency modes in the earth-ionosphere resonant cavity.\n",
    ">       - Schumann resonances, discussed in Section 8.9\n",
    ">           + The double Einstein relation, $h \\nu = m_\\gamma c^2$, suggests that the photon mass must satisfy an inequality, $m_\\gamma < h \\nu_0 / c^2$, where $\\nu_0$ is any electromagnetic resonant frequency.\n",
    ">           + The lowest Schumann resonance has $\\nu_0 \\approx 8 \\textrm{Hz}$. \n",
    ">       - From this we calculate $m_\\gamma < 6 \\times 10^{-50}\\ \\textrm{kg}$, a very small value only one order of magnitude above the best limit. \n",
    ">       - While this argument has crude validity, more careful consideration (see Section 12.8 and the references given there) shows that the limit is roughly $(R/H)^{1/2}$ \\approx 10$ times larger,\n",
    ">           + $R \\approx 6400\\ \\textrm{km}$ being the radius of the earth, and\n",
    ">           + $H \\approx 60\\ \\textrm{km}$ being the height of the ionosphere $^\\dag$.\n",
    ">       - In spite of this dilution factor, the limit of $10^{-48}\\ \\textrm{kg}$ set by the mere existence of Schumann resonances is quite respectable. \n",
    "> ***\n",
    ">   * $\\dag$ The basic point is that, to the extent that $H/R$ is negligible, the extremely low frequency (ELF) propagation is the same as in a parallel plate transmission line in the fundamental TEM mode. This propagation is unaffected by a finite photon mass, except through changes in the static capacitance and inductance per unit length. Explicit photon mass effects occur in order $\\left( H / R \\right) \\mu^2$."
   ]
  },
  {
   "cell_type": "markdown",
   "metadata": {},
   "source": [
    ">   * The laboratory and geophysical tests show that on length scales of order $10^{-2}$ to $10^7\\ \\textrm{m}$, the inverse square law holds with extreme precision.\n",
    ">   * At smaller distances we must turn to less direct evidence, often involving additional assumptions.\n",
    ">       - For example, Rutherford's historical analysis of the scattering of alpha particles by thin foils substantiates the Coulomb law of force down to distances on the order of $10^{-13}\\ \\textrm{m}$,\n",
    ">           + provided the alpha particle and he nucleus can be treated as classical point charges interacting statically and the charge cloud of the electrons can be ignored.\n",
    ">       - All these assumptions can be, and have been, tested of course, but only within the framework of the validity of quantum mechanics, linear superposition (see below), and other (very reasonable) assumptions.\n",
    ">   * At still smaller distances, relativistic quantum mechanics is necessary, and strong interaction effects enter to obscure the questions as well as the answers. \n",
    ">       - Nevertheless, elastic scattering experiments with positive and negative electrons at center-of-mass energies of up to 100 GeV have shown that quantum electrodynamics (the relativistic theory of point electrons interacting with massless photons) holds to distances of the order of $10^{-18}m$. \n",
    ">   * We conclude that the photon mass can be taken to be zero (the inverse square force law holds) over the whole classical range of distances, and deep into the quantum domain as well.\n",
    ">   * The inverse square law is known to hold over at least 25 orders of magnitude in the length scale!"
   ]
  }
 ],
 "metadata": {
  "language_info": {
   "name": "python"
  }
 },
 "nbformat": 4,
 "nbformat_minor": 2
}
