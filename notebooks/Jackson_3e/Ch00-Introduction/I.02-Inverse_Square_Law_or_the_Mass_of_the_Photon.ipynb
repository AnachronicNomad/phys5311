{
 "cells": [
  {
   "cell_type": "markdown",
   "metadata": {},
   "source": [
    "### [I.2] Inverse Square Law, or, the Mass of the Photon"
   ]
  },
  {
   "cell_type": "markdown",
   "metadata": {},
   "source": [
    ">   * The distance dependence of the electrostatic law of force was shown quantitatively by Cavendish and Coulomb to be an inverse square law.\n",
    ">       - Through Gauss's law and the divergence theorem (see Sections 1.3 and 1.4), this leads to the first of the Maxwell Equations (I.1b).\n",
    ">       - The original experiments had an accuracy of only a few percent and, furthermore, were at a laboratory length scale.\n",
    ">   * Experiments at higher precision and involving different regimes of size have been performed over the years, it is now customary to quote the tests of the inverse square law in one of two ways:\n",
    ">       1. Assume that the force varies as $1/r^{2+\\epsilon}$ and quote a value or limit for $\\epsilon$.\n",
    ">       2. Assume that the electrostatic potential has the \"Yukawa\" form $r^{-1}e^{-\\mu r}$ (see Section 12.8), and quote a value or limit for $\\mu$ or $\\mu^{-1}$\n",
    ">           - Since $\\mu = m_\\gamma c / \\hbar$, where $m_\\gamma$ is the assumed mass of the photon, the test of the inverse square law is sometimes phrased in terms of an upper limit on $m_\\gamma$.\n",
    ">           - Laboratory experiments usually give $\\epsilon$ and perhaps $\\mu$ or $m_\\gamma$; geomagnetic experiments give $\\mu$ or $m_\\gamma$"
   ]
  },
  {
   "cell_type": "markdown",
   "metadata": {},
   "source": []
  }
 ],
 "metadata": {
  "language_info": {
   "name": "python"
  }
 },
 "nbformat": 4,
 "nbformat_minor": 2
}
