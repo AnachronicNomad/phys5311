{
 "cells": [
  {
   "cell_type": "markdown",
   "metadata": {},
   "source": [
    "### [I.01] Maxwell Equations in Vacuum, Fields, and Sources"
   ]
  },
  {
   "cell_type": "markdown",
   "metadata": {},
   "source": [
    "> * The differential equations governing electromagnetic phenomena are the Maxwell Equations:\n",
    ">\n",
    ">   $$\\begin{align*} \n",
    ">   \\nabla \\cdot \\mathbf{D} &= \\rho & \\qquad & \\textrm{Gauss's Law for Electrostatics} \\\\\n",
    ">   \\nabla \\times \\mathbf{H} - \\frac{\\partial \\mathbf{D}}{\\partial t} &= \\mathbf{J} & \\qquad & \\textrm{Ampère-Maxwell Law} \\\\\n",
    ">   \\nabla \\times \\mathbf{E} + \\frac{\\partial \\mathbf{B}}{\\partial t} &= 0 & \\qquad & \\textrm{Faraday's Law of Induction} \\\\\n",
    ">   \\nabla \\cdot \\mathbf{B} &= \\rho & \\qquad & \\textrm{Gauss's Law for Magnetism} \\\\\n",
    ">   \\end{align*}$$ "
   ]
  },
  {
   "cell_type": "markdown",
   "metadata": {},
   "source": [
    "> * Where for external sources in vacuum, equations then become\n",
    ">   $$\\begin{align*} \n",
    ">   \\nabla \\cdot \\mathbf{E} &= \\rho / \\mathbf{\\epsilon}_0 & \\qquad & \\textrm{Gauss's Law for Electrostatics} \\\\\n",
    ">   \\nabla \\times \\mathbf{B} - \\frac{\\partial \\mathbf{E}}{c^2 \\partial t} &= \\mathbf{\\mathbf{\\mu_0} J} & \\qquad & \\textrm{Ampère-Maxwell Law} \\\\\n",
    ">   \\nabla \\times \\mathbf{E} + \\frac{\\partial \\mathbf{B}}{\\partial t} &= 0 & \\qquad & \\textrm{Faraday's Law of Induction} \\\\\n",
    ">   \\nabla \\cdot \\mathbf{B} &= \\rho & \\qquad & \\textrm{Gauss's Law for Magnetism} \\\\\n",
    ">   \\end{align*}$$ \n",
    ">   - where\n",
    ">       + $\\mathbf{D} = \\mathbf{\\epsilon}_0 \\mathbf{E}$ and \n",
    ">       + $\\mathbf{B} = \\mathbf{\\mu}_0 \\mathbf{H}$. "
   ]
  },
  {
   "cell_type": "markdown",
   "metadata": {},
   "source": [
    ">   * Implicit in the Maxwell equations is the **continuity equation** for charge density and current density,\n",
    ">       $$ \\frac{\\partial \\rho}{\\partial t} + \\nabla \\cdot \\mathbf{J} = 0 $$\n",
    ">\n",
    ">       which follows from combining the time derivative of the first equation in (I.1a) with the divergence of the second equation. "
   ]
  },
  {
   "cell_type": "markdown",
   "metadata": {},
   "source": [
    ">   * Also essential for consideration of charged particle motion is the **Lorentz force equation**,\n",
    ">       $$ \\mathbf{F} = q \\left( \\mathbf{E} + \\mathbf{v} \\times \\mathbf{B} \\right) $$\n",
    ">       which gives the force acting on a point charge $q$ in the presence of electromagnetic fields. "
   ]
  },
  {
   "cell_type": "markdown",
   "metadata": {},
   "source": [
    ">   * These equations have been written in SI units, the system of electromagnetic units used in the first 10 chapters of this book. \n",
    ">       - (Units and dimensions are discussed in the Appendix)\n",
    ">       - The Maxwell equations are displayed in the more common system of units (?? CGS-Gaussian?) in Table 2 of the Appendix.\n",
    ">   * Essential to electrodynamics is the speed of light in vacuum, given in SI units by $c = (\\mathbf{\\mu}_0 \\mathbf{\\epsilon}_0)^{-1/2}$\n",
    ">       - As discussed in the Appendix, the meter is now defined in terms of\n",
    ">           + the second (based on a hyperfine transition in cesium-133) and\n",
    ">           + the speed of light ($c = 299\\ 792\\ 458\\ \\textrm{m/s}$, exactly). \n",
    ">   * These definitions assume that the speed of light is a universal constant\n",
    ">       - consistent with evidence (see Section 11.1.C) indicating, that to a high accuracy, the speed of light in vacuum is independent of frequency from very low frequencies to at least $\\nu \\approx 10^{24} \\textrm{Hz}$ (4 GeV photons).\n",
    ">   * For most practical purposes we can approximate $c \\approx 3 \\times 10^8 \\left[\\textrm{m/s}\\right]$, or to be considerably more accurate, $c = 2.998 \\times 10^8 \\left[\\textrm{m/s}\\right]$"
   ]
  },
  {
   "cell_type": "markdown",
   "metadata": {},
   "source": [
    ">   * The electric and magnetic fields $\\mathbf{E}$ and $\\mathbf{B}$ in (I.1) were originally introduced by means of the force equations (I.3).\n",
    ">       - In Coulomb's experiments, forces acting between localized distributions of charge were observed. \n",
    ">       - There, it is found useful (see Section 1.2) to introduce the electric field $\\mathbf{E}$ as the force per unit charge (Newton-meter per Coulomb)\n",
    ">   * Similarly, in Ampère's experiments the mutual forces of current-carrying loops were studied (see Section 5.2).\n",
    ">       - With the identification of $NAq\\mathbf{v}$ as a current in a conductor\n",
    ">           + of cross-sectional area $A$ with\n",
    ">           + $N$ charge carriers per unit volume,\n",
    ">           + moving at velocity $\\mathbf{v}$,\n",
    ">       - we see that $\\mathbf{B}$ in (I.3) is defined in magnitude as a force per unit current (Newton-meter per Amp??)"
   ]
  },
  {
   "cell_type": "markdown",
   "metadata": {},
   "source": [
    ">   * Although $\\mathbf{E}$ and $\\mathbf{B}$ thus first appear just as convenient replacements for forces produced by distributions of charge and current, the have other important aspects.\n",
    ">       - First, their introduction decouples conceptually the sources from the test bodies experiencing electromagnetic forces.\n",
    ">           + If the fields $\\mathbf{E}$ and $\\mathbf{B}$ from two source distributions are the same at a given point in space, the force acting on a test charge or current at that point will be the same, regardless of how different the source distributions are. \n",
    ">           + This gives $\\mathbf{E}$ and $\\mathbf{B}$ in (I.3) meaning in their own right, independent of the sources.\n",
    ">       - Second, electromagnetic fields can exist in regions of space where there are no sources.\n",
    ">           + They can carry energy, momentum, and angular momentum, and so have an existence totally independent of charges and currents.\n",
    ">           + In fact, though there are recurring attempts to eliminate explicit reference to the fields, in favor of action-at-a-distance descriptions of the interaction of charged particles, the concept of the electromagnetic field is one of the most fruitful ideas of physics, both classically and quantum mechanically. "
   ]
  },
  {
   "cell_type": "markdown",
   "metadata": {},
   "source": [
    ">   * The concept of $\\mathrm{E}$ and $\\mathrm{B}$ as ordinary fields is a classical notion.\n",
    ">       - It can be thought of as the classical limit (limit of large quantum numbers) of a quantum-mechanical description in terms of real or virtual photons.\n",
    ">       - In the domain of macroscopic phenomena and even some atomic phenomena, the discrete photon aspect of the elctromagnetic field can usually be ignored or at least glossed over.\n",
    ">           + For example, $1$ meter from a $100$-watt light bulb, the root-mean-square electric field is of the order of $50 \\left[ \\mathrm{V/m} \\right]$ and there are of the order of $10^{15}$ visible photons per $\\left[ \\textrm{cm}^2 \\cdot \\textrm{s} \\right]$.\n",
    ">           + Similarly, an isotropic FM antenna with a power of $100$ watts at $10^8 \\left[ \\textrm{Hz} \\right]$ produces an rms electric field of only $0.5 \\left[ \\textrm{mV/m} \\right]$ at a distance of $100$ kilometers\n",
    ">               * but this still corresponds to a flux of $10^{12}$ photons per $\\left[ \\textrm{cm}^2 \\cdot \\textrm{s} \\right]$,\n",
    ">               * or about $10^9$ photons in a volume of 1 wavelength cubed ($27 \\left[ \\textrm{m}^3 \\right]$) at that distance.\n",
    ">       - Ordinarily, an apparatus will not be sensible to the individual photons; \n",
    ">           + the cumulative effect of many photons emitted or absorbed will appear as a continuous, macroscopically observable response.\n",
    ">           + Then, a completely classical description in terms of the Maxwell equations is permitted and is appropriate. "
   ]
  },
  {
   "cell_type": "markdown",
   "metadata": {},
   "source": [
    ">   * How is one to decide _a priori_ when a classical description of the electromagnetic fields is adequate?\n",
    ">       - Some sophistication is occassionally needed, but the following is usually a sufficient criterion:\n",
    ">       - When the number of photons involved can be taken as large, but the momentum carried by an individual photon is small compared to the momentum of the material system, then the response of the material system can be determined adequately from a classical description of the electromagnetic fields.\n",
    ">           + For example, each $10^8$ Hz photon emitted by our FM antenna gives it an impulse of only $2.2 \\times 10^{-34} \\textrm{N} \\cdot \\textrm{s}$.  A classical treatment is surely adequate.\n",
    ">           + Again, the scattering of light by a free electron is governed by the classical Thomson formula (Section 14.8) at low frequencies, \n",
    ">               * but by the laws of the Compton effect, as the momentum $\\hbar \\omega / c$ of the incident photon becomes significant compared to $mc$, (??)\n",
    ">       - The photoelectric effect is nonclassical for the matter system, since the quasi-free electrons in the metal change their individual energies by amounts equal to those of the absorbed photons \n",
    ">           + but, the photoelectric current can be calculated quantum mechanically for the electrons using a classical description of the electromagnetic fields. "
   ]
  },
  {
   "cell_type": "markdown",
   "metadata": {},
   "source": [
    ">   * The quantum nature of the electromagnetic fields must, on the other hand, be taken into account in the spontaneous emission of radiation by atoms,\n",
    ">       - or by any other system that initially lacks photons and has only a small number of photons present finally. \n",
    ">   * The average behavior may still be describable in essentially classical terms, because of conservation of energy and momentum. \n",
    ">   * An example is the classical treatment (Section 16.2) of the cascading of a charged particle down through the orbits of an attractive potential.\n",
    ">       - At high particle quantum numbers, a classical description of particle motion is adequate, \n",
    ">       - and the secular changes in energy and angular momentum can be calculated classically from the radiation reaction\n",
    ">           + because the energies of the successive photons emitted are small, compared to the kinetic or potential energy of the orbiting particle."
   ]
  },
  {
   "cell_type": "markdown",
   "metadata": {},
   "source": [
    ">   * The sources in (I.1) are \n",
    ">       - $\\rho(\\mathbf{x}, t)$, the electric charge density, and \n",
    ">       - $\\mathbf{J}(\\mathbf{x}, t)$, the electric current density.\n",
    ">   * In classical electromagnetism they are assumed to be continuous distributions in $\\mathbf{x}$\n",
    ">       - although we sometimes consider localized distributions that can be approximated by points.\n",
    ">   * The magnitudes of these point charges are assumed to be completely arbitrary, but are known to be restricted in reality to discrete values.\n",
    ">   * The basic unit of charge is the magnitude of the charge on the electron, \n",
    ">       $$|q_\\epsilon| = 1.602\\ 177\\ 33\\ (49) \\times 10^{-19} \\left[ \\textrm{C} \\right]$$\n",
    ">       where the errors in the last two decimal places are shown in parentheses. \n",
    ">   * The charges on the proton and on all presently known particles or systems of particles are integral multiples of this basic unit. $^\\dagger$\n",
    ">   * The experimental accuracy with which it is known that the multiples are exactly integers is phenomenal (better than $1$ part in $10^{20}$).\n",
    ">       - The experiments are discussed in Section 11.9, where the question of the Lorentz invariance of charge is also treated. \n",
    ">***\n",
    ">   * $\\dagger$ Quarks have charges $\\frac{2}{3}$ and $-\\frac{1}{3}$ in these units, but are never (so far) seen individually."
   ]
  },
  {
   "cell_type": "markdown",
   "metadata": {},
   "source": [
    ">   * The discreteness of electric charge does not need to be considered in most macroscopic applications.\n",
    ">       - a 1-microfarad capacitor at a potential of $150$ volts, for example, has a total of $10^{15}$ elementary charges on each electrode, a few thousand electrons (more-or-less) would not be noticed.\n",
    ">       - a current of 1 microampere corresponds to $6.2 \\times 10^{12}$ elementary charges per second. \n",
    ">   * There are some delicate macroscopic or almost macroscopic experiments in which the discreteness of charge enters.\n",
    ">       - Millikan's famous oil drop experiment is one. \n",
    ">       - His droplets were typically $10^{-4} \\textrm{cm}$ in radius and had a few, or few tens, of elementary charges on them."
   ]
  },
  {
   "cell_type": "markdown",
   "metadata": {},
   "source": [
    ">   * There is a lack of symmetry in the appearance of the source terms in the Maxwell equations (I.1a).\n",
    ">       - The first two equations have sources, the second two do not. \n",
    ">       - This reflects the experimental _absence of magnetic charges_ and currents.\n",
    ">   * Actually, as is shown in Section 6.11, particles could have magnetic as well as electric charge. \n",
    ">       - If all particles in nature had the same ratio of magnetic to electric charge, the fields and source could be redefined in such a way that the usual Maxwell equations (I.1a) emerge.\n",
    ">       - In this sense it is somewhat a matter of convention to say that no magnetic charges or currents exist.\n",
    ">   * Throughout most of this book it is assumed that only electric charges and currents act in the Maxwell equations,  \n",
    ">       - but some consequences of the existence of a particle with a different magnetic to electric charge ratio, for example, a magnetic monopole, are described in Chapter 6."
   ]
  }
 ],
 "metadata": {
  "kernelspec": {
   "display_name": "Python 3",
   "language": "python",
   "name": "python3"
  },
  "language_info": {
   "name": "python",
   "version": "3.13.2"
  }
 },
 "nbformat": 4,
 "nbformat_minor": 2
}
