{
 "cells": [
  {
   "cell_type": "markdown",
   "metadata": {},
   "source": [
    "### [I.3] Linear Superposition"
   ]
  },
  {
   "cell_type": "markdown",
   "metadata": {},
   "source": [
    ">   * The Maxwell equations in vacuum are _linear_ in the fields $\\mathbf{E}$ and $\\mathbf{B}$.\n",
    ">       - This linearity is exploited so often, for example, with hundreds of different telephone conversations on a single microwave link, that it is taken for granted.\n",
    ">       - There are circumstances where nonlinear effects occur --\n",
    ">           + in magnetic materials,\n",
    ">           + in crystals responding to intense laser beams,\n",
    ">           + even in the devices used to put those telephone conversations on and off the microwave beam.\n",
    ">       - However, we are concerned here with \n",
    ">           + fields in vacuum, or \n",
    ">           + the microscopic fields inside atoms and nuclei."
   ]
  },
  {
   "cell_type": "markdown",
   "metadata": {},
   "source": [
    ">   * What evidence do we have to support the idea of linear superposition?\n",
    ">       - At the macroscopic level, all sorts of experiments test linear superposition at the level of 0.1% accuracy--\n",
    ">           + groups of charges and currents produce electric and magnetic forces calculable by linear superposition.\n",
    ">               * transformers perform as expected,\n",
    ">               * standing waves are shown on transmission lines,\n",
    ">               * the reader can make a list.\n",
    ">       - in optics, \n",
    ">           + slit systems show diffraction patterns,\n",
    ">           + x-ray diffraction tells us about crystal structure,\n",
    ">           + white-light is refractd by a prism into the colors of the rainbow, and combined into white light again.\n",
    ">       - at the macroscopic and even at the atomic level, linear superposition is remarkably valid."
   ]
  },
  {
   "cell_type": "markdown",
   "metadata": {},
   "source": [
    ">   * It is in the subatomic domain that departures from linear superposition can be legitimately sought.\n",
    ">       - As charged particles approach each other very closely, electric field strengths become enormous.\n",
    ">       - If we think of a charged particle as a localized distribution of charge, we see that its electromagnetic energy grows larger and larger as the charge is localized more and more.\n",
    ">       - In attempting to avoid infinite self-energies of point particles, it is natural to speculate that some sort of saturation occurs, that field strengths have some upper bound.\n",
    ">   * Such classical nonlinear theories have been studied in the past.\n",
    ">       - One well-known example is the theory of Born and Infeld $^\\dag$.\n",
    ">           + The vaccum is given electric and magnetic permeabilities,\n",
    ">               $$\\frac{\\epsilon}{\\epsilon_0} = \\frac{\\mu_0}{\\mu} = \\left[ 1 + \\frac{1}{b^2} \\left(c^2 B^2 - E^2\\right) \\right]^{-1/2}$$\n",
    ">               where $b$ is maximum field strength.\n",
    ">           + Equation (I.4) is actually a simplification proposed earlier by Born alone, it suffices to illustrate the general idea: \n",
    ">               * Fields are obviously modified at short distances, all electromagnetic energies are finite.\n",
    ">       - Such theories suffer from arbitrariness in the manner of how the nonlinearity occurs, and also from grave problems with a transition to a quantum theory.\n",
    ">           + Furthermore, there is no evidence of this kind of classical nonlinearity.\n",
    ">           + The quantum mechanics of many-electron atoms is described to high precision by normal quantum theory, \n",
    ">               * with the interactions between the nucleus and electrons, \n",
    ">               * and between electrons and electrons given by a _linear superposition_ of pairwise potentials (or retarded relativistic interactions for fine effects). \n",
    ">           + Field strengths of the order of $10^{11}$ to $10^{17}\\ \\textrm{V/m}$ exist at the orbits of electrons in atoms, \n",
    ">               * while the electric field at the edge of a heavy nucleus is of the order of $10^{21}\\ \\textrm{V/m}$. \n",
    ">           + Energy level differences in light atoms like helium, calculated on the basis of linear superposition of electromagnetic interactions\n",
    ">               * are in agreement with experiment to accuracies that approach 1 part in $10^6$.\n",
    ">           + Coulomb energies of heavy nuclei are consistent with linear superposition of electromagnetic effects. \n",
    ">       - It's possible that for field strengths greater that $10^{21}\\ \\textrm{V/m}$, nonlinear effects could occur.\n",
    ">           + One place to look for such effects is is superheavy nuclei ($Z > 110$), both in \n",
    ">               * the atomic energy levels, \n",
    ">               * and in the nuclear Coulomb energy $^\\ddag$\n",
    ">           + At the present time there is no evidence for any classical nonlinear behavior of vacuum fields at short distances. \n",
    ">***\n",
    ">   * $\\dag$ M. Born and L. Infeld, _Proc. R. Soc. London_ **A144** 425 (1934). See M. Born, _Atomic Physics_, Blackie, London (1949), Appendix VI, for an elementary discussion.\n",
    ">   * $\\ddag$ An investigation of the effect of a Born-Infeld type of nonlinearity on the atomic energy levels in superheavy elements has been made by J. Rafelski, W.Greiner, and L.P. Fulcher, _Nuovo Cimento_ **13B**, 135 (1973)."
   ]
  },
  {
   "cell_type": "markdown",
   "metadata": {},
   "source": [
    "[[ FIG I.3 HERE ]]"
   ]
  },
  {
   "cell_type": "markdown",
   "metadata": {},
   "source": [
    ">   * There _is_ a _quantum-mechanical nonlinearity_ of electromagnetic fields that arises \n",
    ">       - because the uncertainty principle permits the momentary creation of an electron-positron pair by two photons, and the subsequent disappearance of the pair with the emission of two different photons, as indicated schematically in Fig. I.3.\n",
    ">       - This process is called the scattering of light by light $^\\dag$.\n",
    ">           + The two incident plane waves $e^{i\\mathbf{k}_1 \\cdot \\mathbf{x} - i \\omega_1 t}$ and $e^{i\\mathbf{k}_2 \\cdot \\mathbf{x} - i \\omega_2 t}$ do not merely add coherently, as expected with linear superposition,\n",
    ">           + but interact and (with small probability) transform into two different plane waves with wave vectors $\\mathbf{k}_3$ and $\\mathbf{k}_4$.\n",
    ">       - This nonlinear feature of _quantum_ electrodynamics can be expressed, at least for slowly varying fields, in terms of electric and magnetic permeability tensors of the vacuum: $$D_i = \\epsilon_0 \\sum_k \\epsilon_{ik} E_k, \\qquad B_i = \\mu_0 \\sum_k \\mu_{ik}H_k$$\n",
    ">           where\n",
    ">           $$\\begin{align*}\n",
    ">               \\epsilon_{ik} &= \\delta_{ik} + \\frac{e_G^4 \\hbar}{45 \\pi m^4 c^7} \\left[ 2\\left(E^2 - c^2 B^2\\right) \\delta_{ik} + 7 c^2 B_i B_k \\right] + \\cdots \\\\\n",
    ">               \\mu_{ik} &= \\delta_{ik} + \\frac{e_G^4 \\hbar}{45 \\pi m^4 c^7} \\left[ 2\\left( c^2 B^2 - E^2 \\right) \\delta_{ik} + 7 E_i E_k \\right] + \\cdots \n",
    ">           \\end{align*}$$\n",
    ">           + Here, $e_G$ and $m$ are the charge (in Gaussian units) and the mass of the electron.\n",
    ">           + These results were first obtained by Euler and Kockel in 1935 $^\\ddag$\n",
    ">       - We observe that in the classical limit $(\\hbar \\rightarrow 0)$, these nonlinear effects go to zero.\n",
    ">       - Comparison with the classical Born-Infeld expression (I.4) shows that for small nonlinearities, the quantum-mechanical field strength \n",
    ">           $$b_q = \\frac{\\sqrt{45\\pi}}{2} \\sqrt{\\frac{e_G^2}{\\hbar c}} \\frac{e_G}{r_0^2} \\approx 0.51 \\frac{e_G}{r_0^2}$$\n",
    ">           plays a role analogous to the Born-Infeld parameter $b$.\n",
    ">           + Here, \n",
    ">               * $r_0 = e_g^2 / mc^2 \\approx 2.8 \\times 10^{-15} \\textrm{m}$ is the classical electron radius, and\n",
    ">               * $e_g / r_0^2 = 1.8 \\times 10^{20}\\ \\textrm{V/m}$ is the electric field at the surface of such a classical electron.\n",
    ">   * Two comments in passing:\n",
    ">       - (a) the $\\epsilon_{ik}$ and $\\mu_{ik}$ in (I.5) are approximations that fail for field strengths approaching $b_q$, or when the fields vary too rapidly in space or time ($\\hbar/mc$ setting the critical scale of length and $\\hbar/ mc^2$ of time);\n",
    ">       - (b) the chance numerical coincidence of $b_q$ and $e_G / 2 r_0^2$ is suggestive but probably not significant, since $b_q$ involves Planck's constant $\\hbar$. \n",
    ">***\n",
    ">   * $\\dag$ When two of the photons in Fig. I.3 are virtual photons representing interaction to second order, with a static nuclear Coulomb field, the process is known as Delbrück scattering.\n",
    ">       - See Section 15.8 of J.M. Jauch and F. Rohrlich, _The Theory of Photons and Electrons_, Addison-Wesley, Reading, MA (1955).\n",
    ">   * $\\ddag$ H. Euler and B. Kockel, _Naturwissenschaften_ **23**, 246 (1935)"
   ]
  },
  {
   "cell_type": "markdown",
   "metadata": {},
   "source": [
    ">   * In analogy with the polarization $\\mathbf{P} = \\mathbf{D} - \\epsilon_0 \\mathbf{E}$, we speak of the field-dependent terms in (I.5) as _vacuum polarization_ effects. \n",
    ">       - In addition to the scattering of light by light or Delbrück scattering, vacuum polarization causes very small shifts in atomic energy levels.\n",
    ">       - The dominant contribution involves a virtual electron-positron pair, just as in Fig. I.3, but with only two photon lines instead of four.\n",
    ">   * If the photons are real, the process contributes to the mass of the photon and is decreed to vanish. \n",
    ">       - If the photons are virtual, however, the creation and annihilation of a virtual electron-positron pair from time to time causes observable effects.\n",
    ">           + as in the electromagnetic interaction between a nucleus and an orbiting electron, or indeed for any externally applied field. "
   ]
  },
  {
   "cell_type": "markdown",
   "metadata": {},
   "source": []
  }
 ],
 "metadata": {
  "language_info": {
   "name": "python"
  }
 },
 "nbformat": 4,
 "nbformat_minor": 2
}
