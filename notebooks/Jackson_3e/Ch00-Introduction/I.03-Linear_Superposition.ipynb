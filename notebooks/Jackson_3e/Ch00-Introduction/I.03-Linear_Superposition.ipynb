{
 "cells": [
  {
   "cell_type": "markdown",
   "metadata": {},
   "source": [
    "### [I.3] Linear Superposition"
   ]
  },
  {
   "cell_type": "markdown",
   "metadata": {},
   "source": [
    ">   * The Maxwell equations in vacuum are _linear_ in the fields $\\mathrm{E}$ and $\\mathrm{B}$.\n",
    ">       - This linearity is exploited so often, for example, with hundreds of different telephone conversations on a single microwave link, that it is taken for granted.\n",
    ">       - There are circumstances where nonlinear effects occur --\n",
    ">           + in magnetic materials,\n",
    ">           + in crystals responding to intense laser beams,\n",
    ">           + even in the devices used to put those telephone conversations on and off the microwave beam.\n",
    ">       - However, we are concerned here with \n",
    ">           + fields in vacuum, or \n",
    ">           + the microscopic fields inside atoms and nuclei."
   ]
  },
  {
   "cell_type": "markdown",
   "metadata": {},
   "source": [
    ">   * What evidence do we have to support the idea of linear superposition?\n",
    ">       - At the macroscopic level, all sorts of experiments test linear superposition at the level of 0.1% accuracy--\n",
    ">           + groups of charges and currents produce electric and magnetic forces calculable by linear superposition.\n",
    ">               * transformers perform as expected,\n",
    ">               * standing waves are shown on transmission lines,\n",
    ">               * the reader can make a list.\n",
    ">       - in optics, \n",
    ">           + slit systems show diffraction patterns,\n",
    ">           + x-ray diffraction tells us about crystal structure,\n",
    ">           + white-light is refractd by a prism into the colors of the rainbow, and combined into white light again.\n",
    ">       - at the macroscopic and even at the atomic level, linear superposition is remarkably valid."
   ]
  },
  {
   "cell_type": "markdown",
   "metadata": {},
   "source": [
    ">   * It is in the subatomic domain that departures from linear superposition can be legitimately sought.\n",
    ">       - As charged particles approach each other very closely, electric field strengths become enormous.\n",
    ">       - If we think of a charged particle as a localized distribution of charge, we see that its electromagnetic energy grows larger and larger as the charge is localized more and more.\n",
    ">       - In attempting to avoid infinite self-energies of point particles, it is natural to speculate that some sort of saturation occurs, that field strengths have some upper bound.\n",
    ">   * Such classical nonlinear theories have been studied in the past.\n",
    ">       - One well-known example is the theory of Born and Infeld $^\\dag$.\n",
    ">           + The vaccum is given electric and magnetic permeabilities,\n",
    ">               $$\\frac{\\epsilon}{\\epsilon_0} = \\frac{\\mu_0}{\\mu} = \\left[ 1 + \\frac{1}{b^2} \\left(c^2 B^2 - E^2\\right) \\right]^{-1/2}$$\n",
    ">               where $b$ is maximum field strength."
   ]
  },
  {
   "cell_type": "markdown",
   "metadata": {},
   "source": []
  }
 ],
 "metadata": {
  "language_info": {
   "name": "python"
  }
 },
 "nbformat": 4,
 "nbformat_minor": 2
}
