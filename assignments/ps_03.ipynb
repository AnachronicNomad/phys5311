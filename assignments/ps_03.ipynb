{
 "cells": [
  {
   "cell_type": "markdown",
   "metadata": {},
   "source": [
    "# **Macroscopic Electrodynamics.  Electromagnetic waves.**"
   ]
  },
  {
   "cell_type": "markdown",
   "metadata": {},
   "source": [
    "From https://ocw.mit.edu/courses/8-311-electromagnetic-theory-spring-2004/3d93a744dc2072cc02b80f3911b23013_ps3.pdf"
   ]
  },
  {
   "cell_type": "markdown",
   "metadata": {},
   "source": [
    ">   ## **[1] Boundary conditions at dielectric interfaces**\n",
    "\n",
    "* Standards: EM3-2*, and BM4-1*"
   ]
  },
  {
   "cell_type": "markdown",
   "metadata": {},
   "source": [
    ">   **(a) Starting from Maxwell equations for $\\mathbf{E, D, B}$ and $\\mathbf{H}$,\n",
    ">       $$\\begin{align}\n",
    ">           \\nabla \\times \\mathbf{H} = \\frac{1}{c} \\frac{\\partial}{\\partial t}\\mathbf{D} + \\frac{4\\pi}{c}\\mathbf{j}, \\qquad \\nabla \\cdot \\mathbf{B} = 0 \\\\\n",
    ">           - \\nabla \\times \\mathbf{E} = \\frac{1}{c} \\frac{\\partial}{\\partial t}\\mathbf{B}, \\qquad \\nabla \\cdot \\mathbf{D} = 4\\pi\\rho\n",
    ">       \\end{align}$$\n",
    ">       derive relations between these quantities at an interface of two different dielectric materials.**"
   ]
  },
  {
   "cell_type": "markdown",
   "metadata": {},
   "source": [
    "Note that here; \n",
    "\n",
    "* $\\mathbf{D}$ is the **electric displacement**,\n",
    "* $\\mathbf{E}$ is the **electric field**,\n",
    "* $\\mathbf{H}$ is the **magnetic field**, and\n",
    "* $\\mathbf{B}$ is the **magnetic induction**\n",
    "* **charge density** $4\\pi\\rho$,\n",
    "* **current density** $\\frac{4\\pi}{c}\\mathbf{j}$\n",
    "\n",
    "apparently as defined in Jackson §I.4 - Maxwell Equations in Macroscopic Media."
   ]
  },
  {
   "cell_type": "markdown",
   "metadata": {},
   "source": [
    "Suppose that $\\epsilon_1$ and $\\epsilon_2$ are the dielectric constants of two semi-infinite materials, meeting at a plane interface $z=0$, with $\\epsilon_1$ representing Material 1 for $z<0$, and $\\epsilon_2$ the Material 2 for $z > 0$, let $\\mathbf{n}_{12}$ be the unit normal of the plane interface (vector going from Material 1 to Material 2), and let the quantities $\\mathbf{E, D, B}$ and $\\mathbf{H}$ be subscripted by their associated material (e.g. $\\mathbf{E}_1$ for the electric field in Material 1, etc.).\n",
    "\n",
    "To proceed, we can follow the derivation as provided in Jackson §I.5 (Boundary Conditions at Interfaces Between Different Media) and §4.4 (Boundary-Value Problems with Dielectrics) to arrive at the discontinuity equations for the boundary conditions at interfaces between different media. "
   ]
  },
  {
   "cell_type": "markdown",
   "metadata": {},
   "source": [
    "#### Divergence Theorem, Gaussian Pillboxes, Net Flux\n",
    "\n",
    "We begin by considering a finite cylinder embedded in both the dielectric materials, whose central rotational axis is oriented parallel to $\\mathbf{n}_{12}$, such that both \"end\"-cap disks of the cylinder are parallel to the plane interface $z=0$ and both ends of the cylinder are equidistant from the interface.  This is sometimes referred to as a _Gaussian Pillbox_.  We take the limit of the height of the cylinder $h \\rightarrow 0$, and equip it with a volume $V$, a bounding surface $S$, $dA$ an element of the surface, and $\\mathbf{n}$ a unit normal to the surface $S$ at $dA$ pointing outward from the surface. \n",
    "\n",
    "Then, we observe that by applying the Divergence Theorem $\\left( \\iiint_V \\nabla \\cdot \\mathbf{F}\\ dV = \\oiint_S (\\mathbf{F} \\cdot \\hat{\\mathbf{n}})\\ dS \\right)$ to the expressions related to net flux of the electric field and magnetic induction in the Maxwell-Heaviside equations, we are concerned with the net flux through the infinitesimal element $dA$ of the surface area of the end caps.  It can be shown that the net flux through the \"sides\" of the cylinder is zero, due to the geometry of the cylinder and the definition of flux, and is reinforced by taking $\\lim_{h\\rightarrow 0}$. Then,\n",
    "\n",
    "$$\\begin{Bmatrix}\n",
    "\\nabla \\cdot \\mathbf{D} &=& 4\\pi\\rho \\\\\n",
    "\\nabla \\cdot \\mathbf{B} &=& 0\n",
    "\\end{Bmatrix} \\Rightarrow^*\n",
    "\\begin{Bmatrix}\n",
    "\\oint_S \\mathbf{D} \\cdot \\mathbf{n}_{21}\\ dA &=& 4 \\pi \\int_V \\rho\\ d^3 x \\\\\n",
    "\\oint_S \\mathbf{B} \\cdot \\mathbf{n}_{21}\\ dA &=& 0\n",
    "\\end{Bmatrix}$$\n",
    "\n",
    "Since the top and bottom caps of the cylinder are parallel, tangent to the interface, and of area $\\Delta A$; alongside with a singular charge density $\\rho$ at the interface that produces a surface charge density $\\sigma$, then we are able to say that\n",
    "\n",
    "$$\\begin{align}\n",
    "\\oint_S \\mathbf{D} \\cdot \\mathbf{n}_{21}\\ dA &=& \\int_V \\rho\\ d^3 x \\\\\n",
    "\\Rightarrow^* (\\mathbf{D}_2 - \\mathbf{D}_1) \\cdot \\mathbf{n}_{21} \\Delta A &=& \\sigma \\Delta A\n",
    "\\end{align}$$\n",
    "\n",
    "Then the _normal components_ of $\\mathbf{D}$ and $\\mathbf{B}$ on either side of the boundary surface are related by:\n",
    "\n",
    "$$\\Rightarrow^* \\begin{Bmatrix}\n",
    "\\left( \\mathbf{D}_2 - \\mathbf{D}_1 \\right) \\cdot \\mathbf{n}_{21} &=& 4\\pi\\sigma \\\\\n",
    "\\left( \\mathbf{B}_2 - \\mathbf{B}_1 \\right) \\cdot \\mathbf{n}_{21} &=& 0\n",
    "\\end{Bmatrix}$$\n",
    "\n",
    "Which can be interpreted as stating \"The normal component of $\\mathbf{B}$ is continuous, and the discontinuity of the normal component of $\\mathbf{D}$ at any point is equal to the surface charge density at that point.\""
   ]
  },
  {
   "cell_type": "markdown",
   "metadata": {},
   "source": [
    "#### Stoke's Theorem, Current Loops, and Such "
   ]
  },
  {
   "cell_type": "markdown",
   "metadata": {},
   "source": [
    "We now need to handle the cross-product expressions in Maxwell's Eqns. by the application of Stoke's Theorem. "
   ]
  },
  {
   "cell_type": "markdown",
   "metadata": {},
   "source": [
    "The _tangential components_ of $\\mathbf{E}$ and $\\mathbf{H}$ on either side of the boundary are related by:\n",
    "\n",
    "$$\\begin{align}\n",
    "\\mathbf{n} \\times (\\mathbf{E}_1 - \\mathbf{E_{2}}) &= 0 \\\\\n",
    "\\mathbf{n} \\times (\\mathbf{H}_2 - \\mathbf{H}_1) &= \\mathbf{K}\n",
    "\\end{align}$$\n",
    "\n",
    "where the tangential component of $\\mathbf{E}$ across an interface is continuous ($\\mathbf{E}_{||}$ ???); while _surface current density_ $\\mathbf{K}$ only has components parallel to the surface at every point, and the tangential component of $\\mathbf{H}$ is discontinuous by the magnitude of the surface current density in the direction parallel to $\\mathbf{K} \\times \\mathbf{n}$. "
   ]
  },
  {
   "cell_type": "markdown",
   "metadata": {},
   "source": [
    ">   **(b) Consider an interface of two dielectrics with permeabilities $\\epsilon_1$ and $\\epsilon_2$.  Given the angle $\\theta_1$ between the field $\\mathbf{E}_1$ and the normal to the interface, find the angle $\\theta_2$ in the other dielectric.**"
   ]
  },
  {
   "cell_type": "markdown",
   "metadata": {},
   "source": [
    "We should observe a quantity that looks similar to Snell's law, where we get a ratio of the dielectric coefficients affecting deflection of the field near the interface.  "
   ]
  },
  {
   "cell_type": "markdown",
   "metadata": {},
   "source": [
    "$$\\frac{\\tan\\theta_1}{\\tan\\theta_2} = \\frac{\\epsilon_2}{\\epsilon_1}$$"
   ]
  },
  {
   "cell_type": "markdown",
   "metadata": {},
   "source": [
    ">   **(c) Consider an interface of two materials with magnetic permeabilities $\\mu_1$ and $\\mu_2$.  given the angle $\\theta_1$ between the field $\\mathbf{H}_1$ and the normal to the interface, find the angle $\\theta_2$ in the other material.**"
   ]
  },
  {
   "cell_type": "markdown",
   "metadata": {},
   "source": []
  },
  {
   "cell_type": "markdown",
   "metadata": {},
   "source": [
    ">   ## **[2] Image charges and dipoles.**"
   ]
  },
  {
   "cell_type": "markdown",
   "metadata": {},
   "source": [
    ">   (a) Consider a point charge $q$ placed at a distance $a$ above a flat dielectric surface.  The dielectric constant is $\\epsilon$.  Find the electric field inside and outside the dielectric.  Show that the field outside can be represented as a sum of the field of the charge $q$ and another charge $q^\\prime$ placed within the dielectric.  (The fictitious charge $q^\\prime$ is called image charge.)  What is the force on the charge $q$?  Is it attraction or repulsion?"
   ]
  },
  {
   "cell_type": "markdown",
   "metadata": {},
   "source": []
  },
  {
   "cell_type": "markdown",
   "metadata": {},
   "source": [
    ">   (b) For an electric dipole $\\mathbf{d}$ placed near a flat dielectric surface, by generalizing the method of part (a), solve the electrostatic problem.  Find the image dipole $\\mathbf{d}^\\prime$ magnitude and orientation.  What is the force on the dipole $\\mathbf{d}$?"
   ]
  },
  {
   "cell_type": "markdown",
   "metadata": {},
   "source": []
  },
  {
   "cell_type": "markdown",
   "metadata": {},
   "source": [
    ">   (c) Magnetic dipole $\\mathbf{m}$ is placed a distance $a$ away from a flat surface of a material with magnetic permeability $\\mu$.  By generalizing the approach of parts (a), (b), or otherwise, solve the magnetostatic problem.  Find the image dipole $\\mathbf{m^\\prime}$, and determine the force on the dipole $\\mathbf{m}$. "
   ]
  },
  {
   "cell_type": "markdown",
   "metadata": {},
   "source": []
  },
  {
   "cell_type": "markdown",
   "metadata": {},
   "source": [
    ">   ## **[3] One-dimensional waves.**"
   ]
  },
  {
   "cell_type": "markdown",
   "metadata": {},
   "source": [
    ">   (a) Consider the wave equation in one dimension,\n",
    ">       $$\\begin{equation*} \\frac{\\partial^2 f}{\\partial x^2} - \\frac{1}{v^2} \\frac{\\partial^2 f}{\\partial t^2} = 0 \\tag{3} \\end{equation*}$$\n",
    ">       Show that its general solution has the form $f(x,t) = f_R(x-vt) + f_L(x+vt)$ describing waves packets moving to the right and to the left with velocity $v$. "
   ]
  },
  {
   "cell_type": "markdown",
   "metadata": {},
   "source": []
  },
  {
   "cell_type": "markdown",
   "metadata": {},
   "source": [
    ">   (b) Given the initial conditions $f_{t=0} = F_1(x)$ and $\\partial f / \\partial t \\rvert_{t=0} = F_2(x)$, determine the right- and left- propagating components $f_L$ and $f_R$. "
   ]
  },
  {
   "cell_type": "markdown",
   "metadata": {},
   "source": []
  },
  {
   "cell_type": "markdown",
   "metadata": {},
   "source": [
    ">   (c) Consider the wave equation, on a half-line $x>0$ with a hard wall boundary condition $f=0$ at $x=0$. To obtain a general solution of this problem, consider the solution found in part (a) and fix the relation between the right and left component in $f = f_R + f_L$, so that $f=0$ at the boundary $x=0$ at all times. \n",
    ">\n",
    ">   For a bell-shape function $f_L \\propto \\textrm{exp}\\left( -a(x+vt)^2 \\right)$, find $f_R$ and plot the solution $f(x,t)$ at different times $(t<0, t=0, t>0)$, indicating the time evolution. Generalize this example and show that a wavepacket is reflected from a hard wall with its shape preserved and the sign reversed. "
   ]
  },
  {
   "cell_type": "markdown",
   "metadata": {},
   "source": []
  },
  {
   "cell_type": "markdown",
   "metadata": {},
   "source": [
    ">   (d) Consider the wave equation on a half-line $x>0$ with a boundary condition \n",
    ">       $$(\\partial f / \\partial t)_{x=+0} = u(\\partial f / \\partial x)_{x=+0} \\tag{4}$$ \n",
    ">       with $u$ constant. (This problem describes transmission line loaded by an external impedance.) Construct a general solution in the form $f = f_R + f_L$, and find the relation between the incident wavepacket $(f_L)$ and the reflected wavepacket $(f_R)$ form and amplitude. Compare the behavior at $u < v$, $u=v$, and $u>v$. "
   ]
  },
  {
   "cell_type": "markdown",
   "metadata": {},
   "source": []
  },
  {
   "cell_type": "markdown",
   "metadata": {},
   "source": [
    ">   ## **[4] Electromagnetic wavepacket.**"
   ]
  },
  {
   "cell_type": "markdown",
   "metadata": {},
   "source": [
    ">   The electric and magnetic field at $t=0$ are \n",
    ">   $$\\mathbf{E} = E_0 f(z) \\hat{\\mathbf{x}}, \\quad \\mathbf{B} = B_0 f(z) \\hat{\\mathbf{y}}\\tag{5}$$\n",
    ">   with $f(z) = \\textrm{exp}(-az^2)$ a bell-shape function. "
   ]
  },
  {
   "cell_type": "markdown",
   "metadata": {},
   "source": [
    ">   (a) Find the electromagnetic energy and momentum density and their ratio. "
   ]
  },
  {
   "cell_type": "markdown",
   "metadata": {},
   "source": []
  },
  {
   "cell_type": "markdown",
   "metadata": {},
   "source": [
    ">   (b) Show that at $t>0$ there are two wavepackets travelling in the directions $\\hat{\\mathbf{z}}$ and $- \\hat{\\mathbf{z}}$. "
   ]
  },
  {
   "cell_type": "markdown",
   "metadata": {},
   "source": []
  },
  {
   "cell_type": "markdown",
   "metadata": {},
   "source": [
    ">   (c) At what ratio $\\alpha = E_0 / B_0$ is there just one wavepacket? "
   ]
  },
  {
   "cell_type": "markdown",
   "metadata": {},
   "source": []
  },
  {
   "cell_type": "markdown",
   "metadata": {},
   "source": [
    ">   (d) How much of the initial energy of the field is carried in the $\\hat{\\mathbf{z}}$ and $-\\hat{\\mathbf{z}}$ direction?"
   ]
  },
  {
   "cell_type": "markdown",
   "metadata": {},
   "source": []
  },
  {
   "cell_type": "markdown",
   "metadata": {},
   "source": [
    ">   ## **[5] EM wave reflection from a dielectric surface.**"
   ]
  },
  {
   "cell_type": "markdown",
   "metadata": {},
   "source": [
    ">   A linearly polarized plane wave is incident at the angle $90^\\circ$ from vacuum onto a flat surface of an isotropic, non-magnetic dielectric of dielectric constant $\\epsilon$. "
   ]
  },
  {
   "cell_type": "markdown",
   "metadata": {},
   "source": [
    ">   (a) Write down the 1d wave equations, describing this problem in vacuum for $x>0$ and in the dielectric for $x<0$, What is the relation between the electric and magnetic fields at the $x=0$ interface?"
   ]
  },
  {
   "cell_type": "markdown",
   "metadata": {},
   "source": []
  },
  {
   "cell_type": "markdown",
   "metadata": {},
   "source": [
    ">   (b) Express the boundary conditions in the form (4), i.e. in terms of the field space and time derivative on one side of the interface. By generalizing the method used to treat wave relection in Problem 3(d), construct a solution describing wavepacket reflection and transmission. "
   ]
  },
  {
   "cell_type": "markdown",
   "metadata": {},
   "source": []
  },
  {
   "cell_type": "markdown",
   "metadata": {},
   "source": [
    ">   (c) Given the amplitude of the incident wave $E_0$, determine the amplitudes $E_r$ and $E_t$ of the reflected and transmitted waves, and find the reflection and transmission constants $r = E_r / E_0$, $t = E_t / E_0$. "
   ]
  },
  {
   "cell_type": "markdown",
   "metadata": {},
   "source": []
  },
  {
   "cell_type": "markdown",
   "metadata": {},
   "source": [
    ">   (d) Now, consider a wave packet incident on the dielectric-vacuum interface from within the dielectric. Generalize the above solution and describe the transmitted and reflected wavepackets, find their propagation velocities, amplitudes, and determine the transmission and reflection constants $t$, $r$. "
   ]
  },
  {
   "cell_type": "markdown",
   "metadata": {},
   "source": []
  }
 ],
 "metadata": {
  "kernelspec": {
   "display_name": "Python 3",
   "language": "python",
   "name": "python3"
  },
  "language_info": {
   "name": "python",
   "version": "3.13.1"
  }
 },
 "nbformat": 4,
 "nbformat_minor": 2
}
