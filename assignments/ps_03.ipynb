{
 "cells": [
  {
   "cell_type": "markdown",
   "metadata": {},
   "source": [
    "# **Macroscopic Electrodynamics.  Electromagnetic waves.**"
   ]
  },
  {
   "cell_type": "markdown",
   "metadata": {},
   "source": [
    "From https://ocw.mit.edu/courses/8-311-electromagnetic-theory-spring-2004/3d93a744dc2072cc02b80f3911b23013_ps3.pdf"
   ]
  },
  {
   "cell_type": "markdown",
   "metadata": {},
   "source": [
    ">   ## **[1] Boundary conditions at dielectric interfaces**"
   ]
  },
  {
   "cell_type": "markdown",
   "metadata": {},
   "source": [
    ">   (a) Starting from Maxwell equations for $\\mathbf{E, D, B}$ and $\\mathbf{H}$,\n",
    ">       $$\\begin{align}\n",
    ">           \\nabla \\times \\mathbf{H} = \\frac{1}{c} \\frac{\\partial}{\\partial t}\\mathbf{D} + \\frac{4\\pi}{c}\\mathbf{j}, \\qquad \\nabla \\cdot \\mathbf{B} = 0 \\\\\n",
    ">           - \\nabla \\times \\mathbf{E} = \\frac{1}{c} \\frac{\\partial}{\\partial t}\\mathbf{B}, \\qquad \\nabla \\cdot \\mathbf{D} = 4\\pi\\rho\n",
    ">       \\end{align}$$\n",
    ">       derive relations between these quantities at an interface of two different dielectric materials. "
   ]
  },
  {
   "cell_type": "markdown",
   "metadata": {},
   "source": [
    ">   (b) Consider an interface of two dielectrics with permeabilities $\\epsilon_1$ and $\\epsilon_2$.  Given the angle $\\theta_1$ between the field $\\mathbf{E}_1$ and the normal to the interface, find the angle $\\theta_2$ in the other dielectric. "
   ]
  },
  {
   "cell_type": "markdown",
   "metadata": {},
   "source": [
    ">   (c) Consider an interface of two materials with magnetic permeabilities $\\mu_1$ and $\\mu_2$.  given the angle $\\theta_1$ between the field $\\mathbf{H}_1$ and the normal to the interface, find the angle $\\theta_2$ in the other material. "
   ]
  },
  {
   "cell_type": "markdown",
   "metadata": {},
   "source": [
    ">   ## **[2] image charges and dipoles.**"
   ]
  },
  {
   "cell_type": "markdown",
   "metadata": {},
   "source": [
    ">   (a) Consider a point charge $q$ placed at a distance $a$ above a flat dielectric surface.  The dielectric constant is $\\epsilon$.  Find the electric field inside and outside the dielectric.  Show that the field outside can be represented as a sum of the field of the charge $q$ and another charge $q$\\prime$ placed within the dielectric.  (The fictitious charge $q^\\prime$ is called image charge.)  What is the force on the charge $q$?  Is it attraction or repulsion?"
   ]
  },
  {
   "cell_type": "markdown",
   "metadata": {},
   "source": [
    ">   (b) For an electric dipole $\\mathbf{d}$ placed near a flat dielectric surface, by generalizing the method of part (a), solve the electrostatic problem.  Find the image dipole $\\mathbf{d}^\\prime$ magnitude and orientation.  What is the force on the dipole $\\mathbf{d}$?"
   ]
  },
  {
   "cell_type": "markdown",
   "metadata": {},
   "source": [
    ">   (c) Magnetic dipole $\\mathbf{m}$ is placed a distance $a$ away from a flat surface of a material with magnetic permeability $\\mu$.  By generalizing the approach of parts (a), (b), or otherwise, solve the magnetostatic problem.  Find the image dipole $\\mathbf{m^\\prime}$, and determine the force on the dipole $\\mathbf{m}$. "
   ]
  },
  {
   "cell_type": "markdown",
   "metadata": {},
   "source": [
    ">   ## **[3] One-dimensional waves.**"
   ]
  },
  {
   "cell_type": "markdown",
   "metadata": {},
   "source": [
    ">   (a) Consider the wave equation in one dimension,\n",
    ">       $$\\begin{equation*} \\frac{\\partial^2 f}{\\partial x^2} - \\frac{1}{v^2} \\frac{\\partial^2 f}{\\partial t^2} = 0 \\tag{3} \\end{equation*}$$\n",
    ">       Show that its general solution has the form $f(x,t) = f_R(x-vt) + f_L(x+vt)$ describing waves packets moving to the right and to the left with velocity $v$. "
   ]
  },
  {
   "cell_type": "markdown",
   "metadata": {},
   "source": [
    ">   (b) Given the initial conditions $f_{t=0} = F_1(x)$ and $\\partial f / \\partial t \\rvert_{t=0} = F_2(x)$, determine the right- and left- propagating components $f_L$ and $f_R$. "
   ]
  },
  {
   "cell_type": "markdown",
   "metadata": {},
   "source": [
    ">   (c) Consider the wave equation, on a half-line $x>0$ with a hard wall boundary condition $f=0$ at $x=0$. To obtain a general solution of this problem, consider the solution found in part (a) and fix the relation between the right and left component in $f = f_R + f_L$, so that $f=0$ at the boundary $x=0$ at all times. \n",
    ">\n",
    ">   For a bell-shape function $f_L \\propto \\textrm{exp}\\left( -a(x+vt)^2 \\right)$, find $f_R$ and plot the solution $f(x,t)$ at different times $(t<0, t=0, t>0)$, indicating the time evolution. Generalize this example and show that a wavepacket is reflected from a hard wall with its shape preserved and the sign reversed. "
   ]
  },
  {
   "cell_type": "markdown",
   "metadata": {},
   "source": [
    ">   (d) Consider the wave equation on a half-line $x>0$ with a boundary condition \n",
    ">       $$(\\partial f / \\partial t)_{x=+0} = u(\\partial f / \\partial x)_{x=+0} \\tag{4}$$ \n",
    ">       with $u$ constant. (This problem describes transmission line loaded by an external impedance.) Construct a general solution in the form $f = f_R + f_L$, and find the relation between the incident wavepacket $(f_L)$ and the reflected wavepacket $(f_R)$ form and amplitude. Compare the behavior at $u < v$, $u=v$, and $u>v$. "
   ]
  },
  {
   "cell_type": "markdown",
   "metadata": {},
   "source": [
    ">   ## **[4] Electromagnetic wavepacket.**"
   ]
  },
  {
   "cell_type": "markdown",
   "metadata": {},
   "source": [
    ">   The electric and magnetic field at $t=0$ are \n",
    ">   $$\\mathbf{E} = E_0 f(z) \\hat{\\mathbf{x}}, \\quad \\mathbf{B} = B_0 f(z) \\hat{\\mathbf{y}}\\tag{5}$$\n",
    ">   with $f(z) = \\textrm{exp}(-az^2)$ a bell-shape function. "
   ]
  },
  {
   "cell_type": "markdown",
   "metadata": {},
   "source": [
    ">   (a) Find the electromagnetic energy and momentum density and their ratio. "
   ]
  },
  {
   "cell_type": "markdown",
   "metadata": {},
   "source": [
    ">   (b) Show that at $t>0$ there are two wavepackets travelling in the directions $\\hat{\\mathbf{z}}$ and $- \\hat{\\mathbf{z}}$. "
   ]
  },
  {
   "cell_type": "markdown",
   "metadata": {},
   "source": [
    ">   (c) At what ratio $\\alpha = E_0 / B_0$ is there just one wavepacket? "
   ]
  },
  {
   "cell_type": "markdown",
   "metadata": {},
   "source": [
    ">   (d) How much of the initial energy of the field is carried in the $\\hat{\\mathbf{z}}$ and $-\\hat{\\mathbf{z}}$ direction?"
   ]
  },
  {
   "cell_type": "markdown",
   "metadata": {},
   "source": [
    ">   ## **[5] EM wave reflection from a dielectric surface.**"
   ]
  },
  {
   "cell_type": "markdown",
   "metadata": {},
   "source": [
    ">   A linearly polarized plane wave is incident at the angle $90^\\circ$ from vacuum onto a flat surface of an isotropic, non-magnetic dielectric of dielectric constant $\\epsilon$. "
   ]
  },
  {
   "cell_type": "markdown",
   "metadata": {},
   "source": [
    ">   (a) Write down the 1d wave equations, describing this problem in vacuum for $x>0$ and in the dielectric for $x<0$, What is the relation between the electric and magnetic fields at the $x=0$ interface?"
   ]
  },
  {
   "cell_type": "markdown",
   "metadata": {},
   "source": [
    ">   (b) Express the boundary conditions in the form (4), i.e. in terms of the field space and time derivative on one side of the interface. By generalizing the method used to treat wave relection in Problem 3(d), construct a solution describing wavepacket reflection and transmission. "
   ]
  },
  {
   "cell_type": "markdown",
   "metadata": {},
   "source": [
    ">   (c) Given the amplitude of the incident wave $E_0$, determine the amplitudes $E_r$ and $E_t$ of the reflected and transmitted waves, and find the reflection and transmission constants $r = E_r / E_0$, $t = E_t / E_0$. "
   ]
  },
  {
   "cell_type": "markdown",
   "metadata": {},
   "source": [
    ">   (d) Now, consider a wave packet incident on the dielectric-vacuum interface from within the dielectric. Generalize the above solution and describe the transmitted and reflected wavepackets, find their propagation velocities, amplitudes, and determine the transmission and reflection constants $t$, $r$. "
   ]
  }
 ],
 "metadata": {
  "language_info": {
   "name": "python"
  }
 },
 "nbformat": 4,
 "nbformat_minor": 2
}
