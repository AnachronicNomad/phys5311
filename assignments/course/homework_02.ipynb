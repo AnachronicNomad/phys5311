{
 "cells": [
  {
   "cell_type": "markdown",
   "metadata": {},
   "source": [
    "# Matter in Electric Fields"
   ]
  },
  {
   "cell_type": "markdown",
   "metadata": {},
   "source": [
    ">   ## [1] \n",
    ">   \n",
    ">   A slab of dielectric material (a chunk of plastic) is placed between two large, conducting plates. When the voltag esupply is switched on, it creates an electric field that points up between the two large plates.  The electric field of two large plates is nearly uniform near the center of the plates, and that's where the dielectric is - so pretend like the electric field is uniform and upwards. "
   ]
  },
  {
   "cell_type": "markdown",
   "metadata": {},
   "source": []
  },
  {
   "cell_type": "markdown",
   "metadata": {},
   "source": [
    ">   ### (i.) \n",
    ">\n",
    ">   Draw the surface charge that forms on the dielectric when we switch the electric field on.  Explain why this charge forms.  Does the dielectric remain net neutral, or does it accumulate charge? "
   ]
  },
  {
   "cell_type": "markdown",
   "metadata": {},
   "source": []
  },
  {
   "cell_type": "markdown",
   "metadata": {},
   "source": [
    ">   ### (ii.)\n",
    ">\n",
    ">   In class, we determined that $\\sigma = \\vec{\\mathbf{P}} \\cdot \\hat{\\mathbf{n}}$, where $\\sigma$ is the surface charge density, $\\vec{\\mathbf{P}}$ is the polarization, and $\\hat{\\mathbf{n}}$ is the surface normal vector.  What are the units of each of these quantities?  Is this expression consistent with your drawing?  Explain how."
   ]
  },
  {
   "cell_type": "markdown",
   "metadata": {},
   "source": []
  },
  {
   "cell_type": "markdown",
   "metadata": {},
   "source": [
    ">   ### (iii.)\n",
    ">\n",
    ">   Focus on the middle of the dielectric slab (so that we don't have to consider fringe fields).  Draw the external field (due to the large plates), the induced (due to the polarization of the dielectric), and the total electric field outside and inside the dielectric.  When considering the effect of the polarization of the dielectric, it will be helpful to remember that the electric field of an infinite sheet of charge is a constant and does not depend on distance: [Electric Field, Flat Sheets of Charge (gsu.edu)](http://hyperphysics.phy-astr.gsu.edu/hbase/electric/elesht.html#c1)"
   ]
  },
  {
   "cell_type": "markdown",
   "metadata": {},
   "source": [
    " "
   ]
  },
  {
   "cell_type": "markdown",
   "metadata": {},
   "source": [
    ">   ### (iv.) \n",
    ">\n",
    ">   Let $y$ point up and $x$ point to the right. $z$ points out of the page. Make a graph that shows the $y$ component of the electric field as you walk along $y$, starting from the bottom plate to the top plate.  Is this function continuous or discontinuous?  Griffiths states (4.3.3, but be warned it's not a super useful discussion) that the electric field components perpendicular to a surface are discontinuous by a factor of $\\sigma / \\epsilon_0$, while the electric field components parallel to a surface are continuous.  Does this match your graph? "
   ]
  },
  {
   "cell_type": "markdown",
   "metadata": {},
   "source": []
  },
  {
   "cell_type": "markdown",
   "metadata": {},
   "source": [
    ">   ## [2]\n",
    ">\n",
    ">   A sphere of dielectric material is placed between two large, conducting plates.  When the voltage supply is switched on, it creates an electric field that points up between the two large plates.  The electric field of two large plates is nearly uniform near the center of the plates, and that's where the dielectric is - so pretend like the electric field is uniform and upwards."
   ]
  },
  {
   "cell_type": "markdown",
   "metadata": {},
   "source": [
    ">   ### (i.) \n",
    ">\n",
    ">   Draw the surface charge that forms when we switch the electric field on. Do you think the surface charge is uniform? How do you apply $\\sigma = \\vec{\\mathbf{P}} \\cdot \\hat{\\mathbf{n}}$ here? "
   ]
  },
  {
   "cell_type": "markdown",
   "metadata": {},
   "source": []
  },
  {
   "cell_type": "markdown",
   "metadata": {},
   "source": [
    ">   ### (ii.) \n",
    ">\n",
    ">   Based on your charge distribution, sketch the external, induced, and total electric field around and inside the sphere.  It may help to use [Charges and Fields](https://phet.colorado.edu/sims/html/charges-and-fields/latest/charges-and-fields_all.html) - just keep in mind that this simulation will get inaccurate if you're close to any individual point charge since what we have in reality is a continuous distribution. "
   ]
  },
  {
   "cell_type": "markdown",
   "metadata": {},
   "source": []
  },
  {
   "cell_type": "markdown",
   "metadata": {},
   "source": [
    ">   ### (iii.)\n",
    ">\n",
    ">   Consider the boundary conditions that the electric field components perpendicular to a surface are discontinuous by a factor of $\\sigma / \\epsilon_0$, while the electric field components parallel to a surface are continuous.  Does your current sketch support this at all? How? "
   ]
  },
  {
   "cell_type": "markdown",
   "metadata": {},
   "source": []
  },
  {
   "cell_type": "markdown",
   "metadata": {},
   "source": [
    ">   ### (iv.) \n",
    ">\n",
    ">   Correct your sketch based on the boundary conditions. Do these boundary conditions seem plausible? "
   ]
  },
  {
   "cell_type": "markdown",
   "metadata": {},
   "source": []
  },
  {
   "cell_type": "markdown",
   "metadata": {},
   "source": [
    ">   ## [3] \n",
    ">\n",
    ">   Conductors have free charge, and that means the charge will keep moving until it feels no force. In other words, the electric field inside a conductor (that's not connected to a battery) is zero.  How do the pictures of the external, induced, and total electric fields change for the above systems if they're metal instead of dielectric? "
   ]
  },
  {
   "cell_type": "markdown",
   "metadata": {},
   "source": []
  },
  {
   "cell_type": "markdown",
   "metadata": {},
   "source": [
    ">   ## [4]\n",
    ">\n",
    ">   (Phys 5311!) Jackson writes the boundary conditions in a nice, precise way: \n",
    ">   $$\\begin{aligned}\n",
    ">       \\left(\\vec{\\mathbf{D}}_2 - \\vec{\\mathbf{D}}_1 \\right) \\cdot&\\ \\hat{\\mathbf{n}}_{21} &=\\ \\sigma \\\\\n",
    ">       \\left( \\vec{\\mathbf{E}}_2 - \\vec{\\mathbf{E}}_1 \\right) \\times&\\ \\hat{\\mathbf{n}}_{21} &=\\ 0 \n",
    ">   \\end{aligned}$$\n",
    ">   where $\\hat{\\mathbf{n}}_{21}$ points from region 2 to region 1.  Discuss the two setups above in terms of these boundary conditions: do they seem to apply, or not? "
   ]
  },
  {
   "cell_type": "markdown",
   "metadata": {},
   "source": []
  }
 ],
 "metadata": {
  "language_info": {
   "name": "python"
  }
 },
 "nbformat": 4,
 "nbformat_minor": 2
}
