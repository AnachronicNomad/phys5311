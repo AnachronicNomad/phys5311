{
 "cells": [
  {
   "cell_type": "markdown",
   "metadata": {},
   "source": [
    "# Electric Field Computations"
   ]
  },
  {
   "cell_type": "markdown",
   "metadata": {},
   "source": [
    "---"
   ]
  },
  {
   "cell_type": "markdown",
   "metadata": {},
   "source": [
    ">   ### [C.3-1]\n",
    ">\n",
    ">   Write down the system of linear equations that results from the discretization of the capacitance problem shown in Fig. 3.1. \n",
    ">\n",
    ">   Let $c = d = 3a = 3b$ and use a square grid, with one grid point between the inner and outer conductors. Let the potential by $\\phi_1$ on the inner conductor and $\\phi_2$ on the outer conductor. "
   ]
  },
  {
   "cell_type": "markdown",
   "metadata": {},
   "source": [
    ">   #### (a)\n",
    ">\n",
    ">   How are these boundary conditions incorporated into the system of linear equations? Is it possible to use symmetries in the solution of this problem? "
   ]
  },
  {
   "cell_type": "markdown",
   "metadata": {},
   "source": []
  },
  {
   "cell_type": "markdown",
   "metadata": {},
   "source": [
    ">   #### (b)\n",
    ">\n",
    ">   Generalize the result so that it is possible to specify the number of points between the inner and outer conductors.  \n",
    ">\n",
    ">   Write a computer program that generates the system of linear equations $\\mathbf{A}\\mathbf{f} = \\mathbf{b}$, in terms of a matrix $\\mathbf{A}$ and a vector $\\mathbf{b}$; where the solution vector $\\mathbf{f}$ stores the potential values at grid points between the inner and outer conductors. "
   ]
  },
  {
   "cell_type": "markdown",
   "metadata": {},
   "source": []
  },
  {
   "cell_type": "markdown",
   "metadata": {},
   "source": [
    "---"
   ]
  },
  {
   "cell_type": "markdown",
   "metadata": {},
   "source": [
    ">   ### [C.3-3]\n",
    ">\n",
    ">   Use the finite difference scheme to compute the capacitance for a coaxial cable of two concentric circular cylinders with inner radius $a$ and outer radius $b$. \n",
    ">\n",
    ">   For this case, the capacitance per unit length can be calculated analytically, and it is $2\\pi\\epsilon / \\ln(b/a)$.  The circular boundaries do not fall on grid points in a natural way, and one way to proceed is to approximate these boundaries in some sense given the structured Cartesian grid.  This type of approximation is often referred to as the \"staircase approximation\". \n",
    ">\n",
    ">   How does the error depend on the cell size $h$?  Can you extrapolate the results to zero cell size? "
   ]
  },
  {
   "cell_type": "markdown",
   "metadata": {},
   "source": []
  },
  {
   "cell_type": "markdown",
   "metadata": {},
   "source": [
    "---"
   ]
  },
  {
   "cell_type": "markdown",
   "metadata": {},
   "source": [
    ">   ### [C.3-4]\n",
    ">\n",
    ">   Try to formulate the previous problem using polar coordinates (it can be reduced to a 1D problem) to avoid the staircase approximation, and use the finite difference scheme to solve for the capacitance.  \n",
    ">\n",
    ">   Determine the order of convergence. Is it possible to extrapolate the capacitance to zero cell size? "
   ]
  },
  {
   "cell_type": "markdown",
   "metadata": {},
   "source": []
  },
  {
   "cell_type": "markdown",
   "metadata": {},
   "source": [
    "---"
   ]
  }
 ],
 "metadata": {
  "kernelspec": {
   "display_name": "SageMath 10.5",
   "language": "sage",
   "name": "SageMath-10.5"
  },
  "language_info": {
   "name": "sage"
  }
 },
 "nbformat": 4,
 "nbformat_minor": 2
}
