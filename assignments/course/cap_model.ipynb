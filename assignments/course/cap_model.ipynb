{
 "cells": [
  {
   "cell_type": "markdown",
   "metadata": {},
   "source": [
    "# Model a Capacitor - Std. [EM 3] Comp. [1,2]\n",
    "\n",
    "We are going to create a finite Model of a Capacitor."
   ]
  },
  {
   "cell_type": "code",
   "execution_count": 166,
   "metadata": {
    "vscode": {
     "languageId": "python"
    }
   },
   "outputs": [
    {
     "data": {
      "text/html": [
       "<html>\\(\\displaystyle \\verb|SageMath|\\verb| |\\verb|version|\\verb| |\\verb|10.5,|\\verb| |\\verb|Release|\\verb| |\\verb|Date:|\\verb| |\\verb|2024-12-04|\\)</html>"
      ],
      "text/latex": [
       "$\\displaystyle \\verb|SageMath|\\verb| |\\verb|version|\\verb| |\\verb|10.5,|\\verb| |\\verb|Release|\\verb| |\\verb|Date:|\\verb| |\\verb|2024-12-04|$"
      ],
      "text/plain": [
       "'SageMath version 10.5, Release Date: 2024-12-04'"
      ]
     },
     "execution_count": 166,
     "metadata": {},
     "output_type": "execute_result"
    }
   ],
   "source": [
    "########\n",
    "## Setup\n",
    "########\n",
    "\n",
    "%display latex\n",
    "%load_ext autoreload\n",
    "%autoreload complete \n",
    "\n",
    "%load_ext Cython\n",
    "\n",
    "from sage.all import *\n",
    "\n",
    "import numpy as np\n",
    "np.random.seed(1_618_033)\n",
    "\n",
    "Parallelism().set(nproc=8)\n",
    "version()\n"
   ]
  },
  {
   "cell_type": "markdown",
   "metadata": {},
   "source": [
    "# Numpy Approach"
   ]
  },
  {
   "cell_type": "code",
   "execution_count": 167,
   "metadata": {
    "vscode": {
     "languageId": "python"
    }
   },
   "outputs": [],
   "source": [
    "########\n",
    "## Geometry\n",
    "########\n",
    "import numpy as np\n",
    "from numpy import r_\n",
    "\n",
    "h_grid = 2e-2\n",
    "\n",
    "# define the grid space in [-1, 1], in steps of size `h_grid`\n",
    "yy, zz = np.meshgrid(\n",
    "    r_[-1.:1.:h_grid],\n",
    "    r_[-1.:1.:h_grid],\n",
    ")\n"
   ]
  },
  {
   "cell_type": "markdown",
   "metadata": {},
   "source": [
    "TODO :> Explanation of above"
   ]
  },
  {
   "cell_type": "code",
   "execution_count": 168,
   "metadata": {
    "vscode": {
     "languageId": "python"
    }
   },
   "outputs": [],
   "source": [
    "########\n",
    "## Physics Model\n",
    "########\n",
    "import numpy as np\n",
    "\n",
    "# physical constants\n",
    "ε_0 = 8.854_187_818e-12       # dielectric permittivity of vacuum\n",
    "𝛋 = 1. / (4 * np.pi * ε_0)    # Coulomb's constant in [ N·m²/C² ]\n",
    "\n",
    "Ey = np.zeros_like(yy)\n",
    "Ez = np.zeros_like(zz)\n"
   ]
  },
  {
   "cell_type": "markdown",
   "metadata": {},
   "source": [
    "TODO :> Explanation of above"
   ]
  },
  {
   "cell_type": "code",
   "execution_count": 169,
   "metadata": {
    "vscode": {
     "languageId": "python"
    }
   },
   "outputs": [
    {
     "data": {
      "image/png": "[encoded data removed]",
      "text/plain": [
       "<Figure size 1000x800 with 1 Axes>"
      ]
     },
     "metadata": {},
     "output_type": "display_data"
    }
   ],
   "source": [
    "########\n",
    "## Visualize\n",
    "########\n",
    "import matplotlib.pyplot as plt\n",
    "\n",
    "# initialize plot\n",
    "fig, ax = plt.subplots(figsize=(10,8))\n",
    "\n",
    "# define colormap using vector magnitude\n",
    "\n",
    "################################\n",
    "\n",
    "# vector plot\n",
    "ax.quiver(\n",
    "    yy, zz, # position\n",
    "    Ey, Ez  # direction\n",
    ")\n",
    "\n",
    "################################\n",
    "\n",
    "ax.set_aspect('equal')\n",
    "\n",
    "ax.set_title('Electric Field Between Two Plates (yz-plane with z as vertical)')\n",
    "ax.set_xlabel('y')\n",
    "ax.set_ylabel('z')\n",
    "\n",
    "plt.show()\n"
   ]
  },
  {
   "cell_type": "markdown",
   "metadata": {},
   "source": [
    "TODO :> Explanation of above\n"
   ]
  },
  {
   "cell_type": "markdown",
   "metadata": {},
   "source": [
    "## Dielectric"
   ]
  },
  {
   "cell_type": "markdown",
   "metadata": {},
   "source": [
    "# Sage Math Approach"
   ]
  },
  {
   "cell_type": "code",
   "execution_count": 170,
   "metadata": {
    "vscode": {
     "languageId": "python"
    }
   },
   "outputs": [],
   "source": [
    "########\n",
    "## Geometry\n",
    "########\n"
   ]
  },
  {
   "cell_type": "code",
   "execution_count": 171,
   "metadata": {
    "vscode": {
     "languageId": "python"
    }
   },
   "outputs": [],
   "source": [
    "########\n",
    "## Physics Model\n",
    "########\n"
   ]
  },
  {
   "cell_type": "code",
   "execution_count": 172,
   "metadata": {
    "vscode": {
     "languageId": "python"
    }
   },
   "outputs": [],
   "source": [
    "########\n",
    "## Visualize\n",
    "########\n"
   ]
  },
  {
   "cell_type": "markdown",
   "metadata": {},
   "source": []
  }
 ],
 "metadata": {
  "kernelspec": {
   "display_name": "SageMath 10.5",
   "language": "sage",
   "name": "SageMath-10.5"
  },
  "language_info": {
   "codemirror_mode": {
    "name": "ipython",
    "version": 3
   },
   "file_extension": ".py",
   "mimetype": "text/x-python",
   "name": "sage",
   "nbconvert_exporter": "python",
   "pygments_lexer": "ipython3",
   "version": "3.12.5"
  },
  "widgets": {
   "application/vnd.jupyter.widget-state+json": {
    "state": {},
    "version_major": 2,
    "version_minor": 0
   }
  }
 },
 "nbformat": 4,
 "nbformat_minor": 4
}
