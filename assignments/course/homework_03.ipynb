{
 "cells": [
  {
   "cell_type": "markdown",
   "metadata": {},
   "source": [
    "# Matter in Magnetic Fields"
   ]
  },
  {
   "cell_type": "markdown",
   "metadata": {},
   "source": [
    "---"
   ]
  },
  {
   "cell_type": "markdown",
   "metadata": {},
   "source": [
    ">   ## [1]\n",
    ">\n",
    ">   Most of our understanding of how matter responds to magnetic fields comes from treating atoms like they're dipoles, and then asking how that dipole responds to a magnetic field."
   ]
  },
  {
   "cell_type": "markdown",
   "metadata": {},
   "source": []
  },
  {
   "cell_type": "markdown",
   "metadata": {},
   "source": [
    ">   ### (a)\n",
    ">   \n",
    ">   Turning on a magnetic field changes the (average!) speed of currents around a nucleus, in a plane perpendicular to the magnetic field.  There is a cumulative increase in dipole moment, and this looks like an overall current on the outside of the material.  Is this paramagnetism or diamagnetism."
   ]
  },
  {
   "cell_type": "markdown",
   "metadata": {},
   "source": []
  },
  {
   "cell_type": "markdown",
   "metadata": {},
   "source": [
    ">   ### (b) \n",
    ">\n",
    ">   In some materials, atoms experience a torque when you turn on a $\\mathbf{\\vec{B}}$ (magnetic field). Is this paramagnetism or diamagnetism? "
   ]
  },
  {
   "cell_type": "markdown",
   "metadata": {},
   "source": []
  },
  {
   "cell_type": "markdown",
   "metadata": {},
   "source": [
    ">   ### (c)\n",
    ">\n",
    ">   How is ferromagnetism related to these?"
   ]
  },
  {
   "cell_type": "markdown",
   "metadata": {},
   "source": []
  },
  {
   "cell_type": "markdown",
   "metadata": {},
   "source": [
    "---"
   ]
  },
  {
   "cell_type": "markdown",
   "metadata": {},
   "source": [
    ">   ## [2] - Do dipoles align or anti-align to an external magnetic field?"
   ]
  },
  {
   "cell_type": "markdown",
   "metadata": {},
   "source": [
    ">   ### (a) \n",
    ">\n",
    ">   We see evidence of how materials respond to magnetic fields through their attraction or repulsion to the field they're in.  When a material acquires a net dipole moment in the direction of the external magnetic field, it's attracted towards the **??**"
   ]
  },
  {
   "cell_type": "markdown",
   "metadata": {},
   "source": []
  },
  {
   "cell_type": "markdown",
   "metadata": {},
   "source": [
    ">   ### (b)\n",
    ">\n",
    ">   Show that this loop is attracted to the dipole creating the field. "
   ]
  },
  {
   "cell_type": "markdown",
   "metadata": {},
   "source": []
  },
  {
   "cell_type": "markdown",
   "metadata": {},
   "source": [
    ">   ### (c)\n",
    ">\n",
    ">   Show that an anti-aligned dipole is repelled. "
   ]
  },
  {
   "cell_type": "markdown",
   "metadata": {},
   "source": []
  },
  {
   "cell_type": "markdown",
   "metadata": {},
   "source": [
    ">   ### (d)\n",
    ">\n",
    ">   Find an example of a material that is repelled from a magnetic field and a material is attracted. \n",
    ">\n",
    ">   Note how different this is from material response to an electric field, where the polarization always aligns in a way that reduces the field. "
   ]
  },
  {
   "cell_type": "markdown",
   "metadata": {},
   "source": []
  },
  {
   "cell_type": "markdown",
   "metadata": {},
   "source": [
    "---"
   ]
  },
  {
   "cell_type": "markdown",
   "metadata": {},
   "source": [
    ">   ## [3] - Boundary Conditions I   \n",
    ">\n",
    ">   Insert a paramagnetic material in the region with a very uniform field. "
   ]
  },
  {
   "cell_type": "markdown",
   "metadata": {},
   "source": [
    ">   ### (a) \n",
    ">\n",
    ">   Label the external field, the induced field, and the total field.  Draw the bound current that created the induced field. "
   ]
  },
  {
   "cell_type": "markdown",
   "metadata": {},
   "source": []
  },
  {
   "cell_type": "markdown",
   "metadata": {},
   "source": [
    ">   ### (b) \n",
    ">\n",
    ">   Draw $\\mathbf{\\vec{B}}_x$, $\\mathbf{\\vec{B}}_y$, $\\mathbf{\\vec{B}}_z$ as you walk along the $y$-axis. \"$\\mathbf{B}$\" is the total magnetic field. "
   ]
  },
  {
   "cell_type": "markdown",
   "metadata": {},
   "source": []
  },
  {
   "cell_type": "markdown",
   "metadata": {},
   "source": [
    ">   ### (c)\n",
    ">\n",
    ">   Draw $\\mathbf{\\vec{B}}_x$, $\\mathbf{\\vec{B}}_y$, $\\mathbf{\\vec{B}}_z$ as you walk along the $z$-axis. "
   ]
  },
  {
   "cell_type": "markdown",
   "metadata": {},
   "source": []
  },
  {
   "cell_type": "markdown",
   "metadata": {},
   "source": [
    ">   ### (d)\n",
    ">\n",
    ">   What components are continuous across the boundary?  What components are discontinuous?\n",
    ">\n",
    ">   Does this make sense, given the bound current distribution?"
   ]
  },
  {
   "cell_type": "markdown",
   "metadata": {},
   "source": []
  },
  {
   "cell_type": "markdown",
   "metadata": {},
   "source": [
    "---"
   ]
  },
  {
   "cell_type": "markdown",
   "metadata": {},
   "source": [
    ">   ## [4] - Boundary Conditions II\n",
    ">\n",
    ">   Griffiths gives the boundary conditions as:\n",
    ">   $$\\begin{align*}\n",
    ">       \\mathbf{\\vec{B}}_{\\textrm{outside}}^\\perp - \\mathbf{\\vec{B}}_{\\textrm{inside}}^\\perp &= 0 \\tag{4.1} \\\\\n",
    ">       \\mathbf{\\vec{B}}_{\\textrm{outside}}^\\parallel - \\mathbf{\\vec{B}}_{\\textrm{inside}}^\\parallel &= \\mu_0 \\left( \\mathbf{\\vec{K}} \\times \\mathbf{\\hat{n}} \\right) \\tag{4.2}\n",
    ">   \\end{align*}$$\n",
    ">   \n",
    ">   where:\n",
    ">   - $\\mathbf{\\vec{B}}$ is the **total field**,\n",
    ">   - $\\mu_0$ is the **vacuum permeability**, a constant,\n",
    ">   - $\\mathbf{\\vec{K}}$ is the **surface current**,\n",
    ">   - $\\mathbf{\\hat{n}}$ is the unit normal vector. \n",
    ">\n",
    ">   Notice that Equation 4.1 is a scalar equation, while Equation 4.2 is a vector equation!\n",
    ">\n",
    ">   ---\n",
    ">\n",
    ">   For excellent & grad students:\n",
    ">   \n",
    ">   Griffiths also gives the boundary conditions in terms of the auxiliary field $\\mathbf{\\vec{H}}$ and magnetization $\\mathbf{\\vec{\\mu}}$.  Discuss the same system and its boundary conditions, but through these quantities. \n",
    ">\n",
    ">   The auxiliary field $\\mathbf{\\vec{H}}$ is the field due solely to \"free current\" - in this case that's the current that creates the near-uniform \"external\" field. "
   ]
  },
  {
   "cell_type": "markdown",
   "metadata": {},
   "source": []
  },
  {
   "cell_type": "markdown",
   "metadata": {},
   "source": [
    "---"
   ]
  },
  {
   "cell_type": "markdown",
   "metadata": {},
   "source": [
    ">   ## [5] - Practice\n",
    ">\n",
    ">   In noise-sensitive circuits you often see signal wire mapped around a ferrite \"donut\":\n",
    ">   \n",
    ">   !!!img here\n",
    ">\n",
    ">   THe purpose of this is to \"choke\", or get rid of, high-frequency noise. We'll talk about how this owrks when we look at changing magnetic fields. For now, the important thing to realize is that the ferrite core strengthens the magnetic field. \n",
    ">\n",
    ">   Let's look at a slightly simpler system:\n",
    ">   \n",
    ">   !!!img here"
   ]
  },
  {
   "cell_type": "markdown",
   "metadata": {},
   "source": [
    ">   ### (a) \n",
    ">\n",
    ">   Draw the magnetic field due to the current supply. The wire is in the shape of a \"**solenoid**\". Draw the vector field everywhere, inside and outside of the cylinder and solenoid.\n",
    ">\n",
    ">   Search for \"magnetic field of a solenoid\" and marvel at the pretty pictures!"
   ]
  },
  {
   "cell_type": "markdown",
   "metadata": {},
   "source": []
  },
  {
   "cell_type": "markdown",
   "metadata": {},
   "source": [
    ">   ### (b)\n",
    ">\n",
    ">   How does the ferrous material respond? "
   ]
  },
  {
   "cell_type": "markdown",
   "metadata": {},
   "source": []
  },
  {
   "cell_type": "markdown",
   "metadata": {},
   "source": [
    ">   ### (c)\n",
    ">\n",
    ">   What does the bound current look like?"
   ]
  },
  {
   "cell_type": "markdown",
   "metadata": {},
   "source": []
  },
  {
   "cell_type": "markdown",
   "metadata": {},
   "source": [
    ">   ### (d)\n",
    ">\n",
    ">   Draw the magnetic field due to the bound current, in all the same locations that you draw the magnetic field due to the free current. "
   ]
  },
  {
   "cell_type": "markdown",
   "metadata": {},
   "source": []
  },
  {
   "cell_type": "markdown",
   "metadata": {},
   "source": [
    ">   ### (e) \n",
    ">\n",
    ">   What does the total magnetic field look like?\n",
    ">\n",
    ">   The goal of these setups is usually to increase the magnetic field inside the solenoid. Does that happen? (we'll talk about _why_ that's useful in the next unit!)"
   ]
  },
  {
   "cell_type": "markdown",
   "metadata": {},
   "source": []
  },
  {
   "cell_type": "markdown",
   "metadata": {},
   "source": [
    ">   ### (f)\n",
    ">   \n",
    ">   Graph $\\mathbf{B}_z$, $\\mathbf{B}_r$, $\\mathbf{B}_{\\theta}$ when walking through:\n",
    ">\n",
    ">   1. the flat top surface\n",
    ">   2. the flat bottom surface\n",
    ">   3. the curved side\n",
    ">\n",
    ">   Explain how these obey the boundary conditions above. "
   ]
  },
  {
   "cell_type": "markdown",
   "metadata": {},
   "source": []
  },
  {
   "cell_type": "markdown",
   "metadata": {},
   "source": [
    ">   ### (g)\n",
    ">\n",
    ">   The relationship between the total magnetic field $\\mathbf{\\vec{B}}$, the **auxiliary field** $\\mathbf{\\vec{H}}$, and the magnetization $\\mathbf{\\vec{\\mu}}$ is $\\mathbf{\\vec{B}} = \\mu_0 \\left( \\mathbf{\\vec{H}} + \\mathbf{\\vec{\\mu}} \\right)$.\n",
    ">   Which, if any, of these fields did you draw?  Explain. "
   ]
  },
  {
   "cell_type": "markdown",
   "metadata": {},
   "source": []
  },
  {
   "cell_type": "markdown",
   "metadata": {},
   "source": [
    "---"
   ]
  },
  {
   "cell_type": "markdown",
   "metadata": {},
   "source": []
  }
 ],
 "metadata": {
  "kernelspec": {
   "display_name": "Python 3",
   "language": "python",
   "name": "python3"
  },
  "language_info": {
   "name": "python",
   "version": "3.13.1"
  }
 },
 "nbformat": 4,
 "nbformat_minor": 2
}
