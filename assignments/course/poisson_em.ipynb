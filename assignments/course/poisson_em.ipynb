{
 "cells": [
  {
   "cell_type": "markdown",
   "id": "52387cb4",
   "metadata": {},
   "source": [
    "# Poisson's Equation - Problem Set\n",
    "---"
   ]
  },
  {
   "cell_type": "markdown",
   "id": "9e1c7d15",
   "metadata": {},
   "source": [
    ">   ## [1] - $\\quad$ [lex20] Square pipe made of conducting walls at different potential\n",
    ">   \n",
    ">   Consider a pipe of infinite length with an $a \\times a$ inside square cross-section, made of four conducting walls kept at different electric potential.  The walls at $x = \\pm a/2$ are grounded, and the walls at $y = \\pm a/2$ are held at potential $\\Phi_0 > 0$. "
   ]
  },
  {
   "cell_type": "markdown",
   "id": "2b178f30",
   "metadata": {},
   "source": [
    ">   ### (a)"
   ]
  },
  {
   "cell_type": "markdown",
   "id": "b9f3b14e",
   "metadata": {},
   "source": [
    ">   #### {i} \n",
    ">   Express the electric potential $\\Phi(x,y)$ inside the pipe as a series of \"product functions\" $X(x)Y(y)$, that solve the Laplace equation and satisfy the Dirichlet boundary conditions. "
   ]
  },
  {
   "cell_type": "markdown",
   "id": "ba94d149",
   "metadata": {},
   "source": [
    ">   #### {ii} \n",
    ">   \n",
    ">   Explain why that series must have the form\n",
    ">   $$\\Phi(x,y) = \\sum_{n=0}^{\\infty} C_n \\cos\\left( k_n x \\right) \\cosh \\left( k_n y \\right); \\\\ \n",
    ">   \\qquad \\\\ \n",
    ">   \\qquad k_n = (2n+1) \\frac{\\pi}{a} \\quad :\\ n=0,1,2,\\ldots$$"
   ]
  },
  {
   "cell_type": "markdown",
   "id": "f93d0ce5",
   "metadata": {},
   "source": [
    ">   ### (b)\n",
    ">\n",
    ">   Visualize the potential in a contour plot."
   ]
  },
  {
   "cell_type": "markdown",
   "id": "5503b3fb",
   "metadata": {},
   "source": [
    ">   ### (c)\n",
    ">\n",
    ">   Determine the surface charge distribution in each wall, and plot its profile. "
   ]
  },
  {
   "cell_type": "markdown",
   "id": "631b2431",
   "metadata": {},
   "source": [
    "---"
   ]
  },
  {
   "cell_type": "markdown",
   "id": "450def84",
   "metadata": {},
   "source": [
    ">   ## [2] -$\\quad$ [lex21] Conducting rectangular pipe with end-plate potential\n",
    ">\n",
    ">   Consider a grounded conducting pipe at $x>0$, with an inside square cross section $0 \\leq y \\leq a$, $0 \\leq z \\leq a$, and an end-plate at $x=0$ held at potential $\\Phi_0 > 0$. "
   ]
  },
  {
   "cell_type": "markdown",
   "id": "5bdb8466",
   "metadata": {},
   "source": [
    ">   ### (a)\n",
    ">\n",
    ">   #### {i}\n",
    ">   \n",
    ">   Express the electric potential $\\Phi(x,y,z)$ in the interior of the pipe as a series of product functions $X(x)Y(y)Z(z)$, that solve the Laplace equation and satisfy the Dirichlet boundary conditions."
   ]
  },
  {
   "cell_type": "markdown",
   "id": "3411be50",
   "metadata": {},
   "source": [
    ">   #### {ii}\n",
    ">\n",
    ">   Explain why that expansion must have the form\n",
    ">   \n",
    ">   $$\\Phi(x,y,z) = C_{mn} e^{-\\kappa_{mn}\\ x} \\sin\\left(k_m y\\right) \\sin\\left(k_n z\\right); \\\\ \n",
    ">   \\qquad \\\\\n",
    ">   k_m = m \\frac{\\pi}{a}, \\quad k_n = n \\frac{\\pi}{a}, \\quad \\kappa_{mn} = \\sqrt{k_m^2 + k_n^2}$$\n",
    ">\n",
    ">   and determine the permissible integer values of $m, n$."
   ]
  },
  {
   "cell_type": "markdown",
   "id": "4b8e47e1",
   "metadata": {},
   "source": [
    ">   ### (b)\n",
    ">\n",
    ">   Visualize the potential graphically, in ways that emphasize all salient features. "
   ]
  },
  {
   "cell_type": "markdown",
   "id": "c97a4207",
   "metadata": {},
   "source": [
    ">   ### (c)\n",
    ">\n",
    ">   Determine and visualize the surface charge distribution in each wall, and in the end-plate. "
   ]
  },
  {
   "cell_type": "markdown",
   "id": "a3dce1f2",
   "metadata": {},
   "source": [
    "---"
   ]
  },
  {
   "cell_type": "markdown",
   "id": "a48bfb4a",
   "metadata": {},
   "source": [
    ">   ## [3*] -$\\quad$ [lex27] Electric potential and field at edge of large conducting plate\n",
    ">\n",
    ">   A large and thin conducting plate is positioned in the horizontal plane, at $x \\geq 0$ as shown in cross-section.  \n",
    ">\n",
    ">   Far away from the edge at $x=0$, the charge on both surfaces of the plate is known to be uniformly distributed, and to produce a uniform electric field in the vicinity: $\\mathbf{E}_y = \\left(\\sigma / \\epsilon_0\\right) \\mathrm{sgn} y$.\n",
    ">\n",
    ">   Near the edge, the charge distribution is non-uniform, described by a surface charge density $\\sigma(x)$, and the electric field is non-uniform in direction and magnitude: $\\mathbf{E} = \\mathbf{E}_x \\left(x,y\\right) \\hat{\\mathbf{i}} + \\mathbf{E}_y \\left(x,y\\right) \\hat{\\mathbf{j}}$.\n",
    ">\n",
    ">   (Hint:) Use the method of conjugate functions from [[lln7]](https://phys.uri.edu/~gerhard/PHY331/lln7.pdf) for the analysis of the situation, employing the complex function, $$\\begin{aligned} F(z)\\ \\dot{=}&\\ A \\sqrt{z} \\\\ =&\\ g(x,y) + ih(x,y); \\quad z\\ \\dot{=}\\ x+iy \\end{aligned}$$"
   ]
  },
  {
   "cell_type": "markdown",
   "id": "7f3cf617",
   "metadata": {},
   "source": [
    ">   ### (a)\n",
    ">\n",
    ">   Show that the real and imaginary parts of this complex function are\n",
    ">\n",
    ">   $$g(x,y) = \\frac{A}{\\sqrt{2}} \\left[\\sqrt{x^2 + y^2} + x\\right]^{1/2}, \\\\ \\quad \\\\ h(x,y) = \\Phi(x,y) = \\frac{A}{\\sqrt{2}} \\left[\\sqrt{x^2 + y^2} - x\\right]^{1/2}$$\n",
    ">   \n",
    ">   respectively; and that they satisfy the Cauchy-Riemann conditions, which makes them conjugate functions and solutions of the Laplace Equation. "
   ]
  },
  {
   "cell_type": "markdown",
   "id": "23936b01",
   "metadata": {},
   "source": [
    ">   ### (b)\n",
    ">\n",
    ">   One of the two functions, when equated with the electric potential $\\Phi(x,y)$ satisfies the boundary condition, $\\Phi(x,0) = 0$ for $x>0$.  Which is it?"
   ]
  },
  {
   "cell_type": "markdown",
   "id": "3b9c07af",
   "metadata": {},
   "source": [
    ">   ### (c)\n",
    ">\n",
    ">   Design graphical representations of equi-potential lines and field lines, which intersect orthogonally from the relations\n",
    ">   \n",
    ">   $$g(x,y) = \\textrm{const} \\\\ \\textrm{and} \\\\ h(x,y) = \\textrm{const}$$"
   ]
  },
  {
   "cell_type": "markdown",
   "id": "31da888e",
   "metadata": {},
   "source": [
    ">   ### (d)\n",
    ">\n",
    ">   From the gradient of the function $\\Phi(x,y)$ evaluated at $x>0$ and $y=0$, derive the function $\\sigma(x)$, representing the surface charge density using the local relation $E = \\sigma / \\epsilon$."
   ]
  },
  {
   "cell_type": "markdown",
   "id": "e4597e64",
   "metadata": {},
   "source": [
    "---"
   ]
  },
  {
   "cell_type": "markdown",
   "id": "b774809e",
   "metadata": {},
   "source": [
    ">   ## [4*] -$\\quad$ [lex126] Electrostatic potential inside rectangular box I\n",
    ">\n",
    ">   A box with rectangular sides is positioned into a Cartesian coordinate system as shown.  Each side of the box is a conductor insulated from the adjacent sides, held at different electric potentials $V_1,\\ldots,V_6$.  **What is the electric potential $\\Phi(x,y,z)$ inside the box?**.\n",
    ">\n",
    ">   (Hint:) This problem can be split into six equivalent parts, by invocation of the superposition principle. For each side of the box $i$, keep the other five sides of the box grounded, and side $i$ at the specified potential $V_i$. "
   ]
  },
  {
   "cell_type": "markdown",
   "id": "b2f7744c",
   "metadata": {},
   "source": [
    "---"
   ]
  },
  {
   "cell_type": "markdown",
   "id": "5f5d1017",
   "metadata": {},
   "source": [
    ">   ## [5*] -$\\quad$ [lex127] Electrostatic potential inside rectangular box II\n",
    ">\n",
    ">   A cubic box, consisting of conducting sides with edges of $l = 1\\ [\\textrm{m}]$ length, is positioned into a Cartesian coordinate system as shown. The top square is insulated from the other five sides.  The former is held at electric potential $V = 1\\ [\\textrm{V}]$, and the latter are grounded. "
   ]
  },
  {
   "cell_type": "markdown",
   "id": "00780d21",
   "metadata": {},
   "source": [
    ">   ### (a)\n",
    ">\n",
    ">   Use the series expansion for $\\Phi(x,y,z)$ inside the box determined in the previous problem ([lex126]), to calculate the charge density on three of the sides in the form of series expansions: \n",
    ">   \n",
    ">   * (i) $\\sigma(x,y,0)$, \n",
    ">   * (ii) $\\sigma(x,y,1)$, \n",
    ">   * (iii) $\\sigma(0,y,z)$"
   ]
  },
  {
   "cell_type": "markdown",
   "id": "e96c0b09",
   "metadata": {},
   "source": [
    ">   ### (b)\n",
    ">\n",
    ">   Use contour plots to visualize the surface charge density on the three sides of the cube, and explain by articulation how electric charge is distributed across them. "
   ]
  },
  {
   "cell_type": "markdown",
   "id": "7bedfa22",
   "metadata": {},
   "source": [
    "---"
   ]
  }
 ],
 "metadata": {
  "language_info": {
   "name": "python"
  }
 },
 "nbformat": 4,
 "nbformat_minor": 5
}
