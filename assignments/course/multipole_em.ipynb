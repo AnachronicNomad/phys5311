{
 "cells": [
  {
   "cell_type": "markdown",
   "id": "1d8a7c1b",
   "metadata": {},
   "source": [
    "# Multipole Expansion Problem Set"
   ]
  },
  {
   "cell_type": "code",
   "execution_count": null,
   "id": "b2577bfd",
   "metadata": {
    "vscode": {
     "languageId": "python"
    }
   },
   "outputs": [],
   "source": [
    "########\n",
    "## Env Setup\n",
    "########\n",
    "%load_ext autoreload\n",
    "%autoreload complete \n",
    "\n",
    "%load_ext Cython\n",
    "\n",
    "%display latex\n",
    "\n",
    "################\n",
    "\n",
    "from sage.all import *\n",
    "\n",
    "import numpy as np\n",
    "np.random.seed(1_618_033)\n",
    "\n",
    "################\n",
    "\n",
    "#Parallelism().set(nproc=8)\n",
    "version()\n"
   ]
  },
  {
   "cell_type": "code",
   "execution_count": null,
   "id": "b29322be",
   "metadata": {
    "vscode": {
     "languageId": "python"
    }
   },
   "outputs": [
    {
     "name": "stdout",
     "output_type": "stream",
     "text": [
      "The Zen of Python, by Tim Peters\n",
      "\n",
      "Beautiful is better than ugly.\n",
      "Explicit is better than implicit.\n",
      "Simple is better than complex.\n",
      "Complex is better than complicated.\n",
      "Flat is better than nested.\n",
      "Sparse is better than dense.\n",
      "Readability counts.\n",
      "Special cases aren't special enough to break the rules.\n",
      "Although practicality beats purity.\n",
      "Errors should never pass silently.\n",
      "Unless explicitly silenced.\n",
      "In the face of ambiguity, refuse the temptation to guess.\n",
      "There should be one-- and preferably only one --obvious way to do it.\n",
      "Although that way may not be obvious at first unless you're Dutch.\n",
      "Now is better than never.\n",
      "Although never is often better than *right* now.\n",
      "If the implementation is hard to explain, it's a bad idea.\n",
      "If the implementation is easy to explain, it may be a good idea.\n",
      "Namespaces are one honking great idea -- let's do more of those!\n"
     ]
    }
   ],
   "source": [
    "##  sanity check\n",
    "import this\n"
   ]
  },
  {
   "cell_type": "markdown",
   "id": "72a08ddd",
   "metadata": {},
   "source": [
    "---"
   ]
  },
  {
   "cell_type": "markdown",
   "id": "25c9f28f",
   "metadata": {},
   "source": [
    ">   ## [1] -$\\quad$ Jackson, Problem 4.1 \n",
    ">\n",
    ">   Calculate the multipole moments $q_{lm}$ of the charge distributions shown below.  Try to obtain results for the non-vanishing moments valid for all $l$, but in each case find the first _two_ sets of non-vanishing moments at the very least. \n"
   ]
  },
  {
   "cell_type": "markdown",
   "id": "0b998593",
   "metadata": {},
   "source": [
    "<hr width=\"82%\" style=\"border-top:2px dashed black; border-bottom:none\"/>"
   ]
  },
  {
   "cell_type": "markdown",
   "id": "8fafc999",
   "metadata": {},
   "source": [
    ">   ### (a)"
   ]
  },
  {
   "cell_type": "markdown",
   "id": "6cb4525d",
   "metadata": {},
   "source": [
    "<hr width=\"82%\" style=\"border-top:2px dashed black; border-bottom:none\"/>"
   ]
  },
  {
   "cell_type": "markdown",
   "id": "87fe93a5",
   "metadata": {},
   "source": [
    ">   ### (b)"
   ]
  },
  {
   "cell_type": "markdown",
   "id": "2c80e0e7",
   "metadata": {},
   "source": [
    "<hr width=\"82%\" style=\"border-top:2px dashed black; border-bottom:none\"/>"
   ]
  },
  {
   "cell_type": "markdown",
   "id": "12101267",
   "metadata": {},
   "source": [
    ">   ### (c)"
   ]
  },
  {
   "cell_type": "markdown",
   "id": "64b4456c",
   "metadata": {},
   "source": [
    "<hr width=\"82%\" style=\"border-top:2px dashed black; border-bottom:none\"/>"
   ]
  },
  {
   "cell_type": "markdown",
   "id": "fbb54294",
   "metadata": {},
   "source": [
    ">   ### (d)"
   ]
  },
  {
   "cell_type": "markdown",
   "id": "36ac5381",
   "metadata": {},
   "source": [
    "<hr width=\"64%\" style=\"border-top:1px dotted black; border-bottom:none\"/>"
   ]
  },
  {
   "cell_type": "markdown",
   "id": "4862e709",
   "metadata": {},
   "source": [
    ">   #### {i}\n",
    ">\n",
    ">   For the charge distribution _(b)_, write down the multipole expansion for the potential. "
   ]
  },
  {
   "cell_type": "markdown",
   "id": "41c14256",
   "metadata": {},
   "source": [
    "<hr width=\"64%\" style=\"border-top:1px dotted black; border-bottom:none\"/>"
   ]
  },
  {
   "cell_type": "markdown",
   "id": "d763c5d1",
   "metadata": {},
   "source": [
    ">   #### {ii}\n",
    ">\n",
    ">   Keeping only the lowest-order term in the expansion, plot the potential in the $xy$-plane as a function of distance from the origin, for distances greater than $a$. "
   ]
  },
  {
   "cell_type": "markdown",
   "id": "b771188d",
   "metadata": {},
   "source": [
    "<hr width=\"82%\" style=\"border-top:2px dashed black; border-bottom:none\"/>"
   ]
  },
  {
   "cell_type": "markdown",
   "id": "81daf6ec",
   "metadata": {},
   "source": [
    ">   ### (e)\n",
    ">\n",
    ">   Calculate directly from Coulomb's Law the exact potential for _(b)_ in the $xy$-plane.\n",
    ">\n",
    ">   Plot it as a function of distance, and compare with the result found in _(d)_. "
   ]
  },
  {
   "cell_type": "markdown",
   "id": "3dcbaeb3",
   "metadata": {},
   "source": [
    "<hr width=\"82%\" style=\"border-top:2px dashed black; border-bottom:none\"/>"
   ]
  },
  {
   "cell_type": "markdown",
   "id": "3e4b957f",
   "metadata": {},
   "source": [
    ">   ### (f)\n",
    ">\n",
    ">   Divide out the asymptotic form in parts _(d)_ and _(e)_, in order to see the behavior at large distances more clearly. "
   ]
  },
  {
   "cell_type": "markdown",
   "id": "3e768844",
   "metadata": {},
   "source": [
    "---"
   ]
  }
 ],
 "metadata": {
  "kernelspec": {
   "display_name": "SageMath 10.5",
   "language": "sage",
   "name": "SageMath-10.5"
  },
  "language_info": {
   "codemirror_mode": {
    "name": "ipython",
    "version": 3
   },
   "file_extension": ".py",
   "mimetype": "text/x-python",
   "name": "sage",
   "nbconvert_exporter": "python",
   "pygments_lexer": "ipython3",
   "version": "3.12.5"
  }
 },
 "nbformat": 4,
 "nbformat_minor": 5
}
