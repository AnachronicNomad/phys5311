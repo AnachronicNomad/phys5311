{
 "cells": [
  {
   "cell_type": "markdown",
   "id": "1d8a7c1b",
   "metadata": {},
   "source": [
    "# Multipole Expansion Problem Set"
   ]
  },
  {
   "cell_type": "markdown",
   "id": "72a08ddd",
   "metadata": {},
   "source": [
    "---"
   ]
  },
  {
   "cell_type": "markdown",
   "id": "25c9f28f",
   "metadata": {},
   "source": [
    ">   ## [1] -$\\quad$ Jackson, Problem 4.1 \n",
    ">\n",
    ">   Calculate the multipole moments $q_{lm}$ of the charge distributions shown below.  Try to obtain results for the non-vanishing moments valid for all $l$, but in each case find the first _two_ sets of non-vanishing moments at the very least. \n"
   ]
  },
  {
   "cell_type": "markdown",
   "id": "8fafc999",
   "metadata": {},
   "source": [
    ">   ### (a)"
   ]
  },
  {
   "cell_type": "markdown",
   "id": "87fe93a5",
   "metadata": {},
   "source": [
    ">   ### (b)"
   ]
  },
  {
   "cell_type": "markdown",
   "id": "12101267",
   "metadata": {},
   "source": [
    ">   ### (c)"
   ]
  },
  {
   "cell_type": "markdown",
   "id": "fbb54294",
   "metadata": {},
   "source": [
    ">   ### (d)"
   ]
  },
  {
   "cell_type": "markdown",
   "id": "4862e709",
   "metadata": {},
   "source": [
    ">   #### {i}\n",
    ">\n",
    ">   For the charge distribution _(b)_, write down the multipole expansion for the potential. "
   ]
  },
  {
   "cell_type": "markdown",
   "id": "d763c5d1",
   "metadata": {},
   "source": [
    ">   #### {ii}\n",
    ">\n",
    ">   Keeping only the lowest-order term in the expansion, plot the potential in the $xy$-plane as a function of distance from the origin, for distances greater than $a$. "
   ]
  },
  {
   "cell_type": "markdown",
   "id": "81daf6ec",
   "metadata": {},
   "source": [
    ">   ### (e)\n",
    ">\n",
    ">   Calculate directly from Coulomb's Law the exact potential for _(b)_ in the $xy$-plane.\n",
    ">\n",
    ">   Plot it as a function of distance, and compare with the result found in _(d)_. "
   ]
  },
  {
   "cell_type": "markdown",
   "id": "3e4b957f",
   "metadata": {},
   "source": [
    ">   ### (f)\n",
    ">\n",
    ">   Divide out the asymptotic form in parts _(d)_ and _(e)_, in order to see the behavior at large distances more clearly. "
   ]
  },
  {
   "cell_type": "markdown",
   "id": "3e768844",
   "metadata": {},
   "source": [
    "---"
   ]
  }
 ],
 "metadata": {
  "language_info": {
   "name": "python"
  }
 },
 "nbformat": 4,
 "nbformat_minor": 5
}
