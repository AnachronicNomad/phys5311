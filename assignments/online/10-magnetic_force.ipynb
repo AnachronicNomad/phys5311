{
 "cells": [
  {
   "cell_type": "markdown",
   "id": "5a630493",
   "metadata": {},
   "source": [
    "# Magnetic Force\n",
    "\n",
    "M&I Ch 20 Magnetic Force\n",
    "\n",
    "- §20.1 &ndash; Magnetic Force on a Moving Charge\n",
    "- §20.3 &ndash; Combining Electric and Magnetic Forces\n",
    "- §20.4 &ndash; The Hall Effect\n",
    "- §20.5 &ndash; Motional EMF"
   ]
  },
  {
   "cell_type": "code",
   "execution_count": null,
   "id": "4d87d0c4",
   "metadata": {
    "vscode": {
     "languageId": "python"
    }
   },
   "outputs": [
    {
     "name": "stdout",
     "output_type": "stream",
     "text": [
      "Python: 3.12.5 (main, Feb 25 2025, 12:37:41) [Clang 16.0.0 (clang-1600.0.26.6)]\n"
     ]
    },
    {
     "data": {
      "text/html": [
       "<html>\\(\\displaystyle \\verb|SageMath|\\verb| |\\verb|version|\\verb| |\\verb|10.6,|\\verb| |\\verb|Release|\\verb| |\\verb|Date:|\\verb| |\\verb|2025-03-31|\\)</html>"
      ],
      "text/latex": [
       "$\\displaystyle \\verb|SageMath|\\verb| |\\verb|version|\\verb| |\\verb|10.6,|\\verb| |\\verb|Release|\\verb| |\\verb|Date:|\\verb| |\\verb|2025-03-31|$"
      ],
      "text/plain": [
       "'SageMath version 10.6, Release Date: 2025-03-31'"
      ]
     },
     "execution_count": 1,
     "metadata": {},
     "output_type": "execute_result"
    }
   ],
   "source": [
    "########\n",
    "## Env Setup / Preamble\n",
    "########\n",
    "%load_ext autoreload\n",
    "%autoreload complete \n",
    "\n",
    "%load_ext Cython\n",
    "\n",
    "%display latex\n",
    "\n",
    "################\n",
    "\n",
    "import cython\n",
    "from sage.all import *\n",
    "\n",
    "################\n",
    "\n",
    "import tempfile\n",
    "import mmap\n",
    "from multiprocessing import shared_memory\n",
    "\n",
    "################\n",
    "\n",
    "import numpy as np\n",
    "import scipy.constants\n",
    "\n",
    "np.random.seed( int(scipy.constants.golden_ratio * 1.e6) )\n",
    "\n",
    "from numpy import vectorize\n",
    "from numpy import r_, c_, s_\n",
    "\n",
    "################\n",
    "\n",
    "####    boiler-plate class for named constants\n",
    "from sage.symbolic.constants import Constant\n",
    "class ConstantFromExpression(Constant):\n",
    "    def __init__(self, name, v):\n",
    "        conversions = dict(maxima=repr(maxima.coerce(v)))\n",
    "        Constant.__init__(self, name, conversions=conversions)\n",
    "        self._v = v\n",
    "    def __float__(self): return float(self._v)\n",
    "    def __complex__(self): return complex(self._v)\n",
    "    def _mpfr_(self, R): return R(self._v)\n",
    "    def _real_double_(self, R): return R(self._v)\n",
    "\n",
    "def NamedExpression(name, expr):\n",
    "    return ConstantFromExpression(name,expr).expression()\n",
    "####\n",
    "\n",
    "import sage.symbolic.units as units     # <: TODO\n",
    "\n",
    "π   = NamedExpression('π', scipy.constants.pi)          # pi\n",
    "ε_0 = NamedExpression('ε_0', scipy.constants.epsilon_0) # electric permittivity of vacuum\n",
    "μ_0 = NamedExpression('μ_0', scipy.constants.mu_0)      # magnetic permeability of vacuum\n",
    "\n",
    "𝛋 = 1. / (4 * π * ε_0)      # Coulomb's constant in [ N·m²/C² ]\n",
    "q = NamedExpression('q', -scipy.constants.elementary_charge)\n",
    "\n",
    "ℎ_planck = NamedExpression('ℎ', scipy.constants.Planck)\n",
    "ℏ = NamedExpression('ℏ', scipy.constants.hbar)\n",
    "\n",
    "α = NamedExpression('α', scipy.constants.fine_structure)\n",
    "\n",
    "m_e = NamedExpression('m_e', scipy.constants.electron_mass)\n",
    "m_p = NamedExpression('m_p', scipy.constants.proton_mass)\n",
    "\n",
    "################\n",
    "\n",
    "Parallelism().set(nproc=8)\n",
    "print(f\"Python: {sys.version}\")\n",
    "version()\n"
   ]
  },
  {
   "cell_type": "code",
   "execution_count": null,
   "id": "6dbb2a79",
   "metadata": {
    "vscode": {
     "languageId": "python"
    }
   },
   "outputs": [
    {
     "name": "stdout",
     "output_type": "stream",
     "text": [
      "The Zen of Python, by Tim Peters\n",
      "\n",
      "Beautiful is better than ugly.\n",
      "Explicit is better than implicit.\n",
      "Simple is better than complex.\n",
      "Complex is better than complicated.\n",
      "Flat is better than nested.\n",
      "Sparse is better than dense.\n",
      "Readability counts.\n",
      "Special cases aren't special enough to break the rules.\n",
      "Although practicality beats purity.\n",
      "Errors should never pass silently.\n",
      "Unless explicitly silenced.\n",
      "In the face of ambiguity, refuse the temptation to guess.\n",
      "There should be one-- and preferably only one --obvious way to do it.\n",
      "Although that way may not be obvious at first unless you're Dutch.\n",
      "Now is better than never.\n",
      "Although never is often better than *right* now.\n",
      "If the implementation is hard to explain, it's a bad idea.\n",
      "If the implementation is easy to explain, it may be a good idea.\n",
      "Namespaces are one honking great idea -- let's do more of those!\n"
     ]
    }
   ],
   "source": [
    "##  sanity check\n",
    "import this\n"
   ]
  },
  {
   "cell_type": "markdown",
   "id": "d606ac59",
   "metadata": {},
   "source": [
    "---\n",
    "\n",
    "<hr width=\"82%\" style=\"border-top:2px dashed; border-bottom:none\"/>\n",
    "\n",
    "<hr width=\"64%\" style=\"border-top:1px dotted; border-bottom:none\"/>"
   ]
  },
  {
   "cell_type": "markdown",
   "id": "f8c11a0e",
   "metadata": {},
   "source": [
    "<div style=\"page-break-after: always;\"/> \n",
    "<h2 id='1' style=\"display:none\">[1]</h2>\n",
    "\n",
    ">   ---\n",
    ">   ## [1]\n",
    ">\n",
    ">   At a particular instant, a proton is traveling in the $+z$-direction, with \n",
    ">   speed $2 \\times 10^{5}$ [m/s].\n",
    ">   At the location of the proton, there is a magnetic field of magnitude $0.28$ [T] \n",
    ">   in the $+x$-direction, due to the current in a nearby coil.\n",
    ">\n",
    ">   __What is the direction of the magnetic force on the proton?__\n",
    ">\n",
    ">   (select one:)\n",
    ">\n",
    ">   - [ ] &nbsp; $+y$\n",
    ">\n",
    ">   __What is the magnitude of the magnetic force on the proton?__\n",
    ">\n",
    ">   &emsp;&emsp;&emsp;&emsp; $\\lvert\\vec{F}_{mag}\\rvert = \\fbox{\\hspace{8em}?}\\ \\left[\\textrm{N}\\right]$\n",
    ">\n",
    ">   __<p align='right'>(0.1 points)</p>__\n",
    ">\n",
    ">   <hr width=\"82%\" style=\"border-top:1px dashed; border-bottom:none\"/>"
   ]
  },
  {
   "cell_type": "markdown",
   "id": "8f3da31e",
   "metadata": {},
   "source": [
    "- [x] &nbsp; $+y$"
   ]
  },
  {
   "cell_type": "code",
   "execution_count": null,
   "id": "1e6f0da6",
   "metadata": {
    "vscode": {
     "languageId": "python"
    }
   },
   "outputs": [],
   "source": []
  },
  {
   "cell_type": "markdown",
   "id": "1b71e48f",
   "metadata": {},
   "source": [
    "<div style=\"page-break-after: always;\"/> \n",
    "<h2 id='2' style=\"display:none\">[2]</h2>\n",
    "\n",
    ">   ---\n",
    ">   ## [2]\n",
    ">\n",
    ">   At a particular instant, an electron is traveling in the $+z$-direction, \n",
    ">   with speed $9 \\times 10^5$ [m/s]. \n",
    ">   At the location of the electron, there is a magnetic field of magnitude \n",
    ">   $0.25$ [T] in the $-x$ direction, due to a large bar magnet.\n",
    ">\n",
    ">   __What is the direction of the magnetic force on the electron?__\n",
    ">\n",
    ">   (select one:)\n",
    ">\n",
    ">   - [ ] &nbsp; $+y$\n",
    ">\n",
    ">   __What is the magnitude of the magnetic force on the electron?__\n",
    ">\n",
    ">   &emsp;&emsp;&emsp;&emsp; $\\lvert\\vec{F}_{mag}\\rvert = \\fbox{\\hspace{8em}?}\\ \\left[\\textrm{N}\\right]$\n",
    ">\n",
    ">   __<p align='right'>(0.1 points)</p>__\n",
    ">\n",
    ">   <hr width=\"82%\" style=\"border-top:1px dashed; border-bottom:none\"/>"
   ]
  },
  {
   "cell_type": "markdown",
   "id": "7fd54182",
   "metadata": {},
   "source": [
    "- [x] &nbsp; $+y$"
   ]
  },
  {
   "cell_type": "code",
   "execution_count": null,
   "id": "78471c58",
   "metadata": {
    "vscode": {
     "languageId": "python"
    }
   },
   "outputs": [],
   "source": []
  },
  {
   "cell_type": "markdown",
   "id": "72844dcc",
   "metadata": {},
   "source": [
    "<div style=\"page-break-after: always;\"/> \n",
    "<h2 id='3' style=\"display:none\">[3]</h2>\n",
    "\n",
    ">   ---\n",
    ">   ## [3]\n",
    ">\n",
    ">   An electron and a proton are both in motion near each other, as shown in the\n",
    ">   figure below. \n",
    ">\n",
    ">   At the instant depicted, they are a distance $r$ apart.\n",
    ">   The proton is moving with speed $v_p$, at an angle $\\theta$ to the \n",
    ">   horizontal, and the electron is moving straight up with speed $v_e$.\n",
    ">\n",
    ">   (Assume the $+x$ direction is to the right, and the $+y$ direction is upward.\n",
    ">   Indicate the direction with the sign of your answer.)\n",
    ">\n",
    ">   <img loading='lazy' decoding='async' src=\"data:image/avif;base64,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\" />\n",
    ">\n",
    ">   __<p align='right'>(0.1 points)</p>__\n",
    ">\n",
    ">   <hr width=\"82%\" style=\"border-top:1px dashed; border-bottom:none\"/>"
   ]
  },
  {
   "cell_type": "markdown",
   "id": "eb7606cc",
   "metadata": {},
   "source": [
    "<h3 id='3a' style=\"display:none\">(A)</h3>\n",
    "\n",
    ">   <hr width=\"82%\" style=\"border-bottom:2px dashed; border-top:none\"/>\n",
    ">   \n",
    ">   ### &#x2e04;&hairsp;&#x00B3;&hairsp;&#x2E05;&hairsp;(A)\n",
    ">\n",
    ">   __Calculate the $x$- and $y$- components of the force that the proton exerts on the electron.__\n",
    ">\n",
    ">   First, calculate the electric field and magnetic field that the proton produces at the location of the electron, then calculate the forces that these fields exert on the electron. \n",
    ">\n",
    ">   Use the following as necessary for $F_{\\textrm{net},\\ x}$: $\\epsilon_0$, $r$, $v_p$, $v_e$, $\\theta$, and $c$. \\\n",
    ">   Use the following as necessary for $F_{\\textrm{net},\\ y}$: $\\mu_0$, $e$, $r$, $v_p$, $v_e$, $\\theta$, and $c$.\n",
    ">\n",
    ">   &emsp;&emsp;&emsp;&emsp; $F_{\\textrm{net},\\ x} = \\fbox{\\hspace{4em}?}$\n",
    ">\n",
    ">   &emsp;&emsp;&emsp;&emsp; $F_{\\textrm{net},\\ y} = \\fbox{\\hspace{4em}?}$\n",
    ">\n",
    ">   <hr width=\"64%\" style=\"border-top:2px dotted; border-bottom:none\"/>"
   ]
  },
  {
   "cell_type": "markdown",
   "id": "5a967456",
   "metadata": {},
   "source": []
  },
  {
   "cell_type": "markdown",
   "id": "3bf7edcd",
   "metadata": {},
   "source": [
    "<h3 id='3b' style=\"display:none\">(B)</h3>\n",
    "\n",
    ">   <hr width=\"82%\" style=\"border-bottom:2px dashed; border-top:none\"/>\n",
    ">   \n",
    ">   ### &#x2e04;&hairsp;&#x00B3;&hairsp;&#x2E05;&hairsp;(B)\n",
    ">\n",
    ">   __Calculate the $x$- and $y$- components of the force that the electron exerts on the proton.__\n",
    ">\n",
    ">   First, calculate the electric field and magnetic field that the electron \n",
    ">   produces at the location of the proton, then calculate the forces that these\n",
    ">   fields exert on the proton. (In a completely correct quantitative calculation, \n",
    ">   we would have to use the relativistically correct fields.)\n",
    ">\n",
    ">   Use the following as necessary for $F_{\\textrm{net},\\ x}$: $\\epsilon_0$, $r$, $v_p$, $v_e$, $\\theta$, and $c$. \\\n",
    ">   Use the following as necessary for $F_{\\textrm{net},\\ y}$: $\\mu_0$, $e$, $r$, $v_p$, $v_e$, $\\theta$, and $c$.\n",
    ">\n",
    ">   &emsp;&emsp;&emsp;&emsp; $F_{\\textrm{net},\\ x} = \\fbox{\\hspace{4em}?}$\n",
    ">\n",
    ">   &emsp;&emsp;&emsp;&emsp; $F_{\\textrm{net},\\ y} = \\fbox{\\hspace{4em}?}$\n",
    ">\n",
    ">   <hr width=\"64%\" style=\"border-top:2px dotted; border-bottom:none\"/>"
   ]
  },
  {
   "cell_type": "markdown",
   "id": "1b47ba03",
   "metadata": {},
   "source": []
  },
  {
   "cell_type": "markdown",
   "id": "78190bbf",
   "metadata": {},
   "source": [
    "<h3 id='3c' style=\"display:none\">(C)</h3>\n",
    "\n",
    ">   <hr width=\"82%\" style=\"border-bottom:2px dashed; border-top:none\"/>\n",
    ">   \n",
    ">   ### &#x2e04;&hairsp;&#x00B3;&hairsp;&#x2E05;&hairsp;(C)\n",
    ">\n",
    ">   Carefully consider your results. \n",
    ">\n",
    ">   __Are the magnetic forces on the electron and proton equal and opposite?__\n",
    ">\n",
    ">   - [ ] &nbsp; Yes\n",
    ">   - [ ] &nbsp; No\n",
    ">\n",
    ">   __Does reciprocity hold for magnetic forces?__\n",
    ">\n",
    ">   - [ ] &nbsp; Yes\n",
    ">   - [ ] &nbsp; No\n",
    ">\n",
    ">   <hr width=\"64%\" style=\"border-top:2px dotted; border-bottom:none\"/>"
   ]
  },
  {
   "cell_type": "markdown",
   "id": "310f9c8a",
   "metadata": {},
   "source": []
  },
  {
   "cell_type": "markdown",
   "id": "6e85b147",
   "metadata": {},
   "source": [
    "<h3 id='3d' style=\"display:none\">(D)</h3>\n",
    "\n",
    ">   <hr width=\"82%\" style=\"border-bottom:2px dashed; border-top:none\"/>\n",
    ">   \n",
    ">   ### &#x2e04;&hairsp;&#x00B3;&hairsp;&#x2E05;&hairsp;(D)\n",
    ">\n",
    ">   __Will the total momentum of the two particles remain constant?__\n",
    ">\n",
    ">   - [ ] &nbsp; Yes\n",
    ">   - [ ] &nbsp; No\n",
    ">\n",
    ">   __Is this a violation of conservation of momentum for an isolated system?__\n",
    ">\n",
    ">   - [ ] &nbsp; Yes\n",
    ">   - [ ] &nbsp; No\n",
    ">\n",
    ">   _Note:_ There is momentum associated with the electric and magnetic fields of these particles, as we will see in a later chapter.\n",
    ">   Although the momentum of the proton plus the momentum of the electron does change, the sum of the particle moments plus the field momentum does _not_ change. \n",
    ">\n",
    ">   <hr width=\"64%\" style=\"border-top:2px dotted; border-bottom:none\"/>"
   ]
  },
  {
   "cell_type": "markdown",
   "id": "3804c4b5",
   "metadata": {},
   "source": []
  },
  {
   "cell_type": "markdown",
   "id": "5a0e4133",
   "metadata": {},
   "source": [
    "<div style=\"page-break-after: always;\"/> \n",
    "<h2 id='4' style=\"display:none\">[4]</h2>\n",
    "\n",
    ">   ---\n",
    ">   ## [4]*\n",
    ">\n",
    ">   __Mass Spectrometer__\n",
    ">\n",
    ">   A mass spectrometer is a tool used to accurately determine the mass of \n",
    ">   individual ionized atoms or molecules, or to separate atoms or molecules \n",
    ">   that have similar (but slightly different) masses. For example, you can \n",
    ">   deduce the age of a small sample of cloth from an ancient tomb, by using a \n",
    ">   mass spectrometer to determine the relative abundances of Carbon-14 (whose \n",
    ">   nucleus contains 6 protons and 8 neutrons), and Carbon-12 (the most common \n",
    ">   isotope of Carbon, whose nucleus contains 6 protons and 6 neutrons).\n",
    ">\n",
    ">   In organic material, the ratio of $^{14}\\mathrm{C}$ to $^{12}\\mathrm{C}$ \n",
    ">   depends on how old the material is, which is the basis for \"Carbon-14 \n",
    ">   Dating\".  The isotope $^{14}\\mathrm{C}$ is continually produced in the upper\n",
    ">   atmosphere by nuclear reactions caused by \"cosmic rays\" (high-energy charged\n",
    ">   particles from outer space, mainly protons), and $^{14}\\mathrm{C}$ is \n",
    ">   radioactive with a half-life of 5700 years.\n",
    ">\n",
    ">   When a cotton plant is growing, some of the $\\mathrm{CO}_2$ it extracts from\n",
    ">   the air to build tissue contains $^{14}\\mathrm{C}$, which has diffused down \n",
    ">   from the upper atmosphere.  However, after the cotton has been harvested, \n",
    ">   there is no further intake of $^{14}\\mathrm{C}$ from the air, and the cosmic\n",
    ">   rays that create $^{14}\\mathrm{C}$ in the upper atmosphere can't penetrate \n",
    ">   the atmosphere and reach the cloth.  As a result, the amount of \n",
    ">   $^{14}\\mathrm{C}$ in cotton cloth continually decreases with time, while the\n",
    ">   amount of non-radioactive $^{12}\\mathrm{C}$ remains constant.\n",
    ">\n",
    ">   <hr width=\"50%\" style=\"border-top:1px dotted; border-bottom:none\"/> \n",
    ">\n",
    ">   A particular kind of mass spectrometer is shown in the figure below.  \n",
    ">\n",
    ">   <img loading='lazy' decoding='async' src=\"data:image/avif;base64,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\" />\n",
    ">\n",
    ">   Carbon from the sample is ionized in the \"ion source\" at the left. The \n",
    ">   resulting singly ionized $^{12}\\mathrm{C}^+$ and $^{14}\\mathrm{C}^+$ ions \n",
    ">   have negligibly small initial velocities (and can be considered to be at \n",
    ">   rest).\n",
    ">\n",
    ">   Initially, the ions are accelerated through the potential difference \n",
    ">   $\\Delta V_1$, then enter a region where the magnetic field has a fixed \n",
    ">   magnitude $\\mathbf{B} = 0.16$ [T].  Within the region with non-zero magnetic\n",
    ">   field, the ions pass through electric deflection plates that are 1 [cm] apart\n",
    ">   and have a potential difference $\\Delta V_2$; that is adjusted so that the \n",
    ">   electric deflection and the magnetic deflection cancel each other for a \n",
    ">   particular isotope -- One isotope goes straight through, while the other ion\n",
    ">   is deflected and misses the entrance to the next section of the spectrometer.\n",
    ">\n",
    ">   The distance from the entrance to the fixed ion detector is a distance of \n",
    ">   $w = 27$ [cm].  There are controls that let you vary the __accelerating potential__ \n",
    ">   $\\Delta V_1$, and the __deflecting potential__ $\\Delta V_2$, so that only \n",
    ">   either $^{12}\\mathrm{C}^+$ or $^{14}\\mathrm{C}^+$ ions go all the way through\n",
    ">   the system and reach the detector. The operator counts each kind of ion for \n",
    ">   fixed times, and thus determine the relative abundances.  The various \n",
    ">   deflections ensure that you count only the desired type of ion, for a \n",
    ">   particular setting of the two voltages. \n",
    ">   \n",
    ">\n",
    ">   __<p align='right'>(10 points)</p>__\n",
    ">\n",
    ">   <hr width=\"82%\" style=\"border-top:1px dashed; border-bottom:none\"/>"
   ]
  },
  {
   "cell_type": "markdown",
   "id": "e6c7b1d4",
   "metadata": {},
   "source": [
    "<h3 id='4a' style=\"display:none\">(A)</h3>\n",
    "\n",
    ">   <hr width=\"82%\" style=\"border-bottom:2px dashed; border-top:none\"/>\n",
    ">   \n",
    ">   ### &#x2e04;&hairsp;&#x2074;&hairsp;&#x2E05;&hairsp;(A)\n",
    ">\n",
    ">   __Which accelerating plate is positive?__\n",
    ">\n",
    ">   - [ ] &nbsp; left\n",
    ">   - [ ] &nbsp; right\n",
    ">\n",
    ">   __Which deflecting plate is positive?__\n",
    ">\n",
    ">   - [ ] &nbsp; top\n",
    ">   - [ ] &nbsp; bottom\n",
    ">\n",
    ">   __What is the direction of the magnetic field inside the spectrometer?__\n",
    ">\n",
    ">   - [ ] &nbsp; into the page\n",
    ">   - [ ] &nbsp; out of the page\n",
    ">\n",
    ">   <hr width=\"64%\" style=\"border-top:2px dotted; border-bottom:none\"/>"
   ]
  },
  {
   "cell_type": "markdown",
   "id": "5a6906ca",
   "metadata": {},
   "source": []
  },
  {
   "cell_type": "markdown",
   "id": "5ef7a4a4",
   "metadata": {},
   "source": [
    "<h3 id='4b' style=\"display:none\">(B)</h3>\n",
    "\n",
    ">   <hr width=\"82%\" style=\"border-bottom:2px dashed; border-top:none\"/>\n",
    ">   \n",
    ">   ### &#x2e04;&hairsp;&#x2074;&hairsp;&#x2E05;&hairsp;(B)\n",
    ">\n",
    ">   __Determine the appropriate numerical values of $\\Delta V_1$ and $\\Delta V_2$ for $^{12}\\mathrm{C}$.__\n",
    ">\n",
    ">   Carry out your intermediate calculations algebraically, so that you can use the algebraic results in the next part. \n",
    ">\n",
    ">   &emsp;&emsp;&emsp;&emsp; $\\Delta V_1 = \\fbox{\\hspace{8em}?}\\ \\left[\\textrm{V}\\right]$\n",
    ">\n",
    ">   &emsp;&emsp;&emsp;&emsp; $\\Delta V_2 = \\fbox{\\hspace{8em}?}\\ \\left[\\textrm{V}\\right]$\n",
    ">\n",
    ">   <hr width=\"64%\" style=\"border-top:2px dotted; border-bottom:none\"/>"
   ]
  },
  {
   "cell_type": "markdown",
   "id": "60560774",
   "metadata": {},
   "source": []
  },
  {
   "cell_type": "markdown",
   "id": "1a34646c",
   "metadata": {},
   "source": [
    "<h3 id='4c' style=\"display:none\">(C)</h3>\n",
    "\n",
    ">   <hr width=\"82%\" style=\"border-bottom:2px dashed; border-top:none\"/>\n",
    ">   \n",
    ">   ### &#x2e04;&hairsp;&#x2074;&hairsp;&#x2E05;&hairsp;(C)\n",
    ">\n",
    ">   __Determine the appropriate numerical values of $\\Delta V_1$ and $\\Delta V_2$ for $^{14}\\mathrm{C}$.__\n",
    ">\n",
    ">   &emsp;&emsp;&emsp;&emsp; $\\Delta V_1 = \\fbox{\\hspace{8em}?}\\ \\left[\\textrm{V}\\right]$\n",
    ">\n",
    ">   &emsp;&emsp;&emsp;&emsp; $\\Delta V_2 = \\fbox{\\hspace{8em}?}\\ \\left[\\textrm{V}\\right]$\n",
    ">\n",
    ">   <hr width=\"64%\" style=\"border-top:2px dotted; border-bottom:none\"/>"
   ]
  },
  {
   "cell_type": "markdown",
   "id": "dfce0416",
   "metadata": {},
   "source": []
  },
  {
   "cell_type": "markdown",
   "id": "f3ef8075",
   "metadata": {},
   "source": [
    "<div style=\"page-break-after: always;\"/> \n",
    "<h2 id='5' style=\"display:none\">[5]</h2>\n",
    "\n",
    ">   ---\n",
    ">   ## [5]\n",
    ">\n",
    ">   An electron travels with velocity $\\left\\langle 2 \\times 10^{5}, 0, 0 \\right\\rangle$ [m/s].  It enters a region in which there is a uniform magnetic field of $\\mathrm{\\vec{B}} = \\left\\langle 0, 0.9, 0 \\right\\rangle$ [T]. \n",
    ">\n",
    ">   __<p align='right'>(0.1 points)</p>__\n",
    ">\n",
    ">   <hr width=\"82%\" style=\"border-top:1px dashed; border-bottom:none\"/>"
   ]
  },
  {
   "cell_type": "markdown",
   "id": "b193a8e3",
   "metadata": {},
   "source": [
    "<h3 id='5a' style=\"display:none\">(A)</h3>\n",
    "\n",
    ">   <hr width=\"82%\" style=\"border-bottom:2px dashed; border-top:none\"/>\n",
    ">   \n",
    ">   ### &#x2e04;&hairsp;&#x2075;&hairsp;&#x2E05;&hairsp;(A)\n",
    ">\n",
    ">   __What is the magnetic force on the electron?__\n",
    ">\n",
    ">   &emsp;&emsp;&emsp;&emsp; $\\vec{F}_\\mathbf{B} = \\left\\langle\\ \\fbox{\\hspace{8em}?}\\ ,\\ \\fbox{\\hspace{8em}?}\\ ,\\ \\fbox{\\hspace{8em}?}\\ \\right\\rangle\\ \\left[\\textrm{N}\\right]$\n",
    ">\n",
    ">   <hr width=\"64%\" style=\"border-top:2px dotted; border-bottom:none\"/>"
   ]
  },
  {
   "cell_type": "code",
   "execution_count": null,
   "id": "5aad591f",
   "metadata": {
    "vscode": {
     "languageId": "python"
    }
   },
   "outputs": [],
   "source": []
  },
  {
   "cell_type": "markdown",
   "id": "7bf0a92a",
   "metadata": {},
   "source": [
    "<h3 id='5b' style=\"display:none\">(B)</h3>\n",
    "\n",
    ">   <hr width=\"82%\" style=\"border-bottom:2px dashed; border-top:none\"/>\n",
    ">   \n",
    ">   ### &#x2e04;&hairsp;&#x2075;&hairsp;&#x2E05;&hairsp;(B)\n",
    ">\n",
    ">   Despite the magnetic force, the electron continues to travel in a straight \n",
    ">   line at constant speed. \n",
    ">   You conclude that there must be another force acting on the electron. \n",
    ">   Since you know there is also an electric field in this region, you decide \n",
    ">   that the other force must be an electric force. \n",
    ">\n",
    ">   __What is the electric force?__\n",
    ">\n",
    ">   &emsp;&emsp;&emsp;&emsp; $\\vec{F}_\\mathbf{E} = \\left\\langle\\ \\fbox{\\hspace{8em}?}\\ ,\\ \\fbox{\\hspace{8em}?}\\ ,\\ \\fbox{\\hspace{8em}?}\\ \\right\\rangle\\ \\left[\\textrm{N}\\right]$\n",
    ">\n",
    ">   <hr width=\"64%\" style=\"border-top:2px dotted; border-bottom:none\"/>"
   ]
  },
  {
   "cell_type": "code",
   "execution_count": null,
   "id": "9b409d6b",
   "metadata": {
    "vscode": {
     "languageId": "python"
    }
   },
   "outputs": [],
   "source": []
  },
  {
   "cell_type": "markdown",
   "id": "d5638508",
   "metadata": {},
   "source": [
    "<h3 id='5c' style=\"display:none\">(C)</h3>\n",
    "\n",
    ">   <hr width=\"82%\" style=\"border-bottom:2px dashed; border-top:none\"/>\n",
    ">   \n",
    ">   ### &#x2e04;&hairsp;&#x2075;&hairsp;&#x2E05;&hairsp;(C)\n",
    ">\n",
    ">   __What is the electric field in this region, that is responsible for the electric force in part (B)?__\n",
    ">\n",
    ">   &emsp;&emsp;&emsp;&emsp; $\\mathbf{\\vec{E}} = \\left\\langle\\ \\fbox{\\hspace{8em}?}\\ ,\\ \\fbox{\\hspace{8em}?}\\ ,\\ \\fbox{\\hspace{8em}?}\\ \\right\\rangle\\ \\left[\\textrm{N}/\\mathrm{C}\\right]$\n",
    ">\n",
    ">   <hr width=\"64%\" style=\"border-top:2px dotted; border-bottom:none\"/>"
   ]
  },
  {
   "cell_type": "code",
   "execution_count": null,
   "id": "c9855d66",
   "metadata": {
    "vscode": {
     "languageId": "python"
    }
   },
   "outputs": [],
   "source": []
  },
  {
   "cell_type": "markdown",
   "id": "084b2fac",
   "metadata": {},
   "source": [
    "<div style=\"page-break-after: always;\"/> \n",
    "<h2 id='6' style=\"display:none\">[6]</h2>\n",
    "\n",
    ">   ---\n",
    ">   ## [6]*\n",
    ">\n",
    ">   <img loading='lazy' decoding='async' src=\"data:image/avif;base64,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\" />\n",
    ">\n",
    ">   __Measuring properties of some material__\n",
    ">\n",
    ">   An experiment was carried out to determine the electrical properties of a \n",
    ">   new conducting material. \n",
    ">\n",
    ">   A bar was made out of the material, $L = 15$ [cm] long with a rectangular \n",
    ">   cross-section $h = 5$ [cm] high and $w = 0.8$ [cm] deep.\n",
    ">   The bar was part of a circuit, and carried a steady current (the diagram \n",
    ">   only shows part of the circuit). \n",
    ">   A uniform magnetic field of $1.7$ [T] was applied perpendicular to the bar, \n",
    ">   coming out of the page (using some coils that are not shown). \n",
    ">\n",
    ">   Two voltmeters were connected, along and across the bar, as shown. \n",
    ">   The reading on Voltmeter 1 is $\\Delta V_1 = +0.45$ volts, and the reading on\n",
    ">   Voltmeter 2 is $\\Delta V_2 = +0.00029$ volts. \n",
    ">   The connections across the bar for Voltmeter 2 were carefully placed directly \n",
    ">   across from each other, to eliminate false readings corresponding to the much \n",
    ">   larger voltage across the bar.\n",
    ">   There is only one kind of mobile charge in this material. \n",
    ">\n",
    ">   Remember that a voltmeter gives a positive reading, if the positive lead is \n",
    ">   connected to a higher potential location than the negative lead. \n",
    ">\n",
    ">   __<p align='right'>(10 points)</p>__\n",
    ">\n",
    ">   <hr width=\"82%\" style=\"border-top:1px dashed; border-bottom:none\"/>"
   ]
  },
  {
   "cell_type": "markdown",
   "id": "8f691910",
   "metadata": {},
   "source": [
    "<h3 id='6a' style=\"display:none\">(A)</h3>\n",
    "\n",
    ">   <hr width=\"82%\" style=\"border-bottom:2px dashed; border-top:none\"/>\n",
    ">   \n",
    ">   ### &#x2e04;&hairsp;&#x2076;&hairsp;&#x2E05;&hairsp;(A)\n",
    ">\n",
    ">   __What is the sign of the mobile charges, and which way do they move?__\n",
    ">\n",
    ">   - [ ] &nbsp; Negative\n",
    ">   - [ ] &nbsp; Positive\n",
    ">\n",
    ">   [...] mobile charges moving in the \n",
    ">\n",
    ">   - [ ] &nbsp; $+x$\n",
    ">   - [ ] &nbsp; $+y$\n",
    ">   - [ ] &nbsp; $-x$\n",
    ">   - [ ] &nbsp; $-y$\n",
    ">\n",
    ">   [...] direction. \n",
    ">\n",
    ">   <hr width=\"64%\" style=\"border-top:2px dotted; border-bottom:none\"/>"
   ]
  },
  {
   "cell_type": "markdown",
   "id": "a0ae7ecf",
   "metadata": {},
   "source": []
  },
  {
   "cell_type": "markdown",
   "id": "f773bebc",
   "metadata": {},
   "source": [
    "<h3 id='6b' style=\"display:none\">(B)</h3>\n",
    "\n",
    ">   <hr width=\"82%\" style=\"border-bottom:2px dashed; border-top:none\"/>\n",
    ">   \n",
    ">   ### &#x2e04;&hairsp;&#x2076;&hairsp;&#x2E05;&hairsp;(B)\n",
    ">\n",
    ">   __What is the drift speed $v$ of the mobile charges?__\n",
    ">\n",
    ">   &emsp;&emsp;&emsp;&emsp; $v = \\fbox{\\hspace{8em}?}\\ \\left[\\textrm{m}/\\textrm{s}\\right]$\n",
    ">\n",
    ">   <hr width=\"64%\" style=\"border-top:2px dotted; border-bottom:none\"/>"
   ]
  },
  {
   "cell_type": "code",
   "execution_count": null,
   "id": "a226ff52",
   "metadata": {
    "vscode": {
     "languageId": "python"
    }
   },
   "outputs": [],
   "source": []
  },
  {
   "cell_type": "markdown",
   "id": "6bab177c",
   "metadata": {},
   "source": [
    "<h3 id='6c' style=\"display:none\">(C)</h3>\n",
    "\n",
    ">   <hr width=\"82%\" style=\"border-bottom:2px dashed; border-top:none\"/>\n",
    ">   \n",
    ">   ### &#x2e04;&hairsp;&#x2076;&hairsp;&#x2E05;&hairsp;(C)\n",
    ">\n",
    ">   __What is the mobility $u$ of the mobile charges?__\n",
    ">\n",
    ">   &emsp;&emsp;&emsp;&emsp; $u = \\fbox{\\hspace{8em}?}\\ \\left[(\\textrm{m}/\\textrm{s}) / (\\textrm{V}/\\textrm{m})\\right]$\n",
    ">\n",
    ">   <hr width=\"64%\" style=\"border-top:2px dotted; border-bottom:none\"/>"
   ]
  },
  {
   "cell_type": "code",
   "execution_count": null,
   "id": "07cf485e",
   "metadata": {
    "vscode": {
     "languageId": "python"
    }
   },
   "outputs": [],
   "source": []
  },
  {
   "cell_type": "markdown",
   "id": "b7163c1e",
   "metadata": {},
   "source": [
    "<h3 id='6d' style=\"display:none\">(D)</h3>\n",
    "\n",
    ">   <hr width=\"82%\" style=\"border-bottom:2px dashed; border-top:none\"/>\n",
    ">   \n",
    ">   ### &#x2e04;&hairsp;&#x2076;&hairsp;&#x2E05;&hairsp;(D)\n",
    ">\n",
    ">   The current running through the bar was measured to be $0.7$ Amperes. \n",
    ">   If each mobile charge is singly charged $\\left( \\lvert q \\rvert = e\\right)$, \n",
    ">   __how many mobile charges are there in $1 \\left[\\textrm{m}^3\\right]$ of this material?__\n",
    ">\n",
    ">   &emsp;&emsp;&emsp;&emsp; $N = \\fbox{\\hspace{8em}?}$ per cubic meter\n",
    ">\n",
    ">   <hr width=\"64%\" style=\"border-top:2px dotted; border-bottom:none\"/>"
   ]
  },
  {
   "cell_type": "code",
   "execution_count": null,
   "id": "31d0d0ef",
   "metadata": {
    "vscode": {
     "languageId": "python"
    }
   },
   "outputs": [],
   "source": []
  },
  {
   "cell_type": "markdown",
   "id": "e8ce82d5",
   "metadata": {},
   "source": [
    "<h3 id='6e' style=\"display:none\">(E)</h3>\n",
    "\n",
    ">   <hr width=\"82%\" style=\"border-bottom:2px dashed; border-top:none\"/>\n",
    ">   \n",
    ">   ### &#x2e04;&hairsp;&#x2076;&hairsp;&#x2E05;&hairsp;(E)\n",
    ">\n",
    ">   __What is the resistance in ohms of this length of bar?__\n",
    ">\n",
    ">   &emsp;&emsp;&emsp;&emsp; $\\fbox{\\hspace{8em}?}\\ \\left[\\Omega\\right]$\n",
    ">\n",
    ">   <hr width=\"64%\" style=\"border-top:2px dotted; border-bottom:none\"/>"
   ]
  },
  {
   "cell_type": "code",
   "execution_count": null,
   "id": "26d2003f",
   "metadata": {
    "vscode": {
     "languageId": "python"
    }
   },
   "outputs": [],
   "source": []
  },
  {
   "cell_type": "markdown",
   "id": "36a538cf",
   "metadata": {},
   "source": [
    "<div style=\"page-break-after: always;\"/> \n",
    "<h2 id='7' style=\"display:none\">[7]</h2>\n",
    "\n",
    ">   ---\n",
    ">   ## [7]\n",
    ">\n",
    ">   A neutral iron bar is dragged to the left at speed $v$, through a region \n",
    ">   with a magnetic field $\\mathbf{B}$ that points out of the page (see figure \n",
    ">   below).\n",
    ">\n",
    ">   <img loading='lazy' decoding='async' src=\"data:image/avif;base64,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\" />\n",
    ">\n",
    ">   __Which diagram (1-5) best shows the state of the bar?__\n",
    ">\n",
    ">   - [ ] &nbsp; 1\n",
    ">   - [ ] &nbsp; 2\n",
    ">   - [ ] &nbsp; 3\n",
    ">   - [ ] &nbsp; 4\n",
    ">   - [ ] &nbsp; 5\n",
    ">\n",
    ">   __<p align='right'>(0.1 points)</p>__\n",
    ">\n",
    ">   <hr width=\"82%\" style=\"border-top:1px dashed; border-bottom:none\"/>"
   ]
  },
  {
   "cell_type": "markdown",
   "id": "d7e0efac",
   "metadata": {},
   "source": []
  },
  {
   "cell_type": "markdown",
   "id": "1d4b2713",
   "metadata": {},
   "source": [
    "<div style=\"page-break-after: always;\"/> \n",
    "<h2 id='8' style=\"display:none\">[8]</h2>\n",
    "\n",
    ">   ---\n",
    ">   ## [8]\n",
    ">\n",
    ">   A neutral copper bar oriented horizontally moves downward through a region, \n",
    ">   where there is a magnetic field directed out of the page. \n",
    ">\n",
    ">   <img loading='lazy' decoding='async' src=\"data:image/avif;base64,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\" />\n",
    ">\n",
    ">   __Which diagram correctly shows the distribution of charge on the bar?__\n",
    ">\n",
    ">   - [ ] &nbsp; 1\n",
    ">   - [ ] &nbsp; 2\n",
    ">   - [ ] &nbsp; 3\n",
    ">   - [ ] &nbsp; 4\n",
    ">   - [ ] &nbsp; 5\n",
    ">\n",
    ">   __<p align='right'>(0.1 points)</p>__\n",
    ">\n",
    ">   <hr width=\"82%\" style=\"border-top:1px dashed; border-bottom:none\"/>"
   ]
  },
  {
   "cell_type": "markdown",
   "id": "cf8fce67",
   "metadata": {},
   "source": []
  },
  {
   "cell_type": "markdown",
   "id": "60bbedc8",
   "metadata": {},
   "source": [
    "<div style=\"page-break-after: always;\"/> \n",
    "<h2 id='9' style=\"display:none\">[9]</h2>\n",
    "\n",
    ">   ---\n",
    ">   ## [9]*\n",
    ">\n",
    ">   <img loading='lazy' decoding='async' src=\"data:image/avif;base64,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\" />\n",
    ">\n",
    ">   A neutral metal rod of length $0.25$ [m] slides horizontally at a constant \n",
    ">   speed of $8$ [m/s] on frictionless insulating rails, through a region of \n",
    ">   uniform magnetic field of magnitude $0.4$ [T] (directed out of the page, as \n",
    ">   shown in the diagram).\n",
    ">\n",
    ">   Before answering the following questions, draw a diagram showing the \n",
    ">   polarization of the rod, and the direction of the Coulomb electric field \n",
    ">   inside the rod. \n",
    ">\n",
    ">   __<p align='right'>(10 points)</p>__\n",
    ">\n",
    ">   <hr width=\"82%\" style=\"border-top:1px dashed; border-bottom:none\"/>"
   ]
  },
  {
   "cell_type": "markdown",
   "id": "8d0c46cf",
   "metadata": {},
   "source": [
    "<h3 id='9a' style=\"display:none\">(A)</h3>\n",
    "\n",
    ">   <hr width=\"82%\" style=\"border-bottom:2px dashed; border-top:none\"/>\n",
    ">   \n",
    ">   ### &#x2e04;&hairsp;&#x2079;&hairsp;&#x2E05;&hairsp;(A)\n",
    ">\n",
    ">   __Which of the following statements is true?__ \n",
    ">\n",
    ">   (select one:)\n",
    ">\n",
    ">   - [ ] &nbsp; The right side of the moving rod is negative. \n",
    ">\n",
    ">   - [ ] &nbsp; The top of the moving rod is negative.\n",
    ">\n",
    ">   - [ ] &nbsp; The right side of the moving rod is positive.\n",
    ">\n",
    ">   - [ ] &nbsp; The top of the moving rod is positive. \n",
    ">\n",
    ">   - [ ] &nbsp; The moving rod is not polarized. \n",
    ">\n",
    ">\n",
    ">   <hr width=\"64%\" style=\"border-top:2px dotted; border-bottom:none\"/>"
   ]
  },
  {
   "cell_type": "markdown",
   "id": "1769ae58",
   "metadata": {},
   "source": []
  },
  {
   "cell_type": "markdown",
   "id": "8c877c2a",
   "metadata": {},
   "source": [
    "<h3 id='9b' style=\"display:none\">(B)</h3>\n",
    "\n",
    ">   <hr width=\"82%\" style=\"border-bottom:2px dashed; border-top:none\"/>\n",
    ">   \n",
    ">   ### &#x2e04;&hairsp;&#x2079;&hairsp;&#x2E05;&hairsp;(B)\n",
    ">\n",
    ">   After the initial transit, __what is the magnitude of the net force on a mobile electron inside the rod?__\n",
    ">\n",
    ">   &emsp;&emsp;&emsp;&emsp; $\\left\\lvert \\vec{F}_{\\textrm{net}} \\right\\rvert = \\fbox{\\hspace{8em}?}\\ \\left[\\textrm{N}\\right]$ \n",
    ">\n",
    ">   <hr width=\"64%\" style=\"border-top:2px dotted; border-bottom:none\"/>"
   ]
  },
  {
   "cell_type": "code",
   "execution_count": null,
   "id": "b97d02b0",
   "metadata": {
    "vscode": {
     "languageId": "python"
    }
   },
   "outputs": [],
   "source": []
  },
  {
   "cell_type": "markdown",
   "id": "a327244b",
   "metadata": {},
   "source": [
    "<h3 id='9c' style=\"display:none\">(C)</h3>\n",
    "\n",
    ">   <hr width=\"82%\" style=\"border-bottom:2px dashed; border-top:none\"/>\n",
    ">   \n",
    ">   ### &#x2e04;&hairsp;&#x2079;&hairsp;&#x2E05;&hairsp;(C)\n",
    ">\n",
    ">   __What is the magnitude of the electric force on a mobile electron inside the rod?__\n",
    ">\n",
    ">   &emsp;&emsp;&emsp;&emsp; $\\left\\lvert \\vec{F}_{\\mathrm{E}} \\right\\rvert = \\fbox{\\hspace{8em}?}\\ \\left[\\textrm{N}\\right]$ \n",
    ">\n",
    ">   <hr width=\"64%\" style=\"border-top:2px dotted; border-bottom:none\"/>"
   ]
  },
  {
   "cell_type": "code",
   "execution_count": null,
   "id": "da344da0",
   "metadata": {
    "vscode": {
     "languageId": "python"
    }
   },
   "outputs": [],
   "source": []
  },
  {
   "cell_type": "markdown",
   "id": "680fa4af",
   "metadata": {},
   "source": [
    "<h3 id='9d' style=\"display:none\">(D)</h3>\n",
    "\n",
    ">   <hr width=\"82%\" style=\"border-bottom:2px dashed; border-top:none\"/>\n",
    ">   \n",
    ">   ### &#x2e04;&hairsp;&#x2079;&hairsp;&#x2E05;&hairsp;(D)\n",
    ">\n",
    ">   __What is the magnitude of the magnetic force on a mobile electron inside the rod?__\n",
    ">\n",
    ">   &emsp;&emsp;&emsp;&emsp; $\\left\\lvert \\vec{F}_{\\mathrm{B}} \\right\\rvert = \\fbox{\\hspace{8em}?}\\ \\left[\\textrm{N}\\right]$ \n",
    ">\n",
    ">   <hr width=\"64%\" style=\"border-top:2px dotted; border-bottom:none\"/>"
   ]
  },
  {
   "cell_type": "code",
   "execution_count": null,
   "id": "074933d6",
   "metadata": {
    "vscode": {
     "languageId": "python"
    }
   },
   "outputs": [],
   "source": []
  },
  {
   "cell_type": "markdown",
   "id": "30e1d76a",
   "metadata": {},
   "source": [
    "<h3 id='9e' style=\"display:none\">(E)</h3>\n",
    "\n",
    ">   <hr width=\"82%\" style=\"border-bottom:2px dashed; border-top:none\"/>\n",
    ">   \n",
    ">   ### &#x2e04;&hairsp;&#x2079;&hairsp;&#x2E05;&hairsp;(E)\n",
    ">\n",
    ">   __What is the magnitude of the potential difference across the rod?__\n",
    ">\n",
    ">   &emsp;&emsp;&emsp;&emsp; $\\left\\lvert \\Delta V \\right\\rvert = \\fbox{\\hspace{8em}?}\\ \\left[\\textrm{V}\\right]$ \n",
    ">\n",
    ">   <hr width=\"64%\" style=\"border-top:2px dotted; border-bottom:none\"/>"
   ]
  },
  {
   "cell_type": "code",
   "execution_count": null,
   "id": "780a9883",
   "metadata": {
    "vscode": {
     "languageId": "python"
    }
   },
   "outputs": [],
   "source": []
  },
  {
   "cell_type": "markdown",
   "id": "ea6c0d6d",
   "metadata": {},
   "source": [
    "<h3 id='9f' style=\"display:none\">(F)</h3>\n",
    "\n",
    ">   <hr width=\"82%\" style=\"border-bottom:2px dashed; border-top:none\"/>\n",
    ">   \n",
    ">   ### &#x2e04;&hairsp;&#x2079;&hairsp;&#x2E05;&hairsp;(F)\n",
    ">\n",
    ">   In what direction must you exert a force to keep the rod moving at constant speed? \n",
    ">\n",
    ">   - [ ] &nbsp; To the left.\n",
    ">   - [ ] &nbsp; No force is needed.\n",
    ">   - [ ] &nbsp; To the right. \n",
    ">\n",
    ">   &emsp;&emsp;&emsp;&emsp; $\\left\\lvert \\Delta V \\right\\rvert = \\fbox{\\hspace{8em}?}\\ \\left[\\textrm{V}\\right]$ \n",
    ">\n",
    ">   <hr width=\"64%\" style=\"border-top:2px dotted; border-bottom:none\"/>"
   ]
  },
  {
   "cell_type": "code",
   "execution_count": null,
   "id": "8cc00419",
   "metadata": {
    "vscode": {
     "languageId": "python"
    }
   },
   "outputs": [],
   "source": []
  },
  {
   "cell_type": "markdown",
   "id": "10a35561",
   "metadata": {},
   "source": [
    "---"
   ]
  }
 ],
 "metadata": {
  "kernelspec": {
   "display_name": "SageMath 10.6",
   "language": "sage",
   "name": "SageMath-10.6"
  },
  "language_info": {
   "codemirror_mode": {
    "name": "ipython",
    "version": 3
   },
   "file_extension": ".py",
   "mimetype": "text/x-python",
   "name": "sage",
   "nbconvert_exporter": "python",
   "pygments_lexer": "ipython3",
   "version": "3.12.5"
  }
 },
 "nbformat": 4,
 "nbformat_minor": 5
}
