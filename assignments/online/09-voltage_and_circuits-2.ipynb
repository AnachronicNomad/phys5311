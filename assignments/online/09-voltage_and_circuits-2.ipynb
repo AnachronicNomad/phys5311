{
 "cells": [
  {
   "cell_type": "markdown",
   "id": "553158b3",
   "metadata": {},
   "source": [
    "# Voltage and Circuits 2\n",
    "\n",
    "M&I \n",
    "Ch 16 Electric Potential\n",
    "\n",
    "- §16.5 Potential Difference in a Non-Uniform Field\n",
    "\n",
    "Ch 19 Circuit Elements\n",
    "\n",
    "- §19.1 Capacitors\n",
    "- §19.2 Resistors\n",
    "- §19.7 Quantitative "
   ]
  },
  {
   "cell_type": "code",
   "execution_count": 1,
   "id": "4d87d0c4",
   "metadata": {},
   "outputs": [
    {
     "name": "stdout",
     "output_type": "stream",
     "text": [
      "Python: 3.12.5 (main, Feb 25 2025, 12:37:41) [Clang 16.0.0 (clang-1600.0.26.6)]\n"
     ]
    },
    {
     "data": {
      "text/html": [
       "<html>\\(\\displaystyle \\verb|SageMath|\\verb| |\\verb|version|\\verb| |\\verb|10.6,|\\verb| |\\verb|Release|\\verb| |\\verb|Date:|\\verb| |\\verb|2025-03-31|\\)</html>"
      ],
      "text/latex": [
       "$\\displaystyle \\verb|SageMath|\\verb| |\\verb|version|\\verb| |\\verb|10.6,|\\verb| |\\verb|Release|\\verb| |\\verb|Date:|\\verb| |\\verb|2025-03-31|$"
      ],
      "text/plain": [
       "'SageMath version 10.6, Release Date: 2025-03-31'"
      ]
     },
     "execution_count": 1,
     "metadata": {},
     "output_type": "execute_result"
    }
   ],
   "source": [
    "########\n",
    "## Env Setup / Preamble\n",
    "########\n",
    "%load_ext autoreload\n",
    "%autoreload complete \n",
    "\n",
    "%load_ext Cython\n",
    "\n",
    "%display latex\n",
    "\n",
    "################\n",
    "\n",
    "import cython\n",
    "from sage.all import *\n",
    "\n",
    "################\n",
    "\n",
    "import tempfile\n",
    "import mmap\n",
    "from multiprocessing import shared_memory\n",
    "\n",
    "################\n",
    "\n",
    "import numpy as np\n",
    "import scipy.constants\n",
    "\n",
    "np.random.seed( int(scipy.constants.golden_ratio * 1.e6) )\n",
    "\n",
    "from numpy import vectorize\n",
    "from numpy import r_, c_, s_\n",
    "\n",
    "################\n",
    "\n",
    "####    boiler-plate class for named constants\n",
    "from sage.symbolic.constants import Constant\n",
    "class ConstantFromExpression(Constant):\n",
    "    def __init__(self, name, v):\n",
    "        conversions = dict(maxima=repr(maxima.coerce(v)))\n",
    "        Constant.__init__(self, name, conversions=conversions)\n",
    "        self._v = v\n",
    "    def __float__(self): return float(self._v)\n",
    "    def __complex__(self): return complex(self._v)\n",
    "    def _mpfr_(self, R): return R(self._v)\n",
    "    def _real_double_(self, R): return R(self._v)\n",
    "\n",
    "def NamedExpression(name, expr):\n",
    "    return ConstantFromExpression(name,expr).expression()\n",
    "####\n",
    "\n",
    "import sage.symbolic.units as units     # <: TODO\n",
    "\n",
    "π   = NamedExpression('π', scipy.constants.pi)          # pi\n",
    "ε_0 = NamedExpression('ε_0', scipy.constants.epsilon_0) # electric permittivity of vacuum\n",
    "μ_0 = NamedExpression('μ_0', scipy.constants.mu_0)      # magnetic permeability of vacuum\n",
    "\n",
    "𝛋 = 1. / (4 * π * ε_0)      # Coulomb's constant in [ N·m²/C² ]\n",
    "q = NamedExpression('q', -scipy.constants.elementary_charge)\n",
    "\n",
    "ℎ_planck = NamedExpression('ℎ', scipy.constants.Planck)\n",
    "ℏ = NamedExpression('ℏ', scipy.constants.hbar)\n",
    "\n",
    "α = NamedExpression('α', scipy.constants.fine_structure)\n",
    "\n",
    "m_e = NamedExpression('m_e', scipy.constants.electron_mass)\n",
    "m_p = NamedExpression('m_p', scipy.constants.proton_mass)\n",
    "\n",
    "################\n",
    "\n",
    "Parallelism().set(nproc=8)\n",
    "print(f\"Python: {sys.version}\")\n",
    "version()\n"
   ]
  },
  {
   "cell_type": "code",
   "execution_count": 2,
   "id": "6dbb2a79",
   "metadata": {},
   "outputs": [
    {
     "name": "stdout",
     "output_type": "stream",
     "text": [
      "The Zen of Python, by Tim Peters\n",
      "\n",
      "Beautiful is better than ugly.\n",
      "Explicit is better than implicit.\n",
      "Simple is better than complex.\n",
      "Complex is better than complicated.\n",
      "Flat is better than nested.\n",
      "Sparse is better than dense.\n",
      "Readability counts.\n",
      "Special cases aren't special enough to break the rules.\n",
      "Although practicality beats purity.\n",
      "Errors should never pass silently.\n",
      "Unless explicitly silenced.\n",
      "In the face of ambiguity, refuse the temptation to guess.\n",
      "There should be one-- and preferably only one --obvious way to do it.\n",
      "Although that way may not be obvious at first unless you're Dutch.\n",
      "Now is better than never.\n",
      "Although never is often better than *right* now.\n",
      "If the implementation is hard to explain, it's a bad idea.\n",
      "If the implementation is easy to explain, it may be a good idea.\n",
      "Namespaces are one honking great idea -- let's do more of those!\n"
     ]
    }
   ],
   "source": [
    "##  sanity check\n",
    "import this\n"
   ]
  },
  {
   "cell_type": "markdown",
   "id": "c3c5a510",
   "metadata": {},
   "source": [
    "---\n",
    "\n",
    "<hr width=\"82%\" style=\"border-top:2px dashed; border-bottom:none\"/>\n",
    "\n",
    "<hr width=\"64%\" style=\"border-top:1px dotted; border-bottom:none\"/>"
   ]
  },
  {
   "cell_type": "markdown",
   "id": "763ea020",
   "metadata": {},
   "source": [
    "<div style=\"page-break-after: always;\"/> \n",
    "<h2 id='1' style=\"display:none\">[1]</h2>\n",
    "\n",
    ">   ---\n",
    ">   ## [1]*\n",
    ">\n",
    ">   __Potential Difference in a Capacitor__\n",
    ">\n",
    ">   A capacitor consists of two large metal disks, placed a distance $s$ apart \n",
    ">   in the figure above. \n",
    ">\n",
    ">   The radius $R$ of each disk is $7.8$ [m], the gap $s$ between the disks is \n",
    ">   $1.0$ [mm], and the thickness $t$ of each disk is $0.3$ [mm]. \n",
    ">   The disk on the left has a net charge of $3.6 \\times 10^{-4}$ [C], and the \n",
    ">   disk on the right has a net charge of $-3.6\\times 10^{-4}$ [C].\n",
    ">\n",
    ">   __Calculate the potential difference $V_2 - V_1$&zwj;__, where location 1 is \n",
    ">   inside the left disk at its center, and location 2 is in the center of the \n",
    ">   air gap between the disks. \n",
    ">\n",
    ">   Use $\\epsilon_0 \\approx 8.85 \\times 10^{-12}$ [C^2 / (N⋅m^2)]\n",
    ">\n",
    ">   &emsp;&emsp;&emsp;&emsp; $V_2 - V_1 = \\fbox{\\hspace{8em}?}\\ \\left[\\textrm{V}\\right]$\n",
    ">\n",
    ">   __<p align='right'>(10 points)</p>__\n",
    ">\n",
    ">   <hr width=\"82%\" style=\"border-top:1px dashed; border-bottom:none\"/>"
   ]
  },
  {
   "cell_type": "code",
   "execution_count": 3,
   "id": "51d400a4",
   "metadata": {},
   "outputs": [
    {
     "name": "stdout",
     "output_type": "stream",
     "text": [
      "ΔV__1_to_b: 0\n",
      "ΔV__b_to_2: -(2.95857988165680e-9)/(ε_0*π)\n",
      "ΔV_1→2: -(2.95857988165680e-9)/(ε_0*π)\n",
      "ΔV_1→2: -106.361559599654\n"
     ]
    }
   ],
   "source": [
    "'''\n",
    "    TODO :> add `{tabset}` here with two implementations,\n",
    "        1. using discrete path formulation\n",
    "        2. using gradients and matrices, as in 'BVP'\n",
    "'''\n",
    "\n",
    "R = 7.8\n",
    "s = 1.0e-3\n",
    "t = 0.3e-3\n",
    "\n",
    "Q_l = 3.6e-4    # charge of left plate\n",
    "σ_l = Q_l / (π * R^2)   # _s_urface charge density \n",
    "\n",
    "Q_r = -Q_l              # charge of right plate\n",
    "σ_r = Q_r / (π * R^2)   # _s_urface charge density \n",
    "\n",
    "##  Pick a Coordinate System!\n",
    "x_1 = vector(r_[ -((s/2)+(t/2)), 0 ])\n",
    "x_2 = vector(r_[0, 0])  # put point 2 at the origin. \n",
    "\n",
    "# an intermediate location representing a 'discontinuity' at the boundary\n",
    "# of the 'left' capacitor plate, along the path `x_2 - x_1`\n",
    "x_b = vector(r_[ -(s/2), 0 ])\n",
    "\n",
    "# displacement(s) on path 1→2\n",
    "δl__1_to_b = (x_b - x_1)\n",
    "δl__b_to_2 = (x_2 - x_b)\n",
    "\n",
    "## Apply Physical Model\n",
    "\n",
    "# E-Field and Voltaic Difference along 1st Segment of Path (x_1 → x_b)\n",
    "E_l__1_to_b = vector(r_[ \n",
    "    -( σ_l / (2*ε_0) ), \n",
    "    0\n",
    "])\n",
    "E_r__1_to_b = vector(r_[ \n",
    "    -( σ_r / (2*ε_0) ), \n",
    "    0 \n",
    "])\n",
    "\n",
    "ΔV__1_to_b = ((-E_l__1_to_b.dot_product(δl__1_to_b)) + \n",
    "              (-E_r__1_to_b).dot_product(δl__1_to_b))\n",
    "            \n",
    "print(f\"ΔV__1_to_b: {ΔV__1_to_b}\")\n",
    "\n",
    "# E-Field and Voltaic Difference along 2nd Segment of Path (x_b → x_2)\n",
    "E_l__b_to_2 = vector(r_[ \n",
    "    ( σ_l / (2*ε_0) ), \n",
    "    0 \n",
    "])\n",
    "E_r__b_to_2 = vector(r_[ \n",
    "    -( σ_r / (2*ε_0) ), \n",
    "    0 \n",
    "])\n",
    "\n",
    "ΔV__b_to_2 = ((-E_l__b_to_2.dot_product(δl__b_to_2)) + \n",
    "              (-E_r__b_to_2).dot_product(δl__b_to_2))\n",
    "\n",
    "print(f\"ΔV__b_to_2: {ΔV__b_to_2}\")\n",
    "\n",
    "# Potential Difference\n",
    "ΔV = ΔV__1_to_b + ΔV__b_to_2\n",
    "\n",
    "print(f\"ΔV_1→2: {ΔV}\")\n",
    "print(f\"ΔV_1→2: {n(ΔV)}\")\n"
   ]
  },
  {
   "cell_type": "markdown",
   "id": "9cf347a0",
   "metadata": {},
   "source": [
    "<div style=\"page-break-after: always;\"/> \n",
    "<h2 id='2' style=\"display:none\">[2]</h2>\n",
    "\n",
    ">   ---\n",
    ">   ## [2]*\n",
    ">\n",
    ">   __Geiger Tube__\n",
    ">\n",
    ">   A Geiger Tube, used to detect radioactive decays, contains a long thin metal\n",
    ">   wire, surrounded by a concentric long narrow metal tube.\n",
    ">   Insulating spokes hold the wire in the center of the tube, and prevent \n",
    ">   electrical contact between the wire and the tube. \n",
    ">\n",
    ">   A variable power supply is connected to the device as shown. Normally, no \n",
    ">   current flows, because the tube and wire are not connected to each other. \n",
    ">   The power supply maintains opposite charges on the wire and the tube.\n",
    ">\n",
    ">   <img loading='lazy' decoding='async' src=\"data:image/avif;base64,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\" />\n",
    ">\n",
    ">   __<p align='right'>(10 points)</p>__\n",
    ">\n",
    ">   <hr width=\"82%\" style=\"border-top:1px dashed; border-bottom:none\"/>"
   ]
  },
  {
   "cell_type": "markdown",
   "id": "4e7ecd09",
   "metadata": {},
   "source": [
    "<h3 id='2a' style=\"display:none\">(A)</h3>\n",
    "\n",
    ">   <hr width=\"82%\" style=\"border-bottom:2px dashed; border-top:none\"/>\n",
    ">   \n",
    ">   ### &#x2e04;&hairsp;&#x00B2;&hairsp;&#x2E05;&hairsp;(A)\n",
    ">\n",
    ">   The electric field in the space between the wire and the outer tube is due \n",
    ">   only to the wire &mdash; the contribution due to the charges on the outer \n",
    ">   tube sum to zero! \n",
    ">\n",
    ">   When the electric field at any location in air reaches $3 \\times 10^6$ [V/m], \n",
    ">   the air ionizes and becomes a conductor. \n",
    ">   \n",
    ">   For the tube shown, the length $L = 77$ [cm], the inner radius $r = 0.6$ [mm],\n",
    ">   and the outer radius $R = 4.5$ [cm]. \n",
    ">\n",
    ">   __How much charge would there need to be on the inner wire, in order to \n",
    ">     ionize the air near the wire__ (where the field is largest)__?__\n",
    ">\n",
    ">   &emsp;&emsp;&emsp;&emsp; $Q = \\fbox{\\hspace{8em}?}\\ \\left[\\textrm{C}\\right]$\n",
    ">\n",
    ">   <hr width=\"64%\" style=\"border-top:2px dotted; border-bottom:none\"/>"
   ]
  },
  {
   "cell_type": "code",
   "execution_count": 4,
   "id": "6c67aef4",
   "metadata": {},
   "outputs": [
    {
     "name": "stdout",
     "output_type": "stream",
     "text": [
      "7.71066488947884e-8\n"
     ]
    },
    {
     "data": {
      "text/html": [
       "<html>\\(\\displaystyle 2772.00000000000 \\, ε_0 π\\)</html>"
      ],
      "text/latex": [
       "$\\displaystyle 2772.00000000000 \\, ε_0 π$"
      ],
      "text/plain": [
       "2772.00000000000*ε_0*π"
      ]
     },
     "execution_count": 4,
     "metadata": {},
     "output_type": "execute_result"
    }
   ],
   "source": [
    "L = 77e-2\n",
    "R_i = 0.6e-3\n",
    "R_o = 4.5e-2\n",
    "E = 3e6\n",
    "\n",
    "Q = E * (2 * π * ε_0 * L) * (R_i)\n",
    "print(n(Q))\n",
    "Q\n"
   ]
  },
  {
   "cell_type": "markdown",
   "id": "72b3c644",
   "metadata": {},
   "source": [
    "<h3 id='2b' style=\"display:none\">(B)</h3>\n",
    "\n",
    ">   <hr width=\"82%\" style=\"border-bottom:2px dashed; border-top:none\"/>\n",
    ">   \n",
    ">   ### &#x2e04;&hairsp;&#x00B2;&hairsp;&#x2E05;&hairsp;(B)\n",
    ">\n",
    ">   When there is enough charge on the wire to ionize the air, you see a glow in\n",
    ">   the air, very near the inner wire. \n",
    ">\n",
    ">   When this happens, __what is the absolute value of the potential difference \n",
    ">   along a path from the inner wire to the outer tube?__\n",
    ">\n",
    ">   (Note that the electric field in this region is _not_ uniform.)\n",
    ">\n",
    ">   &emsp;&emsp;&emsp;&emsp; $\\left\\lvert \\Delta V \\right\\rvert = \\fbox{\\hspace{8em}?}\\ \\left[\\textrm{V}\\right]$\n",
    ">\n",
    ">   The Geiger Tube was one of the first electronic particle detectors. \n",
    ">   The voltage is set just below the threshold for making the air glow near the\n",
    ">   wire (Part B). A charged particle that passes near the center wire can trigger \n",
    ">   ionization of the air, leading to a large current that can be easily measured. \n",
    ">\n",
    ">   <hr width=\"64%\" style=\"border-top:2px dotted; border-bottom:none\"/>"
   ]
  },
  {
   "cell_type": "code",
   "execution_count": 5,
   "id": "a5f871d4",
   "metadata": {},
   "outputs": [
    {
     "name": "stdout",
     "output_type": "stream",
     "text": [
      "7771.47860436536\n"
     ]
    },
    {
     "data": {
      "text/html": [
       "<html>\\(\\displaystyle 7771.47860436536\\)</html>"
      ],
      "text/latex": [
       "$\\displaystyle 7771.47860436536$"
      ],
      "text/plain": [
       "7771.47860436536"
      ]
     },
     "execution_count": 5,
     "metadata": {},
     "output_type": "execute_result"
    }
   ],
   "source": [
    "# TODO :> also derive this in cylindrical coords, later\n",
    "\n",
    "ΔV = -(Q / (2*π*ε_0*L)) * ln(R_o / R_i)\n",
    "print(n(abs(ΔV)))\n",
    "\n",
    "abs(ΔV)\n"
   ]
  },
  {
   "cell_type": "markdown",
   "id": "9bede227",
   "metadata": {},
   "source": [
    "<div style=\"page-break-after: always;\"/> \n",
    "<h2 id='3' style=\"display:none\">[3]</h2>\n",
    "\n",
    ">   ---\n",
    ">   ## [3]\n",
    ">\n",
    ">   A particular capacitor is initially charged, then a high-resistance Nichrome\n",
    ">   wire is connected between the plates of the capacitor, as shown in the figure \n",
    ">   below.\n",
    ">\n",
    ">   The needle of a compass placed under the wire deflects $23^\\circ$ to the \n",
    ">   \"east\" as soon as the connection is made. After $80$ [s], the compass needle\n",
    ">   no longer deflects. \n",
    ">\n",
    ">   __<p align='right'>(0.1 points)</p>__\n",
    ">\n",
    ">   <hr width=\"82%\" style=\"border-top:1px dashed; border-bottom:none\"/>"
   ]
  },
  {
   "cell_type": "markdown",
   "id": "340834cf",
   "metadata": {},
   "source": [
    "<h3 id='3a' style=\"display:none\">(A)</h3>\n",
    "\n",
    ">   <hr width=\"82%\" style=\"border-bottom:2px dashed; border-top:none\"/>\n",
    ">   \n",
    ">   ### &#x2e04;&hairsp;&#x00B3;&hairsp;&#x2E05;&hairsp;(A)\n",
    ">\n",
    ">   <img loading='lazy' decoding='async' src=\"data:image/avif;base64,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\" />\n",
    ">   \n",
    ">   __Which of the diagrams above best indicates the electron current at three locations in this circuit?__\n",
    ">\n",
    ">   #### {A.ⅰ}\n",
    ">\n",
    ">   __0.01 [s] after the circuit is connected__\n",
    ">\n",
    ">   - [ ] &nbsp; (A)\n",
    ">   - [ ] &nbsp; (B)\n",
    ">   - [ ] &nbsp; (C)\n",
    ">\n",
    ">   #### {A.ⅱ}\n",
    ">\n",
    ">   __20 [s] after the circuit is connected__\n",
    ">\n",
    ">   - [ ] &nbsp; (A)\n",
    ">   - [ ] &nbsp; (B)\n",
    ">   - [ ] &nbsp; (C)\n",
    ">\n",
    ">   #### {A.ⅲ}\n",
    ">\n",
    ">   __160 [s] after the circuit is connected__\n",
    ">\n",
    ">   - [ ] &nbsp; (A)\n",
    ">   - [ ] &nbsp; (B)\n",
    ">   - [ ] &nbsp; (C)\n",
    ">\n",
    ">   <hr width=\"64%\" style=\"border-top:2px dotted; border-bottom:none\"/>"
   ]
  },
  {
   "cell_type": "markdown",
   "id": "659d5201",
   "metadata": {},
   "source": []
  },
  {
   "cell_type": "markdown",
   "id": "ba9efb0b",
   "metadata": {},
   "source": [
    "<h3 id='3b' style=\"display:none\">(B)</h3>\n",
    "\n",
    ">   <hr width=\"82%\" style=\"border-bottom:2px dashed; border-top:none\"/>\n",
    ">   \n",
    ">   ### &#x2e04;&hairsp;&#x00B3;&hairsp;&#x2E05;&hairsp;(B)\n",
    ">\n",
    ">   __Which of the diagrams in the figure below best indicate the net electric field inside the wire at three locations in this circuit?__\n",
    ">\n",
    ">   <img loading='lazy' decoding='async' src=\"data:image/avif;base64,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\" />\n",
    ">\n",
    ">   #### {B.ⅰ}\n",
    ">\n",
    ">   __0.01 [s] after the circuit is connected__\n",
    ">\n",
    ">   - [ ] &nbsp; (D)\n",
    ">   - [ ] &nbsp; (E)\n",
    ">   - [ ] &nbsp; (F)\n",
    ">\n",
    ">   #### {B.ⅱ}\n",
    ">\n",
    ">   __20 [s] after the circuit is connected__\n",
    ">\n",
    ">   - [ ] &nbsp; (D)\n",
    ">   - [ ] &nbsp; (E)\n",
    ">   - [ ] &nbsp; (F)\n",
    ">\n",
    ">   #### {B.ⅲ}\n",
    ">\n",
    ">   __160 [s] after the circuit is connected__\n",
    ">\n",
    ">   - [ ] &nbsp; (D)\n",
    ">   - [ ] &nbsp; (E)\n",
    ">   - [ ] &nbsp; (F)\n",
    ">\n",
    ">   <hr width=\"64%\" style=\"border-top:2px dotted; border-bottom:none\"/>"
   ]
  },
  {
   "cell_type": "markdown",
   "id": "541dfd4d",
   "metadata": {},
   "source": []
  },
  {
   "cell_type": "markdown",
   "id": "6f99f6dc",
   "metadata": {},
   "source": [
    "<div style=\"page-break-after: always;\"/> \n",
    "<h2 id='4' style=\"display:none\">[4]</h2>\n",
    "\n",
    ">   ---\n",
    ">   ## [4]\n",
    ">\n",
    ">   When a particular capacitor, which is initially uncharged, is connected to a \n",
    ">   battery and a small light bulb, the bulb is initially bright but gradually \n",
    ">   gets dimmer, and after $45$ [s] it goes out. \n",
    ">\n",
    ">   The diagrams in the figure below show the __electric field in the circuit__,\n",
    ">   and the __surface charge distribution on the wires__ at three different times \n",
    ">   ($0.01$ [s], $8$ [s], $240$ [s]) after the __connection to the bulb__ is made. \n",
    ">\n",
    ">   The diagrams in the figure below _also_ show the pattern of __electric field \n",
    ">   in the wires__, and __charge on the surface of the wires__ at three different \n",
    ">   times ($0.01$ [s], $8$ [s], $240$ [s]) after the __connection to the battery__ \n",
    ">   is made.\n",
    ">\n",
    ">   <img loading='lazy' decoding='async' src=\"data:image/avif;base64,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\" />\n",
    ">\n",
    ">   __Which of the diagrams best represents the state of the circuit at each time specified?__\n",
    ">\n",
    ">   ### (A)\n",
    ">\n",
    ">   __0.01 [s] after the connection is made__\n",
    ">\n",
    ">   - [ ] &nbsp; A\n",
    ">   - [ ] &nbsp; B\n",
    ">   - [ ] &nbsp; C\n",
    ">\n",
    ">   ### (B)\n",
    ">\n",
    ">   __8 [s] after the connection is made__\n",
    ">\n",
    ">   - [ ] &nbsp; A\n",
    ">   - [ ] &nbsp; B\n",
    ">   - [ ] &nbsp; C\n",
    ">\n",
    ">   ### (C)\n",
    ">\n",
    ">   __240 [s] after the connection is made__\n",
    ">\n",
    ">   - [ ] &nbsp; A\n",
    ">   - [ ] &nbsp; B\n",
    ">   - [ ] &nbsp; C\n",
    ">\n",
    ">   __<p align='right'>(0.1 points)</p>__\n",
    ">\n",
    ">   <hr width=\"82%\" style=\"border-top:1px dashed; border-bottom:none\"/>"
   ]
  },
  {
   "cell_type": "markdown",
   "id": "5961c3cd",
   "metadata": {},
   "source": []
  },
  {
   "cell_type": "markdown",
   "id": "df93b859",
   "metadata": {},
   "source": [
    "<div style=\"page-break-after: always;\"/> \n",
    "<h2 id='5' style=\"display:none\">[5]</h2>\n",
    "\n",
    ">   ---\n",
    ">   ## [5]*\n",
    ">\n",
    ">   A certain capacitor has rectangular plates $44$ [cm] by $30$ [cm], and the \n",
    ">   gap width is $0.31$ [mm].\n",
    ">\n",
    ">   __What is its capacitance?__\n",
    ">\n",
    ">   &emsp;&emsp;&emsp;&emsp; $\\fbox{\\hspace{8em}?}\\ \\left[\\textrm{F}\\right]$\n",
    ">\n",
    ">   We see that typical capacitances are very small when measured in Farads.  \n",
    ">   A one-farad capacitor is quite extraordinary! \n",
    ">   Apparently, such a one-farad capacitor would have a very large area $A$ (all\n",
    ">   wrapped up in a small package), and a very\n",
    ">   small gap $s$. \n",
    ">\n",
    ">   __<p align='right'>(10 points)</p>__\n",
    ">\n",
    ">   <hr width=\"82%\" style=\"border-top:1px dashed; border-bottom:none\"/>"
   ]
  },
  {
   "cell_type": "code",
   "execution_count": 12,
   "id": "da277e4f",
   "metadata": {},
   "outputs": [
    {
     "name": "stdout",
     "output_type": "stream",
     "text": [
      "3.77017029703742e-9\n"
     ]
    }
   ],
   "source": [
    "# C = Q / V\n",
    "# E = 2 * [(Q/A) / (2 ε_0)]\n",
    "# V = \\int E \\dot dl\n",
    "\n",
    "length = 44e-2\n",
    "width = 30e-2\n",
    "A = length * width\n",
    "\n",
    "dl = 0.31e-3\n",
    "C = (A * ε_0) / (dl)\n",
    "\n",
    "print(n(C))\n"
   ]
  },
  {
   "cell_type": "markdown",
   "id": "589ea14b",
   "metadata": {},
   "source": [
    "<div style=\"page-break-after: always;\"/> \n",
    "<h2 id='6' style=\"display:none\">[6]</h2>\n",
    "\n",
    ">   ---\n",
    ">   ## [6]\n",
    ">\n",
    ">   Suppose you charge a $2.0$ [F] capacitor with two $1.5$ volt batteries.\n",
    ">\n",
    ">   __<p align='right'>(0.1 points)</p>__\n",
    ">\n",
    ">   <hr width=\"82%\" style=\"border-top:1px dashed; border-bottom:none\"/>"
   ]
  },
  {
   "cell_type": "markdown",
   "id": "bacd7ac2",
   "metadata": {},
   "source": [
    "<h3 id='6a' style=\"display:none\">(A)</h3>\n",
    "\n",
    ">   <hr width=\"82%\" style=\"border-bottom:2px dashed; border-top:none\"/>\n",
    ">   \n",
    ">   ### &#x2e04;&hairsp;&#x2076;&hairsp;&#x2E05;&hairsp;(A)\n",
    ">\n",
    ">   __How much charge was on each plate?__\n",
    ">   \n",
    ">   &emsp;&emsp;&emsp;&emsp; $\\fbox{\\hspace{8em}?}\\ \\left[\\textrm{C}\\right]$\n",
    ">\n",
    ">   <hr width=\"64%\" style=\"border-top:2px dotted; border-bottom:none\"/>"
   ]
  },
  {
   "cell_type": "code",
   "execution_count": null,
   "id": "650e61ed",
   "metadata": {},
   "outputs": [],
   "source": []
  },
  {
   "cell_type": "markdown",
   "id": "c57a9913",
   "metadata": {},
   "source": [
    "<h3 id='6b' style=\"display:none\">(B)</h3>\n",
    "\n",
    ">   <hr width=\"82%\" style=\"border-bottom:2px dashed; border-top:none\"/>\n",
    ">   \n",
    ">   ### &#x2e04;&hairsp;&#x2076;&hairsp;&#x2E05;&hairsp;(B)\n",
    ">\n",
    ">   __How many excess electrons were on the negative plate?__\n",
    ">   \n",
    ">   &emsp;&emsp;&emsp;&emsp; $\\fbox{\\hspace{8em}?}$ electrons\n",
    ">\n",
    ">   <hr width=\"64%\" style=\"border-top:2px dotted; border-bottom:none\"/>"
   ]
  },
  {
   "cell_type": "code",
   "execution_count": null,
   "id": "6f9f6acc",
   "metadata": {},
   "outputs": [],
   "source": []
  },
  {
   "cell_type": "markdown",
   "id": "292d43e2",
   "metadata": {},
   "source": [
    "<div style=\"page-break-after: always;\"/> \n",
    "<h2 id='7' style=\"display:none\">[7]</h2>\n",
    "\n",
    ">   ---\n",
    ">   ## [7]\n",
    ">\n",
    ">   As shown in the figure below, a spherical metal shell of radius $r_1$ has a \n",
    ">   charge $Q$ (on its outer surface), and is surrounded by a concentric spherical \n",
    ">   metal shell of radius $r_2$ which has a charge $-Q$ (on its inner surface).\n",
    ">\n",
    ">   <img loading='lazy' decoding='async' src=\"data:image/avif;base64,AAAAHGZ0eXBhdmlmAAAAAGF2aWZtaWYxbWlhZgAAANZtZXRhAAAAAAAAACFoZGxyAAAAAAAAAABwaWN0AAAAAAAAAAAAAAAAAAAAAA5waXRtAAAAAAABAAAAImlsb2MAAAAAREAAAQABAAAAAAD6AAEAAAAAAAAG4wAAACNpaW5mAAAAAAABAAAAFWluZmUCAAAAAAEAAGF2MDEAAAAAVmlwcnAAAAA4aXBjbwAAAAxhdjFDgQAMAAAAABRpc3BlAAAAAAAAAXoAAAFbAAAAEHBpeGkAAAAAAwgICAAAABZpcG1hAAAAAAAAAAEAAQOBAgMAAAbrbWRhdBIACgoYIi81pggIaDQgMtINEyAKaaaRQMMwqSJICcZbGFefD+MCgDGM93fTvbIM+hS8ZPl7mWtaIQN+pPX+aS/2oLgIyV2NvTtmxKLUHCD2Vfqg+CclhJKdAsquaMfOWhAGQj1qaQ7E3Q+BsrROhe3c1pjHKCP8mgxSXXk9RHvOcyY/PXeTqDhL/6IzS2w+YcTiMP6X4DgQIF6M+/d01wpdbDov7GCDuXDTvtBTxi3NKFIz/Z9HpDa/NDYCaKLWG53+WGv+8t7LlAr0dX9Mfok2/uMqgZKJcsik7pB0O6vzAVYMScHLWJWo6auSGxTcZO5NiVA4BLIjKsAUGZPgAG8SrWMLm/WBIg4PrVDseAZ8HxT3mKpuY2IPPQsw5u7vSkm3umXjC6TsaKxRo5kuRLdl6AlGf3fiR2GSwKpTkXffNpKpkre+PbyCScYzF7jFrgzh5dIkwWp8GDhwcYAS9XdrMuZ5Lp1GBZ74RNJE9pQhcraZqfP+ZZB1uoUK6Uynzi9YZ5iFiKAC5ZkJ+f/XEJO8tUYWHPwwdI7Y7nFuezhO2kTfXBvYbNrycPVBVIdpKkYtFmHw56/60NrAvPJg8tFhfYXGXKKkDek89/jG+HyRrMnEihmgJ6q1MI5ISU7EgvoPJ+ApKofO6i4BNMbuonIP7r1Jp1F7wrjEBQp3WguNTmxf/UioMsfCeXcaPCJxSg09ciWsKJPFq6RUGPlrSwsjdYWuzSSzVhkVwvyEA1Q+jdKkXoJ3cR0bttc4n+T3JhpJxjzPntachD7T71VunuCDSk5Hq2nRZK7q7IMkDFiyH+Ds+hQ7rsTmGELzxqIM8ASCHrf5Kb4xtBzj3eZ55xD1qLYx9WwmiKnakIehDbyCL69Td6Mlu9aOb0iN2M41gq/0cUc0B5pVm4cJTISUxVM70tIRXetfMedD1urmkYosFxKB3KvnW2c7exiffXgL6wSgAyUd1H34LXYVRp4mc7G30TB95owhhB4mdmJ1EL400A8dHnp0mP6dVTcuGIMDspjfu95eamUX9jE9tCOlM/5cQqTdvMbpXjsxEAZ5RdW4+deaJUXcu7YXUZhcB2/gv0woL1xenTVUG/aspbkbReFFo+fflB312ynH2qzbcsIM+zTXPGG6gH1gvjTyUxEEGmnWDirS6FA7GcJL1beAvhaCZt7Y/P/Y2uXR7vtyfNOcz2GQLonXt8IY1XCmCHdnT7septCZgfadDHVwKa1lVGvSrToXq3s7c/59/JwvV+87P2wytUAQPMP+SA97kPvxUOlVmUp9NZjTlD8X/UkdX/5wnxebUmaNF9H/KBMDwXLTZIEhNthNS5zIegrV2IWKXsmAjv7jnHhkuIiC/ThXkkdY1LL9LlqguAWTqbrE2BiAR1ub2ipxuk87czof/0uqmh1Jv2LaobEkZXCSUeyCxSdBz0YsaFEArAZQf1/W7TI2WrXKBoa9x2QPMXq4d/SMdOTCWhHE/Juxe9vDCJhos4mFgmAA3OPuukGNzOGB6r8N7SdqcP1gKF0yJbGOgb4W2WP/JCtEHNdnwhAvzjaRaQaX4DBbWUiplVXwnF7GJ0EZM38wH6gTxGohxRO/GaTGTeD+DuF2UVPFvrIDWsGrxkDkjNDq8zT55ZpbV4y2+FYjxUiIf9yPnwIIckH1YqmWpCKyezVMFuxhb7NgmmMYPGxLGxFGs+xTtDcyImwR97t35LhXCSg3hthztkBOpeJTwzHhktT9dheD5EDXMtZSOBH7IpoIfBhcow1w4GT8/DjPIFB0n+j2EH+qiVVTMgoHjioZJXCnJVkjMgZoEYq7z3CfHFd4RYYLdTjyu4VWn2JGoAvPUYd9dUeREjjtTTP4mExhnvlipM8Ly2lyADkNaYN5Dao25zvU20qUHwivQvYcefwiuy2Ykl1CBAYbsWd4SjFtVt9oPNfVyTytjEnGBMh13NcVVqhr4S5QHvaX5upmi2X3/prrOOwBXu22PI3ZyMDsfa++cgtPcyx8QacWGbH1VxgwQjg+9ySFhu19ct7KHla1lb9WC1qsOg43JkdFD06AuDSBZY383Bh/B6x3pknE4Sjau6Szcb/k1ewA3p4Bymqd2nnn5D4NNIy+8IOCMzA0ygq9HhW+jMQDClfgyA0MdJ1fo85Q8/2wGWNlRdSev2Q7AzWXDLaIcEMzo/o251+WSzJ7DkCtSq9br4BGtB9OrudL+RpUWgqGr4v0mWja7ySRA+frXBSia9SdkWW4QmBavrz+s8iWpqTI+qamSo7fSkAxi0oYDX6ltQOTeenRdI07B6L8CTjFik1rl08QNtYJoalaDNLYi8HpBM/8YcnC4x6u09oSrSIP2ChWDpwt5zzR\" />\n",
    ">\n",
    ">   __Use the definition of capacitance ($Q = C \\lvert \\Delta V \\rvert$) to find the capacitance of this spherical capacitor.__\n",
    ">\n",
    ">   Use the following as necessary: $\\epsilon_0$, $r_1$, and $r_2$. \n",
    ">\n",
    ">   &emsp;&emsp;&emsp;&emsp; $C = \\fbox{\\hspace{8em}?}$\n",
    ">\n",
    ">   __<p align='right'>(0.1 points)</p>__\n",
    ">\n",
    ">   <hr width=\"82%\" style=\"border-top:1px dashed; border-bottom:none\"/>"
   ]
  },
  {
   "cell_type": "code",
   "execution_count": null,
   "id": "a2efba9e",
   "metadata": {},
   "outputs": [],
   "source": []
  },
  {
   "cell_type": "markdown",
   "id": "aa8535af",
   "metadata": {},
   "source": [
    "<div style=\"page-break-after: always;\"/> \n",
    "<h2 id='8' style=\"display:none\">[8]</h2>\n",
    "\n",
    ">   ---\n",
    ">   ## [8]\n",
    ">\n",
    ">   In the circuit shown in the figure below, the $\\mathcal{EMF}$ of the battery\n",
    ">   is $6.6$ [V]. \n",
    ">\n",
    ">   Resistor $R_1$ has a resistance of $27 [\\Omega]$, resistor $R_2$ has a \n",
    ">   resistance of $47 [\\Omega]$, and resistor $R_3$ has a resistance of $64 [\\Omega]$. \n",
    ">   A steady current flows through the circuit. \n",
    ">\n",
    ">   <img loading='lazy' decoding='async' src=\"data:image/avif;base64,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\" />\n",
    ">\n",
    ">   __<p align='right'>(0.1 points)</p>__\n",
    ">\n",
    ">   <hr width=\"82%\" style=\"border-top:1px dashed; border-bottom:none\"/>"
   ]
  },
  {
   "cell_type": "markdown",
   "id": "d63dd14f",
   "metadata": {},
   "source": [
    "<h3 id='8a' style=\"display:none\">(A)</h3>\n",
    "\n",
    ">   <hr width=\"82%\" style=\"border-bottom:2px dashed; border-top:none\"/>\n",
    ">\n",
    ">   ### &#x2e04;&hairsp;&#x2078;&hairsp;&#x2E05;&hairsp;(A)\n",
    ">\n",
    ">   __What is the equivalent resistance of $R_1$ and $R_2$?__\n",
    ">   \n",
    ">   &emsp;&emsp;&emsp;&emsp; $\\fbox{\\hspace{8em}?}\\ \\left[\\Omega\\right]$\n",
    ">\n",
    ">   <hr width=\"64%\" style=\"border-top:2px dotted; border-bottom:none\"/>"
   ]
  },
  {
   "cell_type": "code",
   "execution_count": null,
   "id": "34d0f96a",
   "metadata": {},
   "outputs": [],
   "source": []
  },
  {
   "cell_type": "markdown",
   "id": "604c5c47",
   "metadata": {},
   "source": [
    "<h3 id='8b' style=\"display:none\">(B)</h3>\n",
    "\n",
    ">   <hr width=\"82%\" style=\"border-bottom:2px dashed; border-top:none\"/>\n",
    ">   \n",
    ">   ### &#x2e04;&hairsp;&#x2078;&hairsp;&#x2E05;&hairsp;(B)\n",
    ">\n",
    ">   __What is the equivalent resistance of all three resistors?__\n",
    ">   \n",
    ">   &emsp;&emsp;&emsp;&emsp; $\\fbox{\\hspace{8em}?}\\ \\left[\\Omega\\right]$\n",
    ">\n",
    ">   <hr width=\"64%\" style=\"border-top:2px dotted; border-bottom:none\"/>"
   ]
  },
  {
   "cell_type": "code",
   "execution_count": null,
   "id": "6220db60",
   "metadata": {},
   "outputs": [],
   "source": []
  },
  {
   "cell_type": "markdown",
   "id": "9ed14e05",
   "metadata": {},
   "source": [
    "<h3 id='8c' style=\"display:none\">(C)</h3>\n",
    "\n",
    ">   <hr width=\"82%\" style=\"border-bottom:2px dashed; border-top:none\"/>\n",
    ">   \n",
    ">   ### &#x2e04;&hairsp;&#x2078;&hairsp;&#x2E05;&hairsp;(C)\n",
    ">\n",
    ">   __What is the conventional current through $R_3$?__\n",
    ">   \n",
    ">   &emsp;&emsp;&emsp;&emsp; $\\fbox{\\hspace{8em}?}\\ \\left[\\textrm{A}\\right]$\n",
    ">\n",
    ">   <hr width=\"64%\" style=\"border-top:2px dotted; border-bottom:none\"/>"
   ]
  },
  {
   "cell_type": "code",
   "execution_count": null,
   "id": "5e252c6d",
   "metadata": {},
   "outputs": [],
   "source": []
  },
  {
   "cell_type": "markdown",
   "id": "e92e008a",
   "metadata": {},
   "source": [
    "<div style=\"page-break-after: always;\"/> \n",
    "<h2 id='9' style=\"display:none\">[9]</h2>\n",
    "\n",
    ">   ---\n",
    ">   ## [9]*\n",
    ">\n",
    ">   __Establishing a Potential Difference__\n",
    ">\n",
    ">   The deflection plates in an oscilloscope at $10$ [cm] by $2$ [cm], with a \n",
    ">   gap distance of $1$ [mm].\n",
    ">\n",
    ">   A $100$-volt potential difference is suddenly applied to the initially \n",
    ">   uncharged plates, through a 925-ohm resistor in series with the deflection \n",
    ">   plates.\n",
    ">\n",
    ">   __How long does it take for the potential difference between the deflection plates to reach $80$ volts?__\n",
    ">\n",
    ">   &emsp;&emsp;&emsp;&emsp; $\\fbox{\\hspace{8em}?}$ [s]\n",
    ">\n",
    ">   __<p align='right'>(10 points)</p>__\n",
    ">\n",
    ">   <hr width=\"82%\" style=\"border-top:1px dashed; border-bottom:none\"/>"
   ]
  },
  {
   "cell_type": "code",
   "execution_count": 22,
   "id": "28984971",
   "metadata": {},
   "outputs": [
    {
     "name": "stdout",
     "output_type": "stream",
     "text": [
      "2.63629912848695e-8\n"
     ]
    }
   ],
   "source": [
    "A = 10e-2 * 2e-2\n",
    "\n",
    "s = 1e-3\n",
    "V_0 = 100\n",
    "𝝮 = 925\n",
    "\n",
    "length = 10E-2\n",
    "width = 2E-2\n",
    "gap = 1E-3\n",
    "\n",
    "# See HW5 Q5 for an explanation of this formula\n",
    "C = (A * ε_0) / s\n",
    "\n",
    "t = -(𝝮*C)*ln(1 - (80/100))\n",
    "print(n(t))\n"
   ]
  },
  {
   "cell_type": "markdown",
   "id": "6dde483e",
   "metadata": {},
   "source": [
    "---"
   ]
  }
 ],
 "metadata": {
  "kernelspec": {
   "display_name": "SageMath 10.6",
   "language": "sage",
   "name": "SageMath-10.6"
  },
  "language_info": {
   "codemirror_mode": {
    "name": "ipython",
    "version": 3
   },
   "file_extension": ".py",
   "mimetype": "text/x-python",
   "name": "python",
   "nbconvert_exporter": "python",
   "pygments_lexer": "ipython3",
   "version": "3.12.5"
  }
 },
 "nbformat": 4,
 "nbformat_minor": 5
}
