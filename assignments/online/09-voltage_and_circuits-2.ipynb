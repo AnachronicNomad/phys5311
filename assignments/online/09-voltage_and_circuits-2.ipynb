{
 "cells": [
  {
   "cell_type": "markdown",
   "id": "553158b3",
   "metadata": {},
   "source": [
    "# Voltage and Circuits 2\n",
    "\n",
    "M&I \n",
    "Ch 16 Electric Potential\n",
    "\n",
    "- §16.5 Potential Difference in a Non-Uniform Field\n",
    "\n",
    "Ch 19 Circuit Elements\n",
    "\n",
    "- §19.1 Capacitors\n",
    "- §19.2 Resistors\n",
    "- §19.7 Quantitative "
   ]
  },
  {
   "cell_type": "code",
   "execution_count": null,
   "id": "4d87d0c4",
   "metadata": {
    "vscode": {
     "languageId": "python"
    }
   },
   "outputs": [
    {
     "name": "stdout",
     "output_type": "stream",
     "text": [
      "Python: 3.12.5 (main, Feb 25 2025, 12:37:41) [Clang 16.0.0 (clang-1600.0.26.6)]\n"
     ]
    },
    {
     "data": {
      "text/html": [
       "<html>\\(\\displaystyle \\verb|SageMath|\\verb| |\\verb|version|\\verb| |\\verb|10.6,|\\verb| |\\verb|Release|\\verb| |\\verb|Date:|\\verb| |\\verb|2025-03-31|\\)</html>"
      ],
      "text/latex": [
       "$\\displaystyle \\verb|SageMath|\\verb| |\\verb|version|\\verb| |\\verb|10.6,|\\verb| |\\verb|Release|\\verb| |\\verb|Date:|\\verb| |\\verb|2025-03-31|$"
      ],
      "text/plain": [
       "'SageMath version 10.6, Release Date: 2025-03-31'"
      ]
     },
     "execution_count": 1,
     "metadata": {},
     "output_type": "execute_result"
    }
   ],
   "source": [
    "########\n",
    "## Env Setup / Preamble\n",
    "########\n",
    "%load_ext autoreload\n",
    "%autoreload complete \n",
    "\n",
    "%load_ext Cython\n",
    "\n",
    "%display latex\n",
    "\n",
    "################\n",
    "\n",
    "import cython\n",
    "from sage.all import *\n",
    "\n",
    "################\n",
    "\n",
    "import tempfile\n",
    "import mmap\n",
    "from multiprocessing import shared_memory\n",
    "\n",
    "################\n",
    "\n",
    "import numpy as np\n",
    "import scipy.constants\n",
    "\n",
    "np.random.seed( int(scipy.constants.golden_ratio * 1.e6) )\n",
    "\n",
    "from numpy import vectorize\n",
    "from numpy import r_, c_, s_\n",
    "\n",
    "################\n",
    "\n",
    "####    boiler-plate class for named constants\n",
    "from sage.symbolic.constants import Constant\n",
    "class ConstantFromExpression(Constant):\n",
    "    def __init__(self, name, v):\n",
    "        conversions = dict(maxima=repr(maxima.coerce(v)))\n",
    "        Constant.__init__(self, name, conversions=conversions)\n",
    "        self._v = v\n",
    "    def __float__(self): return float(self._v)\n",
    "    def __complex__(self): return complex(self._v)\n",
    "    def _mpfr_(self, R): return R(self._v)\n",
    "    def _real_double_(self, R): return R(self._v)\n",
    "\n",
    "def NamedExpression(name, expr):\n",
    "    return ConstantFromExpression(name,expr).expression()\n",
    "####\n",
    "\n",
    "import sage.symbolic.units as units     # <: TODO\n",
    "\n",
    "π   = NamedExpression('π', scipy.constants.pi)          # pi\n",
    "ε_0 = NamedExpression('ε_0', scipy.constants.epsilon_0) # electric permittivity of vacuum\n",
    "μ_0 = NamedExpression('μ_0', scipy.constants.mu_0)      # magnetic permeability of vacuum\n",
    "\n",
    "𝛋 = 1. / (4 * π * ε_0)      # Coulomb's constant in [ N·m²/C² ]\n",
    "q = NamedExpression('q', -scipy.constants.elementary_charge)\n",
    "\n",
    "ℎ_planck = NamedExpression('ℎ', scipy.constants.Planck)\n",
    "ℏ = NamedExpression('ℏ', scipy.constants.hbar)\n",
    "\n",
    "α = NamedExpression('α', scipy.constants.fine_structure)\n",
    "\n",
    "m_e = NamedExpression('m_e', scipy.constants.electron_mass)\n",
    "m_p = NamedExpression('m_p', scipy.constants.proton_mass)\n",
    "\n",
    "################\n",
    "\n",
    "Parallelism().set(nproc=8)\n",
    "print(f\"Python: {sys.version}\")\n",
    "version()\n"
   ]
  },
  {
   "cell_type": "code",
   "execution_count": null,
   "id": "6dbb2a79",
   "metadata": {
    "vscode": {
     "languageId": "python"
    }
   },
   "outputs": [
    {
     "name": "stdout",
     "output_type": "stream",
     "text": [
      "The Zen of Python, by Tim Peters\n",
      "\n",
      "Beautiful is better than ugly.\n",
      "Explicit is better than implicit.\n",
      "Simple is better than complex.\n",
      "Complex is better than complicated.\n",
      "Flat is better than nested.\n",
      "Sparse is better than dense.\n",
      "Readability counts.\n",
      "Special cases aren't special enough to break the rules.\n",
      "Although practicality beats purity.\n",
      "Errors should never pass silently.\n",
      "Unless explicitly silenced.\n",
      "In the face of ambiguity, refuse the temptation to guess.\n",
      "There should be one-- and preferably only one --obvious way to do it.\n",
      "Although that way may not be obvious at first unless you're Dutch.\n",
      "Now is better than never.\n",
      "Although never is often better than *right* now.\n",
      "If the implementation is hard to explain, it's a bad idea.\n",
      "If the implementation is easy to explain, it may be a good idea.\n",
      "Namespaces are one honking great idea -- let's do more of those!\n"
     ]
    }
   ],
   "source": [
    "##  sanity check\n",
    "import this\n"
   ]
  },
  {
   "cell_type": "markdown",
   "id": "c3c5a510",
   "metadata": {},
   "source": [
    "---\n",
    "\n",
    "<hr width=\"82%\" style=\"border-top:2px dashed; border-bottom:none\"/>\n",
    "\n",
    "<hr width=\"64%\" style=\"border-top:1px dotted; border-bottom:none\"/>"
   ]
  },
  {
   "cell_type": "markdown",
   "id": "763ea020",
   "metadata": {},
   "source": [
    "<div style=\"page-break-after: always;\"/> \n",
    "\n",
    "---\n",
    "\n",
    "## [1]*\n",
    "\n",
    ">\n",
    ">   __Potential Difference in a Capacitor__\n",
    ">\n",
    ">   A capacitor consists of two large metal disks, placed a distance $s$ apart in the figure above. \n",
    ">\n",
    ">   The radius $R$ of each disk is $7.8$ [m], the gap $s$ between the disks is $1.0$ [mm], and the thickness $t$ of each disk is $0.3$ [mm]. \n",
    ">   The disk on the left has a net charge of $3.6 \\times 10^{-4}$ [C], and the disk on the right has a net charge of $-3.6\\times 10^{-4}$ [C].\n",
    ">\n",
    ">   __Calculate the potential difference $V_2 - V_1$__, where location 1 is inside the left disk at its center, and location 2 is in the center of the air gap between the disks. \n",
    ">\n",
    ">   Use $\\epsilon_0 \\approx 8.85 \\times 10^{-12}$ [C^2 / (N⋅m^2)]\n",
    ">\n",
    ">   &emsp;&emsp;&emsp;&emsp; $V_2 - V_1 = \\fbox{\\hspace{8em}?}\\ \\left[\\textrm{V}\\right]$\n",
    ">\n",
    ">   __<p align='right'>(10 points)</p>__\n",
    ">\n",
    ">   <hr width=\"82%\" style=\"border-top:1px dashed; border-bottom:none\"/>"
   ]
  },
  {
   "cell_type": "markdown",
   "id": "9cf347a0",
   "metadata": {},
   "source": [
    "<div style=\"page-break-after: always;\"/> \n",
    "\n",
    "---\n",
    "\n",
    "## [2]*\n",
    "\n",
    ">\n",
    ">   __Geiger Tube__\n",
    ">\n",
    ">   A Geiger Tube, used to detect radioactive decays, contains a long thin metal wire, surrounded by a concentric long narrow metal tube.\n",
    ">   Insulating spokes hold the wire in the center of the tube, and prevent electrical contact between the wire and the tube. \n",
    ">\n",
    ">   A variable power supply is connected to the device as shown. Normally, no current flows, because the tube and wire are not connected to each other. \n",
    ">   The power supply maintains opposite charges on the wire and the tube.\n",
    ">\n",
    ">   {{GRAPHIC}}\n",
    ">\n",
    ">   __<p align='right'>(10 points)</p>__\n",
    ">\n",
    ">   <hr width=\"82%\" style=\"border-top:1px dashed; border-bottom:none\"/>"
   ]
  },
  {
   "cell_type": "markdown",
   "id": "4e7ecd09",
   "metadata": {},
   "source": [
    "<hr width=\"82%\" style=\"border-bottom:2px dashed; border-top:none\"/>\n",
    "\n",
    "### (A)\n",
    "\n",
    ">\n",
    ">   The electric field in the space between the wire and the outer tube is due \n",
    ">   only to the wire &mdash; the contribution due to the charges on the outer \n",
    ">   tube sum to zero! \n",
    ">\n",
    ">   When the electric field at any location in air reaches $3 \\times 10^6$ [V/m], the air ionizes and becomes a conductor. \n",
    ">   \n",
    ">   For the tube shown, the length $L = 77$ [cm], the inner radius $r = 0.6$ [mm], and the outer radius $R = 4.5$ [cm]. \n",
    ">\n",
    ">   __How much charge would there need to be on the inner wire, in order to \n",
    ">     ionize the air near the wire__ (where the field is largest)__?__\n",
    ">\n",
    ">   &emsp;&emsp;&emsp;&emsp; $Q = \\fbox{\\hspace{8em}?}\\ \\left[\\textrm{C}\\right]$\n",
    ">\n",
    ">   <hr width=\"64%\" style=\"border-top:2px dotted; border-bottom:none\"/>"
   ]
  },
  {
   "cell_type": "code",
   "execution_count": null,
   "id": "6c67aef4",
   "metadata": {
    "vscode": {
     "languageId": "python"
    }
   },
   "outputs": [],
   "source": []
  },
  {
   "cell_type": "markdown",
   "id": "72b3c644",
   "metadata": {},
   "source": [
    "<hr width=\"82%\" style=\"border-bottom:2px dashed; border-top:none\"/>\n",
    "\n",
    "### (B)\n",
    "\n",
    ">\n",
    ">   When there is enough charge on the wire to ionize the air, you see a glow in\n",
    ">   the air, very near the inner wire. \n",
    ">\n",
    ">   When this happens, __what is the absolute value of the potential difference \n",
    ">   along a path from the inner wire to the outer tube?__\n",
    ">\n",
    ">   (Note that the electric field in this region is _not_ uniform.)\n",
    ">\n",
    ">   &emsp;&emsp;&emsp;&emsp; $\\left\\lvert \\Delta V \\right\\rvert = \\fbox{\\hspace{8em}?}\\ \\left[\\textrm{V}\\right]$\n",
    ">\n",
    ">   The Geiger Tube was one of the first electronic particle detectors. \n",
    ">   The voltage is set just below the threshold for making the air glow near the\n",
    ">   wire (Part B). A charged particle that passes near the center wire can trigger \n",
    ">   ionization of the air, leading to a large current that can be easily measured. \n",
    ">\n",
    ">   <hr width=\"64%\" style=\"border-top:2px dotted; border-bottom:none\"/>"
   ]
  },
  {
   "cell_type": "code",
   "execution_count": null,
   "id": "a5f871d4",
   "metadata": {
    "vscode": {
     "languageId": "python"
    }
   },
   "outputs": [],
   "source": []
  },
  {
   "cell_type": "markdown",
   "id": "9bede227",
   "metadata": {},
   "source": [
    "<div style=\"page-break-after: always;\"/> \n",
    "\n",
    "---\n",
    "\n",
    "## [3]\n",
    "\n",
    ">\n",
    ">   A particular capacitor is initially charged, then a high-resistance Nichrome wire is connected between the plates of the capacitor, as shown in the figure below.\n",
    ">   The needle of a compass placed under the wire deflects $23^\\circ$ to the \"east\" as soon as the connection is made. After $80$ [s], the compass needle no longer deflects. \n",
    ">\n",
    ">\n",
    ">   __<p align='right'>(0.1 points)</p>__\n",
    ">\n",
    ">   <hr width=\"82%\" style=\"border-top:1px dashed; border-bottom:none\"/>"
   ]
  },
  {
   "cell_type": "markdown",
   "id": "340834cf",
   "metadata": {},
   "source": [
    "<hr width=\"82%\" style=\"border-bottom:2px dashed; border-top:none\"/>\n",
    "\n",
    "### (A)\n",
    "\n",
    ">\n",
    ">   {{GRAPHIC}}\n",
    ">   \n",
    ">   __Which of the diagrams above best indicates the electron current at three locations in this circuit?__\n",
    ">\n",
    ">   #### {i}\n",
    ">\n",
    ">   __0.01 [s] after the circuit is connected__\n",
    ">\n",
    ">   - [ ] &nbsp; (A)\n",
    ">   - [ ] &nbsp; (B)\n",
    ">   - [ ] &nbsp; (C)\n",
    ">\n",
    ">   #### {ii}\n",
    ">\n",
    ">   __20 [s] after the circuit is connected__\n",
    ">\n",
    ">   - [ ] &nbsp; (A)\n",
    ">   - [ ] &nbsp; (B)\n",
    ">   - [ ] &nbsp; (C)\n",
    ">\n",
    ">   #### {iii}\n",
    ">\n",
    ">   __160 [s] after the circuit is connected__\n",
    ">\n",
    ">   - [ ] &nbsp; (A)\n",
    ">   - [ ] &nbsp; (B)\n",
    ">   - [ ] &nbsp; (C)\n",
    ">\n",
    ">   <hr width=\"64%\" style=\"border-top:2px dotted; border-bottom:none\"/>"
   ]
  },
  {
   "cell_type": "markdown",
   "id": "659d5201",
   "metadata": {},
   "source": []
  },
  {
   "cell_type": "markdown",
   "id": "ba9efb0b",
   "metadata": {},
   "source": [
    "<hr width=\"82%\" style=\"border-bottom:2px dashed; border-top:none\"/>\n",
    "\n",
    "### (B)\n",
    "\n",
    ">\n",
    ">   __Which of the diagrams in the figure below best indicate the net electric field inside the wire at three locations in this circuit?__\n",
    ">\n",
    ">   {{ GRPAHIC }}\n",
    ">\n",
    ">   #### {B.i}\n",
    ">\n",
    ">   __0.01 [s] after the circuit is connected__\n",
    ">\n",
    ">   - [ ] &nbsp; (D)\n",
    ">   - [ ] &nbsp; (E)\n",
    ">   - [ ] &nbsp; (F)\n",
    ">\n",
    ">   #### {B.ii}\n",
    ">\n",
    ">   __20 [s] after the circuit is connected__\n",
    ">\n",
    ">   - [ ] &nbsp; (D)\n",
    ">   - [ ] &nbsp; (E)\n",
    ">   - [ ] &nbsp; (F)\n",
    ">\n",
    ">   #### {B.iii}\n",
    ">\n",
    ">   __160 [s] after the circuit is connected__\n",
    ">\n",
    ">   - [ ] &nbsp; (D)\n",
    ">   - [ ] &nbsp; (E)\n",
    ">   - [ ] &nbsp; (F)\n",
    ">\n",
    ">   <hr width=\"64%\" style=\"border-top:2px dotted; border-bottom:none\"/>"
   ]
  },
  {
   "cell_type": "markdown",
   "id": "541dfd4d",
   "metadata": {},
   "source": []
  },
  {
   "cell_type": "markdown",
   "id": "6f99f6dc",
   "metadata": {},
   "source": [
    "<div style=\"page-break-after: always;\"/> \n",
    "\n",
    "---\n",
    "\n",
    "## [4]\n",
    "\n",
    ">\n",
    ">   When a particular capacitor, which is initially uncharged, is connected to a battery and a small light bulb, the bulb is \n",
    ">   initially bright but gradually gets dimmer, and after $45$ [s] it goes out. \n",
    ">\n",
    ">   The diagrams in the figure below show the __electric field in the circuit__, and the __surface charge distribution on the wires__ at three different times ($0.01$ [s], $8$ [s], $240$ [s]) after the __connection to the bulb__ is made. \n",
    ">\n",
    ">   The diagrams in the figure below _also_ show the pattern of __electric field in the wires__, and __charge on the surface of the wires__ at three different times ($0.01$ [s], $8$ [s], $240$ [s]) after the __connection to the battery__ is made.\n",
    ">\n",
    ">   {{ GRAPHIC }}\n",
    ">\n",
    ">   __Which of the diagrams best represents the state of the circuit at each time specified?__\n",
    ">\n",
    ">   ### (A)\n",
    ">\n",
    ">   __0.01 [s] after the connection is made__\n",
    ">\n",
    ">   - [ ] &nbsp; A\n",
    ">   - [ ] &nbsp; B\n",
    ">   - [ ] &nbsp; C\n",
    ">\n",
    ">   ### (B)\n",
    ">\n",
    ">   __8 [s] after the connection is made__\n",
    ">\n",
    ">   - [ ] &nbsp; A\n",
    ">   - [ ] &nbsp; B\n",
    ">   - [ ] &nbsp; C\n",
    ">\n",
    ">   ### (C)\n",
    ">\n",
    ">   __240 [s] after the connection is made__\n",
    ">\n",
    ">   - [ ] &nbsp; A\n",
    ">   - [ ] &nbsp; B\n",
    ">   - [ ] &nbsp; C\n",
    ">\n",
    ">   __<p align='right'>(0.1 points)</p>__\n",
    ">\n",
    ">   <hr width=\"82%\" style=\"border-top:1px dashed; border-bottom:none\"/>"
   ]
  },
  {
   "cell_type": "markdown",
   "id": "df93b859",
   "metadata": {},
   "source": [
    "<div style=\"page-break-after: always;\"/> \n",
    "\n",
    "---\n",
    "\n",
    "## [5]*\n",
    "\n",
    ">\n",
    ">   A certain capacitor has rectangular plates $44$ [cm] by $30$ [cm], and the gap width is $0.31$ [mm].\n",
    ">\n",
    ">   __What is its capacitance?__\n",
    ">\n",
    ">   &emsp;&emsp;&emsp;&emsp; $\\fbox{\\hspace{8em}?}\\ \\left[\\textrm{F}\\right]$\n",
    ">\n",
    ">   We see that typical capacitances are very small when measured in Farads.  A one-farad capacitor is quite extraordinary! \n",
    ">   Apparently, such a one-farad capacitor would have a very large area $A$ (all wrapped up in a small package), and a very\n",
    ">   small gap $s$. \n",
    ">\n",
    ">   __<p align='right'>(10 points)</p>__\n",
    ">\n",
    ">   <hr width=\"82%\" style=\"border-top:1px dashed; border-bottom:none\"/>"
   ]
  },
  {
   "cell_type": "markdown",
   "id": "589ea14b",
   "metadata": {},
   "source": [
    "<div style=\"page-break-after: always;\"/> \n",
    "\n",
    "---\n",
    "\n",
    "## [6]\n",
    "\n",
    ">\n",
    ">   Suppose you charge a $2.0$ [F] capacitor with two $1.5$ volt batteries.\n",
    ">\n",
    ">   __<p align='right'>(0.1 points)</p>__\n",
    ">\n",
    ">   <hr width=\"82%\" style=\"border-top:1px dashed; border-bottom:none\"/>"
   ]
  },
  {
   "cell_type": "markdown",
   "id": "bacd7ac2",
   "metadata": {},
   "source": [
    "<hr width=\"82%\" style=\"border-bottom:2px dashed; border-top:none\"/>\n",
    "\n",
    "### (A)\n",
    "\n",
    ">\n",
    ">   __How much charge was on each plate?__\n",
    ">   \n",
    ">   &emsp;&emsp;&emsp;&emsp; $\\fbox{\\hspace{8em}?}\\ \\left[\\textrm{C}\\right]$\n",
    ">\n",
    ">   <hr width=\"64%\" style=\"border-top:2px dotted; border-bottom:none\"/>"
   ]
  },
  {
   "cell_type": "code",
   "execution_count": null,
   "id": "650e61ed",
   "metadata": {
    "vscode": {
     "languageId": "python"
    }
   },
   "outputs": [],
   "source": []
  },
  {
   "cell_type": "markdown",
   "id": "c57a9913",
   "metadata": {},
   "source": [
    "<hr width=\"82%\" style=\"border-bottom:2px dashed; border-top:none\"/>\n",
    "\n",
    "### (B)\n",
    "\n",
    ">\n",
    ">   __How many excess electrons were on the negative plate?__\n",
    ">   \n",
    ">   &emsp;&emsp;&emsp;&emsp; $\\fbox{\\hspace{8em}?}$ electrons\n",
    ">\n",
    ">   <hr width=\"64%\" style=\"border-top:2px dotted; border-bottom:none\"/>"
   ]
  },
  {
   "cell_type": "code",
   "execution_count": null,
   "id": "6f9f6acc",
   "metadata": {
    "vscode": {
     "languageId": "python"
    }
   },
   "outputs": [],
   "source": []
  },
  {
   "cell_type": "markdown",
   "id": "292d43e2",
   "metadata": {},
   "source": [
    "<div style=\"page-break-after: always;\"/> \n",
    "\n",
    "---\n",
    "\n",
    "## [7]\n",
    "\n",
    ">\n",
    ">   As shown in the figure below, a spherical metal shell of radius $r_1$ has a charge $Q$ (on its outer surface), and is surrounded by a concentric spherical metal shell of radius $r_2$ which has a charge $-Q$ (on its inner surface).\n",
    ">\n",
    ">   {{ GRAPHIC }}\n",
    ">\n",
    ">   __Use the definition of capacitance ($Q = C \\lvert \\Delta V \\rvert$) to find the capacitance of this spherical capacitor.__\n",
    ">\n",
    ">   Use the following as necessary: $\\epsilon_0$, $r_1$, and $r_2$. \n",
    ">\n",
    ">   &emsp;&emsp;&emsp;&emsp; $C = \\fbox{\\hspace{8em}?}$\n",
    ">\n",
    ">   __<p align='right'>(0.1 points)</p>__\n",
    ">\n",
    ">   <hr width=\"82%\" style=\"border-top:1px dashed; border-bottom:none\"/>"
   ]
  },
  {
   "cell_type": "markdown",
   "id": "aa8535af",
   "metadata": {},
   "source": [
    "<div style=\"page-break-after: always;\"/> \n",
    "\n",
    "---\n",
    "\n",
    "## [8]\n",
    "\n",
    ">\n",
    ">   In the circuit shown in the figure below, the $\\mathcal{EMF}$ of the battery is $6.6$ [V].\n",
    ">   Resistor $R_1$ has a resistance of $27 [\\Omega]$, resistor $R_2$ has a resistance of $47 [\\Omega]$, and resistor $R_3$ has a resistance of $64 [\\Omega]$. A steady current flows through the circuit. \n",
    ">\n",
    ">   {{ GRAPHIC }}\n",
    ">\n",
    ">   __<p align='right'>(0.1 points)</p>__\n",
    ">\n",
    ">   <hr width=\"82%\" style=\"border-top:1px dashed; border-bottom:none\"/>"
   ]
  },
  {
   "cell_type": "markdown",
   "id": "d63dd14f",
   "metadata": {},
   "source": [
    "<hr width=\"82%\" style=\"border-bottom:2px dashed; border-top:none\"/>\n",
    "\n",
    "### (A)\n",
    "\n",
    ">\n",
    ">   __What is the equivalent resistance of $R_1$ and $R_2$?__\n",
    ">   \n",
    ">   &emsp;&emsp;&emsp;&emsp; $\\fbox{\\hspace{8em}?}\\ \\left[\\Omega\\right]$\n",
    ">\n",
    ">   <hr width=\"64%\" style=\"border-top:2px dotted; border-bottom:none\"/>"
   ]
  },
  {
   "cell_type": "markdown",
   "id": "604c5c47",
   "metadata": {},
   "source": [
    "<hr width=\"82%\" style=\"border-bottom:2px dashed; border-top:none\"/>\n",
    "\n",
    "### (B)\n",
    "\n",
    ">\n",
    ">   __What is the equivalent resistance of all three resistors?__\n",
    ">   \n",
    ">   &emsp;&emsp;&emsp;&emsp; $\\fbox{\\hspace{8em}?}\\ \\left[\\Omega\\right]$\n",
    ">\n",
    ">   <hr width=\"64%\" style=\"border-top:2px dotted; border-bottom:none\"/>"
   ]
  },
  {
   "cell_type": "markdown",
   "id": "9ed14e05",
   "metadata": {},
   "source": [
    "<hr width=\"82%\" style=\"border-bottom:2px dashed; border-top:none\"/>\n",
    "\n",
    "### (C)\n",
    "\n",
    ">\n",
    ">   __What is the conventional current through $R_3$?__\n",
    ">   \n",
    ">   &emsp;&emsp;&emsp;&emsp; $\\fbox{\\hspace{8em}?}\\ \\left[\\textrm{A}\\right]$\n",
    ">\n",
    ">   <hr width=\"64%\" style=\"border-top:2px dotted; border-bottom:none\"/>"
   ]
  },
  {
   "cell_type": "markdown",
   "id": "e92e008a",
   "metadata": {},
   "source": [
    "<div style=\"page-break-after: always;\"/> \n",
    "\n",
    "---\n",
    "\n",
    "## [9]*\n",
    "\n",
    ">\n",
    ">   __Establishing a Potential Difference__\n",
    ">\n",
    ">   The deflection plates in an oscilloscope at $10$ [cm] by $2$ [cm], with a gap distance of $1$ [mm].\n",
    ">   A $100$-volt potential difference is suddenly applied to the initially uncharged plates, through a 925-ohm resistor in series with the deflection plates.\n",
    ">\n",
    ">   __How long does it take for the potential difference between the deflection plates to reach $80$ volts?__\n",
    ">\n",
    ">   &emsp;&emsp;&emsp;&emsp; $\\fbox{\\hspace{8em}?}$ [s]\n",
    ">\n",
    ">   __<p align='right'>(10 points)</p>__\n",
    ">\n",
    ">   <hr width=\"82%\" style=\"border-top:1px dashed; border-bottom:none\"/>"
   ]
  },
  {
   "cell_type": "code",
   "execution_count": null,
   "id": "28984971",
   "metadata": {
    "vscode": {
     "languageId": "python"
    }
   },
   "outputs": [],
   "source": []
  },
  {
   "cell_type": "markdown",
   "id": "6dde483e",
   "metadata": {},
   "source": [
    "---"
   ]
  }
 ],
 "metadata": {
  "kernelspec": {
   "display_name": "SageMath 10.6",
   "language": "sage",
   "name": "SageMath-10.6"
  },
  "language_info": {
   "codemirror_mode": {
    "name": "ipython",
    "version": 3
   },
   "file_extension": ".py",
   "mimetype": "text/x-python",
   "name": "sage",
   "nbconvert_exporter": "python",
   "pygments_lexer": "ipython3",
   "version": "3.12.5"
  }
 },
 "nbformat": 4,
 "nbformat_minor": 5
}
