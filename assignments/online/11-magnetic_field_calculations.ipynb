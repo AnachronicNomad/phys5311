{
 "cells": [
  {
   "cell_type": "markdown",
   "id": "7a28197d",
   "metadata": {},
   "source": [
    "# Magnetic Field Calculations\n",
    "\n",
    "M&I Ch 17 Magnetic Field\n",
    "\n",
    "- §17.3  &ndash; Biot-Savart Law: Single Moving Charge\n",
    "- §17.7  &ndash; The Magnetic Field of Current Distributions\n",
    "- §17.8  &ndash; A Circular Loop of Wire\n",
    "- §17.11 &ndash; The Magnetic Field of a Bar Magnet"
   ]
  },
  {
   "cell_type": "code",
   "execution_count": null,
   "id": "4d87d0c4",
   "metadata": {
    "vscode": {
     "languageId": "python"
    }
   },
   "outputs": [
    {
     "name": "stdout",
     "output_type": "stream",
     "text": [
      "Python: 3.12.5 (main, Feb 25 2025, 12:37:41) [Clang 16.0.0 (clang-1600.0.26.6)]\n"
     ]
    },
    {
     "data": {
      "text/html": [
       "<html>\\(\\displaystyle \\verb|SageMath|\\verb| |\\verb|version|\\verb| |\\verb|10.6,|\\verb| |\\verb|Release|\\verb| |\\verb|Date:|\\verb| |\\verb|2025-03-31|\\)</html>"
      ],
      "text/latex": [
       "$\\displaystyle \\verb|SageMath|\\verb| |\\verb|version|\\verb| |\\verb|10.6,|\\verb| |\\verb|Release|\\verb| |\\verb|Date:|\\verb| |\\verb|2025-03-31|$"
      ],
      "text/plain": [
       "'SageMath version 10.6, Release Date: 2025-03-31'"
      ]
     },
     "execution_count": 1,
     "metadata": {},
     "output_type": "execute_result"
    }
   ],
   "source": [
    "########\n",
    "## Env Setup / Preamble\n",
    "########\n",
    "%load_ext autoreload\n",
    "%autoreload complete \n",
    "\n",
    "%load_ext Cython\n",
    "\n",
    "%display latex\n",
    "\n",
    "################\n",
    "\n",
    "import cython\n",
    "from sage.all import *\n",
    "\n",
    "################\n",
    "\n",
    "import tempfile\n",
    "import mmap\n",
    "from multiprocessing import shared_memory\n",
    "\n",
    "################\n",
    "\n",
    "import numpy as np\n",
    "import scipy.constants\n",
    "\n",
    "np.random.seed( int(scipy.constants.golden_ratio * 1.e6) )\n",
    "\n",
    "from numpy import vectorize\n",
    "from numpy import r_, c_, s_\n",
    "\n",
    "################\n",
    "\n",
    "####    boiler-plate class for named constants\n",
    "from sage.symbolic.constants import Constant\n",
    "class ConstantFromExpression(Constant):\n",
    "    def __init__(self, name, v):\n",
    "        conversions = dict(maxima=repr(maxima.coerce(v)))\n",
    "        Constant.__init__(self, name, conversions=conversions)\n",
    "        self._v = v\n",
    "    def __float__(self): return float(self._v)\n",
    "    def __complex__(self): return complex(self._v)\n",
    "    def _mpfr_(self, R): return R(self._v)\n",
    "    def _real_double_(self, R): return R(self._v)\n",
    "\n",
    "def NamedExpression(name, expr):\n",
    "    return ConstantFromExpression(name,expr).expression()\n",
    "####\n",
    "\n",
    "import sage.symbolic.units as units     # <: TODO\n",
    "\n",
    "π   = NamedExpression('π', scipy.constants.pi)          # pi\n",
    "ε_0 = NamedExpression('ε_0', scipy.constants.epsilon_0) # electric permittivity of vacuum\n",
    "μ_0 = NamedExpression('μ_0', scipy.constants.mu_0)      # magnetic permeability of vacuum\n",
    "\n",
    "𝛋 = 1. / (4 * π * ε_0)      # Coulomb's constant in [ N·m²/C² ]\n",
    "q = NamedExpression('q', -scipy.constants.elementary_charge)\n",
    "\n",
    "ℎ_planck = NamedExpression('ℎ', scipy.constants.Planck)\n",
    "ℏ = NamedExpression('ℏ', scipy.constants.hbar)\n",
    "\n",
    "α = NamedExpression('α', scipy.constants.fine_structure)\n",
    "\n",
    "m_e = NamedExpression('m_e', scipy.constants.electron_mass)\n",
    "m_p = NamedExpression('m_p', scipy.constants.proton_mass)\n",
    "\n",
    "################\n",
    "\n",
    "Parallelism().set(nproc=8)\n",
    "print(f\"Python: {sys.version}\")\n",
    "version()\n"
   ]
  },
  {
   "cell_type": "code",
   "execution_count": 2,
   "id": "6dbb2a79",
   "metadata": {
    "vscode": {
     "languageId": "python"
    }
   },
   "outputs": [
    {
     "name": "stdout",
     "output_type": "stream",
     "text": [
      "The Zen of Python, by Tim Peters\n",
      "\n",
      "Beautiful is better than ugly.\n",
      "Explicit is better than implicit.\n",
      "Simple is better than complex.\n",
      "Complex is better than complicated.\n",
      "Flat is better than nested.\n",
      "Sparse is better than dense.\n",
      "Readability counts.\n",
      "Special cases aren't special enough to break the rules.\n",
      "Although practicality beats purity.\n",
      "Errors should never pass silently.\n",
      "Unless explicitly silenced.\n",
      "In the face of ambiguity, refuse the temptation to guess.\n",
      "There should be one-- and preferably only one --obvious way to do it.\n",
      "Although that way may not be obvious at first unless you're Dutch.\n",
      "Now is better than never.\n",
      "Although never is often better than *right* now.\n",
      "If the implementation is hard to explain, it's a bad idea.\n",
      "If the implementation is easy to explain, it may be a good idea.\n",
      "Namespaces are one honking great idea -- let's do more of those!\n"
     ]
    }
   ],
   "source": [
    "##  sanity check\n",
    "import this\n"
   ]
  },
  {
   "cell_type": "markdown",
   "id": "ab8b0a04",
   "metadata": {},
   "source": [
    "---\n",
    "\n",
    "<hr width=\"82%\" style=\"border-top:2px dashed; border-bottom:none\"/>\n",
    "\n",
    "<hr width=\"64%\" style=\"border-top:1px dotted; border-bottom:none\"/>"
   ]
  },
  {
   "cell_type": "markdown",
   "id": "df636b9c",
   "metadata": {},
   "source": [
    "<div style=\"page-break-after: always;\"/> \n",
    "<h2 id='1' style=\"display:none\">[1]</h2>\n",
    "\n",
    ">   ---\n",
    ">   ## [1]\n",
    ">\n",
    ">   {{GRAPHIC}}\n",
    ">\n",
    ">   Conventional current flows in a ring in the direction indicated in the \n",
    ">   diagram (if you stand at a location $A$ on the $+x$-axis, and look toward \n",
    ">   the ring, current flows clockwise).\n",
    ">\n",
    ">   __At each of the locations labeled by a letter, use the right hand rule to find the direction of the magnetic field at that location, due to the current in the ring.__\n",
    ">\n",
    ">   __<p align='right'>(0.1 points)</p>__\n",
    ">\n",
    ">   <hr width=\"82%\" style=\"border-top:1px dashed; border-bottom:none\"/>"
   ]
  },
  {
   "cell_type": "markdown",
   "id": "5fb05d77",
   "metadata": {},
   "source": [
    "<h3 id='1a' style=\"display:none\">(A)</h3>\n",
    "\n",
    ">   <hr width=\"82%\" style=\"border-bottom:2px dashed; border-top:none\"/>\n",
    ">\n",
    ">   ### &#x2e04;&hairsp;&#x00B9;&hairsp;&#x2E05;&hairsp;(A)\n",
    ">\n",
    ">   __Location A__ (select one:)\n",
    ">\n",
    ">   - [ ] &nbsp; None\n",
    ">   - [ ] &nbsp; $-x$\n",
    ">   - [ ] &nbsp; $-y$\n",
    ">   - [ ] &nbsp; $-z$\n",
    ">   - [ ] &nbsp; $+x$\n",
    ">   - [ ] &nbsp; $+y$\n",
    ">   - [ ] &nbsp; $+z$\n",
    ">\n",
    ">   <hr width=\"64%\" style=\"border-top:2px dotted; border-bottom:none\"/>"
   ]
  },
  {
   "cell_type": "markdown",
   "id": "7d83f147",
   "metadata": {},
   "source": []
  },
  {
   "cell_type": "markdown",
   "id": "08d1fc77",
   "metadata": {},
   "source": [
    "<h3 id='1b' style=\"display:none\">(B)</h3>\n",
    "\n",
    ">   <hr width=\"82%\" style=\"border-bottom:2px dashed; border-top:none\"/>\n",
    ">\n",
    ">   ### &#x2e04;&hairsp;&#x00B9;&hairsp;&#x2E05;&hairsp;(B)\n",
    ">\n",
    ">   __Location B__ (select one:)\n",
    ">\n",
    ">   - [ ] &nbsp; None\n",
    ">   - [ ] &nbsp; $-x$\n",
    ">   - [ ] &nbsp; $-y$\n",
    ">   - [ ] &nbsp; $-z$\n",
    ">   - [ ] &nbsp; $+x$\n",
    ">   - [ ] &nbsp; $+y$\n",
    ">   - [ ] &nbsp; $+z$ \n",
    ">\n",
    ">   <hr width=\"64%\" style=\"border-top:2px dotted; border-bottom:none\"/>"
   ]
  },
  {
   "cell_type": "markdown",
   "id": "1832635a",
   "metadata": {},
   "source": []
  },
  {
   "cell_type": "markdown",
   "id": "c6ab01d6",
   "metadata": {},
   "source": [
    "<h3 id='1c' style=\"display:none\">(C)</h3>\n",
    "\n",
    ">   <hr width=\"82%\" style=\"border-bottom:2px dashed; border-top:none\"/>\n",
    ">\n",
    ">   ### &#x2e04;&hairsp;&#x00B9;&hairsp;&#x2E05;&hairsp;(C)\n",
    ">\n",
    ">   __Location C__ (select one:)\n",
    ">\n",
    ">   - [ ] &nbsp; None\n",
    ">   - [ ] &nbsp; $-x$\n",
    ">   - [ ] &nbsp; $-y$\n",
    ">   - [ ] &nbsp; $-z$\n",
    ">   - [ ] &nbsp; $+x$\n",
    ">   - [ ] &nbsp; $+y$\n",
    ">   - [ ] &nbsp; $+z$\n",
    ">\n",
    ">   <hr width=\"64%\" style=\"border-top:2px dotted; border-bottom:none\"/>"
   ]
  },
  {
   "cell_type": "markdown",
   "id": "d8ca572f",
   "metadata": {},
   "source": []
  },
  {
   "cell_type": "markdown",
   "id": "5ba92711",
   "metadata": {},
   "source": [
    "<h3 id='1d' style=\"display:none\">(D)</h3>\n",
    "\n",
    ">   <hr width=\"82%\" style=\"border-bottom:2px dashed; border-top:none\"/>\n",
    ">\n",
    ">   ### &#x2e04;&hairsp;&#x00B9;&hairsp;&#x2E05;&hairsp;(D)\n",
    ">\n",
    ">   __Location D__ (select one:)\n",
    ">\n",
    ">   - [ ] &nbsp; None\n",
    ">   - [ ] &nbsp; $-x$\n",
    ">   - [ ] &nbsp; $-y$\n",
    ">   - [ ] &nbsp; $-z$\n",
    ">   - [ ] &nbsp; $+x$\n",
    ">   - [ ] &nbsp; $+y$\n",
    ">   - [ ] &nbsp; $+z$\n",
    ">   \n",
    ">   <hr width=\"64%\" style=\"border-top:2px dotted; border-bottom:none\"/>"
   ]
  },
  {
   "cell_type": "markdown",
   "id": "df838b67",
   "metadata": {},
   "source": []
  },
  {
   "cell_type": "markdown",
   "id": "4a9233b5",
   "metadata": {},
   "source": [
    "<h3 id='1e' style=\"display:none\">(E)</h3>\n",
    "\n",
    ">   <hr width=\"82%\" style=\"border-bottom:2px dashed; border-top:none\"/>\n",
    ">\n",
    ">   ### &#x2e04;&hairsp;&#x00B9;&hairsp;&#x2E05;&hairsp;(E)\n",
    ">\n",
    ">   __Location E__ (select one:)\n",
    ">\n",
    ">   - [ ] &nbsp; None\n",
    ">   - [ ] &nbsp; $-x$\n",
    ">   - [ ] &nbsp; $-y$\n",
    ">   - [ ] &nbsp; $-z$\n",
    ">   - [ ] &nbsp; $+x$\n",
    ">   - [ ] &nbsp; $+y$\n",
    ">   - [ ] &nbsp; $+z$\n",
    ">\n",
    ">   <hr width=\"64%\" style=\"border-top:2px dotted; border-bottom:none\"/>"
   ]
  },
  {
   "cell_type": "markdown",
   "id": "538544e6",
   "metadata": {},
   "source": []
  },
  {
   "cell_type": "markdown",
   "id": "6ab04aba",
   "metadata": {
    "vscode": {
     "languageId": "python"
    }
   },
   "source": [
    "<h3 id='1f' style=\"display:none\">(F)</h3>\n",
    "\n",
    ">   <hr width=\"82%\" style=\"border-bottom:2px dashed; border-top:none\"/>\n",
    ">\n",
    ">   ### &#x2e04;&hairsp;&#x00B9;&hairsp;&#x2E05;&hairsp;(F)\n",
    ">\n",
    ">   __Location F__ (select one:)\n",
    ">\n",
    ">   - [ ] &nbsp; None\n",
    ">   - [ ] &nbsp; $-x$\n",
    ">   - [ ] &nbsp; $-y$\n",
    ">   - [ ] &nbsp; $-z$\n",
    ">   - [ ] &nbsp; $+x$\n",
    ">   - [ ] &nbsp; $+y$\n",
    ">   - [ ] &nbsp; $+z$\n",
    ">\n",
    ">   <hr width=\"64%\" style=\"border-top:2px dotted; border-bottom:none\"/>"
   ]
  },
  {
   "cell_type": "markdown",
   "id": "4458992c",
   "metadata": {},
   "source": []
  },
  {
   "cell_type": "markdown",
   "id": "78fb8826",
   "metadata": {},
   "source": [
    "<div style=\"page-break-after: always;\"/> \n",
    "<h2 id='2' style=\"display:none\">[2]</h2>\n",
    "\n",
    ">   ---\n",
    ">   ## [2]\n",
    ">\n",
    ">   A vector $\\vec{C}$ of magnitude $4$ lies along the $x$-axis, and a vector \n",
    ">   $\\vec{D}$ of magnitude $8$ lies in the $xy$-plane, 20 degrees from the \n",
    ">   $x$-axis (see the figure below).\n",
    ">\n",
    ">   {{GRAPHIC}}\n",
    ">\n",
    ">   __<p align='right'>(0.1 points)</p>__\n",
    ">\n",
    ">   <hr width=\"82%\" style=\"border-top:1px dashed; border-bottom:none\"/>"
   ]
  },
  {
   "cell_type": "markdown",
   "id": "f77c8b1d",
   "metadata": {},
   "source": [
    "<h3 id='2a' style=\"display:none\">(A)</h3>\n",
    "\n",
    ">   <hr width=\"82%\" style=\"border-bottom:2px dashed; border-top:none\"/>\n",
    ">\n",
    ">   ### &#x2e04;&hairsp;&#x00B2;&hairsp;&#x2E05;&hairsp;(A)\n",
    ">\n",
    ">   __What is the magnitude of the cross product $\\vec{C} \\times \\vec{D}$?__\n",
    ">\n",
    ">   &emsp;&emsp;&emsp;&emsp; $\\lvert \\vec{C} \\times \\vec{D}\\rvert = \\fbox{\\hspace{8em}?}$\n",
    ">\n",
    ">   <hr width=\"64%\" style=\"border-top:2px dotted; border-bottom:none\"/>"
   ]
  },
  {
   "cell_type": "code",
   "execution_count": null,
   "id": "79a98e86",
   "metadata": {
    "vscode": {
     "languageId": "python"
    }
   },
   "outputs": [],
   "source": []
  },
  {
   "cell_type": "markdown",
   "id": "17377582",
   "metadata": {},
   "source": [
    "<h3 id='2b' style=\"display:none\">(B)</h3>\n",
    "\n",
    ">   <hr width=\"82%\" style=\"border-bottom:2px dashed; border-top:none\"/>\n",
    ">\n",
    ">   ### &#x2e04;&hairsp;&#x00B2;&hairsp;&#x2E05;&hairsp;(B)\n",
    ">\n",
    ">   __What is the direction of the cross product $\\vec{C} \\times \\vec{D}$?__ \n",
    ">\n",
    ">   (select one:)\n",
    ">\n",
    ">   - [ ] &nbsp; $+x$\n",
    ">   - [ ] &nbsp; $+y$\n",
    ">   - [ ] &nbsp; $+z$\n",
    ">   - [ ] &nbsp; $-x$\n",
    ">   - [ ] &nbsp; $-y$\n",
    ">   - [ ] &nbsp; $-z$\n",
    ">   - [ ] &nbsp; in the $xz$-plane, but not along the $x$ or $z$ axes.\n",
    ">   - [ ] &nbsp; in the $xy$-plane, but not along the $x$ or $y$ axes.\n",
    ">   - [ ] &nbsp; in the $yz$-plane, but not along the $x$ or $y$ axes.\n",
    ">\n",
    ">   <hr width=\"64%\" style=\"border-top:2px dotted; border-bottom:none\"/>"
   ]
  },
  {
   "cell_type": "markdown",
   "id": "8cca5ec4",
   "metadata": {},
   "source": []
  },
  {
   "cell_type": "markdown",
   "id": "bbf25dd9",
   "metadata": {},
   "source": [
    "<h3 id='1c' style=\"display:none\">(C)</h3>\n",
    "\n",
    ">   <hr width=\"82%\" style=\"border-bottom:2px dashed; border-top:none\"/>\n",
    ">\n",
    ">   ### &#x2e04;&hairsp;&#x00B2;&hairsp;&#x2E05;&hairsp;(C)\n",
    ">\n",
    ">   __What is the cross product $\\vec{D} \\times \\vec{C}$?__\n",
    ">\n",
    ">   &emsp;&emsp;&emsp;&emsp; $\\vec{D} \\times \\vec{C} = \\Big\\langle\\ \\fbox{\\hspace{4em}?}\\ ,\\ \\fbox{\\hspace{4em}?}\\ , \\fbox{\\hspace{4em}?}\\ \\Big\\rangle$\n",
    ">\n",
    ">   <hr width=\"64%\" style=\"border-top:2px dotted; border-bottom:none\"/>"
   ]
  },
  {
   "cell_type": "code",
   "execution_count": null,
   "id": "a74e53e0",
   "metadata": {
    "vscode": {
     "languageId": "python"
    }
   },
   "outputs": [],
   "source": []
  },
  {
   "cell_type": "markdown",
   "id": "aa21008c",
   "metadata": {},
   "source": [
    "<div style=\"page-break-after: always;\"/> \n",
    "<h2 id='3' style=\"display:none\">[3]</h2>\n",
    "\n",
    ">   ---\n",
    ">   ## [3]\n",
    ">\n",
    ">   If $\\vec{v} = \\left\\langle 444, -345, 405 \\right\\rangle$ [m/s] and $\\vec{r} = \\left\\langle 0.577, 0.577, -0.577 \\right\\rangle$ [m], __what is $\\vec{v} \\times \\vec{r}$?__\n",
    ">\n",
    ">   &emsp;&emsp;&emsp;&emsp; $\\vec{v} \\times \\vec{r} = \\Big\\langle\\ \\fbox{\\hspace{4em}?}\\ ,\\ \\fbox{\\hspace{4em}?}\\ , \\fbox{\\hspace{4em}?}\\ \\Big\\rangle \\left[\\textrm{m}^2/\\textrm{s}\\right]$\n",
    ">\n",
    ">   __<p align='right'>(0.1 points)</p>__\n",
    ">\n",
    ">   <hr width=\"82%\" style=\"border-top:1px dashed; border-bottom:none\"/>"
   ]
  },
  {
   "cell_type": "code",
   "execution_count": null,
   "id": "8de005b0",
   "metadata": {
    "vscode": {
     "languageId": "python"
    }
   },
   "outputs": [],
   "source": []
  },
  {
   "cell_type": "markdown",
   "id": "57e9072f",
   "metadata": {},
   "source": [
    "<div style=\"page-break-after: always;\"/> \n",
    "<h2 id='4' style=\"display:none\">[4]</h2>\n",
    "\n",
    ">   ---\n",
    ">   ## [4]\n",
    ">\n",
    ">   __What is $\\langle 4, 0, -4 \\rangle \\times \\langle -6, 3, 5 \\rangle$?__\n",
    ">\n",
    ">   &emsp;&emsp;&emsp;&emsp; $\\Big\\langle\\ \\fbox{\\hspace{4em}?}\\ ,\\ \\fbox{\\hspace{4em}?}\\ , \\fbox{\\hspace{4em}?}\\ \\Big\\rangle$\n",
    ">\n",
    ">   __<p align='right'>(0.1 points)</p>__\n",
    ">\n",
    ">   <hr width=\"82%\" style=\"border-top:1px dashed; border-bottom:none\"/>"
   ]
  },
  {
   "cell_type": "code",
   "execution_count": null,
   "id": "5bd5f4a3",
   "metadata": {
    "vscode": {
     "languageId": "python"
    }
   },
   "outputs": [],
   "source": []
  },
  {
   "cell_type": "markdown",
   "id": "801e240f",
   "metadata": {},
   "source": [
    "<div style=\"page-break-after: always;\"/> \n",
    "<h2 id='5' style=\"display:none\">[5]*</h2>\n",
    "\n",
    ">   ---\n",
    ">   ## [5]*\n",
    ">\n",
    ">   {{GRAPHIC}}\n",
    ">\n",
    ">   A wire, through which a current is flowing, lies on the $x$-axis as shown in\n",
    ">   the figure above. Connecting wires (which are not shown in the diagram) \n",
    ">   connect the ends of the wire to batteries (which are also not shown). \n",
    ">   Electron current flows through the wire in the $-x$ direction, as indicated \n",
    ">   in the diagram. \n",
    ">\n",
    ">   To calculate the magnetic field at location $A$ due to the current in the \n",
    ">   wire, we divide the wire into pieces, approximate each piece as a point \n",
    ">   charge moving in the direction of conventional current, and calculate the \n",
    ">   magnetic field at the observation location due only to this piece; then sum \n",
    ">   the contributions of all pieces to get the net magnetic field. \n",
    ">\n",
    ">   The wire is $1.6$ [m] long, and is divided into 8 pieces.  The observation \n",
    ">   location $A$ is located at $\\langle 0.1, 0.22, 0\\rangle$ [m].\n",
    ">   The conventional current running through the wire is $7.6$ amperes. \n",
    ">\n",
    ">   __In this exercise, you will calculate the magnetic field at the observation location, due only to segment 2 of the wire.__\n",
    ">\n",
    ">   __<p align='right'>(10 points)</p>__\n",
    ">\n",
    ">   <hr width=\"82%\" style=\"border-top:1px dashed; border-bottom:none\"/>"
   ]
  },
  {
   "cell_type": "markdown",
   "id": "c9e0b5ac",
   "metadata": {},
   "source": [
    "<h3 id='5a' style=\"display:none\">(A)</h3>\n",
    "\n",
    ">   <hr width=\"82%\" style=\"border-bottom:2px dashed; border-top:none\"/>\n",
    ">\n",
    ">   ### &#x2e04;&hairsp;&#x2075;&hairsp;&#x2E05;&hairsp;(A)\n",
    ">\n",
    ">   __What is the direction of conventional current in this wire?__ \n",
    ">\n",
    ">   (select one):\n",
    ">\n",
    ">   - [ ] &nbsp; $-x$\n",
    ">   - [ ] &nbsp; $-y$\n",
    ">   - [ ] &nbsp; $-z$\n",
    ">   - [ ] &nbsp; $+x$\n",
    ">   - [ ] &nbsp; $+y$\n",
    ">   - [ ] &nbsp; $+z$\n",
    ">\n",
    ">   <hr width=\"64%\" style=\"border-top:2px dotted; border-bottom:none\"/>"
   ]
  },
  {
   "cell_type": "markdown",
   "id": "030a3511",
   "metadata": {},
   "source": []
  },
  {
   "cell_type": "markdown",
   "id": "8707496c",
   "metadata": {},
   "source": [
    "<h3 id='5b' style=\"display:none\">(B)</h3>\n",
    "\n",
    ">   <hr width=\"82%\" style=\"border-bottom:2px dashed; border-top:none\"/>\n",
    ">   \n",
    ">   ### &#x2e04;&hairsp;&#x2075;&hairsp;&#x2E05;&hairsp;(B)\n",
    ">\n",
    ">   __How long is segment 2?__\n",
    ">\n",
    ">   &emsp;&emsp;&emsp;&emsp; $\\fbox{\\hspace{8em}?}\\ \\left[\\textrm{m}\\right]$\n",
    ">\n",
    ">   <hr width=\"64%\" style=\"border-top:2px dotted; border-bottom:none\"/>"
   ]
  },
  {
   "cell_type": "code",
   "execution_count": null,
   "id": "465d5a64",
   "metadata": {
    "vscode": {
     "languageId": "python"
    }
   },
   "outputs": [],
   "source": []
  },
  {
   "cell_type": "markdown",
   "id": "65a17769",
   "metadata": {},
   "source": [
    "<h3 id='5c' style=\"display:none\">(C)</h3>\n",
    "\n",
    ">   <hr width=\"82%\" style=\"border-bottom:2px dashed; border-top:none\"/>\n",
    ">   \n",
    ">   ### &#x2e04;&hairsp;&#x2075;&hairsp;&#x2E05;&hairsp;(C)\n",
    ">\n",
    ">   __What is the magnitude of the vector $\\Delta \\vec{l}$ for segment 2?__\n",
    ">\n",
    ">   &emsp;&emsp;&emsp;&emsp; $\\lvert \\Delta \\vec{l}\\rvert = \\fbox{\\hspace{8em}?}\\ \\left[\\textrm{m}\\right]$\n",
    ">\n",
    ">   <hr width=\"64%\" style=\"border-top:2px dotted; border-bottom:none\"/>"
   ]
  },
  {
   "cell_type": "code",
   "execution_count": null,
   "id": "7d3693a8",
   "metadata": {
    "vscode": {
     "languageId": "python"
    }
   },
   "outputs": [],
   "source": []
  },
  {
   "cell_type": "markdown",
   "id": "71ffe433",
   "metadata": {},
   "source": [
    "<h3 id='5d' style=\"display:none\">(D)</h3>\n",
    "\n",
    ">   <hr width=\"82%\" style=\"border-bottom:2px dashed; border-top:none\"/>\n",
    ">\n",
    ">   ### &#x2e04;&hairsp;&#x2075;&hairsp;&#x2E05;&hairsp;(D)\n",
    ">\n",
    ">   __What is the vector $\\Delta \\vec{l}$ for segment 2?__\n",
    ">\n",
    ">   &emsp;&emsp;&emsp;&emsp; $\\Delta \\vec{l} = \\Big\\langle\\ \\fbox{\\hspace{4em}?}\\ ,\\ \\fbox{\\hspace{4em}?}\\ , \\fbox{\\hspace{4em}?}\\ \\Big\\rangle\\ \\left[\\textrm{m}\\right]$\n",
    ">\n",
    ">   <hr width=\"64%\" style=\"border-top:2px dotted; border-bottom:none\"/>"
   ]
  },
  {
   "cell_type": "code",
   "execution_count": null,
   "id": "527bf344",
   "metadata": {
    "vscode": {
     "languageId": "python"
    }
   },
   "outputs": [],
   "source": []
  },
  {
   "cell_type": "markdown",
   "id": "2ded995e",
   "metadata": {},
   "source": [
    "<h3 id='5e' style=\"display:none\">(E)</h3>\n",
    "\n",
    ">   <hr width=\"82%\" style=\"border-bottom:2px dashed; border-top:none\"/>\n",
    ">   \n",
    ">   ### &#x2e04;&hairsp;&#x2075;&hairsp;&#x2E05;&hairsp;(E)\n",
    ">\n",
    ">   __What is the location of the center of segment 2?__\n",
    ">\n",
    ">   &emsp;&emsp;&emsp;&emsp; $\\textrm{source location} = \\Big\\langle\\ \\fbox{\\hspace{4em}?}\\ ,\\ \\fbox{\\hspace{4em}?}\\ , \\fbox{\\hspace{4em}?}\\ \\Big\\rangle\\ \\left[\\textrm{m}\\right]$\n",
    ">\n",
    ">   <hr width=\"64%\" style=\"border-top:2px dotted; border-bottom:none\"/>"
   ]
  },
  {
   "cell_type": "code",
   "execution_count": null,
   "id": "05420419",
   "metadata": {
    "vscode": {
     "languageId": "python"
    }
   },
   "outputs": [],
   "source": []
  },
  {
   "cell_type": "markdown",
   "id": "82b494d9",
   "metadata": {},
   "source": [
    "<h3 id='5f' style=\"display:none\">(F)</h3>\n",
    "\n",
    ">   <hr width=\"82%\" style=\"border-bottom:2px dashed; border-top:none\"/>\n",
    ">   \n",
    ">   ### &#x2e04;&hairsp;&#x2075;&hairsp;&#x2E05;&hairsp;(F)\n",
    ">\n",
    ">   __What is the vector $\\vec{r}$, from source to observation location, for segment 2?__\n",
    ">\n",
    ">   &emsp;&emsp;&emsp;&emsp; $\\vec{r} = \\Big\\langle\\ \\fbox{\\hspace{4em}?}\\ ,\\ \\fbox{\\hspace{4em}?}\\ , \\fbox{\\hspace{4em}?}\\ \\Big\\rangle\\ \\left[\\textrm{m}\\right]$\n",
    ">\n",
    ">   <hr width=\"64%\" style=\"border-top:2px dotted; border-bottom:none\"/>"
   ]
  },
  {
   "cell_type": "code",
   "execution_count": null,
   "id": "7d572e39",
   "metadata": {
    "vscode": {
     "languageId": "python"
    }
   },
   "outputs": [],
   "source": []
  },
  {
   "cell_type": "markdown",
   "id": "6a934829",
   "metadata": {},
   "source": [
    "<h3 id='5g' style=\"display:none\">(G)</h3>\n",
    "\n",
    ">   <hr width=\"82%\" style=\"border-bottom:2px dashed; border-top:none\"/>\n",
    ">\n",
    ">   ### &#x2e04;&hairsp;&#x2075;&hairsp;&#x2E05;&hairsp;(G)\n",
    ">\n",
    ">   __What is the unit vector $\\hat{r}$?__\n",
    ">\n",
    ">   &emsp;&emsp;&emsp;&emsp; $\\hat{r} = \\Big\\langle\\ \\fbox{\\hspace{4em}?}\\ ,\\ \\fbox{\\hspace{4em}?}\\ , \\fbox{\\hspace{4em}?}\\ \\Big\\rangle$\n",
    ">\n",
    ">   <hr width=\"64%\" style=\"border-top:2px dotted; border-bottom:none\"/>"
   ]
  },
  {
   "cell_type": "code",
   "execution_count": null,
   "id": "9e73e825",
   "metadata": {
    "vscode": {
     "languageId": "python"
    }
   },
   "outputs": [],
   "source": []
  },
  {
   "cell_type": "markdown",
   "id": "20411144",
   "metadata": {},
   "source": [
    "<h3 id='5h' style=\"display:none\">(H)</h3>\n",
    "\n",
    ">   <hr width=\"82%\" style=\"border-bottom:2px dashed; border-top:none\"/>\n",
    ">   \n",
    ">   ### &#x2e04;&hairsp;&#x2075;&hairsp;&#x2E05;&hairsp;(H)\n",
    ">\n",
    ">   __What is $\\Delta \\vec{l} \\times \\hat{r}$?__\n",
    ">\n",
    ">   &emsp;&emsp;&emsp;&emsp; $\\delta \\vec{l} \\times \\hat{r} = \\Big\\langle\\ \\fbox{\\hspace{4em}?}\\ ,\\ \\fbox{\\hspace{4em}?}\\ , \\fbox{\\hspace{4em}?}\\ \\Big\\rangle \\left[\\textrm{m}\\right]$\n",
    ">\n",
    ">   <hr width=\"64%\" style=\"border-top:2px dotted; border-bottom:none\"/>"
   ]
  },
  {
   "cell_type": "code",
   "execution_count": null,
   "id": "a6654aba",
   "metadata": {
    "vscode": {
     "languageId": "python"
    }
   },
   "outputs": [],
   "source": []
  },
  {
   "cell_type": "markdown",
   "id": "66918ae5",
   "metadata": {},
   "source": [
    "<h3 id='5i' style=\"display:none\">(I)</h3>\n",
    "\n",
    ">   <hr width=\"82%\" style=\"border-bottom:2px dashed; border-top:none\"/>\n",
    ">   \n",
    ">   ### &#x2e04;&hairsp;&#x2075;&hairsp;&#x2E05;&hairsp;(I)\n",
    ">\n",
    ">   __Calculate the magnetic field $\\Delta \\mathbf{\\vec{B}}$ at the observation location due only to the current in segment 2 of the wire.__\n",
    ">\n",
    ">   &emsp;&emsp;&emsp;&emsp; $\\Delta \\mathbf{\\vec{B}} = \\Big\\langle\\ \\fbox{\\hspace{4em}?}\\ ,\\ \\fbox{\\hspace{4em}?}\\ , \\fbox{\\hspace{4em}?}\\ \\Big\\rangle \\left[\\textrm{T}\\right]$\n",
    ">\n",
    ">   <hr width=\"64%\" style=\"border-top:2px dotted; border-bottom:none\"/>"
   ]
  },
  {
   "cell_type": "code",
   "execution_count": null,
   "id": "01591e6e",
   "metadata": {
    "vscode": {
     "languageId": "python"
    }
   },
   "outputs": [],
   "source": []
  },
  {
   "cell_type": "markdown",
   "id": "0b36bcfc",
   "metadata": {},
   "source": [
    "<div style=\"page-break-after: always;\"/> \n",
    "<h2 id='6' style=\"display:none\">[6]*</h2>\n",
    "\n",
    ">   ---\n",
    ">   ## [6]*\n",
    ">\n",
    ">   A compass is placed inside a triangular coil of wire with 3 turns, as shown \n",
    ">   in the diagram.\n",
    ">\n",
    ">   {{GRAPHIC}}\n",
    ">\n",
    ">   Each side of the triangle has a length $L$.\n",
    ">\n",
    ">   The compass is a perpendicular distance $d$ from the center of each side of \n",
    ">   the triangle.\n",
    ">   The coil is in the $xy$-plane, magnetic North (due to the Earth) is in the \n",
    ">   negative $x$ direction.\n",
    ">   Conventional current runs in the coil as shown (clockwise, as viewed from a \n",
    ">   location on the $+z$-axis).\n",
    ">\n",
    ">   __<p align='right'>(10 points)</p>__\n",
    ">\n",
    ">   <hr width=\"82%\" style=\"border-top:1px dashed; border-bottom:none\"/>"
   ]
  },
  {
   "cell_type": "markdown",
   "id": "f64f6649",
   "metadata": {},
   "source": [
    "<h3 id='6a' style=\"display:none\">(A)</h3>\n",
    "\n",
    ">   <hr width=\"82%\" style=\"border-bottom:2px dashed; border-top:none\"/>\n",
    ">   \n",
    ">   ### &#x2e04;&hairsp;&#x2076;&hairsp;&#x2E05;&hairsp;(A)\n",
    ">\n",
    ">   __While current is running through the coil, what direction does the compass needle point?__ (select one:)\n",
    ">\n",
    ">   - [ ] &nbsp; North\n",
    ">   - [ ] &nbsp; North-East\n",
    ">   - [ ] &nbsp; East\n",
    ">   - [ ] &nbsp; SouthEast\n",
    ">   - [ ] &nbsp; South\n",
    ">   - [ ] &nbsp; SouthWest\n",
    ">   - [ ] &nbsp; West\n",
    ">   - [ ] &nbsp; NorthWest\n",
    ">\n",
    ">   <hr width=\"64%\" style=\"border-top:2px dotted; border-bottom:none\"/>"
   ]
  },
  {
   "cell_type": "markdown",
   "id": "b138edbe",
   "metadata": {},
   "source": []
  },
  {
   "cell_type": "markdown",
   "id": "0886889d",
   "metadata": {},
   "source": [
    "<h3 id='6b' style=\"display:none\">(B)</h3>\n",
    "\n",
    ">   <hr width=\"82%\" style=\"border-bottom:2px dashed; border-top:none\"/>\n",
    ">   \n",
    ">   ### &#x2e04;&hairsp;&#x2076;&hairsp;&#x2E05;&hairsp;(B)\n",
    ">\n",
    ">   __Which of the following statements about how to model the coil are reasonable?__ \n",
    ">\n",
    ">   (check all that apply:)\n",
    ">\n",
    ">   - [ ] &nbsp; A circular loop is a poor model for one turn of the coil, \n",
    ">                because the distance from the wire to the compass varies so much.\n",
    ">\n",
    ">   - [ ] &nbsp; One turn of the coil could be modeled as 3 short straight wires.\n",
    ">\n",
    ">   - [ ] &nbsp; Since the coil is made from a single wire, we could model one \n",
    ">                turn of the coil as one long wire. \n",
    ">\n",
    ">   <hr width=\"64%\" style=\"border-top:2px dotted; border-bottom:none\"/>"
   ]
  },
  {
   "cell_type": "markdown",
   "id": "877fe9cc",
   "metadata": {},
   "source": []
  },
  {
   "cell_type": "markdown",
   "id": "655eae01",
   "metadata": {},
   "source": [
    "<h3 id='6c' style=\"display:none\">(C)</h3>\n",
    "\n",
    ">   <hr width=\"82%\" style=\"border-bottom:2px dashed; border-top:none\"/>\n",
    ">   \n",
    ">   ### &#x2e04;&hairsp;&#x2076;&hairsp;&#x2E05;&hairsp;(C)\n",
    ">\n",
    ">   A current of $0.65$ amperes runs through the wires. If $L = 8.2$ [cm], and \n",
    ">   $d = 2.36$ [cm], __what is the magnitude of the magnetic field at the location of the compass, due to the coil?__\n",
    ">   (Remember that the coil has three turns.)\n",
    ">\n",
    ">   &emsp;&emsp;&emsp;&emsp; $\\lvert \\mathbf{\\vec{B}} \\rvert = \\fbox{\\hspace{8em}?}\\ \\left[\\textrm{T}\\right]$\n",
    ">\n",
    ">   <hr width=\"64%\" style=\"border-top:2px dotted; border-bottom:none\"/>"
   ]
  },
  {
   "cell_type": "code",
   "execution_count": null,
   "id": "a3731d41",
   "metadata": {
    "vscode": {
     "languageId": "python"
    }
   },
   "outputs": [],
   "source": []
  },
  {
   "cell_type": "markdown",
   "id": "b500531c",
   "metadata": {},
   "source": [
    "<h3 id='6d' style=\"display:none\">(D)</h3>\n",
    "\n",
    ">   <hr width=\"82%\" style=\"border-bottom:2px dashed; border-top:none\"/>\n",
    ">   \n",
    ">   ### &#x2e04;&hairsp;&#x2076;&hairsp;&#x2E05;&hairsp;(D)\n",
    ">\n",
    ">   __What is the approximate magnitude of the compass deflection, in degrees?__\n",
    ">\n",
    ">   Assume the magnitude of the horizontal component of the Earth's magnetic \n",
    ">   field is about $2 \\times 10^{-5}$ [T].\n",
    ">\n",
    ">   &emsp;&emsp;&emsp;&emsp; $\\textrm{deflection} = \\fbox{\\hspace{8em}?}\\ \\left[\\textrm{degrees}\\right]$\n",
    ">\n",
    ">   <hr width=\"64%\" style=\"border-top:2px dotted; border-bottom:none\"/>"
   ]
  },
  {
   "cell_type": "code",
   "execution_count": null,
   "id": "00722fd7",
   "metadata": {
    "vscode": {
     "languageId": "python"
    }
   },
   "outputs": [],
   "source": []
  },
  {
   "cell_type": "markdown",
   "id": "57544d91",
   "metadata": {},
   "source": [
    "<div style=\"page-break-after: always;\"/> \n",
    "<h2 id='7' style=\"display:none\">[7]</h2>\n",
    "\n",
    ">   ---\n",
    ">   ## [7]\n",
    ">\n",
    ">   A thin wire is part of a complete electrical circuit which carries a current \n",
    ">   $I$. For this problem, consider only the piece of wire of length $d$ as shown\n",
    ">   in the figure below. Answer the following questions based on this figure. \n",
    ">\n",
    ">   {{GRAPHIC}}\n",
    ">\n",
    ">   __<p align='right'>(0.1 points)</p>__\n",
    ">\n",
    ">   <hr width=\"82%\" style=\"border-top:1px dashed; border-bottom:none\"/>"
   ]
  },
  {
   "cell_type": "markdown",
   "id": "b77a3403",
   "metadata": {},
   "source": [
    "<h3 id='7a' style=\"display:none\">(A)</h3>\n",
    "\n",
    ">   <hr width=\"82%\" style=\"border-bottom:2px dashed; border-top:none\"/>\n",
    ">   \n",
    ">   ### &#x2e04;&hairsp;&#x2077;&hairsp;&#x2E05;&hairsp;(A)\n",
    ">\n",
    ">   __What are the magnitude and direction of the magnetic field due to the wire at $Q$ (location $\\big\\langle -w, 0, 0 \\big\\rangle$)?__\n",
    ">\n",
    ">   &emsp;&emsp;&emsp;&emsp; $\\textrm{deflection} = \\fbox{\\hspace{8em}?}\\ \\left[\\textrm{T}\\right]$\n",
    ">\n",
    ">   (select one:)\n",
    ">\n",
    ">   - [ ] &nbsp; no field present\n",
    ">\n",
    ">   <hr width=\"64%\" style=\"border-top:2px dotted; border-bottom:none\"/>"
   ]
  },
  {
   "cell_type": "markdown",
   "id": "10628b9a",
   "metadata": {},
   "source": []
  },
  {
   "cell_type": "markdown",
   "id": "bb02b484",
   "metadata": {},
   "source": [
    "<h3 id='7b' style=\"display:none\">(B)</h3>\n",
    "\n",
    ">   <hr width=\"82%\" style=\"border-bottom:2px dashed; border-top:none\"/>\n",
    ">   \n",
    ">   ### &#x2e04;&hairsp;&#x2077;&hairsp;&#x2E05;&hairsp;(B)\n",
    ">\n",
    ">   __What is the direction of the magnetic field at location $P$?__ (select one:)\n",
    ">\n",
    ">   - [ ] &nbsp; $+z$ direction\n",
    ">\n",
    ">   <hr width=\"64%\" style=\"border-top:2px dotted; border-bottom:none\"/>"
   ]
  },
  {
   "cell_type": "markdown",
   "id": "4d4e0b69",
   "metadata": {},
   "source": []
  },
  {
   "cell_type": "markdown",
   "id": "4c562943",
   "metadata": {},
   "source": [
    "<div style=\"page-break-after: always;\"/> \n",
    "<h2 id='8' style=\"display:none\">[8]</h2>\n",
    "\n",
    ">   ---\n",
    ">   ## [8]*\n",
    ">\n",
    ">   **Magnetic fields in the home**\n",
    ">\n",
    ">   At one time, concern was raised about the possible health effects of the \n",
    ">   small alternating (60 [Hz]) magnetic fields created by electric currents, in\n",
    ">   houses and near power lines.\n",
    ">   \n",
    ">   In a house, most wires carry a maximum of $15$ amperes (there are $15$ [A] \n",
    ">   fuses that melt and break the circuit, if this current is exceeded).\n",
    ">\n",
    ">   The two wires in a home power cord are about $s = 3$ millimeters apart, as \n",
    ">   shown in the figure, and at any instant they carry currents in opposite \n",
    ">   directions (both of which change direction 60 times per second).\n",
    ">\n",
    ">   {{GRAPHIC}}\n",
    ">\n",
    ">   __<p align='right'>(10 points)</p>__\n",
    ">\n",
    ">   <hr width=\"82%\" style=\"border-top:1px dashed; border-bottom:none\"/>"
   ]
  },
  {
   "cell_type": "markdown",
   "id": "bd68f3ef",
   "metadata": {},
   "source": [
    "<h3 id='8a' style=\"display:none\">(A)</h3>\n",
    "\n",
    ">   <hr width=\"82%\" style=\"border-bottom:2px dashed; border-top:none\"/>\n",
    ">   \n",
    ">   ### &#x2e04;&hairsp;&#x2078;&hairsp;&#x2E05;&hairsp;(A)\n",
    ">\n",
    ">   __Calculate the maximum magnitude of the alternating magnetic field__, \n",
    ">   $d = 45$ [cm] away from the center of a long straight power cord that \n",
    ">   carries a current of $15$ amperes. \n",
    ">   Both wires are at the same height as the observation location. \n",
    ">\n",
    ">   &emsp;&emsp;&emsp;&emsp; $\\fbox{\\hspace{8em}?}\\ \\left[\\textrm{T}\\right]$\n",
    ">\n",
    ">   (The magnitude of the field that you calculate is very small compared to the\n",
    ">   Earth's magnetic field, but there were questions as to whether a very small \n",
    ">   alternating magnetic field might have health effects.\n",
    ">   After many detailed studies, the consensus of most scientists now seems to \n",
    ">   be that these small alternating magnetic fields are not a hazard after all.)\n",
    ">\n",
    ">   <hr width=\"64%\" style=\"border-top:2px dotted; border-bottom:none\"/>"
   ]
  },
  {
   "cell_type": "code",
   "execution_count": null,
   "id": "3598407c",
   "metadata": {
    "vscode": {
     "languageId": "python"
    }
   },
   "outputs": [],
   "source": []
  },
  {
   "cell_type": "markdown",
   "id": "a17b3301",
   "metadata": {},
   "source": [
    "<h3 id='8b' style=\"display:none\">(B)</h3>\n",
    "\n",
    ">   <hr width=\"82%\" style=\"border-bottom:2px dashed; border-top:none\"/>\n",
    ">   \n",
    ">   ### &#x2e04;&hairsp;&#x2078;&hairsp;&#x2E05;&hairsp;(B)\n",
    ">\n",
    ">   Twisting the pair of wires into a braid as shown would minimize the magnetic\n",
    ">   field at the location discussed in Part (A). \n",
    ">\n",
    ">   __Do you see why?__\n",
    ">\n",
    ">   {{GRAPHIC}}\n",
    ">\n",
    ">   <hr width=\"64%\" style=\"border-top:2px dotted; border-bottom:none\"/>"
   ]
  },
  {
   "cell_type": "markdown",
   "id": "f3d99e04",
   "metadata": {},
   "source": [
    "<div style=\"page-break-after: always;\"/> \n",
    "<h2 id='9' style=\"display:none\">[9]</h2>\n",
    "\n",
    ">   ---\n",
    ">   ## [9]*\n",
    ">\n",
    ">   A bar magnet is aligned East-West, with its center $38$ [cm] from the center\n",
    ">   of a compass (see figure below). \n",
    ">   The compass is observed to deflect $57^\\circ$ away from North as shown, and \n",
    ">   the horizontal component of the Earth's magnetic field is known to be $2 \\times 10^{-5}$ [T]. \n",
    ">\n",
    ">   {{GRAPHIC}}\n",
    ">\n",
    ">   __<p align='right'>(10 points)</p>__\n",
    ">\n",
    ">   <hr width=\"82%\" style=\"border-top:1px dashed; border-bottom:none\"/>"
   ]
  },
  {
   "cell_type": "markdown",
   "id": "08fa5b79",
   "metadata": {},
   "source": [
    "<h3 id='9a' style=\"display:none\">(A)</h3>\n",
    "\n",
    ">   <hr width=\"82%\" style=\"border-bottom:2px dashed; border-top:none\"/>\n",
    ">   \n",
    ">   ### &#x2e04;&hairsp;&#x2079;&hairsp;&#x2E05;&hairsp;(A)\n",
    ">\n",
    ">   __Label the N and S poles of the bar magnet and explain your choice.__ \n",
    ">\n",
    ">   (select one:)\n",
    ">\n",
    ">   - [ ] &nbsp; The N pole is on the **right** and the S pole is on the **left**, \n",
    ">                because the N pole of the compass needle points toward magnetic \n",
    ">                **north**.\n",
    ">\n",
    ">   - [ ] &nbsp; The N pole is on the **left** and the S pole is on the **right**,\n",
    ">                because the N pole of the compass needle points toward magnetic \n",
    ">                **south**.\n",
    ">\n",
    ">   - [ ] &nbsp; The N pole is on the **right** and the S pole is on the **left**, \n",
    ">                because the N pole of the compass needle points toward magnetic \n",
    ">                **south**.\n",
    ">\n",
    ">   - [ ] &nbsp; The N pole is on the **left** and the S pole is on the **right**, \n",
    ">                because the N pole of the compass needle points toward magnetic\n",
    ">                **north**.\n",
    ">\n",
    ">   <hr width=\"64%\" style=\"border-top:2px dotted; border-bottom:none\"/>"
   ]
  },
  {
   "cell_type": "markdown",
   "id": "121a1ff8",
   "metadata": {},
   "source": []
  },
  {
   "cell_type": "markdown",
   "id": "e5367424",
   "metadata": {},
   "source": [
    "<h3 id='9b' style=\"display:none\">(B)</h3>\n",
    "\n",
    ">   <hr width=\"82%\" style=\"border-bottom:2px dashed; border-top:none\"/>\n",
    ">   \n",
    ">   ### &#x2e04;&hairsp;&#x2079;&hairsp;&#x2E05;&hairsp;(B)\n",
    ">\n",
    ">   __Determine the magnetic dipole moment of this bar magnet, including correct units.__\n",
    ">\n",
    ">   &emsp;&emsp;&emsp;&emsp; $\\fbox{\\hspace{8em}?}$\n",
    ">\n",
    ">   (select one:)\n",
    ">\n",
    ">   - [ ] &nbsp; $\\left[\\textrm{A}\\cdot\\textrm{m}^2\\right]$\n",
    ">\n",
    ">   <hr width=\"64%\" style=\"border-top:2px dotted; border-bottom:none\"/>"
   ]
  },
  {
   "cell_type": "markdown",
   "id": "4c2345e9",
   "metadata": {},
   "source": []
  },
  {
   "cell_type": "markdown",
   "id": "5a173245",
   "metadata": {},
   "source": [
    "<div style=\"page-break-after: always;\"/> \n",
    "<h2 id='10' style=\"display:none\">[10]</h2>\n",
    "\n",
    ">   ---\n",
    ">   ## [10]\n",
    ">\n",
    ">   What is the direction of the magnetic field, at the indicated locations \n",
    ">   (inside and outside), this current-carrying rectangular coil of wire shown \n",
    ">   in the figure? (Direction of conventional current is shown.)\n",
    ">\n",
    ">   {{GRAPHIC}}\n",
    ">\n",
    ">   __<p align='right'>(0.1 points)</p>__\n",
    ">\n",
    ">   <hr width=\"82%\" style=\"border-top:1px dashed; border-bottom:none\"/>"
   ]
  },
  {
   "cell_type": "markdown",
   "id": "3afd265b",
   "metadata": {},
   "source": [
    "<h3 id='10a' style=\"display:none\">(A)</h3>\n",
    "\n",
    ">   <hr width=\"82%\" style=\"border-bottom:2px dashed; border-top:none\"/>\n",
    ">   \n",
    ">   ### &#x2e04;&hairsp;&#x00B9;&#x2070;&hairsp;&#x2E05;&hairsp;(A)\n",
    ">\n",
    ">   __At the center of the loop__ (select one:)\n",
    ">\n",
    ">   - [ ] &nbsp; It depends on the distance to the wires, could be zero or could be non-zero. \n",
    ">   - [ ] &nbsp; The magnetic field points into the page. \n",
    ">   - [ ] &nbsp; The magnetic field points out of the page.\n",
    ">   - [ ] &nbsp; The magnetic field is zero.\n",
    ">\n",
    ">   <hr width=\"64%\" style=\"border-top:2px dotted; border-bottom:none\"/>"
   ]
  },
  {
   "cell_type": "markdown",
   "id": "ddfb93c1",
   "metadata": {},
   "source": []
  },
  {
   "cell_type": "markdown",
   "id": "3fb91a4f",
   "metadata": {},
   "source": [
    "<h3 id='10b' style=\"display:none\">(B)</h3>\n",
    "\n",
    ">   <hr width=\"82%\" style=\"border-bottom:2px dashed; border-top:none\"/>\n",
    ">   \n",
    ">   ### &#x2e04;&hairsp;&#x00B9;&#x2070;&hairsp;&#x2E05;&hairsp;(B)\n",
    ">\n",
    ">   __Just outside the loop__ (select one:)\n",
    ">\n",
    ">   - [ ] &nbsp; It depends on the distance to the wires, could be zero or could be non-zero. \n",
    ">   - [ ] &nbsp; The magnetic field points into the page. \n",
    ">   - [ ] &nbsp; The magnetic field points out of the page.\n",
    ">   - [ ] &nbsp; The magnetic field is zero.\n",
    ">\n",
    ">   <hr width=\"64%\" style=\"border-top:2px dotted; border-bottom:none\"/>"
   ]
  },
  {
   "cell_type": "markdown",
   "id": "1c74cfcc",
   "metadata": {},
   "source": []
  },
  {
   "cell_type": "markdown",
   "id": "a4ccc227",
   "metadata": {},
   "source": [
    "---"
   ]
  }
 ],
 "metadata": {
  "kernelspec": {
   "display_name": "SageMath 10.6",
   "language": "sage",
   "name": "SageMath-10.6"
  },
  "language_info": {
   "codemirror_mode": {
    "name": "ipython",
    "version": 3
   },
   "file_extension": ".py",
   "mimetype": "text/x-python",
   "name": "sage",
   "nbconvert_exporter": "python",
   "pygments_lexer": "ipython3",
   "version": "3.12.5"
  }
 },
 "nbformat": 4,
 "nbformat_minor": 5
}
