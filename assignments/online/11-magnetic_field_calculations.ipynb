{
 "cells": [
  {
   "cell_type": "markdown",
   "id": "7a28197d",
   "metadata": {},
   "source": [
    "# Magnetic Field Calculations\n",
    "\n",
    "M&I Ch 17 Magnetic Field\n",
    "\n",
    "- §17.3  &ndash; Biot-Savart Law: Single Moving Charge\n",
    "- §17.7  &ndash; The Magnetic Field of Current Distributions\n",
    "- §17.8  &ndash; A Circular Loop of Wire\n",
    "- §17.11 &ndash; The Magnetic Field of a Bar Magnet"
   ]
  },
  {
   "cell_type": "code",
   "execution_count": 1,
   "id": "4d87d0c4",
   "metadata": {
    "vscode": {
     "languageId": "python"
    }
   },
   "outputs": [
    {
     "name": "stdout",
     "output_type": "stream",
     "text": [
      "Python: 3.12.5 (main, Feb 25 2025, 12:37:41) [Clang 16.0.0 (clang-1600.0.26.6)]\n"
     ]
    },
    {
     "data": {
      "text/html": [
       "<html>\\(\\displaystyle \\verb|SageMath|\\verb| |\\verb|version|\\verb| |\\verb|10.6,|\\verb| |\\verb|Release|\\verb| |\\verb|Date:|\\verb| |\\verb|2025-03-31|\\)</html>"
      ],
      "text/latex": [
       "$\\displaystyle \\verb|SageMath|\\verb| |\\verb|version|\\verb| |\\verb|10.6,|\\verb| |\\verb|Release|\\verb| |\\verb|Date:|\\verb| |\\verb|2025-03-31|$"
      ],
      "text/plain": [
       "'SageMath version 10.6, Release Date: 2025-03-31'"
      ]
     },
     "execution_count": 1,
     "metadata": {},
     "output_type": "execute_result"
    }
   ],
   "source": [
    "########\n",
    "## Env Setup / Preamble\n",
    "########\n",
    "%load_ext autoreload\n",
    "%autoreload complete \n",
    "\n",
    "%load_ext Cython\n",
    "\n",
    "%display latex\n",
    "\n",
    "################\n",
    "\n",
    "import cython\n",
    "from sage.all import *\n",
    "\n",
    "################\n",
    "\n",
    "import tempfile\n",
    "import mmap\n",
    "from multiprocessing import shared_memory\n",
    "\n",
    "################\n",
    "\n",
    "import numpy as np\n",
    "import scipy.constants\n",
    "\n",
    "np.random.seed( int(scipy.constants.golden_ratio * 1.e6) )\n",
    "\n",
    "from numpy import vectorize\n",
    "from numpy import r_, c_, s_\n",
    "\n",
    "################\n",
    "\n",
    "####    boiler-plate class for named constants\n",
    "from sage.symbolic.constants import Constant\n",
    "class ConstantFromExpression(Constant):\n",
    "    def __init__(self, name, v):\n",
    "        conversions = dict(maxima=repr(maxima.coerce(v)))\n",
    "        Constant.__init__(self, name, conversions=conversions)\n",
    "        self._v = v\n",
    "    def __float__(self): return float(self._v)\n",
    "    def __complex__(self): return complex(self._v)\n",
    "    def _mpfr_(self, R): return R(self._v)\n",
    "    def _real_double_(self, R): return R(self._v)\n",
    "\n",
    "def NamedExpression(name, expr):\n",
    "    return ConstantFromExpression(name,expr).expression()\n",
    "####\n",
    "\n",
    "import sage.symbolic.units as units     # <: TODO\n",
    "\n",
    "π   = NamedExpression('π', scipy.constants.pi)          # pi\n",
    "ε_0 = NamedExpression('ε_0', scipy.constants.epsilon_0) # electric permittivity of vacuum\n",
    "μ_0 = NamedExpression('μ_0', scipy.constants.mu_0)      # magnetic permeability of vacuum\n",
    "\n",
    "𝛋 = 1. / (4 * π * ε_0)      # Coulomb's constant in [ N·m²/C² ]\n",
    "q = NamedExpression('q', -scipy.constants.elementary_charge)\n",
    "\n",
    "ℎ_planck = NamedExpression('ℎ', scipy.constants.Planck)\n",
    "ℏ = NamedExpression('ℏ', scipy.constants.hbar)\n",
    "\n",
    "α = NamedExpression('α', scipy.constants.fine_structure)\n",
    "\n",
    "m_e = NamedExpression('m_e', scipy.constants.electron_mass)\n",
    "m_p = NamedExpression('m_p', scipy.constants.proton_mass)\n",
    "\n",
    "################\n",
    "\n",
    "Parallelism().set(nproc=8)\n",
    "print(f\"Python: {sys.version}\")\n",
    "version()\n"
   ]
  },
  {
   "cell_type": "code",
   "execution_count": 2,
   "id": "6dbb2a79",
   "metadata": {
    "vscode": {
     "languageId": "python"
    }
   },
   "outputs": [
    {
     "name": "stdout",
     "output_type": "stream",
     "text": [
      "The Zen of Python, by Tim Peters\n",
      "\n",
      "Beautiful is better than ugly.\n",
      "Explicit is better than implicit.\n",
      "Simple is better than complex.\n",
      "Complex is better than complicated.\n",
      "Flat is better than nested.\n",
      "Sparse is better than dense.\n",
      "Readability counts.\n",
      "Special cases aren't special enough to break the rules.\n",
      "Although practicality beats purity.\n",
      "Errors should never pass silently.\n",
      "Unless explicitly silenced.\n",
      "In the face of ambiguity, refuse the temptation to guess.\n",
      "There should be one-- and preferably only one --obvious way to do it.\n",
      "Although that way may not be obvious at first unless you're Dutch.\n",
      "Now is better than never.\n",
      "Although never is often better than *right* now.\n",
      "If the implementation is hard to explain, it's a bad idea.\n",
      "If the implementation is easy to explain, it may be a good idea.\n",
      "Namespaces are one honking great idea -- let's do more of those!\n"
     ]
    }
   ],
   "source": [
    "##  sanity check\n",
    "import this\n"
   ]
  },
  {
   "cell_type": "markdown",
   "id": "ab8b0a04",
   "metadata": {},
   "source": [
    "---\n",
    "\n",
    "<hr width=\"82%\" style=\"border-top:2px dashed; border-bottom:none\"/>\n",
    "\n",
    "<hr width=\"64%\" style=\"border-top:1px dotted; border-bottom:none\"/>"
   ]
  },
  {
   "cell_type": "markdown",
   "id": "df636b9c",
   "metadata": {},
   "source": [
    "<div style=\"page-break-after: always;\"/> \n",
    "<h2 id='1' style=\"display:none\">[1]</h2>\n",
    "\n",
    ">   ---\n",
    ">   ## [1]\n",
    ">\n",
    ">   <img loading='lazy' decoding='async' src=\"data:image/avif;base64,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\" />\n",
    ">\n",
    ">   Conventional current flows in a ring in the direction indicated in the \n",
    ">   diagram (if you stand at a location $A$ on the $+x$-axis, and look toward \n",
    ">   the ring, current flows clockwise).\n",
    ">\n",
    ">   __At each of the locations labeled by a letter, use the right hand rule to find the direction of the magnetic field at that location, due to the current in the ring.__\n",
    ">\n",
    ">   __<p align='right'>(0.1 points)</p>__\n",
    ">\n",
    ">   <hr width=\"82%\" style=\"border-top:1px dashed; border-bottom:none\"/>"
   ]
  },
  {
   "cell_type": "markdown",
   "id": "5fb05d77",
   "metadata": {},
   "source": [
    "<h3 id='1a' style=\"display:none\">(A)</h3>\n",
    "\n",
    ">   <hr width=\"82%\" style=\"border-bottom:2px dashed; border-top:none\"/>\n",
    ">\n",
    ">   ### &#x2e04;&hairsp;&#x00B9;&hairsp;&#x2E05;&hairsp;(A)\n",
    ">\n",
    ">   __Location A__ (select one:)\n",
    ">\n",
    ">   - [ ] &nbsp; None\n",
    ">   - [ ] &nbsp; $-x$\n",
    ">   - [ ] &nbsp; $-y$\n",
    ">   - [ ] &nbsp; $-z$\n",
    ">   - [ ] &nbsp; $+x$\n",
    ">   - [ ] &nbsp; $+y$\n",
    ">   - [ ] &nbsp; $+z$\n",
    ">\n",
    ">   <hr width=\"64%\" style=\"border-top:2px dotted; border-bottom:none\"/>"
   ]
  },
  {
   "cell_type": "markdown",
   "id": "7d83f147",
   "metadata": {},
   "source": []
  },
  {
   "cell_type": "markdown",
   "id": "08d1fc77",
   "metadata": {},
   "source": [
    "<h3 id='1b' style=\"display:none\">(B)</h3>\n",
    "\n",
    ">   <hr width=\"82%\" style=\"border-bottom:2px dashed; border-top:none\"/>\n",
    ">\n",
    ">   ### &#x2e04;&hairsp;&#x00B9;&hairsp;&#x2E05;&hairsp;(B)\n",
    ">\n",
    ">   __Location B__ (select one:)\n",
    ">\n",
    ">   - [ ] &nbsp; None\n",
    ">   - [ ] &nbsp; $-x$\n",
    ">   - [ ] &nbsp; $-y$\n",
    ">   - [ ] &nbsp; $-z$\n",
    ">   - [ ] &nbsp; $+x$\n",
    ">   - [ ] &nbsp; $+y$\n",
    ">   - [ ] &nbsp; $+z$ \n",
    ">\n",
    ">   <hr width=\"64%\" style=\"border-top:2px dotted; border-bottom:none\"/>"
   ]
  },
  {
   "cell_type": "markdown",
   "id": "1832635a",
   "metadata": {},
   "source": []
  },
  {
   "cell_type": "markdown",
   "id": "c6ab01d6",
   "metadata": {},
   "source": [
    "<h3 id='1c' style=\"display:none\">(C)</h3>\n",
    "\n",
    ">   <hr width=\"82%\" style=\"border-bottom:2px dashed; border-top:none\"/>\n",
    ">\n",
    ">   ### &#x2e04;&hairsp;&#x00B9;&hairsp;&#x2E05;&hairsp;(C)\n",
    ">\n",
    ">   __Location C__ (select one:)\n",
    ">\n",
    ">   - [ ] &nbsp; None\n",
    ">   - [ ] &nbsp; $-x$\n",
    ">   - [ ] &nbsp; $-y$\n",
    ">   - [ ] &nbsp; $-z$\n",
    ">   - [ ] &nbsp; $+x$\n",
    ">   - [ ] &nbsp; $+y$\n",
    ">   - [ ] &nbsp; $+z$\n",
    ">\n",
    ">   <hr width=\"64%\" style=\"border-top:2px dotted; border-bottom:none\"/>"
   ]
  },
  {
   "cell_type": "markdown",
   "id": "d8ca572f",
   "metadata": {},
   "source": []
  },
  {
   "cell_type": "markdown",
   "id": "5ba92711",
   "metadata": {},
   "source": [
    "<h3 id='1d' style=\"display:none\">(D)</h3>\n",
    "\n",
    ">   <hr width=\"82%\" style=\"border-bottom:2px dashed; border-top:none\"/>\n",
    ">\n",
    ">   ### &#x2e04;&hairsp;&#x00B9;&hairsp;&#x2E05;&hairsp;(D)\n",
    ">\n",
    ">   __Location D__ (select one:)\n",
    ">\n",
    ">   - [ ] &nbsp; None\n",
    ">   - [ ] &nbsp; $-x$\n",
    ">   - [ ] &nbsp; $-y$\n",
    ">   - [ ] &nbsp; $-z$\n",
    ">   - [ ] &nbsp; $+x$\n",
    ">   - [ ] &nbsp; $+y$\n",
    ">   - [ ] &nbsp; $+z$\n",
    ">   \n",
    ">   <hr width=\"64%\" style=\"border-top:2px dotted; border-bottom:none\"/>"
   ]
  },
  {
   "cell_type": "markdown",
   "id": "df838b67",
   "metadata": {},
   "source": []
  },
  {
   "cell_type": "markdown",
   "id": "4a9233b5",
   "metadata": {},
   "source": [
    "<h3 id='1e' style=\"display:none\">(E)</h3>\n",
    "\n",
    ">   <hr width=\"82%\" style=\"border-bottom:2px dashed; border-top:none\"/>\n",
    ">\n",
    ">   ### &#x2e04;&hairsp;&#x00B9;&hairsp;&#x2E05;&hairsp;(E)\n",
    ">\n",
    ">   __Location E__ (select one:)\n",
    ">\n",
    ">   - [ ] &nbsp; None\n",
    ">   - [ ] &nbsp; $-x$\n",
    ">   - [ ] &nbsp; $-y$\n",
    ">   - [ ] &nbsp; $-z$\n",
    ">   - [ ] &nbsp; $+x$\n",
    ">   - [ ] &nbsp; $+y$\n",
    ">   - [ ] &nbsp; $+z$\n",
    ">\n",
    ">   <hr width=\"64%\" style=\"border-top:2px dotted; border-bottom:none\"/>"
   ]
  },
  {
   "cell_type": "markdown",
   "id": "538544e6",
   "metadata": {},
   "source": []
  },
  {
   "cell_type": "markdown",
   "id": "6ab04aba",
   "metadata": {
    "vscode": {
     "languageId": "python"
    }
   },
   "source": [
    "<h3 id='1f' style=\"display:none\">(F)</h3>\n",
    "\n",
    ">   <hr width=\"82%\" style=\"border-bottom:2px dashed; border-top:none\"/>\n",
    ">\n",
    ">   ### &#x2e04;&hairsp;&#x00B9;&hairsp;&#x2E05;&hairsp;(F)\n",
    ">\n",
    ">   __Location F__ (select one:)\n",
    ">\n",
    ">   - [ ] &nbsp; None\n",
    ">   - [ ] &nbsp; $-x$\n",
    ">   - [ ] &nbsp; $-y$\n",
    ">   - [ ] &nbsp; $-z$\n",
    ">   - [ ] &nbsp; $+x$\n",
    ">   - [ ] &nbsp; $+y$\n",
    ">   - [ ] &nbsp; $+z$\n",
    ">\n",
    ">   <hr width=\"64%\" style=\"border-top:2px dotted; border-bottom:none\"/>"
   ]
  },
  {
   "cell_type": "markdown",
   "id": "4458992c",
   "metadata": {},
   "source": []
  },
  {
   "cell_type": "markdown",
   "id": "78fb8826",
   "metadata": {},
   "source": [
    "<div style=\"page-break-after: always;\"/> \n",
    "<h2 id='2' style=\"display:none\">[2]</h2>\n",
    "\n",
    ">   ---\n",
    ">   ## [2]\n",
    ">\n",
    ">   A vector $\\vec{C}$ of magnitude $4$ lies along the $x$-axis, and a vector \n",
    ">   $\\vec{D}$ of magnitude $8$ lies in the $xy$-plane, 20 degrees from the \n",
    ">   $x$-axis (see the figure below).\n",
    ">\n",
    ">   <img loading=\"\" decoding=\"async\" src=\"data:image/avif;base64,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\" />\n",
    ">\n",
    ">   __<p align='right'>(0.1 points)</p>__\n",
    ">\n",
    ">   <hr width=\"82%\" style=\"border-top:1px dashed; border-bottom:none\"/>"
   ]
  },
  {
   "cell_type": "markdown",
   "id": "f77c8b1d",
   "metadata": {},
   "source": [
    "<h3 id='2a' style=\"display:none\">(A)</h3>\n",
    "\n",
    ">   <hr width=\"82%\" style=\"border-bottom:2px dashed; border-top:none\"/>\n",
    ">\n",
    ">   ### &#x2e04;&hairsp;&#x00B2;&hairsp;&#x2E05;&hairsp;(A)\n",
    ">\n",
    ">   __What is the magnitude of the cross product $\\vec{C} \\times \\vec{D}$?__\n",
    ">\n",
    ">   &emsp;&emsp;&emsp;&emsp; $\\lvert \\vec{C} \\times \\vec{D}\\rvert = \\fbox{\\hspace{8em}?}$\n",
    ">\n",
    ">   <hr width=\"64%\" style=\"border-top:2px dotted; border-bottom:none\"/>"
   ]
  },
  {
   "cell_type": "code",
   "execution_count": null,
   "id": "79a98e86",
   "metadata": {
    "vscode": {
     "languageId": "python"
    }
   },
   "outputs": [],
   "source": []
  },
  {
   "cell_type": "markdown",
   "id": "17377582",
   "metadata": {},
   "source": [
    "<h3 id='2b' style=\"display:none\">(B)</h3>\n",
    "\n",
    ">   <hr width=\"82%\" style=\"border-bottom:2px dashed; border-top:none\"/>\n",
    ">\n",
    ">   ### &#x2e04;&hairsp;&#x00B2;&hairsp;&#x2E05;&hairsp;(B)\n",
    ">\n",
    ">   __What is the direction of the cross product $\\vec{C} \\times \\vec{D}$?__ \n",
    ">\n",
    ">   (select one:)\n",
    ">\n",
    ">   - [ ] &nbsp; $+x$\n",
    ">   - [ ] &nbsp; $+y$\n",
    ">   - [ ] &nbsp; $+z$\n",
    ">   - [ ] &nbsp; $-x$\n",
    ">   - [ ] &nbsp; $-y$\n",
    ">   - [ ] &nbsp; $-z$\n",
    ">   - [ ] &nbsp; in the $xz$-plane, but not along the $x$ or $z$ axes.\n",
    ">   - [ ] &nbsp; in the $xy$-plane, but not along the $x$ or $y$ axes.\n",
    ">   - [ ] &nbsp; in the $yz$-plane, but not along the $x$ or $y$ axes.\n",
    ">\n",
    ">   <hr width=\"64%\" style=\"border-top:2px dotted; border-bottom:none\"/>"
   ]
  },
  {
   "cell_type": "markdown",
   "id": "8cca5ec4",
   "metadata": {},
   "source": []
  },
  {
   "cell_type": "markdown",
   "id": "bbf25dd9",
   "metadata": {},
   "source": [
    "<h3 id='1c' style=\"display:none\">(C)</h3>\n",
    "\n",
    ">   <hr width=\"82%\" style=\"border-bottom:2px dashed; border-top:none\"/>\n",
    ">\n",
    ">   ### &#x2e04;&hairsp;&#x00B2;&hairsp;&#x2E05;&hairsp;(C)\n",
    ">\n",
    ">   __What is the cross product $\\vec{D} \\times \\vec{C}$?__\n",
    ">\n",
    ">   &emsp;&emsp;&emsp;&emsp; $\\vec{D} \\times \\vec{C} = \\Big\\langle\\ \\fbox{\\hspace{4em}?}\\ ,\\ \\fbox{\\hspace{4em}?}\\ , \\fbox{\\hspace{4em}?}\\ \\Big\\rangle$\n",
    ">\n",
    ">   <hr width=\"64%\" style=\"border-top:2px dotted; border-bottom:none\"/>"
   ]
  },
  {
   "cell_type": "code",
   "execution_count": null,
   "id": "a74e53e0",
   "metadata": {
    "vscode": {
     "languageId": "python"
    }
   },
   "outputs": [],
   "source": []
  },
  {
   "cell_type": "markdown",
   "id": "aa21008c",
   "metadata": {},
   "source": [
    "<div style=\"page-break-after: always;\"/> \n",
    "<h2 id='3' style=\"display:none\">[3]</h2>\n",
    "\n",
    ">   ---\n",
    ">   ## [3]\n",
    ">\n",
    ">   If $\\vec{v} = \\left\\langle 444, -345, 405 \\right\\rangle$ [m/s] and $\\vec{r} = \\left\\langle 0.577, 0.577, -0.577 \\right\\rangle$ [m], __what is $\\vec{v} \\times \\vec{r}$?__\n",
    ">\n",
    ">   &emsp;&emsp;&emsp;&emsp; $\\vec{v} \\times \\vec{r} = \\Big\\langle\\ \\fbox{\\hspace{4em}?}\\ ,\\ \\fbox{\\hspace{4em}?}\\ , \\fbox{\\hspace{4em}?}\\ \\Big\\rangle \\left[\\textrm{m}^2/\\textrm{s}\\right]$\n",
    ">\n",
    ">   __<p align='right'>(0.1 points)</p>__\n",
    ">\n",
    ">   <hr width=\"82%\" style=\"border-top:1px dashed; border-bottom:none\"/>"
   ]
  },
  {
   "cell_type": "code",
   "execution_count": null,
   "id": "8de005b0",
   "metadata": {
    "vscode": {
     "languageId": "python"
    }
   },
   "outputs": [],
   "source": []
  },
  {
   "cell_type": "markdown",
   "id": "57e9072f",
   "metadata": {},
   "source": [
    "<div style=\"page-break-after: always;\"/> \n",
    "<h2 id='4' style=\"display:none\">[4]</h2>\n",
    "\n",
    ">   ---\n",
    ">   ## [4]\n",
    ">\n",
    ">   __What is $\\langle 4, 0, -4 \\rangle \\times \\langle -6, 3, 5 \\rangle$?__\n",
    ">\n",
    ">   &emsp;&emsp;&emsp;&emsp; $\\Big\\langle\\ \\fbox{\\hspace{4em}?}\\ ,\\ \\fbox{\\hspace{4em}?}\\ , \\fbox{\\hspace{4em}?}\\ \\Big\\rangle$\n",
    ">\n",
    ">   __<p align='right'>(0.1 points)</p>__\n",
    ">\n",
    ">   <hr width=\"82%\" style=\"border-top:1px dashed; border-bottom:none\"/>"
   ]
  },
  {
   "cell_type": "code",
   "execution_count": null,
   "id": "5bd5f4a3",
   "metadata": {
    "vscode": {
     "languageId": "python"
    }
   },
   "outputs": [],
   "source": []
  },
  {
   "cell_type": "markdown",
   "id": "801e240f",
   "metadata": {},
   "source": [
    "<div style=\"page-break-after: always;\"/> \n",
    "<h2 id='5' style=\"display:none\">[5]*</h2>\n",
    "\n",
    ">   ---\n",
    ">   ## [5]*\n",
    ">\n",
    ">   <img loading='lazy' decoding='async' src=\"data:image/avif;base64,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\" />\n",
    ">\n",
    ">   A wire, through which a current is flowing, lies on the $x$-axis as shown in\n",
    ">   the figure above. Connecting wires (which are not shown in the diagram) \n",
    ">   connect the ends of the wire to batteries (which are also not shown). \n",
    ">   Electron current flows through the wire in the $-x$ direction, as indicated \n",
    ">   in the diagram. \n",
    ">\n",
    ">   To calculate the magnetic field at location $A$ due to the current in the \n",
    ">   wire, we divide the wire into pieces, approximate each piece as a point \n",
    ">   charge moving in the direction of conventional current, and calculate the \n",
    ">   magnetic field at the observation location due only to this piece; then sum \n",
    ">   the contributions of all pieces to get the net magnetic field. \n",
    ">\n",
    ">   The wire is $1.6$ [m] long, and is divided into 8 pieces.  The observation \n",
    ">   location $A$ is located at $\\langle 0.1, 0.22, 0\\rangle$ [m].\n",
    ">   The conventional current running through the wire is $7.6$ amperes. \n",
    ">\n",
    ">   __In this exercise, you will calculate the magnetic field at the observation location, due only to segment 2 of the wire.__\n",
    ">\n",
    ">   __<p align='right'>(10 points)</p>__\n",
    ">\n",
    ">   <hr width=\"82%\" style=\"border-top:1px dashed; border-bottom:none\"/>"
   ]
  },
  {
   "cell_type": "markdown",
   "id": "c9e0b5ac",
   "metadata": {},
   "source": [
    "<h3 id='5a' style=\"display:none\">(A)</h3>\n",
    "\n",
    ">   <hr width=\"82%\" style=\"border-bottom:2px dashed; border-top:none\"/>\n",
    ">\n",
    ">   ### &#x2e04;&hairsp;&#x2075;&hairsp;&#x2E05;&hairsp;(A)\n",
    ">\n",
    ">   __What is the direction of conventional current in this wire?__ \n",
    ">\n",
    ">   (select one):\n",
    ">\n",
    ">   - [ ] &nbsp; $-x$\n",
    ">   - [ ] &nbsp; $-y$\n",
    ">   - [ ] &nbsp; $-z$\n",
    ">   - [ ] &nbsp; $+x$\n",
    ">   - [ ] &nbsp; $+y$\n",
    ">   - [ ] &nbsp; $+z$\n",
    ">\n",
    ">   <hr width=\"64%\" style=\"border-top:2px dotted; border-bottom:none\"/>"
   ]
  },
  {
   "cell_type": "markdown",
   "id": "030a3511",
   "metadata": {},
   "source": []
  },
  {
   "cell_type": "markdown",
   "id": "8707496c",
   "metadata": {},
   "source": [
    "<h3 id='5b' style=\"display:none\">(B)</h3>\n",
    "\n",
    ">   <hr width=\"82%\" style=\"border-bottom:2px dashed; border-top:none\"/>\n",
    ">   \n",
    ">   ### &#x2e04;&hairsp;&#x2075;&hairsp;&#x2E05;&hairsp;(B)\n",
    ">\n",
    ">   __How long is segment 2?__\n",
    ">\n",
    ">   &emsp;&emsp;&emsp;&emsp; $\\fbox{\\hspace{8em}?}\\ \\left[\\textrm{m}\\right]$\n",
    ">\n",
    ">   <hr width=\"64%\" style=\"border-top:2px dotted; border-bottom:none\"/>"
   ]
  },
  {
   "cell_type": "code",
   "execution_count": null,
   "id": "465d5a64",
   "metadata": {
    "vscode": {
     "languageId": "python"
    }
   },
   "outputs": [],
   "source": []
  },
  {
   "cell_type": "markdown",
   "id": "65a17769",
   "metadata": {},
   "source": [
    "<h3 id='5c' style=\"display:none\">(C)</h3>\n",
    "\n",
    ">   <hr width=\"82%\" style=\"border-bottom:2px dashed; border-top:none\"/>\n",
    ">   \n",
    ">   ### &#x2e04;&hairsp;&#x2075;&hairsp;&#x2E05;&hairsp;(C)\n",
    ">\n",
    ">   __What is the magnitude of the vector $\\Delta \\vec{l}$ for segment 2?__\n",
    ">\n",
    ">   &emsp;&emsp;&emsp;&emsp; $\\lvert \\Delta \\vec{l}\\rvert = \\fbox{\\hspace{8em}?}\\ \\left[\\textrm{m}\\right]$\n",
    ">\n",
    ">   <hr width=\"64%\" style=\"border-top:2px dotted; border-bottom:none\"/>"
   ]
  },
  {
   "cell_type": "code",
   "execution_count": null,
   "id": "7d3693a8",
   "metadata": {
    "vscode": {
     "languageId": "python"
    }
   },
   "outputs": [],
   "source": []
  },
  {
   "cell_type": "markdown",
   "id": "71ffe433",
   "metadata": {},
   "source": [
    "<h3 id='5d' style=\"display:none\">(D)</h3>\n",
    "\n",
    ">   <hr width=\"82%\" style=\"border-bottom:2px dashed; border-top:none\"/>\n",
    ">\n",
    ">   ### &#x2e04;&hairsp;&#x2075;&hairsp;&#x2E05;&hairsp;(D)\n",
    ">\n",
    ">   __What is the vector $\\Delta \\vec{l}$ for segment 2?__\n",
    ">\n",
    ">   &emsp;&emsp;&emsp;&emsp; $\\Delta \\vec{l} = \\Big\\langle\\ \\fbox{\\hspace{4em}?}\\ ,\\ \\fbox{\\hspace{4em}?}\\ , \\fbox{\\hspace{4em}?}\\ \\Big\\rangle\\ \\left[\\textrm{m}\\right]$\n",
    ">\n",
    ">   <hr width=\"64%\" style=\"border-top:2px dotted; border-bottom:none\"/>"
   ]
  },
  {
   "cell_type": "code",
   "execution_count": null,
   "id": "527bf344",
   "metadata": {
    "vscode": {
     "languageId": "python"
    }
   },
   "outputs": [],
   "source": []
  },
  {
   "cell_type": "markdown",
   "id": "2ded995e",
   "metadata": {},
   "source": [
    "<h3 id='5e' style=\"display:none\">(E)</h3>\n",
    "\n",
    ">   <hr width=\"82%\" style=\"border-bottom:2px dashed; border-top:none\"/>\n",
    ">   \n",
    ">   ### &#x2e04;&hairsp;&#x2075;&hairsp;&#x2E05;&hairsp;(E)\n",
    ">\n",
    ">   __What is the location of the center of segment 2?__\n",
    ">\n",
    ">   &emsp;&emsp;&emsp;&emsp; $\\textrm{source location} = \\Big\\langle\\ \\fbox{\\hspace{4em}?}\\ ,\\ \\fbox{\\hspace{4em}?}\\ , \\fbox{\\hspace{4em}?}\\ \\Big\\rangle\\ \\left[\\textrm{m}\\right]$\n",
    ">\n",
    ">   <hr width=\"64%\" style=\"border-top:2px dotted; border-bottom:none\"/>"
   ]
  },
  {
   "cell_type": "code",
   "execution_count": null,
   "id": "05420419",
   "metadata": {
    "vscode": {
     "languageId": "python"
    }
   },
   "outputs": [],
   "source": []
  },
  {
   "cell_type": "markdown",
   "id": "82b494d9",
   "metadata": {},
   "source": [
    "<h3 id='5f' style=\"display:none\">(F)</h3>\n",
    "\n",
    ">   <hr width=\"82%\" style=\"border-bottom:2px dashed; border-top:none\"/>\n",
    ">   \n",
    ">   ### &#x2e04;&hairsp;&#x2075;&hairsp;&#x2E05;&hairsp;(F)\n",
    ">\n",
    ">   __What is the vector $\\vec{r}$, from source to observation location, for segment 2?__\n",
    ">\n",
    ">   &emsp;&emsp;&emsp;&emsp; $\\vec{r} = \\Big\\langle\\ \\fbox{\\hspace{4em}?}\\ ,\\ \\fbox{\\hspace{4em}?}\\ , \\fbox{\\hspace{4em}?}\\ \\Big\\rangle\\ \\left[\\textrm{m}\\right]$\n",
    ">\n",
    ">   <hr width=\"64%\" style=\"border-top:2px dotted; border-bottom:none\"/>"
   ]
  },
  {
   "cell_type": "code",
   "execution_count": null,
   "id": "7d572e39",
   "metadata": {
    "vscode": {
     "languageId": "python"
    }
   },
   "outputs": [],
   "source": []
  },
  {
   "cell_type": "markdown",
   "id": "6a934829",
   "metadata": {},
   "source": [
    "<h3 id='5g' style=\"display:none\">(G)</h3>\n",
    "\n",
    ">   <hr width=\"82%\" style=\"border-bottom:2px dashed; border-top:none\"/>\n",
    ">\n",
    ">   ### &#x2e04;&hairsp;&#x2075;&hairsp;&#x2E05;&hairsp;(G)\n",
    ">\n",
    ">   __What is the unit vector $\\hat{r}$?__\n",
    ">\n",
    ">   &emsp;&emsp;&emsp;&emsp; $\\hat{r} = \\Big\\langle\\ \\fbox{\\hspace{4em}?}\\ ,\\ \\fbox{\\hspace{4em}?}\\ , \\fbox{\\hspace{4em}?}\\ \\Big\\rangle$\n",
    ">\n",
    ">   <hr width=\"64%\" style=\"border-top:2px dotted; border-bottom:none\"/>"
   ]
  },
  {
   "cell_type": "code",
   "execution_count": null,
   "id": "9e73e825",
   "metadata": {
    "vscode": {
     "languageId": "python"
    }
   },
   "outputs": [],
   "source": []
  },
  {
   "cell_type": "markdown",
   "id": "20411144",
   "metadata": {},
   "source": [
    "<h3 id='5h' style=\"display:none\">(H)</h3>\n",
    "\n",
    ">   <hr width=\"82%\" style=\"border-bottom:2px dashed; border-top:none\"/>\n",
    ">   \n",
    ">   ### &#x2e04;&hairsp;&#x2075;&hairsp;&#x2E05;&hairsp;(H)\n",
    ">\n",
    ">   __What is $\\Delta \\vec{l} \\times \\hat{r}$?__\n",
    ">\n",
    ">   &emsp;&emsp;&emsp;&emsp; $\\delta \\vec{l} \\times \\hat{r} = \\Big\\langle\\ \\fbox{\\hspace{4em}?}\\ ,\\ \\fbox{\\hspace{4em}?}\\ , \\fbox{\\hspace{4em}?}\\ \\Big\\rangle \\left[\\textrm{m}\\right]$\n",
    ">\n",
    ">   <hr width=\"64%\" style=\"border-top:2px dotted; border-bottom:none\"/>"
   ]
  },
  {
   "cell_type": "code",
   "execution_count": null,
   "id": "a6654aba",
   "metadata": {
    "vscode": {
     "languageId": "python"
    }
   },
   "outputs": [],
   "source": []
  },
  {
   "cell_type": "markdown",
   "id": "66918ae5",
   "metadata": {},
   "source": [
    "<h3 id='5i' style=\"display:none\">(I)</h3>\n",
    "\n",
    ">   <hr width=\"82%\" style=\"border-bottom:2px dashed; border-top:none\"/>\n",
    ">   \n",
    ">   ### &#x2e04;&hairsp;&#x2075;&hairsp;&#x2E05;&hairsp;(I)\n",
    ">\n",
    ">   __Calculate the magnetic field $\\Delta \\mathbf{\\vec{B}}$ at the observation location due only to the current in segment 2 of the wire.__\n",
    ">\n",
    ">   &emsp;&emsp;&emsp;&emsp; $\\Delta \\mathbf{\\vec{B}} = \\Big\\langle\\ \\fbox{\\hspace{4em}?}\\ ,\\ \\fbox{\\hspace{4em}?}\\ , \\fbox{\\hspace{4em}?}\\ \\Big\\rangle \\left[\\textrm{T}\\right]$\n",
    ">\n",
    ">   <hr width=\"64%\" style=\"border-top:2px dotted; border-bottom:none\"/>"
   ]
  },
  {
   "cell_type": "code",
   "execution_count": null,
   "id": "01591e6e",
   "metadata": {
    "vscode": {
     "languageId": "python"
    }
   },
   "outputs": [],
   "source": []
  },
  {
   "cell_type": "markdown",
   "id": "0b36bcfc",
   "metadata": {},
   "source": [
    "<div style=\"page-break-after: always;\"/> \n",
    "<h2 id='6' style=\"display:none\">[6]*</h2>\n",
    "\n",
    ">   ---\n",
    ">   ## [6]*\n",
    ">\n",
    ">   A compass is placed inside a triangular coil of wire with 3 turns, as shown \n",
    ">   in the diagram.\n",
    ">\n",
    ">   <img loading='lazy' decoding='async' src=\"data:image/avif;base64,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\" />\n",
    ">\n",
    ">   Each side of the triangle has a length $L$.\n",
    ">\n",
    ">   The compass is a perpendicular distance $d$ from the center of each side of \n",
    ">   the triangle.\n",
    ">   The coil is in the $xy$-plane, magnetic North (due to the Earth) is in the \n",
    ">   negative $x$ direction.\n",
    ">   Conventional current runs in the coil as shown (clockwise, as viewed from a \n",
    ">   location on the $+z$-axis).\n",
    ">\n",
    ">   The compass needle rotates in the $xz$-plane, as indicated in the diagram. \n",
    ">\n",
    ">   __<p align='right'>(10 points)</p>__\n",
    ">\n",
    ">   <hr width=\"82%\" style=\"border-top:1px dashed; border-bottom:none\"/>"
   ]
  },
  {
   "cell_type": "markdown",
   "id": "f64f6649",
   "metadata": {},
   "source": [
    "<h3 id='6a' style=\"display:none\">(A)</h3>\n",
    "\n",
    ">   <hr width=\"82%\" style=\"border-bottom:2px dashed; border-top:none\"/>\n",
    ">   \n",
    ">   ### &#x2e04;&hairsp;&#x2076;&hairsp;&#x2E05;&hairsp;(A)\n",
    ">\n",
    ">   __While current is running through the coil, what direction does the compass needle point?__ (select one:)\n",
    ">\n",
    ">   - [ ] &nbsp; North\n",
    ">\n",
    ">   - [ ] &nbsp; North-East\n",
    ">\n",
    ">   - [ ] &nbsp; East\n",
    ">\n",
    ">   - [ ] &nbsp; SouthEast\n",
    ">\n",
    ">   - [ ] &nbsp; South\n",
    ">\n",
    ">   - [ ] &nbsp; SouthWest\n",
    ">\n",
    ">   - [ ] &nbsp; West\n",
    ">\n",
    ">   - [ ] &nbsp; NorthWest\n",
    ">\n",
    ">\n",
    ">   <hr width=\"64%\" style=\"border-top:2px dotted; border-bottom:none\"/>"
   ]
  },
  {
   "cell_type": "markdown",
   "id": "b138edbe",
   "metadata": {},
   "source": [
    "- [x] &nbsp; North-East"
   ]
  },
  {
   "cell_type": "markdown",
   "id": "0886889d",
   "metadata": {},
   "source": [
    "<h3 id='6b' style=\"display:none\">(B)</h3>\n",
    "\n",
    ">   <hr width=\"82%\" style=\"border-bottom:2px dashed; border-top:none\"/>\n",
    ">   \n",
    ">   ### &#x2e04;&hairsp;&#x2076;&hairsp;&#x2E05;&hairsp;(B)\n",
    ">\n",
    ">   __Which of the following statements about how to model the coil are reasonable?__ \n",
    ">\n",
    ">   (check all that apply:)\n",
    ">\n",
    ">   - [ ] &nbsp; A circular loop is a poor model for one turn of the coil, \n",
    ">                because the distance from the wire to the compass varies so much.\n",
    ">\n",
    ">   - [ ] &nbsp; One turn of the coil could be modeled as 3 short straight wires.\n",
    ">\n",
    ">   - [ ] &nbsp; Since the coil is made from a single wire, we could model one \n",
    ">                turn of the coil as one long wire. \n",
    ">\n",
    ">   <hr width=\"64%\" style=\"border-top:2px dotted; border-bottom:none\"/>"
   ]
  },
  {
   "cell_type": "markdown",
   "id": "877fe9cc",
   "metadata": {},
   "source": [
    "- [x] (i)\n",
    "- [x] (ii)"
   ]
  },
  {
   "cell_type": "markdown",
   "id": "655eae01",
   "metadata": {},
   "source": [
    "<h3 id='6c' style=\"display:none\">(C)</h3>\n",
    "\n",
    ">   <hr width=\"82%\" style=\"border-bottom:2px dashed; border-top:none\"/>\n",
    ">   \n",
    ">   ### &#x2e04;&hairsp;&#x2076;&hairsp;&#x2E05;&hairsp;(C)\n",
    ">\n",
    ">   A current of $0.65$ amperes runs through the wires. If $L = 8.2$ [cm], and \n",
    ">   $d = 2.36$ [cm], __what is the magnitude of the magnetic field at the location of the compass, due to the coil?__\n",
    ">   (Remember that the coil has three turns.)\n",
    ">\n",
    ">   &emsp;&emsp;&emsp;&emsp; $\\lvert \\mathbf{\\vec{B}} \\rvert = \\fbox{\\hspace{8em}?}\\ \\left[\\textrm{T}\\right]$\n",
    ">\n",
    ">   <hr width=\"64%\" style=\"border-top:2px dotted; border-bottom:none\"/>"
   ]
  },
  {
   "cell_type": "code",
   "execution_count": 7,
   "id": "a3731d41",
   "metadata": {
    "vscode": {
     "languageId": "python"
    }
   },
   "outputs": [
    {
     "name": "stdout",
     "output_type": "stream",
     "text": [
      "0.0000429666560646387\n"
     ]
    },
    {
     "data": {
      "text/html": [
       "<html>\\(\\displaystyle \\frac{107.416640175779 \\, μ_0}{π}\\)</html>"
      ],
      "text/latex": [
       "$\\displaystyle \\frac{107.416640175779 \\, μ_0}{π}$"
      ],
      "text/plain": [
       "107.416640175779*μ_0/π"
      ]
     },
     "execution_count": 7,
     "metadata": {},
     "output_type": "execute_result"
    }
   ],
   "source": [
    "I = 0.65\n",
    "L = 8.2e-2\n",
    "d = 2.36e-2\n",
    "N = 3\n",
    "\n",
    "# this is a solution to finite-difference Biot-Savart for a finite straight wire\n",
    "# see §17.7\n",
    "B = 3 * N * (μ_0 / (4*π)) * ((L*I) / (d*sqrt(d^2 + (L/2)^2)))\n",
    "\n",
    "print(n(B))\n",
    "\n",
    "B\n"
   ]
  },
  {
   "cell_type": "markdown",
   "id": "b500531c",
   "metadata": {},
   "source": [
    "<h3 id='6d' style=\"display:none\">(D)</h3>\n",
    "\n",
    ">   <hr width=\"82%\" style=\"border-bottom:2px dashed; border-top:none\"/>\n",
    ">   \n",
    ">   ### &#x2e04;&hairsp;&#x2076;&hairsp;&#x2E05;&hairsp;(D)\n",
    ">\n",
    ">   __What is the approximate magnitude of the compass deflection, in degrees?__\n",
    ">\n",
    ">   Assume the magnitude of the horizontal component of the Earth's magnetic \n",
    ">   field is about $2 \\times 10^{-5}$ [T].\n",
    ">\n",
    ">   &emsp;&emsp;&emsp;&emsp; $\\textrm{deflection} = \\fbox{\\hspace{8em}?}\\ \\left[\\textrm{degrees}\\right]$\n",
    ">\n",
    ">   <hr width=\"64%\" style=\"border-top:2px dotted; border-bottom:none\"/>"
   ]
  },
  {
   "cell_type": "code",
   "execution_count": 11,
   "id": "00722fd7",
   "metadata": {
    "vscode": {
     "languageId": "python"
    }
   },
   "outputs": [
    {
     "data": {
      "text/html": [
       "<html>\\(\\displaystyle 65.0390944212714\\)</html>"
      ],
      "text/latex": [
       "$\\displaystyle 65.0390944212714$"
      ],
      "text/plain": [
       "65.0390944212714"
      ]
     },
     "execution_count": 11,
     "metadata": {},
     "output_type": "execute_result"
    }
   ],
   "source": [
    "B_EarthNorth = 2e-5\n",
    "\n",
    "n(arctan(B / B_EarthNorth) * (180 / π))\n"
   ]
  },
  {
   "cell_type": "markdown",
   "id": "57544d91",
   "metadata": {},
   "source": [
    "<div style=\"page-break-after: always;\"/> \n",
    "<h2 id='7' style=\"display:none\">[7]</h2>\n",
    "\n",
    ">   ---\n",
    ">   ## [7]\n",
    ">\n",
    ">   A thin wire is part of a complete electrical circuit which carries a current \n",
    ">   $I$. For this problem, consider only the piece of wire of length $d$ as shown\n",
    ">   in the figure below. \n",
    ">\n",
    ">   Answer the following questions based on this figure. \n",
    ">\n",
    ">   <img loading='lazy' decoding='async' src=\"data:image/avif;base64,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\" />\n",
    ">\n",
    ">   __<p align='right'>(0.1 points)</p>__\n",
    ">\n",
    ">   <hr width=\"82%\" style=\"border-top:1px dashed; border-bottom:none\"/>"
   ]
  },
  {
   "cell_type": "markdown",
   "id": "b77a3403",
   "metadata": {},
   "source": [
    "<h3 id='7a' style=\"display:none\">(A)</h3>\n",
    "\n",
    ">   <hr width=\"82%\" style=\"border-bottom:2px dashed; border-top:none\"/>\n",
    ">   \n",
    ">   ### &#x2e04;&hairsp;&#x2077;&hairsp;&#x2E05;&hairsp;(A)\n",
    ">\n",
    ">   __What are the magnitude and direction of the magnetic field due to the wire at $Q$ (location $\\big\\langle -w, 0, 0 \\big\\rangle$)?__\n",
    ">\n",
    ">   &emsp;&emsp;&emsp;&emsp; $\\textrm{deflection} = \\fbox{\\hspace{8em}?}\\ \\left[\\textrm{T}\\right]$\n",
    ">\n",
    ">   (select one:)\n",
    ">\n",
    ">   - [ ] &nbsp; no field present\n",
    ">\n",
    ">   <hr width=\"64%\" style=\"border-top:2px dotted; border-bottom:none\"/>"
   ]
  },
  {
   "cell_type": "code",
   "execution_count": null,
   "id": "f5f8bad0",
   "metadata": {
    "vscode": {
     "languageId": "python"
    }
   },
   "outputs": [],
   "source": []
  },
  {
   "cell_type": "markdown",
   "id": "10628b9a",
   "metadata": {},
   "source": [
    "- [x] no field present"
   ]
  },
  {
   "cell_type": "markdown",
   "id": "bb02b484",
   "metadata": {},
   "source": [
    "<h3 id='7b' style=\"display:none\">(B)</h3>\n",
    "\n",
    ">   <hr width=\"82%\" style=\"border-bottom:2px dashed; border-top:none\"/>\n",
    ">   \n",
    ">   ### &#x2e04;&hairsp;&#x2077;&hairsp;&#x2E05;&hairsp;(B)\n",
    ">\n",
    ">   __What is the direction of the magnetic field at location $P$?__ (select one:)\n",
    ">\n",
    ">   - [ ] &nbsp; $+z$ direction\n",
    ">\n",
    ">   <hr width=\"64%\" style=\"border-top:2px dotted; border-bottom:none\"/>"
   ]
  },
  {
   "cell_type": "markdown",
   "id": "4d4e0b69",
   "metadata": {},
   "source": [
    "- [x] $+z$ direction"
   ]
  },
  {
   "cell_type": "markdown",
   "id": "4c562943",
   "metadata": {},
   "source": [
    "<div style=\"page-break-after: always;\"/> \n",
    "<h2 id='8' style=\"display:none\">[8]</h2>\n",
    "\n",
    ">   ---\n",
    ">   ## [8]*\n",
    ">\n",
    ">   **Magnetic fields in the home**\n",
    ">\n",
    ">   At one time, concern was raised about the possible health effects of the \n",
    ">   small alternating (60 [Hz]) magnetic fields created by electric currents, in\n",
    ">   houses and near power lines.\n",
    ">   \n",
    ">   In a house, most wires carry a maximum of $15$ amperes (there are $15$ [A] \n",
    ">   fuses that melt and break the circuit, if this current is exceeded).\n",
    ">\n",
    ">   The two wires in a home power cord are about $s = 3$ millimeters apart, as \n",
    ">   shown in the figure, and at any instant they carry currents in opposite \n",
    ">   directions (both of which change direction 60 times per second).\n",
    ">\n",
    ">   <img loading='lazy' decoding='async' src=\"data:image/avif;base64,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\" />\n",
    ">\n",
    ">   __<p align='right'>(10 points)</p>__\n",
    ">\n",
    ">   <hr width=\"82%\" style=\"border-top:1px dashed; border-bottom:none\"/>"
   ]
  },
  {
   "cell_type": "markdown",
   "id": "bd68f3ef",
   "metadata": {},
   "source": [
    "<h3 id='8a' style=\"display:none\">(A)</h3>\n",
    "\n",
    ">   <hr width=\"82%\" style=\"border-bottom:2px dashed; border-top:none\"/>\n",
    ">   \n",
    ">   ### &#x2e04;&hairsp;&#x2078;&hairsp;&#x2E05;&hairsp;(A)\n",
    ">\n",
    ">   __Calculate the maximum magnitude of the alternating magnetic field__, \n",
    ">   $d = 45$ [cm] away from the center of a long straight power cord that \n",
    ">   carries a current of $15$ amperes. \n",
    ">   Both wires are at the same height as the observation location. \n",
    ">\n",
    ">   &emsp;&emsp;&emsp;&emsp; $\\fbox{\\hspace{8em}?}\\ \\left[\\textrm{T}\\right]$\n",
    ">\n",
    ">   (The magnitude of the field that you calculate is very small compared to the\n",
    ">   Earth's magnetic field, but there were questions as to whether a very small \n",
    ">   alternating magnetic field might have health effects.\n",
    ">   After many detailed studies, the consensus of most scientists now seems to \n",
    ">   be that these small alternating magnetic fields are not a hazard after all.)\n",
    ">\n",
    ">   <hr width=\"64%\" style=\"border-top:2px dotted; border-bottom:none\"/>"
   ]
  },
  {
   "cell_type": "code",
   "execution_count": null,
   "id": "3598407c",
   "metadata": {
    "vscode": {
     "languageId": "python"
    }
   },
   "outputs": [],
   "source": []
  },
  {
   "cell_type": "markdown",
   "id": "a17b3301",
   "metadata": {},
   "source": [
    "<h3 id='8b' style=\"display:none\">(B)</h3>\n",
    "\n",
    ">   <hr width=\"82%\" style=\"border-bottom:2px dashed; border-top:none\"/>\n",
    ">   \n",
    ">   ### &#x2e04;&hairsp;&#x2078;&hairsp;&#x2E05;&hairsp;(B)\n",
    ">\n",
    ">   Twisting the pair of wires into a braid as shown would minimize the magnetic\n",
    ">   field at the location discussed in Part (A). \n",
    ">\n",
    ">   __Do you see why?__\n",
    ">\n",
    ">   <img loading='lazy' decoding='async' width='480' src=\"data:image/avif;base64,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\" />\n",
    ">\n",
    ">   <hr width=\"64%\" style=\"border-top:2px dotted; border-bottom:none\"/>"
   ]
  },
  {
   "cell_type": "markdown",
   "id": "f3d99e04",
   "metadata": {},
   "source": [
    "<div style=\"page-break-after: always;\"/> \n",
    "<h2 id='9' style=\"display:none\">[9]</h2>\n",
    "\n",
    ">   ---\n",
    ">   ## [9]*\n",
    ">\n",
    ">   A bar magnet is aligned East-West, with its center $38$ [cm] from the center\n",
    ">   of a compass (see figure below). \n",
    ">   The compass is observed to deflect $57^\\circ$ away from North as shown, and \n",
    ">   the horizontal component of the Earth's magnetic field is known to be $2 \\times 10^{-5}$ [T]. \n",
    ">\n",
    ">   <img loading='lazy' decoding='async' src=\"data:image/avif;base64,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\" />\n",
    ">\n",
    ">   __<p align='right'>(10 points)</p>__\n",
    ">\n",
    ">   <hr width=\"82%\" style=\"border-top:1px dashed; border-bottom:none\"/>"
   ]
  },
  {
   "cell_type": "markdown",
   "id": "08fa5b79",
   "metadata": {},
   "source": [
    "<h3 id='9a' style=\"display:none\">(A)</h3>\n",
    "\n",
    ">   <hr width=\"82%\" style=\"border-bottom:2px dashed; border-top:none\"/>\n",
    ">   \n",
    ">   ### &#x2e04;&hairsp;&#x2079;&hairsp;&#x2E05;&hairsp;(A)\n",
    ">\n",
    ">   __Label the N and S poles of the bar magnet and explain your choice.__ \n",
    ">\n",
    ">   (select one:)\n",
    ">\n",
    ">   - [ ] &nbsp; The N pole is on the **right** and the S pole is on the **left**, \n",
    ">                because the N pole of the compass needle points toward magnetic \n",
    ">                **north**.\n",
    ">\n",
    ">   - [ ] &nbsp; The N pole is on the **left** and the S pole is on the **right**,\n",
    ">                because the N pole of the compass needle points toward magnetic \n",
    ">                **south**.\n",
    ">\n",
    ">   - [ ] &nbsp; The N pole is on the **right** and the S pole is on the **left**, \n",
    ">                because the N pole of the compass needle points toward magnetic \n",
    ">                **south**.\n",
    ">\n",
    ">   - [ ] &nbsp; The N pole is on the **left** and the S pole is on the **right**, \n",
    ">                because the N pole of the compass needle points toward magnetic\n",
    ">                **north**.\n",
    ">\n",
    ">   <hr width=\"64%\" style=\"border-top:2px dotted; border-bottom:none\"/>"
   ]
  },
  {
   "cell_type": "markdown",
   "id": "121a1ff8",
   "metadata": {},
   "source": []
  },
  {
   "cell_type": "markdown",
   "id": "e5367424",
   "metadata": {},
   "source": [
    "<h3 id='9b' style=\"display:none\">(B)</h3>\n",
    "\n",
    ">   <hr width=\"82%\" style=\"border-bottom:2px dashed; border-top:none\"/>\n",
    ">   \n",
    ">   ### &#x2e04;&hairsp;&#x2079;&hairsp;&#x2E05;&hairsp;(B)\n",
    ">\n",
    ">   __Determine the magnetic dipole moment of this bar magnet, including correct units.__\n",
    ">\n",
    ">   &emsp;&emsp;&emsp;&emsp; $\\fbox{\\hspace{8em}?}$\n",
    ">\n",
    ">   (select one:)\n",
    ">\n",
    ">   - [ ] &nbsp; $\\left[\\textrm{A}\\cdot\\textrm{m}^2\\right]$\n",
    ">\n",
    ">   <hr width=\"64%\" style=\"border-top:2px dotted; border-bottom:none\"/>"
   ]
  },
  {
   "cell_type": "code",
   "execution_count": null,
   "id": "ef109c73",
   "metadata": {
    "vscode": {
     "languageId": "python"
    }
   },
   "outputs": [],
   "source": []
  },
  {
   "cell_type": "markdown",
   "id": "4c2345e9",
   "metadata": {},
   "source": [
    "- [x] &nbsp; $\\left[\\textrm{A}\\cdot\\textrm{m}^2\\right]$"
   ]
  },
  {
   "cell_type": "markdown",
   "id": "5a173245",
   "metadata": {},
   "source": [
    "<div style=\"page-break-after: always;\"/> \n",
    "<h2 id='10' style=\"display:none\">[10]</h2>\n",
    "\n",
    ">   ---\n",
    ">   ## [10]\n",
    ">\n",
    ">   What is the direction of the magnetic field, at the indicated locations \n",
    ">   (inside and outside), this current-carrying rectangular coil of wire shown \n",
    ">   in the figure? (Direction of conventional current is shown.)\n",
    ">\n",
    ">   <img loading='lazy' decoding='async' src=\"data:image/avif;base64,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\" />\n",
    ">\n",
    ">   __<p align='right'>(0.1 points)</p>__\n",
    ">\n",
    ">   <hr width=\"82%\" style=\"border-top:1px dashed; border-bottom:none\"/>"
   ]
  },
  {
   "cell_type": "markdown",
   "id": "3afd265b",
   "metadata": {},
   "source": [
    "<h3 id='10a' style=\"display:none\">(A)</h3>\n",
    "\n",
    ">   <hr width=\"82%\" style=\"border-bottom:2px dashed; border-top:none\"/>\n",
    ">   \n",
    ">   ### &#x2e04;&hairsp;&#x00B9;&#x2070;&hairsp;&#x2E05;&hairsp;(A)\n",
    ">\n",
    ">   __At the center of the loop__ (select one:)\n",
    ">\n",
    ">   - [ ] &nbsp; It depends on the distance to the wires, could be zero or could be non-zero. \n",
    ">\n",
    ">   - [ ] &nbsp; The magnetic field points into the page. \n",
    ">\n",
    ">   - [ ] &nbsp; The magnetic field points out of the page.\n",
    ">\n",
    ">   - [ ] &nbsp; The magnetic field is zero.\n",
    ">\n",
    ">\n",
    ">   <hr width=\"64%\" style=\"border-top:2px dotted; border-bottom:none\"/>"
   ]
  },
  {
   "cell_type": "markdown",
   "id": "ddfb93c1",
   "metadata": {},
   "source": []
  },
  {
   "cell_type": "markdown",
   "id": "3fb91a4f",
   "metadata": {},
   "source": [
    "<h3 id='10b' style=\"display:none\">(B)</h3>\n",
    "\n",
    ">   <hr width=\"82%\" style=\"border-bottom:2px dashed; border-top:none\"/>\n",
    ">   \n",
    ">   ### &#x2e04;&hairsp;&#x00B9;&#x2070;&hairsp;&#x2E05;&hairsp;(B)\n",
    ">\n",
    ">   __Just outside the loop__ (select one:)\n",
    ">\n",
    ">   - [ ] &nbsp; It depends on the distance to the wires, could be zero or could be non-zero. \n",
    ">\n",
    ">   - [ ] &nbsp; The magnetic field points into the page. \n",
    ">\n",
    ">   - [ ] &nbsp; The magnetic field points out of the page.\n",
    ">\n",
    ">   - [ ] &nbsp; The magnetic field is zero.\n",
    ">\n",
    ">\n",
    ">   <hr width=\"64%\" style=\"border-top:2px dotted; border-bottom:none\"/>"
   ]
  },
  {
   "cell_type": "markdown",
   "id": "1c74cfcc",
   "metadata": {},
   "source": []
  },
  {
   "cell_type": "markdown",
   "id": "a4ccc227",
   "metadata": {},
   "source": [
    "---"
   ]
  }
 ],
 "metadata": {
  "kernelspec": {
   "display_name": "SageMath 10.6",
   "language": "sage",
   "name": "SageMath-10.6"
  },
  "language_info": {
   "codemirror_mode": {
    "name": "ipython",
    "version": 3
   },
   "file_extension": ".py",
   "mimetype": "text/x-python",
   "name": "sage",
   "nbconvert_exporter": "python",
   "pygments_lexer": "ipython3",
   "version": "3.12.5"
  }
 },
 "nbformat": 4,
 "nbformat_minor": 5
}
