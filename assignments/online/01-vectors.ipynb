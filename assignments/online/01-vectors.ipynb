{
 "cells": [
  {
   "cell_type": "markdown",
   "id": "ec73bf8a",
   "metadata": {},
   "source": [
    "# Vectors"
   ]
  },
  {
   "cell_type": "code",
   "execution_count": null,
   "id": "4d87d0c4",
   "metadata": {
    "vscode": {
     "languageId": "python"
    }
   },
   "outputs": [
    {
     "name": "stdout",
     "output_type": "stream",
     "text": [
      "Python: 3.12.5 (main, Feb 25 2025, 12:37:41) [Clang 16.0.0 (clang-1600.0.26.6)]\n"
     ]
    },
    {
     "data": {
      "text/html": [
       "<html>\\(\\displaystyle \\verb|SageMath|\\verb| |\\verb|version|\\verb| |\\verb|10.6,|\\verb| |\\verb|Release|\\verb| |\\verb|Date:|\\verb| |\\verb|2025-03-31|\\)</html>"
      ],
      "text/latex": [
       "$\\displaystyle \\verb|SageMath|\\verb| |\\verb|version|\\verb| |\\verb|10.6,|\\verb| |\\verb|Release|\\verb| |\\verb|Date:|\\verb| |\\verb|2025-03-31|$"
      ],
      "text/plain": [
       "'SageMath version 10.6, Release Date: 2025-03-31'"
      ]
     },
     "execution_count": 1,
     "metadata": {},
     "output_type": "execute_result"
    }
   ],
   "source": [
    "########\n",
    "## Env Setup / Preamble\n",
    "########\n",
    "%load_ext autoreload\n",
    "%autoreload complete \n",
    "\n",
    "%load_ext Cython\n",
    "\n",
    "%display latex\n",
    "\n",
    "################\n",
    "\n",
    "import cython\n",
    "from sage.all import *\n",
    "\n",
    "################\n",
    "\n",
    "import tempfile\n",
    "import mmap\n",
    "from multiprocessing import shared_memory\n",
    "\n",
    "################\n",
    "\n",
    "import numpy as np\n",
    "import scipy.constants\n",
    "\n",
    "np.random.seed( int(scipy.constants.golden_ratio * 1.e6) )\n",
    "\n",
    "from numpy import vectorize\n",
    "from numpy import r_, c_, s_\n",
    "\n",
    "################\n",
    "\n",
    "####    boiler-plate class for named constants\n",
    "from sage.symbolic.constants import Constant\n",
    "class ConstantFromExpression(Constant):\n",
    "    def __init__(self, name, v):\n",
    "        conversions = dict(maxima=repr(maxima.coerce(v)))\n",
    "        Constant.__init__(self, name, conversions=conversions)\n",
    "        self._v = v\n",
    "    def __float__(self): return float(self._v)\n",
    "    def __complex__(self): return complex(self._v)\n",
    "    def _mpfr_(self, R): return R(self._v)\n",
    "    def _real_double_(self, R): return R(self._v)\n",
    "\n",
    "def NamedExpression(name, expr):\n",
    "    return ConstantFromExpression(name,expr).expression()\n",
    "####\n",
    "\n",
    "import sage.symbolic.units as units     # <: TODO\n",
    "\n",
    "π   = NamedExpression('π', scipy.constants.pi)          # pi\n",
    "ε_0 = NamedExpression('ε_0', scipy.constants.epsilon_0) # electric permittivity of vacuum\n",
    "μ_0 = NamedExpression('μ_0', scipy.constants.mu_0)      # magnetic permeability of vacuum\n",
    "\n",
    "𝛋 = 1. / (4 * π * ε_0)      # Coulomb's constant in [ N·m²/C² ]\n",
    "q = NamedExpression('q', -scipy.constants.elementary_charge)\n",
    "\n",
    "ℎ_planck = NamedExpression('ℎ', scipy.constants.Planck)\n",
    "ℏ = NamedExpression('ℏ', scipy.constants.hbar)\n",
    "\n",
    "α = NamedExpression('α', scipy.constants.fine_structure)\n",
    "\n",
    "m_e = NamedExpression('m_e', scipy.constants.electron_mass)\n",
    "m_p = NamedExpression('m_p', scipy.constants.proton_mass)\n",
    "\n",
    "################\n",
    "\n",
    "Parallelism().set(nproc=8)\n",
    "print(f\"Python: {sys.version}\")\n",
    "version()\n"
   ]
  },
  {
   "cell_type": "code",
   "execution_count": 2,
   "id": "6dbb2a79",
   "metadata": {
    "vscode": {
     "languageId": "python"
    }
   },
   "outputs": [
    {
     "name": "stdout",
     "output_type": "stream",
     "text": [
      "The Zen of Python, by Tim Peters\n",
      "\n",
      "Beautiful is better than ugly.\n",
      "Explicit is better than implicit.\n",
      "Simple is better than complex.\n",
      "Complex is better than complicated.\n",
      "Flat is better than nested.\n",
      "Sparse is better than dense.\n",
      "Readability counts.\n",
      "Special cases aren't special enough to break the rules.\n",
      "Although practicality beats purity.\n",
      "Errors should never pass silently.\n",
      "Unless explicitly silenced.\n",
      "In the face of ambiguity, refuse the temptation to guess.\n",
      "There should be one-- and preferably only one --obvious way to do it.\n",
      "Although that way may not be obvious at first unless you're Dutch.\n",
      "Now is better than never.\n",
      "Although never is often better than *right* now.\n",
      "If the implementation is hard to explain, it's a bad idea.\n",
      "If the implementation is easy to explain, it may be a good idea.\n",
      "Namespaces are one honking great idea -- let's do more of those!\n"
     ]
    }
   ],
   "source": [
    "##  sanity check\n",
    "import this\n"
   ]
  },
  {
   "cell_type": "markdown",
   "id": "2e8ec441",
   "metadata": {},
   "source": [
    "---\n",
    "\n",
    "<hr width=\"82%\" style=\"border-top:2px dashed; border-bottom:none\"/>\n",
    "\n",
    "<hr width=\"64%\" style=\"border-top:1px dotted; border-bottom:none\"/>"
   ]
  },
  {
   "cell_type": "markdown",
   "id": "41c486af",
   "metadata": {},
   "source": [
    "<div style=\"page-break-after: always;\"/> \n",
    "\n",
    "---\n",
    "\n",
    "## [01]\n",
    "\n",
    ">   \n",
    ">\n",
    ">   __<p align='right'>(0.1 points)</p>__\n",
    ">\n",
    ">   <hr width=\"82%\" style=\"border-top:1px dashed; border-bottom:none\"/>"
   ]
  },
  {
   "cell_type": "markdown",
   "id": "cb2c4266",
   "metadata": {},
   "source": [
    "<div style=\"page-break-after: always;\"/> \n",
    "\n",
    "---\n",
    "\n",
    "## [02]\n",
    "\n",
    ">\n",
    ">   \n",
    ">\n",
    ">   __<p align='right'>(0.1 points)</p>__\n",
    ">\n",
    ">   <hr width=\"82%\" style=\"border-top:1px dashed; border-bottom:none\"/>"
   ]
  },
  {
   "cell_type": "markdown",
   "id": "ebe6f689",
   "metadata": {},
   "source": [
    "<div style=\"page-break-after: always;\"/> \n",
    "\n",
    "---\n",
    "\n",
    "## [44]\n",
    "\n",
    ">\n",
    ">   \n",
    ">\n",
    ">   __<p align='right'>(0.1 points)</p>__\n",
    ">\n",
    ">   <hr width=\"82%\" style=\"border-top:1px dashed; border-bottom:none\"/>"
   ]
  },
  {
   "cell_type": "markdown",
   "id": "40049ba1",
   "metadata": {},
   "source": [
    "---"
   ]
  }
 ],
 "metadata": {
  "kernelspec": {
   "display_name": "SageMath 10.6",
   "language": "sage",
   "name": "SageMath-10.6"
  },
  "language_info": {
   "codemirror_mode": {
    "name": "ipython",
    "version": 3
   },
   "file_extension": ".py",
   "mimetype": "text/x-python",
   "name": "sage",
   "nbconvert_exporter": "python",
   "pygments_lexer": "ipython3",
   "version": "3.12.5"
  }
 },
 "nbformat": 4,
 "nbformat_minor": 5
}
