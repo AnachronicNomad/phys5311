{
 "cells": [
  {
   "cell_type": "markdown",
   "id": "ec73bf8a",
   "metadata": {},
   "source": [
    "# Vectors\n",
    "\n",
    "Ch 1 Interactions and Motion\n",
    "\n",
    "- §1.4 &ndash; Describing the 3D World: Vectors\n",
    "- §1.7 &ndash; Predicting a new Position"
   ]
  },
  {
   "cell_type": "code",
   "execution_count": 1,
   "id": "4d87d0c4",
   "metadata": {
    "vscode": {
     "languageId": "python"
    }
   },
   "outputs": [
    {
     "name": "stdout",
     "output_type": "stream",
     "text": [
      "Python: 3.12.5 (main, Feb 25 2025, 12:37:41) [Clang 16.0.0 (clang-1600.0.26.6)]\n"
     ]
    },
    {
     "data": {
      "text/html": [
       "<html>\\(\\displaystyle \\verb|SageMath|\\verb| |\\verb|version|\\verb| |\\verb|10.6,|\\verb| |\\verb|Release|\\verb| |\\verb|Date:|\\verb| |\\verb|2025-03-31|\\)</html>"
      ],
      "text/latex": [
       "$\\displaystyle \\verb|SageMath|\\verb| |\\verb|version|\\verb| |\\verb|10.6,|\\verb| |\\verb|Release|\\verb| |\\verb|Date:|\\verb| |\\verb|2025-03-31|$"
      ],
      "text/plain": [
       "'SageMath version 10.6, Release Date: 2025-03-31'"
      ]
     },
     "execution_count": 1,
     "metadata": {},
     "output_type": "execute_result"
    }
   ],
   "source": [
    "########\n",
    "## Env Setup / Preamble\n",
    "########\n",
    "%load_ext autoreload\n",
    "%autoreload complete \n",
    "\n",
    "%load_ext Cython\n",
    "\n",
    "%display latex\n",
    "\n",
    "################\n",
    "\n",
    "import cython\n",
    "from sage.all import *\n",
    "\n",
    "################\n",
    "\n",
    "import tempfile\n",
    "import mmap\n",
    "from multiprocessing import shared_memory\n",
    "\n",
    "################\n",
    "\n",
    "import numpy as np\n",
    "import scipy.constants\n",
    "\n",
    "np.random.seed( int(scipy.constants.golden_ratio * 1.e6) )\n",
    "\n",
    "from numpy import vectorize\n",
    "from numpy import r_, c_, s_\n",
    "\n",
    "################\n",
    "\n",
    "####    boiler-plate class for named constants\n",
    "from sage.symbolic.constants import Constant\n",
    "class ConstantFromExpression(Constant):\n",
    "    def __init__(self, name, v):\n",
    "        conversions = dict(maxima=repr(maxima.coerce(v)))\n",
    "        Constant.__init__(self, name, conversions=conversions)\n",
    "        self._v = v\n",
    "    def __float__(self): return float(self._v)\n",
    "    def __complex__(self): return complex(self._v)\n",
    "    def _mpfr_(self, R): return R(self._v)\n",
    "    def _real_double_(self, R): return R(self._v)\n",
    "\n",
    "def NamedExpression(name, expr):\n",
    "    return ConstantFromExpression(name,expr).expression()\n",
    "####\n",
    "\n",
    "import sage.symbolic.units as units     # <: TODO\n",
    "\n",
    "π   = NamedExpression('π', scipy.constants.pi)          # pi\n",
    "ε_0 = NamedExpression('ε_0', scipy.constants.epsilon_0) # electric permittivity of vacuum\n",
    "μ_0 = NamedExpression('μ_0', scipy.constants.mu_0)      # magnetic permeability of vacuum\n",
    "\n",
    "𝛋 = 1. / (4 * π * ε_0)      # Coulomb's constant in [ N·m²/C² ]\n",
    "q = NamedExpression('q', -scipy.constants.elementary_charge)\n",
    "\n",
    "ℎ_planck = NamedExpression('ℎ', scipy.constants.Planck)\n",
    "ℏ = NamedExpression('ℏ', scipy.constants.hbar)\n",
    "\n",
    "α = NamedExpression('α', scipy.constants.fine_structure)\n",
    "\n",
    "m_e = NamedExpression('m_e', scipy.constants.electron_mass)\n",
    "m_p = NamedExpression('m_p', scipy.constants.proton_mass)\n",
    "\n",
    "################\n",
    "\n",
    "Parallelism().set(nproc=8)\n",
    "print(f\"Python: {sys.version}\")\n",
    "version()\n"
   ]
  },
  {
   "cell_type": "code",
   "execution_count": 2,
   "id": "6dbb2a79",
   "metadata": {
    "vscode": {
     "languageId": "python"
    }
   },
   "outputs": [
    {
     "name": "stdout",
     "output_type": "stream",
     "text": [
      "The Zen of Python, by Tim Peters\n",
      "\n",
      "Beautiful is better than ugly.\n",
      "Explicit is better than implicit.\n",
      "Simple is better than complex.\n",
      "Complex is better than complicated.\n",
      "Flat is better than nested.\n",
      "Sparse is better than dense.\n",
      "Readability counts.\n",
      "Special cases aren't special enough to break the rules.\n",
      "Although practicality beats purity.\n",
      "Errors should never pass silently.\n",
      "Unless explicitly silenced.\n",
      "In the face of ambiguity, refuse the temptation to guess.\n",
      "There should be one-- and preferably only one --obvious way to do it.\n",
      "Although that way may not be obvious at first unless you're Dutch.\n",
      "Now is better than never.\n",
      "Although never is often better than *right* now.\n",
      "If the implementation is hard to explain, it's a bad idea.\n",
      "If the implementation is easy to explain, it may be a good idea.\n",
      "Namespaces are one honking great idea -- let's do more of those!\n"
     ]
    }
   ],
   "source": [
    "##  sanity check\n",
    "import this\n"
   ]
  },
  {
   "cell_type": "markdown",
   "id": "2e8ec441",
   "metadata": {},
   "source": [
    "---\n",
    "\n",
    "<hr width=\"82%\" style=\"border-top:2px dashed; border-bottom:none\"/>\n",
    "\n",
    "<hr width=\"64%\" style=\"border-top:1px dotted; border-bottom:none\"/>"
   ]
  },
  {
   "cell_type": "markdown",
   "id": "41c486af",
   "metadata": {},
   "source": [
    "<div style=\"page-break-after: always;\"/> \n",
    "<h2 id='1' style=\"display:none\">[1]</h2>\n",
    "\n",
    ">   ---\n",
    ">   ## [1]\n",
    ">   \n",
    ">   __Select each__ of the following vectors that is a __unit vector__:\n",
    ">\n",
    ">   - [ ] &emsp; (ⅰ) $\\langle\\ 1, 2, 3\\ \\rangle$\n",
    ">   - [ ] &emsp; (ⅱ) $\\langle\\ 0, 0, 1\\ \\rangle$\n",
    ">   - [ ] &emsp; (ⅲ) $\\langle\\ 1, 1, 1\\ \\rangle$\n",
    ">   - [ ] &emsp; (ⅳ) $\\langle\\ 1, 0, 0\\ \\rangle$\n",
    ">   - [ ] &emsp; (ⅴ) $\\langle\\ 1/\\sqrt{2}, 1/\\sqrt{2}, 0\\ \\rangle$\n",
    ">   - [ ] &emsp; (ⅵ) $\\langle\\ 1, 0, 0\\ \\rangle \\left[\\mathrm{m/s}\\right]$\n",
    ">   - [ ] &emsp; (ⅵ) $\\langle\\ 1/\\sqrt{3}, 1/\\sqrt{3}, 1/\\sqrt{3}\\ \\rangle$\n",
    ">\n",
    ">   __<p align='right'>(0.1 points)</p>__\n",
    ">\n",
    ">   <hr width=\"82%\" style=\"border-top:1px dashed; border-bottom:none\"/>"
   ]
  },
  {
   "cell_type": "markdown",
   "id": "ab3a1884",
   "metadata": {},
   "source": [
    "- [x] &emsp; (ⅱ) \n",
    "- [x] &emsp; (ⅳ) \n",
    "- [x] &emsp; (ⅴ) \n",
    "- [x] &emsp; (ⅵ) \n",
    "- [x] &emsp; (ⅵ) "
   ]
  },
  {
   "cell_type": "markdown",
   "id": "cb2c4266",
   "metadata": {},
   "source": [
    "<div style=\"page-break-after: always;\"/> \n",
    "<h2 id='2' style=\"display:none\">[2]</h2>\n",
    "\n",
    ">   ---\n",
    ">   ## [2]\n",
    ">\n",
    ">   \n",
    ">\n",
    ">   __<p align='right'>(0.1 points)</p>__\n",
    ">\n",
    ">   <hr width=\"82%\" style=\"border-top:1px dashed; border-bottom:none\"/>"
   ]
  },
  {
   "cell_type": "markdown",
   "id": "b824cd85",
   "metadata": {},
   "source": [
    "<h3 id='2a' style=\"display:none\">(A)</h3>\n",
    "\n",
    ">   <hr width=\"82%\" style=\"border-bottom:2px dashed; border-top:none\"/>\n",
    ">\n",
    ">   ### &#x2e04;&hairsp;&#x00b2;&hairsp;&#x2E05;&hairsp;(A)\n",
    ">\n",
    ">   __What__ is the __unit vector__ in the direction of the __vector $\\vec{A} = \\langle\\ 54, -31, -67\\ \\rangle \\left[\\mathrm{cm}\\right]$ ?__\n",
    ">\n",
    ">   <hr width=\"64%\" style=\"border-top:2px dotted; border-bottom:none\"/>"
   ]
  },
  {
   "cell_type": "code",
   "execution_count": 7,
   "id": "9a043f28",
   "metadata": {
    "vscode": {
     "languageId": "python"
    }
   },
   "outputs": [
    {
     "data": {
      "text/html": [
       "<html>\\(\\displaystyle \\left(\\frac{27}{4183} \\, \\sqrt{8366},\\,-\\frac{31}{8366} \\, \\sqrt{8366},\\,-\\frac{67}{8366} \\, \\sqrt{8366}\\right)\\)</html>"
      ],
      "text/latex": [
       "$\\displaystyle \\left(\\frac{27}{4183} \\, \\sqrt{8366},\\,-\\frac{31}{8366} \\, \\sqrt{8366},\\,-\\frac{67}{8366} \\, \\sqrt{8366}\\right)$"
      ],
      "text/plain": [
       "(27/4183*sqrt(8366), -31/8366*sqrt(8366), -67/8366*sqrt(8366))"
      ]
     },
     "execution_count": 7,
     "metadata": {},
     "output_type": "execute_result"
    }
   ],
   "source": [
    "vector(r_[54, -31, -67]).normalized()\n"
   ]
  },
  {
   "cell_type": "markdown",
   "id": "57e70eee",
   "metadata": {},
   "source": [
    "<h3 id='2b' style=\"display:none\">(B)</h3>\n",
    "\n",
    ">   <hr width=\"82%\" style=\"border-bottom:2px dashed; border-top:none\"/>\n",
    ">\n",
    ">   ### &#x2e04;&hairsp;&#x00b2;&hairsp;&#x2E05;&hairsp;(B)\n",
    ">\n",
    ">   What is the vector $\\vec{B}$, in the same direction as $\\vec{A} = \\langle 54, -31, -67\\rangle$ [cm], but with a magnitude of $243$ [cm]?\n",
    ">\n",
    ">   <hr width=\"64%\" style=\"border-top:2px dotted; border-bottom:none\"/>"
   ]
  },
  {
   "cell_type": "code",
   "execution_count": 10,
   "id": "6310d257",
   "metadata": {
    "vscode": {
     "languageId": "python"
    }
   },
   "outputs": [
    {
     "data": {
      "text/html": [
       "<html>\\(\\displaystyle \\left(\\frac{6561}{4183} \\, \\sqrt{8366},\\,-\\frac{7533}{8366} \\, \\sqrt{8366},\\,-\\frac{16281}{8366} \\, \\sqrt{8366}\\right)\\)</html>"
      ],
      "text/latex": [
       "$\\displaystyle \\left(\\frac{6561}{4183} \\, \\sqrt{8366},\\,-\\frac{7533}{8366} \\, \\sqrt{8366},\\,-\\frac{16281}{8366} \\, \\sqrt{8366}\\right)$"
      ],
      "text/plain": [
       "(6561/4183*sqrt(8366), -7533/8366*sqrt(8366), -16281/8366*sqrt(8366))"
      ]
     },
     "execution_count": 10,
     "metadata": {},
     "output_type": "execute_result"
    }
   ],
   "source": [
    "243 * vector(r_[54, -31, -67]).normalized()\n"
   ]
  },
  {
   "cell_type": "markdown",
   "id": "3afe2f3c",
   "metadata": {},
   "source": [
    "<div style=\"page-break-after: always;\"/> \n",
    "<h2 id='3' style=\"display:none\">[3]</h2>\n",
    "\n",
    ">   ---\n",
    ">   ## [3]\n",
    ">\n",
    ">   Select each expression whose result will produce a legal vector: \n",
    ">\n",
    ">   - [ ] &emsp; (ⅰ) $\\frac{\\langle 7, 1, 3\\rangle}{11}$\n",
    ">   - [ ] &emsp; (ⅱ) $4 \\times \\langle 6, 3, 3\\rangle$\n",
    ">   - [ ] &emsp; (ⅲ) $7 + \\langle\\frac{1}{5}, \\frac{2}{7}, -4\\rangle$\n",
    ">   - [ ] &emsp; (ⅳ) $\\frac{1}{\\langle 3, 5, 8\\rangle}$\n",
    ">\n",
    ">   __<p align='right'>(0.1 points)</p>__\n",
    ">\n",
    ">   <hr width=\"82%\" style=\"border-top:1px dashed; border-bottom:none\"/>"
   ]
  },
  {
   "cell_type": "markdown",
   "id": "484986b2",
   "metadata": {
    "vscode": {
     "languageId": "python"
    }
   },
   "source": [
    "- [x] &emsp; (ⅰ) $\\frac{\\langle 7, 1, 3\\rangle}{11}$\n",
    "- [x] &emsp; (ⅱ) $4 \\times \\langle 6, 3, 3\\rangle$\n"
   ]
  },
  {
   "cell_type": "markdown",
   "id": "74bf904b",
   "metadata": {},
   "source": [
    "<div style=\"page-break-after: always;\"/> \n",
    "<h2 id='4' style=\"display:none\">[4]</h2>\n",
    "\n",
    ">   ---\n",
    ">   ## [4]\n",
    ">\n",
    ">   A vector can be factored into a product of its magnitude, times the unit vector. \n",
    ">\n",
    ">   Consider the vector $\\vec{r} = \\langle -10, -28, 23 \\rangle$; and factor it \n",
    ">   into the form  \"number\" times \"unit vector\":\n",
    ">\n",
    ">   $$\\vec{r} = \\left( \\fbox{\\hspace{2em}?} \\right) \\left\\langle \\begin{matrix} \\fbox{\\hspace{4em}?}, \\\\ \\fbox{\\hspace{4em}?}, \\\\ \\fbox{\\hspace{4em}?} \\end{matrix} \\right\\rangle$$\n",
    ">\n",
    ">   __<p align='right'>(0.1 points)</p>__\n",
    ">\n",
    ">   <hr width=\"82%\" style=\"border-top:1px dashed; border-bottom:none\"/>"
   ]
  },
  {
   "cell_type": "markdown",
   "id": "a245e0ef",
   "metadata": {},
   "source": [
    "<div style=\"page-break-after: always;\"/> \n",
    "<h2 id='5' style=\"display:none\">[5]</h2>\n",
    "\n",
    ">   ---\n",
    ">   ## [5]\n",
    ">\n",
    ">   xxx\n",
    ">   \n",
    ">   __<p align='right'>(0.1 points)</p>__\n",
    ">\n",
    ">   <hr width=\"82%\" style=\"border-top:1px dashed; border-bottom:none\"/>"
   ]
  },
  {
   "cell_type": "markdown",
   "id": "3dd5e805",
   "metadata": {},
   "source": [
    "<div style=\"page-break-after: always;\"/> \n",
    "<h2 id='6' style=\"display:none\">[6]</h2>\n",
    "\n",
    ">   ---\n",
    ">   ## [6]\n",
    ">\n",
    ">   If $\\vec{v} = \\langle -2, -7, 2\\rangle$, what is the magnitude of $-0.5 \\vec{v}$?\n",
    ">\n",
    ">   $\\fbox{\\hspace{4em}?} \\left[ \\textrm{m/s} \\right]$\n",
    ">   \n",
    ">   __<p align='right'>(0.1 points)</p>__\n",
    ">\n",
    ">   <hr width=\"82%\" style=\"border-top:1px dashed; border-bottom:none\"/>"
   ]
  },
  {
   "cell_type": "markdown",
   "id": "6c21bdf7",
   "metadata": {},
   "source": [
    "<div style=\"page-break-after: always;\"/> \n",
    "<h2 id='6' style=\"display:none\">[6]</h2>\n",
    "\n",
    ">   ---\n",
    ">   ## [7]\n",
    ">\n",
    ">   Consider the vectors $\\vec{r}_1$ and $\\vec{r}_2$, represented by arrows in the \n",
    ">   figure. \n",
    ">   \n",
    ">   __<p align='right'>(0.1 points)</p>__\n",
    ">\n",
    ">   <hr width=\"82%\" style=\"border-top:1px dashed; border-bottom:none\"/>"
   ]
  },
  {
   "cell_type": "markdown",
   "id": "e1d6a270",
   "metadata": {},
   "source": [
    "<h3 id='7a' style=\"display:none\">(7)</h3>\n",
    "\n",
    ">   <hr width=\"82%\" style=\"border-bottom:2px dashed; border-top:none\"/>\n",
    ">\n",
    ">   ### &#x2e04;&hairsp;&#x2077;&hairsp;&#x2E05;&hairsp;(A)\n",
    ">\n",
    ">   {{ graphic }}\n",
    ">\n",
    ">   Are these two vectors equal?\n",
    ">\n",
    ">   - [ ] &nbsp; Yes\n",
    ">   - [ ] &nbsp; No\n",
    ">\n",
    ">   <hr width=\"64%\" style=\"border-top:2px dotted; border-bottom:none\"/>"
   ]
  },
  {
   "cell_type": "markdown",
   "id": "10ec470c",
   "metadata": {},
   "source": [
    "<h3 id='7b' style=\"display:none\">(8)</h3>\n",
    "\n",
    ">   <hr width=\"82%\" style=\"border-bottom:2px dashed; border-top:none\"/>\n",
    ">\n",
    ">   ### &#x2e04;&hairsp;&#x2077;&hairsp;&#x2E05;&hairsp;(B)\n",
    ">\n",
    ">   If $\\vec{a} = \\langle 300, 600, -300 \\rangle$ [m/s^2], and $\\vec{c} = \\vec{a}$,\n",
    ">   what is the unit vector $\\hat{c}$ in the direction of $\\vec{c}$?\n",
    ">\n",
    ">   $\\hat{c} = \\left\\langle \\fbox{\\hspace{4em}?}, \\fbox{\\hspace{4em}?}, \\fbox{\\hspace{4em}?} \\right\\rangle$\n",
    ">\n",
    ">   <hr width=\"64%\" style=\"border-top:2px dotted; border-bottom:none\"/>"
   ]
  },
  {
   "cell_type": "markdown",
   "id": "47873eaf",
   "metadata": {},
   "source": [
    "<div style=\"page-break-after: always;\"/> \n",
    "<h2 id='8' style=\"display:none\">[8]</h2>\n",
    "\n",
    ">   ---\n",
    ">   ## [8]\n",
    ">\n",
    ">   A proton traveling with a velocity of $\\left\\langle 4 \\times 10^2, 5 \\times 10^2,\n",
    ">   -5\\times 10^2 \\right\\rangle$ [m/s], passes the origin at a time of $6$ [seconds] \n",
    ">   after the proton detector is turned on.  \n",
    ">\n",
    ">   Assuming the velocity of the proton does not change, what will its position\n",
    ">   be, at a time $t = 6.023$ [seconds]?\n",
    ">\n",
    ">   $\\left\\langle \\fbox{\\hspace{4em}?}, \\fbox{\\hspace{4em}?}, \\fbox{\\hspace{4em}?} \\right\\rangle$ [m]\n",
    ">   \n",
    ">   __<p align='right'>(0.1 points)</p>__\n",
    ">\n",
    ">   <hr width=\"82%\" style=\"border-top:1px dashed; border-bottom:none\"/>"
   ]
  },
  {
   "cell_type": "markdown",
   "id": "9f88b48f",
   "metadata": {},
   "source": [
    "<div style=\"page-break-after: always;\"/> \n",
    "<h2 id='8' style=\"display:none\">[8]</h2>\n",
    "\n",
    ">   ---\n",
    ">   ## [8]\n",
    ">\n",
    ">   A proton traveling with a velocity of $\\left\\langle 4 \\times 10^2, 5 \\times 10^2,\n",
    ">   -5\\times 10^2 \\right\\rangle$ [m/s], passes the origin at a time of $6$ [seconds] \n",
    ">   after the proton detector is turned on.  \n",
    ">\n",
    ">   Assuming the velocity of the proton does not change, what will its position\n",
    ">   be, at a time $t = 6.023$ [seconds]?\n",
    ">\n",
    ">   $\\left\\langle \\fbox{\\hspace{4em}?}, \\fbox{\\hspace{4em}?}, \\fbox{\\hspace{4em}?} \\right\\rangle$ [m]\n",
    ">   \n",
    ">   __<p align='right'>(0.1 points)</p>__\n",
    ">\n",
    ">   <hr width=\"82%\" style=\"border-top:1px dashed; border-bottom:none\"/>"
   ]
  },
  {
   "cell_type": "markdown",
   "id": "a741752b",
   "metadata": {},
   "source": [
    "<div style=\"page-break-after: always;\"/> \n",
    "<h2 id='9' style=\"display:none\">[9]</h2>\n",
    "\n",
    ">   ---\n",
    ">   ## [9]\n",
    ">\n",
    ">   A comet travels in an elliptical path around a star, in the direction shown\n",
    ">   in the diagram. \n",
    ">\n",
    ">   {{ graphic }}\n",
    ">\n",
    ">   |   |   |   |\n",
    ">   |:---:|:---:|:---:|\n",
    ">   | 🔲 h | 🔲 a | 🔲 b |\n",
    ">   | 🔲 g | &emsp; | 🔲 c |\n",
    ">   | 🔲 f | 🔲 e | 🔲 d |\n",
    ">\n",
    ">   &emsp; 🔲 j - zero magnitude\n",
    ">   \n",
    ">   Which arrow best indicates the direction, of the comet's velocity vector, at\n",
    ">   each of the following locations in the orbit? \n",
    ">\n",
    ">   - location 1\n",
    ">   - location 2\n",
    ">   - location 3\n",
    ">   - location 4\n",
    ">   - location 5\n",
    ">   \n",
    ">   __<p align='right'>(0.1 points)</p>__\n",
    ">\n",
    ">   <hr width=\"82%\" style=\"border-top:1px dashed; border-bottom:none\"/>"
   ]
  },
  {
   "cell_type": "markdown",
   "id": "f041c25f",
   "metadata": {},
   "source": [
    "<div style=\"page-break-after: always;\"/> \n",
    "<h2 id='44' style=\"display:none\">[44]</h2>\n",
    "\n",
    ">   ---\n",
    ">   ## [44]\n",
    ">\n",
    ">   How many numbers are needed to specify a 3D position vector? \n",
    ">\n",
    ">   $\\fbox{\\hspace{4em}?}$ numbers. \n",
    ">\n",
    ">   __<p align='right'>(0.1 points)</p>__\n",
    ">\n",
    ">   <hr width=\"82%\" style=\"border-top:1px dashed; border-bottom:none\"/>"
   ]
  },
  {
   "cell_type": "markdown",
   "id": "7b3c3a73",
   "metadata": {},
   "source": [
    "<div style=\"page-break-after: always;\"/> \n",
    "<h2 id='44' style=\"display:none\">[44]</h2>\n",
    "\n",
    ">   ---\n",
    ">   ## [44]\n",
    ">\n",
    ">   How many numbers are needed to specify a scalar?\n",
    ">\n",
    ">   $\\fbox{\\hspace{4em}?}$ numbers. \n",
    ">\n",
    ">   __<p align='right'>(0.1 points)</p>__\n",
    ">\n",
    ">   <hr width=\"82%\" style=\"border-top:1px dashed; border-bottom:none\"/>"
   ]
  },
  {
   "cell_type": "markdown",
   "id": "50af8782",
   "metadata": {},
   "source": [
    "<div style=\"page-break-after: always;\"/> \n",
    "<h2 id='44' style=\"display:none\">[44]</h2>\n",
    "\n",
    ">   ---\n",
    ">   ## [44]\n",
    ">\n",
    ">   If $\\vec{r} = \\left\\langle -4, -6, 2 \\right\\rangle$, find $\\|\\vec{r}\\|$.\n",
    ">\n",
    ">   $\\fbox{\\hspace{4em}?}$ [m]\n",
    ">\n",
    ">   __<p align='right'>(0.1 points)</p>__\n",
    ">\n",
    ">   <hr width=\"82%\" style=\"border-top:1px dashed; border-bottom:none\"/>"
   ]
  },
  {
   "cell_type": "markdown",
   "id": "d8cad310",
   "metadata": {},
   "source": [
    "<div style=\"page-break-after: always;\"/> \n",
    "<h2 id='44' style=\"display:none\">[44]</h2>\n",
    "\n",
    ">   ---\n",
    ">   ## [44]\n",
    ">\n",
    ">   Select (checkbox) all of the expressions below that are possible. \n",
    ">\n",
    ">   - [ ] &nbsp; $\\|\\vec{v}\\| > 0$\n",
    ">\n",
    ">   - [ ] &nbsp; $\\|\\vec{v}\\| < 0$\n",
    ">\n",
    ">   - [ ] &nbsp; $\\|\\vec{v}\\| = 0$\n",
    ">\n",
    ">\n",
    ">   __<p align='right'>(0.1 points)</p>__\n",
    ">\n",
    ">   <hr width=\"82%\" style=\"border-top:1px dashed; border-bottom:none\"/>"
   ]
  },
  {
   "cell_type": "markdown",
   "id": "3faa510a",
   "metadata": {},
   "source": [
    "<div style=\"page-break-after: always;\"/> \n",
    "<h2 id='44' style=\"display:none\">[44]</h2>\n",
    "\n",
    ">   ---\n",
    ">   ## [44]\n",
    ">\n",
    ">   The vector $\\vec{g} = \\left\\langle 2, -8, 4 \\right\\rangle$, and the scalar $h = -2$. \n",
    ">\n",
    ">   What is $h + \\vec{g}$?\n",
    ">\n",
    ">   (select one:)\n",
    ">\n",
    ">   - [ ] &nbsp; $\\langle 4, -6, 6 \\rangle$\n",
    ">\n",
    ">   - [ ] &nbsp; $\\langle 0, -10, 2 \\rangle$\n",
    ">\n",
    ">   - [ ] This is a meaningless expression, because a scalar cannot be added to a vector. \n",
    ">\n",
    ">   - [ ] $\\langle -4, 16, -8 \\rangle$\n",
    ">\n",
    ">   - [ ] $\\langle -1, 4, -2 \\rangle$\n",
    ">\n",
    ">   __<p align='right'>(0.1 points)</p>__\n",
    ">\n",
    ">   <hr width=\"82%\" style=\"border-top:1px dashed; border-bottom:none\"/>"
   ]
  },
  {
   "cell_type": "markdown",
   "id": "44a1e5fe",
   "metadata": {},
   "source": [
    "<div style=\"page-break-after: always;\"/> \n",
    "<h2 id='44' style=\"display:none\">[44]</h2>\n",
    "\n",
    ">   ---\n",
    ">   ## [44]\n",
    ">\n",
    ">   What is the value of $4 / \\langle 2, -7, 6 \\rangle$? \n",
    ">\n",
    ">   (select one:)\n",
    ">\n",
    ">   - [ ] &nbsp; $\\langle 8, -28, 24 \\rangle$\n",
    ">\n",
    ">   - [ ] &nbsp; $\\langle 6, -3, 10 \\rangle$\n",
    ">\n",
    ">   - [ ] $\\langle -2, 11, -2 \\rangle$\n",
    ">\n",
    ">   - [ ] This is a meaningless expression, because a scalar cannot be divide by a vector. \n",
    ">\n",
    ">   - [ ] $\\langle 0.5, -1.75, 1.5 \\rangle$\n",
    ">\n",
    ">   __<p align='right'>(0.1 points)</p>__\n",
    ">\n",
    ">   <hr width=\"82%\" style=\"border-top:1px dashed; border-bottom:none\"/>"
   ]
  },
  {
   "cell_type": "markdown",
   "id": "40667049",
   "metadata": {},
   "source": [
    "<div style=\"page-break-after: always;\"/> \n",
    "<h2 id='44' style=\"display:none\">[44]</h2>\n",
    "\n",
    ">   ---\n",
    ">   ## [44]\n",
    ">\n",
    ">   If $\\vec{a} = \\langle 1, -1, 5 \\rangle$, then what is $3\\vec{a}$? \n",
    ">\n",
    ">   How does the magnitude of $3\\vec{a}$ compare to the magnitude of $\\vec{a}$?\n",
    ">\n",
    ">   (select one:)\n",
    ">\n",
    ">   How does the magnitude of $3\\vec{a}$ compare to the magnitude of $\\vec{a}$?. \n",
    ">\n",
    ">   - [ ] &nbsp; Not enough information is given.\n",
    ">\n",
    ">   - [ ] &nbsp; The magnitude of $3\\vec{a}$ is zero. \n",
    ">\n",
    ">   - [ ] &nbsp; The magnitude of $3\\vec{a}$ is a factor of $3$ greater than the magnitude of $\\vec{a}$. \n",
    ">\n",
    ">   - [ ] &nbsp; The magnitude of $3\\vec{a}$ is the same as the magnitude of $\\vec{a}$. \n",
    ">\n",
    ">   - [ ] &nbsp; The magnitude of $3\\vec{a}$ is a factor of $3$ less than the magnitude of $\\vec{a}$. \n",
    ">\n",
    ">   __<p align='right'>(0.1 points)</p>__\n",
    ">\n",
    ">   <hr width=\"82%\" style=\"border-top:1px dashed; border-bottom:none\"/>"
   ]
  },
  {
   "cell_type": "markdown",
   "id": "563c5c60",
   "metadata": {},
   "source": [
    "<div style=\"page-break-after: always;\"/> \n",
    "<h2 id='44' style=\"display:none\">[44]</h2>\n",
    "\n",
    ">   ---\n",
    ">   ## [44]\n",
    ">\n",
    ">   If $\\vec{a} = \\langle 1, -1, 5 \\rangle$, then what is $3\\vec{a}$? \n",
    ">\n",
    ">   How does the magnitude of $3\\vec{a}$ compare to the magnitude of $\\vec{a}$?\n",
    ">\n",
    ">   (select one:)\n",
    ">\n",
    ">   How does the magnitude of $3\\vec{a}$ compare to the magnitude of $\\vec{a}$?. \n",
    ">\n",
    ">   - [ ] &nbsp; Not enough information is given.\n",
    ">\n",
    ">   - [ ] &nbsp; The magnitude of $3\\vec{a}$ is zero. \n",
    ">\n",
    ">   - [ ] &nbsp; The magnitude of $3\\vec{a}$ is a factor of $3$ greater than the magnitude of $\\vec{a}$. \n",
    ">\n",
    ">   - [ ] &nbsp; The magnitude of $3\\vec{a}$ is the same as the magnitude of $\\vec{a}$. \n",
    ">\n",
    ">   - [ ] &nbsp; The magnitude of $3\\vec{a}$ is a factor of $3$ less than the magnitude of $\\vec{a}$. \n",
    ">\n",
    ">   __<p align='right'>(0.1 points)</p>__\n",
    ">\n",
    ">   <hr width=\"82%\" style=\"border-top:1px dashed; border-bottom:none\"/>"
   ]
  },
  {
   "cell_type": "markdown",
   "id": "16f7f9a8",
   "metadata": {},
   "source": [
    "<div style=\"page-break-after: always;\"/> \n",
    "<h2 id='17' style=\"display:none\">[17]</h2>\n",
    "\n",
    ">   ---\n",
    ">   ## [17]\n",
    ">\n",
    ">   How does the magnitude of the vector $-\\vec{a}$ compare to the magnitude of \n",
    ">   the vector $\\vec{a}$?\n",
    ">\n",
    ">   - [ ] &nbsp; You can't take the magnitude of $-\\vec{a}$. \n",
    ">\n",
    ">   - [ ] &nbsp; The magnitude of $-\\vec{a}$ is $-1$ times the magnitude of $\\vec{a}$.\n",
    ">\n",
    ">   - [ ] &nbsp; The two magnitudes are equal. \n",
    ">\n",
    ">\n",
    ">   __<p align='right'>(0.1 points)</p>__\n",
    ">\n",
    ">   <hr width=\"82%\" style=\"border-top:1px dashed; border-bottom:none\"/>"
   ]
  },
  {
   "cell_type": "markdown",
   "id": "707ae4fd",
   "metadata": {},
   "source": [
    "<div style=\"page-break-after: always;\"/> \n",
    "<h2 id='17' style=\"display:none\">[17]</h2>\n",
    "\n",
    ">   ---\n",
    ">   ## [18]\n",
    ">\n",
    ">\n",
    ">   __<p align='right'>(0.1 points)</p>__\n",
    ">\n",
    ">   <hr width=\"82%\" style=\"border-top:1px dashed; border-bottom:none\"/>"
   ]
  },
  {
   "cell_type": "markdown",
   "id": "2b9401a5",
   "metadata": {},
   "source": [
    "<h3 id='7a' style=\"display:none\">(7)</h3>\n",
    "\n",
    ">   <hr width=\"82%\" style=\"border-bottom:2px dashed; border-top:none\"/>\n",
    ">\n",
    ">   ### &#x2e04;&hairsp;&#x2077;&hairsp;&#x2E05;&hairsp;(A)\n",
    ">\n",
    ">   What is the unit vector in the direction of $\\vec{r} = \\langle 0, 7, 0 \\rangle$?\n",
    ">\n",
    ">   <hr width=\"64%\" style=\"border-top:2px dotted; border-bottom:none\"/>"
   ]
  },
  {
   "cell_type": "markdown",
   "id": "58052a44",
   "metadata": {},
   "source": [
    "<h3 id='7a' style=\"display:none\">(7)</h3>\n",
    "\n",
    ">   <hr width=\"82%\" style=\"border-bottom:2px dashed; border-top:none\"/>\n",
    ">\n",
    ">   ### &#x2e04;&hairsp;&#x2077;&hairsp;&#x2E05;&hairsp;(A)\n",
    ">\n",
    ">   What is the unit vector in the direction of $\\vec{r} = \\langle 0, 0, -7 \\rangle$?\n",
    ">\n",
    ">   <hr width=\"64%\" style=\"border-top:2px dotted; border-bottom:none\"/>"
   ]
  },
  {
   "cell_type": "markdown",
   "id": "33e36116",
   "metadata": {},
   "source": [
    "<div style=\"page-break-after: always;\"/> \n",
    "<h2 id='17' style=\"display:none\">[17]</h2>\n",
    "\n",
    ">   ---\n",
    ">   ## [18]\n",
    ">\n",
    ">   What is the unit vector $\\hat{a}$ in the direction of $\\vec{a}$, where \n",
    ">   $\\vec{a} = \\langle 400, 700, -300 \\rangle$ [m/s^2]\n",
    ">\n",
    ">   __<p align='right'>(0.1 points)</p>__\n",
    ">\n",
    ">   <hr width=\"82%\" style=\"border-top:1px dashed; border-bottom:none\"/>"
   ]
  },
  {
   "cell_type": "markdown",
   "id": "f787ce71",
   "metadata": {},
   "source": [
    "<div style=\"page-break-after: always;\"/> \n",
    "<h2 id='17' style=\"display:none\">[17]</h2>\n",
    "\n",
    ">   ---\n",
    ">   ## [18]\n",
    ">\n",
    ">   If $\\vec{a} = \\langle -3, 3, 7 \\rangle$, and $\\vec{b} = \\vec{a}$, what is the \n",
    ">   $y$-component of $\\vec{b}$?\n",
    ">\n",
    ">   <hr width=\"82%\" style=\"border-top:1px dashed; border-bottom:none\"/>"
   ]
  },
  {
   "cell_type": "markdown",
   "id": "885b1cad",
   "metadata": {},
   "source": [
    "<div style=\"page-break-after: always;\"/> \n",
    "<h2 id='17' style=\"display:none\">[17]</h2>\n",
    "\n",
    ">   ---\n",
    ">   ## [21]\n",
    ">\n",
    ">   Consider the vectors:\n",
    ">\n",
    ">   - $\\vec{F}_1 = \\langle 700, 0, -300 \\rangle$, and \n",
    ">   - $\\vec{F}_2 = \\langle -400, 0, 200 \\rangle$\n",
    ">\n",
    ">   <hr width=\"82%\" style=\"border-top:1px dashed; border-bottom:none\"/>"
   ]
  },
  {
   "cell_type": "markdown",
   "id": "534700b5",
   "metadata": {},
   "source": [
    "<h3 id='7a' style=\"display:none\">(7)</h3>\n",
    "\n",
    ">   <hr width=\"82%\" style=\"border-bottom:2px dashed; border-top:none\"/>\n",
    ">\n",
    ">   ### &#x2e04;&hairsp;&#x2077;&hairsp;&#x2E05;&hairsp;(A)\n",
    ">\n",
    ">   What is the magnitude of $\\vec{F}_1$?\n",
    ">\n",
    ">   <hr width=\"64%\" style=\"border-top:2px dotted; border-bottom:none\"/>"
   ]
  },
  {
   "cell_type": "markdown",
   "id": "64c072e7",
   "metadata": {},
   "source": [
    "<h3 id='7a' style=\"display:none\">(7)</h3>\n",
    "\n",
    ">   <hr width=\"82%\" style=\"border-bottom:2px dashed; border-top:none\"/>\n",
    ">\n",
    ">   ### &#x2e04;&hairsp;&#x2077;&hairsp;&#x2E05;&hairsp;(A)\n",
    ">\n",
    ">   What is the magnitude of $\\vec{F}_2$?\n",
    ">\n",
    ">   <hr width=\"64%\" style=\"border-top:2px dotted; border-bottom:none\"/>"
   ]
  },
  {
   "cell_type": "markdown",
   "id": "9e8d450a",
   "metadata": {},
   "source": [
    "<h3 id='7a' style=\"display:none\">(7)</h3>\n",
    "\n",
    ">   <hr width=\"82%\" style=\"border-bottom:2px dashed; border-top:none\"/>\n",
    ">\n",
    ">   ### &#x2e04;&hairsp;&#x2077;&hairsp;&#x2E05;&hairsp;(A)\n",
    ">\n",
    ">   What is the magnitude of $\\left(\\vec{F}_1 + \\vec{F}_2\\right)$?\n",
    ">\n",
    ">   <hr width=\"64%\" style=\"border-top:2px dotted; border-bottom:none\"/>"
   ]
  },
  {
   "cell_type": "markdown",
   "id": "9a345f0f",
   "metadata": {},
   "source": [
    "<h3 id='7a' style=\"display:none\">(7)</h3>\n",
    "\n",
    ">   <hr width=\"82%\" style=\"border-bottom:2px dashed; border-top:none\"/>\n",
    ">\n",
    ">   ### &#x2e04;&hairsp;&#x2077;&hairsp;&#x2E05;&hairsp;(A)\n",
    ">\n",
    ">   What is the magnitude of $\\vec{F}_1$, plus the magnitude of $\\vec{F}_2$?\n",
    ">\n",
    ">   <hr width=\"64%\" style=\"border-top:2px dotted; border-bottom:none\"/>"
   ]
  },
  {
   "cell_type": "markdown",
   "id": "54ae5168",
   "metadata": {},
   "source": [
    "<h3 id='7a' style=\"display:none\">(7)</h3>\n",
    "\n",
    ">   <hr width=\"82%\" style=\"border-bottom:2px dashed; border-top:none\"/>\n",
    ">\n",
    ">   ### &#x2e04;&hairsp;&#x2077;&hairsp;&#x2E05;&hairsp;(A)\n",
    ">\n",
    ">   Is $\\|\\vec{F}_1 + \\vec{F}_2\\| = \\|\\vec{F}_1\\| + \\|\\vec{F}_2\\|$?\n",
    ">\n",
    ">   <hr width=\"64%\" style=\"border-top:2px dotted; border-bottom:none\"/>"
   ]
  },
  {
   "cell_type": "markdown",
   "id": "bdedf379",
   "metadata": {},
   "source": [
    "<div style=\"page-break-after: always;\"/> \n",
    "<h2 id='17' style=\"display:none\">[17]</h2>\n",
    "\n",
    ">   ---\n",
    ">   ## [21]\n",
    ">\n",
    ">   - $\\vec{A}_1 = \\langle 800, 600, -800 \\rangle$, and \n",
    ">   - $\\vec{B}_2 = \\langle -200, -200, 150 \\rangle$\n",
    ">\n",
    ">   Calculate the following: \n",
    ">\n",
    ">   <hr width=\"82%\" style=\"border-top:1px dashed; border-bottom:none\"/>"
   ]
  },
  {
   "cell_type": "markdown",
   "id": "8087dd39",
   "metadata": {},
   "source": [
    "<h3 id='7a' style=\"display:none\">(7)</h3>\n",
    "\n",
    ">   <hr width=\"82%\" style=\"border-bottom:2px dashed; border-top:none\"/>\n",
    ">\n",
    ">   ### &#x2e04;&hairsp;&#x2077;&hairsp;&#x2E05;&hairsp;(A)\n",
    ">\n",
    ">   $\\vec{A} + \\vec{B}$\n",
    ">\n",
    ">   <hr width=\"64%\" style=\"border-top:2px dotted; border-bottom:none\"/>"
   ]
  },
  {
   "cell_type": "markdown",
   "id": "fe6da119",
   "metadata": {},
   "source": [
    "<h3 id='7a' style=\"display:none\">(7)</h3>\n",
    "\n",
    ">   <hr width=\"82%\" style=\"border-bottom:2px dashed; border-top:none\"/>\n",
    ">\n",
    ">   ### &#x2e04;&hairsp;&#x2077;&hairsp;&#x2E05;&hairsp;(A)\n",
    ">\n",
    ">   $\\|\\vec{A} + \\vec{B}\\|$\n",
    ">\n",
    ">   <hr width=\"64%\" style=\"border-top:2px dotted; border-bottom:none\"/>"
   ]
  },
  {
   "cell_type": "markdown",
   "id": "a9f3d649",
   "metadata": {},
   "source": [
    "<h3 id='7a' style=\"display:none\">(7)</h3>\n",
    "\n",
    ">   <hr width=\"82%\" style=\"border-bottom:2px dashed; border-top:none\"/>\n",
    ">\n",
    ">   ### &#x2e04;&hairsp;&#x2077;&hairsp;&#x2E05;&hairsp;(A)\n",
    ">\n",
    ">   $\\|\\vec{A}\\|$\n",
    ">\n",
    ">   <hr width=\"64%\" style=\"border-top:2px dotted; border-bottom:none\"/>"
   ]
  },
  {
   "cell_type": "markdown",
   "id": "d270386c",
   "metadata": {},
   "source": [
    "<h3 id='7a' style=\"display:none\">(7)</h3>\n",
    "\n",
    ">   <hr width=\"82%\" style=\"border-bottom:2px dashed; border-top:none\"/>\n",
    ">\n",
    ">   ### &#x2e04;&hairsp;&#x2077;&hairsp;&#x2E05;&hairsp;(A)\n",
    ">\n",
    ">   $\\|\\vec{B}\\|$\n",
    ">\n",
    ">   <hr width=\"64%\" style=\"border-top:2px dotted; border-bottom:none\"/>"
   ]
  },
  {
   "cell_type": "markdown",
   "id": "8105d6d0",
   "metadata": {},
   "source": [
    "<h3 id='7a' style=\"display:none\">(7)</h3>\n",
    "\n",
    ">   <hr width=\"82%\" style=\"border-bottom:2px dashed; border-top:none\"/>\n",
    ">\n",
    ">   ### &#x2e04;&hairsp;&#x2077;&hairsp;&#x2E05;&hairsp;(A)\n",
    ">\n",
    ">   $\\|\\vec{A}\\| + \\|\\vec{B}\\|$\n",
    ">\n",
    ">   <hr width=\"64%\" style=\"border-top:2px dotted; border-bottom:none\"/>"
   ]
  },
  {
   "cell_type": "markdown",
   "id": "c4512b3c",
   "metadata": {},
   "source": [
    "<div style=\"page-break-after: always;\"/> \n",
    "<h2 id='44' style=\"display:none\">[44]</h2>\n",
    "\n",
    ">   ---\n",
    ">   ## [23]\n",
    ">\n",
    ">   A snail is initially at location $\\vec{r}_1 = \\langle -6, 3, -6 \\rangle$.\n",
    ">\n",
    ">   At a later time, the snail has crawled to location $\\vec{r}_2 = \\langle 2, -4, 4 \\rangle$ [m].\n",
    ">\n",
    ">   What is $\\Delta \\vec{r}$, the change in the snail's position?\n",
    ">\n",
    ">   __<p align='right'>(0.1 points)</p>__\n",
    ">\n",
    ">   <hr width=\"82%\" style=\"border-top:1px dashed; border-bottom:none\"/>"
   ]
  },
  {
   "cell_type": "markdown",
   "id": "8e1c2404",
   "metadata": {},
   "source": [
    "<div style=\"page-break-after: always;\"/> \n",
    "<h2 id='44' style=\"display:none\">[44]</h2>\n",
    "\n",
    ">   ---\n",
    ">   ## [23]\n",
    ">\n",
    ">   Which of the following are vectors? \n",
    ">\n",
    ">   (select all that apply:)\n",
    ">\n",
    ">   - [ ] &nbsp; $\\langle 0, 2.3, -1 \\rangle$\n",
    ">   - [ ] &nbsp; $3.5$\n",
    ">   - [ ] &nbsp; $-3 \\times 10^{-6}$\n",
    ">   - [ ] &nbsp; $5 \\cdot \\langle 0, 2.3, -1 \\rangle$\n",
    ">   - [ ] &nbsp; $0$\n",
    ">   - [ ] &nbsp; $\\langle 0.7, 0.7, -0.7 \\rangle$\n",
    ">\n",
    ">   __<p align='right'>(0.1 points)</p>__\n",
    ">\n",
    ">   <hr width=\"82%\" style=\"border-top:1px dashed; border-bottom:none\"/>"
   ]
  },
  {
   "cell_type": "markdown",
   "id": "2a957817",
   "metadata": {},
   "source": [
    "<div style=\"page-break-after: always;\"/> \n",
    "<h2 id='44' style=\"display:none\">[44]</h2>\n",
    "\n",
    ">   ---\n",
    ">   ## [23]\n",
    ">\n",
    ">   If $\\vec{p} = \\langle -6, 8, 3 \\rangle$, what is $6 + \\vec{p}$?\n",
    ">\n",
    ">   - [ ] &nbsp; This is a meaningless expression, because a scalar cannot be added to a vector. \n",
    ">\n",
    ">   - [ ] &nbsp; $\\langle -36, 48, 18 \\rangle$\n",
    ">   - [ ] &nbsp; $\\langle -1.00, 1.33, 0.500 \\rangle$\n",
    ">   - [ ] &nbsp; $\\langle 0, 14, 9 \\rangle$\n",
    ">   - [ ] &nbsp; $\\langle -12, 2, -3 \\rangle$\n",
    ">\n",
    ">   __<p align='right'>(0.1 points)</p>__\n",
    ">\n",
    ">   <hr width=\"82%\" style=\"border-top:1px dashed; border-bottom:none\"/>"
   ]
  },
  {
   "cell_type": "markdown",
   "id": "36b58de5",
   "metadata": {},
   "source": [
    "<div style=\"page-break-after: always;\"/> \n",
    "<h2 id='44' style=\"display:none\">[44]</h2>\n",
    "\n",
    ">   ---\n",
    ">   ## [23]\n",
    ">\n",
    ">   Which of the following are unit vectors? (Note: Numerical values are given\n",
    ">   only to 3 significant figures.)\n",
    ">\n",
    ">   (select all that apply:)\n",
    ">\n",
    ">   - [ ] &nbsp; $\\langle 0, 0, -1\\rangle$\n",
    ">   - [ ] &nbsp; $\\langle 0.372, -0.557, 0.743 \\rangle$\n",
    ">   - [ ] &nbsp; $\\langle 0.949, 0, -0.316 \\rangle$\n",
    ">   - [ ] &nbsp; $\\langle 0.9, 0, 0.1 \\rangle$\n",
    ">   - [ ] &nbsp; $\\langle 0.5, 0.5, 0 \\rangle$\n",
    ">   - [ ] &nbsp; $\\langle 1, 1, 1 \\rangle$\n",
    ">   - [ ] &nbsp; $\\langle 0.333, 0.333, 0.333 \\rangle$\n",
    ">\n",
    ">   __<p align='right'>(0.1 points)</p>__\n",
    ">\n",
    ">   <hr width=\"82%\" style=\"border-top:1px dashed; border-bottom:none\"/>"
   ]
  },
  {
   "cell_type": "markdown",
   "id": "8ad95c7f",
   "metadata": {},
   "source": [
    "<div style=\"page-break-after: always;\"/> \n",
    "<h2 id='44' style=\"display:none\">[44]</h2>\n",
    "\n",
    ">   ---\n",
    ">   ## [23]\n",
    ">\n",
    ">   Two vectors, $\\vec{r}$ and $\\vec{c}$, are equal: $\\vec{r} = \\vec{c}$. \n",
    ">\n",
    ">   Which of the following statements are true? Select all that apply. \n",
    ">\n",
    ">   - [ ] &nbsp; The $z$-component of $\\vec{r}$ must be equal to the $z$-component of $\\vec{c}$. \n",
    ">   - [ ] &nbsp; The unit vector $\\hat{r}$ must be equal to the unit vector $\\hat{c}$. \n",
    ">   - [ ] &nbsp; The directions of $\\vec{r}$ and $\\vec{c}$ may be different. \n",
    ">   - [ ] &nbsp; The $x$-component of $\\vec{r}$ must be equal to the $x$-component of $\\vec{c}$.\n",
    ">   - [ ] &nbsp; The $y$-component of $\\vec{r}$ must be equal to the $y$-component of $\\vec{c}$. \n",
    ">   - [ ] &nbsp; The magnitudes of $\\vec{r}$ and $\\vec{c}$ may be different. \n",
    ">\n",
    ">   __<p align='right'>(0.1 points)</p>__\n",
    ">\n",
    ">   <hr width=\"82%\" style=\"border-top:1px dashed; border-bottom:none\"/>"
   ]
  },
  {
   "cell_type": "markdown",
   "id": "72c08d96",
   "metadata": {},
   "source": [
    "<div style=\"page-break-after: always;\"/> \n",
    "<h2 id='44' style=\"display:none\">[44]</h2>\n",
    "\n",
    ">   ---\n",
    ">   ## [23]\n",
    ">\n",
    ">   Read these questions carefully. They are not the same. \n",
    ">\n",
    ">   {{ graphic }}\n",
    ">\n",
    ">   __<p align='right'>(0.1 points)</p>__\n",
    ">\n",
    ">   <hr width=\"82%\" style=\"border-top:1px dashed; border-bottom:none\"/>"
   ]
  },
  {
   "cell_type": "markdown",
   "id": "b4bd27e4",
   "metadata": {},
   "source": [
    "<h3 id='7a' style=\"display:none\">(7)</h3>\n",
    "\n",
    ">   <hr width=\"82%\" style=\"border-bottom:2px dashed; border-top:none\"/>\n",
    ">\n",
    ">   ### &#x2e04;&hairsp;&#x2077;&hairsp;&#x2E05;&hairsp;(A)\n",
    ">\n",
    ">   Which of the vectors in the diagram have magnitudes (approximately) equal to\n",
    ">   the magnitude of $\\vec{a}$? \n",
    ">\n",
    ">   (select all that apply:)\n",
    ">\n",
    ">   - [ ] &nbsp; $\\vec{f}$\n",
    ">   - [ ] &nbsp; $\\vec{d}$\n",
    ">   - [ ] &nbsp; $\\vec{b}$\n",
    ">   - [ ] &nbsp; $\\vec{g}$\n",
    ">   - [ ] &nbsp; $\\vec{e}$\n",
    ">   - [ ] &nbsp; $\\vec{c}$\n",
    ">\n",
    ">   <hr width=\"64%\" style=\"border-top:2px dotted; border-bottom:none\"/>"
   ]
  },
  {
   "cell_type": "markdown",
   "id": "9cb55382",
   "metadata": {},
   "source": [
    "<h3 id='7a' style=\"display:none\">(7)</h3>\n",
    "\n",
    ">   <hr width=\"82%\" style=\"border-bottom:2px dashed; border-top:none\"/>\n",
    ">\n",
    ">   ### &#x2e04;&hairsp;&#x2077;&hairsp;&#x2E05;&hairsp;(A)\n",
    ">\n",
    ">   Which of the vectors in the diagram are equal to $\\vec{a}$? \n",
    ">\n",
    ">   (select all that apply:)\n",
    ">\n",
    ">   - [ ] &nbsp; $\\vec{c}$\n",
    ">   - [ ] &nbsp; $\\vec{b}$\n",
    ">   - [ ] &nbsp; $\\vec{e}$\n",
    ">   - [ ] &nbsp; $\\vec{d}$\n",
    ">   - [ ] &nbsp; $\\vec{g}$\n",
    ">   - [ ] &nbsp; $\\vec{f}$\n",
    ">\n",
    ">   <hr width=\"64%\" style=\"border-top:2px dotted; border-bottom:none\"/>"
   ]
  },
  {
   "cell_type": "markdown",
   "id": "8f9944e2",
   "metadata": {},
   "source": [
    "<div style=\"page-break-after: always;\"/> \n",
    "<h2 id='44' style=\"display:none\">[44]</h2>\n",
    "\n",
    ">   ---\n",
    ">   ## [23]\n",
    ">\n",
    ">   What is the magnitude of the vector $\\vec{v}$, where $\\vec{v} = 7.7 \\times 10^6, 0, -3.6 \\times 10^7$ [m/s].\n",
    ">\n",
    ">   __<p align='right'>(0.1 points)</p>__\n",
    ">\n",
    ">   <hr width=\"82%\" style=\"border-top:1px dashed; border-bottom:none\"/>"
   ]
  },
  {
   "cell_type": "markdown",
   "id": "7c918d94",
   "metadata": {},
   "source": [
    "<div style=\"page-break-after: always;\"/> \n",
    "<h2 id='44' style=\"display:none\">[44]</h2>\n",
    "\n",
    ">   ---\n",
    ">   ## [29]\n",
    ">\n",
    ">   What is the magnitude of the vector $\\vec{v}$, where $\\vec{v} = 7.7 \\times 10^6, 0, -3.6 \\times 10^7$ [m/s].\n",
    ">\n",
    ">   __<p align='right'>(0.1 points)</p>__\n",
    ">\n",
    ">   <hr width=\"82%\" style=\"border-top:1px dashed; border-bottom:none\"/>"
   ]
  },
  {
   "cell_type": "markdown",
   "id": "90bcff2d",
   "metadata": {},
   "source": [
    "<div style=\"page-break-after: always;\"/> \n",
    "<h2 id='44' style=\"display:none\">[44]</h2>\n",
    "\n",
    ">   ---\n",
    ">   ## [29]\n",
    ">\n",
    ">   In the diagram below, three vectors are represented by arrows in the $xy$-plane. \n",
    ">   \n",
    ">   Each division represents $1$ meter. \n",
    ">\n",
    ">   {{ graphic }}\n",
    ">\n",
    ">   __<p align='right'>(0.1 points)</p>__\n",
    ">\n",
    ">   <hr width=\"82%\" style=\"border-top:1px dashed; border-bottom:none\"/>"
   ]
  },
  {
   "cell_type": "markdown",
   "id": "a5bdc18e",
   "metadata": {},
   "source": [
    "<h3 id='7a' style=\"display:none\">(7)</h3>\n",
    "\n",
    ">   <hr width=\"82%\" style=\"border-bottom:2px dashed; border-top:none\"/>\n",
    ">\n",
    ">   ### &#x2e04;&hairsp;&#x2077;&hairsp;&#x2E05;&hairsp;(A)\n",
    ">\n",
    ">   What are the components of the vector $\\vec{a}$?\n",
    ">\n",
    ">   <hr width=\"64%\" style=\"border-top:2px dotted; border-bottom:none\"/>"
   ]
  },
  {
   "cell_type": "markdown",
   "id": "8f6323c9",
   "metadata": {},
   "source": [
    "<h3 id='7a' style=\"display:none\">(7)</h3>\n",
    "\n",
    ">   <hr width=\"82%\" style=\"border-bottom:2px dashed; border-top:none\"/>\n",
    ">\n",
    ">   ### &#x2e04;&hairsp;&#x2077;&hairsp;&#x2E05;&hairsp;(A)\n",
    ">\n",
    ">   What is the magnitude of the vector $\\vec{a}$, $\\|\\vec{a}\\|$?\n",
    ">\n",
    ">   <hr width=\"64%\" style=\"border-top:2px dotted; border-bottom:none\"/>"
   ]
  },
  {
   "cell_type": "markdown",
   "id": "700b6ffe",
   "metadata": {},
   "source": [
    "<h3 id='7a' style=\"display:none\">(7)</h3>\n",
    "\n",
    ">   <hr width=\"82%\" style=\"border-bottom:2px dashed; border-top:none\"/>\n",
    ">\n",
    ">   ### &#x2e04;&hairsp;&#x2077;&hairsp;&#x2E05;&hairsp;(A)\n",
    ">\n",
    ">   What are the components of the vector $\\vec{c}$?\n",
    ">\n",
    ">   <hr width=\"64%\" style=\"border-top:2px dotted; border-bottom:none\"/>"
   ]
  },
  {
   "cell_type": "markdown",
   "id": "2d53550b",
   "metadata": {},
   "source": [
    "<h3 id='7a' style=\"display:none\">(7)</h3>\n",
    "\n",
    ">   <hr width=\"82%\" style=\"border-bottom:2px dashed; border-top:none\"/>\n",
    ">\n",
    ">   ### &#x2e04;&hairsp;&#x2077;&hairsp;&#x2E05;&hairsp;(A)\n",
    ">\n",
    ">   What is the magnitude of the vector $\\vec{c}$?\n",
    ">\n",
    ">   <hr width=\"64%\" style=\"border-top:2px dotted; border-bottom:none\"/>"
   ]
  },
  {
   "cell_type": "markdown",
   "id": "d77a0bf4",
   "metadata": {},
   "source": [
    "<h3 id='7a' style=\"display:none\">(7)</h3>\n",
    "\n",
    ">   <hr width=\"82%\" style=\"border-bottom:2px dashed; border-top:none\"/>\n",
    ">\n",
    ">   ### &#x2e04;&hairsp;&#x2077;&hairsp;&#x2E05;&hairsp;(A)\n",
    ">\n",
    ">   What are the components of the vector $\\vec{g}$?\n",
    ">\n",
    ">   <hr width=\"64%\" style=\"border-top:2px dotted; border-bottom:none\"/>"
   ]
  },
  {
   "cell_type": "markdown",
   "id": "41e52c44",
   "metadata": {},
   "source": [
    "<h3 id='7a' style=\"display:none\">(7)</h3>\n",
    "\n",
    ">   <hr width=\"82%\" style=\"border-bottom:2px dashed; border-top:none\"/>\n",
    ">\n",
    ">   ### &#x2e04;&hairsp;&#x2077;&hairsp;&#x2E05;&hairsp;(A)\n",
    ">\n",
    ">   What is the magnitude of the vector $\\vec{g}$?\n",
    ">\n",
    ">   <hr width=\"64%\" style=\"border-top:2px dotted; border-bottom:none\"/>"
   ]
  },
  {
   "cell_type": "markdown",
   "id": "2fcea4a9",
   "metadata": {},
   "source": [
    "<div style=\"page-break-after: always;\"/> \n",
    "<h2 id='44' style=\"display:none\">[44]</h2>\n",
    "\n",
    ">   ---\n",
    ">   ## [44]\n",
    ">\n",
    ">   The following questions refer to the vectors depicted by arrows, in the figure below. \n",
    ">\n",
    ">   {{ graphic }}\n",
    ">\n",
    ">   __<p align='right'>(0.1 points)</p>__\n",
    ">\n",
    ">   <hr width=\"82%\" style=\"border-top:1px dashed; border-bottom:none\"/>"
   ]
  },
  {
   "cell_type": "markdown",
   "id": "c96073e3",
   "metadata": {},
   "source": [
    "<h3 id='7a' style=\"display:none\">(7)</h3>\n",
    "\n",
    ">   <hr width=\"82%\" style=\"border-bottom:2px dashed; border-top:none\"/>\n",
    ">\n",
    ">   ### &#x2e04;&hairsp;&#x2077;&hairsp;&#x2E05;&hairsp;(A)\n",
    ">\n",
    ">   What are the components of the vector $\\vec{a}$?\n",
    ">\n",
    ">   Note that since the vector lies in the $xy$-plane, its $z$-component is zero. \n",
    ">\n",
    ">   Express your answer in vector form. \n",
    ">\n",
    ">   <hr width=\"64%\" style=\"border-top:2px dotted; border-bottom:none\"/>"
   ]
  },
  {
   "cell_type": "markdown",
   "id": "3a0a43f5",
   "metadata": {},
   "source": [
    "<h3 id='7a' style=\"display:none\">(7)</h3>\n",
    "\n",
    ">   <hr width=\"82%\" style=\"border-bottom:2px dashed; border-top:none\"/>\n",
    ">\n",
    ">   ### &#x2e04;&hairsp;&#x2077;&hairsp;&#x2E05;&hairsp;(A)\n",
    ">\n",
    ">   What are the components of the vector $\\vec{b}$?\n",
    ">\n",
    ">   (Express your answer in vector form.)\n",
    ">\n",
    ">   <hr width=\"64%\" style=\"border-top:2px dotted; border-bottom:none\"/>"
   ]
  },
  {
   "cell_type": "markdown",
   "id": "e2b7e15b",
   "metadata": {},
   "source": [
    "<h3 id='7a' style=\"display:none\">(7)</h3>\n",
    "\n",
    ">   <hr width=\"82%\" style=\"border-bottom:2px dashed; border-top:none\"/>\n",
    ">\n",
    ">   ### &#x2e04;&hairsp;&#x2077;&hairsp;&#x2E05;&hairsp;(A)\n",
    ">\n",
    ">   Is this statement `true` or `false`?\n",
    ">\n",
    ">   $\\vec{a} = \\vec{b}$\n",
    ">\n",
    ">   - [ ] &nbsp; True\n",
    ">   - [ ] &nbsp; False\n",
    ">\n",
    ">   <hr width=\"64%\" style=\"border-top:2px dotted; border-bottom:none\"/>"
   ]
  },
  {
   "cell_type": "markdown",
   "id": "f27d86e3",
   "metadata": {},
   "source": [
    "<h3 id='7a' style=\"display:none\">(7)</h3>\n",
    "\n",
    ">   <hr width=\"82%\" style=\"border-bottom:2px dashed; border-top:none\"/>\n",
    ">\n",
    ">   ### &#x2e04;&hairsp;&#x2077;&hairsp;&#x2E05;&hairsp;(A)\n",
    ">\n",
    ">   What are the components of the vector $\\vec{c}$?\n",
    ">\n",
    ">   (Express your answers in vector form.)\n",
    ">\n",
    ">   <hr width=\"64%\" style=\"border-top:2px dotted; border-bottom:none\"/>"
   ]
  },
  {
   "cell_type": "markdown",
   "id": "40f34581",
   "metadata": {},
   "source": [
    "<h3 id='7a' style=\"display:none\">(7)</h3>\n",
    "\n",
    ">   <hr width=\"82%\" style=\"border-bottom:2px dashed; border-top:none\"/>\n",
    ">\n",
    ">   ### &#x2e04;&hairsp;&#x2077;&hairsp;&#x2E05;&hairsp;(A)\n",
    ">\n",
    ">   Is this statement true or false?\n",
    ">\n",
    ">   $\\vec{c} = -\\vec{a}$\n",
    ">\n",
    ">   - [ ] &nbsp; True\n",
    ">   - [ ] &nbsp; False\n",
    ">\n",
    ">   <hr width=\"64%\" style=\"border-top:2px dotted; border-bottom:none\"/>"
   ]
  },
  {
   "cell_type": "markdown",
   "id": "2bfd2fb2",
   "metadata": {},
   "source": [
    "<h3 id='7a' style=\"display:none\">(7)</h3>\n",
    "\n",
    ">   <hr width=\"82%\" style=\"border-bottom:2px dashed; border-top:none\"/>\n",
    ">\n",
    ">   ### &#x2e04;&hairsp;&#x2077;&hairsp;&#x2E05;&hairsp;(A)\n",
    ">\n",
    ">   What are the components of the vector $\\vec{d}$?\n",
    ">\n",
    ">   (Express your answers in vector form.)\n",
    ">\n",
    ">   <hr width=\"64%\" style=\"border-top:2px dotted; border-bottom:none\"/>"
   ]
  },
  {
   "cell_type": "markdown",
   "id": "b242abff",
   "metadata": {},
   "source": [
    "<h3 id='7a' style=\"display:none\">(7)</h3>\n",
    "\n",
    ">   <hr width=\"82%\" style=\"border-bottom:2px dashed; border-top:none\"/>\n",
    ">\n",
    ">   ### &#x2e04;&hairsp;&#x2077;&hairsp;&#x2E05;&hairsp;(A)\n",
    ">\n",
    ">   Is this statement true or false?\n",
    ">\n",
    ">   $\\vec{d} = -\\vec{c}$\n",
    ">\n",
    ">   - [ ] &nbsp; True\n",
    ">   - [ ] &nbsp; False\n",
    ">\n",
    ">   <hr width=\"64%\" style=\"border-top:2px dotted; border-bottom:none\"/>"
   ]
  },
  {
   "cell_type": "markdown",
   "id": "10fb3306",
   "metadata": {},
   "source": [
    "<div style=\"page-break-after: always;\"/> \n",
    "<h2 id='44' style=\"display:none\">[44]</h2>\n",
    "\n",
    ">   ---\n",
    ">   ## [32]\n",
    ">\n",
    ">   ...\n",
    ">\n",
    ">   __<p align='right'>(0.1 points)</p>__\n",
    ">\n",
    ">   <hr width=\"82%\" style=\"border-top:1px dashed; border-bottom:none\"/>"
   ]
  },
  {
   "cell_type": "markdown",
   "id": "ec6b564b",
   "metadata": {},
   "source": [
    "<div style=\"page-break-after: always;\"/> \n",
    "<h2 id='44' style=\"display:none\">[44]</h2>\n",
    "\n",
    ">   ---\n",
    ">   ## [44]\n",
    ">\n",
    ">   What is the result of multiplying the vector $\\vec{a}$ by the scalar $f$,\n",
    ">   where $\\vec{a} = \\langle 0.04, -1.6, 20 \\rangle$ and $f = 9.0$.\n",
    ">\n",
    ">   (Express your answer in vector form.)\n",
    ">\n",
    ">   __<p align='right'>(0.1 points)</p>__\n",
    ">\n",
    ">   <hr width=\"82%\" style=\"border-top:1px dashed; border-bottom:none\"/>"
   ]
  },
  {
   "cell_type": "markdown",
   "id": "fc965546",
   "metadata": {},
   "source": [
    "<div style=\"page-break-after: always;\"/> \n",
    "<h2 id='44' style=\"display:none\">[44]</h2>\n",
    "\n",
    ">   ---\n",
    ">   ## [44]\n",
    ">\n",
    ">   In the following figure, let $a = 3$ [m], $b = 3$ [m], $c = 2$ [m]. \n",
    ">\n",
    ">   {{ graphic }}\n",
    ">\n",
    ">   __<p align='right'>(0.1 points)</p>__\n",
    ">\n",
    ">   <hr width=\"82%\" style=\"border-top:1px dashed; border-bottom:none\"/>"
   ]
  },
  {
   "cell_type": "markdown",
   "id": "0f1e3625",
   "metadata": {},
   "source": [
    "<h3 id='7a' style=\"display:none\">(7)</h3>\n",
    "\n",
    ">   <hr width=\"82%\" style=\"border-bottom:2px dashed; border-top:none\"/>\n",
    ">\n",
    ">   ### &#x2e04;&hairsp;&#x2077;&hairsp;&#x2E05;&hairsp;(A)\n",
    ">\n",
    ">   In the figure above, what are the components of the vector $\\vec{d}$?\n",
    ">\n",
    ">   Express your answer in vector form. \n",
    ">\n",
    ">   <hr width=\"64%\" style=\"border-top:2px dotted; border-bottom:none\"/>"
   ]
  },
  {
   "cell_type": "markdown",
   "id": "81755dc4",
   "metadata": {},
   "source": [
    "<h3 id='7a' style=\"display:none\">(7)</h3>\n",
    "\n",
    ">   <hr width=\"82%\" style=\"border-bottom:2px dashed; border-top:none\"/>\n",
    ">\n",
    ">   ### &#x2e04;&hairsp;&#x2077;&hairsp;&#x2E05;&hairsp;(A)\n",
    ">\n",
    ">   If $\\vec{e} = -\\vec{d}$, what are the components of $\\vec{e}$?\n",
    ">\n",
    ">   Express your answer in vector form. \n",
    ">\n",
    ">   <hr width=\"64%\" style=\"border-top:2px dotted; border-bottom:none\"/>"
   ]
  },
  {
   "cell_type": "markdown",
   "id": "3cda28f8",
   "metadata": {},
   "source": [
    "<h3 id='7a' style=\"display:none\">(7)</h3>\n",
    "\n",
    ">   <hr width=\"82%\" style=\"border-bottom:2px dashed; border-top:none\"/>\n",
    ">\n",
    ">   ### &#x2e04;&hairsp;&#x2077;&hairsp;&#x2E05;&hairsp;(A)\n",
    ">\n",
    ">   If the tail of vector $\\vec{d}$ were moved to location $\\langle -5, -2, 4 \\rangle$, where would the tip of the vector be located? \n",
    ">\n",
    ">   <hr width=\"64%\" style=\"border-top:2px dotted; border-bottom:none\"/>"
   ]
  },
  {
   "cell_type": "markdown",
   "id": "c637a312",
   "metadata": {},
   "source": [
    "<h3 id='7a' style=\"display:none\">(7)</h3>\n",
    "\n",
    ">   <hr width=\"82%\" style=\"border-bottom:2px dashed; border-top:none\"/>\n",
    ">\n",
    ">   ### &#x2e04;&hairsp;&#x2077;&hairsp;&#x2E05;&hairsp;(A)\n",
    ">\n",
    ">   If the tail of vector $-\\vec{d}$ were placed at location $\\langle -1, -1, -1 \\rangle$ [m], where would the tip of the vector be located? \n",
    ">\n",
    ">   <hr width=\"64%\" style=\"border-top:2px dotted; border-bottom:none\"/>"
   ]
  },
  {
   "cell_type": "markdown",
   "id": "dbc2b8fc",
   "metadata": {},
   "source": [
    "<div style=\"page-break-after: always;\"/> \n",
    "<h2 id='44' style=\"display:none\">[44]</h2>\n",
    "\n",
    ">   ---\n",
    ">   ## [35]\n",
    ">\n",
    ">   __<p align='right'>(0.1 points)</p>__\n",
    ">\n",
    ">   <hr width=\"82%\" style=\"border-top:1px dashed; border-bottom:none\"/>"
   ]
  },
  {
   "cell_type": "markdown",
   "id": "d2c5eaf5",
   "metadata": {},
   "source": [
    "<h3 id='7a' style=\"display:none\">(7)</h3>\n",
    "\n",
    ">   <hr width=\"82%\" style=\"border-bottom:2px dashed; border-top:none\"/>\n",
    ">\n",
    ">   ### &#x2e04;&hairsp;&#x2077;&hairsp;&#x2E05;&hairsp;(A)\n",
    ">\n",
    ">   What is the unit vector in the direction of $\\langle 2, 2, 2 \\rangle$?\n",
    ">\n",
    ">   Express your answer in vector form. \n",
    ">\n",
    ">   <hr width=\"64%\" style=\"border-top:2px dotted; border-bottom:none\"/>"
   ]
  },
  {
   "cell_type": "markdown",
   "id": "44746350",
   "metadata": {},
   "source": [
    "<h3 id='7a' style=\"display:none\">(7)</h3>\n",
    "\n",
    ">   <hr width=\"82%\" style=\"border-bottom:2px dashed; border-top:none\"/>\n",
    ">\n",
    ">   ### &#x2e04;&hairsp;&#x2077;&hairsp;&#x2E05;&hairsp;(A)\n",
    ">\n",
    ">   What is the unit vector in the direction of $\\langle 4.1, 4.1, 4.1 \\rangle$?\n",
    ">\n",
    ">   Express your answer in vector form. \n",
    ">\n",
    ">   <hr width=\"64%\" style=\"border-top:2px dotted; border-bottom:none\"/>"
   ]
  },
  {
   "cell_type": "markdown",
   "id": "6738f095",
   "metadata": {},
   "source": [
    "<div style=\"page-break-after: always;\"/> \n",
    "<h2 id='44' style=\"display:none\">[44]</h2>\n",
    "\n",
    ">   ---\n",
    ">   ## [36]\n",
    ">\n",
    ">   Any vector can be written as a unit vector, multiplied by the magnitude of \n",
    ">   the vector (a positive scalar). \n",
    ">\n",
    ">   Write each of the following vectors, as the magnitude of the vector times \n",
    ">   the appropriate unit vector. \n",
    ">\n",
    ">   __<p align='right'>(0.1 points)</p>__\n",
    ">\n",
    ">   <hr width=\"82%\" style=\"border-top:1px dashed; border-bottom:none\"/>"
   ]
  },
  {
   "cell_type": "markdown",
   "id": "8d24a6f4",
   "metadata": {},
   "source": [
    "<h3 id='7a' style=\"display:none\">(7)</h3>\n",
    "\n",
    ">   <hr width=\"82%\" style=\"border-bottom:2px dashed; border-top:none\"/>\n",
    ">\n",
    ">   ### &#x2e04;&hairsp;&#x2077;&hairsp;&#x2E05;&hairsp;(A)\n",
    ">\n",
    ">   $\\langle 0, 0, 3.7 \\rangle = $\n",
    ">\n",
    ">   <hr width=\"64%\" style=\"border-top:2px dotted; border-bottom:none\"/>"
   ]
  },
  {
   "cell_type": "markdown",
   "id": "cec1e69f",
   "metadata": {},
   "source": [
    "<h3 id='7a' style=\"display:none\">(7)</h3>\n",
    "\n",
    ">   <hr width=\"82%\" style=\"border-bottom:2px dashed; border-top:none\"/>\n",
    ">\n",
    ">   ### &#x2e04;&hairsp;&#x2077;&hairsp;&#x2E05;&hairsp;(A)\n",
    ">\n",
    ">   $\\langle 0, -695, 0 \\rangle = $\n",
    ">\n",
    ">   <hr width=\"64%\" style=\"border-top:2px dotted; border-bottom:none\"/>"
   ]
  },
  {
   "cell_type": "markdown",
   "id": "bdbd7a76",
   "metadata": {},
   "source": [
    "<h3 id='7a' style=\"display:none\">(7)</h3>\n",
    "\n",
    ">   <hr width=\"82%\" style=\"border-bottom:2px dashed; border-top:none\"/>\n",
    ">\n",
    ">   ### &#x2e04;&hairsp;&#x2077;&hairsp;&#x2E05;&hairsp;(A)\n",
    ">\n",
    ">   $\\langle 4\\times 10^6, -8 \\times 10^6, 5 \\times 10^6 \\rangle = $\n",
    ">\n",
    ">   <hr width=\"64%\" style=\"border-top:2px dotted; border-bottom:none\"/>"
   ]
  },
  {
   "cell_type": "markdown",
   "id": "36b317c4",
   "metadata": {},
   "source": [
    "<div style=\"page-break-after: always;\"/> \n",
    "<h2 id='44' style=\"display:none\">[44]</h2>\n",
    "\n",
    ">   ---\n",
    ">   ## [37]\n",
    ">\n",
    ">   A proton is located at $6 \\times 10^{-10}, -4 \\times 10^{-10}, -7 \\times 10^{-10}$ [m].\n",
    ">\n",
    ">   __<p align='right'>(0.1 points)</p>__\n",
    ">\n",
    ">   <hr width=\"82%\" style=\"border-top:1px dashed; border-bottom:none\"/>"
   ]
  },
  {
   "cell_type": "markdown",
   "id": "14cd6711",
   "metadata": {},
   "source": [
    "<h3 id='7a' style=\"display:none\">(7)</h3>\n",
    "\n",
    ">   <hr width=\"82%\" style=\"border-bottom:2px dashed; border-top:none\"/>\n",
    ">\n",
    ">   ### &#x2e04;&hairsp;&#x2077;&hairsp;&#x2E05;&hairsp;(A)\n",
    ">\n",
    ">   What is $\\vec{r}$, the vector from the origin to the location of the proton? \n",
    ">\n",
    ">   <hr width=\"64%\" style=\"border-top:2px dotted; border-bottom:none\"/>"
   ]
  },
  {
   "cell_type": "markdown",
   "id": "fc5ca1ca",
   "metadata": {},
   "source": [
    "<h3 id='7a' style=\"display:none\">(7)</h3>\n",
    "\n",
    ">   <hr width=\"82%\" style=\"border-bottom:2px dashed; border-top:none\"/>\n",
    ">\n",
    ">   ### &#x2e04;&hairsp;&#x2077;&hairsp;&#x2E05;&hairsp;(A)\n",
    ">\n",
    ">   What is the magnitude of $\\vec{r}$?\n",
    ">\n",
    ">   <hr width=\"64%\" style=\"border-top:2px dotted; border-bottom:none\"/>"
   ]
  },
  {
   "cell_type": "markdown",
   "id": "d305c3ec",
   "metadata": {},
   "source": [
    "<h3 id='7a' style=\"display:none\">(7)</h3>\n",
    "\n",
    ">   <hr width=\"82%\" style=\"border-bottom:2px dashed; border-top:none\"/>\n",
    ">\n",
    ">   ### &#x2e04;&hairsp;&#x2077;&hairsp;&#x2E05;&hairsp;(A)\n",
    ">\n",
    ">   What is $\\hat{r}$, the unit vector (vector with magnitude 1), in the direction \n",
    ">   of $\\vec{r}$?\n",
    ">\n",
    ">   <hr width=\"64%\" style=\"border-top:2px dotted; border-bottom:none\"/>"
   ]
  },
  {
   "cell_type": "markdown",
   "id": "0df05618",
   "metadata": {},
   "source": [
    "<div style=\"page-break-after: always;\"/> \n",
    "<h2 id='44' style=\"display:none\">[44]</h2>\n",
    "\n",
    ">   ---\n",
    ">   ## [38]\n",
    ">\n",
    ">   In the figure below, the vector $\\vec{r}_1$ points to the location of object 1,\n",
    ">   and $\\vec{r}_2$ points to the location of object 2. \n",
    ">\n",
    ">   Both vectors lie in the $xy$-plane. \n",
    ">\n",
    ">   Express your answers in vector form. \n",
    ">\n",
    ">   __<p align='right'>(0.1 points)</p>__\n",
    ">\n",
    ">   <hr width=\"82%\" style=\"border-top:1px dashed; border-bottom:none\"/>"
   ]
  },
  {
   "cell_type": "markdown",
   "id": "c0034e78",
   "metadata": {},
   "source": [
    "<h3 id='7a' style=\"display:none\">(7)</h3>\n",
    "\n",
    ">   <hr width=\"82%\" style=\"border-bottom:2px dashed; border-top:none\"/>\n",
    ">\n",
    ">   ### &#x2e04;&hairsp;&#x2077;&hairsp;&#x2E05;&hairsp;(A)\n",
    ">\n",
    ">   Calculate the position of object 2 relative to object 1, as a relative position\n",
    ">   vector. \n",
    ">\n",
    ">   $\\vec{r}_{21} = $\n",
    ">\n",
    ">   <hr width=\"64%\" style=\"border-top:2px dotted; border-bottom:none\"/>"
   ]
  },
  {
   "cell_type": "markdown",
   "id": "4e4c4af5",
   "metadata": {},
   "source": [
    "<h3 id='7a' style=\"display:none\">(7)</h3>\n",
    "\n",
    ">   <hr width=\"82%\" style=\"border-bottom:2px dashed; border-top:none\"/>\n",
    ">\n",
    ">   ### &#x2e04;&hairsp;&#x2077;&hairsp;&#x2E05;&hairsp;(A)\n",
    ">\n",
    ">   Calculate the position of object 1 relative to object 2, as a relative position\n",
    ">   vector. \n",
    ">\n",
    ">   $\\vec{r}_{12} = $\n",
    ">\n",
    ">   <hr width=\"64%\" style=\"border-top:2px dotted; border-bottom:none\"/>"
   ]
  },
  {
   "cell_type": "markdown",
   "id": "ebe6f689",
   "metadata": {},
   "source": [
    "<div style=\"page-break-after: always;\"/> \n",
    "<h2 id='44' style=\"display:none\">[44]</h2>\n",
    "\n",
    ">   ---\n",
    ">   ## [44]\n",
    ">\n",
    ">   \n",
    ">\n",
    ">   __<p align='right'>(0.1 points)</p>__\n",
    ">\n",
    ">   <hr width=\"82%\" style=\"border-top:1px dashed; border-bottom:none\"/>"
   ]
  },
  {
   "cell_type": "markdown",
   "id": "40049ba1",
   "metadata": {},
   "source": [
    "---"
   ]
  }
 ],
 "metadata": {
  "kernelspec": {
   "display_name": "SageMath 10.6",
   "language": "sage",
   "name": "SageMath-10.6"
  },
  "language_info": {
   "codemirror_mode": {
    "name": "ipython",
    "version": 3
   },
   "file_extension": ".py",
   "mimetype": "text/x-python",
   "name": "sage",
   "nbconvert_exporter": "python",
   "pygments_lexer": "ipython3",
   "version": "3.12.5"
  }
 },
 "nbformat": 4,
 "nbformat_minor": 5
}
