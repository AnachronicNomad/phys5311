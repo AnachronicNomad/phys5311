{
 "cells": [
  {
   "cell_type": "markdown",
   "id": "caabcbe5",
   "metadata": {},
   "source": [
    "# Voltage 1\n",
    "\n",
    "M&I \n",
    "\n",
    "Ch. 16 Electric Potential\n",
    "\n",
    "- §16.1 &ndash; A Review of Potential Energy\n",
    "- §16.3 &ndash; Potential Difference in a Uniform Field\n",
    "- §16.5 &ndash; Potential Difference in a Non-Uniform Field\n",
    "- §16.6 &ndash; Path Independence"
   ]
  },
  {
   "cell_type": "code",
   "execution_count": null,
   "id": "4d87d0c4",
   "metadata": {},
   "outputs": [
    {
     "name": "stdout",
     "output_type": "stream",
     "text": [
      "Python: 3.12.5 (main, Feb 25 2025, 12:37:41) [Clang 16.0.0 (clang-1600.0.26.6)]\n"
     ]
    },
    {
     "data": {
      "text/html": [
       "<html>\\(\\displaystyle \\verb|SageMath|\\verb| |\\verb|version|\\verb| |\\verb|10.6,|\\verb| |\\verb|Release|\\verb| |\\verb|Date:|\\verb| |\\verb|2025-03-31|\\)</html>"
      ],
      "text/latex": [
       "$\\displaystyle \\verb|SageMath|\\verb| |\\verb|version|\\verb| |\\verb|10.6,|\\verb| |\\verb|Release|\\verb| |\\verb|Date:|\\verb| |\\verb|2025-03-31|$"
      ],
      "text/plain": [
       "'SageMath version 10.6, Release Date: 2025-03-31'"
      ]
     },
     "execution_count": 1,
     "metadata": {},
     "output_type": "execute_result"
    }
   ],
   "source": [
    "########\n",
    "## Env Setup / Preamble\n",
    "########\n",
    "%load_ext autoreload\n",
    "%autoreload complete \n",
    "\n",
    "%load_ext Cython\n",
    "\n",
    "%display latex\n",
    "\n",
    "################\n",
    "\n",
    "import cython\n",
    "from sage.all import *\n",
    "\n",
    "################\n",
    "\n",
    "import tempfile\n",
    "import mmap\n",
    "from multiprocessing import shared_memory\n",
    "\n",
    "################\n",
    "\n",
    "import numpy as np\n",
    "import scipy.constants\n",
    "\n",
    "np.random.seed( int(scipy.constants.golden_ratio * 1.e6) )\n",
    "\n",
    "from numpy import vectorize\n",
    "from numpy import r_, c_, s_\n",
    "\n",
    "################\n",
    "\n",
    "####    boiler-plate class for named constants\n",
    "from sage.symbolic.constants import Constant\n",
    "class ConstantFromExpression(Constant):\n",
    "    def __init__(self, name, v):\n",
    "        conversions = dict(maxima=repr(maxima.coerce(v)))\n",
    "        Constant.__init__(self, name, conversions=conversions)\n",
    "        self._v = v\n",
    "    def __float__(self): return float(self._v)\n",
    "    def __complex__(self): return complex(self._v)\n",
    "    def _mpfr_(self, R): return R(self._v)\n",
    "    def _real_double_(self, R): return R(self._v)\n",
    "\n",
    "def NamedExpression(name, expr):\n",
    "    return ConstantFromExpression(name,expr).expression()\n",
    "####\n",
    "\n",
    "import sage.symbolic.units as units     # <: TODO\n",
    "\n",
    "π   = NamedExpression('π', scipy.constants.pi)          # pi\n",
    "ε_0 = NamedExpression('ε_0', scipy.constants.epsilon_0) # electric permittivity of vacuum\n",
    "μ_0 = NamedExpression('μ_0', scipy.constants.mu_0)      # magnetic permeability of vacuum\n",
    "\n",
    "𝛋 = 1. / (4 * π * ε_0)      # Coulomb's constant in [ N·m²/C² ]\n",
    "q = NamedExpression('q', -scipy.constants.elementary_charge)\n",
    "\n",
    "ℎ_planck = NamedExpression('ℎ', scipy.constants.Planck)\n",
    "ℏ = NamedExpression('ℏ', scipy.constants.hbar)\n",
    "\n",
    "α = NamedExpression('α', scipy.constants.fine_structure)\n",
    "\n",
    "m_e = NamedExpression('m_e', scipy.constants.electron_mass)\n",
    "m_p = NamedExpression('m_p', scipy.constants.proton_mass)\n",
    "\n",
    "################\n",
    "\n",
    "Parallelism().set(nproc=8)\n",
    "print(f\"Python: {sys.version}\")\n",
    "version()\n"
   ]
  },
  {
   "cell_type": "code",
   "execution_count": 2,
   "id": "6dbb2a79",
   "metadata": {},
   "outputs": [
    {
     "name": "stdout",
     "output_type": "stream",
     "text": [
      "The Zen of Python, by Tim Peters\n",
      "\n",
      "Beautiful is better than ugly.\n",
      "Explicit is better than implicit.\n",
      "Simple is better than complex.\n",
      "Complex is better than complicated.\n",
      "Flat is better than nested.\n",
      "Sparse is better than dense.\n",
      "Readability counts.\n",
      "Special cases aren't special enough to break the rules.\n",
      "Although practicality beats purity.\n",
      "Errors should never pass silently.\n",
      "Unless explicitly silenced.\n",
      "In the face of ambiguity, refuse the temptation to guess.\n",
      "There should be one-- and preferably only one --obvious way to do it.\n",
      "Although that way may not be obvious at first unless you're Dutch.\n",
      "Now is better than never.\n",
      "Although never is often better than *right* now.\n",
      "If the implementation is hard to explain, it's a bad idea.\n",
      "If the implementation is easy to explain, it may be a good idea.\n",
      "Namespaces are one honking great idea -- let's do more of those!\n"
     ]
    }
   ],
   "source": [
    "##  sanity check\n",
    "import this\n"
   ]
  },
  {
   "cell_type": "markdown",
   "id": "9c0349b2",
   "metadata": {},
   "source": [
    "---\n",
    "\n",
    "<hr width=\"82%\" style=\"border-top:2px dashed; border-bottom:none\"/>\n",
    "\n",
    "<hr width=\"64%\" style=\"border-top:1px dotted; border-bottom:none\"/>"
   ]
  },
  {
   "cell_type": "markdown",
   "id": "e5752f34",
   "metadata": {},
   "source": [
    "<div style=\"page-break-after: always;\"/> \n",
    "<h2 id='1' style=\"display:none\">[1]</h2>\n",
    "\n",
    ">   ---\n",
    ">   ## [1]\n",
    ">\n",
    ">   A proton that is initially traveling at a speed of $110$ [m/s] enters a region\n",
    ">   where there is an electric field. Under the influence of the electric field,\n",
    ">   the proton slows down and comes to a stop. \n",
    ">\n",
    ">   __What is the change in kinetic energy of the proton?__\n",
    ">\n",
    ">   &nbsp;&nbsp;&nbsp;&nbsp; $K = \\fbox{\\hspace{8em}?}\\ \\left[\\mathrm{J}\\right]$\n",
    ">\n",
    ">   __<p align='right'>(0.1 points)</p>__\n",
    ">\n",
    ">   <hr width=\"82%\" style=\"border-top:1px dashed; border-bottom:none\"/>"
   ]
  },
  {
   "cell_type": "code",
   "execution_count": null,
   "id": "63966364",
   "metadata": {},
   "outputs": [],
   "source": []
  },
  {
   "cell_type": "markdown",
   "id": "f532b564",
   "metadata": {},
   "source": [
    "<div style=\"page-break-after: always;\"/> \n",
    "<h2 id='2' style=\"display:none\">[2]</h2>\n",
    "\n",
    ">   ---\n",
    ">   ## [2]\n",
    ">\n",
    ">   {{ graphic }}\n",
    ">\n",
    ">   Locations $A$ and $B$ are in a region of uniform electric field, as shown. \n",
    ">\n",
    ">   Along a path from $A$ to $B$, the change in potential is $1600$ [V].\n",
    ">   The distance from $A$ to $B$ is $0.22$ [m].\n",
    ">\n",
    ">   __What is the magnitude of the electric field in this region?__\n",
    ">\n",
    ">   &nbsp;&nbsp;&nbsp;&nbsp; $\\lvert\\vec{E}\\rvert = \\fbox{\\hspace{8em}?}$\n",
    ">\n",
    ">   (select one:)\n",
    ">\n",
    ">   - [ ] &nbsp; [V/m]\n",
    ">\n",
    ">   __<p align='right'>(0.1 points)</p>__\n",
    ">\n",
    ">   <hr width=\"82%\" style=\"border-top:1px dashed; border-bottom:none\"/>"
   ]
  },
  {
   "cell_type": "code",
   "execution_count": null,
   "id": "0c416ce3",
   "metadata": {},
   "outputs": [],
   "source": []
  },
  {
   "cell_type": "markdown",
   "id": "e3f1c42a",
   "metadata": {},
   "source": [
    "- [x] [V/m]"
   ]
  },
  {
   "cell_type": "markdown",
   "id": "fba023ef",
   "metadata": {},
   "source": [
    "<div style=\"page-break-after: always;\"/> \n",
    "<h2 id='3' style=\"display:none\">[3]</h2>\n",
    "\n",
    ">   ---\n",
    ">   ## [3]*\n",
    ">\n",
    ">   If the electric field exceeds about $3 \\times 10^{6}$ [N/C] in air, a spark \n",
    ">   occurs. \n",
    ">\n",
    ">   Approximately, __what is the maximum possible potential difference between\n",
    ">   the plates of a capacitor__ whose gap is $3$ [mm], without causing a spark\n",
    ">   in the air between them?\n",
    ">\n",
    ">   &nbsp;&nbsp;&nbsp;&nbsp; $\\fbox{\\hspace{8em}?}\\ \\left[\\mathrm{V}\\right]$\n",
    ">\n",
    ">   __<p align='right'>(10 points)</p>__\n",
    ">\n",
    ">   <hr width=\"82%\" style=\"border-top:1px dashed; border-bottom:none\"/>"
   ]
  },
  {
   "cell_type": "code",
   "execution_count": null,
   "id": "5e6b22c5",
   "metadata": {},
   "outputs": [],
   "source": []
  },
  {
   "cell_type": "markdown",
   "id": "56127ea7",
   "metadata": {},
   "source": [
    "<div style=\"page-break-after: always;\"/> \n",
    "<h2 id='4' style=\"display:none\">[4]</h2>\n",
    "\n",
    ">   ---\n",
    ">   ## [4]*\n",
    ">\n",
    ">   In an old style television picture tube (not in a modern flat-panel TV),\n",
    ">   electrons are boiled out of a very hot metal filament placed near a negative\n",
    ">   metal plate (see figure).  \n",
    ">\n",
    ">   {{ graphic }}\n",
    ">\n",
    ">   These electrons start out nearly at rest, and are accelerated toward a \n",
    ">   positive metal plate. They pass through a hole in the positive plate on \n",
    ">   their way toward the picture screen. \n",
    ">\n",
    ">   If the high-voltage supply in the television set maintains a potential\n",
    ">   difference of 14,500 volts between the two plates, __what speed do the \n",
    ">   electrons reach?__\n",
    ">\n",
    ">   (You can use the non-relativisitic approximation here.)\n",
    ">\n",
    ">   &nbsp;&nbsp;&nbsp;&nbsp; $v = \\fbox{\\hspace{8em}?}$ &ensp; [m/s]\n",
    ">\n",
    ">   __<p align='right'>(0.1 points)</p>__\n",
    ">\n",
    ">   <hr width=\"82%\" style=\"border-top:1px dashed; border-bottom:none\"/>"
   ]
  },
  {
   "cell_type": "code",
   "execution_count": null,
   "id": "c0c3c3dd",
   "metadata": {},
   "outputs": [],
   "source": []
  },
  {
   "cell_type": "markdown",
   "id": "27c892e8",
   "metadata": {},
   "source": [
    "<div style=\"page-break-after: always;\"/> \n",
    "<h2 id='5' style=\"display:none\">[5]</h2>\n",
    "\n",
    ">   ---\n",
    ">   ## [5]\n",
    ">\n",
    ">   {{ graphic }}\n",
    ">\n",
    ">   As shown in the diagram, three large, thin, and uniformly charged, plates \n",
    ">   are arranged so that there are two adjacent regions of uniform electric \n",
    ">   field. The origin is at the center of the central plate. \n",
    ">\n",
    ">   Location $A$ is at $\\left\\langle\\ -0.4, 0, 0 \\right\\rangle$ [m], and\n",
    ">   location $B$ is at $\\left\\langle\\ 0.6, 0, 0\\right\\rangle$ [m].\n",
    ">\n",
    ">   In region 1 the electric field is $\\vec{E}_1 = \\left\\langle 525, 0, 0 \\right\\rangle$ [V/m],\n",
    ">   in region 2, the electric field is $\\vec{E}_2 = \\left\\langle -375, 0, 0 \\right\\rangle$ [V/m].\n",
    ">\n",
    ">   __<p align='right'>(0.1 points)</p>__\n",
    ">\n",
    ">   <hr width=\"82%\" style=\"border-top:1px dashed; border-bottom:none\"/>"
   ]
  },
  {
   "cell_type": "markdown",
   "id": "7aefdc40",
   "metadata": {},
   "source": [
    "<h3 id='5a' style=\"display:none\">(A)</h3>\n",
    "\n",
    ">   <hr width=\"82%\" style=\"border-bottom:2px dashed; border-top:none\"/>\n",
    ">   \n",
    ">   ### &#x2e04;&hairsp;&#x2075;&hairsp;&#x2E05;&hairsp;(A)\n",
    ">\n",
    ">   Consider a path from $A$ to $B$.\n",
    ">\n",
    ">   __Along this path, what is the change in electric potential?__\n",
    ">\n",
    ">   &emsp;&emsp;&emsp;&emsp; $\\Delta V = \\fbox{\\hspace{8em}?}$\n",
    ">\n",
    ">   (select one:)\n",
    ">\n",
    ">   - [ ] &nbsp; [V]\n",
    ">\n",
    ">   <hr width=\"64%\" style=\"border-top:2px dotted; border-bottom:none\"/>"
   ]
  },
  {
   "cell_type": "code",
   "execution_count": null,
   "id": "176f6ba3",
   "metadata": {},
   "outputs": [],
   "source": []
  },
  {
   "cell_type": "markdown",
   "id": "b75a8ac1",
   "metadata": {},
   "source": [
    "- [x] [V]"
   ]
  },
  {
   "cell_type": "markdown",
   "id": "27df847c",
   "metadata": {},
   "source": [
    "<h3 id='5b' style=\"display:none\">(B)</h3>\n",
    "\n",
    ">   <hr width=\"82%\" style=\"border-bottom:2px dashed; border-top:none\"/>\n",
    ">   \n",
    ">   ### &#x2e04;&hairsp;&#x2075;&hairsp;&#x2E05;&hairsp;(B)\n",
    ">\n",
    ">   __What is the change in electric potential along a path from $B$ to $A$?__\n",
    ">\n",
    ">   &emsp;&emsp;&emsp;&emsp; $\\Delta V = \\fbox{\\hspace{8em}?}$\n",
    ">\n",
    ">   (select one:)\n",
    ">\n",
    ">   - [ ] &nbsp; [V]\n",
    ">\n",
    ">   <hr width=\"64%\" style=\"border-top:2px dotted; border-bottom:none\"/>"
   ]
  },
  {
   "cell_type": "code",
   "execution_count": null,
   "id": "33b10497",
   "metadata": {},
   "outputs": [],
   "source": []
  },
  {
   "cell_type": "markdown",
   "id": "87e075ec",
   "metadata": {},
   "source": [
    "- [x] [V]"
   ]
  },
  {
   "cell_type": "markdown",
   "id": "a0dc4115",
   "metadata": {},
   "source": [
    "<h3 id='5c' style=\"display:none\">(C)</h3>\n",
    "\n",
    ">   <hr width=\"82%\" style=\"border-bottom:2px dashed; border-top:none\"/>\n",
    ">   \n",
    ">   ### &#x2e04;&hairsp;&#x2075;&hairsp;&#x2E05;&hairsp;(C)\n",
    ">\n",
    ">   There is a tiny hole in the central plate, so a moving particle can pass\n",
    ">   through the hole. \n",
    ">\n",
    ">   __If a proton started at $A$ and moved to $B$ along the path shown, what would\n",
    ">   be the change in its kinetic energy?__\n",
    ">\n",
    ">   &emsp;&emsp;&emsp;&emsp; $\\Delta K = \\fbox{\\hspace{8em}?}$\n",
    ">\n",
    ">   (select one:)\n",
    ">\n",
    ">   - [ ] &nbsp; [J]\n",
    ">\n",
    ">   <hr width=\"64%\" style=\"border-top:2px dotted; border-bottom:none\"/>"
   ]
  },
  {
   "cell_type": "code",
   "execution_count": null,
   "id": "3e4b610b",
   "metadata": {},
   "outputs": [],
   "source": []
  },
  {
   "cell_type": "markdown",
   "id": "fd650d4e",
   "metadata": {},
   "source": [
    "- [x] [J]"
   ]
  },
  {
   "cell_type": "markdown",
   "id": "0f235311",
   "metadata": {},
   "source": [
    "<h3 id='5d' style=\"display:none\">(D)</h3>\n",
    "\n",
    ">   <hr width=\"82%\" style=\"border-bottom:2px dashed; border-top:none\"/>\n",
    ">   \n",
    ">   ### &#x2e04;&hairsp;&#x2075;&hairsp;&#x2E05;&hairsp;(D)\n",
    ">\n",
    ">   If the proton had kinetic energy $6 \\times 10^{-18}$ [J] when it is at \n",
    ">   location $A$, __what would the kinetic energy of the proton be upon reaching\n",
    ">   location $B$?__\n",
    ">\n",
    ">   &emsp;&emsp;&emsp;&emsp; $\\Delta K = \\fbox{\\hspace{8em}?}$\n",
    ">\n",
    ">   (select one:)\n",
    ">\n",
    ">   - [ ] &nbsp; [J]\n",
    ">\n",
    ">   <hr width=\"64%\" style=\"border-top:2px dotted; border-bottom:none\"/>"
   ]
  },
  {
   "cell_type": "code",
   "execution_count": null,
   "id": "4ead5e81",
   "metadata": {},
   "outputs": [],
   "source": []
  },
  {
   "cell_type": "markdown",
   "id": "be5eab23",
   "metadata": {},
   "source": [
    "- [x] [J]"
   ]
  },
  {
   "cell_type": "markdown",
   "id": "c02b82b4",
   "metadata": {},
   "source": [
    "<h3 id='5e' style=\"display:none\">(E)</h3>\n",
    "\n",
    ">   <hr width=\"82%\" style=\"border-bottom:2px dashed; border-top:none\"/>\n",
    ">   \n",
    ">   ### &#x2e04;&hairsp;&#x2075;&hairsp;&#x2E05;&hairsp;(E)\n",
    ">\n",
    ">   __Would it be possible for the proton to actually reach location $B$?__\n",
    ">\n",
    ">   Note that if you find the final kinetic energy to be negative, that means \n",
    ">   the proton will not actually get to location $B$ (a negative kinetic energy \n",
    ">   is impossible).\n",
    ">\n",
    ">   (select one:)\n",
    ">\n",
    ">   - [ ] &nbsp; [J]\n",
    ">\n",
    ">   <hr width=\"64%\" style=\"border-top:2px dotted; border-bottom:none\"/>"
   ]
  },
  {
   "cell_type": "markdown",
   "id": "e8f2dfb5",
   "metadata": {},
   "source": [
    "- [x] [J]"
   ]
  },
  {
   "cell_type": "markdown",
   "id": "91dd1121",
   "metadata": {},
   "source": [
    "<div style=\"page-break-after: always;\"/> \n",
    "<h2 id='6' style=\"display:none\">[6]</h2>\n",
    "\n",
    ">   ---\n",
    ">   ## [6]\n",
    ">\n",
    ">   A dipole is centered at the origin, with its axis along the $y$ axis; so that\n",
    ">   at locations on the $y$-axis, the electric field due to the dipole is given\n",
    ">   by:\n",
    ">   \n",
    ">   $$\n",
    ">       \\vec{E} = \n",
    ">           \\left\\langle\\ \n",
    ">               0,\\ \n",
    ">               \\left( \n",
    ">                   \\frac{1}{4\\pi\\epsilon_0} (2q) \\cdot \\frac{s}{y^3}\n",
    ">               \\right),\\ \n",
    ">               0\\ \n",
    ">               \\right\\rangle \n",
    ">       \\left[\n",
    ">           \\mathrm{V} / \\mathrm{m}\n",
    ">       \\right]\n",
    ">   $$\n",
    ">\n",
    ">   The charges making up the dipole are $q_1 = +4$ [nC] and $q_2 = -4$ [nC], \n",
    ">   and the dipole separation is $s = 9$ [mm] (see figure below).\n",
    ">\n",
    ">   __What is the potential difference; along a path starting at location \n",
    ">   $P_1 = \\left\\langle\\ 0,\\ 0.03,\\ 0\\ \\right\\rangle$ [m], and ending at \n",
    ">   location $P_2 = \\left\\langle\\ 0, 0.06,\\ 0\\ \\right\\rangle$ [m]?__\n",
    ">\n",
    ">   &nbsp;&nbsp;&nbsp;&nbsp; $\\fbox{\\hspace{8em}?}\\ \\left[\\mathrm{V}\\right]$\n",
    ">\n",
    ">   __<p align='right'>(0.1 points)</p>__\n",
    ">\n",
    ">   <hr width=\"82%\" style=\"border-top:1px dashed; border-bottom:none\"/>"
   ]
  },
  {
   "cell_type": "code",
   "execution_count": null,
   "id": "508506b6",
   "metadata": {},
   "outputs": [],
   "source": []
  },
  {
   "cell_type": "markdown",
   "id": "86d0bde6",
   "metadata": {},
   "source": [
    "<div style=\"page-break-after: always;\"/> \n",
    "<h2 id='7' style=\"display:none\">[7]</h2>\n",
    "\n",
    ">   ---\n",
    ">   ## [7]*\n",
    ">\n",
    ">   __Geiger Tube__\n",
    ">\n",
    ">   A Geiger Tube, used to detect radioactive decays, contains a long thin metal\n",
    ">   wire, surrounded by a concentric long narrow metal tube.\n",
    ">   Insulating spokes hold the wire in the center of the tube, and prevent \n",
    ">   electrical contact between the wire and the tube. \n",
    ">\n",
    ">   A variable power supply is connected to the device as shown. Normally, no \n",
    ">   current flows, because the tube and wire are not connected to each other. \n",
    ">   The power supply maintains opposite charges on the wire and the tube.\n",
    ">\n",
    ">   {{GRAPHIC}}\n",
    ">\n",
    ">   __<p align='right'>(10 points)</p>__\n",
    ">\n",
    ">   <hr width=\"82%\" style=\"border-top:1px dashed; border-bottom:none\"/>"
   ]
  },
  {
   "cell_type": "markdown",
   "id": "2b81fb98",
   "metadata": {},
   "source": [
    "<h3 id='7a' style=\"display:none\">(A)</h3>\n",
    "\n",
    ">   <hr width=\"82%\" style=\"border-bottom:2px dashed; border-top:none\"/>\n",
    ">   \n",
    ">   ### &#x2e04;&hairsp;&#x2077;&hairsp;&#x2E05;&hairsp;(A)\n",
    ">\n",
    ">   The electric field in the space between the wire and the outer tube is due \n",
    ">   only to the wire &mdash; the contribution due to the charges on the outer \n",
    ">   tube sum to zero! \n",
    ">\n",
    ">   When the electric field at any location in air reaches $3 \\times 10^6$ [V/m],\n",
    ">   the air ionizes and becomes a conductor. \n",
    ">   \n",
    ">   For the tube shown, the length $L = 76$ [cm], the inner radius $r = 0.6$ [mm],\n",
    ">   and the outer radius $R = 4.5$ [cm]. \n",
    ">\n",
    ">   __How much charge would there need to be on the inner wire, in order to \n",
    ">     ionize the air near the wire__ (where the field is largest)__?__\n",
    ">\n",
    ">   &emsp;&emsp;&emsp;&emsp; $Q = \\fbox{\\hspace{8em}?}\\ \\left[\\textrm{C}\\right]$\n",
    ">\n",
    ">   <hr width=\"64%\" style=\"border-top:2px dotted; border-bottom:none\"/>"
   ]
  },
  {
   "cell_type": "code",
   "execution_count": null,
   "id": "ff579882",
   "metadata": {},
   "outputs": [],
   "source": []
  },
  {
   "cell_type": "markdown",
   "id": "f69e65b3",
   "metadata": {},
   "source": [
    "<h3 id='7b' style=\"display:none\">(B)</h3>\n",
    "\n",
    ">   <hr width=\"82%\" style=\"border-bottom:2px dashed; border-top:none\"/>\n",
    ">   \n",
    ">   ### &#x2e04;&hairsp;&#x2077;&hairsp;&#x2E05;&hairsp;(B)\n",
    ">\n",
    ">   When there is enough charge on the wire to ionize the air, you see a glow in\n",
    ">   the air, very near the inner wire. \n",
    ">\n",
    ">   When this happens, __what is the absolute value of the potential difference \n",
    ">   along a path from the inner wire to the outer tube?__\n",
    ">\n",
    ">   (Note that the electric field in this region is _not_ uniform.)\n",
    ">\n",
    ">   &emsp;&emsp;&emsp;&emsp; $\\left\\lvert \\Delta V \\right\\rvert = \\fbox{\\hspace{8em}?}\\ \\left[\\textrm{V}\\right]$\n",
    ">\n",
    ">   The Geiger Tube was one of the first electronic particle detectors. \n",
    ">   The voltage is set just below the threshold for making the air glow near the\n",
    ">   wire (Part B). A charged particle that passes near the center wire can trigger \n",
    ">   ionization of the air, leading to a large current that can be easily measured. \n",
    ">\n",
    ">   <hr width=\"64%\" style=\"border-top:2px dotted; border-bottom:none\"/>"
   ]
  },
  {
   "cell_type": "code",
   "execution_count": null,
   "id": "aec88d89",
   "metadata": {},
   "outputs": [],
   "source": []
  },
  {
   "cell_type": "markdown",
   "id": "c12372f1",
   "metadata": {},
   "source": [
    "<div style=\"page-break-after: always;\"/> \n",
    "<h2 id='8' style=\"display:none\">[8]</h2>\n",
    "\n",
    ">   --- \n",
    ">   ## [8]\n",
    ">\n",
    ">   A capacitor consists of two charged disks of radius $R = 3.6$ [m], separated\n",
    ">   by a distance $s = 2$ [mm] (see figure).\n",
    ">\n",
    ">   {{ graphic }}\n",
    ">\n",
    ">   The magnitude of the charge on each disk is $47$ [µC].\n",
    ">\n",
    ">   Consider points $A$, $B$, $C$, and $D$ inside the capacitor, as shown in the\n",
    ">   diagram. \n",
    ">\n",
    ">   The distance $s_1 = 1.3$ [mm], and the distance $s_2 = 0.7$ [mm].\n",
    ">\n",
    ">   (Assume the $+x$-axis to the right, $+y$-axis is up the page, and the $+z$-axis\n",
    ">    is out of the page.)\n",
    ">\n",
    ">   __<p align='right'>(0.1 points)</p>__\n",
    ">\n",
    ">   <hr width=\"82%\" style=\"border-top:1px dashed; border-bottom:none\"/>"
   ]
  },
  {
   "cell_type": "markdown",
   "id": "a451dff3",
   "metadata": {},
   "source": [
    "<h3 id='8a' style=\"display:none\">(A)</h3>\n",
    "\n",
    ">   <hr width=\"82%\" style=\"border-bottom:2px dashed; border-top:none\"/>\n",
    ">   \n",
    ">   ### &#x2e04;&hairsp;&#x2078;&hairsp;&#x2E05;&hairsp;(A)\n",
    ">\n",
    ">   __What is the electric field inside the capacitor?__\n",
    ">\n",
    ">   &emsp;&emsp;&emsp;&emsp; $\\vec{E} = \\left\\langle\\ \\fbox{\\hspace{4em}?},\\ \\fbox{\\hspace{4em}?},\\ \\fbox{\\hspace{4em}?}\\ \\right\\rangle \\left[\\mathrm{N}/\\mathrm{C}\\right]$\n",
    ">\n",
    ">   <hr width=\"64%\" style=\"border-top:2px dotted; border-bottom:none\"/>"
   ]
  },
  {
   "cell_type": "code",
   "execution_count": null,
   "id": "c1a9bf31",
   "metadata": {},
   "outputs": [],
   "source": []
  },
  {
   "cell_type": "markdown",
   "id": "a4e34cc9",
   "metadata": {},
   "source": [
    "<h3 id='8b' style=\"display:none\">(B)</h3>\n",
    "\n",
    ">   <hr width=\"82%\" style=\"border-bottom:2px dashed; border-top:none\"/>\n",
    ">   \n",
    ">   ### &#x2e04;&hairsp;&#x2078;&hairsp;&#x2E05;&hairsp;(B)\n",
    ">\n",
    ">   First, calculate the potential difference $V_B - V_A$.\n",
    ">\n",
    ">   __What is $\\Delta \\vec{l}$ along this path?__\n",
    ">\n",
    ">    &emsp;&emsp;&emsp;&emsp; $\\Delta\\vec{l} = \\left\\langle\\ \\fbox{\\hspace{4em}?},\\ \\fbox{\\hspace{4em}?},\\ \\fbox{\\hspace{4em}?}\\ \\right\\rangle \\left[\\mathrm{m}\\right]$\n",
    ">\n",
    ">   __What is $V_B - V_A$?__\n",
    ">\n",
    ">   &emsp;&emsp;&emsp;&emsp; $V_B - V_A = \\fbox{\\hspace{8em}?}\\ \\left[\\mathrm{V}\\right]$\n",
    ">\n",
    ">   <hr width=\"64%\" style=\"border-top:2px dotted; border-bottom:none\"/>"
   ]
  },
  {
   "cell_type": "code",
   "execution_count": null,
   "id": "143e0e7a",
   "metadata": {},
   "outputs": [],
   "source": []
  },
  {
   "cell_type": "markdown",
   "id": "22d1f162",
   "metadata": {},
   "source": [
    "<h3 id='8c' style=\"display:none\">(C)</h3>\n",
    "\n",
    ">   <hr width=\"82%\" style=\"border-bottom:2px dashed; border-top:none\"/>\n",
    ">   \n",
    ">   ### &#x2e04;&hairsp;&#x2078;&hairsp;&#x2E05;&hairsp;(C)\n",
    ">\n",
    ">   Next, calculate the potential difference $V_C - V_B$.\n",
    ">\n",
    ">   __What is $\\Delta \\vec{l}$ along this path?__\n",
    ">\n",
    ">    &emsp;&emsp;&emsp;&emsp; $\\Delta\\vec{l} = \\left\\langle\\ \\fbox{\\hspace{4em}?},\\ \\fbox{\\hspace{4em}?},\\ \\fbox{\\hspace{4em}?}\\ \\right\\rangle \\left[\\mathrm{m}\\right]$\n",
    ">\n",
    ">   __What is $V_B - V_A$?__\n",
    ">\n",
    ">   &emsp;&emsp;&emsp;&emsp; $V_C - V_B = \\fbox{\\hspace{8em}?}\\ \\left[\\mathrm{V}\\right]$\n",
    ">\n",
    ">   <hr width=\"64%\" style=\"border-top:2px dotted; border-bottom:none\"/>"
   ]
  },
  {
   "cell_type": "code",
   "execution_count": null,
   "id": "c1e7c2db",
   "metadata": {},
   "outputs": [],
   "source": []
  },
  {
   "cell_type": "markdown",
   "id": "d9398151",
   "metadata": {},
   "source": [
    "<h3 id='8d' style=\"display:none\">(D)</h3>\n",
    "\n",
    ">   <hr width=\"82%\" style=\"border-bottom:2px dashed; border-top:none\"/>\n",
    ">   \n",
    ">   ### &#x2e04;&hairsp;&#x2078;&hairsp;&#x2E05;&hairsp;(D)\n",
    ">\n",
    ">   Finally, calculate the potential difference $V_A - V_C$.\n",
    ">\n",
    ">   __What is $\\Delta \\vec{l}$ along this path?__\n",
    ">\n",
    ">    &emsp;&emsp;&emsp;&emsp; $\\Delta\\vec{l} = \\left\\langle\\ \\fbox{\\hspace{4em}?},\\ \\fbox{\\hspace{4em}?},\\ \\fbox{\\hspace{4em}?}\\ \\right\\rangle \\left[\\mathrm{m}\\right]$\n",
    ">\n",
    ">   __What is $V_A - V_C$?__\n",
    ">\n",
    ">   &emsp;&emsp;&emsp;&emsp; $V_A - V_C = \\fbox{\\hspace{8em}?}\\ \\left[\\mathrm{V}\\right]$\n",
    ">\n",
    ">   <hr width=\"64%\" style=\"border-top:2px dotted; border-bottom:none\"/>"
   ]
  },
  {
   "cell_type": "code",
   "execution_count": null,
   "id": "44716281",
   "metadata": {},
   "outputs": [],
   "source": []
  },
  {
   "cell_type": "markdown",
   "id": "5fbe64c2",
   "metadata": {},
   "source": [
    "---"
   ]
  }
 ],
 "metadata": {
  "kernelspec": {
   "display_name": "SageMath 10.6",
   "language": "sage",
   "name": "SageMath-10.6"
  },
  "language_info": {
   "codemirror_mode": {
    "name": "ipython",
    "version": 3
   },
   "file_extension": ".py",
   "mimetype": "text/x-python",
   "name": "python",
   "nbconvert_exporter": "python",
   "pygments_lexer": "ipython3",
   "version": "3.12.5"
  }
 },
 "nbformat": 4,
 "nbformat_minor": 5
}
