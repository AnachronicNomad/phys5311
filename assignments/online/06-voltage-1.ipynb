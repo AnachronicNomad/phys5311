{
 "cells": [
  {
   "cell_type": "markdown",
   "id": "caabcbe5",
   "metadata": {},
   "source": [
    "# Voltage 1\n",
    "\n",
    "M&I \n",
    "\n",
    "Ch. 16 Electric Potential\n",
    "\n",
    "- §16.1 &ndash; A Review of Potential Energy\n",
    "- §16.3 &ndash; Potential Difference in a Uniform Field\n",
    "- §16.5 &ndash; Potential Difference in a Non-Uniform Field\n",
    "- §16.6 &ndash; Path Independence"
   ]
  },
  {
   "cell_type": "code",
   "execution_count": 1,
   "id": "4d87d0c4",
   "metadata": {},
   "outputs": [
    {
     "name": "stdout",
     "output_type": "stream",
     "text": [
      "Python: 3.12.5 (main, Feb 25 2025, 12:37:41) [Clang 16.0.0 (clang-1600.0.26.6)]\n"
     ]
    },
    {
     "data": {
      "text/html": [
       "<html>\\(\\displaystyle \\verb|SageMath|\\verb| |\\verb|version|\\verb| |\\verb|10.6,|\\verb| |\\verb|Release|\\verb| |\\verb|Date:|\\verb| |\\verb|2025-03-31|\\)</html>"
      ],
      "text/latex": [
       "$\\displaystyle \\verb|SageMath|\\verb| |\\verb|version|\\verb| |\\verb|10.6,|\\verb| |\\verb|Release|\\verb| |\\verb|Date:|\\verb| |\\verb|2025-03-31|$"
      ],
      "text/plain": [
       "'SageMath version 10.6, Release Date: 2025-03-31'"
      ]
     },
     "execution_count": 1,
     "metadata": {},
     "output_type": "execute_result"
    }
   ],
   "source": [
    "########\n",
    "## Env Setup / Preamble\n",
    "########\n",
    "%load_ext autoreload\n",
    "%autoreload complete \n",
    "\n",
    "%load_ext Cython\n",
    "\n",
    "%display latex\n",
    "\n",
    "################\n",
    "\n",
    "import cython\n",
    "from sage.all import *\n",
    "\n",
    "################\n",
    "\n",
    "import tempfile\n",
    "import mmap\n",
    "from multiprocessing import shared_memory\n",
    "\n",
    "################\n",
    "\n",
    "import numpy as np\n",
    "import scipy.constants\n",
    "\n",
    "np.random.seed( int(scipy.constants.golden_ratio * 1.e6) )\n",
    "\n",
    "from numpy import vectorize\n",
    "from numpy import r_, c_, s_\n",
    "\n",
    "################\n",
    "\n",
    "####    boiler-plate class for named constants\n",
    "from sage.symbolic.constants import Constant\n",
    "class ConstantFromExpression(Constant):\n",
    "    def __init__(self, name, v):\n",
    "        conversions = dict(maxima=repr(maxima.coerce(v)))\n",
    "        Constant.__init__(self, name, conversions=conversions)\n",
    "        self._v = v\n",
    "    def __float__(self): return float(self._v)\n",
    "    def __complex__(self): return complex(self._v)\n",
    "    def _mpfr_(self, R): return R(self._v)\n",
    "    def _real_double_(self, R): return R(self._v)\n",
    "\n",
    "def NamedExpression(name, expr):\n",
    "    return ConstantFromExpression(name,expr).expression()\n",
    "####\n",
    "\n",
    "import sage.symbolic.units as units     # <: TODO\n",
    "\n",
    "π   = NamedExpression('π', scipy.constants.pi)          # pi\n",
    "ε_0 = NamedExpression('ε_0', scipy.constants.epsilon_0) # electric permittivity of vacuum\n",
    "μ_0 = NamedExpression('μ_0', scipy.constants.mu_0)      # magnetic permeability of vacuum\n",
    "\n",
    "𝛋 = 1. / (4 * π * ε_0)      # Coulomb's constant in [ N·m²/C² ]\n",
    "q = NamedExpression('q', -scipy.constants.elementary_charge)\n",
    "\n",
    "ℎ_planck = NamedExpression('ℎ', scipy.constants.Planck)\n",
    "ℏ = NamedExpression('ℏ', scipy.constants.hbar)\n",
    "\n",
    "α = NamedExpression('α', scipy.constants.fine_structure)\n",
    "\n",
    "m_e = NamedExpression('m_e', scipy.constants.electron_mass)\n",
    "m_p = NamedExpression('m_p', scipy.constants.proton_mass)\n",
    "\n",
    "################\n",
    "\n",
    "Parallelism().set(nproc=8)\n",
    "print(f\"Python: {sys.version}\")\n",
    "version()\n"
   ]
  },
  {
   "cell_type": "code",
   "execution_count": 2,
   "id": "6dbb2a79",
   "metadata": {},
   "outputs": [
    {
     "name": "stdout",
     "output_type": "stream",
     "text": [
      "The Zen of Python, by Tim Peters\n",
      "\n",
      "Beautiful is better than ugly.\n",
      "Explicit is better than implicit.\n",
      "Simple is better than complex.\n",
      "Complex is better than complicated.\n",
      "Flat is better than nested.\n",
      "Sparse is better than dense.\n",
      "Readability counts.\n",
      "Special cases aren't special enough to break the rules.\n",
      "Although practicality beats purity.\n",
      "Errors should never pass silently.\n",
      "Unless explicitly silenced.\n",
      "In the face of ambiguity, refuse the temptation to guess.\n",
      "There should be one-- and preferably only one --obvious way to do it.\n",
      "Although that way may not be obvious at first unless you're Dutch.\n",
      "Now is better than never.\n",
      "Although never is often better than *right* now.\n",
      "If the implementation is hard to explain, it's a bad idea.\n",
      "If the implementation is easy to explain, it may be a good idea.\n",
      "Namespaces are one honking great idea -- let's do more of those!\n"
     ]
    }
   ],
   "source": [
    "##  sanity check\n",
    "import this\n"
   ]
  },
  {
   "cell_type": "markdown",
   "id": "9c0349b2",
   "metadata": {},
   "source": [
    "---\n",
    "\n",
    "<hr width=\"82%\" style=\"border-top:2px dashed; border-bottom:none\"/>\n",
    "\n",
    "<hr width=\"64%\" style=\"border-top:1px dotted; border-bottom:none\"/>"
   ]
  },
  {
   "cell_type": "markdown",
   "id": "e5752f34",
   "metadata": {},
   "source": [
    "<div style=\"page-break-after: always;\"/> \n",
    "<h2 id='1' style=\"display:none\">[1]</h2>\n",
    "\n",
    ">   ---\n",
    ">   ## [1]\n",
    ">\n",
    ">   A proton that is initially traveling at a speed of $110$ [m/s] enters a region\n",
    ">   where there is an electric field. Under the influence of the electric field,\n",
    ">   the proton slows down and comes to a stop. \n",
    ">\n",
    ">   __What is the change in kinetic energy of the proton?__\n",
    ">\n",
    ">   &nbsp;&nbsp;&nbsp;&nbsp; $K = \\fbox{\\hspace{8em}?}\\ \\left[\\mathrm{J}\\right]$\n",
    ">\n",
    ">   __<p align='right'>(0.1 points)</p>__\n",
    ">\n",
    ">   <hr width=\"82%\" style=\"border-top:1px dashed; border-bottom:none\"/>"
   ]
  },
  {
   "cell_type": "code",
   "execution_count": null,
   "id": "63966364",
   "metadata": {},
   "outputs": [],
   "source": []
  },
  {
   "cell_type": "markdown",
   "id": "f532b564",
   "metadata": {},
   "source": [
    "<div style=\"page-break-after: always;\"/> \n",
    "<h2 id='2' style=\"display:none\">[2]</h2>\n",
    "\n",
    ">   ---\n",
    ">   ## [2]\n",
    ">\n",
    ">   <img loading='lazy' decoding='async' src=\"data:image/avif;base64,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\" />\n",
    ">\n",
    ">   Locations $A$ and $B$ are in a region of uniform electric field, as shown. \n",
    ">\n",
    ">   Along a path from $A$ to $B$, the change in potential is $1600$ [V].\n",
    ">   The distance from $A$ to $B$ is $0.22$ [m].\n",
    ">\n",
    ">   __What is the magnitude of the electric field in this region?__\n",
    ">\n",
    ">   &nbsp;&nbsp;&nbsp;&nbsp; $\\lvert\\vec{E}\\rvert = \\fbox{\\hspace{8em}?}$\n",
    ">\n",
    ">   (select one:)\n",
    ">\n",
    ">   - [ ] &nbsp; [V/m]\n",
    ">\n",
    ">   __<p align='right'>(0.1 points)</p>__\n",
    ">\n",
    ">   <hr width=\"82%\" style=\"border-top:1px dashed; border-bottom:none\"/>"
   ]
  },
  {
   "cell_type": "code",
   "execution_count": null,
   "id": "0c416ce3",
   "metadata": {},
   "outputs": [],
   "source": []
  },
  {
   "cell_type": "markdown",
   "id": "e3f1c42a",
   "metadata": {},
   "source": [
    "- [x] [V/m]"
   ]
  },
  {
   "cell_type": "markdown",
   "id": "fba023ef",
   "metadata": {},
   "source": [
    "<div style=\"page-break-after: always;\"/> \n",
    "<h2 id='3' style=\"display:none\">[3]</h2>\n",
    "\n",
    ">   ---\n",
    ">   ## [3]*\n",
    ">\n",
    ">   If the electric field exceeds about $3 \\times 10^{6}$ [N/C] in air, a spark \n",
    ">   occurs. \n",
    ">\n",
    ">   Approximately, __what is the maximum possible potential difference between\n",
    ">   the plates of a capacitor__ whose gap is $3$ [mm], without causing a spark\n",
    ">   in the air between them?\n",
    ">\n",
    ">   &nbsp;&nbsp;&nbsp;&nbsp; $\\fbox{\\hspace{8em}?}\\ \\left[\\mathrm{V}\\right]$\n",
    ">\n",
    ">   __<p align='right'>(10 points)</p>__\n",
    ">\n",
    ">   <hr width=\"82%\" style=\"border-top:1px dashed; border-bottom:none\"/>"
   ]
  },
  {
   "cell_type": "code",
   "execution_count": null,
   "id": "5e6b22c5",
   "metadata": {},
   "outputs": [],
   "source": []
  },
  {
   "cell_type": "markdown",
   "id": "56127ea7",
   "metadata": {},
   "source": [
    "<div style=\"page-break-after: always;\"/> \n",
    "<h2 id='4' style=\"display:none\">[4]</h2>\n",
    "\n",
    ">   ---\n",
    ">   ## [4]*\n",
    ">\n",
    ">   In an old style television picture tube (not in a modern flat-panel TV),\n",
    ">   electrons are boiled out of a very hot metal filament placed near a negative\n",
    ">   metal plate (see figure).  \n",
    ">\n",
    ">   <img loading='lazy' decoding='async' src=\"data:image/avif;base64,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\" />\n",
    ">\n",
    ">   These electrons start out nearly at rest, and are accelerated toward a \n",
    ">   positive metal plate. They pass through a hole in the positive plate on \n",
    ">   their way toward the picture screen. \n",
    ">\n",
    ">   If the high-voltage supply in the television set maintains a potential\n",
    ">   difference of 14,500 volts between the two plates, __what speed do the \n",
    ">   electrons reach?__\n",
    ">\n",
    ">   (You can use the non-relativisitic approximation here.)\n",
    ">\n",
    ">   &nbsp;&nbsp;&nbsp;&nbsp; $v = \\fbox{\\hspace{8em}?}$ &ensp; [m/s]\n",
    ">\n",
    ">   __<p align='right'>(0.1 points)</p>__\n",
    ">\n",
    ">   <hr width=\"82%\" style=\"border-top:1px dashed; border-bottom:none\"/>"
   ]
  },
  {
   "cell_type": "code",
   "execution_count": null,
   "id": "c0c3c3dd",
   "metadata": {},
   "outputs": [],
   "source": []
  },
  {
   "cell_type": "markdown",
   "id": "27c892e8",
   "metadata": {},
   "source": [
    "<div style=\"page-break-after: always;\"/> \n",
    "<h2 id='5' style=\"display:none\">[5]</h2>\n",
    "\n",
    ">   ---\n",
    ">   ## [5]\n",
    ">\n",
    ">   <img loading='lazy' decoding='async' src=\"data:image/avif;base64,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\" />\n",
    ">\n",
    ">   As shown in the diagram, three large, thin, and uniformly charged, plates \n",
    ">   are arranged so that there are two adjacent regions of uniform electric \n",
    ">   field. The origin is at the center of the central plate. \n",
    ">\n",
    ">   Location $A$ is at $\\left\\langle\\ -0.4, 0, 0\\ \\right\\rangle$ [m], and\n",
    ">   location $B$ is at $\\left\\langle\\ 0.6, 0, 0\\ \\right\\rangle$ [m].\n",
    ">\n",
    ">   In region 1 the electric field is $\\vec{E}_1 = \\left\\langle 525, 0, 0 \\right\\rangle$ [V/m],\n",
    ">   in region 2, the electric field is $\\vec{E}_2 = \\left\\langle -375, 0, 0 \\right\\rangle$ [V/m].\n",
    ">\n",
    ">   __<p align='right'>(0.1 points)</p>__\n",
    ">\n",
    ">   <hr width=\"82%\" style=\"border-top:1px dashed; border-bottom:none\"/>"
   ]
  },
  {
   "cell_type": "markdown",
   "id": "7aefdc40",
   "metadata": {},
   "source": [
    "<h3 id='5a' style=\"display:none\">(A)</h3>\n",
    "\n",
    ">   <hr width=\"82%\" style=\"border-bottom:2px dashed; border-top:none\"/>\n",
    ">   \n",
    ">   ### &#x2e04;&hairsp;&#x2075;&hairsp;&#x2E05;&hairsp;(A)\n",
    ">\n",
    ">   Consider a path from $A$ to $B$.\n",
    ">\n",
    ">   __Along this path, what is the change in electric potential?__\n",
    ">\n",
    ">   &emsp;&emsp;&emsp;&emsp; $\\Delta V = \\fbox{\\hspace{8em}?}$\n",
    ">\n",
    ">   (select one:)\n",
    ">\n",
    ">   - [ ] &nbsp; [V]\n",
    ">\n",
    ">   <hr width=\"64%\" style=\"border-top:2px dotted; border-bottom:none\"/>"
   ]
  },
  {
   "cell_type": "code",
   "execution_count": null,
   "id": "176f6ba3",
   "metadata": {},
   "outputs": [],
   "source": []
  },
  {
   "cell_type": "markdown",
   "id": "b75a8ac1",
   "metadata": {},
   "source": [
    "- [x] [V]"
   ]
  },
  {
   "cell_type": "markdown",
   "id": "27df847c",
   "metadata": {},
   "source": [
    "<h3 id='5b' style=\"display:none\">(B)</h3>\n",
    "\n",
    ">   <hr width=\"82%\" style=\"border-bottom:2px dashed; border-top:none\"/>\n",
    ">   \n",
    ">   ### &#x2e04;&hairsp;&#x2075;&hairsp;&#x2E05;&hairsp;(B)\n",
    ">\n",
    ">   __What is the change in electric potential along a path from $B$ to $A$?__\n",
    ">\n",
    ">   &emsp;&emsp;&emsp;&emsp; $\\Delta V = \\fbox{\\hspace{8em}?}$\n",
    ">\n",
    ">   (select one:)\n",
    ">\n",
    ">   - [ ] &nbsp; [V]\n",
    ">\n",
    ">   <hr width=\"64%\" style=\"border-top:2px dotted; border-bottom:none\"/>"
   ]
  },
  {
   "cell_type": "code",
   "execution_count": null,
   "id": "33b10497",
   "metadata": {},
   "outputs": [],
   "source": []
  },
  {
   "cell_type": "markdown",
   "id": "87e075ec",
   "metadata": {},
   "source": [
    "- [x] [V]"
   ]
  },
  {
   "cell_type": "markdown",
   "id": "a0dc4115",
   "metadata": {},
   "source": [
    "<h3 id='5c' style=\"display:none\">(C)</h3>\n",
    "\n",
    ">   <hr width=\"82%\" style=\"border-bottom:2px dashed; border-top:none\"/>\n",
    ">   \n",
    ">   ### &#x2e04;&hairsp;&#x2075;&hairsp;&#x2E05;&hairsp;(C)\n",
    ">\n",
    ">   There is a tiny hole in the central plate, so a moving particle can pass\n",
    ">   through the hole. \n",
    ">\n",
    ">   __If a proton started at $A$ and moved to $B$ along the path shown, what would\n",
    ">   be the change in its kinetic energy?__\n",
    ">\n",
    ">   &emsp;&emsp;&emsp;&emsp; $\\Delta K = \\fbox{\\hspace{8em}?}$\n",
    ">\n",
    ">   (select one:)\n",
    ">\n",
    ">   - [ ] &nbsp; [J]\n",
    ">\n",
    ">   <hr width=\"64%\" style=\"border-top:2px dotted; border-bottom:none\"/>"
   ]
  },
  {
   "cell_type": "code",
   "execution_count": null,
   "id": "3e4b610b",
   "metadata": {},
   "outputs": [],
   "source": []
  },
  {
   "cell_type": "markdown",
   "id": "fd650d4e",
   "metadata": {},
   "source": [
    "- [x] [J]"
   ]
  },
  {
   "cell_type": "markdown",
   "id": "0f235311",
   "metadata": {},
   "source": [
    "<h3 id='5d' style=\"display:none\">(D)</h3>\n",
    "\n",
    ">   <hr width=\"82%\" style=\"border-bottom:2px dashed; border-top:none\"/>\n",
    ">   \n",
    ">   ### &#x2e04;&hairsp;&#x2075;&hairsp;&#x2E05;&hairsp;(D)\n",
    ">\n",
    ">   If the proton had kinetic energy $6 \\times 10^{-18}$ [J] when it is at \n",
    ">   location $A$, __what would the kinetic energy of the proton be upon reaching\n",
    ">   location $B$?__\n",
    ">\n",
    ">   &emsp;&emsp;&emsp;&emsp; $\\Delta K = \\fbox{\\hspace{8em}?}$\n",
    ">\n",
    ">   (select one:)\n",
    ">\n",
    ">   - [ ] &nbsp; [J]\n",
    ">\n",
    ">   <hr width=\"64%\" style=\"border-top:2px dotted; border-bottom:none\"/>"
   ]
  },
  {
   "cell_type": "code",
   "execution_count": null,
   "id": "4ead5e81",
   "metadata": {},
   "outputs": [],
   "source": []
  },
  {
   "cell_type": "markdown",
   "id": "be5eab23",
   "metadata": {},
   "source": [
    "- [x] [J]"
   ]
  },
  {
   "cell_type": "markdown",
   "id": "c02b82b4",
   "metadata": {},
   "source": [
    "<h3 id='5e' style=\"display:none\">(E)</h3>\n",
    "\n",
    ">   <hr width=\"82%\" style=\"border-bottom:2px dashed; border-top:none\"/>\n",
    ">   \n",
    ">   ### &#x2e04;&hairsp;&#x2075;&hairsp;&#x2E05;&hairsp;(E)\n",
    ">\n",
    ">   __Would it be possible for the proton to actually reach location $B$?__\n",
    ">\n",
    ">   Note that if you find the final kinetic energy to be negative, that means \n",
    ">   the proton will not actually get to location $B$ (a negative kinetic energy \n",
    ">   is impossible).\n",
    ">\n",
    ">   (select one:)\n",
    ">\n",
    ">   - [ ] &nbsp; [J]\n",
    ">\n",
    ">   <hr width=\"64%\" style=\"border-top:2px dotted; border-bottom:none\"/>"
   ]
  },
  {
   "cell_type": "markdown",
   "id": "e8f2dfb5",
   "metadata": {},
   "source": [
    "- [x] [J]"
   ]
  },
  {
   "cell_type": "markdown",
   "id": "91dd1121",
   "metadata": {},
   "source": [
    "<div style=\"page-break-after: always;\"/> \n",
    "<h2 id='6' style=\"display:none\">[6]</h2>\n",
    "\n",
    ">   ---\n",
    ">   ## [6]\n",
    ">\n",
    ">   A dipole is centered at the origin, with its axis along the $y$ axis; so that\n",
    ">   at locations on the $y$-axis, the electric field due to the dipole is given\n",
    ">   by:\n",
    ">   \n",
    ">   $$\n",
    ">       \\vec{E} = \n",
    ">           \\left\\langle\\ \n",
    ">               0,\\ \n",
    ">               \\left( \n",
    ">                   \\frac{1}{4\\pi\\epsilon_0} (2q) \\cdot \\frac{s}{y^3}\n",
    ">               \\right),\\ \n",
    ">               0\\ \n",
    ">               \\right\\rangle \n",
    ">       \\left[\n",
    ">           \\mathrm{V} / \\mathrm{m}\n",
    ">       \\right]\n",
    ">   $$\n",
    ">\n",
    ">   The charges making up the dipole are $q_1 = +4$ [nC] and $q_2 = -4$ [nC], \n",
    ">   and the dipole separation is $s = 9$ [mm] (see figure below).\n",
    ">\n",
    ">   __What is the potential difference; along a path starting at location \n",
    ">   $P_1 = \\left\\langle\\ 0,\\ 0.03,\\ 0\\ \\right\\rangle$ [m], and ending at \n",
    ">   location $P_2 = \\left\\langle\\ 0, 0.06,\\ 0\\ \\right\\rangle$ [m]?__\n",
    ">\n",
    ">   &nbsp;&nbsp;&nbsp;&nbsp; $\\fbox{\\hspace{8em}?}\\ \\left[\\mathrm{V}\\right]$\n",
    ">\n",
    ">   __<p align='right'>(0.1 points)</p>__\n",
    ">\n",
    ">   <hr width=\"82%\" style=\"border-top:1px dashed; border-bottom:none\"/>"
   ]
  },
  {
   "cell_type": "code",
   "execution_count": null,
   "id": "508506b6",
   "metadata": {},
   "outputs": [],
   "source": []
  },
  {
   "cell_type": "markdown",
   "id": "86d0bde6",
   "metadata": {},
   "source": [
    "<div style=\"page-break-after: always;\"/> \n",
    "<h2 id='7' style=\"display:none\">[7]</h2>\n",
    "\n",
    ">   ---\n",
    ">   ## [7]*\n",
    ">\n",
    ">   __Geiger Tube__\n",
    ">\n",
    ">   A Geiger Tube, used to detect radioactive decays, contains a long thin metal\n",
    ">   wire, surrounded by a concentric long narrow metal tube.\n",
    ">   Insulating spokes hold the wire in the center of the tube, and prevent \n",
    ">   electrical contact between the wire and the tube. \n",
    ">\n",
    ">   A variable power supply is connected to the device as shown. Normally, no \n",
    ">   current flows, because the tube and wire are not connected to each other. \n",
    ">   The power supply maintains opposite charges on the wire and the tube.\n",
    ">\n",
    ">   <img loading='lazy' decoding='async' src=\"data:image/avif;base64,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\" />\n",
    ">\n",
    ">   __<p align='right'>(10 points)</p>__\n",
    ">\n",
    ">   <hr width=\"82%\" style=\"border-top:1px dashed; border-bottom:none\"/>"
   ]
  },
  {
   "cell_type": "markdown",
   "id": "2b81fb98",
   "metadata": {},
   "source": [
    "<h3 id='7a' style=\"display:none\">(A)</h3>\n",
    "\n",
    ">   <hr width=\"82%\" style=\"border-bottom:2px dashed; border-top:none\"/>\n",
    ">   \n",
    ">   ### &#x2e04;&hairsp;&#x2077;&hairsp;&#x2E05;&hairsp;(A)\n",
    ">\n",
    ">   The electric field in the space between the wire and the outer tube is due \n",
    ">   only to the wire &mdash; the contribution due to the charges on the outer \n",
    ">   tube sum to zero! \n",
    ">\n",
    ">   When the electric field at any location in air reaches $3 \\times 10^6$ [V/m],\n",
    ">   the air ionizes and becomes a conductor. \n",
    ">   \n",
    ">   For the tube shown, the length $L = 76$ [cm], the inner radius $r = 0.6$ [mm],\n",
    ">   and the outer radius $R = 3.5$ [cm]. \n",
    ">\n",
    ">   __How much charge would there need to be on the inner wire, in order to \n",
    ">     ionize the air near the wire__ (where the field is largest)__?__\n",
    ">\n",
    ">   &emsp;&emsp;&emsp;&emsp; $Q = \\fbox{\\hspace{8em}?}\\ \\left[\\textrm{C}\\right]$\n",
    ">\n",
    ">   <hr width=\"64%\" style=\"border-top:2px dotted; border-bottom:none\"/>"
   ]
  },
  {
   "cell_type": "code",
   "execution_count": 5,
   "id": "ff579882",
   "metadata": {},
   "outputs": [
    {
     "name": "stdout",
     "output_type": "stream",
     "text": [
      "7.61052638442067e-8\n"
     ]
    },
    {
     "data": {
      "text/html": [
       "<html>\\(\\displaystyle 2736.00000000000 \\, ε_0 π\\)</html>"
      ],
      "text/latex": [
       "$\\displaystyle 2736.00000000000 \\, ε_0 π$"
      ],
      "text/plain": [
       "2736.00000000000*ε_0*π"
      ]
     },
     "execution_count": 5,
     "metadata": {},
     "output_type": "execute_result"
    }
   ],
   "source": [
    "L = 76e-2\n",
    "R_i = 0.6e-3\n",
    "R_o = 3.5e-2\n",
    "E = 3e6\n",
    "\n",
    "Q = E * (2 * π * ε_0 * L) * (R_i)\n",
    "print(n(Q))\n",
    "Q\n"
   ]
  },
  {
   "cell_type": "markdown",
   "id": "f69e65b3",
   "metadata": {},
   "source": [
    "<h3 id='7b' style=\"display:none\">(B)</h3>\n",
    "\n",
    ">   <hr width=\"82%\" style=\"border-bottom:2px dashed; border-top:none\"/>\n",
    ">   \n",
    ">   ### &#x2e04;&hairsp;&#x2077;&hairsp;&#x2E05;&hairsp;(B)\n",
    ">\n",
    ">   When there is enough charge on the wire to ionize the air, you see a glow in\n",
    ">   the air, very near the inner wire. \n",
    ">\n",
    ">   When this happens, __what is the absolute value of the potential difference \n",
    ">   along a path from the inner wire to the outer tube?__\n",
    ">\n",
    ">   (Note that the electric field in this region is _not_ uniform.)\n",
    ">\n",
    ">   &emsp;&emsp;&emsp;&emsp; $\\left\\lvert \\Delta V \\right\\rvert = \\fbox{\\hspace{8em}?}\\ \\left[\\textrm{V}\\right]$\n",
    ">\n",
    ">   The Geiger Tube was one of the first electronic particle detectors. \n",
    ">   The voltage is set just below the threshold for making the air glow near the\n",
    ">   wire (Part B). A charged particle that passes near the center wire can trigger \n",
    ">   ionization of the air, leading to a large current that can be easily measured. \n",
    ">\n",
    ">   <hr width=\"64%\" style=\"border-top:2px dotted; border-bottom:none\"/>"
   ]
  },
  {
   "cell_type": "code",
   "execution_count": 8,
   "id": "aec88d89",
   "metadata": {},
   "outputs": [
    {
     "name": "stdout",
     "output_type": "stream",
     "text": [
      "7319.11263345973\n"
     ]
    },
    {
     "data": {
      "text/html": [
       "<html>\\(\\displaystyle -7319.11263345973\\)</html>"
      ],
      "text/latex": [
       "$\\displaystyle -7319.11263345973$"
      ],
      "text/plain": [
       "-7319.11263345973"
      ]
     },
     "execution_count": 8,
     "metadata": {},
     "output_type": "execute_result"
    }
   ],
   "source": [
    "# TODO :> also derive this in cylindrical coords, later\n",
    "\n",
    "ΔV = -(Q / (2*π*ε_0*L)) * ln(R_o / R_i)\n",
    "print(n(abs(ΔV)))\n",
    "\n",
    "abs(ΔV)\n"
   ]
  },
  {
   "cell_type": "markdown",
   "id": "c12372f1",
   "metadata": {},
   "source": [
    "<div style=\"page-break-after: always;\"/> \n",
    "<h2 id='8' style=\"display:none\">[8]</h2>\n",
    "\n",
    ">   --- \n",
    ">   ## [8]\n",
    ">\n",
    ">   A capacitor consists of two charged disks of radius $R = 3.6$ [m], separated\n",
    ">   by a distance $s = 2$ [mm] (see figure).\n",
    ">\n",
    ">   <img loading='lazy' decoding='async' src=\"data:image/avif;base64,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\" />\n",
    ">\n",
    ">   The magnitude of the charge on each disk is $47$ [µC].\n",
    ">\n",
    ">   Consider points $A$, $B$, $C$, and $D$ inside the capacitor, as shown in the\n",
    ">   diagram. \n",
    ">\n",
    ">   The distance $s_1 = 1.3$ [mm], and the distance $s_2 = 0.7$ [mm].\n",
    ">\n",
    ">   (Assume the $+x$-axis to the right, $+y$-axis is up the page, and the $+z$-axis\n",
    ">    is out of the page.)\n",
    ">\n",
    ">   __<p align='right'>(0.1 points)</p>__\n",
    ">\n",
    ">   <hr width=\"82%\" style=\"border-top:1px dashed; border-bottom:none\"/>"
   ]
  },
  {
   "cell_type": "markdown",
   "id": "a451dff3",
   "metadata": {},
   "source": [
    "<h3 id='8a' style=\"display:none\">(A)</h3>\n",
    "\n",
    ">   <hr width=\"82%\" style=\"border-bottom:2px dashed; border-top:none\"/>\n",
    ">   \n",
    ">   ### &#x2e04;&hairsp;&#x2078;&hairsp;&#x2E05;&hairsp;(A)\n",
    ">\n",
    ">   __What is the electric field inside the capacitor?__\n",
    ">\n",
    ">   &emsp;&emsp;&emsp;&emsp; $\\vec{E} = \\left\\langle\\ \\fbox{\\hspace{4em}?},\\ \\fbox{\\hspace{4em}?},\\ \\fbox{\\hspace{4em}?}\\ \\right\\rangle \\left[\\mathrm{N}/\\mathrm{C}\\right]$\n",
    ">\n",
    ">   <hr width=\"64%\" style=\"border-top:2px dotted; border-bottom:none\"/>"
   ]
  },
  {
   "cell_type": "code",
   "execution_count": null,
   "id": "c1a9bf31",
   "metadata": {},
   "outputs": [],
   "source": []
  },
  {
   "cell_type": "markdown",
   "id": "a4e34cc9",
   "metadata": {},
   "source": [
    "<h3 id='8b' style=\"display:none\">(B)</h3>\n",
    "\n",
    ">   <hr width=\"82%\" style=\"border-bottom:2px dashed; border-top:none\"/>\n",
    ">   \n",
    ">   ### &#x2e04;&hairsp;&#x2078;&hairsp;&#x2E05;&hairsp;(B)\n",
    ">\n",
    ">   First, calculate the potential difference $V_B - V_A$.\n",
    ">\n",
    ">   __What is $\\Delta \\vec{l}$ along this path?__\n",
    ">\n",
    ">    &emsp;&emsp;&emsp;&emsp; $\\Delta\\vec{l} = \\left\\langle\\ \\fbox{\\hspace{4em}?},\\ \\fbox{\\hspace{4em}?},\\ \\fbox{\\hspace{4em}?}\\ \\right\\rangle \\left[\\mathrm{m}\\right]$\n",
    ">\n",
    ">   __What is $V_B - V_A$?__\n",
    ">\n",
    ">   &emsp;&emsp;&emsp;&emsp; $V_B - V_A = \\fbox{\\hspace{8em}?}\\ \\left[\\mathrm{V}\\right]$\n",
    ">\n",
    ">   <hr width=\"64%\" style=\"border-top:2px dotted; border-bottom:none\"/>"
   ]
  },
  {
   "cell_type": "code",
   "execution_count": null,
   "id": "143e0e7a",
   "metadata": {},
   "outputs": [],
   "source": []
  },
  {
   "cell_type": "markdown",
   "id": "22d1f162",
   "metadata": {},
   "source": [
    "<h3 id='8c' style=\"display:none\">(C)</h3>\n",
    "\n",
    ">   <hr width=\"82%\" style=\"border-bottom:2px dashed; border-top:none\"/>\n",
    ">   \n",
    ">   ### &#x2e04;&hairsp;&#x2078;&hairsp;&#x2E05;&hairsp;(C)\n",
    ">\n",
    ">   Next, calculate the potential difference $V_C - V_B$.\n",
    ">\n",
    ">   __What is $\\Delta \\vec{l}$ along this path?__\n",
    ">\n",
    ">    &emsp;&emsp;&emsp;&emsp; $\\Delta\\vec{l} = \\left\\langle\\ \\fbox{\\hspace{4em}?},\\ \\fbox{\\hspace{4em}?},\\ \\fbox{\\hspace{4em}?}\\ \\right\\rangle \\left[\\mathrm{m}\\right]$\n",
    ">\n",
    ">   __What is $V_B - V_A$?__\n",
    ">\n",
    ">   &emsp;&emsp;&emsp;&emsp; $V_C - V_B = \\fbox{\\hspace{8em}?}\\ \\left[\\mathrm{V}\\right]$\n",
    ">\n",
    ">   <hr width=\"64%\" style=\"border-top:2px dotted; border-bottom:none\"/>"
   ]
  },
  {
   "cell_type": "code",
   "execution_count": null,
   "id": "c1e7c2db",
   "metadata": {},
   "outputs": [],
   "source": []
  },
  {
   "cell_type": "markdown",
   "id": "d9398151",
   "metadata": {},
   "source": [
    "<h3 id='8d' style=\"display:none\">(D)</h3>\n",
    "\n",
    ">   <hr width=\"82%\" style=\"border-bottom:2px dashed; border-top:none\"/>\n",
    ">   \n",
    ">   ### &#x2e04;&hairsp;&#x2078;&hairsp;&#x2E05;&hairsp;(D)\n",
    ">\n",
    ">   Finally, calculate the potential difference $V_A - V_C$.\n",
    ">\n",
    ">   __What is $\\Delta \\vec{l}$ along this path?__\n",
    ">\n",
    ">    &emsp;&emsp;&emsp;&emsp; $\\Delta\\vec{l} = \\left\\langle\\ \\fbox{\\hspace{4em}?},\\ \\fbox{\\hspace{4em}?},\\ \\fbox{\\hspace{4em}?}\\ \\right\\rangle \\left[\\mathrm{m}\\right]$\n",
    ">\n",
    ">   __What is $V_A - V_C$?__\n",
    ">\n",
    ">   &emsp;&emsp;&emsp;&emsp; $V_A - V_C = \\fbox{\\hspace{8em}?}\\ \\left[\\mathrm{V}\\right]$\n",
    ">\n",
    ">   <hr width=\"64%\" style=\"border-top:2px dotted; border-bottom:none\"/>"
   ]
  },
  {
   "cell_type": "code",
   "execution_count": null,
   "id": "44716281",
   "metadata": {},
   "outputs": [],
   "source": []
  },
  {
   "cell_type": "markdown",
   "id": "5fbe64c2",
   "metadata": {},
   "source": [
    "---"
   ]
  }
 ],
 "metadata": {
  "kernelspec": {
   "display_name": "SageMath 10.6",
   "language": "sage",
   "name": "SageMath-10.6"
  },
  "language_info": {
   "codemirror_mode": {
    "name": "ipython",
    "version": 3
   },
   "file_extension": ".py",
   "mimetype": "text/x-python",
   "name": "python",
   "nbconvert_exporter": "python",
   "pygments_lexer": "ipython3",
   "version": "3.12.5"
  }
 },
 "nbformat": 4,
 "nbformat_minor": 5
}
