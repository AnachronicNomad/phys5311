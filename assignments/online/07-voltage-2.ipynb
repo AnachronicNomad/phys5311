{
 "cells": [
  {
   "cell_type": "markdown",
   "id": "2bb211fe",
   "metadata": {},
   "source": [
    "# Voltage 2\n",
    "\n",
    "M&I Ch 16 Electric Potential\n",
    "\n",
    "- § 16.3 &ndash; Potential Difference in a Uniform Field\n",
    "- § 16.6 &ndash; Path Independence"
   ]
  },
  {
   "cell_type": "code",
   "execution_count": null,
   "id": "4d87d0c4",
   "metadata": {
    "vscode": {
     "languageId": "python"
    }
   },
   "outputs": [
    {
     "name": "stdout",
     "output_type": "stream",
     "text": [
      "Python: 3.12.5 (main, Feb 25 2025, 12:37:41) [Clang 16.0.0 (clang-1600.0.26.6)]\n"
     ]
    },
    {
     "data": {
      "text/html": [
       "<html>\\(\\displaystyle \\verb|SageMath|\\verb| |\\verb|version|\\verb| |\\verb|10.6,|\\verb| |\\verb|Release|\\verb| |\\verb|Date:|\\verb| |\\verb|2025-03-31|\\)</html>"
      ],
      "text/latex": [
       "$\\displaystyle \\verb|SageMath|\\verb| |\\verb|version|\\verb| |\\verb|10.6,|\\verb| |\\verb|Release|\\verb| |\\verb|Date:|\\verb| |\\verb|2025-03-31|$"
      ],
      "text/plain": [
       "'SageMath version 10.6, Release Date: 2025-03-31'"
      ]
     },
     "execution_count": 1,
     "metadata": {},
     "output_type": "execute_result"
    }
   ],
   "source": [
    "########\n",
    "## Env Setup / Preamble\n",
    "########\n",
    "%load_ext autoreload\n",
    "%autoreload complete \n",
    "\n",
    "%load_ext Cython\n",
    "\n",
    "%display latex\n",
    "\n",
    "################\n",
    "\n",
    "import cython\n",
    "from sage.all import *\n",
    "\n",
    "################\n",
    "\n",
    "import tempfile\n",
    "import mmap\n",
    "from multiprocessing import shared_memory\n",
    "\n",
    "################\n",
    "\n",
    "import numpy as np\n",
    "import scipy.constants\n",
    "\n",
    "np.random.seed( int(scipy.constants.golden_ratio * 1.e6) )\n",
    "\n",
    "from numpy import vectorize\n",
    "from numpy import r_, c_, s_\n",
    "\n",
    "################\n",
    "\n",
    "####    boiler-plate class for named constants\n",
    "from sage.symbolic.constants import Constant\n",
    "class ConstantFromExpression(Constant):\n",
    "    def __init__(self, name, v):\n",
    "        conversions = dict(maxima=repr(maxima.coerce(v)))\n",
    "        Constant.__init__(self, name, conversions=conversions)\n",
    "        self._v = v\n",
    "    def __float__(self): return float(self._v)\n",
    "    def __complex__(self): return complex(self._v)\n",
    "    def _mpfr_(self, R): return R(self._v)\n",
    "    def _real_double_(self, R): return R(self._v)\n",
    "\n",
    "def NamedExpression(name, expr):\n",
    "    return ConstantFromExpression(name,expr).expression()\n",
    "####\n",
    "\n",
    "import sage.symbolic.units as units     # <: TODO\n",
    "\n",
    "π   = NamedExpression('π', scipy.constants.pi)          # pi\n",
    "ε_0 = NamedExpression('ε_0', scipy.constants.epsilon_0) # electric permittivity of vacuum\n",
    "μ_0 = NamedExpression('μ_0', scipy.constants.mu_0)      # magnetic permeability of vacuum\n",
    "\n",
    "𝛋 = 1. / (4 * π * ε_0)      # Coulomb's constant in [ N·m²/C² ]\n",
    "q = NamedExpression('q', -scipy.constants.elementary_charge)\n",
    "\n",
    "ℎ_planck = NamedExpression('ℎ', scipy.constants.Planck)\n",
    "ℏ = NamedExpression('ℏ', scipy.constants.hbar)\n",
    "\n",
    "α = NamedExpression('α', scipy.constants.fine_structure)\n",
    "\n",
    "m_e = NamedExpression('m_e', scipy.constants.electron_mass)\n",
    "m_p = NamedExpression('m_p', scipy.constants.proton_mass)\n",
    "\n",
    "################\n",
    "\n",
    "Parallelism().set(nproc=8)\n",
    "print(f\"Python: {sys.version}\")\n",
    "version()\n"
   ]
  },
  {
   "cell_type": "code",
   "execution_count": 2,
   "id": "6dbb2a79",
   "metadata": {
    "vscode": {
     "languageId": "python"
    }
   },
   "outputs": [
    {
     "name": "stdout",
     "output_type": "stream",
     "text": [
      "The Zen of Python, by Tim Peters\n",
      "\n",
      "Beautiful is better than ugly.\n",
      "Explicit is better than implicit.\n",
      "Simple is better than complex.\n",
      "Complex is better than complicated.\n",
      "Flat is better than nested.\n",
      "Sparse is better than dense.\n",
      "Readability counts.\n",
      "Special cases aren't special enough to break the rules.\n",
      "Although practicality beats purity.\n",
      "Errors should never pass silently.\n",
      "Unless explicitly silenced.\n",
      "In the face of ambiguity, refuse the temptation to guess.\n",
      "There should be one-- and preferably only one --obvious way to do it.\n",
      "Although that way may not be obvious at first unless you're Dutch.\n",
      "Now is better than never.\n",
      "Although never is often better than *right* now.\n",
      "If the implementation is hard to explain, it's a bad idea.\n",
      "If the implementation is easy to explain, it may be a good idea.\n",
      "Namespaces are one honking great idea -- let's do more of those!\n"
     ]
    }
   ],
   "source": [
    "##  sanity check\n",
    "import this\n"
   ]
  },
  {
   "cell_type": "markdown",
   "id": "a0f34f73",
   "metadata": {},
   "source": [
    "---\n",
    "\n",
    "<hr width=\"82%\" style=\"border-top:2px dashed; border-bottom:none\"/>\n",
    "\n",
    "<hr width=\"64%\" style=\"border-top:1px dotted; border-bottom:none\"/>"
   ]
  },
  {
   "cell_type": "markdown",
   "id": "36f1c670",
   "metadata": {},
   "source": [
    "<div style=\"page-break-after: always;\"/> \n",
    "<h2 id='1' style=\"display:none\">[1]</h2>\n",
    "\n",
    ">   ---\n",
    ">   ## [1]\n",
    ">\n",
    ">   {{ graphic }}\n",
    ">\n",
    ">   Locations $A$ and $B$ are in a region of uniform electric field, as shown. \n",
    ">\n",
    ">   Along a path from $A$ to $B$, the change in potential is $2900$ [V].\n",
    ">   The distance from $A$ to $B$ is $0.22$ [m]\n",
    ">\n",
    ">   __What is the magnitude of the electric field in this region, with units?__\n",
    ">\n",
    ">   &nbsp;&nbsp;&nbsp;&nbsp; $\\lvert \\vec{E} \\rvert = \\fbox{\\hspace{8em}?}$\n",
    ">\n",
    ">   (select one:)\n",
    ">\n",
    ">   - [ ] &nbsp; [V/m]\n",
    ">\n",
    ">   __<p align='right'>(0.1 points)</p>__\n",
    ">\n",
    ">   <hr width=\"82%\" style=\"border-top:1px dashed; border-bottom:none\"/>"
   ]
  },
  {
   "cell_type": "markdown",
   "id": "4688c153",
   "metadata": {},
   "source": [
    "<div style=\"page-break-after: always;\"/> \n",
    "<h2 id='2' style=\"display:none\">[2]</h2>\n",
    "\n",
    ">   ---\n",
    ">   ## [2]*\n",
    ">\n",
    ">   If the electric field exceeds about $3 \\times 10^6$ [N/C] in air, a \n",
    ">   spark occurs. Approximately, __what is the maximum possible potential \n",
    ">   difference between the plates of a capacitor__ whose gap is $3$ [mm],\n",
    ">   without causing a spark in the air between them?\n",
    ">\n",
    ">   &nbsp;&nbsp;&nbsp;&nbsp; $\\fbox{\\hspace{8em}?}\\ \\left[\\textrm{V}\\right]$\n",
    ">\n",
    ">   __<p align='right'>(10 points)</p>__\n",
    ">\n",
    ">   <hr width=\"82%\" style=\"border-top:1px dashed; border-bottom:none\"/>"
   ]
  },
  {
   "cell_type": "markdown",
   "id": "d5e7ff22",
   "metadata": {},
   "source": [
    "<div style=\"page-break-after: always;\"/> \n",
    "<h2 id='3' style=\"display:none\">[3]</h2>\n",
    "\n",
    ">   ---\n",
    ">   ## [3]\n",
    ">\n",
    ">   In an old style television picture tube (not in a modern flat-panel TV),\n",
    ">   electrons are boiled out of a very hot metal filament placed near a negative\n",
    ">   metal plate (see figure).  \n",
    ">\n",
    ">   {{ graphic }}\n",
    ">\n",
    ">   These electrons start out nearly at rest, and are accelerated toward a \n",
    ">   positive metal plate. They pass through a hole in the positive plate on \n",
    ">   their way toward the picture screen. \n",
    ">\n",
    ">   If the high-voltage supply in the television set maintains a potential\n",
    ">   difference of 15,500 volts between the two plates, __what speed do the \n",
    ">   electrons reach?__\n",
    ">\n",
    ">   (You can use the non-relativisitic approximation here.)\n",
    ">\n",
    ">   &nbsp;&nbsp;&nbsp;&nbsp; $v = \\fbox{\\hspace{8em}?}$ &ensp; [m/s]\n",
    ">\n",
    ">   __<p align='right'>(0.1 points)</p>__\n",
    ">\n",
    ">   <hr width=\"82%\" style=\"border-top:1px dashed; border-bottom:none\"/>"
   ]
  },
  {
   "cell_type": "markdown",
   "id": "9df5da0f",
   "metadata": {},
   "source": [
    "<div style=\"page-break-after: always;\"/> \n",
    "<h2 id='4' style=\"display:none\">[4]</h2>\n",
    "\n",
    ">   ---\n",
    ">   ## [4]*\n",
    ">\n",
    ">   A capacitor consists of two charged disks of radius $R =4.0$ [m], \n",
    ">   separated by a distance $s = 2$ [mm] (see figure below).\n",
    ">\n",
    ">   {{ graphic }}\n",
    ">\n",
    ">   The magnitude of the charge on each disk is $47$ [µC].\n",
    ">\n",
    ">   Consider points $A$, $B$, $C$, and $D$ inside the capacitor, as shown in \n",
    ">   the diagram. \n",
    ">\n",
    ">   The distance $s_1 = 1.6$ [mm], and the distance $s_2 = 0.5$ [mm].\n",
    ">\n",
    ">   (Assume the $+x$-axis to the right, $+y$-axis is up, and the $+z$-axis\n",
    ">    is out.)\n",
    ">\n",
    ">   __<p align='right'>(10 points)</p>__\n",
    ">\n",
    ">   <hr width=\"82%\" style=\"border-top:1px dashed; border-bottom:none\"/>"
   ]
  },
  {
   "cell_type": "markdown",
   "id": "655274ff",
   "metadata": {},
   "source": [
    "<h3 id='4a' style=\"display:none\">(A)</h3>\n",
    "\n",
    ">   <hr width=\"82%\" style=\"border-bottom:2px dashed; border-top:none\"/>\n",
    ">   \n",
    ">   ### &#x2e04;&hairsp;&#x2074;&hairsp;&#x2E05;&hairsp;(A)\n",
    ">\n",
    ">   __What is the electric field inside the capacitor?__\n",
    ">\n",
    ">   &emsp;&emsp;&emsp;&emsp; $\\vec{E} = \\left\\langle\\ \\fbox{\\hspace{4em}?},\\ \\fbox{\\hspace{4em}?},\\ \\fbox{\\hspace{4em}?}\\ \\right\\rangle \\left[\\mathrm{N}/\\mathrm{C}\\right]$\n",
    ">\n",
    ">   <hr width=\"64%\" style=\"border-top:2px dotted; border-bottom:none\"/>"
   ]
  },
  {
   "cell_type": "code",
   "execution_count": null,
   "id": "6795b512",
   "metadata": {
    "vscode": {
     "languageId": "python"
    }
   },
   "outputs": [],
   "source": []
  },
  {
   "cell_type": "markdown",
   "id": "eae3057a",
   "metadata": {},
   "source": [
    "<h3 id='4b' style=\"display:none\">(B)</h3>\n",
    "\n",
    ">   <hr width=\"82%\" style=\"border-bottom:2px dashed; border-top:none\"/>\n",
    ">   \n",
    ">   ### &#x2e04;&hairsp;&#x2074;&hairsp;&#x2E05;&hairsp;(B)\n",
    ">\n",
    ">   First, calculate the potential difference $V_B - V_A$.\n",
    ">\n",
    ">   __What is $\\Delta \\vec{l}$ along this path?__\n",
    ">\n",
    ">    &emsp;&emsp;&emsp;&emsp; $\\Delta\\vec{l} = \\left\\langle\\ \\fbox{\\hspace{4em}?},\\ \\fbox{\\hspace{4em}?},\\ \\fbox{\\hspace{4em}?}\\ \\right\\rangle \\left[\\mathrm{m}\\right]$\n",
    ">\n",
    ">   __What is $V_B - V_A$?__\n",
    ">\n",
    ">   &emsp;&emsp;&emsp;&emsp; $V_B - V_A = \\fbox{\\hspace{8em}?}\\ \\left[\\mathrm{V}\\right]$\n",
    ">\n",
    ">   <hr width=\"64%\" style=\"border-top:2px dotted; border-bottom:none\"/>"
   ]
  },
  {
   "cell_type": "code",
   "execution_count": null,
   "id": "4009d13c",
   "metadata": {
    "vscode": {
     "languageId": "python"
    }
   },
   "outputs": [],
   "source": []
  },
  {
   "cell_type": "markdown",
   "id": "52bfee05",
   "metadata": {},
   "source": [
    "<h3 id='4c' style=\"display:none\">(C)</h3>\n",
    "\n",
    ">   <hr width=\"82%\" style=\"border-bottom:2px dashed; border-top:none\"/>\n",
    ">   \n",
    ">   ### &#x2e04;&hairsp;&#x2074;&hairsp;&#x2E05;&hairsp;(C)\n",
    ">\n",
    ">   Next, calculate the potential difference $V_C - V_B$.\n",
    ">\n",
    ">   __What is $\\Delta \\vec{l}$ along this path?__\n",
    ">\n",
    ">    &emsp;&emsp;&emsp;&emsp; $\\Delta\\vec{l} = \\left\\langle\\ \\fbox{\\hspace{4em}?},\\ \\fbox{\\hspace{4em}?},\\ \\fbox{\\hspace{4em}?}\\ \\right\\rangle \\left[\\mathrm{m}\\right]$\n",
    ">\n",
    ">   __What is $V_B - V_A$?__\n",
    ">\n",
    ">   &emsp;&emsp;&emsp;&emsp; $V_C - V_B = \\fbox{\\hspace{8em}?}\\ \\left[\\mathrm{V}\\right]$\n",
    ">\n",
    ">   <hr width=\"64%\" style=\"border-top:2px dotted; border-bottom:none\"/>"
   ]
  },
  {
   "cell_type": "code",
   "execution_count": null,
   "id": "fb3c8b34",
   "metadata": {
    "vscode": {
     "languageId": "python"
    }
   },
   "outputs": [],
   "source": []
  },
  {
   "cell_type": "markdown",
   "id": "7f4b4f5f",
   "metadata": {},
   "source": [
    "<h3 id='4d' style=\"display:none\">(D)</h3>\n",
    "\n",
    ">   <hr width=\"82%\" style=\"border-bottom:2px dashed; border-top:none\"/>\n",
    ">   \n",
    ">   ### &#x2e04;&hairsp;&#x2074;&hairsp;&#x2E05;&hairsp;(D)\n",
    ">\n",
    ">   Finally, calculate the potential difference $V_A - V_C$.\n",
    ">\n",
    ">   __What is $\\Delta \\vec{l}$ along this path?__\n",
    ">\n",
    ">    &emsp;&emsp;&emsp;&emsp; $\\Delta\\vec{l} = \\left\\langle\\ \\fbox{\\hspace{4em}?},\\ \\fbox{\\hspace{4em}?},\\ \\fbox{\\hspace{4em}?}\\ \\right\\rangle \\left[\\mathrm{m}\\right]$\n",
    ">\n",
    ">   __What is $V_A - V_C$?__\n",
    ">\n",
    ">   &emsp;&emsp;&emsp;&emsp; $V_A - V_C = \\fbox{\\hspace{8em}?}\\ \\left[\\mathrm{V}\\right]$\n",
    ">\n",
    ">   <hr width=\"64%\" style=\"border-top:2px dotted; border-bottom:none\"/>"
   ]
  },
  {
   "cell_type": "code",
   "execution_count": null,
   "id": "953d7f6a",
   "metadata": {
    "vscode": {
     "languageId": "python"
    }
   },
   "outputs": [],
   "source": []
  },
  {
   "cell_type": "markdown",
   "id": "7fd65dd9",
   "metadata": {},
   "source": [
    "<div style=\"page-break-after: always;\"/> \n",
    "<h2 id='5' style=\"display:none\">[5]</h2>\n",
    "\n",
    ">   ---\n",
    ">   ## [5]\n",
    ">\n",
    ">   A capacitor consists of two charged disks of radius $R = 4.3$ [m], separated\n",
    ">   by a distance $s = 2$ [mm] (see figure).\n",
    ">\n",
    ">   {{ graphic }}\n",
    ">\n",
    ">   The magnitude of the charge on each disk is $64$ [µC].\n",
    ">\n",
    ">   Consider points $A$, $B$, $C$, and $D$ inside the capacitor, as shown in the\n",
    ">   diagram. \n",
    ">\n",
    ">   The distance $s_1 = 1.6$ [mm], and the distance $s_2 = 0.5$ [mm].\n",
    ">\n",
    ">   We will calculate the potential difference $\\Delta V = V_C - V_A$ along two\n",
    ">   different paths. \n",
    ">\n",
    ">   __<p align='right'>(0.1 points)</p>__\n",
    ">\n",
    ">   <hr width=\"82%\" style=\"border-top:1px dashed; border-bottom:none\"/>"
   ]
  },
  {
   "cell_type": "markdown",
   "id": "d28838b0",
   "metadata": {},
   "source": [
    "<h3 id='5a' style=\"display:none\">(A)</h3>\n",
    "\n",
    ">   <hr width=\"82%\" style=\"border-bottom:2px dashed; border-top:none\"/>\n",
    ">   \n",
    ">   ### &#x2e04;&hairsp;&#x2075;&hairsp;&#x2E05;&hairsp;(A)\n",
    ">\n",
    ">   __What is the magnitude of the electric field inside the capacitor?__\n",
    ">\n",
    ">   &emsp;&emsp;&emsp;&emsp; $\\lvert E \\rvert = \\fbox{\\hspace{8em}?}\\ \\left[\\mathrm{N}/\\mathrm{C}\\right]$\n",
    ">\n",
    ">   <hr width=\"64%\" style=\"border-top:2px dotted; border-bottom:none\"/>"
   ]
  },
  {
   "cell_type": "code",
   "execution_count": null,
   "id": "60881512",
   "metadata": {
    "vscode": {
     "languageId": "python"
    }
   },
   "outputs": [],
   "source": []
  },
  {
   "cell_type": "markdown",
   "id": "10c882aa",
   "metadata": {},
   "source": [
    "<h3 id='5b' style=\"display:none\">(B)</h3>\n",
    "\n",
    ">   <hr width=\"82%\" style=\"border-bottom:2px dashed; border-top:none\"/>\n",
    ">   \n",
    ">   ### &#x2e04;&hairsp;&#x2075;&hairsp;&#x2E05;&hairsp;(B)\n",
    ">\n",
    ">   First, consider the path $A$-$B$-$C$:\n",
    ">\n",
    ">   __What is $V_B - V_A$?__\n",
    ">\n",
    ">   &emsp;&emsp;&emsp;&emsp; $V_B - V_A = \\fbox{\\hspace{8em}?}\\ \\left[\\mathrm{V}\\right]$\n",
    ">\n",
    ">   &emsp;&emsp;&emsp;&emsp; $V_C - V_B = \\fbox{\\hspace{8em}?}\\ \\left[\\mathrm{V}\\right]$\n",
    ">\n",
    ">   &emsp;&emsp;&emsp;&emsp; $V_C - V_A = \\fbox{\\hspace{8em}?}\\ \\left[\\mathrm{V}\\right]$\n",
    ">\n",
    ">   <hr width=\"64%\" style=\"border-top:2px dotted; border-bottom:none\"/>"
   ]
  },
  {
   "cell_type": "code",
   "execution_count": null,
   "id": "3fa019db",
   "metadata": {
    "vscode": {
     "languageId": "python"
    }
   },
   "outputs": [],
   "source": []
  },
  {
   "cell_type": "markdown",
   "id": "146cba64",
   "metadata": {},
   "source": [
    "<h3 id='5c' style=\"display:none\">(C)</h3>\n",
    "\n",
    ">   <hr width=\"82%\" style=\"border-bottom:2px dashed; border-top:none\"/>\n",
    ">   \n",
    ">   ### &#x2e04;&hairsp;&#x2075;&hairsp;&#x2E05;&hairsp;(C)\n",
    ">\n",
    ">   Now consider the path $A$-$C$. \n",
    ">\n",
    ">   Along this path, $\\Delta V = E \\Delta L \\cos(\\theta)$\n",
    ">\n",
    ">   __If $\\theta$ is the angle between $\\vec{E}$ and the displacement $\\Delta \n",
    ">   \\vec{L}$, then what is $\\Delta L\\ \\cos\\left(\\theta\\right)$?__\n",
    ">\n",
    ">   &emsp;&emsp;&emsp;&emsp; $\\Delta L\\ \\cos\\theta = \\fbox{\\hspace{8em}?}\\ \\left[\\mathrm{m}\\right]$\n",
    ">\n",
    ">   __Therefore, what is $\\Delta V$ along the diagonal path from $A$ to $C$?__\n",
    ">\n",
    ">   &emsp;&emsp;&emsp;&emsp; $V_C - V_A = \\fbox{\\hspace{8em}?}\\ \\left[\\mathrm{V}\\right]$\n",
    ">\n",
    ">   <hr width=\"64%\" style=\"border-top:2px dotted; border-bottom:none\"/>"
   ]
  },
  {
   "cell_type": "code",
   "execution_count": null,
   "id": "8413dabe",
   "metadata": {
    "vscode": {
     "languageId": "python"
    }
   },
   "outputs": [],
   "source": []
  },
  {
   "cell_type": "markdown",
   "id": "7001798f",
   "metadata": {},
   "source": [
    "---"
   ]
  }
 ],
 "metadata": {
  "kernelspec": {
   "display_name": "SageMath 10.6",
   "language": "sage",
   "name": "SageMath-10.6"
  },
  "language_info": {
   "codemirror_mode": {
    "name": "ipython",
    "version": 3
   },
   "file_extension": ".py",
   "mimetype": "text/x-python",
   "name": "sage",
   "nbconvert_exporter": "python",
   "pygments_lexer": "ipython3",
   "version": "3.12.5"
  }
 },
 "nbformat": 4,
 "nbformat_minor": 5
}
