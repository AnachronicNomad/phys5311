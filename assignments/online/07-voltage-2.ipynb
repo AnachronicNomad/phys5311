{
 "cells": [
  {
   "cell_type": "markdown",
   "id": "2bb211fe",
   "metadata": {},
   "source": [
    "# Voltage 2\n",
    "\n",
    "M&I Ch 16 Electric Potential\n",
    "\n",
    "- § 16.3 &ndash; Potential Difference in a Uniform Field\n",
    "- § 16.6 &ndash; Path Independence"
   ]
  },
  {
   "cell_type": "code",
   "execution_count": 2,
   "id": "4d87d0c4",
   "metadata": {},
   "outputs": [
    {
     "name": "stdout",
     "output_type": "stream",
     "text": [
      "Python: 3.12.5 (main, Feb 25 2025, 12:37:41) [Clang 16.0.0 (clang-1600.0.26.6)]\n"
     ]
    },
    {
     "data": {
      "text/html": [
       "<html>\\(\\displaystyle \\verb|SageMath|\\verb| |\\verb|version|\\verb| |\\verb|10.6,|\\verb| |\\verb|Release|\\verb| |\\verb|Date:|\\verb| |\\verb|2025-03-31|\\)</html>"
      ],
      "text/latex": [
       "$\\displaystyle \\verb|SageMath|\\verb| |\\verb|version|\\verb| |\\verb|10.6,|\\verb| |\\verb|Release|\\verb| |\\verb|Date:|\\verb| |\\verb|2025-03-31|$"
      ],
      "text/plain": [
       "'SageMath version 10.6, Release Date: 2025-03-31'"
      ]
     },
     "execution_count": 2,
     "metadata": {},
     "output_type": "execute_result"
    }
   ],
   "source": [
    "########\n",
    "## Env Setup / Preamble\n",
    "########\n",
    "%load_ext autoreload\n",
    "%autoreload complete \n",
    "\n",
    "%load_ext Cython\n",
    "\n",
    "%display latex\n",
    "\n",
    "################\n",
    "\n",
    "import cython\n",
    "from sage.all import *\n",
    "\n",
    "################\n",
    "\n",
    "import tempfile\n",
    "import mmap\n",
    "from multiprocessing import shared_memory\n",
    "\n",
    "################\n",
    "\n",
    "import numpy as np\n",
    "import scipy.constants\n",
    "\n",
    "np.random.seed( int(scipy.constants.golden_ratio * 1.e6) )\n",
    "\n",
    "from numpy import vectorize\n",
    "from numpy import r_, c_, s_\n",
    "\n",
    "################\n",
    "\n",
    "####    boiler-plate class for named constants\n",
    "from sage.symbolic.constants import Constant\n",
    "class ConstantFromExpression(Constant):\n",
    "    def __init__(self, name, v):\n",
    "        conversions = dict(maxima=repr(maxima.coerce(v)))\n",
    "        Constant.__init__(self, name, conversions=conversions)\n",
    "        self._v = v\n",
    "    def __float__(self): return float(self._v)\n",
    "    def __complex__(self): return complex(self._v)\n",
    "    def _mpfr_(self, R): return R(self._v)\n",
    "    def _real_double_(self, R): return R(self._v)\n",
    "\n",
    "def NamedExpression(name, expr):\n",
    "    return ConstantFromExpression(name,expr).expression()\n",
    "####\n",
    "\n",
    "import sage.symbolic.units as units     # <: TODO\n",
    "\n",
    "π   = NamedExpression('π', scipy.constants.pi)          # pi\n",
    "ε_0 = NamedExpression('ε_0', scipy.constants.epsilon_0) # electric permittivity of vacuum\n",
    "μ_0 = NamedExpression('μ_0', scipy.constants.mu_0)      # magnetic permeability of vacuum\n",
    "\n",
    "𝛋 = 1. / (4 * π * ε_0)      # Coulomb's constant in [ N·m²/C² ]\n",
    "q = NamedExpression('q', -scipy.constants.elementary_charge)\n",
    "\n",
    "ℎ_planck = NamedExpression('ℎ', scipy.constants.Planck)\n",
    "ℏ = NamedExpression('ℏ', scipy.constants.hbar)\n",
    "\n",
    "α = NamedExpression('α', scipy.constants.fine_structure)\n",
    "\n",
    "m_e = NamedExpression('m_e', scipy.constants.electron_mass)\n",
    "m_p = NamedExpression('m_p', scipy.constants.proton_mass)\n",
    "\n",
    "################\n",
    "\n",
    "Parallelism().set(nproc=8)\n",
    "print(f\"Python: {sys.version}\")\n",
    "version()\n"
   ]
  },
  {
   "cell_type": "code",
   "execution_count": 3,
   "id": "6dbb2a79",
   "metadata": {},
   "outputs": [
    {
     "name": "stdout",
     "output_type": "stream",
     "text": [
      "The Zen of Python, by Tim Peters\n",
      "\n",
      "Beautiful is better than ugly.\n",
      "Explicit is better than implicit.\n",
      "Simple is better than complex.\n",
      "Complex is better than complicated.\n",
      "Flat is better than nested.\n",
      "Sparse is better than dense.\n",
      "Readability counts.\n",
      "Special cases aren't special enough to break the rules.\n",
      "Although practicality beats purity.\n",
      "Errors should never pass silently.\n",
      "Unless explicitly silenced.\n",
      "In the face of ambiguity, refuse the temptation to guess.\n",
      "There should be one-- and preferably only one --obvious way to do it.\n",
      "Although that way may not be obvious at first unless you're Dutch.\n",
      "Now is better than never.\n",
      "Although never is often better than *right* now.\n",
      "If the implementation is hard to explain, it's a bad idea.\n",
      "If the implementation is easy to explain, it may be a good idea.\n",
      "Namespaces are one honking great idea -- let's do more of those!\n"
     ]
    }
   ],
   "source": [
    "##  sanity check\n",
    "import this\n"
   ]
  },
  {
   "cell_type": "markdown",
   "id": "a0f34f73",
   "metadata": {},
   "source": [
    "---\n",
    "\n",
    "<hr width=\"82%\" style=\"border-top:2px dashed; border-bottom:none\"/>\n",
    "\n",
    "<hr width=\"64%\" style=\"border-top:1px dotted; border-bottom:none\"/>"
   ]
  },
  {
   "cell_type": "markdown",
   "id": "36f1c670",
   "metadata": {},
   "source": [
    "<div style=\"page-break-after: always;\"/> \n",
    "<h2 id='1' style=\"display:none\">[1]</h2>\n",
    "\n",
    ">   ---\n",
    ">   ## [1]\n",
    ">\n",
    ">   <img loading='lazy' decoding='async' src=\"data:image/avif;base64,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\" />\n",
    ">\n",
    ">   Locations $A$ and $B$ are in a region of uniform electric field, as shown. \n",
    ">\n",
    ">   Along a path from $A$ to $B$, the change in potential is $2900$ [V].\n",
    ">   The distance from $A$ to $B$ is $0.22$ [m]\n",
    ">\n",
    ">   __What is the magnitude of the electric field in this region, with units?__\n",
    ">\n",
    ">   &nbsp;&nbsp;&nbsp;&nbsp; $\\lvert \\vec{E} \\rvert = \\fbox{\\hspace{8em}?}$\n",
    ">\n",
    ">   (select one:)\n",
    ">\n",
    ">   - [ ] &nbsp; [V/m]\n",
    ">\n",
    ">   __<p align='right'>(0.1 points)</p>__\n",
    ">\n",
    ">   <hr width=\"82%\" style=\"border-top:1px dashed; border-bottom:none\"/>"
   ]
  },
  {
   "cell_type": "code",
   "execution_count": null,
   "id": "82d9ecd6",
   "metadata": {},
   "outputs": [],
   "source": []
  },
  {
   "cell_type": "markdown",
   "id": "ffc1ad50",
   "metadata": {},
   "source": [
    "- [x] [V/m]"
   ]
  },
  {
   "cell_type": "markdown",
   "id": "4688c153",
   "metadata": {},
   "source": [
    "<div style=\"page-break-after: always;\"/> \n",
    "<h2 id='2' style=\"display:none\">[2]</h2>\n",
    "\n",
    ">   ---\n",
    ">   ## [2]*\n",
    ">\n",
    ">   If the electric field exceeds about $3 \\times 10^6$ [N/C] in air, a \n",
    ">   spark occurs. Approximately, __what is the maximum possible potential \n",
    ">   difference between the plates of a capacitor__ whose gap is $3$ [mm],\n",
    ">   without causing a spark in the air between them?\n",
    ">\n",
    ">   &nbsp;&nbsp;&nbsp;&nbsp; $\\fbox{\\hspace{8em}?}\\ \\left[\\textrm{V}\\right]$\n",
    ">\n",
    ">   __<p align='right'>(10 points)</p>__\n",
    ">\n",
    ">   <hr width=\"82%\" style=\"border-top:1px dashed; border-bottom:none\"/>"
   ]
  },
  {
   "cell_type": "code",
   "execution_count": null,
   "id": "a5551db1",
   "metadata": {},
   "outputs": [],
   "source": []
  },
  {
   "cell_type": "markdown",
   "id": "d5e7ff22",
   "metadata": {},
   "source": [
    "<div style=\"page-break-after: always;\"/> \n",
    "<h2 id='3' style=\"display:none\">[3]</h2>\n",
    "\n",
    ">   ---\n",
    ">   ## [3]\n",
    ">\n",
    ">   In an old style television picture tube (not in a modern flat-panel TV),\n",
    ">   electrons are boiled out of a very hot metal filament placed near a negative\n",
    ">   metal plate (see figure).  \n",
    ">\n",
    ">   <img loading='lazy' decoding='async' src=\"data:image/avif;base64,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\" />\n",
    ">\n",
    ">   These electrons start out nearly at rest, and are accelerated toward a \n",
    ">   positive metal plate. They pass through a hole in the positive plate on \n",
    ">   their way toward the picture screen. \n",
    ">\n",
    ">   If the high-voltage supply in the television set maintains a potential\n",
    ">   difference of 15,500 volts between the two plates, __what speed do the \n",
    ">   electrons reach?__\n",
    ">\n",
    ">   (You can use the non-relativisitic approximation here.)\n",
    ">\n",
    ">   &nbsp;&nbsp;&nbsp;&nbsp; $v = \\fbox{\\hspace{8em}?}$ &ensp; [m/s]\n",
    ">\n",
    ">   __<p align='right'>(0.1 points)</p>__\n",
    ">\n",
    ">   <hr width=\"82%\" style=\"border-top:1px dashed; border-bottom:none\"/>"
   ]
  },
  {
   "cell_type": "code",
   "execution_count": null,
   "id": "16b6cead",
   "metadata": {},
   "outputs": [],
   "source": []
  },
  {
   "cell_type": "markdown",
   "id": "9df5da0f",
   "metadata": {},
   "source": [
    "<div style=\"page-break-after: always;\"/> \n",
    "<h2 id='4' style=\"display:none\">[4]</h2>\n",
    "\n",
    ">   ---\n",
    ">   ## [4]*\n",
    ">\n",
    ">   A capacitor consists of two charged disks of radius $R =4.0$ [m], \n",
    ">   separated by a distance $s = 2$ [mm] (see figure below).\n",
    ">\n",
    ">   <img loading='lazy' decoding='async' src=\"data:image/avif;base64,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\" />\n",
    ">\n",
    ">   The magnitude of the charge on each disk is $47$ [µC].\n",
    ">\n",
    ">   Consider points $A$, $B$, $C$, and $D$ inside the capacitor, as shown in \n",
    ">   the diagram. \n",
    ">\n",
    ">   The distance $s_1 = 1.6$ [mm], and the distance $s_2 = 0.5$ [mm].\n",
    ">\n",
    ">   (Assume the $+x$-axis to the right, $+y$-axis is up, and the $+z$-axis\n",
    ">    is out.)\n",
    ">\n",
    ">   __<p align='right'>(10 points)</p>__\n",
    ">\n",
    ">   <hr width=\"82%\" style=\"border-top:1px dashed; border-bottom:none\"/>"
   ]
  },
  {
   "cell_type": "code",
   "execution_count": 4,
   "id": "7d12b213",
   "metadata": {},
   "outputs": [],
   "source": [
    "R = 4.0\n",
    "\n",
    "s = 2e-3\n",
    "s_1 = 1.6e-3\n",
    "s_2 = 0.5e-3\n",
    "\n",
    "Q = 47e-6\n"
   ]
  },
  {
   "cell_type": "markdown",
   "id": "655274ff",
   "metadata": {},
   "source": [
    "<h3 id='4a' style=\"display:none\">(A)</h3>\n",
    "\n",
    ">   <hr width=\"82%\" style=\"border-bottom:2px dashed; border-top:none\"/>\n",
    ">   \n",
    ">   ### &#x2e04;&hairsp;&#x2074;&hairsp;&#x2E05;&hairsp;(A)\n",
    ">\n",
    ">   __What is the electric field inside the capacitor?__\n",
    ">\n",
    ">   &emsp;&emsp;&emsp;&emsp; $\\vec{E} = \\left\\langle\\ \\fbox{\\hspace{4em}?},\\ \\fbox{\\hspace{4em}?},\\ \\fbox{\\hspace{4em}?}\\ \\right\\rangle \\left[\\mathrm{N}/\\mathrm{C}\\right]$\n",
    ">\n",
    ">   <hr width=\"64%\" style=\"border-top:2px dotted; border-bottom:none\"/>"
   ]
  },
  {
   "cell_type": "code",
   "execution_count": 6,
   "id": "6795b512",
   "metadata": {},
   "outputs": [
    {
     "name": "stdout",
     "output_type": "stream",
     "text": [
      "(105603.733487507, 0.000000000000000, 0.000000000000000)\n"
     ]
    },
    {
     "data": {
      "text/html": [
       "<html>\\(\\displaystyle \\left(\\frac{2.93750000000000 \\times 10^{-6}}{ε_0 π},\\,0,\\,0\\right)\\)</html>"
      ],
      "text/latex": [
       "$\\displaystyle \\left(\\frac{2.93750000000000 \\times 10^{-6}}{ε_0 π},\\,0,\\,0\\right)$"
      ],
      "text/plain": [
       "((2.93750000000000e-6)/(ε_0*π), 0, 0)"
      ]
     },
     "execution_count": 6,
     "metadata": {},
     "output_type": "execute_result"
    }
   ],
   "source": [
    "# TODO :> cref approx for _TWO_ infinite plates of charge, capacitors\n",
    "# TODO :> find way to phrase the approx. using full vector notation\n",
    "\n",
    "E = vector(r_[ (Q / (π * R^2)) / ε_0, 0, 0])\n",
    "print(n(E))\n",
    "\n",
    "E\n"
   ]
  },
  {
   "cell_type": "markdown",
   "id": "eae3057a",
   "metadata": {},
   "source": [
    "<h3 id='4b' style=\"display:none\">(B)</h3>\n",
    "\n",
    ">   <hr width=\"82%\" style=\"border-bottom:2px dashed; border-top:none\"/>\n",
    ">   \n",
    ">   ### &#x2e04;&hairsp;&#x2074;&hairsp;&#x2E05;&hairsp;(B)\n",
    ">\n",
    ">   First, calculate the potential difference $V_B - V_A$.\n",
    ">\n",
    ">   __What is $\\Delta \\vec{l}$ along this path?__\n",
    ">\n",
    ">    &emsp;&emsp;&emsp;&emsp; $\\Delta\\vec{l} = \\left\\langle\\ \\fbox{\\hspace{4em}?},\\ \\fbox{\\hspace{4em}?},\\ \\fbox{\\hspace{4em}?}\\ \\right\\rangle \\left[\\mathrm{m}\\right]$\n",
    ">\n",
    ">   __What is $V_B - V_A$?__\n",
    ">\n",
    ">   &emsp;&emsp;&emsp;&emsp; $V_B - V_A = \\fbox{\\hspace{8em}?}\\ \\left[\\mathrm{V}\\right]$\n",
    ">\n",
    ">   <hr width=\"64%\" style=\"border-top:2px dotted; border-bottom:none\"/>"
   ]
  },
  {
   "cell_type": "code",
   "execution_count": 12,
   "id": "4009d13c",
   "metadata": {},
   "outputs": [
    {
     "name": "stdout",
     "output_type": "stream",
     "text": [
      "Δl_AB: (-0.00160000000000000, 0.000000000000000, 0.000000000000000)\n",
      "168.965973580011\n"
     ]
    },
    {
     "data": {
      "text/html": [
       "<html>\\(\\displaystyle \\frac{4.70000000000000 \\times 10^{-9}}{ε_0 π}\\)</html>"
      ],
      "text/latex": [
       "$\\displaystyle \\frac{4.70000000000000 \\times 10^{-9}}{ε_0 π}$"
      ],
      "text/plain": [
       "(4.70000000000000e-9)/(ε_0*π)"
      ]
     },
     "execution_count": 12,
     "metadata": {},
     "output_type": "execute_result"
    }
   ],
   "source": [
    "# TODO :> show this is okay in uniform electric field, w/ approx, but NOT for non-uniform\n",
    "Δl_AB = vector(r_[ -s_1, 0, 0 ])\n",
    "\n",
    "print(f\"Δl_AB: {n(Δl_AB)}\")\n",
    "\n",
    "ΔV_BA = -E.dot_product(Δl_AB)\n",
    "print(n(ΔV_BA))\n",
    "\n",
    "ΔV_BA\n"
   ]
  },
  {
   "cell_type": "markdown",
   "id": "52bfee05",
   "metadata": {},
   "source": [
    "<h3 id='4c' style=\"display:none\">(C)</h3>\n",
    "\n",
    ">   <hr width=\"82%\" style=\"border-bottom:2px dashed; border-top:none\"/>\n",
    ">   \n",
    ">   ### &#x2e04;&hairsp;&#x2074;&hairsp;&#x2E05;&hairsp;(C)\n",
    ">\n",
    ">   Next, calculate the potential difference $V_C - V_B$.\n",
    ">\n",
    ">   __What is $\\Delta \\vec{l}$ along this path?__\n",
    ">\n",
    ">    &emsp;&emsp;&emsp;&emsp; $\\Delta\\vec{l} = \\left\\langle\\ \\fbox{\\hspace{4em}?},\\ \\fbox{\\hspace{4em}?},\\ \\fbox{\\hspace{4em}?}\\ \\right\\rangle \\left[\\mathrm{m}\\right]$\n",
    ">\n",
    ">   __What is $V_B - V_A$?__\n",
    ">\n",
    ">   &emsp;&emsp;&emsp;&emsp; $V_C - V_B = \\fbox{\\hspace{8em}?}\\ \\left[\\mathrm{V}\\right]$\n",
    ">\n",
    ">   <hr width=\"64%\" style=\"border-top:2px dotted; border-bottom:none\"/>"
   ]
  },
  {
   "cell_type": "code",
   "execution_count": 14,
   "id": "fb3c8b34",
   "metadata": {},
   "outputs": [
    {
     "data": {
      "text/html": [
       "<html>\\(\\displaystyle -0.000000000000000\\)</html>"
      ],
      "text/latex": [
       "$\\displaystyle -0.000000000000000$"
      ],
      "text/plain": [
       "-0.000000000000000"
      ]
     },
     "execution_count": 14,
     "metadata": {},
     "output_type": "execute_result"
    }
   ],
   "source": [
    "Δl_BC = vector(r_[ 0, -s_2, 0 ])\n",
    "\n",
    "ΔV_CB = -E.dot_product(Δl_BC)\n",
    "ΔV_CB\n"
   ]
  },
  {
   "cell_type": "markdown",
   "id": "7f4b4f5f",
   "metadata": {},
   "source": [
    "<h3 id='4d' style=\"display:none\">(D)</h3>\n",
    "\n",
    ">   <hr width=\"82%\" style=\"border-bottom:2px dashed; border-top:none\"/>\n",
    ">   \n",
    ">   ### &#x2e04;&hairsp;&#x2074;&hairsp;&#x2E05;&hairsp;(D)\n",
    ">\n",
    ">   Finally, calculate the potential difference $V_A - V_C$.\n",
    ">\n",
    ">   __What is $\\Delta \\vec{l}$ along this path?__\n",
    ">\n",
    ">    &emsp;&emsp;&emsp;&emsp; $\\Delta\\vec{l} = \\left\\langle\\ \\fbox{\\hspace{4em}?},\\ \\fbox{\\hspace{4em}?},\\ \\fbox{\\hspace{4em}?}\\ \\right\\rangle \\left[\\mathrm{m}\\right]$\n",
    ">\n",
    ">   __What is $V_A - V_C$?__\n",
    ">\n",
    ">   &emsp;&emsp;&emsp;&emsp; $V_A - V_C = \\fbox{\\hspace{8em}?}\\ \\left[\\mathrm{V}\\right]$\n",
    ">\n",
    ">   <hr width=\"64%\" style=\"border-top:2px dotted; border-bottom:none\"/>"
   ]
  },
  {
   "cell_type": "code",
   "execution_count": 17,
   "id": "953d7f6a",
   "metadata": {},
   "outputs": [
    {
     "name": "stdout",
     "output_type": "stream",
     "text": [
      "-168.965973580011\n"
     ]
    },
    {
     "data": {
      "text/html": [
       "<html>\\(\\displaystyle -\\frac{4.70000000000000 \\times 10^{-9}}{ε_0 π}\\)</html>"
      ],
      "text/latex": [
       "$\\displaystyle -\\frac{4.70000000000000 \\times 10^{-9}}{ε_0 π}$"
      ],
      "text/plain": [
       "-(4.70000000000000e-9)/(ε_0*π)"
      ]
     },
     "execution_count": 17,
     "metadata": {},
     "output_type": "execute_result"
    }
   ],
   "source": [
    "# TODO :> write out the explanation of why path-independence in this approx. is \n",
    "# appropriate, and acknowledge A->C is equivalent to A->B->C as calculated in above\n",
    "\n",
    "Δl_CA = vector(r_[ s_1, s_2, 0 ])\n",
    "\n",
    "# invoke path-indepence, and remember convention for `final` - `initial` locations\n",
    "ΔV_AC = -(ΔV_BA + ΔV_CB)\n",
    "\n",
    "print(n(ΔV_AC))\n",
    "\n",
    "ΔV_AC\n"
   ]
  },
  {
   "cell_type": "markdown",
   "id": "7fd65dd9",
   "metadata": {},
   "source": [
    "<div style=\"page-break-after: always;\"/> \n",
    "<h2 id='5' style=\"display:none\">[5]</h2>\n",
    "\n",
    ">   ---\n",
    ">   ## [5]\n",
    ">\n",
    ">   A capacitor consists of two charged disks of radius $R = 4.3$ [m], separated\n",
    ">   by a distance $s = 2$ [mm] (see figure).\n",
    ">\n",
    ">   <img loading='lazy' decoding='async' src=\"data:image/avif;base64,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\" />\n",
    ">\n",
    ">   The magnitude of the charge on each disk is $64$ [µC].\n",
    ">\n",
    ">   Consider points $A$, $B$, $C$, and $D$ inside the capacitor, as shown in the\n",
    ">   diagram. \n",
    ">\n",
    ">   The distance $s_1 = 1.6$ [mm], and the distance $s_2 = 0.5$ [mm].\n",
    ">\n",
    ">   We will calculate the potential difference $\\Delta V = V_C - V_A$ along two\n",
    ">   different paths. \n",
    ">\n",
    ">   __<p align='right'>(0.1 points)</p>__\n",
    ">\n",
    ">   <hr width=\"82%\" style=\"border-top:1px dashed; border-bottom:none\"/>"
   ]
  },
  {
   "cell_type": "markdown",
   "id": "d28838b0",
   "metadata": {},
   "source": [
    "<h3 id='5a' style=\"display:none\">(A)</h3>\n",
    "\n",
    ">   <hr width=\"82%\" style=\"border-bottom:2px dashed; border-top:none\"/>\n",
    ">   \n",
    ">   ### &#x2e04;&hairsp;&#x2075;&hairsp;&#x2E05;&hairsp;(A)\n",
    ">\n",
    ">   __What is the magnitude of the electric field inside the capacitor?__\n",
    ">\n",
    ">   &emsp;&emsp;&emsp;&emsp; $\\lvert E \\rvert = \\fbox{\\hspace{8em}?}\\ \\left[\\mathrm{N}/\\mathrm{C}\\right]$\n",
    ">\n",
    ">   <hr width=\"64%\" style=\"border-top:2px dotted; border-bottom:none\"/>"
   ]
  },
  {
   "cell_type": "code",
   "execution_count": null,
   "id": "60881512",
   "metadata": {},
   "outputs": [],
   "source": []
  },
  {
   "cell_type": "markdown",
   "id": "10c882aa",
   "metadata": {},
   "source": [
    "<h3 id='5b' style=\"display:none\">(B)</h3>\n",
    "\n",
    ">   <hr width=\"82%\" style=\"border-bottom:2px dashed; border-top:none\"/>\n",
    ">   \n",
    ">   ### &#x2e04;&hairsp;&#x2075;&hairsp;&#x2E05;&hairsp;(B)\n",
    ">\n",
    ">   First, consider the path $A$-$B$-$C$:\n",
    ">\n",
    ">   __What is $V_B - V_A$?__\n",
    ">\n",
    ">   &emsp;&emsp;&emsp;&emsp; $V_B - V_A = \\fbox{\\hspace{8em}?}\\ \\left[\\mathrm{V}\\right]$\n",
    ">\n",
    ">   &emsp;&emsp;&emsp;&emsp; $V_C - V_B = \\fbox{\\hspace{8em}?}\\ \\left[\\mathrm{V}\\right]$\n",
    ">\n",
    ">   &emsp;&emsp;&emsp;&emsp; $V_C - V_A = \\fbox{\\hspace{8em}?}\\ \\left[\\mathrm{V}\\right]$\n",
    ">\n",
    ">   <hr width=\"64%\" style=\"border-top:2px dotted; border-bottom:none\"/>"
   ]
  },
  {
   "cell_type": "code",
   "execution_count": null,
   "id": "3fa019db",
   "metadata": {},
   "outputs": [],
   "source": []
  },
  {
   "cell_type": "markdown",
   "id": "146cba64",
   "metadata": {},
   "source": [
    "<h3 id='5c' style=\"display:none\">(C)</h3>\n",
    "\n",
    ">   <hr width=\"82%\" style=\"border-bottom:2px dashed; border-top:none\"/>\n",
    ">   \n",
    ">   ### &#x2e04;&hairsp;&#x2075;&hairsp;&#x2E05;&hairsp;(C)\n",
    ">\n",
    ">   Now consider the path $A$-$C$. \n",
    ">\n",
    ">   Along this path, $\\Delta V = E \\Delta L \\cos(\\theta)$\n",
    ">\n",
    ">   __If $\\theta$ is the angle between $\\vec{E}$ and the displacement $\\Delta \n",
    ">   \\vec{L}$, then what is $\\Delta L\\ \\cos\\left(\\theta\\right)$?__\n",
    ">\n",
    ">   &emsp;&emsp;&emsp;&emsp; $\\Delta L\\ \\cos\\theta = \\fbox{\\hspace{8em}?}\\ \\left[\\mathrm{m}\\right]$\n",
    ">\n",
    ">   __Therefore, what is $\\Delta V$ along the diagonal path from $A$ to $C$?__\n",
    ">\n",
    ">   &emsp;&emsp;&emsp;&emsp; $V_C - V_A = \\fbox{\\hspace{8em}?}\\ \\left[\\mathrm{V}\\right]$\n",
    ">\n",
    ">   <hr width=\"64%\" style=\"border-top:2px dotted; border-bottom:none\"/>"
   ]
  },
  {
   "cell_type": "code",
   "execution_count": null,
   "id": "8413dabe",
   "metadata": {},
   "outputs": [],
   "source": []
  },
  {
   "cell_type": "markdown",
   "id": "7001798f",
   "metadata": {},
   "source": [
    "---"
   ]
  }
 ],
 "metadata": {
  "kernelspec": {
   "display_name": "SageMath 10.6",
   "language": "sage",
   "name": "SageMath-10.6"
  },
  "language_info": {
   "codemirror_mode": {
    "name": "ipython",
    "version": 3
   },
   "file_extension": ".py",
   "mimetype": "text/x-python",
   "name": "python",
   "nbconvert_exporter": "python",
   "pygments_lexer": "ipython3",
   "version": "3.12.5"
  }
 },
 "nbformat": 4,
 "nbformat_minor": 5
}
