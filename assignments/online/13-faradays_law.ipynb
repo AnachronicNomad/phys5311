{
 "cells": [
  {
   "cell_type": "markdown",
   "id": "197469e1",
   "metadata": {},
   "source": [
    "# Faraday's Law"
   ]
  },
  {
   "cell_type": "code",
   "execution_count": null,
   "id": "4d87d0c4",
   "metadata": {
    "vscode": {
     "languageId": "python"
    }
   },
   "outputs": [
    {
     "name": "stdout",
     "output_type": "stream",
     "text": [
      "Python: 3.12.5 (main, Feb 25 2025, 12:37:41) [Clang 16.0.0 (clang-1600.0.26.6)]\n"
     ]
    },
    {
     "data": {
      "text/html": [
       "<html>\\(\\displaystyle \\verb|SageMath|\\verb| |\\verb|version|\\verb| |\\verb|10.6,|\\verb| |\\verb|Release|\\verb| |\\verb|Date:|\\verb| |\\verb|2025-03-31|\\)</html>"
      ],
      "text/latex": [
       "$\\displaystyle \\verb|SageMath|\\verb| |\\verb|version|\\verb| |\\verb|10.6,|\\verb| |\\verb|Release|\\verb| |\\verb|Date:|\\verb| |\\verb|2025-03-31|$"
      ],
      "text/plain": [
       "'SageMath version 10.6, Release Date: 2025-03-31'"
      ]
     },
     "execution_count": 1,
     "metadata": {},
     "output_type": "execute_result"
    }
   ],
   "source": [
    "########\n",
    "## Env Setup / Preamble\n",
    "########\n",
    "%load_ext autoreload\n",
    "%autoreload complete \n",
    "\n",
    "%load_ext Cython\n",
    "\n",
    "%display latex\n",
    "\n",
    "################\n",
    "\n",
    "import cython\n",
    "from sage.all import *\n",
    "\n",
    "################\n",
    "\n",
    "import tempfile\n",
    "import mmap\n",
    "from multiprocessing import shared_memory\n",
    "\n",
    "################\n",
    "\n",
    "import numpy as np\n",
    "import scipy.constants\n",
    "\n",
    "np.random.seed( int(scipy.constants.golden_ratio * 1.e6) )\n",
    "\n",
    "from numpy import vectorize\n",
    "from numpy import r_, c_, s_\n",
    "\n",
    "################\n",
    "\n",
    "####    boiler-plate class for named constants\n",
    "from sage.symbolic.constants import Constant\n",
    "class ConstantFromExpression(Constant):\n",
    "    def __init__(self, name, v):\n",
    "        conversions = dict(maxima=repr(maxima.coerce(v)))\n",
    "        Constant.__init__(self, name, conversions=conversions)\n",
    "        self._v = v\n",
    "    def __float__(self): return float(self._v)\n",
    "    def __complex__(self): return complex(self._v)\n",
    "    def _mpfr_(self, R): return R(self._v)\n",
    "    def _real_double_(self, R): return R(self._v)\n",
    "\n",
    "def NamedExpression(name, expr):\n",
    "    return ConstantFromExpression(name,expr).expression()\n",
    "####\n",
    "\n",
    "import sage.symbolic.units as units     # <: TODO\n",
    "\n",
    "π   = NamedExpression('π', scipy.constants.pi)          # pi\n",
    "ε_0 = NamedExpression('ε_0', scipy.constants.epsilon_0) # electric permittivity of vacuum\n",
    "μ_0 = NamedExpression('μ_0', scipy.constants.mu_0)      # magnetic permeability of vacuum\n",
    "\n",
    "𝛋 = 1. / (4 * π * ε_0)      # Coulomb's constant in [ N·m²/C² ]\n",
    "q = NamedExpression('q', -scipy.constants.elementary_charge)\n",
    "\n",
    "ℎ_planck = NamedExpression('ℎ', scipy.constants.Planck)\n",
    "ℏ = NamedExpression('ℏ', scipy.constants.hbar)\n",
    "\n",
    "α = NamedExpression('α', scipy.constants.fine_structure)\n",
    "\n",
    "m_e = NamedExpression('m_e', scipy.constants.electron_mass)\n",
    "m_p = NamedExpression('m_p', scipy.constants.proton_mass)\n",
    "\n",
    "################\n",
    "\n",
    "Parallelism().set(nproc=8)\n",
    "print(f\"Python: {sys.version}\")\n",
    "version()\n"
   ]
  },
  {
   "cell_type": "code",
   "execution_count": 2,
   "id": "6dbb2a79",
   "metadata": {
    "vscode": {
     "languageId": "python"
    }
   },
   "outputs": [
    {
     "name": "stdout",
     "output_type": "stream",
     "text": [
      "The Zen of Python, by Tim Peters\n",
      "\n",
      "Beautiful is better than ugly.\n",
      "Explicit is better than implicit.\n",
      "Simple is better than complex.\n",
      "Complex is better than complicated.\n",
      "Flat is better than nested.\n",
      "Sparse is better than dense.\n",
      "Readability counts.\n",
      "Special cases aren't special enough to break the rules.\n",
      "Although practicality beats purity.\n",
      "Errors should never pass silently.\n",
      "Unless explicitly silenced.\n",
      "In the face of ambiguity, refuse the temptation to guess.\n",
      "There should be one-- and preferably only one --obvious way to do it.\n",
      "Although that way may not be obvious at first unless you're Dutch.\n",
      "Now is better than never.\n",
      "Although never is often better than *right* now.\n",
      "If the implementation is hard to explain, it's a bad idea.\n",
      "If the implementation is easy to explain, it may be a good idea.\n",
      "Namespaces are one honking great idea -- let's do more of those!\n"
     ]
    }
   ],
   "source": [
    "##  sanity check\n",
    "import this\n"
   ]
  },
  {
   "cell_type": "markdown",
   "id": "b6060a6a",
   "metadata": {},
   "source": [
    "---\n",
    "\n",
    "<hr width=\"82%\" style=\"border-top:2px dashed; border-bottom:none\"/>\n",
    "\n",
    "<hr width=\"64%\" style=\"border-top:1px dotted; border-bottom:none\"/>"
   ]
  },
  {
   "cell_type": "markdown",
   "id": "bf00c164",
   "metadata": {},
   "source": [
    "<div style=\"page-break-after: always;\"/> \n",
    "\n",
    "---\n",
    "\n",
    "## [1]\n",
    "\n",
    ">\n",
    ">   In the figure below, the solenoid radius is 4 [cm] and the ring radius is 17 [cm]. \n",
    ">   $B = 0.5 \\left[\\textrm{T}\\right]$ inside the solenoid, and $B \\approx 0$ outside the solenoid.\n",
    ">\n",
    ">   __What is the magnetic flux through the outer ring?__\n",
    ">\n",
    ">   &emsp;&emsp;&emsp;&emsp; $\\fbox{\\hspace{8em}?}\\ \\left[\\textrm{T}\\cdot\\textrm{m}^2\\right]$\n",
    ">\n",
    ">   __<p align='right'>(0.1 points)</p>__\n",
    ">   <hr width=\"82%\" style=\"border-top:1px dashed; border-bottom:none\"/>"
   ]
  },
  {
   "cell_type": "markdown",
   "id": "561128eb",
   "metadata": {},
   "source": []
  },
  {
   "cell_type": "markdown",
   "id": "0088cea8",
   "metadata": {},
   "source": [
    "<div style=\"page-break-after: always;\"/> \n",
    "\n",
    "---\n",
    "   \n",
    "## [2]\n",
    "\n",
    ">\n",
    ">   The north pole of a bar magnet points toward a thing circular coil of wire containing 30 turns (see the figure). \n",
    ">   The magnet is moved away from the coil, so that the flux through one turn, inside the coil, decreases by $0.1 \\left[\\textrm{Tesla} \\cdot \\textrm{m}^2\\right]$ in $0.2$ seconds.\n",
    ">\n",
    ">   {{GRAPHIC}}\n",
    "> \n",
    ">   __What is the average $\\mathcal{EMF}$ in the coil during this time interval?__\n",
    ">\n",
    ">   &emsp;&emsp;&emsp;&emsp; $\\mathcal{EMF} = \\fbox{\\hspace{8em}?}\\ \\left[\\textrm{V}\\right]$\n",
    ">   \n",
    ">   __Viewed from the right side (opposite the bar magnet), does the current run clockwise or counter-clockwise?__\n",
    ">\n",
    ">   - [ ]   Clockwise\n",
    ">   - [ ]   Counter-Clockwise\n",
    ">\n",
    ">   __<p align='right'>(0.1 points)</p>__\n",
    ">   <hr width=\"82%\" style=\"border-top:1px dashed; border-bottom:none\"/>"
   ]
  },
  {
   "cell_type": "markdown",
   "id": "9d46bb43",
   "metadata": {},
   "source": []
  },
  {
   "cell_type": "markdown",
   "id": "beedca10",
   "metadata": {},
   "source": [
    "<div style=\"page-break-after: always;\"/> \n",
    "\n",
    "---\n",
    "\n",
    "## [3]*\n",
    "\n",
    ">\n",
    ">   The magnetic field in a solenoid is $B = \\left( \\mu_0 N I \\right) / d$.\n",
    ">\n",
    ">   A circular wire of radius 13 [cm] is concentric with a solenoid of radius 2 [cm] and length $d = 1$ meter, containing $N = 11,000$ turns.  The current increases at a rate of 41 [A/s]. \n",
    ">\n",
    ">   __<p align='right'>(10 points)</p>__\n",
    ">   <hr width=\"82%\" style=\"border-top:1px dashed; border-bottom:none\"/>"
   ]
  },
  {
   "cell_type": "markdown",
   "id": "86fb7316",
   "metadata": {},
   "source": [
    "<hr width=\"82%\" style=\"border-bottom:2px dashed; border-top:none\"/>\n",
    "\n",
    "### (A)\n",
    "\n",
    ">\n",
    ">   __What is the $\\mathcal{EMF}$ in the wire?__ \n",
    ">\n",
    ">   &emsp;&emsp;&emsp;&emsp; $\\mathcal{EMF} = \\fbox{\\hspace{8em}?}\\ \\left[\\textrm{V}\\right]$\n",
    ">   <hr width=\"64%\" style=\"border-top:2px dotted; border-bottom:none\"/>"
   ]
  },
  {
   "cell_type": "markdown",
   "id": "e5c2ac7c",
   "metadata": {},
   "source": []
  },
  {
   "cell_type": "markdown",
   "id": "1bed1316",
   "metadata": {},
   "source": [
    "<hr width=\"82%\" style=\"border-bottom:2px dashed; border-top:none\"/>\n",
    "\n",
    "### (B)\n",
    "\n",
    ">\n",
    ">   __What is the non-Coulomb electric field in the wire?__\n",
    ">\n",
    ">   &emsp;&emsp;&emsp;&emsp;$\\fbox{\\hspace{8em}?}\\ \\left[ \\textrm{C} \\right]$\n",
    ">   <hr width=\"64%\" style=\"border-top:2px dotted; border-bottom:none\"/>"
   ]
  },
  {
   "cell_type": "markdown",
   "id": "63fe9d37",
   "metadata": {},
   "source": []
  },
  {
   "cell_type": "markdown",
   "id": "02cd52bb",
   "metadata": {},
   "source": [
    "<div style=\"page-break-after: always;\"/> \n",
    "\n",
    "---\n",
    "\n",
    "## [4]* - A current-carrying wire moves toward a coil\n",
    "\n",
    ">\n",
    ">   A long straight wire carrying current $I$, is moving with speed $v$ toward a small circular coil of radius $r$ containing $N$ turns; which is attached to a voltmeter as shown.  The long wire is in the plane of the coil (only a small portion of the wire is shown in the diagram).\n",
    ">\n",
    ">   {{GRAPHIC}}\n",
    ">\n",
    ">   The radius of the coil is 0.02 m, and the coil has 11 turns.  At a particular instant, $I = 5$ amperes, $v = 3.8$ meters per second, and the distance from the wire to the center of the coil is $x = 0.16$ meters. \n",
    ">   __<p align='right'>(10 points)</p>__\n",
    ">   <hr width=\"82%\" style=\"border-top:1px dashed; border-bottom:none\"/>"
   ]
  },
  {
   "cell_type": "markdown",
   "id": "74f74721",
   "metadata": {},
   "source": [
    "<hr width=\"82%\" style=\"border-bottom:2px dashed; border-top:none\"/>\n",
    "\n",
    "### (A)\n",
    "\n",
    ">   __What is the magnitude of the rate of change of the magnetic field inside the coil?__\n",
    ">   \n",
    ">   &emsp;&emsp;&emsp;&emsp;$\\frac{d\\mathbf{B}}{dt} = \\fbox{\\hspace{8em}?}\\ \\left[\\textrm{T} / \\textrm{s}\\right]$\n",
    ">\n",
    ">   You will need to derive a formula using calculus before you can get a number. \n",
    ">   Begin with the expression for the magnetic field due to the wire at the location of the coil. \n",
    ">   Use the approximate formula, since the wire is very long. \n",
    ">   Remember the chain rule, and remember that $v = \\frac{dx}{dt}$. \n",
    ">\n",
    ">   <hr width=\"64%\" style=\"border-top:2px dotted; border-bottom:none\"/>"
   ]
  },
  {
   "cell_type": "markdown",
   "id": "d28cb8ae",
   "metadata": {},
   "source": []
  },
  {
   "cell_type": "markdown",
   "id": "ed740ce2",
   "metadata": {},
   "source": [
    "<hr width=\"82%\" style=\"border-bottom:2px dashed; border-top:none\"/>\n",
    "\n",
    "### (B)\n",
    "   \n",
    ">\n",
    ">   __What is the magnitude of the Voltmeter reading?__ Remember that this includes all 11 turns of the coil.\n",
    ">\n",
    ">   &emsp;&emsp;&emsp;&emsp;$\\fbox{\\hspace{8em}?}\\ \\left[\\textrm{Volts}\\right]$\n",
    ">\n",
    ">   <hr width=\"64%\" style=\"border-top:2px dotted; border-bottom:none\"/>"
   ]
  },
  {
   "cell_type": "markdown",
   "id": "3f2cbd64",
   "metadata": {},
   "source": []
  },
  {
   "cell_type": "markdown",
   "id": "42b430a9",
   "metadata": {},
   "source": [
    "<hr width=\"82%\" style=\"border-bottom:2px dashed; border-top:none\"/>\n",
    "\n",
    "### (C)\n",
    "\n",
    ">\n",
    ">   __What is the direction of vector $\\frac{d}{dt} \\mathbf{\\vec{B}}$?__\n",
    ">\n",
    ">   __Select one:__\n",
    ">\n",
    ">   - [ ]   left\n",
    ">   - [ ]   right\n",
    ">   - [ ]   zero -- no direction\n",
    ">   - [ ]   up\n",
    ">   - [ ]   down\n",
    ">   - [ ]   into the page\n",
    ">   - [ ]   out of the page\n",
    ">\n",
    ">   <hr width=\"64%\" style=\"border-top:2px dotted; border-bottom:none\"/>"
   ]
  },
  {
   "cell_type": "markdown",
   "id": "7cb8be65",
   "metadata": {},
   "source": []
  },
  {
   "cell_type": "markdown",
   "id": "17eeba80",
   "metadata": {},
   "source": [
    "<hr width=\"82%\" style=\"border-bottom:2px dashed; border-top:none\"/>\n",
    "\n",
    "### (D)\n",
    "\n",
    ">\n",
    ">   __What is the direction of the curly electric field in the coil?__\n",
    ">\n",
    ">   __Select one:__\n",
    ">\n",
    ">   - [ ]   $\\mathbf{E}=0$ in the coil.\n",
    ">   - [ ]   clockwise\n",
    ">   - [ ]   counter-clockwise\n",
    ">\n",
    ">   <hr width=\"64%\" style=\"border-top:2px dotted; border-bottom:none\"/>"
   ]
  },
  {
   "cell_type": "markdown",
   "id": "e926c3b0",
   "metadata": {},
   "source": []
  },
  {
   "cell_type": "markdown",
   "id": "5e8a83ea",
   "metadata": {},
   "source": [
    "<div style=\"page-break-after: always;\"/> \n",
    "\n",
    "---\n",
    "   \n",
    "## [5]\n",
    "\n",
    ">\n",
    ">   In the figure below, a thin coil of radius $r_1 = 4$ cm, containing $N_1 = 5000$ turns, is connected through a resistor $R = 100\\ \\Omega$, to an AC power supply running at a frequency $f = 2500$; so that the current through the resistor (and coil) is $I_1 \\sin\\left(2\\pi \\cdot 2500\\ t\\right)$. \n",
    ">\n",
    ">   The voltage across the resistor triggers an oscilloscope that also displays the voltage, which is 10 V peak-to-peak; and therefore has an amplitude of 5V (which indicates the amplitude of the current is $I_1 = 0.05$ A). \n",
    ">\n",
    ">   {{GRAPHIC}}\n",
    ">\n",
    ">   A second thin coil of radius $r_2 = 2$ cm, containing $N_2 = 3200$ turns, is a distance $L = 40$ cm from the first coil. The axes of the two coils are along the same line.  The second coil is connected to the upper input of the oscilloscope, so that the voltage across the second coil can be displayed along with the voltage across the resistor. \n",
    ">\n",
    ">   <hr width=\"82%\" style=\"border-top:1px dotted black; border-bottom:none\"/>\n",
    ">\n",
    ">   __Calculate the amplitude (maximum voltage) of the second coil voltage.__\n",
    ">\n",
    ">   &emsp;&emsp;&emsp;&emsp;$\\fbox{\\hspace{8em}?}\\ \\left[\\textrm{V}\\right]$\n",
    ">   \n",
    ">   __If you must make simplifying assumptions, state clearly what they are: (mark one of the following options)__\n",
    ">   \n",
    ">   - [ ] Our assumptions are that $L \\ll r_1$, and that the coils are **thick** coils. \n",
    ">   - [ ] Our assumptions are that $L \\gg r_2$, and that the coils are **thin** coils. \n",
    ">\n",
    ">   __<p align='right'>(0.1 points)</p>__\n",
    ">   <hr width=\"82%\" style=\"border-top:1px dashed; border-bottom:none\"/>"
   ]
  },
  {
   "cell_type": "markdown",
   "id": "3782a1c0",
   "metadata": {},
   "source": []
  },
  {
   "cell_type": "markdown",
   "id": "0264c8d1",
   "metadata": {},
   "source": [
    "<div style=\"page-break-after: always;\"/> \n",
    "\n",
    "---\n",
    "\n",
    "## [6]*\n",
    "\n",
    ">\n",
    ">   Tall towers support power lines $h = 55$ [m] above the ground and $l = 19$ [m] apart, that run from a hydroelectric plant to a large city.  The power lines carry 60 [Hz] alternating current with amplitude $5 \\times 10^4$ [A] (see figure below); i.e., the current in both of the power lines is $I = \\left(5 \\times 10^4\\ [\\textrm{A}]\\right) \\sin \\left( 2\\pi \\cdot 60 \\left[\\textrm{Hz}\\right] \\cdot t \\right)$. \n",
    ">\n",
    ">   {{GRAPHIC}}\n",
    ">\n",
    ">   __<p align='right'>(10 points)</p>__\n",
    ">   <hr width=\"82%\" style=\"border-top:1px dashed; border-bottom:none\"/>"
   ]
  },
  {
   "cell_type": "markdown",
   "id": "e48910cf",
   "metadata": {},
   "source": [
    "<hr width=\"82%\" style=\"border-bottom:2px dashed; border-top:none\"/>\n",
    "\n",
    "### (A)\n",
    "\n",
    ">\n",
    ">   __Calculate the amplitude (largest magnitude) and direction of the magnetic field__, produced by the two power lines at the base of the tower; when a current of $5 \\times 10^4\\ [\\textrm{A}]$ in the \"left\" power line is headed out of the page, and a current of $5 \\times 10^4\\ [\\textrm{A}]$ in the right power line is headed into the page. \n",
    ">\n",
    ">   &emsp;&emsp;&emsp;&emsp; __magnitude__ = $\\fbox{\\hspace{8em}?}\\ \\left[\\textrm{T}\\right]$\n",
    ">\n",
    ">   &emsp;&emsp;&emsp;&emsp; __direction__ (select one):\n",
    ">\n",
    ">   - [ ]   up\n",
    ">   - [ ]   down\n",
    ">\n",
    ">   <hr width=\"64%\" style=\"border-top:2px dotted; border-bottom:none\"/>"
   ]
  },
  {
   "cell_type": "markdown",
   "id": "b3842149",
   "metadata": {},
   "source": []
  },
  {
   "cell_type": "markdown",
   "id": "f6fafd3c",
   "metadata": {},
   "source": [
    "<hr width=\"82%\" style=\"border-bottom:2px dashed; border-top:none\"/>\n",
    "\n",
    "### (B)\n",
    "\n",
    ">\n",
    ">   This magnetic field is not large compared to the Earth's magnetic field, but it varies in time, and so might have different biological effects than the Earth's steady field. \n",
    ">\n",
    ">   __For a person laying on the ground at the base of the tower, approximately what is the maximum $\\mathcal{EMF}$&nbsp;__ produced around the perimeter of the body (which is about 2 m long, by half a meter wide?)\n",
    ">\n",
    ">   &emsp;&emsp;&emsp;&emsp; $\\fbox{\\hspace{8em}?}\\ \\left[\\textrm{mV}\\right]$\n",
    ">\n",
    ">   <hr width=\"64%\" style=\"border-top:2px dotted; border-bottom:none\"/>"
   ]
  },
  {
   "cell_type": "markdown",
   "id": "021031fb",
   "metadata": {},
   "source": []
  },
  {
   "cell_type": "markdown",
   "id": "80a00d38",
   "metadata": {},
   "source": [
    "<div style=\"page-break-after: always;\"/> \n",
    "\n",
    "---\n",
    "\n",
    "## [7]*\n",
    "\n",
    ">\n",
    ">   A bar magnet whose dipole moment is (0, 0, 6) $\\left[\\textrm{A} \\cdot \\textrm{m}^2\\right]$ has a constant velocity of (0, 0, 5) [m/s]. \n",
    ">\n",
    ">   When the center of the magnet is at location (1, 3, 4) [m], __what is the (vector) electric field at location (1.11, 3, 3) [m]?__\n",
    ">\n",
    ">   &emsp;&emsp;&emsp;&emsp; $\\mathbf{\\vec{E}} = \\Big\\langle\\ \\fbox{\\hspace{4em}?}\\ ,\\ \\fbox{\\hspace{4em}?}\\ ,\\ \\fbox{\\hspace{4em}?}\\ \\Big\\rangle\\ \\left[\\textrm{N}/\\textrm{C}\\right]$\n",
    ">\n",
    ">   __<p align='right'>(10 points)</p>__\n",
    ">   <hr width=\"82%\" style=\"border-top:1px dashed; border-bottom:none\"/>"
   ]
  },
  {
   "cell_type": "markdown",
   "id": "d8e8a678",
   "metadata": {},
   "source": []
  },
  {
   "cell_type": "markdown",
   "id": "0d10b866",
   "metadata": {},
   "source": [
    "---"
   ]
  }
 ],
 "metadata": {
  "kernelspec": {
   "display_name": "SageMath 10.6",
   "language": "sage",
   "name": "SageMath-10.6"
  },
  "language_info": {
   "codemirror_mode": {
    "name": "ipython",
    "version": 3
   },
   "file_extension": ".py",
   "mimetype": "text/x-python",
   "name": "sage",
   "nbconvert_exporter": "python",
   "pygments_lexer": "ipython3",
   "version": "3.12.5"
  }
 },
 "nbformat": 4,
 "nbformat_minor": 5
}
