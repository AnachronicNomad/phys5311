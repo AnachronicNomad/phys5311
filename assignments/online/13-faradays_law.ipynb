{
 "cells": [
  {
   "cell_type": "markdown",
   "id": "197469e1",
   "metadata": {},
   "source": [
    "# Faraday's Law\n",
    "\n",
    "M&I \n",
    "\n",
    "Ch 22 Faraday's Law\n",
    "\n",
    "- §22.2 &ndash; Faraday's Law\n"
   ]
  },
  {
   "cell_type": "code",
   "execution_count": 1,
   "id": "4d87d0c4",
   "metadata": {
    "editable": false,
    "slideshow": {
     "slide_type": ""
    },
    "tags": [],
    "vscode": {
     "languageId": "python"
    }
   },
   "outputs": [
    {
     "name": "stdout",
     "output_type": "stream",
     "text": [
      "Python: 3.12.5 (main, Feb 25 2025, 12:37:41) [Clang 16.0.0 (clang-1600.0.26.6)]\n"
     ]
    },
    {
     "data": {
      "text/html": [
       "<html>\\(\\displaystyle \\verb|SageMath|\\verb| |\\verb|version|\\verb| |\\verb|10.6,|\\verb| |\\verb|Release|\\verb| |\\verb|Date:|\\verb| |\\verb|2025-03-31|\\)</html>"
      ],
      "text/latex": [
       "$\\displaystyle \\verb|SageMath|\\verb| |\\verb|version|\\verb| |\\verb|10.6,|\\verb| |\\verb|Release|\\verb| |\\verb|Date:|\\verb| |\\verb|2025-03-31|$"
      ],
      "text/plain": [
       "'SageMath version 10.6, Release Date: 2025-03-31'"
      ]
     },
     "execution_count": 1,
     "metadata": {},
     "output_type": "execute_result"
    }
   ],
   "source": [
    "########\n",
    "## Env Setup / Preamble\n",
    "########\n",
    "%reload_ext autoreload\n",
    "%autoreload complete \n",
    "\n",
    "%reload_ext Cython\n",
    "\n",
    "%display latex\n",
    "\n",
    "################\n",
    "\n",
    "import cython\n",
    "from sage.all import *\n",
    "\n",
    "################\n",
    "\n",
    "import tempfile\n",
    "import mmap\n",
    "from multiprocessing import shared_memory\n",
    "\n",
    "################\n",
    "\n",
    "import numpy as np\n",
    "import scipy.constants\n",
    "\n",
    "np.random.seed( int(scipy.constants.golden_ratio * 1.e6) )\n",
    "\n",
    "from numpy import vectorize\n",
    "from numpy import r_, c_, s_\n",
    "\n",
    "################\n",
    "\n",
    "####    boiler-plate class for named constants\n",
    "from sage.symbolic.constants import Constant\n",
    "class ConstantFromExpression(Constant):\n",
    "    def __init__(self, name, v):\n",
    "        conversions = dict(maxima=repr(maxima.coerce(v)))\n",
    "        Constant.__init__(self, name, conversions=conversions)\n",
    "        self._v = v\n",
    "    def __float__(self): return float(self._v)\n",
    "    def __complex__(self): return complex(self._v)\n",
    "    def _mpfr_(self, R): return R(self._v)\n",
    "    def _real_double_(self, R): return R(self._v)\n",
    "\n",
    "def NamedExpression(name, expr):\n",
    "    return ConstantFromExpression(name,expr).expression()\n",
    "####\n",
    "\n",
    "import sage.symbolic.units as units     # <: TODO\n",
    "\n",
    "π   = NamedExpression('π', scipy.constants.pi)          # pi\n",
    "ε_0 = NamedExpression('ε_0', scipy.constants.epsilon_0) # electric permittivity of vacuum\n",
    "μ_0 = NamedExpression('μ_0', scipy.constants.mu_0)      # magnetic permeability of vacuum\n",
    "\n",
    "𝛋 = 1. / (4 * π * ε_0)      # Coulomb's constant in [ N·m²/C² ]\n",
    "q = NamedExpression('q', -scipy.constants.elementary_charge)\n",
    "\n",
    "ℎ_planck = NamedExpression('ℎ', scipy.constants.Planck)\n",
    "ℏ = NamedExpression('ℏ', scipy.constants.hbar)\n",
    "\n",
    "α = NamedExpression('α', scipy.constants.fine_structure)\n",
    "\n",
    "m_e = NamedExpression('m_e', scipy.constants.electron_mass)\n",
    "m_p = NamedExpression('m_p', scipy.constants.proton_mass)\n",
    "\n",
    "################\n",
    "\n",
    "Parallelism().set(nproc=8)\n",
    "print(f\"Python: {sys.version}\")\n",
    "version()\n"
   ]
  },
  {
   "cell_type": "code",
   "execution_count": 2,
   "id": "6dbb2a79",
   "metadata": {
    "editable": false,
    "scrolled": true,
    "slideshow": {
     "slide_type": ""
    },
    "tags": [],
    "vscode": {
     "languageId": "python"
    }
   },
   "outputs": [
    {
     "name": "stdout",
     "output_type": "stream",
     "text": [
      "The Zen of Python, by Tim Peters\n",
      "\n",
      "Beautiful is better than ugly.\n",
      "Explicit is better than implicit.\n",
      "Simple is better than complex.\n",
      "Complex is better than complicated.\n",
      "Flat is better than nested.\n",
      "Sparse is better than dense.\n",
      "Readability counts.\n",
      "Special cases aren't special enough to break the rules.\n",
      "Although practicality beats purity.\n",
      "Errors should never pass silently.\n",
      "Unless explicitly silenced.\n",
      "In the face of ambiguity, refuse the temptation to guess.\n",
      "There should be one-- and preferably only one --obvious way to do it.\n",
      "Although that way may not be obvious at first unless you're Dutch.\n",
      "Now is better than never.\n",
      "Although never is often better than *right* now.\n",
      "If the implementation is hard to explain, it's a bad idea.\n",
      "If the implementation is easy to explain, it may be a good idea.\n",
      "Namespaces are one honking great idea -- let's do more of those!\n"
     ]
    }
   ],
   "source": [
    "##  sanity check\n",
    "import this\n"
   ]
  },
  {
   "cell_type": "markdown",
   "id": "b6060a6a",
   "metadata": {},
   "source": [
    "---\n",
    "\n",
    "<hr width=\"82%\" style=\"border-top:2px dashed; border-bottom:none\"/>\n",
    "\n",
    "<hr width=\"64%\" style=\"border-top:1px dotted; border-bottom:none\"/>"
   ]
  },
  {
   "cell_type": "markdown",
   "id": "bf00c164",
   "metadata": {},
   "source": [
    "<div style=\"page-break-after: always;\"/> \n",
    "<h2 id='1' style=\"display:none\">[1]</h2>\n",
    "\n",
    ">   ---\n",
    ">   ## [1]\n",
    ">\n",
    ">   In the figure below, the solenoid radius is 4 [cm] and the ring radius is \n",
    ">   17 [cm]. $B = 0.5 \\left[\\textrm{T}\\right]$ inside the solenoid, and $B \\approx 0$ \n",
    ">   outside the solenoid.\n",
    ">\n",
    ">   <img loading='lazy' decoding='async' src='data:image/avif;base64,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' />\n",
    ">\n",
    ">   __What is the magnetic flux through the outer ring?__\n",
    ">\n",
    ">   &emsp;&emsp;&emsp;&emsp; $\\fbox{\\hspace{8em}?}\\ \\left[\\textrm{T}\\cdot\\textrm{m}^2\\right]$\n",
    ">\n",
    ">   __<p align='right'>(0.1 points)</p>__\n",
    ">   <hr width=\"82%\" style=\"border-top:1px dashed; border-bottom:none\"/>"
   ]
  },
  {
   "cell_type": "code",
   "execution_count": 3,
   "id": "c73f8913",
   "metadata": {
    "vscode": {
     "languageId": "python"
    }
   },
   "outputs": [
    {
     "name": "stdout",
     "output_type": "stream",
     "text": [
      "0.000800000000000000*π\n",
      "0.00251327412287183\n"
     ]
    }
   ],
   "source": [
    "R_inner = 4e-2\n",
    "R_i = R_inner\n",
    "\n",
    "R_outer = 17e-2\n",
    "R_o = R_outer\n",
    "\n",
    "B = 0.5\n",
    "flux = B * (π * R_i^2) # d_t B\n",
    "\n",
    "print(flux)\n",
    "print(n(flux))\n"
   ]
  },
  {
   "cell_type": "markdown",
   "id": "0088cea8",
   "metadata": {},
   "source": [
    "<div style=\"page-break-after: always;\"/> \n",
    "<h2 id='2' style=\"display:none\">[2]</h2>\n",
    "\n",
    ">   ---\n",
    ">   ## [2]\n",
    ">   The north pole of a bar magnet points toward a thing circular coil of wire \n",
    ">   containing 30 turns (see the figure). \n",
    ">   The magnet is moved away from the coil, so that the flux through one turn, \n",
    ">   inside the coil, decreases by $0.1 \\left[\\textrm{Tesla} \\cdot \\textrm{m}^2\\right]$ \n",
    ">   in $0.2$ seconds.\n",
    ">\n",
    ">   <img loading='lazy' decoding='async' src=\"data:image/avif;base64,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\"/>\n",
    ">\n",
    ">   __What is the average $\\mathcal{EMF}$ in the coil during this time interval?__\n",
    ">\n",
    ">   &emsp;&emsp;&emsp;&emsp; $\\mathcal{EMF} = \\fbox{\\hspace{8em}?}\\ \\left[\\textrm{V}\\right]$\n",
    ">   \n",
    ">   __Viewed from the right side (opposite the bar magnet), does the current run clockwise or counter-clockwise?__\n",
    ">\n",
    ">   - [ ] &nbsp; Clockwise\n",
    ">\n",
    ">   - [ ] &nbsp; Counter-Clockwise\n",
    ">\n",
    ">\n",
    ">   __<p align='right'>(0.1 points)</p>__\n",
    ">   <hr width=\"82%\" style=\"border-top:1px dashed; border-bottom:none\"/>"
   ]
  },
  {
   "cell_type": "code",
   "execution_count": 4,
   "id": "28a6a1b5",
   "metadata": {
    "vscode": {
     "languageId": "python"
    }
   },
   "outputs": [
    {
     "name": "stdout",
     "output_type": "stream",
     "text": [
      "15.0000000000000\n"
     ]
    }
   ],
   "source": [
    "N = 30\n",
    "dB = -0.1\n",
    "dt = 0.2\n",
    "\n",
    "emf = N * (-dB / dt)\n",
    "\n",
    "print(n(emf))\n"
   ]
  },
  {
   "cell_type": "markdown",
   "id": "9d46bb43",
   "metadata": {},
   "source": [
    "- [x] &emsp; clockwise"
   ]
  },
  {
   "cell_type": "markdown",
   "id": "beedca10",
   "metadata": {},
   "source": [
    "<div style=\"page-break-after: always;\"/> \n",
    "<h2 id='3' style=\"display:none\">[3]*</h2>\n",
    "\n",
    ">   ---\n",
    ">   ## [3]*\n",
    ">\n",
    ">   The magnetic field in a solenoid is $B = \\left( \\mu_0 N I \\right) / d$.\n",
    ">\n",
    ">   A circular wire of radius 13 [cm] is concentric with a solenoid of radius \n",
    ">   $2$ [cm] and length $d = 1$ meter, containing $N = 11,000$ turns.  \n",
    ">   The current increases at a rate of 41 [A/s]. \n",
    ">\n",
    ">   __<p align='right'>(10 points)</p>__\n",
    ">   <hr width=\"82%\" style=\"border-top:1px dashed; border-bottom:none\"/>"
   ]
  },
  {
   "cell_type": "markdown",
   "id": "86fb7316",
   "metadata": {},
   "source": [
    "<h3 id='3a' style=\"display:none\">(A)</h3>\n",
    "\n",
    ">   <hr width=\"82%\" style=\"border-bottom:2px dashed; border-top:none\"/>\n",
    ">\n",
    ">   ### &#x2e04;&hairsp;&#x00B3;&hairsp;&#x2E05;&hairsp;(A)\n",
    ">\n",
    ">   __What is the $\\mathcal{EMF}$ in the wire?__ \n",
    ">\n",
    ">   &emsp;&emsp;&emsp;&emsp; $\\mathcal{EMF} = \\fbox{\\hspace{8em}?}\\ \\left[\\textrm{V}\\right]$\n",
    ">   <hr width=\"64%\" style=\"border-top:2px dotted; border-bottom:none\"/>"
   ]
  },
  {
   "cell_type": "code",
   "execution_count": 5,
   "id": "a9947b54",
   "metadata": {
    "vscode": {
     "languageId": "python"
    }
   },
   "outputs": [
    {
     "data": {
      "text/html": [
       "<html>\\(\\displaystyle 0.000712190653488576\\)</html>"
      ],
      "text/latex": [
       "$\\displaystyle 0.000712190653488576$"
      ],
      "text/plain": [
       "0.000712190653488576"
      ]
     },
     "execution_count": 5,
     "metadata": {},
     "output_type": "execute_result"
    }
   ],
   "source": [
    "R_o = 13e-2\n",
    "R_i = 2e-2\n",
    "\n",
    "d = 1\n",
    "N = 11_000\n",
    "\n",
    "I = 41\n",
    "\n",
    "B_dt = (μ_0 * N * I) / d\n",
    "\n",
    "emf = B_dt * (π * R_i^2)\n",
    "\n",
    "n(emf)\n"
   ]
  },
  {
   "cell_type": "markdown",
   "id": "1bed1316",
   "metadata": {},
   "source": [
    "<h3 id='3b' style=\"display:none\">(B)</h3>\n",
    "\n",
    ">   <hr width=\"82%\" style=\"border-bottom:2px dashed; border-top:none\"/>\n",
    ">\n",
    ">   ### &#x2e04;&hairsp;&#x00B3;&hairsp;&#x2E05;&hairsp;(B)\n",
    ">\n",
    ">   __What is the non-Coulomb electric field in the wire?__\n",
    ">\n",
    ">   &emsp;&emsp;&emsp;&emsp;$\\fbox{\\hspace{8em}?}\\ \\left[ \\textrm{C} \\right]$\n",
    ">   <hr width=\"64%\" style=\"border-top:2px dotted; border-bottom:none\"/>"
   ]
  },
  {
   "cell_type": "code",
   "execution_count": 6,
   "id": "053c84c2",
   "metadata": {
    "vscode": {
     "languageId": "python"
    }
   },
   "outputs": [
    {
     "data": {
      "text/html": [
       "<html>\\(\\displaystyle 0.000871912791742723\\)</html>"
      ],
      "text/latex": [
       "$\\displaystyle 0.000871912791742723$"
      ],
      "text/plain": [
       "0.000871912791742723"
      ]
     },
     "execution_count": 6,
     "metadata": {},
     "output_type": "execute_result"
    }
   ],
   "source": [
    "efield = emf / (2*π*R_o)\n",
    "\n",
    "n(efield)\n"
   ]
  },
  {
   "cell_type": "markdown",
   "id": "02cd52bb",
   "metadata": {},
   "source": [
    "<div style=\"page-break-after: always;\"/> \n",
    "<h2 id='4' style=\"display:none\">[4]*</h2>\n",
    "\n",
    ">   ---\n",
    ">   ## [4]* - A current-carrying wire moves toward a coil\n",
    ">\n",
    ">   A long straight wire carrying current $I$, is moving with speed $v$ toward a\n",
    ">   small circular coil of radius $r$ containing $N$ turns; which is attached to\n",
    ">   a voltmeter as shown.  The long wire is in the plane of the coil (only a \n",
    ">   small portion of the wire is shown in the diagram).\n",
    ">\n",
    ">   <img loading='lazy' decoding='async' src=\"data:image/avif;base64,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\"/>\n",
    ">\n",
    ">   The radius of the coil is 0.02 m, and the coil has 11 turns.  At a particular \n",
    ">   instant, $I = 5$ amperes, $v = 3.8$ meters per second, and the distance from \n",
    ">   the wire to the center of the coil is $x = 0.16$ meters. \n",
    ">   __<p align='right'>(10 points)</p>__\n",
    ">   <hr width=\"82%\" style=\"border-top:1px dashed; border-bottom:none\"/>"
   ]
  },
  {
   "cell_type": "markdown",
   "id": "74f74721",
   "metadata": {},
   "source": [
    "<h3 id='4a' style=\"display:none\">(A)</h3>\n",
    "\n",
    ">   <hr width=\"82%\" style=\"border-bottom:2px dashed; border-top:none\"/>\n",
    ">\n",
    ">   ### &#x2e04;&hairsp;&#x2074;&hairsp;&#x2E05;&hairsp;(A)\n",
    ">\n",
    ">   __What is the _magnitude_ of the rate of change of the magnetic field inside the coil?__\n",
    ">   \n",
    ">   &emsp;&emsp;&emsp;&emsp;$\\frac{d\\mathbf{B}}{dt} = \\fbox{\\hspace{8em}?}\\ \\left[\\textrm{T} / \\textrm{s}\\right]$\n",
    ">\n",
    ">   You will need to derive a formula using calculus before you can get a number. \n",
    ">   Begin with the expression for the magnetic field due to the wire at the location of the coil. \n",
    ">   Use the approximate formula, since the wire is very long. \n",
    ">   Remember the chain rule, and remember that $v = \\frac{dx}{dt}$. \n",
    ">\n",
    ">   <hr width=\"64%\" style=\"border-top:2px dotted; border-bottom:none\"/>"
   ]
  },
  {
   "cell_type": "markdown",
   "id": "e3e1ecd4",
   "metadata": {},
   "source": [
    "from defn $\\mathcal{EMF} = -\\int \\frac{\\partial \\mathrm{\\vec{B}}}{\\partial t} \\cdot \\partial \\mathrm{\\vec{A}}$\n",
    "$$\n",
    "    \\mathcal{EMF} = \\frac{\\Delta \\Phi_B}{\\Delta t} \\leftrightarrow \\frac{d}{dt} B \\cdot A \\\\\n",
    "    \\Rightarrow \\mathcal{EMF} = \\frac{d \\Phi_B}{d t} \\leftrightarrow \\frac{d}{dt} \\frac{\\mu_0 I}{2\\pi x} \\cdot A  \\\\\n",
    "$$\n",
    "\n",
    "now, if\n",
    "\n",
    "$B \\approx \\frac{\\mu_0 I}{2\\pi R} = \\frac{\\mu_0 I}{2\\pi x_t}$, then;\n",
    "$\\frac{dB}{dt} \\approx -\\frac{\\mu_0 I}{2\\pi x^{2}} \\frac{dx}{dt} = -\\frac{\\mu_0 Iv}{2\\pi x^{2}} $"
   ]
  },
  {
   "cell_type": "code",
   "execution_count": null,
   "id": "d635a157",
   "metadata": {
    "vscode": {
     "languageId": "python"
    }
   },
   "outputs": [
    {
     "name": "stdout",
     "output_type": "stream",
     "text": [
      "-451.388888888889*μ_0/π\n"
     ]
    },
    {
     "data": {
      "text/html": [
       "<html>\\(\\displaystyle -0.000180555555531716\\)</html>"
      ],
      "text/latex": [
       "$\\displaystyle -0.000180555555531716$"
      ],
      "text/plain": [
       "-0.000180555555531716"
      ]
     },
     "execution_count": 8,
     "metadata": {},
     "output_type": "execute_result"
    }
   ],
   "source": [
    "N = 11\n",
    "I = 5\n",
    "v = 2.6\n",
    "x = 12e-2\n",
    "\n",
    "dB_dt = -μ_0 * I * v / (2 * π * x^2)\n",
    "\n",
    "print(dB_dt)\n",
    "n(dB_dt)\n"
   ]
  },
  {
   "cell_type": "markdown",
   "id": "ed740ce2",
   "metadata": {},
   "source": [
    "<h3 id='4b' style=\"display:none\">(B)</h3>\n",
    "\n",
    ">   <hr width=\"82%\" style=\"border-bottom:2px dashed; border-top:none\"/>\n",
    ">   \n",
    ">   ### &#x2e04;&hairsp;&#x2074;&hairsp;&#x2E05;&hairsp;(B)\n",
    ">\n",
    ">   __What is the magnitude of the Voltmeter reading?__ \n",
    ">   Remember that this includes all 11 turns of the coil.\n",
    ">\n",
    ">   &emsp;&emsp;&emsp;&emsp;$\\fbox{\\hspace{8em}?}\\ \\left[\\textrm{Volts}\\right]$\n",
    ">\n",
    ">   <hr width=\"64%\" style=\"border-top:2px dotted; border-bottom:none\"/>"
   ]
  },
  {
   "cell_type": "code",
   "execution_count": null,
   "id": "2449d393",
   "metadata": {
    "vscode": {
     "languageId": "python"
    }
   },
   "outputs": [
    {
     "name": "stdout",
     "output_type": "stream",
     "text": [
      "2.49582083002236e-6\n"
     ]
    }
   ],
   "source": [
    "r_coil = 2e-2\n",
    "\n",
    "emf = -N * dB_dt * π * r_coil^2\n",
    "\n",
    "print(n(emf))\n"
   ]
  },
  {
   "cell_type": "markdown",
   "id": "42b430a9",
   "metadata": {},
   "source": [
    "<h3 id='4c' style=\"display:none\">(C)</h3>\n",
    "\n",
    ">   <hr width=\"82%\" style=\"border-bottom:2px dashed; border-top:none\"/>\n",
    ">\n",
    ">   ### &#x2e04;&hairsp;&#x2074;&hairsp;&#x2E05;&hairsp;(C)\n",
    ">\n",
    ">   __What is the direction of vector $\\frac{d \\mathbf{\\vec{B}}}{dt}$?__\n",
    ">\n",
    ">   __Select one:__\n",
    ">\n",
    ">   - [ ] &nbsp; left\n",
    ">\n",
    ">   - [ ] &nbsp; right\n",
    ">\n",
    ">   - [ ] &nbsp; zero -- no direction\n",
    ">\n",
    ">   - [ ] &nbsp; up\n",
    ">\n",
    ">   - [ ] &nbsp; down\n",
    ">\n",
    ">   - [ ] &nbsp; into the page\n",
    ">\n",
    ">   - [ ] &nbsp; out of the page\n",
    ">\n",
    ">\n",
    ">   <hr width=\"64%\" style=\"border-top:2px dotted; border-bottom:none\"/>"
   ]
  },
  {
   "cell_type": "markdown",
   "id": "7cb8be65",
   "metadata": {},
   "source": [
    "- [x] into the page"
   ]
  },
  {
   "cell_type": "markdown",
   "id": "17eeba80",
   "metadata": {},
   "source": [
    "<h3 id='4d' style=\"display:none\">(D)</h3>\n",
    "\n",
    ">   <hr width=\"82%\" style=\"border-bottom:2px dashed; border-top:none\"/>\n",
    ">\n",
    ">   ### &#x2e04;&hairsp;&#x2074;&hairsp;&#x2E05;&hairsp;(D)\n",
    ">\n",
    ">   __What is the direction of the curly electric field in the coil?__\n",
    ">\n",
    ">   __Select one:__\n",
    ">\n",
    ">   - [ ] &nbsp; $\\mathbf{E}=0$ in the coil.\n",
    ">\n",
    ">   - [ ] &nbsp; clockwise\n",
    ">\n",
    ">   - [ ] &nbsp; counter-clockwise\n",
    ">\n",
    ">\n",
    ">   <hr width=\"64%\" style=\"border-top:2px dotted; border-bottom:none\"/>"
   ]
  },
  {
   "cell_type": "markdown",
   "id": "e926c3b0",
   "metadata": {},
   "source": [
    "- [x] counter-clockwise"
   ]
  },
  {
   "cell_type": "markdown",
   "id": "5e8a83ea",
   "metadata": {},
   "source": [
    "<div style=\"page-break-after: always;\"/> \n",
    "<h2 id='5' style=\"display:none\">[5]</h2>\n",
    "\n",
    ">   ---\n",
    ">   ## [5]\n",
    ">\n",
    ">   In the figure below, a thin coil of radius $r_1 = 4$ cm, containing \n",
    ">   $N_1 = 5000$ turns, is connected through a resistor $R = 100\\ \\Omega$, to an\n",
    ">   AC power supply running at a frequency $f = 2500$; so that the current through \n",
    ">   the resistor (and coil) is $I(t) = I_1 \\sin\\left(2\\pi \\cdot 2500\\ t\\right)$. \n",
    ">\n",
    ">   The voltage across the resistor triggers an oscilloscope that also displays \n",
    ">   the voltage, which is 10 V peak-to-peak; and therefore has an amplitude of \n",
    ">   $5$ [V] (which indicates the amplitude of the current is $I_1 = 0.05$ [A]). \n",
    ">\n",
    ">   <img loading='lazy' decoding='async' src=\"data:image/avif;base64,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\"/>\n",
    ">\n",
    ">   A second thin coil of radius $r_2 = 2$ cm, containing $N_2 = 3200$ turns, is\n",
    ">   a distance $L = 40$ cm from the first coil. The axes of the two coils are \n",
    ">   along the same line.  The second coil is connected to the upper input of the\n",
    ">   oscilloscope, so that the voltage across the second coil can be displayed \n",
    ">   along with the voltage across the resistor. \n",
    ">\n",
    ">   <hr width=\"82%\" style=\"border-top:1px dotted black; border-bottom:none\"/>\n",
    ">\n",
    ">   __Calculate the amplitude (maximum voltage) of the second coil voltage.__\n",
    ">\n",
    ">   &emsp;&emsp;&emsp;&emsp;$\\fbox{\\hspace{8em}?}\\ \\left[\\textrm{V}\\right]$\n",
    ">   \n",
    ">   __If you must make simplifying assumptions, state clearly what they are:__ \n",
    ">\n",
    ">   (mark one of the following options:)\n",
    ">   \n",
    ">   - [ ] &nbsp; Our assumptions are that $L \\ll r_1$, and that the coils are **thick** coils. \n",
    ">   - [ ] &nbsp; Our assumptions are that $L \\gg r_1$, and that the coils are **thin** coils. \n",
    ">\n",
    ">   __<p align='right'>(0.1 points)</p>__\n",
    ">   <hr width=\"82%\" style=\"border-top:1px dashed; border-bottom:none\"/>"
   ]
  },
  {
   "cell_type": "markdown",
   "id": "c0d18f87",
   "metadata": {},
   "source": [
    "$$\n",
    "    \\mathcal{EMF} = - N \\int \\frac{\\partial \\mathbf{\\vec{B}}}{\\partial t} \\cdot \\partial \\mathbf{\\vec{A}} \\\\\n",
    "    \\Rightarrow \\mathcal \\approx - \\frac{dB}{dt} \\cdot A \\\\\n",
    "$$\n",
    "\n",
    "then, we treat solenoid coil as a magnetic dipole with a related moment $\\vec{\\mu} = NI \\vec{A}$, so we can we can use the on-axis approximation for the magnetic field of a dipole (c.ref §17.10)\n",
    "\n",
    "$$\n",
    "    B_\\textrm{axis} \\approx \\frac{\\mu_0}{4\\pi} \\frac{2\\vec{\\mu}}{\\|r\\|^3} \\\\\n",
    "    \\Rightarrow \\frac{\\mu_0}{4\\pi} 2 N \\frac{I \\vec{A}}{\\|r\\|^3}\n",
    "$$"
   ]
  },
  {
   "cell_type": "code",
   "execution_count": 14,
   "id": "00600d61",
   "metadata": {
    "vscode": {
     "languageId": "python"
    }
   },
   "outputs": [
    {
     "name": "stdout",
     "output_type": "stream",
     "text": [
      "0.248050213409648\n"
     ]
    }
   ],
   "source": [
    "r_1 = 4e-2\n",
    "N_1 = 5_000\n",
    "\n",
    "f_1 = 2500\n",
    "I_1 = 0.05\n",
    "\n",
    "r_2 = 2e-2\n",
    "N_2 = 3_200\n",
    "\n",
    "L = 40e-2\n",
    "\n",
    "B_2 = (μ_0 / (2 * π)) * N_1 * I_1 * (π * r_1^2) / L^3\n",
    "\n",
    "# TODO :> there's hidden calculus here to show\n",
    "\n",
    "B2_dt = (μ_0) * N_1 * ((π * r_1^2) / L^3) * (I_1 * f_1)\n",
    "\n",
    "emf_2 = -N_2 * B2_dt * (π * r_2^2)\n",
    "print(n(abs(emf_2)))\n"
   ]
  },
  {
   "cell_type": "markdown",
   "id": "70026e56",
   "metadata": {},
   "source": [
    "- [x] &nbsp; $L \\gg r_1$"
   ]
  },
  {
   "cell_type": "markdown",
   "id": "0264c8d1",
   "metadata": {},
   "source": [
    "<div style=\"page-break-after: always;\"/> \n",
    "\n",
    "<h2 id='6' style=\"display:none\">[6]*</h2>\n",
    "\n",
    ">   ---\n",
    ">   ## [6]*\n",
    ">\n",
    ">   Tall towers support power lines $h = 55$ [m] above the ground and $l = 19$ [m]\n",
    ">   apart, that run from a hydroelectric plant to a large city.  The power lines\n",
    ">   carry 60 [Hz] alternating current with amplitude $5 \\times 10^4$ [A] (see \n",
    ">   figure below); i.e., the current in both of the power lines is \n",
    ">   $I = \\left(5 \\times 10^4\\ [\\textrm{A}]\\right) \\sin \\left( 2\\pi \\cdot 60 \\left[\\textrm{Hz}\\right] \\cdot t \\right)$. \n",
    ">\n",
    ">   <img loading='lazy' decoding='async' src=\"data:image/avif;base64,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\"/>\n",
    ">\n",
    ">   __<p align='right'>(10 points)</p>__\n",
    ">   <hr width=\"82%\" style=\"border-top:1px dashed; border-bottom:none\"/>"
   ]
  },
  {
   "cell_type": "markdown",
   "id": "e48910cf",
   "metadata": {},
   "source": [
    "<h3 id='6a' style=\"display:none\">(A)</h3>\n",
    "\n",
    ">   <hr width=\"82%\" style=\"border-bottom:2px dashed; border-top:none\"/>\n",
    ">\n",
    ">   ### &#x2e04;&hairsp;&#x2076;&hairsp;&#x2E05;&hairsp;(A)\n",
    ">\n",
    ">   __Calculate the amplitude (largest magnitude) and direction of the magnetic field__, \n",
    ">   produced by the two power lines at the base of the tower; when a current of \n",
    ">   $5 \\times 10^4\\ [\\textrm{A}]$ in the \"left\" power line is headed out of the \n",
    ">   page, and a current of $5 \\times 10^4\\ [\\textrm{A}]$ in the right power line\n",
    ">   is headed into the page. \n",
    ">\n",
    ">   &emsp;&emsp;&emsp;&emsp; __magnitude__ = $\\fbox{\\hspace{8em}?}\\ \\left[\\textrm{T}\\right]$\n",
    ">\n",
    ">   &emsp;&emsp;&emsp;&emsp; __direction__ (select one):\n",
    ">\n",
    ">   - [ ] &nbsp; up\n",
    ">\n",
    ">   - [ ] &nbsp; down\n",
    ">\n",
    ">\n",
    ">   <hr width=\"64%\" style=\"border-top:2px dotted; border-bottom:none\"/>"
   ]
  },
  {
   "cell_type": "code",
   "execution_count": 23,
   "id": "43e37b58",
   "metadata": {
    "vscode": {
     "languageId": "python"
    }
   },
   "outputs": [
    {
     "data": {
      "text/html": [
       "<html>\\(\\displaystyle 0.0000609902896958234\\)</html>"
      ],
      "text/latex": [
       "$\\displaystyle 0.0000609902896958234$"
      ],
      "text/plain": [
       "0.0000609902896958234"
      ]
     },
     "execution_count": 23,
     "metadata": {},
     "output_type": "execute_result"
    }
   ],
   "source": [
    "h = 55\n",
    "l = 19\n",
    "f = 60\n",
    "\n",
    "I_1 = 5e4\n",
    "I_2 = -5e4\n",
    "\n",
    "x = vector(r_[0,0,0])\n",
    "x1 = vector(r_[-l/2, h, 0])\n",
    "x2 = vector(r_[l/2, h, 0])\n",
    "\n",
    "r1 = ((x - x1).cross_product(vector(r_[0,0,1])))\n",
    "r2 = ((x - x2).cross_product(vector(r_[0,0,1])))\n",
    "\n",
    "B_1 = ((μ_0 * I_1) / (2*pi*r1.norm())) * r1 / r1.norm()\n",
    "B_2 = ((μ_0 * I_2) / (2*pi*r2.norm())) * r2 / r2.norm()\n",
    "\n",
    "B = (B_1 + B_2).norm()\n",
    "\n",
    "n(B)\n"
   ]
  },
  {
   "cell_type": "markdown",
   "id": "b3842149",
   "metadata": {},
   "source": [
    "- [x] up"
   ]
  },
  {
   "cell_type": "markdown",
   "id": "f6fafd3c",
   "metadata": {},
   "source": [
    "<h3 id='6b' style=\"display:none\">(B)</h3>\n",
    "\n",
    ">   <hr width=\"82%\" style=\"border-bottom:2px dashed; border-top:none\"/>\n",
    ">\n",
    ">   ### &#x2e04;&hairsp;&#x2074;&hairsp;&#x2E05;&hairsp;(B)\n",
    ">\n",
    ">   This magnetic field is not large compared to the Earth's magnetic field, but\n",
    ">   it varies in time, and so might have different biological effects than the \n",
    ">   Earth's steady field. \n",
    ">\n",
    ">   __For a person laying on the ground at the base of the tower, approximately what is the maximum $\\mathcal{EMF}$&nbsp;__ \n",
    ">   produced around the perimeter of the body (which is about 2 m long, by half a meter wide?)\n",
    ">\n",
    ">   &emsp;&emsp;&emsp;&emsp; $\\fbox{\\hspace{8em}?}\\ \\left[\\textrm{mV}\\right]$\n",
    ">\n",
    ">   <hr width=\"64%\" style=\"border-top:2px dotted; border-bottom:none\"/>"
   ]
  },
  {
   "cell_type": "code",
   "execution_count": 29,
   "id": "6efd84e8",
   "metadata": {
    "vscode": {
     "languageId": "python"
    }
   },
   "outputs": [
    {
     "data": {
      "text/html": [
       "<html>\\(\\displaystyle 22.9927975258454\\)</html>"
      ],
      "text/latex": [
       "$\\displaystyle 22.9927975258454$"
      ],
      "text/plain": [
       "22.9927975258454"
      ]
     },
     "execution_count": 29,
     "metadata": {},
     "output_type": "execute_result"
    }
   ],
   "source": [
    "# TODO :> use vector Area w/ cross products to get y-hat for correct vec math\n",
    "\n",
    "length = 2\n",
    "width = 1/2\n",
    "A = length * width\n",
    "N = 1\n",
    "\n",
    "dB_dt_1 = ((μ_0 * I_1 * f) / (r1.norm())) * (r1 / r1.norm())\n",
    "dB_dt_2 = ((μ_0 * I_2 * f) / (r2.norm())) * (r2 / r2.norm())\n",
    "\n",
    "dB_dt = (dB_dt_1 + dB_dt_2)\n",
    "\n",
    "emf = -N * dB_dt * A\n",
    "n(emf.norm() * 1e3) # convert from [V] to [mV]\n"
   ]
  },
  {
   "cell_type": "markdown",
   "id": "80a00d38",
   "metadata": {},
   "source": [
    "<div style=\"page-break-after: always;\"/> \n",
    "<h2 id='7' style=\"display:none\">[7]*</h2>\n",
    "\n",
    ">   ---\n",
    ">   ## [7]*\n",
    ">\n",
    ">   A bar magnet whose dipole moment is $\\langle 0, 0, 6 \\rangle\\ \\left[\\textrm{A} \\cdot \\textrm{m}^2\\right]$ \n",
    ">   has a constant velocity of $\\langle 0, 0, 5 \\rangle$ [m/s]. \n",
    ">\n",
    ">   When the center of the magnet is at location $\\langle 1, 3, 4 \\rangle$ [m], \n",
    ">   __what is the (vector) electric field at location $\\langle\\ 1.11, 3, 3\\ \\rangle$ [m]?__\n",
    ">\n",
    ">   &emsp;&emsp;&emsp;&emsp; $\\mathbf{\\vec{E}} = \\Big\\langle\\ \\fbox{\\hspace{4em}?}\\ ,\\ \\fbox{\\hspace{4em}?}\\ ,\\ \\fbox{\\hspace{4em}?}\\ \\Big\\rangle\\ \\left[\\textrm{N}/\\textrm{C}\\right]$\n",
    ">\n",
    ">   __<p align='right'>(10 points)</p>__\n",
    ">   <hr width=\"82%\" style=\"border-top:1px dashed; border-bottom:none\"/>"
   ]
  },
  {
   "cell_type": "code",
   "execution_count": null,
   "id": "3ff29213",
   "metadata": {
    "vscode": {
     "languageId": "python"
    }
   },
   "outputs": [],
   "source": [
    "μ = vector(r_[0, 0, 6])\n",
    "x_magnet = vector(r_[1, 3, 4])\n",
    "v_magnet = vector(r_[0, 0, 5])\n",
    "\n",
    "x = vector(r_[1.11, 3, 3])\n",
    "\n"
   ]
  },
  {
   "cell_type": "markdown",
   "id": "fe4fe11b",
   "metadata": {},
   "source": [
    "---"
   ]
  }
 ],
 "metadata": {
  "kernelspec": {
   "display_name": "SageMath 10.6",
   "language": "sage",
   "name": "SageMath-10.6"
  },
  "language_info": {
   "codemirror_mode": {
    "name": "ipython",
    "version": 3
   },
   "file_extension": ".py",
   "mimetype": "text/x-python",
   "name": "sage",
   "nbconvert_exporter": "python",
   "pygments_lexer": "ipython3",
   "version": "3.12.5"
  },
  "widgets": {
   "application/vnd.jupyter.widget-state+json": {
    "state": {},
    "version_major": 2,
    "version_minor": 0
   }
  }
 },
 "nbformat": 4,
 "nbformat_minor": 5
}
