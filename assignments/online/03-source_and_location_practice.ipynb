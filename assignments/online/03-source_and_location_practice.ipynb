{
 "cells": [
  {
   "cell_type": "markdown",
   "id": "0b15eb3d",
   "metadata": {},
   "source": [
    "# Source and Location Practice\n",
    "\n",
    "M&I 4e\n",
    "\n",
    "Ch 13 Electric Field\n",
    "\n",
    "- §13.X &ndash; Student Resources"
   ]
  },
  {
   "cell_type": "code",
   "execution_count": null,
   "id": "4d87d0c4",
   "metadata": {
    "vscode": {
     "languageId": "python"
    }
   },
   "outputs": [
    {
     "name": "stdout",
     "output_type": "stream",
     "text": [
      "Python: 3.12.5 (main, Feb 25 2025, 12:37:41) [Clang 16.0.0 (clang-1600.0.26.6)]\n"
     ]
    },
    {
     "data": {
      "text/html": [
       "<html>\\(\\displaystyle \\verb|SageMath|\\verb| |\\verb|version|\\verb| |\\verb|10.6,|\\verb| |\\verb|Release|\\verb| |\\verb|Date:|\\verb| |\\verb|2025-03-31|\\)</html>"
      ],
      "text/latex": [
       "$\\displaystyle \\verb|SageMath|\\verb| |\\verb|version|\\verb| |\\verb|10.6,|\\verb| |\\verb|Release|\\verb| |\\verb|Date:|\\verb| |\\verb|2025-03-31|$"
      ],
      "text/plain": [
       "'SageMath version 10.6, Release Date: 2025-03-31'"
      ]
     },
     "execution_count": 1,
     "metadata": {},
     "output_type": "execute_result"
    }
   ],
   "source": [
    "########\n",
    "## Env Setup / Preamble\n",
    "########\n",
    "%load_ext autoreload\n",
    "%autoreload complete \n",
    "\n",
    "%load_ext Cython\n",
    "\n",
    "%display latex\n",
    "\n",
    "################\n",
    "\n",
    "import cython\n",
    "from sage.all import *\n",
    "\n",
    "################\n",
    "\n",
    "import tempfile\n",
    "import mmap\n",
    "from multiprocessing import shared_memory\n",
    "\n",
    "################\n",
    "\n",
    "import numpy as np\n",
    "import scipy.constants\n",
    "\n",
    "np.random.seed( int(scipy.constants.golden_ratio * 1.e6) )\n",
    "\n",
    "from numpy import vectorize\n",
    "from numpy import r_, c_, s_\n",
    "\n",
    "################\n",
    "\n",
    "####    boiler-plate class for named constants\n",
    "from sage.symbolic.constants import Constant\n",
    "class ConstantFromExpression(Constant):\n",
    "    def __init__(self, name, v):\n",
    "        conversions = dict(maxima=repr(maxima.coerce(v)))\n",
    "        Constant.__init__(self, name, conversions=conversions)\n",
    "        self._v = v\n",
    "    def __float__(self): return float(self._v)\n",
    "    def __complex__(self): return complex(self._v)\n",
    "    def _mpfr_(self, R): return R(self._v)\n",
    "    def _real_double_(self, R): return R(self._v)\n",
    "\n",
    "def NamedExpression(name, expr):\n",
    "    return ConstantFromExpression(name,expr).expression()\n",
    "####\n",
    "\n",
    "import sage.symbolic.units as units     # <: TODO\n",
    "\n",
    "π   = NamedExpression('π', scipy.constants.pi)          # pi\n",
    "ε_0 = NamedExpression('ε_0', scipy.constants.epsilon_0) # electric permittivity of vacuum\n",
    "μ_0 = NamedExpression('μ_0', scipy.constants.mu_0)      # magnetic permeability of vacuum\n",
    "\n",
    "𝛋 = 1. / (4 * π * ε_0)      # Coulomb's constant in [ N·m²/C² ]\n",
    "q = NamedExpression('q', -scipy.constants.elementary_charge)\n",
    "\n",
    "ℎ_planck = NamedExpression('ℎ', scipy.constants.Planck)\n",
    "ℏ = NamedExpression('ℏ', scipy.constants.hbar)\n",
    "\n",
    "α = NamedExpression('α', scipy.constants.fine_structure)\n",
    "\n",
    "m_e = NamedExpression('m_e', scipy.constants.electron_mass)\n",
    "m_p = NamedExpression('m_p', scipy.constants.proton_mass)\n",
    "\n",
    "################\n",
    "\n",
    "Parallelism().set(nproc=8)\n",
    "print(f\"Python: {sys.version}\")\n",
    "version()\n"
   ]
  },
  {
   "cell_type": "code",
   "execution_count": 2,
   "id": "6dbb2a79",
   "metadata": {
    "vscode": {
     "languageId": "python"
    }
   },
   "outputs": [
    {
     "name": "stdout",
     "output_type": "stream",
     "text": [
      "The Zen of Python, by Tim Peters\n",
      "\n",
      "Beautiful is better than ugly.\n",
      "Explicit is better than implicit.\n",
      "Simple is better than complex.\n",
      "Complex is better than complicated.\n",
      "Flat is better than nested.\n",
      "Sparse is better than dense.\n",
      "Readability counts.\n",
      "Special cases aren't special enough to break the rules.\n",
      "Although practicality beats purity.\n",
      "Errors should never pass silently.\n",
      "Unless explicitly silenced.\n",
      "In the face of ambiguity, refuse the temptation to guess.\n",
      "There should be one-- and preferably only one --obvious way to do it.\n",
      "Although that way may not be obvious at first unless you're Dutch.\n",
      "Now is better than never.\n",
      "Although never is often better than *right* now.\n",
      "If the implementation is hard to explain, it's a bad idea.\n",
      "If the implementation is easy to explain, it may be a good idea.\n",
      "Namespaces are one honking great idea -- let's do more of those!\n"
     ]
    }
   ],
   "source": [
    "##  sanity check\n",
    "import this\n"
   ]
  },
  {
   "cell_type": "markdown",
   "id": "f0f5f8a1",
   "metadata": {},
   "source": [
    "---\n",
    "\n",
    "<hr width=\"82%\" style=\"border-top:2px dashed; border-bottom:none\"/>\n",
    "\n",
    "<hr width=\"64%\" style=\"border-top:1px dotted; border-bottom:none\"/>"
   ]
  },
  {
   "cell_type": "markdown",
   "id": "077931eb",
   "metadata": {},
   "source": [
    "<div style=\"page-break-after: always;\"/> \n",
    "<h2 id='1' style=\"display:none\">[1]</h2>\n",
    "\n",
    ">   ---\n",
    ">   ## [1]\n",
    ">\n",
    ">   A particle with charge $+5$ [nC] (a nano-coulomb is $1 \\times 10^{-9}$ [C]) \n",
    ">   is located at the origin. \n",
    ">\n",
    ">   __What is the electric field due to this particle, at a location \n",
    ">   $\\langle 0.4, 0, 0\\rangle$ [m]?__\n",
    ">\n",
    ">   &emsp;&emsp;&emsp;&emsp; \n",
    ">   $\\vec{E} = \\left\\langle\\ \\fbox{\\hspace{4em}?},\\ \\fbox{\\hspace{4em}?},\\ \\fbox{\\hspace{4em}?}\\ \\right\\rangle\\ \\left[\\mathrm{N/C}\\right]$\n",
    ">\n",
    ">   __<p align='right'>(0.1 points)</p>__\n",
    ">\n",
    ">   <hr width=\"82%\" style=\"border-top:1px dashed; border-bottom:none\"/>"
   ]
  },
  {
   "cell_type": "code",
   "execution_count": null,
   "id": "40ae747f",
   "metadata": {
    "vscode": {
     "languageId": "python"
    }
   },
   "outputs": [],
   "source": []
  },
  {
   "cell_type": "markdown",
   "id": "e7693f19",
   "metadata": {},
   "source": [
    "<div style=\"page-break-after: always;\"/> \n",
    "<h2 id='2' style=\"display:none\">[2]</h2>\n",
    "\n",
    ">   ---\n",
    ">   ## [2]\n",
    ">\n",
    ">   __Lithium nucleus affected by an electric field__\n",
    ">\n",
    ">   A proton at location $A$ makes an electric field $\\vec{E}_1$ at location $B$.\n",
    ">   A different proton, placed at location $B$, experiences a force $\\vec{F}_1$.\n",
    ">\n",
    ">   {{ graphic }}\n",
    ">\n",
    ">   __<p align='right'>(0.1 points)</p>__\n",
    ">\n",
    ">   <hr width=\"82%\" style=\"border-top:1px dashed; border-bottom:none\"/>"
   ]
  },
  {
   "cell_type": "markdown",
   "id": "dcab072e",
   "metadata": {},
   "source": [
    "<h3 id='2a' style=\"display:none\">(A)</h3>\n",
    "\n",
    ">   <hr width=\"82%\" style=\"border-bottom:2px dashed; border-top:none\"/>\n",
    ">   \n",
    ">   ### &#x2e04;&hairsp;&#x00B2;&hairsp;&#x2E05;&hairsp;(A)\n",
    ">\n",
    ">   __If $\\lvert \\vec{E}_1 \\rvert = 500$ [N/C], what is $\\lvert \\vec{F}_1 \\rvert$?__\n",
    ">\n",
    ">   &nbsp;&nbsp;&nbsp;&nbsp; $\\lvert \\vec{F}_1 \\rvert = \\fbox{\\hspace{8em}?}$&emsp;[N/C]\n",
    ">\n",
    ">   <hr width=\"64%\" style=\"border-top:2px dotted; border-bottom:none\"/>"
   ]
  },
  {
   "cell_type": "markdown",
   "id": "2ce71267",
   "metadata": {},
   "source": [
    "<h3 id='2b' style=\"display:none\">(B)</h3>\n",
    "\n",
    ">   <hr width=\"82%\" style=\"border-bottom:2px dashed; border-top:none\"/>\n",
    ">   \n",
    ">   ### &#x2e04;&hairsp;&#x00B2;&hairsp;&#x2E05;&hairsp;(B)\n",
    ">\n",
    ">   Now the proton at location $B$ is removed, and replaced by a lithium nucleus,\n",
    ">   containing three protons and four neutrons. The proton at location $A$ \n",
    ">   remains in place. \n",
    ">\n",
    ">   __What is the magnitude of the electric force on the lithium nucleus?__\n",
    ">\n",
    ">   &nbsp;&nbsp;&nbsp;&nbsp; $\\lvert \\vec{F}_{\\mathrm{on\\ Li}} \\rvert = \\fbox{\\hspace{8em}?}$&emsp;[N]\n",
    ">\n",
    ">   <hr width=\"64%\" style=\"border-top:2px dotted; border-bottom:none\"/>"
   ]
  },
  {
   "cell_type": "markdown",
   "id": "9db8b3af",
   "metadata": {},
   "source": [
    "<h3 id='2c' style=\"display:none\">(C)</h3>\n",
    "\n",
    ">   <hr width=\"82%\" style=\"border-bottom:2px dashed; border-top:none\"/>\n",
    ">   \n",
    ">   ### &#x2e04;&hairsp;&#x00B2;&hairsp;&#x2E05;&hairsp;(C)\n",
    ">\n",
    ">   Now the Lithium nucleus is removed, and an electron is placed at location $B$.\n",
    ">   The proton at location $A$ remains in place.\n",
    ">\n",
    ">   __What is the magnitude of the electric force on the electron?__\n",
    ">\n",
    ">   &nbsp;&nbsp;&nbsp;&nbsp; $\\lvert \\vec{F}_{\\mathrm{on\\ e^-}} \\rvert = \\fbox{\\hspace{8em}?}$&emsp;[N]\n",
    ">\n",
    ">   <hr width=\"64%\" style=\"border-top:2px dotted; border-bottom:none\"/>"
   ]
  },
  {
   "cell_type": "markdown",
   "id": "f511b98a",
   "metadata": {},
   "source": [
    "<h3 id='2d' style=\"display:none\">(D)</h3>\n",
    "\n",
    ">   <hr width=\"82%\" style=\"border-bottom:2px dashed; border-top:none\"/>\n",
    ">   \n",
    ">   ### &#x2e04;&hairsp;&#x00B2;&hairsp;&#x2E05;&hairsp;(D)\n",
    ">\n",
    ">   __Which arrow below best indicates the direction of the force on the electron, due to the electric field?__\n",
    ">\n",
    ">   {{ graphic }}\n",
    ">\n",
    ">   |   |   |   |\n",
    ">   |:---:|:---:|:---:|\n",
    ">   | 🔲 h | 🔲 a | 🔲 b |\n",
    ">   | 🔲 g | &emsp; | 🔲 c |\n",
    ">   | 🔲 f | 🔲 e | 🔲 d |\n",
    ">\n",
    ">   &emsp; 🔲 j - zero magnitude\n",
    ">\n",
    ">   <hr width=\"64%\" style=\"border-top:2px dotted; border-bottom:none\"/>"
   ]
  },
  {
   "cell_type": "markdown",
   "id": "658d4119",
   "metadata": {},
   "source": [
    "<div style=\"page-break-after: always;\"/> \n",
    "<h2 id='3' style=\"display:none\">[3]</h2>\n",
    "\n",
    ">   ---\n",
    ">   ## [3]\n",
    ">\n",
    ">   You want to calculate the electric field at location \n",
    ">   $\\langle 0.5, -0.6, 0.5 \\rangle$&ensp;[m], due to a particle with charge \n",
    ">   $+7.5$ [nC] located at $\\langle -0.7, -0.7, -0.2\\rangle$&ensp;[m].\n",
    ">\n",
    ">   __<p align='right'>(0.1 points)</p>__\n",
    ">\n",
    ">   <hr width=\"82%\" style=\"border-top:1px dashed; border-bottom:none\"/>"
   ]
  },
  {
   "cell_type": "markdown",
   "id": "232bf941",
   "metadata": {},
   "source": [
    "<h3 id='3a' style=\"display:none\">(A)</h3>\n",
    "\n",
    ">   <hr width=\"82%\" style=\"border-bottom:2px dashed; border-top:none\"/>\n",
    ">   \n",
    ">   ### &#x2e04;&hairsp;&#x00B3;&hairsp;&#x2E05;&hairsp;(A)\n",
    ">\n",
    ">   __What is the source location?__\n",
    ">\n",
    ">   (Express your answer in vector form.)\n",
    ">\n",
    ">   &nbsp;&nbsp;&nbsp;&nbsp;\n",
    ">   $\\vec{r}_\\textrm{source} = \\left\\langle\\ \\fbox{\\hspace{4em}?},\\ \\fbox{\\hspace{4em}?},\\ \\fbox{\\hspace{4em}?}\\ \\right\\rangle\\ \\left[\\mathrm{m}\\right]$\n",
    ">\n",
    ">   <hr width=\"64%\" style=\"border-top:2px dotted; border-bottom:none\"/>"
   ]
  },
  {
   "cell_type": "markdown",
   "id": "77c488d0",
   "metadata": {},
   "source": [
    "<h3 id='3b' style=\"display:none\">(B)</h3>\n",
    "\n",
    ">   <hr width=\"82%\" style=\"border-bottom:2px dashed; border-top:none\"/>\n",
    ">   \n",
    ">   ### &#x2e04;&hairsp;&#x00B3;&hairsp;&#x2E05;&hairsp;(B)\n",
    ">\n",
    ">   __What is the observation location?__\n",
    ">\n",
    ">   (Express your answer in vector form.)\n",
    ">\n",
    ">   &nbsp;&nbsp;&nbsp;&nbsp;\n",
    ">   $\\vec{r}_\\textrm{obs} = \\left\\langle\\ \\fbox{\\hspace{4em}?},\\ \\fbox{\\hspace{4em}?},\\ \\fbox{\\hspace{4em}?}\\ \\right\\rangle\\ \\left[\\mathrm{m}\\right]$\n",
    ">\n",
    ">   <hr width=\"64%\" style=\"border-top:2px dotted; border-bottom:none\"/>"
   ]
  },
  {
   "cell_type": "markdown",
   "id": "d47fe3bf",
   "metadata": {},
   "source": [
    "<h3 id='3c' style=\"display:none\">(C)</h3>\n",
    "\n",
    ">   <hr width=\"82%\" style=\"border-bottom:2px dashed; border-top:none\"/>\n",
    ">   \n",
    ">   ### &#x2e04;&hairsp;&#x00B3;&hairsp;&#x2E05;&hairsp;(C)\n",
    ">\n",
    ">   __What is the vector $\\vec{r}$, that points from the source location to the \n",
    ">   observation location?__\n",
    ">\n",
    ">   (Express your answer in vector form.)\n",
    ">\n",
    ">   &nbsp;&nbsp;&nbsp;&nbsp;\n",
    ">   $\\vec{r} = \\left\\langle\\ \\fbox{\\hspace{4em}?},\\ \\fbox{\\hspace{4em}?},\\ \\fbox{\\hspace{4em}?}\\ \\right\\rangle\\ \\left[\\mathrm{m}\\right]$\n",
    ">\n",
    ">   <hr width=\"64%\" style=\"border-top:2px dotted; border-bottom:none\"/>"
   ]
  },
  {
   "cell_type": "markdown",
   "id": "dc436e2d",
   "metadata": {},
   "source": [
    "<h3 id='3d' style=\"display:none\">(D)</h3>\n",
    "\n",
    ">   <hr width=\"82%\" style=\"border-bottom:2px dashed; border-top:none\"/>\n",
    ">   \n",
    ">   ### &#x2e04;&hairsp;&#x00B3;&hairsp;&#x2E05;&hairsp;(D)\n",
    ">\n",
    ">   __What is $\\lvert \\vec{r} \\rvert$?__\n",
    ">\n",
    ">   &nbsp;&nbsp;&nbsp;&nbsp; $\\fbox{\\hspace{8em}?}$&emsp;[m]\n",
    ">\n",
    ">   <hr width=\"64%\" style=\"border-top:2px dotted; border-bottom:none\"/>"
   ]
  },
  {
   "cell_type": "markdown",
   "id": "a780209a",
   "metadata": {},
   "source": [
    "<h3 id='3e' style=\"display:none\">(E)</h3>\n",
    "\n",
    ">   <hr width=\"82%\" style=\"border-bottom:2px dashed; border-top:none\"/>\n",
    ">   \n",
    ">   ### &#x2e04;&hairsp;&#x00B3;&hairsp;&#x2E05;&hairsp;(E)\n",
    ">\n",
    ">   __What is the vector $\\hat{r}$?__\n",
    ">\n",
    ">   (Express your answer in vector form.)\n",
    ">\n",
    ">   &nbsp;&nbsp;&nbsp;&nbsp;\n",
    ">   $\\hat{r} = \\left\\langle\\ \\fbox{\\hspace{4em}?},\\ \\fbox{\\hspace{4em}?},\\ \\fbox{\\hspace{4em}?}\\ \\right\\rangle\\ \\left[\\mathrm{m}\\right]$\n",
    ">\n",
    ">   <hr width=\"64%\" style=\"border-top:2px dotted; border-bottom:none\"/>"
   ]
  },
  {
   "cell_type": "markdown",
   "id": "c77070dc",
   "metadata": {},
   "source": [
    "<h3 id='3f' style=\"display:none\">(F)</h3>\n",
    "\n",
    ">   <hr width=\"82%\" style=\"border-bottom:2px dashed; border-top:none\"/>\n",
    ">   \n",
    ">   ### &#x2e04;&hairsp;&#x00B3;&hairsp;&#x2E05;&hairsp;(F)\n",
    ">\n",
    ">   __What is the value of $\\frac{1}{4\\pi\\epsilon_0} \\frac{q}{ {\\lvert \\vec{r} \\rvert}^2 }$?__\n",
    ">\n",
    ">   &nbsp;&nbsp;&nbsp;&nbsp; $\\fbox{\\hspace{8em}?}$&emsp;[N/C]\n",
    ">\n",
    ">   <hr width=\"64%\" style=\"border-top:2px dotted; border-bottom:none\"/>"
   ]
  },
  {
   "cell_type": "markdown",
   "id": "fc5fa32f",
   "metadata": {},
   "source": [
    "<h3 id='3g' style=\"display:none\">(G)</h3>\n",
    "\n",
    ">   <hr width=\"82%\" style=\"border-bottom:2px dashed; border-top:none\"/>\n",
    ">   \n",
    ">   ### &#x2e04;&hairsp;&#x00B3;&hairsp;&#x2E05;&hairsp;(G)\n",
    ">\n",
    ">   Finally, __what is the electric field, expressed as a vector?__\n",
    ">\n",
    ">   (Express your answer in vector form.)\n",
    ">\n",
    ">   &nbsp;&nbsp;&nbsp;&nbsp;\n",
    ">   $\\vec{E} = \\left\\langle\\ \\fbox{\\hspace{4em}?},\\ \\fbox{\\hspace{4em}?},\\ \\fbox{\\hspace{4em}?}\\ \\right\\rangle\\ \\left[\\mathrm{N/C}\\right]$\n",
    ">\n",
    ">   <hr width=\"64%\" style=\"border-top:2px dotted; border-bottom:none\"/>"
   ]
  },
  {
   "cell_type": "markdown",
   "id": "76bdbed4",
   "metadata": {},
   "source": [
    "<div style=\"page-break-after: always;\"/> \n",
    "<h2 id='4' style=\"display:none\">[4]</h2>\n",
    "\n",
    ">   ---\n",
    ">   ## [4]\n",
    ">\n",
    ">   __What is the electric field__, at a location $\\vec{b} =\\langle -0.1, -0.3, 0\\rangle$ [m],\n",
    ">   due to a particle with charge $+2$ [nC] located at the origin?\n",
    ">\n",
    ">   &nbsp;&nbsp;&nbsp;&nbsp;\n",
    ">   $\\vec{E} = \\left\\langle\\ \\fbox{\\hspace{4em}?},\\ \\fbox{\\hspace{4em}?},\\ \\fbox{\\hspace{4em}?}\\ \\right\\rangle\\ \\left[\\mathrm{N/C}\\right]$\n",
    ">\n",
    ">   __<p align='right'>(0.1 points)</p>__\n",
    ">\n",
    ">   <hr width=\"82%\" style=\"border-top:1px dashed; border-bottom:none\"/>"
   ]
  },
  {
   "cell_type": "markdown",
   "id": "3582d69f",
   "metadata": {},
   "source": [
    "<div style=\"page-break-after: always;\"/> \n",
    "<h2 id='5' style=\"display:none\">[5]</h2>\n",
    "\n",
    ">   ---\n",
    ">   ## [5]\n",
    ">\n",
    ">   __What are the magnitude and direction of the electric field $\\vec{E}$,__ at\n",
    ">   a location $\\langle 32, 0, 0\\rangle$ [cm]; if there is a negative point\n",
    ">   charge of $2.5$ [nC] ($2.5 \\times 10^{-9}$ [C]) at location \n",
    ">   $\\langle 45, 0, 0\\rangle$ [cm]?\n",
    ">\n",
    ">   Include units. Express your answer in vector form. \n",
    ">\n",
    ">   &nbsp;&nbsp;&nbsp;&nbsp;\n",
    ">   $\\vec{E} = \\left\\langle\\ \\fbox{\\hspace{4em}?},\\ \\fbox{\\hspace{4em}?},\\ \\fbox{\\hspace{4em}?}\\ \\right\\rangle$\n",
    ">\n",
    ">   (select one:)\n",
    ">\n",
    ">   - [ ] [N/C]\n",
    ">\n",
    ">   __<p align='right'>(0.1 points)</p>__\n",
    ">\n",
    ">   <hr width=\"82%\" style=\"border-top:1px dashed; border-bottom:none\"/>"
   ]
  },
  {
   "cell_type": "markdown",
   "id": "064d829b",
   "metadata": {},
   "source": [
    "<div style=\"page-break-after: always;\"/> \n",
    "<h2 id='6' style=\"display:none\">[6]</h2>\n",
    "\n",
    ">   ---\n",
    ">   ## [6]\n",
    ">\n",
    ">   An electron is located at $\\langle 0.7, 0.7, -0.2\\rangle$ [m]. You need to \n",
    ">   find the electric field at location $\\langle 0.5, 1.7, -0.5\\rangle$ [m] due\n",
    ">   to the electron. \n",
    ">\n",
    ">   __<p align='right'>(0.1 points)</p>__\n",
    ">\n",
    ">   <hr width=\"82%\" style=\"border-top:1px dashed; border-bottom:none\"/>"
   ]
  },
  {
   "cell_type": "markdown",
   "id": "0a9d1893",
   "metadata": {},
   "source": [
    "<h3 id='6a' style=\"display:none\">(A)</h3>\n",
    "\n",
    ">   <hr width=\"82%\" style=\"border-bottom:2px dashed; border-top:none\"/>\n",
    ">   \n",
    ">   ### &#x2e04;&hairsp;&#x2076;&hairsp;&#x2E05;&hairsp;(A)\n",
    ">\n",
    ">   __What is the source location?__\n",
    ">\n",
    ">   (Express your answer in vector form.)\n",
    ">\n",
    ">   &nbsp;&nbsp;&nbsp;&nbsp;\n",
    ">   $\\vec{r}_\\textrm{source} = \\left\\langle\\ \\fbox{\\hspace{4em}?},\\ \\fbox{\\hspace{4em}?},\\ \\fbox{\\hspace{4em}?}\\ \\right\\rangle\\ \\left[\\mathrm{m}\\right]$\n",
    ">\n",
    ">   <hr width=\"64%\" style=\"border-top:2px dotted; border-bottom:none\"/>"
   ]
  },
  {
   "cell_type": "markdown",
   "id": "1bba52e7",
   "metadata": {},
   "source": [
    "<h3 id='6b' style=\"display:none\">(B)</h3>\n",
    "\n",
    ">   <hr width=\"82%\" style=\"border-bottom:2px dashed; border-top:none\"/>\n",
    ">   \n",
    ">   ### &#x2e04;&hairsp;&#x2076;&hairsp;&#x2E05;&hairsp;(B)\n",
    ">\n",
    ">   __What is the observation location?__\n",
    ">\n",
    ">   (Express your answer in vector form.)\n",
    ">\n",
    ">   &nbsp;&nbsp;&nbsp;&nbsp;\n",
    ">   $\\vec{r}_\\textrm{obs} = \\left\\langle\\ \\fbox{\\hspace{4em}?},\\ \\fbox{\\hspace{4em}?},\\ \\fbox{\\hspace{4em}?}\\ \\right\\rangle\\ \\left[\\mathrm{m}\\right]$\n",
    ">\n",
    ">   <hr width=\"64%\" style=\"border-top:2px dotted; border-bottom:none\"/>"
   ]
  },
  {
   "cell_type": "markdown",
   "id": "8deb1d0c",
   "metadata": {},
   "source": [
    "<h3 id='6c' style=\"display:none\">(C)</h3>\n",
    "\n",
    ">   <hr width=\"82%\" style=\"border-bottom:2px dashed; border-top:none\"/>\n",
    ">   \n",
    ">   ### &#x2e04;&hairsp;&#x2076;&hairsp;&#x2E05;&hairsp;(C)\n",
    ">\n",
    ">   __What is the vector $\\vec{r}$ that points from the source location, to the\n",
    ">   observation location?__\n",
    ">\n",
    ">   (Express your answer in vector form.)\n",
    ">\n",
    ">   &nbsp;&nbsp;&nbsp;&nbsp;\n",
    ">   $\\vec{r} = \\left\\langle\\ \\fbox{\\hspace{4em}?},\\ \\fbox{\\hspace{4em}?},\\ \\fbox{\\hspace{4em}?}\\ \\right\\rangle\\ \\left[\\mathrm{m}\\right]$\n",
    ">\n",
    ">   <hr width=\"64%\" style=\"border-top:2px dotted; border-bottom:none\"/>"
   ]
  },
  {
   "cell_type": "markdown",
   "id": "de13e8b8",
   "metadata": {},
   "source": [
    "<h3 id='6d' style=\"display:none\">(D)</h3>\n",
    "\n",
    ">   <hr width=\"82%\" style=\"border-bottom:2px dashed; border-top:none\"/>\n",
    ">   \n",
    ">   ### &#x2e04;&hairsp;&#x2076;&hairsp;&#x2E05;&hairsp;(D)\n",
    ">\n",
    ">   __What is $\\lvert\\vec{r}\\rvert$?__\n",
    ">\n",
    ">   &nbsp;&nbsp;&nbsp;&nbsp;\n",
    ">   $\\fbox{\\hspace{8em}?}\\ \\left[\\mathrm{m}\\right]$\n",
    ">\n",
    ">   <hr width=\"64%\" style=\"border-top:2px dotted; border-bottom:none\"/>"
   ]
  },
  {
   "cell_type": "markdown",
   "id": "a045343b",
   "metadata": {},
   "source": [
    "<h3 id='6e' style=\"display:none\">(E)</h3>\n",
    "\n",
    ">   <hr width=\"82%\" style=\"border-bottom:2px dashed; border-top:none\"/>\n",
    ">   \n",
    ">   ### &#x2e04;&hairsp;&#x2076;&hairsp;&#x2E05;&hairsp;(E)\n",
    ">\n",
    ">   __What is the vector $\\hat{r}$?__\n",
    ">\n",
    ">   (Express your answer in vector form.)\n",
    ">\n",
    ">   &nbsp;&nbsp;&nbsp;&nbsp;\n",
    ">   $\\hat{r} = \\left\\langle\\ \\fbox{\\hspace{4em}?},\\ \\fbox{\\hspace{4em}?},\\ \\fbox{\\hspace{4em}?}\\ \\right\\rangle\\ \\left[\\mathrm{m}\\right]$\n",
    ">\n",
    ">   <hr width=\"64%\" style=\"border-top:2px dotted; border-bottom:none\"/>"
   ]
  },
  {
   "cell_type": "markdown",
   "id": "4283f29b",
   "metadata": {},
   "source": [
    "<h3 id='6f' style=\"display:none\">(F)</h3>\n",
    "\n",
    ">   <hr width=\"82%\" style=\"border-bottom:2px dashed; border-top:none\"/>\n",
    ">   \n",
    ">   ### &#x2e04;&hairsp;&#x2076;&hairsp;&#x2E05;&hairsp;(F)\n",
    ">\n",
    ">   __What is the value of $\\frac{1}{4\\pi\\epsilon_0} \\frac{q}{ {\\lvert \\vec{r} \\rvert}^2 }$?__\n",
    ">\n",
    ">   &nbsp;&nbsp;&nbsp;&nbsp; $\\fbox{\\hspace{8em}?}$&emsp;[N/C]\n",
    ">\n",
    ">   <hr width=\"64%\" style=\"border-top:2px dotted; border-bottom:none\"/>"
   ]
  },
  {
   "cell_type": "markdown",
   "id": "182de373",
   "metadata": {},
   "source": [
    "<h3 id='6g' style=\"display:none\">(G)</h3>\n",
    "\n",
    ">   <hr width=\"82%\" style=\"border-bottom:2px dashed; border-top:none\"/>\n",
    ">   \n",
    ">   ### &#x2e04;&hairsp;&#x2076;&hairsp;&#x2E05;&hairsp;(G)\n",
    ">\n",
    ">   Finally, __what is the electric field, expressed as a vector?__\n",
    ">\n",
    ">   (Express your answer in vector form.)\n",
    ">\n",
    ">   &nbsp;&nbsp;&nbsp;&nbsp;\n",
    ">   $\\vec{E} = \\left\\langle\\ \\fbox{\\hspace{4em}?},\\ \\fbox{\\hspace{4em}?},\\ \\fbox{\\hspace{4em}?}\\ \\right\\rangle\\ \\left[\\mathrm{N/C}\\right]$\n",
    ">\n",
    ">   <hr width=\"64%\" style=\"border-top:2px dotted; border-bottom:none\"/>"
   ]
  },
  {
   "cell_type": "markdown",
   "id": "f623c7bd",
   "metadata": {},
   "source": [
    "<div style=\"page-break-after: always;\"/> \n",
    "<h2 id='7' style=\"display:none\">[7]</h2>\n",
    "\n",
    ">   ---\n",
    ">   ## [7]\n",
    ">\n",
    ">   The electric field at a location $C$ points north, and the magnitude is\n",
    ">   $4.4 \\times 10^6$&emsp;[N/C]. \n",
    ">\n",
    ">   Give numerical answers to the following questions.\n",
    ">\n",
    ">   (Assume that the $+x$-axis is to the east, the $+y$-axis points to the north,\n",
    ">   and the $+z$-axis points towards you out of the page. Express your answers\n",
    ">   in vector form.)\n",
    ">\n",
    ">   __<p align='right'>(0.1 points)</p>__\n",
    ">\n",
    ">   <hr width=\"82%\" style=\"border-top:1px dashed; border-bottom:none\"/>"
   ]
  },
  {
   "cell_type": "markdown",
   "id": "1a40dc7b",
   "metadata": {},
   "source": [
    "<h3 id='7a' style=\"display:none\">(A)</h3>\n",
    "\n",
    ">   <hr width=\"82%\" style=\"border-bottom:2px dashed; border-top:none\"/>\n",
    ">   \n",
    ">   ### &#x2e04;&hairsp;&#x2077;&hairsp;&#x2E05;&hairsp;(A)\n",
    ">\n",
    ">   __Where, relative to $C$, should you place a single proton to produce this field?__\n",
    ">\n",
    ">   &nbsp;&nbsp;&nbsp;&nbsp;\n",
    ">   $\\vec{r}_p = \\left\\langle\\ \\fbox{\\hspace{4em}?},\\ \\fbox{\\hspace{4em}?},\\ \\fbox{\\hspace{4em}?}\\ \\right\\rangle\\ \\left[\\mathrm{m}\\right]$\n",
    ">\n",
    ">   <hr width=\"64%\" style=\"border-top:2px dotted; border-bottom:none\"/>"
   ]
  },
  {
   "cell_type": "markdown",
   "id": "657933dc",
   "metadata": {},
   "source": [
    "<h3 id='7b' style=\"display:none\">(B)</h3>\n",
    "\n",
    ">   <hr width=\"82%\" style=\"border-bottom:2px dashed; border-top:none\"/>\n",
    ">   \n",
    ">   ### &#x2e04;&hairsp;&#x2077;&hairsp;&#x2E05;&hairsp;(B)\n",
    ">\n",
    ">   __Where, relative to $C$, should you place a single electron to produce this field?__\n",
    ">\n",
    ">   &nbsp;&nbsp;&nbsp;&nbsp;\n",
    ">   $\\vec{r}_e = \\left\\langle\\ \\fbox{\\hspace{4em}?},\\ \\fbox{\\hspace{4em}?},\\ \\fbox{\\hspace{4em}?}\\ \\right\\rangle\\ \\left[\\mathrm{m}\\right]$\n",
    ">\n",
    ">   <hr width=\"64%\" style=\"border-top:2px dotted; border-bottom:none\"/>"
   ]
  },
  {
   "cell_type": "markdown",
   "id": "8c72d72b",
   "metadata": {},
   "source": [
    "<h3 id='7c' style=\"display:none\">(C)</h3>\n",
    "\n",
    ">   <hr width=\"82%\" style=\"border-bottom:2px dashed; border-top:none\"/>\n",
    ">   \n",
    ">   ### &#x2e04;&hairsp;&#x2077;&hairsp;&#x2E05;&hairsp;(C)\n",
    ">\n",
    ">   __Where should you place a proton and an electron, at equal distances to $C$, to produce this field?__\n",
    ">\n",
    ">   &nbsp;&nbsp;&nbsp;&nbsp;\n",
    ">   $\\vec{r}_p = \\left\\langle\\ \\fbox{\\hspace{4em}?},\\ \\fbox{\\hspace{4em}?},\\ \\fbox{\\hspace{4em}?}\\ \\right\\rangle\\ \\left[\\mathrm{m}\\right]$\n",
    ">\n",
    ">   &nbsp;&nbsp;&nbsp;&nbsp;\n",
    ">   $\\vec{r}_e = \\left\\langle\\ \\fbox{\\hspace{4em}?},\\ \\fbox{\\hspace{4em}?},\\ \\fbox{\\hspace{4em}?}\\ \\right\\rangle\\ \\left[\\mathrm{m}\\right]$\n",
    ">\n",
    ">   <hr width=\"64%\" style=\"border-top:2px dotted; border-bottom:none\"/>"
   ]
  },
  {
   "cell_type": "markdown",
   "id": "130a2a08",
   "metadata": {},
   "source": [
    "<div style=\"page-break-after: always;\"/> \n",
    "<h2 id='8' style=\"display:none\">[8]</h2>\n",
    "\n",
    ">   ---\n",
    ">   ## [8]\n",
    ">\n",
    ">   \n",
    ">\n",
    ">   __<p align='right'>(0.1 points)</p>__\n",
    ">\n",
    ">   <hr width=\"82%\" style=\"border-top:1px dashed; border-bottom:none\"/>"
   ]
  },
  {
   "cell_type": "markdown",
   "id": "ba58454a",
   "metadata": {},
   "source": [
    "<h3 id='8a' style=\"display:none\">(A)</h3>\n",
    "\n",
    ">   <hr width=\"82%\" style=\"border-bottom:2px dashed; border-top:none\"/>\n",
    ">   \n",
    ">   ### &#x2e04;&hairsp;&#x2078;&hairsp;&#x2E05;&hairsp;(A)\n",
    ">\n",
    ">   On a clear and carefully drawn diagram, place a helium nucleus (consisting \n",
    ">   of two protons and two neutrons) and a proton, in such a way that the \n",
    ">   electric field due to these charges is zero at a location marked $X$; a \n",
    ">   distance $7 \\times 10^{-10}$ [m] from the helium nucleus.\n",
    ">\n",
    ">   (Assume the $+x$-axis points to the right.)\n",
    ">\n",
    ">   (select one:)\n",
    ">\n",
    ">   - [ ] {{ graphic }}\n",
    ">   - [ ] {{ graphic }}\n",
    ">   - [ ] {{ graphic }}\n",
    ">   - [ ] {{ graphic }}\n",
    ">\n",
    ">   <hr width=\"64%\" style=\"border-top:2px dotted; border-bottom:none\"/>"
   ]
  },
  {
   "cell_type": "markdown",
   "id": "be675d7c",
   "metadata": {},
   "source": [
    "<h3 id='8b' style=\"display:none\">(B)</h3>\n",
    "\n",
    ">   <hr width=\"82%\" style=\"border-bottom:2px dashed; border-top:none\"/>\n",
    ">   \n",
    ">   ### &#x2e04;&hairsp;&#x2078;&hairsp;&#x2E05;&hairsp;(B)\n",
    ">\n",
    ">   __Be quantitative about the relative distances. (Enter the position of the \n",
    ">   proton relative to the location marked $X$).__\n",
    ">\n",
    ">   Express your answer in vectorm form.\n",
    ">\n",
    ">   &nbsp;&nbsp;&nbsp;&nbsp;\n",
    ">   $\\vec{r} = \\left\\langle\\ \\fbox{\\hspace{4em}?},\\ \\fbox{\\hspace{4em}?},\\ \\fbox{\\hspace{4em}?}\\ \\right\\rangle\\ \\left[\\mathrm{m}\\right]$\n",
    ">\n",
    ">   <hr width=\"64%\" style=\"border-top:2px dotted; border-bottom:none\"/>"
   ]
  },
  {
   "cell_type": "markdown",
   "id": "b791627c",
   "metadata": {},
   "source": [
    "<h3 id='8c' style=\"display:none\">(C)</h3>\n",
    "\n",
    ">   <hr width=\"82%\" style=\"border-bottom:2px dashed; border-top:none\"/>\n",
    ">   \n",
    ">   ### &#x2e04;&hairsp;&#x2078;&hairsp;&#x2E05;&hairsp;(C)\n",
    ">\n",
    ">   On a clear and carefully drawn diagram, place a helium nucleus  and an \n",
    ">   _electron_, in such a way that the electric field due to these charges is \n",
    ">   zero at a location marked $X$.\n",
    ">\n",
    ">   (Assume the $+x$-axis points to the right.)\n",
    ">\n",
    ">   (select one:)\n",
    ">\n",
    ">   - [ ] {{ graphic }}\n",
    ">   - [ ] {{ graphic }}\n",
    ">   - [ ] {{ graphic }}\n",
    ">   - [ ] {{ graphic }}\n",
    ">\n",
    ">   <hr width=\"64%\" style=\"border-top:2px dotted; border-bottom:none\"/>"
   ]
  },
  {
   "cell_type": "markdown",
   "id": "6215f834",
   "metadata": {},
   "source": [
    "<div style=\"page-break-after: always;\"/> \n",
    "<h2 id='9' style=\"display:none\">[9]</h2>\n",
    "\n",
    ">   ---\n",
    ">   ## [9]\n",
    ">\n",
    ">   {{ graphic }}\n",
    ">\n",
    ">   Two small charged objects are located as shown in the diagram. In the \n",
    ">   diagram, each square represents $10^{-2}$ [m]. \n",
    ">   $Q_1 = -2$ [nC] and $Q_2 = 5$ [nC].\n",
    ">   \n",
    ">   Remember that $1$ [nC] (nano-coulomb) is $10^{-9}$ coulombs. \n",
    ">\n",
    ">   You will calculate the net electric field at a location \n",
    ">   $\\vec{A} = \\langle -0.04, -0.06, 0\\rangle$ [m]. \n",
    ">\n",
    ">   Before doing any calculations, on a copy of the diagram, draw two arrows\n",
    ">   representing the electric field at the observation location due to each of\n",
    ">   the charged particles. Use your diagram to answer the following questions.\n",
    ">\n",
    ">   __<p align='right'>(0.1 points)</p>__\n",
    ">\n",
    ">   <hr width=\"82%\" style=\"border-top:1px dashed; border-bottom:none\"/>"
   ]
  },
  {
   "cell_type": "markdown",
   "id": "66c19d27",
   "metadata": {},
   "source": [
    "<h3 id='9a' style=\"display:none\">(A)</h3>\n",
    "\n",
    ">   <hr width=\"82%\" style=\"border-bottom:2px dashed; border-top:none\"/>\n",
    ">   \n",
    ">   ### &#x2e04;&hairsp;&#x2079;&hairsp;&#x2E05;&hairsp;(A)\n",
    ">\n",
    ">   __What is the sign of the $x$-component of $\\vec{E}_1$, the electric field at $\\vec{A}$ due to $Q_1$?__\n",
    ">\n",
    ">   - [ ] positive \n",
    ">\n",
    ">   __What is the sign of the $y$-component of $\\vec{E}_1$?__\n",
    ">\n",
    ">   - [ ] positive \n",
    ">\n",
    ">   __What is the sign of the $z$-component of $\\vec{E}_1$?__\n",
    ">\n",
    ">   - [ ] zero\n",
    ">\n",
    ">   <hr width=\"64%\" style=\"border-top:2px dotted; border-bottom:none\"/>"
   ]
  },
  {
   "cell_type": "markdown",
   "id": "78b52170",
   "metadata": {},
   "source": [
    "<h3 id='9b' style=\"display:none\">(B)</h3>\n",
    "\n",
    ">   <hr width=\"82%\" style=\"border-bottom:2px dashed; border-top:none\"/>\n",
    ">   \n",
    ">   ### &#x2e04;&hairsp;&#x2079;&hairsp;&#x2E05;&hairsp;(B)\n",
    ">\n",
    ">   __What is the sign of the $x$-component of $\\vec{E}_2$, the electric field at $\\vec{A}$ due to $Q_2$?__\n",
    ">\n",
    ">   - [ ] negative\n",
    ">\n",
    ">   __What is the sign of the $y$-component of $\\vec{E}_2$?__\n",
    ">\n",
    ">   - [ ] negative\n",
    ">\n",
    ">   __What is the sign of the $z$-component of $\\vec{E}_2$?__\n",
    ">\n",
    ">   - [ ] zero\n",
    ">\n",
    ">   <hr width=\"64%\" style=\"border-top:2px dotted; border-bottom:none\"/>"
   ]
  },
  {
   "cell_type": "markdown",
   "id": "64cee948",
   "metadata": {},
   "source": [
    "<h3 id='9c' style=\"display:none\">(C)</h3>\n",
    "\n",
    ">   <hr width=\"82%\" style=\"border-bottom:2px dashed; border-top:none\"/>\n",
    ">   \n",
    ">   ### &#x2e04;&hairsp;&#x2079;&hairsp;&#x2E05;&hairsp;(C)\n",
    ">\n",
    ">   __What is the electric field at $\\vec{A}$ due to $Q_1$?__\n",
    ">\n",
    ">   &nbsp;&nbsp;&nbsp;&nbsp;\n",
    ">   $\\vec{E}_1 = \\left\\langle\\ \\fbox{\\hspace{4em}?},\\ \\fbox{\\hspace{4em}?},\\ \\fbox{\\hspace{4em}?}\\ \\right\\rangle\\ \\left[\\mathrm{N/C}\\right]$\n",
    ">\n",
    ">   <hr width=\"64%\" style=\"border-top:2px dotted; border-bottom:none\"/>"
   ]
  },
  {
   "cell_type": "markdown",
   "id": "5416047d",
   "metadata": {},
   "source": [
    "<h3 id='9d' style=\"display:none\">(D)</h3>\n",
    "\n",
    ">   <hr width=\"82%\" style=\"border-bottom:2px dashed; border-top:none\"/>\n",
    ">   \n",
    ">   ### &#x2e04;&hairsp;&#x2079;&hairsp;&#x2E05;&hairsp;(D)\n",
    ">\n",
    ">   __What is the electric field at $\\vec{A}$ due to $Q_2$?__\n",
    ">\n",
    ">   &nbsp;&nbsp;&nbsp;&nbsp;\n",
    ">   $\\vec{E}_2 = \\left\\langle\\ \\fbox{\\hspace{4em}?},\\ \\fbox{\\hspace{4em}?},\\ \\fbox{\\hspace{4em}?}\\ \\right\\rangle\\ \\left[\\mathrm{N/C}\\right]$\n",
    ">\n",
    ">   <hr width=\"64%\" style=\"border-top:2px dotted; border-bottom:none\"/>"
   ]
  },
  {
   "cell_type": "markdown",
   "id": "a9b81fb9",
   "metadata": {},
   "source": [
    "<h3 id='9e' style=\"display:none\">(E)</h3>\n",
    "\n",
    ">   <hr width=\"82%\" style=\"border-bottom:2px dashed; border-top:none\"/>\n",
    ">   \n",
    ">   ### &#x2e04;&hairsp;&#x2079;&hairsp;&#x2E05;&hairsp;(E)\n",
    ">\n",
    ">   __What is the electric field at $\\vec{A}$?__\n",
    ">\n",
    ">   &nbsp;&nbsp;&nbsp;&nbsp;\n",
    ">   $\\vec{E}_\\textrm{net} = \\left\\langle\\ \\fbox{\\hspace{4em}?},\\ \\fbox{\\hspace{4em}?},\\ \\fbox{\\hspace{4em}?}\\ \\right\\rangle\\ \\left[\\mathrm{N/C}\\right]$\n",
    ">\n",
    ">   <hr width=\"64%\" style=\"border-top:2px dotted; border-bottom:none\"/>"
   ]
  },
  {
   "cell_type": "markdown",
   "id": "ad6f5d59",
   "metadata": {},
   "source": [
    "<div style=\"page-break-after: always;\"/> \n",
    "<h2 id='10' style=\"display:none\">[10]</h2>\n",
    "\n",
    ">   ---\n",
    ">   ## [10]\n",
    ">\n",
    ">   __Field and force with three charges__\n",
    ">\n",
    ">   At a particular moment, one negative and two positive charges are located as\n",
    ">   shown in the figure. \n",
    ">\n",
    ">   {{ graphic }}\n",
    ">\n",
    ">   Your answers to each part of this problem should be vectors.\n",
    ">\n",
    ">   It helps a great deal to make a diagram with arrows representing the various\n",
    ">   electric field contributions, and then check the signs of your components \n",
    ">   against these arrows. \n",
    ">\n",
    ">   __<p align='right'>(0.1 points)</p>__\n",
    ">\n",
    ">   <hr width=\"82%\" style=\"border-top:1px dashed; border-bottom:none\"/>"
   ]
  },
  {
   "cell_type": "markdown",
   "id": "087943d1",
   "metadata": {},
   "source": [
    "<h3 id='10a' style=\"display:none\">(A)</h3>\n",
    "\n",
    ">   <hr width=\"82%\" style=\"border-bottom:2px dashed; border-top:none\"/>\n",
    ">   \n",
    ">   ### &#x2e04;&hairsp;&#x00B9;&#x2070;&hairsp;&#x2E05;&hairsp;(A)\n",
    ">\n",
    ">   __Find the elctric field at the location of $Q_1$, due to $Q_2$ and $Q_3$.__\n",
    ">\n",
    ">   &nbsp;&nbsp;&nbsp;&nbsp;\n",
    ">   $\\vec{E} = \\left\\langle\\ \\fbox{\\hspace{4em}?},\\ \\fbox{\\hspace{4em}?},\\ \\fbox{\\hspace{4em}?}\\ \\right\\rangle\\ \\left[\\mathrm{N/C}\\right]$\n",
    ">\n",
    ">   <hr width=\"64%\" style=\"border-top:2px dotted; border-bottom:none\"/>"
   ]
  },
  {
   "cell_type": "markdown",
   "id": "9b656077",
   "metadata": {},
   "source": [
    "<h3 id='10b' style=\"display:none\">(B)</h3>\n",
    "\n",
    ">   <hr width=\"82%\" style=\"border-bottom:2px dashed; border-top:none\"/>\n",
    ">   \n",
    ">   ### &#x2e04;&hairsp;&#x00B9;&#x2070;&hairsp;&#x2E05;&hairsp;(B)\n",
    ">\n",
    ">   __Use the electric field you calculated in part ([A](#10a)) to find the force on $Q_1$.__\n",
    ">\n",
    ">   &nbsp;&nbsp;&nbsp;&nbsp;\n",
    ">   $\\vec{F} = \\left\\langle\\ \\fbox{\\hspace{4em}?},\\ \\fbox{\\hspace{4em}?},\\ \\fbox{\\hspace{4em}?}\\ \\right\\rangle\\ \\left[\\mathrm{N}\\right]$\n",
    ">\n",
    ">   <hr width=\"64%\" style=\"border-top:2px dotted; border-bottom:none\"/>"
   ]
  },
  {
   "cell_type": "markdown",
   "id": "9027835f",
   "metadata": {},
   "source": [
    "<h3 id='10c' style=\"display:none\">(C)</h3>\n",
    "\n",
    ">   <hr width=\"82%\" style=\"border-bottom:2px dashed; border-top:none\"/>\n",
    ">   \n",
    ">   ### &#x2e04;&hairsp;&#x00B9;&#x2070;&hairsp;&#x2E05;&hairsp;(C)\n",
    ">\n",
    ">   __Find the elctric field at the location $A$, due to all three charges.__\n",
    ">\n",
    ">   &nbsp;&nbsp;&nbsp;&nbsp;\n",
    ">   $\\vec{E} = \\left\\langle\\ \\fbox{\\hspace{4em}?},\\ \\fbox{\\hspace{4em}?},\\ \\fbox{\\hspace{4em}?}\\ \\right\\rangle\\ \\left[\\mathrm{N/C}\\right]$\n",
    ">\n",
    ">   <hr width=\"64%\" style=\"border-top:2px dotted; border-bottom:none\"/>"
   ]
  },
  {
   "cell_type": "markdown",
   "id": "01c3c1a5",
   "metadata": {},
   "source": [
    "<h3 id='10d' style=\"display:none\">(D)</h3>\n",
    "\n",
    ">   <hr width=\"82%\" style=\"border-bottom:2px dashed; border-top:none\"/>\n",
    ">   \n",
    ">   ### &#x2e04;&hairsp;&#x00B9;&#x2070;&hairsp;&#x2E05;&hairsp;(D)\n",
    ">\n",
    ">   An alpha particle ($\\mathrm{He^{2+}}$, containing two protons and two neutrons)\n",
    ">   is released from rest at location $A$. \n",
    ">\n",
    ">   Use your answer from part ([C](#10c)) to __determine the initial acceleration\n",
    ">   of the alpha particle.\n",
    ">\n",
    ">   (Use $6.646 \\times 10^{-27}$ [kg] for the mass of $\\mathrm{He^{2+}}$.)\n",
    ">\n",
    ">   &nbsp;&nbsp;&nbsp;&nbsp;\n",
    ">   $\\vec{a} = \\left\\langle\\ \\fbox{\\hspace{4em}?},\\ \\fbox{\\hspace{4em}?},\\ \\fbox{\\hspace{4em}?}\\ \\right\\rangle\\ \\left[\\mathrm{m / s^2}\\right]$\n",
    ">\n",
    ">   <hr width=\"64%\" style=\"border-top:2px dotted; border-bottom:none\"/>"
   ]
  },
  {
   "cell_type": "markdown",
   "id": "7e9876c7",
   "metadata": {},
   "source": [
    "<div style=\"page-break-after: always;\"/> \n",
    "<h2 id='11' style=\"display:none\">[11]</h2>\n",
    "\n",
    ">   ---\n",
    ">   ## [11]\n",
    ">\n",
    ">   A dipole consists of two charges $+q$ and $-q$, held apart by a rod of length\n",
    ">   $s$, as shown in the diagram. \n",
    ">\n",
    ">   {{ graphic }}\n",
    ">\n",
    ">   __<p align='right'>(0.1 points)</p>__\n",
    ">\n",
    ">   <hr width=\"82%\" style=\"border-top:1px dashed; border-bottom:none\"/>"
   ]
  },
  {
   "cell_type": "markdown",
   "id": "245e3101",
   "metadata": {},
   "source": [
    "<h3 id='11a' style=\"display:none\">(A)</h3>\n",
    "\n",
    ">   <hr width=\"82%\" style=\"border-bottom:2px dashed; border-top:none\"/>\n",
    ">   \n",
    ">   ### &#x2e04;&hairsp;&#x00B9;&#x00B9;&hairsp;&#x2E05;&hairsp;(A)\n",
    ">\n",
    ">   If $q=3$ [nC] and $s=1$ [mm], __what is the magnitude of the electric field due to the dipole__\n",
    ">   at location $A$, a distance $d=5$ [cm] from the dipole?\n",
    ">\n",
    ">   &nbsp;&nbsp;&nbsp;&nbsp;\n",
    ">   $E = \\fbox{\\hspace{8em}?}\\ \\left[\\mathrm{N/C}\\right]$\n",
    ">\n",
    ">   <hr width=\"64%\" style=\"border-top:2px dotted; border-bottom:none\"/>"
   ]
  },
  {
   "cell_type": "markdown",
   "id": "29bacf6d",
   "metadata": {},
   "source": [
    "<h3 id='11a' style=\"display:none\">(A)</h3>\n",
    "\n",
    ">   <hr width=\"82%\" style=\"border-bottom:2px dashed; border-top:none\"/>\n",
    ">   \n",
    ">   ### &#x2e04;&hairsp;&#x00B9;&#x00B9;&hairsp;&#x2E05;&hairsp;(A)\n",
    ">\n",
    ">   __What is the magnitude of the electric field due to the dipole__ at location\n",
    ">   $B$, a distance $d=5$ [cm] from the dipole?\n",
    ">\n",
    ">   &nbsp;&nbsp;&nbsp;&nbsp;\n",
    ">   $E = \\fbox{\\hspace{8em}?}\\ \\left[\\mathrm{N/C}\\right]$\n",
    ">\n",
    ">   <hr width=\"64%\" style=\"border-top:2px dotted; border-bottom:none\"/>"
   ]
  },
  {
   "cell_type": "markdown",
   "id": "ef3f6429",
   "metadata": {},
   "source": [
    "<div style=\"page-break-after: always;\"/> \n",
    "<h2 id='12' style=\"display:none\">[12]</h2>\n",
    "\n",
    ">   ---\n",
    ">   ## [12]\n",
    ">\n",
    ">   Two dipoles are oriented as shown in the figure below.\n",
    ">\n",
    ">   {{ graphic }}\n",
    ">\n",
    ">   Each dipole consists of charges held apart by a short rod (not shown to scale).\n",
    ">\n",
    ">   __What is the electric field at location $A$?__\n",
    ">\n",
    ">   Start by drawing a diagram that shows the direction of each dipole's \n",
    ">   contribution to the electric field at location $A$. Assume $Q_1 = 19$ [nC]\n",
    ">   and $Q_2 = 8$ [nC].\n",
    ">\n",
    ">   (Express your answer in vector form.)\n",
    ">\n",
    ">   &nbsp;&nbsp;&nbsp;&nbsp;\n",
    ">   $\\vec{E}_A = \\left\\langle\\ \\fbox{\\hspace{4em}?},\\ \\fbox{\\hspace{4em}?},\\ \\fbox{\\hspace{4em}?}\\ \\right\\rangle\\ \\left[\\mathrm{N/C}\\right]$\n",
    ">\n",
    ">   __<p align='right'>(0.1 points)</p>__\n",
    ">\n",
    ">   <hr width=\"82%\" style=\"border-top:1px dashed; border-bottom:none\"/>"
   ]
  },
  {
   "cell_type": "markdown",
   "id": "a2f0ab8e",
   "metadata": {},
   "source": [
    "<div style=\"page-break-after: always;\"/> \n",
    "<h2 id='13' style=\"display:none\">[13]</h2>\n",
    "\n",
    ">   ---\n",
    ">   ## [13]\n",
    ">\n",
    ">   A charge of $+1$ [nC] ($1 \\times 10^{-9}$ [C]) and a dipole with charges\n",
    ">   $+q$ and $-q$, separated by $0.3$ [mm], contribute a net field at location \n",
    ">   $A$ that is zero, as shown in the figure below. (Assume $r_1 = 64$ [cm] and\n",
    ">   $r_2 = 36$ [cm].)\n",
    ">\n",
    ">   {{ graphic }}\n",
    ">\n",
    ">   __<p align='right'>(0.1 points)</p>__\n",
    ">\n",
    ">   <hr width=\"82%\" style=\"border-top:1px dashed; border-bottom:none\"/>"
   ]
  },
  {
   "cell_type": "markdown",
   "id": "64c79274",
   "metadata": {},
   "source": [
    "<h3 id='13a' style=\"display:none\">(A)</h3>\n",
    "\n",
    ">   <hr width=\"82%\" style=\"border-bottom:2px dashed; border-top:none\"/>\n",
    ">   \n",
    ">   ### &#x2e04;&hairsp;&#x00B9;&#x00B3;&hairsp;&#x2E05;&hairsp;(A)\n",
    ">\n",
    ">   __Which end of the dipole is positively charged?__\n",
    ">\n",
    ">   - [ ] the left end\n",
    ">\n",
    ">   <hr width=\"64%\" style=\"border-top:2px dotted; border-bottom:none\"/>"
   ]
  },
  {
   "cell_type": "markdown",
   "id": "28bbb8e6",
   "metadata": {},
   "source": [
    "<h3 id='13b' style=\"display:none\">(B)</h3>\n",
    "\n",
    ">   <hr width=\"82%\" style=\"border-bottom:2px dashed; border-top:none\"/>\n",
    ">   \n",
    ">   ### &#x2e04;&hairsp;&#x00B9;&#x00B3;&hairsp;&#x2E05;&hairsp;(B)\n",
    ">\n",
    ">   How large is the charge $q$?\n",
    ">\n",
    ">   (Enter the absolute value.)\n",
    ">\n",
    ">   &nbsp;&nbsp;&nbsp;&nbsp;\n",
    ">   $q = \\fbox{\\hspace{8em}?}\\ \\left[\\mathrm{C}\\right]$\n",
    ">\n",
    ">   <hr width=\"64%\" style=\"border-top:2px dotted; border-bottom:none\"/>"
   ]
  },
  {
   "cell_type": "markdown",
   "id": "6bbedb2a",
   "metadata": {},
   "source": [
    "---"
   ]
  }
 ],
 "metadata": {
  "kernelspec": {
   "display_name": "SageMath 10.6",
   "language": "sage",
   "name": "SageMath-10.6"
  },
  "language_info": {
   "codemirror_mode": {
    "name": "ipython",
    "version": 3
   },
   "file_extension": ".py",
   "mimetype": "text/x-python",
   "name": "sage",
   "nbconvert_exporter": "python",
   "pygments_lexer": "ipython3",
   "version": "3.12.5"
  }
 },
 "nbformat": 4,
 "nbformat_minor": 5
}
