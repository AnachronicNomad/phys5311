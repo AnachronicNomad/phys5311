{
 "cells": [
  {
   "cell_type": "markdown",
   "id": "3112f6f9",
   "metadata": {},
   "source": [
    "<div style=\"page-break-before: always;\"/> \n",
    "\n",
    "# Polarization\n",
    "\n",
    "M&I 4e\n",
    "\n",
    "Ch 14 Electric Fields and Matter\n",
    "\n",
    "- §14.3 &ndash; Polarization of Atoms\n",
    "- §14.4 &ndash; Polarization of Insulators\n",
    "- §14.6 &ndash; Charge Motion in Metals\n",
    "\n",
    "Ch 15 Electric Field of Distributed Charges\n",
    "\n",
    "- §15.1 &ndash; A Uniformly Charged Thin Rod\n",
    "- §15.2 &ndash; Procedure for Calculating Electric Field"
   ]
  },
  {
   "cell_type": "code",
   "execution_count": null,
   "id": "4d87d0c4",
   "metadata": {
    "vscode": {
     "languageId": "python"
    }
   },
   "outputs": [
    {
     "name": "stdout",
     "output_type": "stream",
     "text": [
      "Python: 3.12.5 (main, Feb 25 2025, 12:37:41) [Clang 16.0.0 (clang-1600.0.26.6)]\n"
     ]
    },
    {
     "data": {
      "text/html": [
       "<html>\\(\\displaystyle \\verb|SageMath|\\verb| |\\verb|version|\\verb| |\\verb|10.6,|\\verb| |\\verb|Release|\\verb| |\\verb|Date:|\\verb| |\\verb|2025-03-31|\\)</html>"
      ],
      "text/latex": [
       "$\\displaystyle \\verb|SageMath|\\verb| |\\verb|version|\\verb| |\\verb|10.6,|\\verb| |\\verb|Release|\\verb| |\\verb|Date:|\\verb| |\\verb|2025-03-31|$"
      ],
      "text/plain": [
       "'SageMath version 10.6, Release Date: 2025-03-31'"
      ]
     },
     "execution_count": 1,
     "metadata": {},
     "output_type": "execute_result"
    }
   ],
   "source": [
    "########\n",
    "## Env Setup / Preamble\n",
    "########\n",
    "%load_ext autoreload\n",
    "%autoreload complete \n",
    "\n",
    "%load_ext Cython\n",
    "\n",
    "%display latex\n",
    "\n",
    "################\n",
    "\n",
    "import cython\n",
    "from sage.all import *\n",
    "\n",
    "################\n",
    "\n",
    "import tempfile\n",
    "import mmap\n",
    "from multiprocessing import shared_memory\n",
    "\n",
    "################\n",
    "\n",
    "import numpy as np\n",
    "import scipy.constants\n",
    "\n",
    "np.random.seed( int(scipy.constants.golden_ratio * 1.e6) )\n",
    "\n",
    "from numpy import vectorize\n",
    "from numpy import r_, c_, s_\n",
    "\n",
    "################\n",
    "\n",
    "####    boiler-plate class for named constants\n",
    "from sage.symbolic.constants import Constant\n",
    "class ConstantFromExpression(Constant):\n",
    "    def __init__(self, name, v):\n",
    "        conversions = dict(maxima=repr(maxima.coerce(v)))\n",
    "        Constant.__init__(self, name, conversions=conversions)\n",
    "        self._v = v\n",
    "    def __float__(self): return float(self._v)\n",
    "    def __complex__(self): return complex(self._v)\n",
    "    def _mpfr_(self, R): return R(self._v)\n",
    "    def _real_double_(self, R): return R(self._v)\n",
    "\n",
    "def NamedExpression(name, expr):\n",
    "    return ConstantFromExpression(name,expr).expression()\n",
    "####\n",
    "\n",
    "import sage.symbolic.units as units     # <: TODO\n",
    "\n",
    "π   = NamedExpression('π', scipy.constants.pi)          # pi\n",
    "ε_0 = NamedExpression('ε_0', scipy.constants.epsilon_0) # electric permittivity of vacuum\n",
    "μ_0 = NamedExpression('μ_0', scipy.constants.mu_0)      # magnetic permeability of vacuum\n",
    "\n",
    "𝛋 = 1. / (4 * π * ε_0)      # Coulomb's constant in [ N·m²/C² ]\n",
    "q = NamedExpression('q', -scipy.constants.elementary_charge)\n",
    "\n",
    "ℎ_planck = NamedExpression('ℎ', scipy.constants.Planck)\n",
    "ℏ = NamedExpression('ℏ', scipy.constants.hbar)\n",
    "\n",
    "α = NamedExpression('α', scipy.constants.fine_structure)\n",
    "\n",
    "m_e = NamedExpression('m_e', scipy.constants.electron_mass)\n",
    "m_p = NamedExpression('m_p', scipy.constants.proton_mass)\n",
    "\n",
    "################\n",
    "\n",
    "Parallelism().set(nproc=8)\n",
    "print(f\"Python: {sys.version}\")\n",
    "version()\n"
   ]
  },
  {
   "cell_type": "code",
   "execution_count": 2,
   "id": "6dbb2a79",
   "metadata": {
    "vscode": {
     "languageId": "python"
    }
   },
   "outputs": [
    {
     "name": "stdout",
     "output_type": "stream",
     "text": [
      "The Zen of Python, by Tim Peters\n",
      "\n",
      "Beautiful is better than ugly.\n",
      "Explicit is better than implicit.\n",
      "Simple is better than complex.\n",
      "Complex is better than complicated.\n",
      "Flat is better than nested.\n",
      "Sparse is better than dense.\n",
      "Readability counts.\n",
      "Special cases aren't special enough to break the rules.\n",
      "Although practicality beats purity.\n",
      "Errors should never pass silently.\n",
      "Unless explicitly silenced.\n",
      "In the face of ambiguity, refuse the temptation to guess.\n",
      "There should be one-- and preferably only one --obvious way to do it.\n",
      "Although that way may not be obvious at first unless you're Dutch.\n",
      "Now is better than never.\n",
      "Although never is often better than *right* now.\n",
      "If the implementation is hard to explain, it's a bad idea.\n",
      "If the implementation is easy to explain, it may be a good idea.\n",
      "Namespaces are one honking great idea -- let's do more of those!\n"
     ]
    }
   ],
   "source": [
    "##  sanity check\n",
    "import this\n"
   ]
  },
  {
   "cell_type": "markdown",
   "id": "7d04d4c8",
   "metadata": {},
   "source": [
    "---\n",
    "\n",
    "<hr width=\"82%\" style=\"border-top:2px dashed; border-bottom:none\"/>\n",
    "\n",
    "<hr width=\"64%\" style=\"border-top:1px dotted; border-bottom:none\"/>"
   ]
  },
  {
   "cell_type": "markdown",
   "id": "c67a33ed",
   "metadata": {},
   "source": [
    "<div style=\"page-break-after: always;\"/> \n",
    "<h2 id='1' style=\"display:none\">[1]</h2>\n",
    "\n",
    ">   ---\n",
    ">   ## [1]*\n",
    ">\n",
    ">   There is a region where an electric field points to the right, due to charged\n",
    ">   particles somewhere. \n",
    ">\n",
    ">   A neutral carbon atom is placed inside this region. \n",
    ">\n",
    ">   Draw a diagram of the situation. __Which of the following statements\n",
    ">   are correct?__\n",
    ">\n",
    ">   (check all that apply:)\n",
    ">\n",
    ">   - [ ] &nbsp; The neutral carbon atom polarizes, and becomes a dipole.\n",
    ">   \n",
    ">   - [ ] &nbsp; The electron cloud in the carbon atom shifts to the left.\n",
    ">\n",
    ">   - [ ] &nbsp; The nucleus of the carbon atom shifts to the left.\n",
    ">\n",
    ">   - [ ] &nbsp; Because the net charge of the carbon atom is zero, \n",
    ">                it can not be affected by an electric field. \n",
    ">\n",
    ">   __<p align='right'>(10 points)</p>__\n",
    ">\n",
    ">   <hr width=\"82%\" style=\"border-top:1px dashed; border-bottom:none\"/>"
   ]
  },
  {
   "cell_type": "markdown",
   "id": "c14a9df3",
   "metadata": {},
   "source": [
    "- [x] &nbsp; The neutral carbon atom polarizes, and becomes a dipole.\n",
    "\n",
    "- [x] &nbsp; The electron cloud in the carbon atom shifts to the left."
   ]
  },
  {
   "cell_type": "markdown",
   "id": "775f765b",
   "metadata": {},
   "source": [
    "<div style=\"page-break-after: always;\"/> \n",
    "<h2 id='2' style=\"display:none\">[2]</h2>\n",
    "\n",
    ">   ---\n",
    ">   ## [2]*\n",
    ">\n",
    ">   {{ graphic }}\n",
    ">\n",
    ">   A charged particle with charge $q_1$ is a distance $r$ from a neutral atom,\n",
    ">   as shown in the diagram. \n",
    ">\n",
    ">   __<p align='right'>(10 points)</p>__\n",
    ">\n",
    ">   <hr width=\"82%\" style=\"border-top:1px dashed; border-bottom:none\"/>"
   ]
  },
  {
   "cell_type": "markdown",
   "id": "f26149b1",
   "metadata": {},
   "source": [
    "<h3 id='2a' style=\"display:none\">(A)</h3>\n",
    "\n",
    ">   <hr width=\"82%\" style=\"border-bottom:2px dashed; border-top:none\"/>\n",
    ">   \n",
    ">   ### &#x2e04;&hairsp;&#x00B2;&hairsp;&#x2E05;&hairsp;(A)\n",
    ">\n",
    ">   If $q_1$ is negative, __which diagram (below) best shows the charge \n",
    ">   distribution of the neutral atom__ in this situation?\n",
    ">\n",
    ">   {{ graphic }}\n",
    ">\n",
    ">   (select one:)\n",
    ">\n",
    ">   - [ ] &nbsp; 2\n",
    ">\n",
    ">   <hr width=\"64%\" style=\"border-top:2px dotted; border-bottom:none\"/>"
   ]
  },
  {
   "cell_type": "markdown",
   "id": "4bced9ff",
   "metadata": {},
   "source": [
    "- [x] 2"
   ]
  },
  {
   "cell_type": "markdown",
   "id": "fe319a15",
   "metadata": {},
   "source": [
    "<h3 id='2b' style=\"display:none\">(B)</h3>\n",
    "\n",
    ">   <hr width=\"82%\" style=\"border-bottom:2px dashed; border-top:none\"/>\n",
    ">   \n",
    ">   ### &#x2e04;&hairsp;&#x00B2;&hairsp;&#x2E05;&hairsp;(B)\n",
    ">\n",
    ">   __What is the direction of the electric field at the location of the charged\n",
    ">   particle__, made by the polarized neutal atom?\n",
    ">\n",
    ">   {{ graphic }}\n",
    ">\n",
    ">   (select one:)\n",
    ">\n",
    ">   |   |   |   |\n",
    ">   |:---:|:---:|:---:|\n",
    ">   | 🔲 h | 🔲 a | 🔲 b |\n",
    ">   | 🔲 g | &emsp; | 🔲 c |\n",
    ">   | 🔲 f | 🔲 e | 🔲 d |\n",
    ">\n",
    ">   &emsp; 🔲 j - zero magnitude\n",
    ">\n",
    ">   <hr width=\"64%\" style=\"border-top:2px dotted; border-bottom:none\"/>"
   ]
  },
  {
   "cell_type": "markdown",
   "id": "aa4dfd78",
   "metadata": {},
   "source": [
    "- [x] g"
   ]
  },
  {
   "cell_type": "markdown",
   "id": "9e569a9a",
   "metadata": {},
   "source": [
    "<h3 id='2c' style=\"display:none\">(C)</h3>\n",
    "\n",
    ">   <hr width=\"82%\" style=\"border-bottom:2px dashed; border-top:none\"/>\n",
    ">   \n",
    ">   ### &#x2e04;&hairsp;&#x00B2;&hairsp;&#x2E05;&hairsp;(C)\n",
    ">\n",
    ">   __What is the direction of the force on the charged particle, due to the \n",
    ">   polarized neutral atom?__\n",
    ">\n",
    ">   {{ graphic }}\n",
    ">\n",
    ">   (select one:)\n",
    ">\n",
    ">   |   |   |   |\n",
    ">   |:---:|:---:|:---:|\n",
    ">   | 🔲 h | 🔲 a | 🔲 b |\n",
    ">   | 🔲 g | &emsp; | 🔲 c |\n",
    ">   | 🔲 f | 🔲 e | 🔲 d |\n",
    ">\n",
    ">   &emsp; 🔲 j - zero magnitude\n",
    ">\n",
    ">   <hr width=\"64%\" style=\"border-top:2px dotted; border-bottom:none\"/>"
   ]
  },
  {
   "cell_type": "markdown",
   "id": "b299c5b4",
   "metadata": {
    "vscode": {
     "languageId": "python"
    }
   },
   "source": [
    "- [x] c\n"
   ]
  },
  {
   "cell_type": "markdown",
   "id": "e976169e",
   "metadata": {},
   "source": [
    "<h3 id='2d' style=\"display:none\">(D)</h3>\n",
    "\n",
    ">   <hr width=\"82%\" style=\"border-bottom:2px dashed; border-top:none\"/>\n",
    ">   \n",
    ">   ### &#x2e04;&hairsp;&#x00B2;&hairsp;&#x2E05;&hairsp;(D)\n",
    ">\n",
    ">   __What is the direction of the force on the polarized neutral atom due to \n",
    ">   the charged particle?__\n",
    ">\n",
    ">   {{ graphic }}\n",
    ">\n",
    ">   (select one:)\n",
    ">\n",
    ">   |   |   |   |\n",
    ">   |:---:|:---:|:---:|\n",
    ">   | 🔲 h | 🔲 a | 🔲 b |\n",
    ">   | 🔲 g | &emsp; | 🔲 c |\n",
    ">   | 🔲 f | 🔲 e | 🔲 d |\n",
    ">\n",
    ">   &emsp; 🔲 j - zero magnitude\n",
    ">\n",
    ">   <hr width=\"64%\" style=\"border-top:2px dotted; border-bottom:none\"/>"
   ]
  },
  {
   "cell_type": "markdown",
   "id": "e5dddfde",
   "metadata": {},
   "source": [
    "- [x] g"
   ]
  },
  {
   "cell_type": "markdown",
   "id": "93e1b228",
   "metadata": {},
   "source": [
    "<div style=\"page-break-after: always;\"/> \n",
    "<h2 id='3' style=\"display:none\">[3]</h2>\n",
    "\n",
    ">   ---\n",
    ">   ## [3]\n",
    ">\n",
    ">   A charged tape is brought near your hand, as shown in the diagram above.\n",
    ">   Your hand is initially electrically neutral. \n",
    ">\n",
    ">   {{ graphic }}\n",
    ">\n",
    ">   __<p align='right'>(0.1 points)</p>__\n",
    ">\n",
    ">   <hr width=\"82%\" style=\"border-top:1px dashed; border-bottom:none\"/>"
   ]
  },
  {
   "cell_type": "markdown",
   "id": "f3afbf65",
   "metadata": {},
   "source": [
    "<h3 id='3a' style=\"display:none\">(A)</h3>\n",
    "\n",
    ">   <hr width=\"82%\" style=\"border-bottom:2px dashed; border-top:none\"/>\n",
    ">   \n",
    ">   ### &#x2e04;&hairsp;&#x00B3;&hairsp;&#x2E05;&hairsp;(A)\n",
    ">\n",
    ">   If the tape is negatively charged, __which diagram (below) best shows the \n",
    ">   polarization of a neutral molecule in your hand?__\n",
    ">\n",
    ">   {{ graphic }}\n",
    ">\n",
    ">   (select one:)\n",
    ">\n",
    ">   - [ ] &nbsp; 2\n",
    ">\n",
    ">   <hr width=\"64%\" style=\"border-top:2px dotted; border-bottom:none\"/>"
   ]
  },
  {
   "cell_type": "markdown",
   "id": "8cc00c27",
   "metadata": {},
   "source": [
    "- [x] 2"
   ]
  },
  {
   "cell_type": "markdown",
   "id": "d44a6cde",
   "metadata": {},
   "source": [
    "<h3 id='3b' style=\"display:none\">(B)</h3>\n",
    "\n",
    ">   <hr width=\"82%\" style=\"border-bottom:2px dashed; border-top:none\"/>\n",
    ">   \n",
    ">   ### &#x2e04;&hairsp;&#x00B3;&hairsp;&#x2E05;&hairsp;(B)\n",
    ">\n",
    ">   __What is the direction of the electric field at the location of the tape \n",
    ">   due to the large number of polarized molecules in your hand?__\n",
    ">\n",
    ">   {{ graphic }}\n",
    ">\n",
    ">   (select one:)\n",
    ">\n",
    ">   |   |   |   |\n",
    ">   |:---:|:---:|:---:|\n",
    ">   | 🔲 h | 🔲 a | 🔲 b |\n",
    ">   | 🔲 g | &emsp; | 🔲 c |\n",
    ">   | 🔲 f | 🔲 e | 🔲 d |\n",
    ">\n",
    ">   &emsp; 🔲 j - zero magnitude\n",
    ">\n",
    ">   <hr width=\"64%\" style=\"border-top:2px dotted; border-bottom:none\"/>"
   ]
  },
  {
   "cell_type": "markdown",
   "id": "76790f8e",
   "metadata": {},
   "source": [
    "- [x] g"
   ]
  },
  {
   "cell_type": "markdown",
   "id": "da0bac97",
   "metadata": {},
   "source": [
    "<h3 id='3c' style=\"display:none\">(C)</h3>\n",
    "\n",
    ">   <hr width=\"82%\" style=\"border-bottom:2px dashed; border-top:none\"/>\n",
    ">   \n",
    ">   ### &#x2e04;&hairsp;&#x00B3;&hairsp;&#x2E05;&hairsp;(C)\n",
    ">\n",
    ">   __What is the direction of the force on the tape, due to the \n",
    ">   polarized molecules in your hand?__\n",
    ">\n",
    ">   {{ graphic }}\n",
    ">\n",
    ">   (select one:)\n",
    ">\n",
    ">   |   |   |   |\n",
    ">   |:---:|:---:|:---:|\n",
    ">   | 🔲 h | 🔲 a | 🔲 b |\n",
    ">   | 🔲 g | &emsp; | 🔲 c |\n",
    ">   | 🔲 f | 🔲 e | 🔲 d |\n",
    ">\n",
    ">   &emsp; 🔲 j - zero magnitude\n",
    ">\n",
    ">   <hr width=\"64%\" style=\"border-top:2px dotted; border-bottom:none\"/>"
   ]
  },
  {
   "cell_type": "markdown",
   "id": "97804bfc",
   "metadata": {},
   "source": [
    "- [x] c\n"
   ]
  },
  {
   "cell_type": "markdown",
   "id": "3e8000bf",
   "metadata": {},
   "source": [
    "<h3 id='3d' style=\"display:none\">(D)</h3>\n",
    "\n",
    ">   <hr width=\"82%\" style=\"border-bottom:2px dashed; border-top:none\"/>\n",
    ">   \n",
    ">   ### &#x2e04;&hairsp;&#x00B3;&hairsp;&#x2E05;&hairsp;(D)\n",
    ">\n",
    ">   __What is the direction of the force on your hand, due to the charged tape?__\n",
    ">\n",
    ">   {{ graphic }}\n",
    ">\n",
    ">   (select one:)\n",
    ">\n",
    ">   |   |   |   |\n",
    ">   |:---:|:---:|:---:|\n",
    ">   | 🔲 h | 🔲 a | 🔲 b |\n",
    ">   | 🔲 g | &emsp; | 🔲 c |\n",
    ">   | 🔲 f | 🔲 e | 🔲 d |\n",
    ">\n",
    ">   &emsp; 🔲 j - zero magnitude\n",
    ">\n",
    ">   <hr width=\"64%\" style=\"border-top:2px dotted; border-bottom:none\"/>"
   ]
  },
  {
   "cell_type": "markdown",
   "id": "eb3fffa4",
   "metadata": {},
   "source": [
    "- [x] g"
   ]
  },
  {
   "cell_type": "markdown",
   "id": "ae66615a",
   "metadata": {},
   "source": [
    "<div style=\"page-break-after: always;\"/> \n",
    "<h2 id='4' style=\"display:none\">[4]</h2>\n",
    "\n",
    ">   ---\n",
    ">   ## [4]\n",
    ">\n",
    ">   Try rubbing a plastic pen through your hair, and you'll find that you can \n",
    ">   pick up a tiny scrap of paper, when the pen is about one centimeter ([cm])\n",
    ">   above the paper. From this simple experiment, you can estimate how much an \n",
    ">   atom is polarized by the pen! You will need to make several assumptions and\n",
    ">   approximations.\n",
    ">\n",
    ">   __<p align='right'>(0.1 points)</p>__\n",
    ">\n",
    ">   <hr width=\"82%\" style=\"border-top:1px dashed; border-bottom:none\"/>"
   ]
  },
  {
   "cell_type": "markdown",
   "id": "00c1c8c5",
   "metadata": {},
   "source": [
    "<h3 id='4a' style=\"display:none\">(A)</h3>\n",
    "\n",
    ">   <hr width=\"82%\" style=\"border-bottom:2px dashed; border-top:none\"/>\n",
    ">   \n",
    ">   ### &#x2e04;&hairsp;&#x2074;&hairsp;&#x2E05;&hairsp;(A)\n",
    ">\n",
    ">   Suppose that the center of the outer electron cloud ($q = -4e$) of a carbon\n",
    ">   atom shifts a distance $s$ when the atom is polarized by the pen. \n",
    ">\n",
    ">   __Calculate $s$ algebraically, in terms of the charge $Q$ on the pen.__\n",
    ">\n",
    ">   &nbsp;&nbsp;&nbsp;&nbsp; $s = \\fbox{\\hspace{8em}?}$\n",
    ">\n",
    ">   (Use the following as necessary: $m$, $g$ for acceleration due to gravity,\n",
    ">    $h$ for the distance from the carbon to the pen, $e$ for the charge of the\n",
    ">    electron, $Q$, $\\epsilon_0$, and $\\pi$.)\n",
    ">\n",
    ">   <hr width=\"64%\" style=\"border-top:2px dotted; border-bottom:none\"/>"
   ]
  },
  {
   "cell_type": "code",
   "execution_count": null,
   "id": "0196d964",
   "metadata": {
    "vscode": {
     "languageId": "python"
    }
   },
   "outputs": [],
   "source": []
  },
  {
   "cell_type": "markdown",
   "id": "71d755f7",
   "metadata": {},
   "source": [
    "<h3 id='4b' style=\"display:none\">(B)</h3>\n",
    "\n",
    ">   <hr width=\"82%\" style=\"border-bottom:2px dashed; border-top:none\"/>\n",
    ">   \n",
    ">   ### &#x2e04;&hairsp;&#x2074;&hairsp;&#x2E05;&hairsp;(B)\n",
    ">\n",
    ">   Assume that the pen carries $Q = 10^{-8}$ [C] of charge.\n",
    ">\n",
    ">   __Evaluate $s$ numerically.__ Enter your answer with 3 significant digits. \n",
    ">\n",
    ">   How does this compare with the size of an atom or a nucleus?\n",
    ">\n",
    ">   &nbsp;&nbsp;&nbsp;&nbsp; $s = \\fbox{\\hspace{8em}?} \\left[\\mathrm{m}\\right]$\n",
    ">\n",
    ">   <hr width=\"64%\" style=\"border-top:2px dotted; border-bottom:none\"/>"
   ]
  },
  {
   "cell_type": "code",
   "execution_count": null,
   "id": "e2b56aa7",
   "metadata": {
    "vscode": {
     "languageId": "python"
    }
   },
   "outputs": [],
   "source": []
  },
  {
   "cell_type": "markdown",
   "id": "4dc05ac4",
   "metadata": {},
   "source": [
    "<h3 id='4c' style=\"display:none\">(C)</h3>\n",
    "\n",
    ">   <hr width=\"82%\" style=\"border-bottom:2px dashed; border-top:none\"/>\n",
    ">   \n",
    ">   ### &#x2e04;&hairsp;&#x2074;&hairsp;&#x2E05;&hairsp;(C)\n",
    ">\n",
    ">   __Calculate the polarizability $\\alpha$ of a carbon atom.__\n",
    ">   Enter your answer with 3 significant digits. \n",
    ">\n",
    ">   &nbsp;&nbsp;&nbsp;&nbsp; $\\alpha = \\fbox{\\hspace{8em}?} \\left[\\mathrm{m^3 / (N⋅m^2) / C^2}\\right]$\n",
    ">\n",
    ">   Compare your answer to the measured value of \n",
    ">   $1.96 \\times 10^{-40} \\left[\\mathrm{C ⋅ m}\\ / (\\mathrm{N / C}) \\right]$\n",
    ">\n",
    ">   (T.M. Miller and B. Bederson, \"Atomic and molecular polarizabilities: a \n",
    ">   review of recent advances\", _Advances in Atomic and Molecular Physics_ \n",
    ">   13, 1-55, 1977).\n",
    ">\n",
    ">\n",
    ">   <hr width=\"64%\" style=\"border-top:2px dotted; border-bottom:none\"/>"
   ]
  },
  {
   "cell_type": "code",
   "execution_count": null,
   "id": "de42db18",
   "metadata": {
    "vscode": {
     "languageId": "python"
    }
   },
   "outputs": [],
   "source": []
  },
  {
   "cell_type": "markdown",
   "id": "59d1e9ca",
   "metadata": {},
   "source": [
    "<div style=\"page-break-after: always;\"/> \n",
    "<h2 id='5' style=\"display:none\">[5]</h2>\n",
    "\n",
    ">   ---\n",
    ">   ## [5]\n",
    ">\n",
    ">   A solid plastic ball has negative charge, uniformly spread over its surface.\n",
    ">\n",
    ">   __Which of the figures below best shows the polarization of molecules inside the ball?__\n",
    ">\n",
    ">   - [ ] (a) {{ graphic }}\n",
    ">\n",
    ">   - [ ] (b) {{ graphic }}\n",
    ">\n",
    ">   - [ ] (c) {{ graphic }}\n",
    ">\n",
    ">   - [ ] (d) {{ graphic }}\n",
    ">\n",
    ">   - [ ] None of these apply. \n",
    ">\n",
    ">   __<p align='right'>(0.1 points)</p>__\n",
    ">\n",
    ">   <hr width=\"82%\" style=\"border-top:1px dashed; border-bottom:none\"/>"
   ]
  },
  {
   "cell_type": "markdown",
   "id": "3ea0724a",
   "metadata": {},
   "source": []
  },
  {
   "cell_type": "markdown",
   "id": "a608409a",
   "metadata": {},
   "source": [
    "<div style=\"page-break-after: always;\"/> \n",
    "<h2 id='6' style=\"display:none\">[6]</h2>\n",
    "\n",
    ">   ---\n",
    ">   ## [6]\n",
    ">\n",
    ">   A negatively charged iron block is placed in a region, where there is an \n",
    ">   electric field downward (in the $-y$ direction), due to charges not shown. \n",
    ">\n",
    ">   __Which of the diagrams best describes the charge distribution in, and/or on,\n",
    ">   the iron block?__\n",
    ">\n",
    ">   - [ ] (a) {{ graphic }}\n",
    ">\n",
    ">   - [ ] (b) {{ graphic }}\n",
    ">\n",
    ">   - [ ] (c) {{ graphic }}\n",
    ">\n",
    ">   - [ ] (d) {{ graphic }}\n",
    ">\n",
    ">   - [ ] (e) {{ graphic }}\n",
    ">\n",
    ">   - [ ] (f) {{ graphic }}\n",
    ">\n",
    ">\n",
    ">   __<p align='right'>(0.1 points)</p>__\n",
    ">\n",
    ">   <hr width=\"82%\" style=\"border-top:1px dashed; border-bottom:none\"/>"
   ]
  },
  {
   "cell_type": "markdown",
   "id": "f3f01f93",
   "metadata": {},
   "source": []
  },
  {
   "cell_type": "markdown",
   "id": "67704a1e",
   "metadata": {},
   "source": [
    "<div style=\"page-break-after: always;\"/> \n",
    "<h2 id='7' style=\"display:none\">[7]</h2>\n",
    "\n",
    ">   ---\n",
    ">   ## [7]*\n",
    ">\n",
    ">   Two small, negatively charged, plastic spheres, are placed near a neutral \n",
    ">   iron block, as shown in the figure below. \n",
    ">\n",
    ">   __Which arrow ($a$-$j$) best indicates the direction of the net electric \n",
    ">   field at location $A$ in the diagram below?__\n",
    ">\n",
    ">   {{ graphic }}\n",
    ">\n",
    ">   |   |   |   |\n",
    ">   |:---:|:---:|:---:|\n",
    ">   | 🔲 h | 🔲 a | 🔲 b |\n",
    ">   | 🔲 g | &emsp; | 🔲 c |\n",
    ">   | 🔲 f | 🔲 e | 🔲 d |\n",
    ">\n",
    ">   &emsp; 🔲 j - zero magnitude\n",
    ">\n",
    ">   __<p align='right'>(10 points)</p>__\n",
    ">\n",
    ">   <hr width=\"82%\" style=\"border-top:1px dashed; border-bottom:none\"/>"
   ]
  },
  {
   "cell_type": "markdown",
   "id": "810fda36",
   "metadata": {},
   "source": [
    "- [x] f"
   ]
  },
  {
   "cell_type": "markdown",
   "id": "34255252",
   "metadata": {},
   "source": [
    "<div style=\"page-break-after: always;\"/> \n",
    "<h2 id='8' style=\"display:none\">[8]</h2>\n",
    "\n",
    ">   ---\n",
    ">   ## [8]\n",
    ">\n",
    ">   __Which of the following diagrams correctly displays the polarization of a \n",
    ">   metal sphere, by an electric field that points downward__; using the \n",
    ">   conventions discussed in the _Matter and Interactions__ textbook?\n",
    ">\n",
    ">   {{ graphic a | graphic b | graphic c | graphic d }}\\\n",
    ">   {{ graphic e | graphic f | graphic g | graphic h }}\\\n",
    ">   {{ graphic j | graphic k | graphic l | graphic m }}\n",
    ">\n",
    ">   |   |   |   |   |\n",
    ">   |:---:|:---:|:---:|:---:|\n",
    ">   | 🔲 a | 🔲 b | 🔲 c | 🔲 d |\n",
    ">   | 🔲 e | 🔲 f | 🔲 g | 🔲 h |\n",
    ">   | 🔲 j | 🔲 k | 🔲 l | 🔲 m |\n",
    ">\n",
    ">   __<p align='right'>(0.1 points)</p>__\n",
    ">\n",
    ">   <hr width=\"82%\" style=\"border-top:1px dashed; border-bottom:none\"/>"
   ]
  },
  {
   "cell_type": "markdown",
   "id": "3ca9cb42",
   "metadata": {},
   "source": []
  },
  {
   "cell_type": "markdown",
   "id": "5e62d89b",
   "metadata": {},
   "source": [
    "<div style=\"page-break-after: always;\"/> \n",
    "<h2 id='9' style=\"display:none\">[9]</h2>\n",
    "\n",
    ">   ---\n",
    ">   ## [9]\n",
    ">\n",
    ">   A plastic rod of $1.6$ [m] is rubbed all over with wool, and acquires a charge\n",
    ">   of $-8 \\times 10^8$ coulombs ([C]).\n",
    ">\n",
    ">   We choose the center of the rod to be the origin of our coordinate system; \n",
    ">   with the $x$-axis extending to the right, $y$-axis extending up the page,\n",
    ">   and the $z$-axis out of the page. \n",
    ">\n",
    ">   In order to calculate the electric field at location $A = \\left\\langle\\ 0.7, 0, 0\\ \\right\\rangle\\ \\left[\\mathrm{m}\\right]$,\n",
    ">   we divide the rod into 8 pieces, and approximate each piece as a point charge, located at the center of the piece. \n",
    ">\n",
    ">   {{ graphic }}\n",
    ">\n",
    ">   __<p align='right'>(0.1 points)</p>__\n",
    ">\n",
    ">   <hr width=\"82%\" style=\"border-top:1px dashed; border-bottom:none\"/>"
   ]
  },
  {
   "cell_type": "markdown",
   "id": "e1e4edb2",
   "metadata": {},
   "source": [
    "<h3 id='9a' style=\"display:none\">(A)</h3>\n",
    "\n",
    ">   <hr width=\"82%\" style=\"border-bottom:2px dashed; border-top:none\"/>\n",
    ">   \n",
    ">   ### &#x2e04;&hairsp;&#x2079;&hairsp;&#x2E05;&hairsp;(A)\n",
    ">\n",
    ">   __What is the length of one of these pieces?__\n",
    ">\n",
    ">   &nbsp;&nbsp;&nbsp;&nbsp; $\\fbox{\\hspace{8em}?}\\ \\left[\\mathrm{m}\\right]$\n",
    ">\n",
    ">   <hr width=\"64%\" style=\"border-top:2px dotted; border-bottom:none\"/>"
   ]
  },
  {
   "cell_type": "code",
   "execution_count": null,
   "id": "4731c922",
   "metadata": {
    "vscode": {
     "languageId": "python"
    }
   },
   "outputs": [],
   "source": []
  },
  {
   "cell_type": "markdown",
   "id": "b4e94670",
   "metadata": {},
   "source": [
    "<h3 id='9b' style=\"display:none\">(B)</h3>\n",
    "\n",
    ">   <hr width=\"82%\" style=\"border-bottom:2px dashed; border-top:none\"/>\n",
    ">   \n",
    ">   ### &#x2e04;&hairsp;&#x2079;&hairsp;&#x2E05;&hairsp;(B)\n",
    ">\n",
    ">   __What is the location of the center of piece number 2?__\n",
    ">\n",
    ">   &nbsp;&nbsp;&nbsp;&nbsp; $\\left\\langle\\ \\fbox{\\hspace{4em}?},\\ \\fbox{\\hspace{4em}?},\\ \\fbox{\\hspace{4em}?}\\ \\right\\rangle \\left[\\mathrm{m}\\right]$\n",
    ">\n",
    ">   <hr width=\"64%\" style=\"border-top:2px dotted; border-bottom:none\"/>"
   ]
  },
  {
   "cell_type": "code",
   "execution_count": null,
   "id": "4b1f5a57",
   "metadata": {
    "vscode": {
     "languageId": "python"
    }
   },
   "outputs": [],
   "source": []
  },
  {
   "cell_type": "markdown",
   "id": "2eb49f42",
   "metadata": {},
   "source": [
    "<h3 id='9c' style=\"display:none\">(C)</h3>\n",
    "\n",
    ">   <hr width=\"82%\" style=\"border-bottom:2px dashed; border-top:none\"/>\n",
    ">   \n",
    ">   ### &#x2e04;&hairsp;&#x2079;&hairsp;&#x2E05;&hairsp;(C)\n",
    ">\n",
    ">   __How much charge is on piece number 2?__\n",
    ">   (Remember that the charge is negative.)\n",
    ">\n",
    ">   &nbsp;&nbsp;&nbsp;&nbsp; $\\fbox{\\hspace{8em}?}\\ \\left[\\mathrm{coulombs}\\right]$\n",
    ">\n",
    ">   <hr width=\"64%\" style=\"border-top:2px dotted; border-bottom:none\"/>"
   ]
  },
  {
   "cell_type": "code",
   "execution_count": null,
   "id": "0bc4eb60",
   "metadata": {
    "vscode": {
     "languageId": "python"
    }
   },
   "outputs": [],
   "source": []
  },
  {
   "cell_type": "markdown",
   "id": "f2f70872",
   "metadata": {},
   "source": [
    "<h3 id='9d' style=\"display:none\">(D)</h3>\n",
    "\n",
    ">   <hr width=\"82%\" style=\"border-bottom:2px dashed; border-top:none\"/>\n",
    ">   \n",
    ">   ### &#x2e04;&hairsp;&#x2079;&hairsp;&#x2E05;&hairsp;(D)\n",
    ">\n",
    ">   Approximating piece 2 as a point charge, __what is the electric field at location $A$, due \n",
    ">   only to piece 2?__\n",
    ">\n",
    ">   &nbsp;&nbsp;&nbsp;&nbsp; $\\vec{E}_2 = \\left\\langle\\ \\fbox{\\hspace{4em}?},\\ \\fbox{\\hspace{4em}?},\\ \\fbox{\\hspace{4em}?}\\ \\right\\rangle \\left[\\mathrm{N/C}\\right]$\n",
    ">\n",
    ">   <hr width=\"64%\" style=\"border-top:2px dotted; border-bottom:none\"/>"
   ]
  },
  {
   "cell_type": "code",
   "execution_count": null,
   "id": "208eb3cb",
   "metadata": {
    "vscode": {
     "languageId": "python"
    }
   },
   "outputs": [],
   "source": []
  },
  {
   "cell_type": "markdown",
   "id": "9fae2b00",
   "metadata": {},
   "source": [
    "<h3 id='9e' style=\"display:none\">(E)</h3>\n",
    "\n",
    ">   <hr width=\"82%\" style=\"border-bottom:2px dashed; border-top:none\"/>\n",
    ">   \n",
    ">   ### &#x2e04;&hairsp;&#x2079;&hairsp;&#x2E05;&hairsp;(E)\n",
    ">\n",
    ">   To get the net electric field at location $A$, we would need to calculate \n",
    ">   $\\vec{E}$ due to each of the 8 pieces, and add up these contributions.\n",
    ">\n",
    ">   If we did that, __which direction arrow above would best represent the \n",
    ">   direction of the net electric field, at location $A$?__\n",
    ">\n",
    ">   (select one:)\n",
    ">\n",
    ">   |   |   |   |\n",
    ">   |:---:|:---:|:---:|\n",
    ">   | 🔲 h | 🔲 a | 🔲 b |\n",
    ">   | 🔲 g | &emsp; | 🔲 c |\n",
    ">   | 🔲 f | 🔲 e | 🔲 d |\n",
    ">\n",
    ">   &emsp; 🔲 j - zero magnitude\n",
    ">\n",
    ">   <hr width=\"64%\" style=\"border-top:2px dotted; border-bottom:none\"/>"
   ]
  },
  {
   "cell_type": "markdown",
   "id": "9f5e9aed",
   "metadata": {},
   "source": []
  },
  {
   "cell_type": "markdown",
   "id": "af94234a",
   "metadata": {},
   "source": [
    "<div style=\"page-break-after: always;\"/> \n",
    "<h2 id='10' style=\"display:none\">[10]</h2>\n",
    "\n",
    ">   ---\n",
    ">   ## [10]*\n",
    ">\n",
    ">   An electrostatic dust precipitator that is installed in a factory smokestack\n",
    ">   includes a straight metal wire of length $L = 0.8$ [m], that is charged with\n",
    ">   approximately uniformly with a total charge $Q = 0.2 \\times 10^{-7}$ [C].\n",
    ">\n",
    ">   A speck of coal dust (which is mostly carbon) is near the wire, and far from\n",
    ">   both ends of the wire; the distance from the wire to the speck is $d = 1.2$ \n",
    ">   [cm]. Carbon has an atomic mass of 12 (6 protons and 6 neutrons in the \n",
    ">   nucleus). A careful measurement of the polarizability of a carbon atom gives\n",
    ">   the value $\\alpha = 1.96 \\times 10^{-40}$ [(C⋅m)/(N/C)]. \n",
    ">\n",
    ">   __<p align='right'>(10 points)</p>__\n",
    ">\n",
    ">   <hr width=\"82%\" style=\"border-top:1px dashed; border-bottom:none\"/>"
   ]
  },
  {
   "cell_type": "markdown",
   "id": "529e7b9e",
   "metadata": {},
   "source": [
    "<h3 id='10a' style=\"display:none\">(A)</h3>\n",
    "\n",
    ">   <hr width=\"82%\" style=\"border-bottom:2px dashed; border-top:none\"/>\n",
    ">   \n",
    ">   ### &#x2e04;&hairsp;&#x00B9;&#x2070;&hairsp;&#x2E05;&hairsp;(A)\n",
    ">\n",
    ">   __Calculate the initial acceleration of the speck of coal dust, \n",
    ">   neglecting gravity.__\n",
    ">\n",
    ">   Your answer must be expressed in terms of $Q$, $L$, $d$, and $\\alpha$.\n",
    ">   You can use other quantities in your calculations, but your final result\n",
    ">   must not include them. \n",
    ">\n",
    ">   It is convenient to use the \"binomial expansion\", that you may have learned\n",
    ">   in calculus, that $(1 + \\epsilon)^n \\approx 1 + n\\epsilon$, if $\\epsilon \\ll 1$.\n",
    ">   Note that $n$ can be negative. \n",
    ">\n",
    ">   <hr width=\"64%\" style=\"border-top:2px dotted; border-bottom:none\"/>"
   ]
  },
  {
   "cell_type": "markdown",
   "id": "6fc1ea97",
   "metadata": {},
   "source": [
    "<h4 id='10a_i' style=\"display:none\">{A.i}</h4>\n",
    "\n",
    ">   <hr width=\"64%\" style=\"border-top:1px dotted; border-bottom:none\"/>\n",
    ">   \n",
    ">   #### &#x2e04;&hairsp;&#x00B9;&#x2070;&hairsp;&#x2E05;&hairsp;{A.i}\n",
    ">\n",
    ">   __Algebraically express the magnitude of the acceleration $a$.__\n",
    ">\n",
    ">   Use the following as necessary: $Q$, $L$, $d$, $\\alpha$, $\\epsilon_0$, and\n",
    ">   $m$ for the mass of a carbon atom. Use the binomial expansion in your answer.\n",
    ">\n",
    ">   (select one:)\n",
    ">\n",
    ">   - [ ] &nbsp; $a = \\left(\\frac{1}{4\\pi\\epsilon_0}\\right)^2 \\frac{4 Q^2 \\alpha}{m L^3 d^2}$\n",
    ">\n",
    ">   - [ ] &nbsp; $a = \\left(\\frac{1}{4\\pi\\epsilon_0}\\right)^2 \\frac{Q^2 \\alpha}{m L^2 d^3}$\n",
    ">\n",
    ">   - [ ] &nbsp; $a = \\left(\\frac{1}{4\\pi\\epsilon_0}\\right)^2 \\frac{4 Q^2 \\alpha}{m L^2 d^3}$\n",
    ">\n",
    ">   - [ ] &nbsp; $a = \\left(\\frac{1}{4\\pi\\epsilon_0}\\right)^2 \\frac{Q^2 \\alpha}{m L^3 d^2}$\n",
    ">\n",
    ">\n",
    ">   <hr width=\"64%\" style=\"border-top:1px dotted; border-bottom:none\"/>"
   ]
  },
  {
   "cell_type": "code",
   "execution_count": null,
   "id": "80a3f929",
   "metadata": {
    "vscode": {
     "languageId": "python"
    }
   },
   "outputs": [],
   "source": []
  },
  {
   "cell_type": "markdown",
   "id": "66de741f",
   "metadata": {},
   "source": [
    "<h4 id='10a_ii' style=\"display:none\">{A.ii}</h4>\n",
    "\n",
    ">   <hr width=\"64%\" style=\"border-top:1px dotted; border-bottom:none\"/>\n",
    ">   \n",
    ">   #### &#x2e04;&hairsp;&#x00B9;&#x2070;&hairsp;&#x2E05;&hairsp;{A.ii}\n",
    ">\n",
    ">   __Calculate the initial acceleration of the speck of coal dust, neglecting\n",
    ">   gravity.__\n",
    ">\n",
    ">   Don't put numbers into your calculation until the very end, but then show\n",
    ">   the numerical calculation that you carry out on your calculator.\n",
    ">\n",
    ">   (Enter the magnitude:)\n",
    ">\n",
    ">   &nbsp;&nbsp;&nbsp;&nbsp; $\\fbox{\\hspace{8em}?}\\ \\left[\\mathrm{m / s^2}\\right]$\n",
    ">\n",
    ">   <hr width=\"64%\" style=\"border-top:1px dotted; border-bottom:none\"/>"
   ]
  },
  {
   "cell_type": "code",
   "execution_count": null,
   "id": "5e78d129",
   "metadata": {
    "vscode": {
     "languageId": "python"
    }
   },
   "outputs": [],
   "source": []
  },
  {
   "cell_type": "markdown",
   "id": "78ab280b",
   "metadata": {},
   "source": [
    "<h3 id='10b' style=\"display:none\">(B)</h3>\n",
    "\n",
    ">   <hr width=\"82%\" style=\"border-bottom:2px dashed; border-top:none\"/>\n",
    ">   \n",
    ">   ### &#x2e04;&hairsp;&#x00B9;&#x2070;&hairsp;&#x2E05;&hairsp;(B)\n",
    ">\n",
    ">   If the speck of coal dust were initially six times as far from the charged\n",
    ">   wire, __how much smaller would the initial acceleration of the speck be?__\n",
    ">\n",
    ">   &nbsp;&nbsp;&nbsp;&nbsp; $\\frac{a_{6d}}{a_d} = \\fbox{\\hspace{8em}?}$\n",
    ">\n",
    ">   <hr width=\"64%\" style=\"border-top:2px dotted; border-bottom:none\"/>"
   ]
  },
  {
   "cell_type": "code",
   "execution_count": null,
   "id": "897686f2",
   "metadata": {
    "vscode": {
     "languageId": "python"
    }
   },
   "outputs": [],
   "source": []
  },
  {
   "cell_type": "markdown",
   "id": "bcdd0e0d",
   "metadata": {},
   "source": [
    "<div style=\"page-break-after: always;\"/> \n",
    "<h2 id='11' style=\"display:none\">[11]</h2>\n",
    "\n",
    ">   ---\n",
    ">   ## [11]\n",
    ">\n",
    ">   A strip of invisible tape, $0.15$ [m] long by $0.013$ [m] wide, is uniformly\n",
    ">   charged with a total net charge of $2$ [nC] (nano `n` = $1 \\times 10^{-9}$);\n",
    ">   and is suspended horizontally so it lies along the $x$-axis, with its center\n",
    ">   at the origin (as shown in the figure below). \n",
    ">\n",
    ">   {{ graphic }}\n",
    ">\n",
    ">   Calculate the approximate electric field at location A, \n",
    ">   $\\left\\langle\\ 0, 0.07, 0\\right\\rangle$ [m], due to the strip of tape. \n",
    ">\n",
    ">   Do this by dividing the strip into three equal sections, as in the figure \n",
    ">   above, and approximating each section as a point charge. (Assume each point\n",
    ">   charge is located at the center of the section it approximates.)\n",
    ">\n",
    ">   Express your answers in vector form. \n",
    ">\n",
    ">   __<p align='right'>(0.1 points)</p>__\n",
    ">\n",
    ">   <hr width=\"82%\" style=\"border-top:1px dashed; border-bottom:none\"/>"
   ]
  },
  {
   "cell_type": "markdown",
   "id": "2a5a0b15",
   "metadata": {},
   "source": [
    "<h3 id='11a' style=\"display:none\">(A)</h3>\n",
    "\n",
    ">   <hr width=\"82%\" style=\"border-bottom:2px dashed; border-top:none\"/>\n",
    ">   \n",
    ">   ### &#x2e04;&hairsp;&#x00B9;&#x00B9;&hairsp;&#x2E05;&hairsp;(A)\n",
    ">\n",
    ">   __What is the approximate electric field at $A$, due to piece 1?__\n",
    ">\n",
    ">   &nbsp;&nbsp;&nbsp;&nbsp; $\\vec{E}_1 =  \\left\\langle\\ \\fbox{\\hspace{4em}?},\\ \\fbox{\\hspace{4em}?},\\ \\fbox{\\hspace{4em}?}\\ \\right\\rangle \\left[\\mathrm{N/C}\\right]$\n",
    ">\n",
    ">   <hr width=\"64%\" style=\"border-top:2px dotted; border-bottom:none\"/>"
   ]
  },
  {
   "cell_type": "code",
   "execution_count": null,
   "id": "22e39842",
   "metadata": {
    "vscode": {
     "languageId": "python"
    }
   },
   "outputs": [],
   "source": []
  },
  {
   "cell_type": "markdown",
   "id": "86e30a9d",
   "metadata": {},
   "source": [
    "<h3 id='11b' style=\"display:none\">(B)</h3>\n",
    "\n",
    ">   <hr width=\"82%\" style=\"border-bottom:2px dashed; border-top:none\"/>\n",
    ">   \n",
    ">   ### &#x2e04;&hairsp;&#x00B9;&#x00B9;&hairsp;&#x2E05;&hairsp;(B)\n",
    ">\n",
    ">   __What is the approximate electric field at $A$, due to piece 2?__\n",
    ">\n",
    ">   &nbsp;&nbsp;&nbsp;&nbsp; $\\vec{E}_2 =  \\left\\langle\\ \\fbox{\\hspace{4em}?},\\ \\fbox{\\hspace{4em}?},\\ \\fbox{\\hspace{4em}?}\\ \\right\\rangle \\left[\\mathrm{N/C}\\right]$\n",
    ">\n",
    ">   <hr width=\"64%\" style=\"border-top:2px dotted; border-bottom:none\"/>"
   ]
  },
  {
   "cell_type": "code",
   "execution_count": null,
   "id": "cf4d1f93",
   "metadata": {
    "vscode": {
     "languageId": "plaintext"
    }
   },
   "outputs": [],
   "source": []
  },
  {
   "cell_type": "markdown",
   "id": "9b932387",
   "metadata": {},
   "source": [
    "<h3 id='11c' style=\"display:none\">(C)</h3>\n",
    "\n",
    ">   <hr width=\"82%\" style=\"border-bottom:2px dashed; border-top:none\"/>\n",
    ">   \n",
    ">   ### &#x2e04;&hairsp;&#x00B9;&#x00B9;&hairsp;&#x2E05;&hairsp;(C)\n",
    ">\n",
    ">   __What is the approximate electric field at $A$, due to piece 3?__\n",
    ">\n",
    ">   &nbsp;&nbsp;&nbsp;&nbsp; $\\vec{E}_3 =  \\left\\langle\\ \\fbox{\\hspace{4em}?},\\ \\fbox{\\hspace{4em}?},\\ \\fbox{\\hspace{4em}?}\\ \\right\\rangle \\left[\\mathrm{N/C}\\right]$\n",
    ">\n",
    ">   <hr width=\"64%\" style=\"border-top:2px dotted; border-bottom:none\"/>"
   ]
  },
  {
   "cell_type": "code",
   "execution_count": null,
   "id": "6b85eb42",
   "metadata": {
    "vscode": {
     "languageId": "plaintext"
    }
   },
   "outputs": [],
   "source": []
  },
  {
   "cell_type": "markdown",
   "id": "14820297",
   "metadata": {},
   "source": [
    "<h3 id='11d' style=\"display:none\">(D)</h3>\n",
    "\n",
    ">   <hr width=\"82%\" style=\"border-bottom:2px dashed; border-top:none\"/>\n",
    ">   \n",
    ">   ### &#x2e04;&hairsp;&#x00B9;&#x00B9;&hairsp;&#x2E05;&hairsp;(D)\n",
    ">\n",
    ">   __What is the approximate _net_ electric field at $A$?__\n",
    ">\n",
    ">   &nbsp;&nbsp;&nbsp;&nbsp; $\\vec{E}_3 =  \\left\\langle\\ \\fbox{\\hspace{4em}?},\\ \\fbox{\\hspace{4em}?},\\ \\fbox{\\hspace{4em}?}\\ \\right\\rangle \\left[\\mathrm{N/C}\\right]$\n",
    ">\n",
    ">   <hr width=\"64%\" style=\"border-top:2px dotted; border-bottom:none\"/>"
   ]
  },
  {
   "cell_type": "code",
   "execution_count": null,
   "id": "95a98d90",
   "metadata": {
    "vscode": {
     "languageId": "plaintext"
    }
   },
   "outputs": [],
   "source": []
  },
  {
   "cell_type": "markdown",
   "id": "c757f8cd",
   "metadata": {},
   "source": [
    "<h3 id='11e' style=\"display:none\">(E)</h3>\n",
    "\n",
    ">   <hr width=\"82%\" style=\"border-bottom:2px dashed; border-top:none\"/>\n",
    ">   \n",
    ">   ### &#x2e04;&hairsp;&#x00B9;&#x00B9;&hairsp;&#x2E05;&hairsp;(E)\n",
    ">\n",
    ">   __What could you do to improve the accuracy of your calculations?__\n",
    ">\n",
    ">   (select one:)\n",
    ">\n",
    ">   - [ ] &nbsp; Use a _smaller_ charge for piece 2, than for pieces 1 and 3:\n",
    ">                the actual electric field is similar to that of a dipole, \n",
    ">                with most of the charge on the tape at the left or right ends.\n",
    ">\n",
    ">   - [ ] &nbsp; Use a _larger_ charge for piece 2, than for pieces 1 and 3:\n",
    ">                since location $A$ is closest to piece 2, this piece has the \n",
    ">                most significant contribution. \n",
    ">\n",
    ">   - [ ] &nbsp; Use more sections: as the number of segments approaches infinity,\n",
    ">                the summation of the electric fields approximates the actual \n",
    ">                electric field. \n",
    ">\n",
    ">   - [ ] &nbsp; Use just two sections: due to symmetry about the $y$-axis, \n",
    ">                the components of the field due to each charge will be half of\n",
    ">                the total electric field. \n",
    ">\n",
    ">\n",
    ">   <hr width=\"64%\" style=\"border-top:2px dotted; border-bottom:none\"/>"
   ]
  },
  {
   "cell_type": "code",
   "execution_count": null,
   "id": "a8597d5d",
   "metadata": {
    "vscode": {
     "languageId": "plaintext"
    }
   },
   "outputs": [],
   "source": []
  },
  {
   "cell_type": "markdown",
   "id": "9034a50a",
   "metadata": {},
   "source": [
    "---"
   ]
  }
 ],
 "metadata": {
  "kernelspec": {
   "display_name": "SageMath 10.6",
   "language": "sage",
   "name": "SageMath-10.6"
  },
  "language_info": {
   "codemirror_mode": {
    "name": "ipython",
    "version": 3
   },
   "file_extension": ".py",
   "mimetype": "text/x-python",
   "name": "sage",
   "nbconvert_exporter": "python",
   "pygments_lexer": "ipython3",
   "version": "3.12.5"
  }
 },
 "nbformat": 4,
 "nbformat_minor": 5
}
