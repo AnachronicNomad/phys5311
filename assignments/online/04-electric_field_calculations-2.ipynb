{
 "cells": [
  {
   "cell_type": "markdown",
   "id": "d81c2e34",
   "metadata": {},
   "source": [
    "# Electric Field Calculations - 2\n",
    "\n",
    "M&I 4e\n",
    "\n",
    "Ch 13 Electric Field\n",
    "\n",
    "- §13.5 &ndash; Superposition of Electric Fields\n",
    "- §13.6 &ndash; The Electric Field of a Dipole\n",
    "\n",
    "Ch 15 Electric Field of Distributed Charges\n",
    "\n",
    "- §15.1 &ndash; A Uniformly Charged Thin Rod\n",
    "- §15.2 &ndash; Procedure for Calculating Electric Field\n",
    "- §15.4 &ndash; A Uniformly Charged Disk"
   ]
  },
  {
   "cell_type": "code",
   "execution_count": null,
   "id": "4d87d0c4",
   "metadata": {
    "vscode": {
     "languageId": "python"
    }
   },
   "outputs": [
    {
     "name": "stdout",
     "output_type": "stream",
     "text": [
      "Python: 3.12.5 (main, Feb 25 2025, 12:37:41) [Clang 16.0.0 (clang-1600.0.26.6)]\n"
     ]
    },
    {
     "data": {
      "text/html": [
       "<html>\\(\\displaystyle \\verb|SageMath|\\verb| |\\verb|version|\\verb| |\\verb|10.6,|\\verb| |\\verb|Release|\\verb| |\\verb|Date:|\\verb| |\\verb|2025-03-31|\\)</html>"
      ],
      "text/latex": [
       "$\\displaystyle \\verb|SageMath|\\verb| |\\verb|version|\\verb| |\\verb|10.6,|\\verb| |\\verb|Release|\\verb| |\\verb|Date:|\\verb| |\\verb|2025-03-31|$"
      ],
      "text/plain": [
       "'SageMath version 10.6, Release Date: 2025-03-31'"
      ]
     },
     "execution_count": 1,
     "metadata": {},
     "output_type": "execute_result"
    }
   ],
   "source": [
    "########\n",
    "## Env Setup / Preamble\n",
    "########\n",
    "%load_ext autoreload\n",
    "%autoreload complete \n",
    "\n",
    "%load_ext Cython\n",
    "\n",
    "%display latex\n",
    "\n",
    "################\n",
    "\n",
    "import cython\n",
    "from sage.all import *\n",
    "\n",
    "################\n",
    "\n",
    "import tempfile\n",
    "import mmap\n",
    "from multiprocessing import shared_memory\n",
    "\n",
    "################\n",
    "\n",
    "import numpy as np\n",
    "import scipy.constants\n",
    "\n",
    "np.random.seed( int(scipy.constants.golden_ratio * 1.e6) )\n",
    "\n",
    "from numpy import vectorize\n",
    "from numpy import r_, c_, s_\n",
    "\n",
    "################\n",
    "\n",
    "####    boiler-plate class for named constants\n",
    "from sage.symbolic.constants import Constant\n",
    "class ConstantFromExpression(Constant):\n",
    "    def __init__(self, name, v):\n",
    "        conversions = dict(maxima=repr(maxima.coerce(v)))\n",
    "        Constant.__init__(self, name, conversions=conversions)\n",
    "        self._v = v\n",
    "    def __float__(self): return float(self._v)\n",
    "    def __complex__(self): return complex(self._v)\n",
    "    def _mpfr_(self, R): return R(self._v)\n",
    "    def _real_double_(self, R): return R(self._v)\n",
    "\n",
    "def NamedExpression(name, expr):\n",
    "    return ConstantFromExpression(name,expr).expression()\n",
    "####\n",
    "\n",
    "import sage.symbolic.units as units     # <: TODO\n",
    "\n",
    "π   = NamedExpression('π', scipy.constants.pi)          # pi\n",
    "ε_0 = NamedExpression('ε_0', scipy.constants.epsilon_0) # electric permittivity of vacuum\n",
    "μ_0 = NamedExpression('μ_0', scipy.constants.mu_0)      # magnetic permeability of vacuum\n",
    "\n",
    "𝛋 = 1. / (4 * π * ε_0)      # Coulomb's constant in [ N·m²/C² ]\n",
    "q = NamedExpression('q', -scipy.constants.elementary_charge)\n",
    "\n",
    "ℎ_planck = NamedExpression('ℎ', scipy.constants.Planck)\n",
    "ℏ = NamedExpression('ℏ', scipy.constants.hbar)\n",
    "\n",
    "α = NamedExpression('α', scipy.constants.fine_structure)\n",
    "\n",
    "m_e = NamedExpression('m_e', scipy.constants.electron_mass)\n",
    "m_p = NamedExpression('m_p', scipy.constants.proton_mass)\n",
    "\n",
    "################\n",
    "\n",
    "Parallelism().set(nproc=8)\n",
    "print(f\"Python: {sys.version}\")\n",
    "version()\n"
   ]
  },
  {
   "cell_type": "code",
   "execution_count": 2,
   "id": "6dbb2a79",
   "metadata": {
    "vscode": {
     "languageId": "python"
    }
   },
   "outputs": [
    {
     "name": "stdout",
     "output_type": "stream",
     "text": [
      "The Zen of Python, by Tim Peters\n",
      "\n",
      "Beautiful is better than ugly.\n",
      "Explicit is better than implicit.\n",
      "Simple is better than complex.\n",
      "Complex is better than complicated.\n",
      "Flat is better than nested.\n",
      "Sparse is better than dense.\n",
      "Readability counts.\n",
      "Special cases aren't special enough to break the rules.\n",
      "Although practicality beats purity.\n",
      "Errors should never pass silently.\n",
      "Unless explicitly silenced.\n",
      "In the face of ambiguity, refuse the temptation to guess.\n",
      "There should be one-- and preferably only one --obvious way to do it.\n",
      "Although that way may not be obvious at first unless you're Dutch.\n",
      "Now is better than never.\n",
      "Although never is often better than *right* now.\n",
      "If the implementation is hard to explain, it's a bad idea.\n",
      "If the implementation is easy to explain, it may be a good idea.\n",
      "Namespaces are one honking great idea -- let's do more of those!\n"
     ]
    }
   ],
   "source": [
    "##  sanity check\n",
    "import this\n"
   ]
  },
  {
   "cell_type": "markdown",
   "id": "e9e7fff8",
   "metadata": {},
   "source": [
    "---\n",
    "\n",
    "<hr width=\"82%\" style=\"border-top:2px dashed; border-bottom:none\"/>\n",
    "\n",
    "<hr width=\"64%\" style=\"border-top:1px dotted; border-bottom:none\"/>"
   ]
  },
  {
   "cell_type": "markdown",
   "id": "926156f0",
   "metadata": {},
   "source": [
    "<div style=\"page-break-after: always;\"/> \n",
    "<h2 id='1' style=\"display:none\">[1]*</h2>\n",
    "\n",
    ">   ---\n",
    ">   ## [1]*\n",
    ">\n",
    ">   At a particular moment, three charged particles are located as shown below.\n",
    ">\n",
    ">   {{ graphic }}\n",
    ">\n",
    ">   $Q_1 = -5.5$ [µC], $Q_2 = 6.5$ [µC], $Q_3 = -8.0$ [µC]. \n",
    ">\n",
    ">   Your answers to the following should be vectors. \n",
    ">\n",
    ">   Recall that $1$ [µC] = $1 \\times 10^{-6}$ [C].\n",
    ">\n",
    ">   Assume that the $+x$-axis is to the right, the $+y$-axis is up along the\n",
    ">   page, and the $+z$-axis points out of the page. \n",
    ">\n",
    ">   Express your answers in vector form. \n",
    ">\n",
    ">   __<p align='right'>(10 points)</p>__\n",
    ">\n",
    ">   <hr width=\"82%\" style=\"border-top:1px dashed; border-bottom:none\"/>"
   ]
  },
  {
   "cell_type": "markdown",
   "id": "648063e6",
   "metadata": {},
   "source": [
    "<h3 id='1a' style=\"display:none\">(A)</h3>\n",
    "\n",
    ">   <hr width=\"82%\" style=\"border-bottom:2px dashed; border-top:none\"/>\n",
    ">\n",
    ">   ### &#x2e04;&hairsp;&#x00B9;&hairsp;&#x2E05;&hairsp;(A)\n",
    ">\n",
    ">   __Find the electric field at the location of $Q_3$, due to $Q_1$.__\n",
    ">\n",
    ">   &emsp;&emsp;&emsp;&emsp; $\\vec{E}_1 = \\left\\langle\\ \\fbox{\\hspace{4em}?},\\ \\fbox{\\hspace{4em}?},\\ \\fbox{\\hspace{4em}?}\\ \\right\\rangle\\ \\left[\\mathrm{N/C}\\right]$\n",
    ">   <hr width=\"64%\" style=\"border-top:2px dotted; border-bottom:none\"/>"
   ]
  },
  {
   "cell_type": "code",
   "execution_count": null,
   "id": "a03df998",
   "metadata": {
    "vscode": {
     "languageId": "python"
    }
   },
   "outputs": [],
   "source": []
  },
  {
   "cell_type": "markdown",
   "id": "da11a226",
   "metadata": {},
   "source": [
    "<h3 id='1b' style=\"display:none\">(B)</h3>\n",
    "\n",
    ">   <hr width=\"82%\" style=\"border-bottom:2px dashed; border-top:none\"/>\n",
    ">\n",
    ">   ### &#x2e04;&hairsp;&#x00B9;&hairsp;&#x2E05;&hairsp;(B)\n",
    ">\n",
    ">   __Find the electric field at the location of $Q_3$, due to $Q_2$.__\n",
    ">\n",
    ">   &emsp;&emsp;&emsp;&emsp; $\\vec{E}_2 = \\left\\langle\\ \\fbox{\\hspace{4em}?},\\ \\fbox{\\hspace{4em}?},\\ \\fbox{\\hspace{4em}?}\\ \\right\\rangle\\ \\left[\\mathrm{N/C}\\right]$\n",
    ">   <hr width=\"64%\" style=\"border-top:2px dotted; border-bottom:none\"/>"
   ]
  },
  {
   "cell_type": "code",
   "execution_count": null,
   "id": "73654cf5",
   "metadata": {
    "vscode": {
     "languageId": "python"
    }
   },
   "outputs": [],
   "source": []
  },
  {
   "cell_type": "markdown",
   "id": "69522f4f",
   "metadata": {},
   "source": [
    "<h3 id='1c' style=\"display:none\">(C)</h3>\n",
    "\n",
    ">   <hr width=\"82%\" style=\"border-bottom:2px dashed; border-top:none\"/>\n",
    ">\n",
    ">   ### &#x2e04;&hairsp;&#x00B9;&hairsp;&#x2E05;&hairsp;(C)\n",
    ">\n",
    ">   __Find the net electric field at the location of $Q_3$.__\n",
    ">\n",
    ">   &emsp;&emsp;&emsp;&emsp; $\\vec{E}_\\mathrm{net} = \\left\\langle\\ \\fbox{\\hspace{4em}?},\\ \\fbox{\\hspace{4em}?},\\ \\fbox{\\hspace{4em}?}\\ \\right\\rangle\\ \\left[\\mathrm{N/C}\\right]$\n",
    ">   <hr width=\"64%\" style=\"border-top:2px dotted; border-bottom:none\"/>"
   ]
  },
  {
   "cell_type": "code",
   "execution_count": null,
   "id": "76346701",
   "metadata": {
    "vscode": {
     "languageId": "python"
    }
   },
   "outputs": [],
   "source": []
  },
  {
   "cell_type": "markdown",
   "id": "0c0e72d3",
   "metadata": {},
   "source": [
    "<h3 id='1d' style=\"display:none\">(D)</h3>\n",
    "\n",
    ">   <hr width=\"82%\" style=\"border-bottom:2px dashed; border-top:none\"/>\n",
    ">\n",
    ">   ### &#x2e04;&hairsp;&#x00B9;&hairsp;&#x2E05;&hairsp;(D)\n",
    ">\n",
    ">   __Find the net force on $Q_3$.__\n",
    ">\n",
    ">   &emsp;&emsp;&emsp;&emsp; $\\vec{F}_{\\mathrm{net,3}} = \\left\\langle\\ \\fbox{\\hspace{4em}?},\\ \\fbox{\\hspace{4em}?},\\ \\fbox{\\hspace{4em}?}\\ \\right\\rangle\\ \\left[\\mathrm{N}\\right]$\n",
    ">   <hr width=\"64%\" style=\"border-top:2px dotted; border-bottom:none\"/>"
   ]
  },
  {
   "cell_type": "code",
   "execution_count": null,
   "id": "561c00fe",
   "metadata": {
    "vscode": {
     "languageId": "python"
    }
   },
   "outputs": [],
   "source": []
  },
  {
   "cell_type": "markdown",
   "id": "0b9d43ac",
   "metadata": {},
   "source": [
    "<h3 id='1e' style=\"display:none\">(E)</h3>\n",
    "\n",
    ">   <hr width=\"82%\" style=\"border-bottom:2px dashed; border-top:none\"/>\n",
    ">\n",
    ">   ### &#x2e04;&hairsp;&#x00B9;&hairsp;&#x2E05;&hairsp;(E)\n",
    ">\n",
    ">   __Find the electric field at Location $A$ due to $Q_1$.__\n",
    ">\n",
    ">   &emsp;&emsp;&emsp;&emsp; $\\vec{E}_{1} = \\left\\langle\\ \\fbox{\\hspace{4em}?},\\ \\fbox{\\hspace{4em}?},\\ \\fbox{\\hspace{4em}?}\\ \\right\\rangle\\ \\left[\\mathrm{N/C}\\right]$\n",
    ">   <hr width=\"64%\" style=\"border-top:2px dotted; border-bottom:none\"/>"
   ]
  },
  {
   "cell_type": "code",
   "execution_count": null,
   "id": "e932922c",
   "metadata": {
    "vscode": {
     "languageId": "python"
    }
   },
   "outputs": [],
   "source": []
  },
  {
   "cell_type": "markdown",
   "id": "90b107ff",
   "metadata": {},
   "source": [
    "<h3 id='1f' style=\"display:none\">(F)</h3>\n",
    "\n",
    ">   <hr width=\"82%\" style=\"border-bottom:2px dashed; border-top:none\"/>\n",
    ">\n",
    ">   ### &#x2e04;&hairsp;&#x00B9;&hairsp;&#x2E05;&hairsp;(F)\n",
    ">\n",
    ">   __Find the electric field at Location $A$ due to $Q_2$.__\n",
    ">\n",
    ">   &emsp;&emsp;&emsp;&emsp; $\\vec{E}_{2} = \\left\\langle\\ \\fbox{\\hspace{4em}?},\\ \\fbox{\\hspace{4em}?},\\ \\fbox{\\hspace{4em}?}\\ \\right\\rangle\\ \\left[\\mathrm{N/C}\\right]$\n",
    ">   <hr width=\"64%\" style=\"border-top:2px dotted; border-bottom:none\"/>"
   ]
  },
  {
   "cell_type": "code",
   "execution_count": null,
   "id": "3b99c182",
   "metadata": {
    "vscode": {
     "languageId": "python"
    }
   },
   "outputs": [],
   "source": []
  },
  {
   "cell_type": "markdown",
   "id": "aebad99a",
   "metadata": {},
   "source": [
    "<h3 id='1g' style=\"display:none\">(G)</h3>\n",
    "\n",
    ">   <hr width=\"82%\" style=\"border-bottom:2px dashed; border-top:none\"/>\n",
    ">\n",
    ">   ### &#x2e04;&hairsp;&#x00B9;&hairsp;&#x2E05;&hairsp;(G)\n",
    ">\n",
    ">   __Find the electric field at Location $A$ due to $Q_3$.__\n",
    ">\n",
    ">   &emsp;&emsp;&emsp;&emsp; $\\vec{E}_{3} = \\left\\langle\\ \\fbox{\\hspace{4em}?},\\ \\fbox{\\hspace{4em}?},\\ \\fbox{\\hspace{4em}?}\\ \\right\\rangle\\ \\left[\\mathrm{N/C}\\right]$\n",
    ">   <hr width=\"64%\" style=\"border-top:2px dotted; border-bottom:none\"/>"
   ]
  },
  {
   "cell_type": "code",
   "execution_count": null,
   "id": "6a7ac747",
   "metadata": {
    "vscode": {
     "languageId": "python"
    }
   },
   "outputs": [],
   "source": []
  },
  {
   "cell_type": "markdown",
   "id": "aacefccf",
   "metadata": {},
   "source": [
    "<h3 id='1h' style=\"display:none\">(H)</h3>\n",
    "\n",
    ">   <hr width=\"82%\" style=\"border-bottom:2px dashed; border-top:none\"/>\n",
    ">\n",
    ">   ### &#x2e04;&hairsp;&#x00B9;&hairsp;&#x2E05;&hairsp;(H)\n",
    ">\n",
    ">   __What is the net the electric field at Location $A$?__\n",
    ">\n",
    ">   &emsp;&emsp;&emsp;&emsp; $\\vec{E}_{A} = \\left\\langle\\ \\fbox{\\hspace{4em}?},\\ \\fbox{\\hspace{4em}?},\\ \\fbox{\\hspace{4em}?}\\ \\right\\rangle\\ \\left[\\mathrm{N/C}\\right]$\n",
    ">   <hr width=\"64%\" style=\"border-top:2px dotted; border-bottom:none\"/>"
   ]
  },
  {
   "cell_type": "code",
   "execution_count": null,
   "id": "dc418ad2",
   "metadata": {
    "vscode": {
     "languageId": "python"
    }
   },
   "outputs": [],
   "source": []
  },
  {
   "cell_type": "markdown",
   "id": "afea1263",
   "metadata": {},
   "source": [
    "<h3 id='1i' style=\"display:none\">(I)</h3>\n",
    "\n",
    ">   <hr width=\"82%\" style=\"border-bottom:2px dashed; border-top:none\"/>\n",
    ">\n",
    ">   ### &#x2e04;&hairsp;&#x00B9;&hairsp;&#x2E05;&hairsp;(I)\n",
    ">\n",
    ">   If a particle with charge $-6$ [nC] were placed at location $A$,\n",
    ">   __what would be the force on this particle?__\n",
    ">\n",
    ">   &emsp;&emsp;&emsp;&emsp; $\\vec{F}_{\\textrm{on}\\ A} = \\left\\langle\\ \\fbox{\\hspace{4em}?},\\ \\fbox{\\hspace{4em}?},\\ \\fbox{\\hspace{4em}?}\\ \\right\\rangle\\ \\left[\\mathrm{N}\\right]$\n",
    ">   <hr width=\"64%\" style=\"border-top:2px dotted; border-bottom:none\"/>"
   ]
  },
  {
   "cell_type": "code",
   "execution_count": null,
   "id": "5f610269",
   "metadata": {
    "vscode": {
     "languageId": "python"
    }
   },
   "outputs": [],
   "source": []
  },
  {
   "cell_type": "markdown",
   "id": "adc99c4f",
   "metadata": {},
   "source": [
    "<div style=\"page-break-after: always;\"/> \n",
    "<h2 id='2' style=\"display:none\">[2]*</h2>\n",
    "\n",
    ">   ---\n",
    ">   ## [2]*\n",
    ">\n",
    ">   An $\\mathrm{Fe^{3+}}$ ion is located $400$ [nm] ($400 \\times 10^{-9}$ [m], \n",
    ">   about 4000 atomic diameters), from a $\\mathrm{Cl^-}$ ion, as shown in the \n",
    ">   figure below (ions not shown to scale).\n",
    ">\n",
    ">   {{ graphic }}\n",
    ">\n",
    ">   __<p align='right'>(10 points)</p>__\n",
    ">\n",
    ">   <hr width=\"82%\" style=\"border-top:1px dashed; border-bottom:none\"/>"
   ]
  },
  {
   "cell_type": "markdown",
   "id": "9e768658",
   "metadata": {},
   "source": [
    "<h3 id='2a' style=\"display:none\">(A)</h3>\n",
    "\n",
    ">   <hr width=\"82%\" style=\"border-bottom:2px dashed; border-top:none\"/>\n",
    ">\n",
    ">   ### &#x2e04;&hairsp;&#x00B2;&hairsp;&#x2E05;&hairsp;(A)\n",
    ">\n",
    ">   __Determine the magnitude and direction of the electric field $\\vec{E}_A$ at\n",
    ">   location $A$__, $r=115$ [nm] to the __left__ of the $\\mathrm{Cl^-}$ ion.\n",
    ">\n",
    ">   &emsp;&emsp;&emsp;&emsp; $\\textrm{magnitude} = \\fbox{\\hspace{8em}?}\\ \\left[\\mathrm{N/C}\\right]$\n",
    ">\n",
    ">   $\\textrm{direction} =$ \n",
    ">\n",
    ">   (select one:)\n",
    ">\n",
    ">   - [ ]   to the right\n",
    ">\n",
    ">   <hr width=\"64%\" style=\"border-top:2px dotted; border-bottom:none\"/>"
   ]
  },
  {
   "cell_type": "code",
   "execution_count": null,
   "id": "de2e1c2c",
   "metadata": {
    "vscode": {
     "languageId": "python"
    }
   },
   "outputs": [],
   "source": []
  },
  {
   "cell_type": "markdown",
   "id": "687128ff",
   "metadata": {},
   "source": [
    "- [x]   to the right"
   ]
  },
  {
   "cell_type": "markdown",
   "id": "b408be65",
   "metadata": {},
   "source": [
    "<h3 id='2b' style=\"display:none\">(B)</h3>\n",
    "\n",
    ">   <hr width=\"82%\" style=\"border-bottom:2px dashed; border-top:none\"/>\n",
    ">\n",
    ">   ### &#x2e04;&hairsp;&#x00B2;&hairsp;&#x2E05;&hairsp;(B)\n",
    ">\n",
    ">   __Determine the magnitude and direction of the electric field $\\vec{E}_B$ at\n",
    ">   location $B$__, $r=115$ [nm] to the __right__ of the $\\mathrm{Cl^-}$ ion.\n",
    ">\n",
    ">   &emsp;&emsp;&emsp;&emsp; $\\textrm{magnitude} = \\fbox{\\hspace{8em}?}\\ \\left[\\mathrm{N/C}\\right]$\n",
    ">\n",
    ">   &emsp;&emsp;&emsp;&emsp; $\\textrm{direction} =$ \n",
    ">   \n",
    ">   (select one:)\n",
    ">\n",
    ">   - [ ]   to the left\n",
    ">\n",
    ">   <hr width=\"64%\" style=\"border-top:2px dotted; border-bottom:none\"/>"
   ]
  },
  {
   "cell_type": "code",
   "execution_count": null,
   "id": "6a8cbb19",
   "metadata": {
    "vscode": {
     "languageId": "python"
    }
   },
   "outputs": [],
   "source": []
  },
  {
   "cell_type": "markdown",
   "id": "6d83369e",
   "metadata": {},
   "source": [
    "- [x]   to the left"
   ]
  },
  {
   "cell_type": "markdown",
   "id": "b68877ea",
   "metadata": {},
   "source": [
    "<h3 id='2c' style=\"display:none\">(C)</h3>\n",
    "\n",
    ">   <hr width=\"82%\" style=\"border-bottom:2px dashed; border-top:none\"/>\n",
    ">\n",
    ">   ### &#x2e04;&hairsp;&#x00B2;&hairsp;&#x2E05;&hairsp;(C)\n",
    ">\n",
    ">   If an electron is placed at Location $A$, \n",
    ">   __what are the magnitude and direction of the force on this electron?__\n",
    ">\n",
    ">   &emsp;&emsp;&emsp;&emsp; $\\textrm{magnitude} = \\fbox{\\hspace{8em}?}\\ \\left[\\mathrm{N}\\right]$\n",
    ">\n",
    ">   &emsp;&emsp;&emsp;&emsp; $\\textrm{direction} =$ \n",
    ">   \n",
    ">   (select one:)\n",
    ">\n",
    ">   - [ ]   to the left\n",
    ">\n",
    ">   <hr width=\"64%\" style=\"border-top:2px dotted; border-bottom:none\"/>"
   ]
  },
  {
   "cell_type": "code",
   "execution_count": null,
   "id": "2246c24c",
   "metadata": {
    "vscode": {
     "languageId": "python"
    }
   },
   "outputs": [],
   "source": []
  },
  {
   "cell_type": "markdown",
   "id": "f5811352",
   "metadata": {},
   "source": [
    "- [x]   to the left"
   ]
  },
  {
   "cell_type": "markdown",
   "id": "b1837ef7",
   "metadata": {},
   "source": [
    "<div style=\"page-break-after: always;\"/> \n",
    "<h2 id='3' style=\"display:none\">[3]*</h2>\n",
    "\n",
    ">   ---\n",
    ">   ## [3]*\n",
    ">\n",
    ">   A plastic rod $1.6$ [m] long is rubbed all over with wool, and acquires a \n",
    ">   charge of $-8\\mathrm{e}^-8$ coulombs.\n",
    ">\n",
    ">   We choose the center of the rod to be the origin of our coordinate system, \n",
    ">   with the $x$-axis extending to the right, the $y$-axis extending up, and the \n",
    ">   $z$-axis out of the page. \n",
    ">\n",
    ">   In order to calculate the electric field at location $A = \\langle\\ 0.7, 0, 0\\rangle$ [m],\n",
    ">   we divide the rod into 8 pieces, and approximate each piece as a point charge\n",
    ">   located at the center of the piece.\n",
    ">\n",
    ">   {{ graphic | graphic }}\n",
    ">\n",
    ">   __<p align='right'>(10 points)</p>__\n",
    ">\n",
    ">   <hr width=\"82%\" style=\"border-top:1px dashed; border-bottom:none\"/>"
   ]
  },
  {
   "cell_type": "markdown",
   "id": "59e05eea",
   "metadata": {},
   "source": [
    "<h3 id='3a' style=\"display:none\">(A)</h3>\n",
    "\n",
    ">   <hr width=\"82%\" style=\"border-bottom:2px dashed; border-top:none\"/>\n",
    ">\n",
    ">   ### &#x2e04;&hairsp;&#x00B2;&hairsp;&#x2E05;&hairsp;(A)\n",
    ">\n",
    ">   __What is the length of one of these pieces?__\n",
    ">\n",
    ">   &nbsp;&nbsp;&nbsp;&nbsp; $\\fbox{\\hspace{8em}?}\\ \\left[\\mathrm{m}\\right]$\n",
    ">\n",
    ">   <hr width=\"64%\" style=\"border-top:2px dotted; border-bottom:none\"/>"
   ]
  },
  {
   "cell_type": "code",
   "execution_count": null,
   "id": "ab7ac63c",
   "metadata": {
    "vscode": {
     "languageId": "python"
    }
   },
   "outputs": [],
   "source": []
  },
  {
   "cell_type": "markdown",
   "id": "a9843027",
   "metadata": {},
   "source": [
    "<h3 id='3b' style=\"display:none\">(B)</h3>\n",
    "\n",
    ">   <hr width=\"82%\" style=\"border-bottom:2px dashed; border-top:none\"/>\n",
    ">\n",
    ">   ### &#x2e04;&hairsp;&#x00B2;&hairsp;&#x2E05;&hairsp;(B)\n",
    ">\n",
    ">   __What is the location of the center of piece number 5?__\n",
    ">\n",
    ">   &emsp;&emsp;&emsp;&emsp; $\\left\\langle\\ \\fbox{\\hspace{4em}?},\\ \\fbox{\\hspace{4em}?},\\ \\fbox{\\hspace{4em}?}\\ \\right\\rangle\\ \\left[\\mathrm{m}\\right]$\n",
    ">\n",
    ">   <hr width=\"64%\" style=\"border-top:2px dotted; border-bottom:none\"/>"
   ]
  },
  {
   "cell_type": "code",
   "execution_count": null,
   "id": "fda1af35",
   "metadata": {
    "vscode": {
     "languageId": "python"
    }
   },
   "outputs": [],
   "source": []
  },
  {
   "cell_type": "markdown",
   "id": "0d32ee07",
   "metadata": {},
   "source": [
    "<h3 id='3c' style=\"display:none\">(C)</h3>\n",
    "\n",
    ">   <hr width=\"82%\" style=\"border-bottom:2px dashed; border-top:none\"/>\n",
    ">\n",
    ">   ### &#x2e04;&hairsp;&#x00B2;&hairsp;&#x2E05;&hairsp;(C)\n",
    ">\n",
    ">   __How much charge is on piece number 5?__\n",
    ">   (Remember that the charge is negative).\n",
    ">\n",
    ">   &nbsp;&nbsp;&nbsp;&nbsp; $\\fbox{\\hspace{8em}?}\\ \\left[\\mathrm{coulombs}\\right]$\n",
    ">\n",
    ">   <hr width=\"64%\" style=\"border-top:2px dotted; border-bottom:none\"/>"
   ]
  },
  {
   "cell_type": "code",
   "execution_count": null,
   "id": "8d4d1608",
   "metadata": {
    "vscode": {
     "languageId": "python"
    }
   },
   "outputs": [],
   "source": []
  },
  {
   "cell_type": "markdown",
   "id": "cf38c395",
   "metadata": {},
   "source": [
    "<h3 id='3d' style=\"display:none\">(D)</h3>\n",
    "\n",
    ">   <hr width=\"82%\" style=\"border-bottom:2px dashed; border-top:none\"/>\n",
    ">\n",
    ">   ### &#x2e04;&hairsp;&#x00B2;&hairsp;&#x2E05;&hairsp;(D)\n",
    ">\n",
    ">   Approximating piece number 5 as a point charge, __what is the electric field\n",
    ">   at location $A$,__ due only to piece 5?\n",
    ">\n",
    ">   &emsp;&emsp;&emsp;&emsp; $\\vec{E}_5 = \\left\\langle\\ \\fbox{\\hspace{4em}?},\\ \\fbox{\\hspace{4em}?},\\ \\fbox{\\hspace{4em}?}\\ \\right\\rangle\\ \\left[\\mathrm{m}\\right]$\n",
    ">\n",
    ">   <hr width=\"64%\" style=\"border-top:2px dotted; border-bottom:none\"/>"
   ]
  },
  {
   "cell_type": "code",
   "execution_count": null,
   "id": "905f93ac",
   "metadata": {
    "vscode": {
     "languageId": "python"
    }
   },
   "outputs": [],
   "source": []
  },
  {
   "cell_type": "markdown",
   "id": "b3ef7b56",
   "metadata": {},
   "source": [
    "<h3 id='3e' style=\"display:none\">(E)</h3>\n",
    "\n",
    ">   <hr width=\"82%\" style=\"border-bottom:2px dashed; border-top:none\"/>\n",
    ">\n",
    ">   ### &#x2e04;&hairsp;&#x00B2;&hairsp;&#x2E05;&hairsp;(E)\n",
    ">\n",
    ">   To get the net electric field at location $A$, we would need to calculate\n",
    ">   the field due to each of the 8 pieces, and sum up these contributions.\n",
    ">\n",
    ">   If we did that, __which arrow above would best represent the direction of\n",
    ">   the net electric field at location $A$?__\n",
    ">\n",
    ">   |   |   |   |\n",
    ">   |:---:|:---:|:---:|\n",
    ">   | 🔲 h | 🔲 a | 🔲 b |\n",
    ">   | 🔲 g | &emsp; | 🔲 c |\n",
    ">   | 🔲 f | 🔲 e | 🔲 d |\n",
    ">\n",
    ">   &emsp; 🔲 j - zero magnitude\n",
    ">\n",
    ">   <hr width=\"64%\" style=\"border-top:2px dotted; border-bottom:none\"/>"
   ]
  },
  {
   "cell_type": "markdown",
   "id": "95fd158d",
   "metadata": {},
   "source": [
    "- [x] g"
   ]
  },
  {
   "cell_type": "markdown",
   "id": "f6f24308",
   "metadata": {},
   "source": [
    "<div style=\"page-break-after: always;\"/> \n",
    "<h2 id='4' style=\"display:none\">[4]</h2>\n",
    "\n",
    ">   ---\n",
    ">   ## [4]\n",
    ">\n",
    ">   An electrostatic dust precipitator that is installed in a factory smokestack\n",
    ">   includes a straight metal wire of length $L = 0.8$ [m], that is charged with\n",
    ">   approximately uniformly with a total charge $Q = 0.2 \\times 10^{-7}$ [C].\n",
    ">\n",
    ">   A speck of coal dust (which is mostly carbon) is near the wire, and far from\n",
    ">   both ends of the wire; the distance from the wire to the speck is $d = 1.4$ \n",
    ">   [cm]. Carbon has an atomic mass of 12 (6 protons and 6 neutrons in the \n",
    ">   nucleus). A careful measurement of the polarizability of a carbon atom gives\n",
    ">   the value $\\alpha = 1.96 \\times 10^{-40}$ [(C⋅m)/(N/C)]. \n",
    ">\n",
    ">   __<p align='right'>(0.1 points)</p>__\n",
    ">\n",
    ">   <hr width=\"82%\" style=\"border-top:1px dashed; border-bottom:none\"/>"
   ]
  },
  {
   "cell_type": "markdown",
   "id": "8428803d",
   "metadata": {},
   "source": [
    "<h3 id='4a' style=\"display:none\">(A)</h3>\n",
    "\n",
    ">   <hr width=\"82%\" style=\"border-bottom:2px dashed; border-top:none\"/>\n",
    ">   \n",
    ">   ### &#x2e04;&hairsp;&#x2074;&hairsp;&#x2E05;&hairsp;(A)\n",
    ">\n",
    ">   __Calculate the initial acceleration of the speck of coal dust, \n",
    ">   neglecting gravity.__\n",
    ">\n",
    ">   Your answer must be expressed in terms of $Q$, $L$, $d$, and $\\alpha$.\n",
    ">   You can use other quantities in your calculations, but your final result\n",
    ">   must not include them. \n",
    ">\n",
    ">   It is convenient to use the \"binomial expansion\", that you may have learned\n",
    ">   in calculus, that $(1 + \\epsilon)^n \\approx 1 + n\\epsilon$, if $\\epsilon \\ll 1$.\n",
    ">   Note that $n$ can be negative. \n",
    ">\n",
    ">   <hr width=\"64%\" style=\"border-top:2px dotted; border-bottom:none\"/>"
   ]
  },
  {
   "cell_type": "markdown",
   "id": "e4fbe26a",
   "metadata": {},
   "source": [
    "<h4 id='4a_i' style=\"display:none\">{A.ⅰ}</h4>\n",
    "\n",
    ">   <hr width=\"64%\" style=\"border-top:1px dotted; border-bottom:none\"/>\n",
    ">   \n",
    ">   #### &#x2e04;&hairsp;&#x2074;&hairsp;&#x2E05;&hairsp;{A.ⅰ}\n",
    ">\n",
    ">   __Algebraically express the magnitude of the acceleration $a$.__\n",
    ">\n",
    ">   Use the following as necessary: $Q$, $L$, $d$, $\\alpha$, $\\epsilon_0$, and\n",
    ">   $m$ for the mass of a carbon atom. Use the binomial expansion in your answer.\n",
    ">\n",
    ">   (select one:)\n",
    ">\n",
    ">   - [ ] &nbsp; $a = \\left(\\frac{1}{4\\pi\\epsilon_0}\\right)^2 \\frac{4 Q^2 \\alpha}{m L^2 d^3}$\n",
    ">\n",
    ">   - [ ] &nbsp; $a = \\left(\\frac{1}{4\\pi\\epsilon_0}\\right)^2 \\frac{Q^2 \\alpha}{m L^2 d^3}$\n",
    ">\n",
    ">   - [ ] &nbsp; $a = \\left(\\frac{1}{4\\pi\\epsilon_0}\\right)^2 \\frac{4 Q^2 \\alpha}{m L^3 d^2}$\n",
    ">\n",
    ">   - [ ] &nbsp; $a = \\left(\\frac{1}{4\\pi\\epsilon_0}\\right)^2 \\frac{Q^2 \\alpha}{m L^3 d^2}$\n",
    ">\n",
    ">\n",
    ">   <hr width=\"64%\" style=\"border-top:1px dotted; border-bottom:none\"/>"
   ]
  },
  {
   "cell_type": "markdown",
   "id": "7e56553e",
   "metadata": {},
   "source": []
  },
  {
   "cell_type": "markdown",
   "id": "754d43e7",
   "metadata": {},
   "source": [
    "<h4 id='4a_ii' style=\"display:none\">{A.ⅱ}</h4>\n",
    "\n",
    ">   <hr width=\"64%\" style=\"border-top:1px dotted; border-bottom:none\"/>\n",
    ">   \n",
    ">   #### &#x2e04;&hairsp;&#x2074;&hairsp;&#x2E05;&hairsp;{A.ⅱ}\n",
    ">\n",
    ">   __Calculate the initial acceleration of the speck of coal dust, neglecting\n",
    ">   gravity.__\n",
    ">\n",
    ">   Don't put numbers into your calculation until the very end, but then show\n",
    ">   the numerical calculation that you carry out on your calculator.\n",
    ">\n",
    ">   (Enter the magnitude:)\n",
    ">\n",
    ">   &nbsp;&nbsp;&nbsp;&nbsp; $\\fbox{\\hspace{8em}?}\\ \\left[\\mathrm{m / s^2}\\right]$\n",
    ">\n",
    ">   <hr width=\"64%\" style=\"border-top:1px dotted; border-bottom:none\"/>"
   ]
  },
  {
   "cell_type": "code",
   "execution_count": null,
   "id": "c6cf1e78",
   "metadata": {
    "vscode": {
     "languageId": "python"
    }
   },
   "outputs": [],
   "source": []
  },
  {
   "cell_type": "markdown",
   "id": "656e8235",
   "metadata": {},
   "source": [
    "<h3 id='10b' style=\"display:none\">(B)</h3>\n",
    "\n",
    ">   <hr width=\"82%\" style=\"border-bottom:2px dashed; border-top:none\"/>\n",
    ">   \n",
    ">   ### &#x2e04;&hairsp;&#x00B9;&#x2070;&hairsp;&#x2E05;&hairsp;(B)\n",
    ">\n",
    ">   If the speck of coal dust were initially five times as far from the charged\n",
    ">   wire, __how much smaller would the initial acceleration of the speck be?__\n",
    ">\n",
    ">   &nbsp;&nbsp;&nbsp;&nbsp; $\\frac{a_{5d}}{a_d} = \\fbox{\\hspace{8em}?}$\n",
    ">\n",
    ">   <hr width=\"64%\" style=\"border-top:2px dotted; border-bottom:none\"/>"
   ]
  },
  {
   "cell_type": "code",
   "execution_count": null,
   "id": "11dace04",
   "metadata": {
    "vscode": {
     "languageId": "python"
    }
   },
   "outputs": [],
   "source": []
  },
  {
   "cell_type": "markdown",
   "id": "167c55ef",
   "metadata": {},
   "source": [
    "<div style=\"page-break-after: always;\"/> \n",
    "<h2 id='5' style=\"display:none\">[5]*</h2>\n",
    "\n",
    ">   ---\n",
    ">   ## [5]*\n",
    ">\n",
    ">   A strip of invisible tape, $0.19$ [m] long by $0.015$ [m] wide, is uniformly\n",
    ">   charged with a total net charge of $4$ [nC] (nano `n` = $1 \\times 10^{-9}$);\n",
    ">   and is suspended horizontally so it lies along the $x$-axis, with its center\n",
    ">   at the origin (as shown in the figure below). \n",
    ">\n",
    ">   {{ graphic }}\n",
    ">\n",
    ">   Calculate the approximate electric field at location A, \n",
    ">   $\\left\\langle\\ 0, 0.02, 0\\right\\rangle$ [m], due to the strip of tape. \n",
    ">\n",
    ">   Do this by dividing the strip into three equal sections, as in the figure \n",
    ">   above, and approximating each section as a point charge. (Assume each point\n",
    ">   charge is located at the center of the section it approximates.)\n",
    ">\n",
    ">   Express your answers in vector form. \n",
    ">\n",
    ">   __<p align='right'>(10 points)</p>__\n",
    ">\n",
    ">   <hr width=\"82%\" style=\"border-top:1px dashed; border-bottom:none\"/>"
   ]
  },
  {
   "cell_type": "markdown",
   "id": "3a2d9d13",
   "metadata": {},
   "source": [
    "<h3 id='5a' style=\"display:none\">(A)</h3>\n",
    "\n",
    ">   <hr width=\"82%\" style=\"border-bottom:2px dashed; border-top:none\"/>\n",
    ">   \n",
    ">   ### &#x2e04;&hairsp;&#x2075;&hairsp;&#x2E05;&hairsp;(A)\n",
    ">\n",
    ">   __What is the approximate electric field at $A$, due to piece 1?__\n",
    ">\n",
    ">   &nbsp;&nbsp;&nbsp;&nbsp; $\\vec{E}_1 =  \\left\\langle\\ \\fbox{\\hspace{4em}?},\\ \\fbox{\\hspace{4em}?},\\ \\fbox{\\hspace{4em}?}\\ \\right\\rangle \\left[\\mathrm{N/C}\\right]$\n",
    ">\n",
    ">   <hr width=\"64%\" style=\"border-top:2px dotted; border-bottom:none\"/>"
   ]
  },
  {
   "cell_type": "code",
   "execution_count": null,
   "id": "ceb99013",
   "metadata": {
    "vscode": {
     "languageId": "python"
    }
   },
   "outputs": [],
   "source": []
  },
  {
   "cell_type": "markdown",
   "id": "56e63856",
   "metadata": {},
   "source": [
    "<h3 id='5b' style=\"display:none\">(B)</h3>\n",
    "\n",
    ">   <hr width=\"82%\" style=\"border-bottom:2px dashed; border-top:none\"/>\n",
    ">   \n",
    ">   ### &#x2e04;&hairsp;&#x2075;&hairsp;&#x2E05;&hairsp;(B)\n",
    ">\n",
    ">   __What is the approximate electric field at $A$, due to piece 2?__\n",
    ">\n",
    ">   &nbsp;&nbsp;&nbsp;&nbsp; $\\vec{E}_2 =  \\left\\langle\\ \\fbox{\\hspace{4em}?},\\ \\fbox{\\hspace{4em}?},\\ \\fbox{\\hspace{4em}?}\\ \\right\\rangle \\left[\\mathrm{N/C}\\right]$\n",
    ">\n",
    ">   <hr width=\"64%\" style=\"border-top:2px dotted; border-bottom:none\"/>"
   ]
  },
  {
   "cell_type": "code",
   "execution_count": null,
   "id": "99f7d186",
   "metadata": {
    "vscode": {
     "languageId": "python"
    }
   },
   "outputs": [],
   "source": []
  },
  {
   "cell_type": "markdown",
   "id": "c51f97ac",
   "metadata": {},
   "source": [
    "<h3 id='5c' style=\"display:none\">(C)</h3>\n",
    "\n",
    ">   <hr width=\"82%\" style=\"border-bottom:2px dashed; border-top:none\"/>\n",
    ">   \n",
    ">   ### &#x2e04;&hairsp;&#x2075;&hairsp;&#x2E05;&hairsp;(C)\n",
    ">\n",
    ">   __What is the approximate electric field at $A$, due to piece 3?__\n",
    ">\n",
    ">   &nbsp;&nbsp;&nbsp;&nbsp; $\\vec{E}_3 =  \\left\\langle\\ \\fbox{\\hspace{4em}?},\\ \\fbox{\\hspace{4em}?},\\ \\fbox{\\hspace{4em}?}\\ \\right\\rangle \\left[\\mathrm{N/C}\\right]$\n",
    ">\n",
    ">   <hr width=\"64%\" style=\"border-top:2px dotted; border-bottom:none\"/>"
   ]
  },
  {
   "cell_type": "code",
   "execution_count": null,
   "id": "af830c3c",
   "metadata": {
    "vscode": {
     "languageId": "python"
    }
   },
   "outputs": [],
   "source": []
  },
  {
   "cell_type": "markdown",
   "id": "04ae5007",
   "metadata": {},
   "source": [
    "<h3 id='5d' style=\"display:none\">(D)</h3>\n",
    "\n",
    ">   <hr width=\"82%\" style=\"border-bottom:2px dashed; border-top:none\"/>\n",
    ">   \n",
    ">   ### &#x2e04;&hairsp;&#x2075;&hairsp;&#x2E05;&hairsp;(D)\n",
    ">\n",
    ">   __What is the approximate _net_ electric field at $A$?__\n",
    ">\n",
    ">   &nbsp;&nbsp;&nbsp;&nbsp; $\\vec{E}_3 =  \\left\\langle\\ \\fbox{\\hspace{4em}?},\\ \\fbox{\\hspace{4em}?},\\ \\fbox{\\hspace{4em}?}\\ \\right\\rangle \\left[\\mathrm{N/C}\\right]$\n",
    ">\n",
    ">   <hr width=\"64%\" style=\"border-top:2px dotted; border-bottom:none\"/>"
   ]
  },
  {
   "cell_type": "code",
   "execution_count": null,
   "id": "1de1d520",
   "metadata": {
    "vscode": {
     "languageId": "python"
    }
   },
   "outputs": [],
   "source": []
  },
  {
   "cell_type": "markdown",
   "id": "f4b39c8f",
   "metadata": {},
   "source": [
    "<h3 id='5e' style=\"display:none\">(E)</h3>\n",
    "\n",
    ">   <hr width=\"82%\" style=\"border-bottom:2px dashed; border-top:none\"/>\n",
    ">   \n",
    ">   ### &#x2e04;&hairsp;&#x2075;&hairsp;&#x2E05;&hairsp;(E)\n",
    ">\n",
    ">   __What could you do to improve the accuracy of your calculations?__\n",
    ">\n",
    ">   (select one:)\n",
    ">\n",
    ">   - [ ] &nbsp; Use a _larger_ charge for piece 2, than for pieces 1 and 3:\n",
    ">                since location $A$ is closest to piece 2, this piece has the \n",
    ">                most significant contribution. \n",
    ">\n",
    ">   - [ ] &nbsp; Use more sections: as the number of segments approaches infinity,\n",
    ">                the summation of the electric fields approximates the actual \n",
    ">                electric field. \n",
    ">\n",
    ">   - [ ] &nbsp; Use a _smaller_ charge for piece 2, than for pieces 1 and 3:\n",
    ">                the actual electric field is similar to that of a dipole, \n",
    ">                with most of the charge on the tape at the left or right ends.\n",
    ">\n",
    ">   - [ ] &nbsp; Use just two sections: due to symmetry about the $y$-axis, \n",
    ">                the components of the field due to each charge will be half of\n",
    ">                the total electric field. \n",
    ">\n",
    ">\n",
    ">   <hr width=\"64%\" style=\"border-top:2px dotted; border-bottom:none\"/>"
   ]
  },
  {
   "cell_type": "markdown",
   "id": "e53c6d42",
   "metadata": {},
   "source": [
    "- [x] &nbsp; Use more sections: as the number of segments approaches infinity,\n",
    "             the summation of the electric fields approximates the actual \n",
    "             electric field. "
   ]
  },
  {
   "cell_type": "markdown",
   "id": "d37e9fb4",
   "metadata": {},
   "source": [
    "<div style=\"page-break-after: always;\"/> \n",
    "<h2 id='6' style=\"display:none\">[6]</h2>\n",
    "\n",
    ">   ---\n",
    ">   ## [6]\n",
    ">\n",
    ">   For a disk of radius $R = 24$ [cm] and charge $Q = 5 \\times 10^{-6}$ [C],\n",
    ">   calculate the electric field $4$ [cm] from the center of the disk using all\n",
    ">   three formulas below.\n",
    ">\n",
    ">   Note: $\\epsilon_0 = 8.85\\mathrm{e}^-12$ [C²/(N⋅m²)]\n",
    ">\n",
    ">   {{ graphic }}\n",
    ">\n",
    ">   __<p align='right'>(0.1 points)</p>__\n",
    ">\n",
    ">   <hr width=\"82%\" style=\"border-top:1px dashed; border-bottom:none\"/>"
   ]
  },
  {
   "cell_type": "markdown",
   "id": "57184f0a",
   "metadata": {},
   "source": [
    "<h3 id='6a' style=\"display:none\">(A)</h3>\n",
    "\n",
    ">   <hr width=\"82%\" style=\"border-bottom:2px dashed; border-top:none\"/>\n",
    ">   \n",
    ">   ### &#x2e04;&hairsp;&#x2076;&hairsp;&#x2E05;&hairsp;(A)\n",
    ">\n",
    ">   __Most accurate approximation:__ \n",
    ">   $E = \\frac{Q/A}{2\\epsilon_0}\\left[ 1 - \\frac{z}{(R^2 + z^2)^{1/2} }\\right]$\n",
    ">\n",
    ">   &nbsp;&nbsp;&nbsp;&nbsp; $\\fbox{\\hspace{8em}?}$&emsp;[N/C]\n",
    ">\n",
    ">   <hr width=\"64%\" style=\"border-top:2px dotted; border-bottom:none\"/>"
   ]
  },
  {
   "cell_type": "code",
   "execution_count": null,
   "id": "50f24e0b",
   "metadata": {
    "vscode": {
     "languageId": "python"
    }
   },
   "outputs": [],
   "source": []
  },
  {
   "cell_type": "markdown",
   "id": "e11e9b25",
   "metadata": {},
   "source": [
    "<h3 id='6b' style=\"display:none\">(B)</h3>\n",
    "\n",
    ">   <hr width=\"82%\" style=\"border-bottom:2px dashed; border-top:none\"/>\n",
    ">   \n",
    ">   ### &#x2e04;&hairsp;&#x2076;&hairsp;&#x2E05;&hairsp;(B)\n",
    ">\n",
    ">   __Less accurate approximation:__ \n",
    ">   $E = \\frac{Q/A}{2\\epsilon_0}\\left[ 1 - \\frac{z}{R} \\right]$\n",
    ">\n",
    ">   &nbsp;&nbsp;&nbsp;&nbsp; $\\fbox{\\hspace{8em}?}$&emsp;[N/C]\n",
    ">\n",
    ">   <hr width=\"64%\" style=\"border-top:2px dotted; border-bottom:none\"/>"
   ]
  },
  {
   "cell_type": "code",
   "execution_count": null,
   "id": "065d18fa",
   "metadata": {
    "vscode": {
     "languageId": "python"
    }
   },
   "outputs": [],
   "source": []
  },
  {
   "cell_type": "markdown",
   "id": "46a53df8",
   "metadata": {},
   "source": [
    "<h3 id='6c' style=\"display:none\">(C)</h3>\n",
    "\n",
    ">   <hr width=\"82%\" style=\"border-bottom:2px dashed; border-top:none\"/>\n",
    ">   \n",
    ">   ### &#x2e04;&hairsp;&#x2076;&hairsp;&#x2E05;&hairsp;(C)\n",
    ">\n",
    ">   __Least accurate approximation:__ \n",
    ">   $E = \\frac{Q/A}{2\\epsilon_0}$\n",
    ">\n",
    ">   &nbsp;&nbsp;&nbsp;&nbsp; $\\fbox{\\hspace{8em}?}$&emsp;[N/C]\n",
    ">\n",
    ">   <hr width=\"64%\" style=\"border-top:2px dotted; border-bottom:none\"/>"
   ]
  },
  {
   "cell_type": "code",
   "execution_count": null,
   "id": "206a78fc",
   "metadata": {
    "vscode": {
     "languageId": "python"
    }
   },
   "outputs": [],
   "source": []
  },
  {
   "cell_type": "markdown",
   "id": "c1bec756",
   "metadata": {},
   "source": [
    "<h3 id='6d' style=\"display:none\">(D)</h3>\n",
    "\n",
    ">   <hr width=\"82%\" style=\"border-bottom:2px dashed; border-top:none\"/>\n",
    ">   \n",
    ">   ### &#x2e04;&hairsp;&#x2076;&hairsp;&#x2E05;&hairsp;(D)\n",
    ">\n",
    ">   __At what distance__ does the least approximation for the electric field\n",
    ">   give a result that is closest to the most accurate?\n",
    ">\n",
    ">   (select one:)\n",
    ">\n",
    ">   - [ ]   at a distance $R$\n",
    ">\n",
    ">   - [ ]   close to the disk\n",
    ">\n",
    ">   - [ ]   far from the disk\n",
    ">\n",
    ">   - [ ]   at a distance $R/2$\n",
    ">\n",
    ">\n",
    ">   <hr width=\"64%\" style=\"border-top:2px dotted; border-bottom:none\"/>"
   ]
  },
  {
   "cell_type": "markdown",
   "id": "a14839da",
   "metadata": {},
   "source": [
    "- [x] close to the disk"
   ]
  },
  {
   "cell_type": "markdown",
   "id": "3c134785",
   "metadata": {},
   "source": [
    "<div style=\"page-break-after: always;\"/> \n",
    "<h2 id='7' style=\"display:none\">[7]</h2>\n",
    "\n",
    ">   ---\n",
    ">   ## [7]\n",
    ">\n",
    ">   The dipole moment of the $\\mathrm{HBr}$ (hydrogen bromide) molecule has been\n",
    ">   measured to be $2.74 \\times 10^{-30}$ [C⋅m].\n",
    ">\n",
    ">   If we model the dipole as having charges of $+e$ and $-e$ separated by a \n",
    ">   distance $s$, __what is $s$?__\n",
    ">\n",
    ">   &nbsp;&nbsp;&nbsp;&nbsp; $s = \\fbox{\\hspace{8em}?}$&emsp;[pm]\n",
    ">\n",
    ">   __Is this plausible?__ \n",
    ">   (Assume this is plausible if the separation distance $s$ is greater than \n",
    ">   $100$ [pm], the approximate diameter of a hydrogen atom.)\n",
    ">\n",
    ">   (select one:)\n",
    ">\n",
    ">   - [ ] Yes\n",
    ">   - [ ] No\n",
    ">\n",
    ">   __<p align='right'>(0.1 points)</p>__\n",
    ">\n",
    ">   <hr width=\"82%\" style=\"border-top:1px dashed; border-bottom:none\"/>"
   ]
  },
  {
   "cell_type": "code",
   "execution_count": null,
   "id": "577ebbd6",
   "metadata": {
    "vscode": {
     "languageId": "python"
    }
   },
   "outputs": [],
   "source": []
  },
  {
   "cell_type": "markdown",
   "id": "9f87d23d",
   "metadata": {},
   "source": [
    "- [x] No"
   ]
  },
  {
   "cell_type": "markdown",
   "id": "ca712340",
   "metadata": {},
   "source": [
    "<div style=\"page-break-after: always;\"/> \n",
    "<h2 id='8' style=\"display:none\">[8]</h2>\n",
    "\n",
    ">   ---\n",
    ">   ## [8]\n",
    ">\n",
    ">   A dipole consists of two charges, $+q$ and $-q$, held apart by a rod of \n",
    ">   length $s$; as shown in the diagram. \n",
    ">\n",
    ">   {{ graphic }}\n",
    ">\n",
    ">   __<p align='right'>(0.1 points)</p>__\n",
    ">\n",
    ">   <hr width=\"82%\" style=\"border-top:1px dashed; border-bottom:none\"/>"
   ]
  },
  {
   "cell_type": "markdown",
   "id": "92aad8b9",
   "metadata": {},
   "source": [
    "<h3 id='8a' style=\"display:none\">(A)</h3>\n",
    "\n",
    ">   <hr width=\"82%\" style=\"border-bottom:2px dashed; border-top:none\"/>\n",
    ">   \n",
    ">   ### &#x2e04;&hairsp;&#x2078;&hairsp;&#x2E05;&hairsp;(A)\n",
    ">\n",
    ">   If $q = 7$ [nC] and $s=3$ [mm], __what is the magnitude of the electric field due to the dipole at location $A$,__\n",
    ">   a distance $d=5$ [cm] from the dipole?\n",
    ">\n",
    ">   &nbsp;&nbsp;&nbsp;&nbsp; $E = \\fbox{\\hspace{8em}?}$&emsp;[N/C]\n",
    ">\n",
    ">   <hr width=\"64%\" style=\"border-top:2px dotted; border-bottom:none\"/>"
   ]
  },
  {
   "cell_type": "code",
   "execution_count": null,
   "id": "7a585383",
   "metadata": {
    "vscode": {
     "languageId": "python"
    }
   },
   "outputs": [],
   "source": []
  },
  {
   "cell_type": "markdown",
   "id": "19be487c",
   "metadata": {},
   "source": [
    "<h3 id='8b' style=\"display:none\">(B)</h3>\n",
    "\n",
    ">   <hr width=\"82%\" style=\"border-bottom:2px dashed; border-top:none\"/>\n",
    ">   \n",
    ">   ### &#x2e04;&hairsp;&#x2078;&hairsp;&#x2E05;&hairsp;(B)\n",
    ">\n",
    ">   __What is the magnitude of the electric field due to the dipole at location $B$,__\n",
    ">   a distance $d=5$ [cm] from the dipole?\n",
    ">\n",
    ">   &nbsp;&nbsp;&nbsp;&nbsp; $E = \\fbox{\\hspace{8em}?}$&emsp;[N/C]\n",
    ">\n",
    ">   <hr width=\"64%\" style=\"border-top:2px dotted; border-bottom:none\"/>"
   ]
  },
  {
   "cell_type": "code",
   "execution_count": null,
   "id": "d9173988",
   "metadata": {
    "vscode": {
     "languageId": "python"
    }
   },
   "outputs": [],
   "source": []
  },
  {
   "cell_type": "markdown",
   "id": "e3064286",
   "metadata": {},
   "source": [
    "<div style=\"page-break-after: always;\"/> \n",
    "<h2 id='9' style=\"display:none\">[9]</h2>\n",
    "\n",
    ">   ---\n",
    ">   ## [9]\n",
    ">\n",
    ">   Two identical permanent dipoles, each consisting of charges $+q$ and $-q$\n",
    ">   separated by a distance $s$; are aligned on the $x$-axis, a distance $r$ \n",
    ">   from each other, where $r \\gg s$ (see figure below).\n",
    ">\n",
    ">   {{ graphic }}\n",
    ">\n",
    ">   __What is the magnitude of the net force exerted on one dipole, by the other dipole?__\n",
    ">\n",
    ">   &nbsp;&nbsp;&nbsp;&nbsp; $F \\approx \\fbox{\\hspace{6em}?}$&emsp;[N]\n",
    ">\n",
    ">   __<p align='right'>(0.1 points)</p>__\n",
    ">\n",
    ">   <hr width=\"82%\" style=\"border-top:1px dashed; border-bottom:none\"/>"
   ]
  },
  {
   "cell_type": "code",
   "execution_count": null,
   "id": "8288d9bd",
   "metadata": {
    "vscode": {
     "languageId": "python"
    }
   },
   "outputs": [],
   "source": []
  },
  {
   "cell_type": "markdown",
   "id": "42877985",
   "metadata": {},
   "source": [
    "---"
   ]
  }
 ],
 "metadata": {
  "kernelspec": {
   "display_name": "SageMath 10.6",
   "language": "sage",
   "name": "SageMath-10.6"
  },
  "language_info": {
   "codemirror_mode": {
    "name": "ipython",
    "version": 3
   },
   "file_extension": ".py",
   "mimetype": "text/x-python",
   "name": "sage",
   "nbconvert_exporter": "python",
   "pygments_lexer": "ipython3",
   "version": "3.12.5"
  }
 },
 "nbformat": 4,
 "nbformat_minor": 5
}
