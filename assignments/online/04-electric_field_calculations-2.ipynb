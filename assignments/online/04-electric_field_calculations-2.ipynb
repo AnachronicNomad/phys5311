{
 "cells": [
  {
   "cell_type": "markdown",
   "id": "d81c2e34",
   "metadata": {},
   "source": [
    "# Electric Field Calculations - 2\n",
    "\n",
    "M&I 4e\n",
    "\n",
    "Ch 13 Electric Field\n",
    "\n",
    "- §13.5 &ndash; Superposition of Electric Fields\n",
    "- §13.6 &ndash; The Electric Field of a Dipole\n",
    "\n",
    "Ch 15 Electric Field of Distributed Charges\n",
    "\n",
    "- §15.1 &ndash; A Uniformly Charged Thin Rod\n",
    "- §15.2 &ndash; Procedure for Calculating Electric Field\n",
    "- §15.4 &ndash; A Uniformly Charged Disk"
   ]
  },
  {
   "cell_type": "code",
   "execution_count": null,
   "id": "4d87d0c4",
   "metadata": {
    "vscode": {
     "languageId": "python"
    }
   },
   "outputs": [
    {
     "name": "stdout",
     "output_type": "stream",
     "text": [
      "Python: 3.12.5 (main, Feb 25 2025, 12:37:41) [Clang 16.0.0 (clang-1600.0.26.6)]\n"
     ]
    },
    {
     "data": {
      "text/html": [
       "<html>\\(\\displaystyle \\verb|SageMath|\\verb| |\\verb|version|\\verb| |\\verb|10.6,|\\verb| |\\verb|Release|\\verb| |\\verb|Date:|\\verb| |\\verb|2025-03-31|\\)</html>"
      ],
      "text/latex": [
       "$\\displaystyle \\verb|SageMath|\\verb| |\\verb|version|\\verb| |\\verb|10.6,|\\verb| |\\verb|Release|\\verb| |\\verb|Date:|\\verb| |\\verb|2025-03-31|$"
      ],
      "text/plain": [
       "'SageMath version 10.6, Release Date: 2025-03-31'"
      ]
     },
     "execution_count": 1,
     "metadata": {},
     "output_type": "execute_result"
    }
   ],
   "source": [
    "########\n",
    "## Env Setup / Preamble\n",
    "########\n",
    "%load_ext autoreload\n",
    "%autoreload complete \n",
    "\n",
    "%load_ext Cython\n",
    "\n",
    "%display latex\n",
    "\n",
    "################\n",
    "\n",
    "import cython\n",
    "from sage.all import *\n",
    "\n",
    "################\n",
    "\n",
    "import tempfile\n",
    "import mmap\n",
    "from multiprocessing import shared_memory\n",
    "\n",
    "################\n",
    "\n",
    "import numpy as np\n",
    "import scipy.constants\n",
    "\n",
    "np.random.seed( int(scipy.constants.golden_ratio * 1.e6) )\n",
    "\n",
    "from numpy import vectorize\n",
    "from numpy import r_, c_, s_\n",
    "\n",
    "################\n",
    "\n",
    "####    boiler-plate class for named constants\n",
    "from sage.symbolic.constants import Constant\n",
    "class ConstantFromExpression(Constant):\n",
    "    def __init__(self, name, v):\n",
    "        conversions = dict(maxima=repr(maxima.coerce(v)))\n",
    "        Constant.__init__(self, name, conversions=conversions)\n",
    "        self._v = v\n",
    "    def __float__(self): return float(self._v)\n",
    "    def __complex__(self): return complex(self._v)\n",
    "    def _mpfr_(self, R): return R(self._v)\n",
    "    def _real_double_(self, R): return R(self._v)\n",
    "\n",
    "def NamedExpression(name, expr):\n",
    "    return ConstantFromExpression(name,expr).expression()\n",
    "####\n",
    "\n",
    "import sage.symbolic.units as units     # <: TODO\n",
    "\n",
    "π   = NamedExpression('π', scipy.constants.pi)          # pi\n",
    "ε_0 = NamedExpression('ε_0', scipy.constants.epsilon_0) # electric permittivity of vacuum\n",
    "μ_0 = NamedExpression('μ_0', scipy.constants.mu_0)      # magnetic permeability of vacuum\n",
    "\n",
    "𝛋 = 1. / (4 * π * ε_0)      # Coulomb's constant in [ N·m²/C² ]\n",
    "q = NamedExpression('q', -scipy.constants.elementary_charge)\n",
    "\n",
    "ℎ_planck = NamedExpression('ℎ', scipy.constants.Planck)\n",
    "ℏ = NamedExpression('ℏ', scipy.constants.hbar)\n",
    "\n",
    "α = NamedExpression('α', scipy.constants.fine_structure)\n",
    "\n",
    "m_e = NamedExpression('m_e', scipy.constants.electron_mass)\n",
    "m_p = NamedExpression('m_p', scipy.constants.proton_mass)\n",
    "\n",
    "################\n",
    "\n",
    "Parallelism().set(nproc=8)\n",
    "print(f\"Python: {sys.version}\")\n",
    "version()\n"
   ]
  },
  {
   "cell_type": "code",
   "execution_count": 2,
   "id": "6dbb2a79",
   "metadata": {
    "vscode": {
     "languageId": "python"
    }
   },
   "outputs": [
    {
     "name": "stdout",
     "output_type": "stream",
     "text": [
      "The Zen of Python, by Tim Peters\n",
      "\n",
      "Beautiful is better than ugly.\n",
      "Explicit is better than implicit.\n",
      "Simple is better than complex.\n",
      "Complex is better than complicated.\n",
      "Flat is better than nested.\n",
      "Sparse is better than dense.\n",
      "Readability counts.\n",
      "Special cases aren't special enough to break the rules.\n",
      "Although practicality beats purity.\n",
      "Errors should never pass silently.\n",
      "Unless explicitly silenced.\n",
      "In the face of ambiguity, refuse the temptation to guess.\n",
      "There should be one-- and preferably only one --obvious way to do it.\n",
      "Although that way may not be obvious at first unless you're Dutch.\n",
      "Now is better than never.\n",
      "Although never is often better than *right* now.\n",
      "If the implementation is hard to explain, it's a bad idea.\n",
      "If the implementation is easy to explain, it may be a good idea.\n",
      "Namespaces are one honking great idea -- let's do more of those!\n"
     ]
    }
   ],
   "source": [
    "##  sanity check\n",
    "import this\n"
   ]
  },
  {
   "cell_type": "markdown",
   "id": "e9e7fff8",
   "metadata": {},
   "source": [
    "---\n",
    "\n",
    "<hr width=\"82%\" style=\"border-top:2px dashed; border-bottom:none\"/>\n",
    "\n",
    "<hr width=\"64%\" style=\"border-top:1px dotted; border-bottom:none\"/>"
   ]
  },
  {
   "cell_type": "markdown",
   "id": "926156f0",
   "metadata": {},
   "source": [
    "<div style=\"page-break-after: always;\"/> \n",
    "<h2 id='1' style=\"display:none\">[1]*</h2>\n",
    "\n",
    ">   ---\n",
    ">   ## [1]*\n",
    ">\n",
    ">   At a particular moment, three charged particles are located as shown below.\n",
    ">\n",
    ">   <img loading='lazy' decoding='async' src=\"data:image/avif;base64,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\" />\n",
    ">\n",
    ">   $Q_1 = -5.5$ [µC], $Q_2 = 6.5$ [µC], $Q_3 = -8.0$ [µC]. \n",
    ">\n",
    ">   Your answers to the following should be vectors. \n",
    ">\n",
    ">   Recall that $1$ [µC] = $1 \\times 10^{-6}$ [C].\n",
    ">\n",
    ">   Assume that the $+x$-axis is to the right, the $+y$-axis is up along the\n",
    ">   page, and the $+z$-axis points out of the page. \n",
    ">\n",
    ">   Express your answers in vector form. \n",
    ">\n",
    ">   __<p align='right'>(10 points)</p>__\n",
    ">\n",
    ">   <hr width=\"82%\" style=\"border-top:1px dashed; border-bottom:none\"/>"
   ]
  },
  {
   "cell_type": "markdown",
   "id": "648063e6",
   "metadata": {},
   "source": [
    "<h3 id='1a' style=\"display:none\">(A)</h3>\n",
    "\n",
    ">   <hr width=\"82%\" style=\"border-bottom:2px dashed; border-top:none\"/>\n",
    ">\n",
    ">   ### &#x2e04;&hairsp;&#x00B9;&hairsp;&#x2E05;&hairsp;(A)\n",
    ">\n",
    ">   __Find the electric field at the location of $Q_3$, due to $Q_1$.__\n",
    ">\n",
    ">   &emsp;&emsp;&emsp;&emsp; $\\vec{E}_1 = \\left\\langle\\ \\fbox{\\hspace{4em}?},\\ \\fbox{\\hspace{4em}?},\\ \\fbox{\\hspace{4em}?}\\ \\right\\rangle\\ \\left[\\mathrm{N/C}\\right]$\n",
    ">\n",
    ">   <hr width=\"64%\" style=\"border-top:2px dotted; border-bottom:none\"/>"
   ]
  },
  {
   "cell_type": "code",
   "execution_count": null,
   "id": "a03df998",
   "metadata": {
    "vscode": {
     "languageId": "python"
    }
   },
   "outputs": [],
   "source": []
  },
  {
   "cell_type": "markdown",
   "id": "da11a226",
   "metadata": {},
   "source": [
    "<h3 id='1b' style=\"display:none\">(B)</h3>\n",
    "\n",
    ">   <hr width=\"82%\" style=\"border-bottom:2px dashed; border-top:none\"/>\n",
    ">\n",
    ">   ### &#x2e04;&hairsp;&#x00B9;&hairsp;&#x2E05;&hairsp;(B)\n",
    ">\n",
    ">   __Find the electric field at the location of $Q_3$, due to $Q_2$.__\n",
    ">\n",
    ">   &emsp;&emsp;&emsp;&emsp; $\\vec{E}_2 = \\left\\langle\\ \\fbox{\\hspace{4em}?},\\ \\fbox{\\hspace{4em}?},\\ \\fbox{\\hspace{4em}?}\\ \\right\\rangle\\ \\left[\\mathrm{N/C}\\right]$\n",
    ">   <hr width=\"64%\" style=\"border-top:2px dotted; border-bottom:none\"/>"
   ]
  },
  {
   "cell_type": "code",
   "execution_count": null,
   "id": "73654cf5",
   "metadata": {
    "vscode": {
     "languageId": "python"
    }
   },
   "outputs": [],
   "source": []
  },
  {
   "cell_type": "markdown",
   "id": "69522f4f",
   "metadata": {},
   "source": [
    "<h3 id='1c' style=\"display:none\">(C)</h3>\n",
    "\n",
    ">   <hr width=\"82%\" style=\"border-bottom:2px dashed; border-top:none\"/>\n",
    ">\n",
    ">   ### &#x2e04;&hairsp;&#x00B9;&hairsp;&#x2E05;&hairsp;(C)\n",
    ">\n",
    ">   __Find the net electric field at the location of $Q_3$.__\n",
    ">\n",
    ">   &emsp;&emsp;&emsp;&emsp; $\\vec{E}_\\mathrm{net} = \\left\\langle\\ \\fbox{\\hspace{4em}?},\\ \\fbox{\\hspace{4em}?},\\ \\fbox{\\hspace{4em}?}\\ \\right\\rangle\\ \\left[\\mathrm{N/C}\\right]$\n",
    ">   <hr width=\"64%\" style=\"border-top:2px dotted; border-bottom:none\"/>"
   ]
  },
  {
   "cell_type": "code",
   "execution_count": null,
   "id": "76346701",
   "metadata": {
    "vscode": {
     "languageId": "python"
    }
   },
   "outputs": [],
   "source": []
  },
  {
   "cell_type": "markdown",
   "id": "0c0e72d3",
   "metadata": {},
   "source": [
    "<h3 id='1d' style=\"display:none\">(D)</h3>\n",
    "\n",
    ">   <hr width=\"82%\" style=\"border-bottom:2px dashed; border-top:none\"/>\n",
    ">\n",
    ">   ### &#x2e04;&hairsp;&#x00B9;&hairsp;&#x2E05;&hairsp;(D)\n",
    ">\n",
    ">   __Find the net force on $Q_3$.__\n",
    ">\n",
    ">   &emsp;&emsp;&emsp;&emsp; $\\vec{F}_{\\mathrm{net,3}} = \\left\\langle\\ \\fbox{\\hspace{4em}?},\\ \\fbox{\\hspace{4em}?},\\ \\fbox{\\hspace{4em}?}\\ \\right\\rangle\\ \\left[\\mathrm{N}\\right]$\n",
    ">   <hr width=\"64%\" style=\"border-top:2px dotted; border-bottom:none\"/>"
   ]
  },
  {
   "cell_type": "code",
   "execution_count": null,
   "id": "561c00fe",
   "metadata": {
    "vscode": {
     "languageId": "python"
    }
   },
   "outputs": [],
   "source": []
  },
  {
   "cell_type": "markdown",
   "id": "0b9d43ac",
   "metadata": {},
   "source": [
    "<h3 id='1e' style=\"display:none\">(E)</h3>\n",
    "\n",
    ">   <hr width=\"82%\" style=\"border-bottom:2px dashed; border-top:none\"/>\n",
    ">\n",
    ">   ### &#x2e04;&hairsp;&#x00B9;&hairsp;&#x2E05;&hairsp;(E)\n",
    ">\n",
    ">   __Find the electric field at Location $A$ due to $Q_1$.__\n",
    ">\n",
    ">   &emsp;&emsp;&emsp;&emsp; $\\vec{E}_{1} = \\left\\langle\\ \\fbox{\\hspace{4em}?},\\ \\fbox{\\hspace{4em}?},\\ \\fbox{\\hspace{4em}?}\\ \\right\\rangle\\ \\left[\\mathrm{N/C}\\right]$\n",
    ">   <hr width=\"64%\" style=\"border-top:2px dotted; border-bottom:none\"/>"
   ]
  },
  {
   "cell_type": "code",
   "execution_count": null,
   "id": "e932922c",
   "metadata": {
    "vscode": {
     "languageId": "python"
    }
   },
   "outputs": [],
   "source": []
  },
  {
   "cell_type": "markdown",
   "id": "90b107ff",
   "metadata": {},
   "source": [
    "<h3 id='1f' style=\"display:none\">(F)</h3>\n",
    "\n",
    ">   <hr width=\"82%\" style=\"border-bottom:2px dashed; border-top:none\"/>\n",
    ">\n",
    ">   ### &#x2e04;&hairsp;&#x00B9;&hairsp;&#x2E05;&hairsp;(F)\n",
    ">\n",
    ">   __Find the electric field at Location $A$ due to $Q_2$.__\n",
    ">\n",
    ">   &emsp;&emsp;&emsp;&emsp; $\\vec{E}_{2} = \\left\\langle\\ \\fbox{\\hspace{4em}?},\\ \\fbox{\\hspace{4em}?},\\ \\fbox{\\hspace{4em}?}\\ \\right\\rangle\\ \\left[\\mathrm{N/C}\\right]$\n",
    ">   <hr width=\"64%\" style=\"border-top:2px dotted; border-bottom:none\"/>"
   ]
  },
  {
   "cell_type": "code",
   "execution_count": null,
   "id": "3b99c182",
   "metadata": {
    "vscode": {
     "languageId": "python"
    }
   },
   "outputs": [],
   "source": []
  },
  {
   "cell_type": "markdown",
   "id": "aebad99a",
   "metadata": {},
   "source": [
    "<h3 id='1g' style=\"display:none\">(G)</h3>\n",
    "\n",
    ">   <hr width=\"82%\" style=\"border-bottom:2px dashed; border-top:none\"/>\n",
    ">\n",
    ">   ### &#x2e04;&hairsp;&#x00B9;&hairsp;&#x2E05;&hairsp;(G)\n",
    ">\n",
    ">   __Find the electric field at Location $A$ due to $Q_3$.__\n",
    ">\n",
    ">   &emsp;&emsp;&emsp;&emsp; $\\vec{E}_{3} = \\left\\langle\\ \\fbox{\\hspace{4em}?},\\ \\fbox{\\hspace{4em}?},\\ \\fbox{\\hspace{4em}?}\\ \\right\\rangle\\ \\left[\\mathrm{N/C}\\right]$\n",
    ">   <hr width=\"64%\" style=\"border-top:2px dotted; border-bottom:none\"/>"
   ]
  },
  {
   "cell_type": "code",
   "execution_count": null,
   "id": "6a7ac747",
   "metadata": {
    "vscode": {
     "languageId": "python"
    }
   },
   "outputs": [],
   "source": []
  },
  {
   "cell_type": "markdown",
   "id": "aacefccf",
   "metadata": {},
   "source": [
    "<h3 id='1h' style=\"display:none\">(H)</h3>\n",
    "\n",
    ">   <hr width=\"82%\" style=\"border-bottom:2px dashed; border-top:none\"/>\n",
    ">\n",
    ">   ### &#x2e04;&hairsp;&#x00B9;&hairsp;&#x2E05;&hairsp;(H)\n",
    ">\n",
    ">   __What is the net the electric field at Location $A$?__\n",
    ">\n",
    ">   &emsp;&emsp;&emsp;&emsp; $\\vec{E}_{A} = \\left\\langle\\ \\fbox{\\hspace{4em}?},\\ \\fbox{\\hspace{4em}?},\\ \\fbox{\\hspace{4em}?}\\ \\right\\rangle\\ \\left[\\mathrm{N/C}\\right]$\n",
    ">   <hr width=\"64%\" style=\"border-top:2px dotted; border-bottom:none\"/>"
   ]
  },
  {
   "cell_type": "code",
   "execution_count": null,
   "id": "dc418ad2",
   "metadata": {
    "vscode": {
     "languageId": "python"
    }
   },
   "outputs": [],
   "source": []
  },
  {
   "cell_type": "markdown",
   "id": "afea1263",
   "metadata": {},
   "source": [
    "<h3 id='1i' style=\"display:none\">(I)</h3>\n",
    "\n",
    ">   <hr width=\"82%\" style=\"border-bottom:2px dashed; border-top:none\"/>\n",
    ">\n",
    ">   ### &#x2e04;&hairsp;&#x00B9;&hairsp;&#x2E05;&hairsp;(I)\n",
    ">\n",
    ">   If a particle with charge $-6$ [nC] were placed at location $A$,\n",
    ">   __what would be the force on this particle?__\n",
    ">\n",
    ">   &emsp;&emsp;&emsp;&emsp; $\\vec{F}_{\\textrm{on}\\ A} = \\left\\langle\\ \\fbox{\\hspace{4em}?},\\ \\fbox{\\hspace{4em}?},\\ \\fbox{\\hspace{4em}?}\\ \\right\\rangle\\ \\left[\\mathrm{N}\\right]$\n",
    ">   <hr width=\"64%\" style=\"border-top:2px dotted; border-bottom:none\"/>"
   ]
  },
  {
   "cell_type": "code",
   "execution_count": null,
   "id": "5f610269",
   "metadata": {
    "vscode": {
     "languageId": "python"
    }
   },
   "outputs": [],
   "source": []
  },
  {
   "cell_type": "markdown",
   "id": "adc99c4f",
   "metadata": {},
   "source": [
    "<div style=\"page-break-after: always;\"/> \n",
    "<h2 id='2' style=\"display:none\">[2]*</h2>\n",
    "\n",
    ">   ---\n",
    ">   ## [2]*\n",
    ">\n",
    ">   An $\\mathrm{Fe^{3+}}$ ion is located $400$ [nm] ($400 \\times 10^{-9}$ [m], \n",
    ">   about 4000 atomic diameters), from a $\\mathrm{Cl^-}$ ion, as shown in the \n",
    ">   figure below (ions not shown to scale).\n",
    ">\n",
    ">   <img loading='lazy' decoding='async' src=\"data:image/avif;base64,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\" />\n",
    ">\n",
    ">   __<p align='right'>(10 points)</p>__\n",
    ">\n",
    ">   <hr width=\"82%\" style=\"border-top:1px dashed; border-bottom:none\"/>"
   ]
  },
  {
   "cell_type": "markdown",
   "id": "9e768658",
   "metadata": {},
   "source": [
    "<h3 id='2a' style=\"display:none\">(A)</h3>\n",
    "\n",
    ">   <hr width=\"82%\" style=\"border-bottom:2px dashed; border-top:none\"/>\n",
    ">\n",
    ">   ### &#x2e04;&hairsp;&#x00B2;&hairsp;&#x2E05;&hairsp;(A)\n",
    ">\n",
    ">   __Determine the magnitude and direction of the electric field $\\vec{E}_A$ at\n",
    ">   location $A$,__ $r=115$ [nm] to the __left__ of the $\\mathrm{Cl^-}$ ion.\n",
    ">\n",
    ">   &emsp;&emsp;&emsp;&emsp; $\\textrm{magnitude} = \\fbox{\\hspace{8em}?}\\ \\left[\\mathrm{N/C}\\right]$\n",
    ">\n",
    ">   $\\textrm{direction} =$ \n",
    ">\n",
    ">   (select one:)\n",
    ">\n",
    ">   - [ ]   to the right\n",
    ">\n",
    ">   <hr width=\"64%\" style=\"border-top:2px dotted; border-bottom:none\"/>"
   ]
  },
  {
   "cell_type": "code",
   "execution_count": null,
   "id": "de2e1c2c",
   "metadata": {
    "vscode": {
     "languageId": "python"
    }
   },
   "outputs": [],
   "source": []
  },
  {
   "cell_type": "markdown",
   "id": "687128ff",
   "metadata": {},
   "source": [
    "- [x]   to the right"
   ]
  },
  {
   "cell_type": "markdown",
   "id": "b408be65",
   "metadata": {},
   "source": [
    "<h3 id='2b' style=\"display:none\">(B)</h3>\n",
    "\n",
    ">   <hr width=\"82%\" style=\"border-bottom:2px dashed; border-top:none\"/>\n",
    ">\n",
    ">   ### &#x2e04;&hairsp;&#x00B2;&hairsp;&#x2E05;&hairsp;(B)\n",
    ">\n",
    ">   __Determine the magnitude and direction of the electric field $\\vec{E}_B$ at\n",
    ">   location $B$__, $r=115$ [nm] to the __right__ of the $\\mathrm{Cl^-}$ ion.\n",
    ">\n",
    ">   &emsp;&emsp;&emsp;&emsp; $\\textrm{magnitude} = \\fbox{\\hspace{8em}?}\\ \\left[\\mathrm{N/C}\\right]$\n",
    ">\n",
    ">   &emsp;&emsp;&emsp;&emsp; $\\textrm{direction} =$ \n",
    ">   \n",
    ">   (select one:)\n",
    ">\n",
    ">   - [ ]   to the left\n",
    ">\n",
    ">   <hr width=\"64%\" style=\"border-top:2px dotted; border-bottom:none\"/>"
   ]
  },
  {
   "cell_type": "code",
   "execution_count": null,
   "id": "6a8cbb19",
   "metadata": {
    "vscode": {
     "languageId": "python"
    }
   },
   "outputs": [],
   "source": []
  },
  {
   "cell_type": "markdown",
   "id": "6d83369e",
   "metadata": {},
   "source": [
    "- [x]   to the left"
   ]
  },
  {
   "cell_type": "markdown",
   "id": "b68877ea",
   "metadata": {},
   "source": [
    "<h3 id='2c' style=\"display:none\">(C)</h3>\n",
    "\n",
    ">   <hr width=\"82%\" style=\"border-bottom:2px dashed; border-top:none\"/>\n",
    ">\n",
    ">   ### &#x2e04;&hairsp;&#x00B2;&hairsp;&#x2E05;&hairsp;(C)\n",
    ">\n",
    ">   If an electron is placed at Location $A$, \n",
    ">   __what are the magnitude and direction of the force on this electron?__\n",
    ">\n",
    ">   &emsp;&emsp;&emsp;&emsp; $\\textrm{magnitude} = \\fbox{\\hspace{8em}?}\\ \\left[\\mathrm{N}\\right]$\n",
    ">\n",
    ">   &emsp;&emsp;&emsp;&emsp; $\\textrm{direction} =$ \n",
    ">   \n",
    ">   (select one:)\n",
    ">\n",
    ">   - [ ]   to the left\n",
    ">\n",
    ">   <hr width=\"64%\" style=\"border-top:2px dotted; border-bottom:none\"/>"
   ]
  },
  {
   "cell_type": "code",
   "execution_count": null,
   "id": "2246c24c",
   "metadata": {
    "vscode": {
     "languageId": "python"
    }
   },
   "outputs": [],
   "source": []
  },
  {
   "cell_type": "markdown",
   "id": "f5811352",
   "metadata": {},
   "source": [
    "- [x]   to the left"
   ]
  },
  {
   "cell_type": "markdown",
   "id": "b1837ef7",
   "metadata": {},
   "source": [
    "<div style=\"page-break-after: always;\"/> \n",
    "<h2 id='3' style=\"display:none\">[3]*</h2>\n",
    "\n",
    ">   ---\n",
    ">   ## [3]*\n",
    ">\n",
    ">   A plastic rod $1.6$ [m] long is rubbed all over with wool, and acquires a \n",
    ">   charge of $-8\\mathrm{e}^-8$ coulombs.\n",
    ">\n",
    ">   We choose the center of the rod to be the origin of our coordinate system, \n",
    ">   with the $x$-axis extending to the right, the $y$-axis extending up, and the \n",
    ">   $z$-axis out of the page. \n",
    ">\n",
    ">   In order to calculate the electric field at location $A = \\langle\\ 0.7, 0, 0\\ \\rangle$ [m],\n",
    ">   we divide the rod into 8 pieces, and approximate each piece as a point charge\n",
    ">   located at the center of the piece.\n",
    ">\n",
    ">   <img loading='lazy' decoding='async' src=\"data:image/avif;base64,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\" />\n",
    ">\n",
    ">   __<p align='right'>(10 points)</p>__\n",
    ">\n",
    ">   <hr width=\"82%\" style=\"border-top:1px dashed; border-bottom:none\"/>"
   ]
  },
  {
   "cell_type": "markdown",
   "id": "59e05eea",
   "metadata": {},
   "source": [
    "<h3 id='3a' style=\"display:none\">(A)</h3>\n",
    "\n",
    ">   <hr width=\"82%\" style=\"border-bottom:2px dashed; border-top:none\"/>\n",
    ">\n",
    ">   ### &#x2e04;&hairsp;&#x00B2;&hairsp;&#x2E05;&hairsp;(A)\n",
    ">\n",
    ">   __What is the length of one of these pieces?__\n",
    ">\n",
    ">   &nbsp;&nbsp;&nbsp;&nbsp; $\\fbox{\\hspace{8em}?}\\ \\left[\\mathrm{m}\\right]$\n",
    ">\n",
    ">   <hr width=\"64%\" style=\"border-top:2px dotted; border-bottom:none\"/>"
   ]
  },
  {
   "cell_type": "code",
   "execution_count": null,
   "id": "ab7ac63c",
   "metadata": {
    "vscode": {
     "languageId": "python"
    }
   },
   "outputs": [],
   "source": []
  },
  {
   "cell_type": "markdown",
   "id": "a9843027",
   "metadata": {},
   "source": [
    "<h3 id='3b' style=\"display:none\">(B)</h3>\n",
    "\n",
    ">   <hr width=\"82%\" style=\"border-bottom:2px dashed; border-top:none\"/>\n",
    ">\n",
    ">   ### &#x2e04;&hairsp;&#x00B2;&hairsp;&#x2E05;&hairsp;(B)\n",
    ">\n",
    ">   __What is the location of the center of piece number 5?__\n",
    ">\n",
    ">   &emsp;&emsp;&emsp;&emsp; $\\left\\langle\\ \\fbox{\\hspace{4em}?},\\ \\fbox{\\hspace{4em}?},\\ \\fbox{\\hspace{4em}?}\\ \\right\\rangle\\ \\left[\\mathrm{m}\\right]$\n",
    ">\n",
    ">   <hr width=\"64%\" style=\"border-top:2px dotted; border-bottom:none\"/>"
   ]
  },
  {
   "cell_type": "code",
   "execution_count": null,
   "id": "fda1af35",
   "metadata": {
    "vscode": {
     "languageId": "python"
    }
   },
   "outputs": [],
   "source": []
  },
  {
   "cell_type": "markdown",
   "id": "0d32ee07",
   "metadata": {},
   "source": [
    "<h3 id='3c' style=\"display:none\">(C)</h3>\n",
    "\n",
    ">   <hr width=\"82%\" style=\"border-bottom:2px dashed; border-top:none\"/>\n",
    ">\n",
    ">   ### &#x2e04;&hairsp;&#x00B2;&hairsp;&#x2E05;&hairsp;(C)\n",
    ">\n",
    ">   __How much charge is on piece number 5?__\n",
    ">   (Remember that the charge is negative).\n",
    ">\n",
    ">   &nbsp;&nbsp;&nbsp;&nbsp; $\\fbox{\\hspace{8em}?}\\ \\left[\\mathrm{coulombs}\\right]$\n",
    ">\n",
    ">   <hr width=\"64%\" style=\"border-top:2px dotted; border-bottom:none\"/>"
   ]
  },
  {
   "cell_type": "code",
   "execution_count": null,
   "id": "8d4d1608",
   "metadata": {
    "vscode": {
     "languageId": "python"
    }
   },
   "outputs": [],
   "source": []
  },
  {
   "cell_type": "markdown",
   "id": "cf38c395",
   "metadata": {},
   "source": [
    "<h3 id='3d' style=\"display:none\">(D)</h3>\n",
    "\n",
    ">   <hr width=\"82%\" style=\"border-bottom:2px dashed; border-top:none\"/>\n",
    ">\n",
    ">   ### &#x2e04;&hairsp;&#x00B2;&hairsp;&#x2E05;&hairsp;(D)\n",
    ">\n",
    ">   Approximating piece number 5 as a point charge, __what is the electric field\n",
    ">   at location $A$,__ due only to piece 5?\n",
    ">\n",
    ">   &emsp;&emsp;&emsp;&emsp; $\\vec{E}_5 = \\left\\langle\\ \\fbox{\\hspace{4em}?},\\ \\fbox{\\hspace{4em}?},\\ \\fbox{\\hspace{4em}?}\\ \\right\\rangle\\ \\left[\\mathrm{m}\\right]$\n",
    ">\n",
    ">   <hr width=\"64%\" style=\"border-top:2px dotted; border-bottom:none\"/>"
   ]
  },
  {
   "cell_type": "code",
   "execution_count": null,
   "id": "905f93ac",
   "metadata": {
    "vscode": {
     "languageId": "python"
    }
   },
   "outputs": [],
   "source": []
  },
  {
   "cell_type": "markdown",
   "id": "b3ef7b56",
   "metadata": {},
   "source": [
    "<h3 id='3e' style=\"display:none\">(E)</h3>\n",
    "\n",
    ">   <hr width=\"82%\" style=\"border-bottom:2px dashed; border-top:none\"/>\n",
    ">\n",
    ">   ### &#x2e04;&hairsp;&#x00B2;&hairsp;&#x2E05;&hairsp;(E)\n",
    ">\n",
    ">   To get the net electric field at location $A$, we would need to calculate\n",
    ">   the field due to each of the 8 pieces, and sum up these contributions.\n",
    ">\n",
    ">   If we did that, __which arrow above would best represent the direction of\n",
    ">   the net electric field at location $A$?__\n",
    ">\n",
    ">   |   |   |   |\n",
    ">   |:---:|:---:|:---:|\n",
    ">   | 🔲 h | 🔲 a | 🔲 b |\n",
    ">   | 🔲 g | &emsp; | 🔲 c |\n",
    ">   | 🔲 f | 🔲 e | 🔲 d |\n",
    ">\n",
    ">   &emsp; 🔲 j - zero magnitude\n",
    ">\n",
    ">   <hr width=\"64%\" style=\"border-top:2px dotted; border-bottom:none\"/>"
   ]
  },
  {
   "cell_type": "markdown",
   "id": "95fd158d",
   "metadata": {},
   "source": [
    "- [x] g"
   ]
  },
  {
   "cell_type": "markdown",
   "id": "f6f24308",
   "metadata": {},
   "source": [
    "<div style=\"page-break-after: always;\"/> \n",
    "<h2 id='4' style=\"display:none\">[4]</h2>\n",
    "\n",
    ">   ---\n",
    ">   ## [4]\n",
    ">\n",
    ">   An electrostatic dust precipitator that is installed in a factory smokestack\n",
    ">   includes a straight metal wire of length $L = 0.8$ [m], that is charged with\n",
    ">   approximately uniformly with a total charge $Q = 0.2 \\times 10^{-7}$ [C].\n",
    ">\n",
    ">   A speck of coal dust (which is mostly carbon) is near the wire, and far from\n",
    ">   both ends of the wire; the distance from the wire to the speck is $d = 1.4$ \n",
    ">   [cm]. Carbon has an atomic mass of 12 (6 protons and 6 neutrons in the \n",
    ">   nucleus). A careful measurement of the polarizability of a carbon atom gives\n",
    ">   the value $\\alpha = 1.96 \\times 10^{-40}$ [(C⋅m)/(N/C)]. \n",
    ">\n",
    ">   __<p align='right'>(0.1 points)</p>__\n",
    ">\n",
    ">   <hr width=\"82%\" style=\"border-top:1px dashed; border-bottom:none\"/>"
   ]
  },
  {
   "cell_type": "markdown",
   "id": "8428803d",
   "metadata": {},
   "source": [
    "<h3 id='4a' style=\"display:none\">(A)</h3>\n",
    "\n",
    ">   <hr width=\"82%\" style=\"border-bottom:2px dashed; border-top:none\"/>\n",
    ">   \n",
    ">   ### &#x2e04;&hairsp;&#x2074;&hairsp;&#x2E05;&hairsp;(A)\n",
    ">\n",
    ">   __Calculate the initial acceleration of the speck of coal dust, \n",
    ">   neglecting gravity.__\n",
    ">\n",
    ">   Your answer must be expressed in terms of $Q$, $L$, $d$, and $\\alpha$.\n",
    ">   You can use other quantities in your calculations, but your final result\n",
    ">   must not include them. \n",
    ">\n",
    ">   It is convenient to use the \"binomial expansion\", that you may have learned\n",
    ">   in calculus, that $(1 + \\epsilon)^n \\approx 1 + n\\epsilon$, if $\\epsilon \\ll 1$.\n",
    ">   Note that $n$ can be negative. \n",
    ">\n",
    ">   <hr width=\"64%\" style=\"border-top:2px dotted; border-bottom:none\"/>"
   ]
  },
  {
   "cell_type": "markdown",
   "id": "e4fbe26a",
   "metadata": {},
   "source": [
    "<h4 id='4a_i' style=\"display:none\">{A.ⅰ}</h4>\n",
    "\n",
    ">   <hr width=\"64%\" style=\"border-top:1px dotted; border-bottom:none\"/>\n",
    ">   \n",
    ">   #### &#x2e04;&hairsp;&#x2074;&hairsp;&#x2E05;&hairsp;{A.ⅰ}\n",
    ">\n",
    ">   __Algebraically express the magnitude of the acceleration $a$.__\n",
    ">\n",
    ">   Use the following as necessary: $Q$, $L$, $d$, $\\alpha$, $\\epsilon_0$, and\n",
    ">   $m$ for the mass of a carbon atom. Use the binomial expansion in your answer.\n",
    ">\n",
    ">   (select one:)\n",
    ">\n",
    ">   - [ ] &nbsp; $a = \\left(\\frac{1}{4\\pi\\epsilon_0}\\right)^2 \\frac{4 Q^2 \\alpha}{m L^2 d^3}$\n",
    ">\n",
    ">   - [ ] &nbsp; $a = \\left(\\frac{1}{4\\pi\\epsilon_0}\\right)^2 \\frac{Q^2 \\alpha}{m L^2 d^3}$\n",
    ">\n",
    ">   - [ ] &nbsp; $a = \\left(\\frac{1}{4\\pi\\epsilon_0}\\right)^2 \\frac{4 Q^2 \\alpha}{m L^3 d^2}$\n",
    ">\n",
    ">   - [ ] &nbsp; $a = \\left(\\frac{1}{4\\pi\\epsilon_0}\\right)^2 \\frac{Q^2 \\alpha}{m L^3 d^2}$\n",
    ">\n",
    ">\n",
    ">   <hr width=\"64%\" style=\"border-top:1px dotted; border-bottom:none\"/>"
   ]
  },
  {
   "cell_type": "markdown",
   "id": "7e56553e",
   "metadata": {},
   "source": []
  },
  {
   "cell_type": "markdown",
   "id": "754d43e7",
   "metadata": {},
   "source": [
    "<h4 id='4a_ii' style=\"display:none\">{A.ⅱ}</h4>\n",
    "\n",
    ">   <hr width=\"64%\" style=\"border-top:1px dotted; border-bottom:none\"/>\n",
    ">   \n",
    ">   #### &#x2e04;&hairsp;&#x2074;&hairsp;&#x2E05;&hairsp;{A.ⅱ}\n",
    ">\n",
    ">   __Calculate the initial acceleration of the speck of coal dust, neglecting\n",
    ">   gravity.__\n",
    ">\n",
    ">   Don't put numbers into your calculation until the very end, but then show\n",
    ">   the numerical calculation that you carry out on your calculator.\n",
    ">\n",
    ">   (Enter the magnitude:)\n",
    ">\n",
    ">   &nbsp;&nbsp;&nbsp;&nbsp; $\\fbox{\\hspace{8em}?}\\ \\left[\\mathrm{m / s^2}\\right]$\n",
    ">\n",
    ">   <hr width=\"64%\" style=\"border-top:1px dotted; border-bottom:none\"/>"
   ]
  },
  {
   "cell_type": "code",
   "execution_count": null,
   "id": "c6cf1e78",
   "metadata": {
    "vscode": {
     "languageId": "python"
    }
   },
   "outputs": [],
   "source": []
  },
  {
   "cell_type": "markdown",
   "id": "656e8235",
   "metadata": {},
   "source": [
    "<h3 id='10b' style=\"display:none\">(B)</h3>\n",
    "\n",
    ">   <hr width=\"82%\" style=\"border-bottom:2px dashed; border-top:none\"/>\n",
    ">   \n",
    ">   ### &#x2e04;&hairsp;&#x00B9;&#x2070;&hairsp;&#x2E05;&hairsp;(B)\n",
    ">\n",
    ">   If the speck of coal dust were initially five times as far from the charged\n",
    ">   wire, __how much smaller would the initial acceleration of the speck be?__\n",
    ">\n",
    ">   &nbsp;&nbsp;&nbsp;&nbsp; $\\frac{a_{5d}}{a_d} = \\fbox{\\hspace{8em}?}$\n",
    ">\n",
    ">   <hr width=\"64%\" style=\"border-top:2px dotted; border-bottom:none\"/>"
   ]
  },
  {
   "cell_type": "code",
   "execution_count": null,
   "id": "11dace04",
   "metadata": {
    "vscode": {
     "languageId": "python"
    }
   },
   "outputs": [],
   "source": []
  },
  {
   "cell_type": "markdown",
   "id": "167c55ef",
   "metadata": {},
   "source": [
    "<div style=\"page-break-after: always;\"/> \n",
    "<h2 id='5' style=\"display:none\">[5]*</h2>\n",
    "\n",
    ">   ---\n",
    ">   ## [5]*\n",
    ">\n",
    ">   A strip of invisible tape, $0.19$ [m] long by $0.015$ [m] wide, is uniformly\n",
    ">   charged with a total net charge of $4$ [nC] (nano `n` = $1 \\times 10^{-9}$);\n",
    ">   and is suspended horizontally so it lies along the $x$-axis, with its center\n",
    ">   at the origin (as shown in the figure below). \n",
    ">\n",
    ">   <img loading='lazy' decoding='async' src=\"data:image/avif;base64,AAAAHGZ0eXBhdmlmAAAAAGF2aWZtaWYxbWlhZgAAANZtZXRhAAAAAAAAACFoZGxyAAAAAAAAAABwaWN0AAAAAAAAAAAAAAAAAAAAAA5waXRtAAAAAAABAAAAImlsb2MAAAAAREAAAQABAAAAAAD6AAEAAAAAAAADnQAAACNpaW5mAAAAAAABAAAAFWluZmUCAAAAAAEAAGF2MDEAAAAAVmlwcnAAAAA4aXBjbwAAAAxhdjFDgQAMAAAAABRpc3BlAAAAAAAAAjkAAADmAAAAEHBpeGkAAAAAAwgICAAAABZpcG1hAAAAAAAAAAEAAQOBAgMAAAOlbWRhdBIACgoYJeOOVggIaDQgMowHEyAKaaaRQLSBqoIH173rwl7Ph04sad1zgTpS60/SaMIerqQJ4X4+J8QVa1iypMIMYLtRFdXPY7lvb5Me/9wz6GMNSe1GZ1wRdA4GR0MATvNqUyGWFpbaCPc0gjTFcrK9xUW0xFaDqgBUjiSPJsYCndvHaTDogNJD7PTQIZ+IXKe3yON9dmApj504XNNpeLbIVI+VoGdRffV9b10fYJCtOi4SunUkCAGuRO/dEJIoIECZ/R/LHgI6xSPMcErU/OotZX6Fr8Q+ixk6tr+InQKCQg0eOTEzcOX3hEkC3NrE0aY8WVzQmTPzzU75WeGZGtwNqwx359J53Nto8mAHaqEL5z8ejTGH3CMqnF4jD4PNYQhI8DRkIuj8Y0AUOr81/B361eyjd8zyU83Je8UgH8Lcau2awVy8zcIT0JVIxnBL7CIc2/GzYMv1w5OIJRQUWwZPuCh4S3+k1cRwL4PNpWUOu9kv1O3xNP7YwnZEmueMF0cxRTus+MWrsW93J8AF2ZoZjA2hT0LkLRcvSo+V1BZs+D/XMlpaSGua9YeE4/4SnsjM0Xes73p8E/uTzMCmOrHXpey7uy5damkJfvtEfzC2Dxom1Y1M/sH3f+sJ6HGARHMFbGuQVsshohwIqWFv4rzkg9vzz+Y2EBN3fPw/BbwMq+LtHvd/YK/rBhyKJ3RtkOcS+TG2sVKK5fQIwscM3PZ6MOZDWJunbf+Ub9Fd1RgTHDJC+J03P1g7Wr6QS+9+jeLsztILAvqIo+uH/V0DyC8FPJ0xu49kM7DY5Eq3EFxApzk1JELqWUlRn7uVt6QrmH+V+0FaUTiFioouYbH4NuFIQUFGcqzRsCcOU42qY19xEgOeKG1nKqEQLglRwL1BO9xZBWCsXoXHCf7XMzmSmyfOUtG+3TbUyUzl6/iF8q9poMWE6LV4WAEpxJKnAJBtHkZXhSdZej8MDMpuT7/ax+ipyB3mgU/mDUQsMp+q1yOFQzIuNIasPyBmSGL/HneImOesBJuYmEtjY79odhVF13MME0b6pgUnKBnm28aLkuHv6++toi63q5yfl1aehLFPJe9VB49kcA97Ta6VkLQgJmk9ArKp8PWDvbJQEOUJp7BQyDg7TplZzA+aUtKnPgmZKehLJA1UhLEp8lxTtSYomxk3weyd9oZbPoccgOcj2rU7iCBbhnnzShuHweOUIBkYLp7NLNF/M0kl8YoUZiA=\" />\n",
    ">\n",
    ">   Calculate the approximate electric field at location A, \n",
    ">   $\\left\\langle\\ 0, 0.02, 0\\right\\rangle$ [m], due to the strip of tape. \n",
    ">\n",
    ">   Do this by dividing the strip into three equal sections, as in the figure \n",
    ">   above, and approximating each section as a point charge. (Assume each point\n",
    ">   charge is located at the center of the section it approximates.)\n",
    ">\n",
    ">   Express your answers in vector form. \n",
    ">\n",
    ">   __<p align='right'>(10 points)</p>__\n",
    ">\n",
    ">   <hr width=\"82%\" style=\"border-top:1px dashed; border-bottom:none\"/>"
   ]
  },
  {
   "cell_type": "markdown",
   "id": "3a2d9d13",
   "metadata": {},
   "source": [
    "<h3 id='5a' style=\"display:none\">(A)</h3>\n",
    "\n",
    ">   <hr width=\"82%\" style=\"border-bottom:2px dashed; border-top:none\"/>\n",
    ">   \n",
    ">   ### &#x2e04;&hairsp;&#x2075;&hairsp;&#x2E05;&hairsp;(A)\n",
    ">\n",
    ">   __What is the approximate electric field at $A$, due to piece 1?__\n",
    ">\n",
    ">   &nbsp;&nbsp;&nbsp;&nbsp; $\\vec{E}_1 =  \\left\\langle\\ \\fbox{\\hspace{4em}?},\\ \\fbox{\\hspace{4em}?},\\ \\fbox{\\hspace{4em}?}\\ \\right\\rangle \\left[\\mathrm{N/C}\\right]$\n",
    ">\n",
    ">   <hr width=\"64%\" style=\"border-top:2px dotted; border-bottom:none\"/>"
   ]
  },
  {
   "cell_type": "code",
   "execution_count": null,
   "id": "ceb99013",
   "metadata": {
    "vscode": {
     "languageId": "python"
    }
   },
   "outputs": [],
   "source": []
  },
  {
   "cell_type": "markdown",
   "id": "56e63856",
   "metadata": {},
   "source": [
    "<h3 id='5b' style=\"display:none\">(B)</h3>\n",
    "\n",
    ">   <hr width=\"82%\" style=\"border-bottom:2px dashed; border-top:none\"/>\n",
    ">   \n",
    ">   ### &#x2e04;&hairsp;&#x2075;&hairsp;&#x2E05;&hairsp;(B)\n",
    ">\n",
    ">   __What is the approximate electric field at $A$, due to piece 2?__\n",
    ">\n",
    ">   &nbsp;&nbsp;&nbsp;&nbsp; $\\vec{E}_2 =  \\left\\langle\\ \\fbox{\\hspace{4em}?},\\ \\fbox{\\hspace{4em}?},\\ \\fbox{\\hspace{4em}?}\\ \\right\\rangle \\left[\\mathrm{N/C}\\right]$\n",
    ">\n",
    ">   <hr width=\"64%\" style=\"border-top:2px dotted; border-bottom:none\"/>"
   ]
  },
  {
   "cell_type": "code",
   "execution_count": null,
   "id": "99f7d186",
   "metadata": {
    "vscode": {
     "languageId": "python"
    }
   },
   "outputs": [],
   "source": []
  },
  {
   "cell_type": "markdown",
   "id": "c51f97ac",
   "metadata": {},
   "source": [
    "<h3 id='5c' style=\"display:none\">(C)</h3>\n",
    "\n",
    ">   <hr width=\"82%\" style=\"border-bottom:2px dashed; border-top:none\"/>\n",
    ">   \n",
    ">   ### &#x2e04;&hairsp;&#x2075;&hairsp;&#x2E05;&hairsp;(C)\n",
    ">\n",
    ">   __What is the approximate electric field at $A$, due to piece 3?__\n",
    ">\n",
    ">   &nbsp;&nbsp;&nbsp;&nbsp; $\\vec{E}_3 =  \\left\\langle\\ \\fbox{\\hspace{4em}?},\\ \\fbox{\\hspace{4em}?},\\ \\fbox{\\hspace{4em}?}\\ \\right\\rangle \\left[\\mathrm{N/C}\\right]$\n",
    ">\n",
    ">   <hr width=\"64%\" style=\"border-top:2px dotted; border-bottom:none\"/>"
   ]
  },
  {
   "cell_type": "code",
   "execution_count": null,
   "id": "af830c3c",
   "metadata": {
    "vscode": {
     "languageId": "python"
    }
   },
   "outputs": [],
   "source": []
  },
  {
   "cell_type": "markdown",
   "id": "04ae5007",
   "metadata": {},
   "source": [
    "<h3 id='5d' style=\"display:none\">(D)</h3>\n",
    "\n",
    ">   <hr width=\"82%\" style=\"border-bottom:2px dashed; border-top:none\"/>\n",
    ">   \n",
    ">   ### &#x2e04;&hairsp;&#x2075;&hairsp;&#x2E05;&hairsp;(D)\n",
    ">\n",
    ">   __What is the approximate _net_ electric field at $A$?__\n",
    ">\n",
    ">   &nbsp;&nbsp;&nbsp;&nbsp; $\\vec{E}_3 =  \\left\\langle\\ \\fbox{\\hspace{4em}?},\\ \\fbox{\\hspace{4em}?},\\ \\fbox{\\hspace{4em}?}\\ \\right\\rangle \\left[\\mathrm{N/C}\\right]$\n",
    ">\n",
    ">   <hr width=\"64%\" style=\"border-top:2px dotted; border-bottom:none\"/>"
   ]
  },
  {
   "cell_type": "code",
   "execution_count": null,
   "id": "1de1d520",
   "metadata": {
    "vscode": {
     "languageId": "python"
    }
   },
   "outputs": [],
   "source": []
  },
  {
   "cell_type": "markdown",
   "id": "f4b39c8f",
   "metadata": {},
   "source": [
    "<h3 id='5e' style=\"display:none\">(E)</h3>\n",
    "\n",
    ">   <hr width=\"82%\" style=\"border-bottom:2px dashed; border-top:none\"/>\n",
    ">   \n",
    ">   ### &#x2e04;&hairsp;&#x2075;&hairsp;&#x2E05;&hairsp;(E)\n",
    ">\n",
    ">   __What could you do to improve the accuracy of your calculations?__\n",
    ">\n",
    ">   (select one:)\n",
    ">\n",
    ">   - [ ] &nbsp; Use a _larger_ charge for piece 2, than for pieces 1 and 3:\n",
    ">                since location $A$ is closest to piece 2, this piece has the \n",
    ">                most significant contribution. \n",
    ">\n",
    ">   - [ ] &nbsp; Use more sections: as the number of segments approaches infinity,\n",
    ">                the summation of the electric fields approximates the actual \n",
    ">                electric field. \n",
    ">\n",
    ">   - [ ] &nbsp; Use a _smaller_ charge for piece 2, than for pieces 1 and 3:\n",
    ">                the actual electric field is similar to that of a dipole, \n",
    ">                with most of the charge on the tape at the left or right ends.\n",
    ">\n",
    ">   - [ ] &nbsp; Use just two sections: due to symmetry about the $y$-axis, \n",
    ">                the components of the field due to each charge will be half of\n",
    ">                the total electric field. \n",
    ">\n",
    ">\n",
    ">   <hr width=\"64%\" style=\"border-top:2px dotted; border-bottom:none\"/>"
   ]
  },
  {
   "cell_type": "markdown",
   "id": "e53c6d42",
   "metadata": {},
   "source": [
    "- [x] &nbsp; Use more sections: as the number of segments approaches infinity,\n",
    "             the summation of the electric fields approximates the actual \n",
    "             electric field. "
   ]
  },
  {
   "cell_type": "markdown",
   "id": "d37e9fb4",
   "metadata": {},
   "source": [
    "<div style=\"page-break-after: always;\"/> \n",
    "<h2 id='6' style=\"display:none\">[6]</h2>\n",
    "\n",
    ">   ---\n",
    ">   ## [6]\n",
    ">\n",
    ">   For a disk of radius $R = 24$ [cm] and charge $Q = 5 \\times 10^{-6}$ [C],\n",
    ">   calculate the electric field $4$ [cm] from the center of the disk using all\n",
    ">   three formulas below.\n",
    ">\n",
    ">   Note: $\\epsilon_0 = 8.85\\mathrm{e}^-12$ [C²/(N⋅m²)]\n",
    ">\n",
    ">   <img loading='lazy' decoding='async' src=\"data:image/avif;base64,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\" />\n",
    ">\n",
    ">   __<p align='right'>(0.1 points)</p>__\n",
    ">\n",
    ">   <hr width=\"82%\" style=\"border-top:1px dashed; border-bottom:none\"/>"
   ]
  },
  {
   "cell_type": "markdown",
   "id": "57184f0a",
   "metadata": {},
   "source": [
    "<h3 id='6a' style=\"display:none\">(A)</h3>\n",
    "\n",
    ">   <hr width=\"82%\" style=\"border-bottom:2px dashed; border-top:none\"/>\n",
    ">   \n",
    ">   ### &#x2e04;&hairsp;&#x2076;&hairsp;&#x2E05;&hairsp;(A)\n",
    ">\n",
    ">   __Most accurate approximation:__ \n",
    ">   $E = \\frac{Q/A}{2\\epsilon_0}\\left[ 1 - \\frac{z}{(R^2 + z^2)^{1/2} }\\right]$\n",
    ">\n",
    ">   &nbsp;&nbsp;&nbsp;&nbsp; $\\fbox{\\hspace{8em}?}$&emsp;[N/C]\n",
    ">\n",
    ">   <hr width=\"64%\" style=\"border-top:2px dotted; border-bottom:none\"/>"
   ]
  },
  {
   "cell_type": "code",
   "execution_count": null,
   "id": "50f24e0b",
   "metadata": {
    "vscode": {
     "languageId": "python"
    }
   },
   "outputs": [],
   "source": []
  },
  {
   "cell_type": "markdown",
   "id": "e11e9b25",
   "metadata": {},
   "source": [
    "<h3 id='6b' style=\"display:none\">(B)</h3>\n",
    "\n",
    ">   <hr width=\"82%\" style=\"border-bottom:2px dashed; border-top:none\"/>\n",
    ">   \n",
    ">   ### &#x2e04;&hairsp;&#x2076;&hairsp;&#x2E05;&hairsp;(B)\n",
    ">\n",
    ">   __Less accurate approximation:__ \n",
    ">   $E = \\frac{Q/A}{2\\epsilon_0}\\left[ 1 - \\frac{z}{R} \\right]$\n",
    ">\n",
    ">   &nbsp;&nbsp;&nbsp;&nbsp; $\\fbox{\\hspace{8em}?}$&emsp;[N/C]\n",
    ">\n",
    ">   <hr width=\"64%\" style=\"border-top:2px dotted; border-bottom:none\"/>"
   ]
  },
  {
   "cell_type": "code",
   "execution_count": null,
   "id": "065d18fa",
   "metadata": {
    "vscode": {
     "languageId": "python"
    }
   },
   "outputs": [],
   "source": []
  },
  {
   "cell_type": "markdown",
   "id": "46a53df8",
   "metadata": {},
   "source": [
    "<h3 id='6c' style=\"display:none\">(C)</h3>\n",
    "\n",
    ">   <hr width=\"82%\" style=\"border-bottom:2px dashed; border-top:none\"/>\n",
    ">   \n",
    ">   ### &#x2e04;&hairsp;&#x2076;&hairsp;&#x2E05;&hairsp;(C)\n",
    ">\n",
    ">   __Least accurate approximation:__ \n",
    ">   $E = \\frac{Q/A}{2\\epsilon_0}$\n",
    ">\n",
    ">   &nbsp;&nbsp;&nbsp;&nbsp; $\\fbox{\\hspace{8em}?}$&emsp;[N/C]\n",
    ">\n",
    ">   <hr width=\"64%\" style=\"border-top:2px dotted; border-bottom:none\"/>"
   ]
  },
  {
   "cell_type": "code",
   "execution_count": null,
   "id": "206a78fc",
   "metadata": {
    "vscode": {
     "languageId": "python"
    }
   },
   "outputs": [],
   "source": []
  },
  {
   "cell_type": "markdown",
   "id": "c1bec756",
   "metadata": {},
   "source": [
    "<h3 id='6d' style=\"display:none\">(D)</h3>\n",
    "\n",
    ">   <hr width=\"82%\" style=\"border-bottom:2px dashed; border-top:none\"/>\n",
    ">   \n",
    ">   ### &#x2e04;&hairsp;&#x2076;&hairsp;&#x2E05;&hairsp;(D)\n",
    ">\n",
    ">   __At what distance__ does the least approximation for the electric field\n",
    ">   give a result that is closest to the most accurate?\n",
    ">\n",
    ">   (select one:)\n",
    ">\n",
    ">   - [ ]   at a distance $R$\n",
    ">\n",
    ">   - [ ]   close to the disk\n",
    ">\n",
    ">   - [ ]   far from the disk\n",
    ">\n",
    ">   - [ ]   at a distance $R/2$\n",
    ">\n",
    ">\n",
    ">   <hr width=\"64%\" style=\"border-top:2px dotted; border-bottom:none\"/>"
   ]
  },
  {
   "cell_type": "markdown",
   "id": "a14839da",
   "metadata": {},
   "source": [
    "- [x] close to the disk"
   ]
  },
  {
   "cell_type": "markdown",
   "id": "3c134785",
   "metadata": {},
   "source": [
    "<div style=\"page-break-after: always;\"/> \n",
    "<h2 id='7' style=\"display:none\">[7]</h2>\n",
    "\n",
    ">   ---\n",
    ">   ## [7]\n",
    ">\n",
    ">   The dipole moment of the $\\mathrm{HBr}$ (hydrogen bromide) molecule has been\n",
    ">   measured to be $2.74 \\times 10^{-30}$ [C⋅m].\n",
    ">\n",
    ">   If we model the dipole as having charges of $+e$ and $-e$ separated by a \n",
    ">   distance $s$, __what is $s$?__\n",
    ">\n",
    ">   &nbsp;&nbsp;&nbsp;&nbsp; $s = \\fbox{\\hspace{8em}?}$&emsp;[pm]\n",
    ">\n",
    ">   __Is this plausible?__ \n",
    ">   (Assume this is plausible if the separation distance $s$ is greater than \n",
    ">   $100$ [pm], the approximate diameter of a hydrogen atom.)\n",
    ">\n",
    ">   (select one:)\n",
    ">\n",
    ">   - [ ] Yes\n",
    ">\n",
    ">   - [ ] No\n",
    ">\n",
    ">\n",
    ">   __<p align='right'>(0.1 points)</p>__\n",
    ">\n",
    ">   <hr width=\"82%\" style=\"border-top:1px dashed; border-bottom:none\"/>"
   ]
  },
  {
   "cell_type": "code",
   "execution_count": null,
   "id": "577ebbd6",
   "metadata": {
    "vscode": {
     "languageId": "python"
    }
   },
   "outputs": [],
   "source": []
  },
  {
   "cell_type": "markdown",
   "id": "9f87d23d",
   "metadata": {},
   "source": [
    "- [x] No"
   ]
  },
  {
   "cell_type": "markdown",
   "id": "ca712340",
   "metadata": {},
   "source": [
    "<div style=\"page-break-after: always;\"/> \n",
    "<h2 id='8' style=\"display:none\">[8]</h2>\n",
    "\n",
    ">   ---\n",
    ">   ## [8]\n",
    ">\n",
    ">   A dipole consists of two charges, $+q$ and $-q$, held apart by a rod of \n",
    ">   length $s$; as shown in the diagram. \n",
    ">\n",
    ">   <img loading='lazy' decoding='async' src=\"data:image/avif;base64,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\" />\n",
    ">\n",
    ">   __<p align='right'>(0.1 points)</p>__\n",
    ">\n",
    ">   <hr width=\"82%\" style=\"border-top:1px dashed; border-bottom:none\"/>"
   ]
  },
  {
   "cell_type": "markdown",
   "id": "92aad8b9",
   "metadata": {},
   "source": [
    "<h3 id='8a' style=\"display:none\">(A)</h3>\n",
    "\n",
    ">   <hr width=\"82%\" style=\"border-bottom:2px dashed; border-top:none\"/>\n",
    ">   \n",
    ">   ### &#x2e04;&hairsp;&#x2078;&hairsp;&#x2E05;&hairsp;(A)\n",
    ">\n",
    ">   If $q = 7$ [nC] and $s=3$ [mm], __what is the magnitude of the electric field due to the dipole at location $A$,__\n",
    ">   a distance $d=5$ [cm] from the dipole?\n",
    ">\n",
    ">   &nbsp;&nbsp;&nbsp;&nbsp; $E = \\fbox{\\hspace{8em}?}$&emsp;[N/C]\n",
    ">\n",
    ">   <hr width=\"64%\" style=\"border-top:2px dotted; border-bottom:none\"/>"
   ]
  },
  {
   "cell_type": "code",
   "execution_count": null,
   "id": "7a585383",
   "metadata": {
    "vscode": {
     "languageId": "python"
    }
   },
   "outputs": [],
   "source": []
  },
  {
   "cell_type": "markdown",
   "id": "19be487c",
   "metadata": {},
   "source": [
    "<h3 id='8b' style=\"display:none\">(B)</h3>\n",
    "\n",
    ">   <hr width=\"82%\" style=\"border-bottom:2px dashed; border-top:none\"/>\n",
    ">   \n",
    ">   ### &#x2e04;&hairsp;&#x2078;&hairsp;&#x2E05;&hairsp;(B)\n",
    ">\n",
    ">   __What is the magnitude of the electric field due to the dipole at location $B$,__\n",
    ">   a distance $d=5$ [cm] from the dipole?\n",
    ">\n",
    ">   &nbsp;&nbsp;&nbsp;&nbsp; $E = \\fbox{\\hspace{8em}?}$&emsp;[N/C]\n",
    ">\n",
    ">   <hr width=\"64%\" style=\"border-top:2px dotted; border-bottom:none\"/>"
   ]
  },
  {
   "cell_type": "code",
   "execution_count": null,
   "id": "d9173988",
   "metadata": {
    "vscode": {
     "languageId": "python"
    }
   },
   "outputs": [],
   "source": []
  },
  {
   "cell_type": "markdown",
   "id": "e3064286",
   "metadata": {},
   "source": [
    "<div style=\"page-break-after: always;\"/> \n",
    "<h2 id='9' style=\"display:none\">[9]</h2>\n",
    "\n",
    ">   ---\n",
    ">   ## [9]\n",
    ">\n",
    ">   Two identical permanent dipoles, each consisting of charges $+q$ and $-q$\n",
    ">   separated by a distance $s$; are aligned on the $x$-axis, a distance $r$ \n",
    ">   from each other, where $r \\gg s$ (see figure below).\n",
    ">\n",
    ">   <img loading='lazy' decoding='async' src=\"data:image/avif;base64,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\" />\n",
    ">\n",
    ">   __What is the magnitude of the net force exerted on one dipole, by the other dipole?__\n",
    ">\n",
    ">   &nbsp;&nbsp;&nbsp;&nbsp; $F \\approx \\fbox{\\hspace{6em}?}$&emsp;[N]\n",
    ">\n",
    ">   __<p align='right'>(0.1 points)</p>__\n",
    ">\n",
    ">   <hr width=\"82%\" style=\"border-top:1px dashed; border-bottom:none\"/>"
   ]
  },
  {
   "cell_type": "code",
   "execution_count": null,
   "id": "8288d9bd",
   "metadata": {
    "vscode": {
     "languageId": "python"
    }
   },
   "outputs": [],
   "source": []
  },
  {
   "cell_type": "markdown",
   "id": "42877985",
   "metadata": {},
   "source": [
    "---"
   ]
  }
 ],
 "metadata": {
  "kernelspec": {
   "display_name": "SageMath 10.6",
   "language": "sage",
   "name": "SageMath-10.6"
  },
  "language_info": {
   "codemirror_mode": {
    "name": "ipython",
    "version": 3
   },
   "file_extension": ".py",
   "mimetype": "text/x-python",
   "name": "sage",
   "nbconvert_exporter": "python",
   "pygments_lexer": "ipython3",
   "version": "3.12.5"
  }
 },
 "nbformat": 4,
 "nbformat_minor": 5
}
