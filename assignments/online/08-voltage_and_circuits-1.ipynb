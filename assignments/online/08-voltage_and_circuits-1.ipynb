{
 "cells": [
  {
   "cell_type": "markdown",
   "id": "e6fe379a",
   "metadata": {},
   "source": [
    "# Voltage and Circuits 1"
   ]
  },
  {
   "cell_type": "code",
   "execution_count": null,
   "id": "4d87d0c4",
   "metadata": {
    "vscode": {
     "languageId": "python"
    }
   },
   "outputs": [
    {
     "name": "stdout",
     "output_type": "stream",
     "text": [
      "Python: 3.12.5 (main, Feb 25 2025, 12:37:41) [Clang 16.0.0 (clang-1600.0.26.6)]\n"
     ]
    },
    {
     "data": {
      "text/html": [
       "<html>\\(\\displaystyle \\verb|SageMath|\\verb| |\\verb|version|\\verb| |\\verb|10.6,|\\verb| |\\verb|Release|\\verb| |\\verb|Date:|\\verb| |\\verb|2025-03-31|\\)</html>"
      ],
      "text/latex": [
       "$\\displaystyle \\verb|SageMath|\\verb| |\\verb|version|\\verb| |\\verb|10.6,|\\verb| |\\verb|Release|\\verb| |\\verb|Date:|\\verb| |\\verb|2025-03-31|$"
      ],
      "text/plain": [
       "'SageMath version 10.6, Release Date: 2025-03-31'"
      ]
     },
     "execution_count": 1,
     "metadata": {},
     "output_type": "execute_result"
    }
   ],
   "source": [
    "########\n",
    "## Env Setup / Preamble\n",
    "########\n",
    "%load_ext autoreload\n",
    "%autoreload complete \n",
    "\n",
    "%load_ext Cython\n",
    "\n",
    "%display latex\n",
    "\n",
    "################\n",
    "\n",
    "import cython\n",
    "from sage.all import *\n",
    "\n",
    "################\n",
    "\n",
    "import tempfile\n",
    "import mmap\n",
    "from multiprocessing import shared_memory\n",
    "\n",
    "################\n",
    "\n",
    "import numpy as np\n",
    "import scipy.constants\n",
    "\n",
    "np.random.seed( int(scipy.constants.golden_ratio * 1.e6) )\n",
    "\n",
    "from numpy import vectorize\n",
    "from numpy import r_, c_, s_\n",
    "\n",
    "################\n",
    "\n",
    "####    boiler-plate class for named constants\n",
    "from sage.symbolic.constants import Constant\n",
    "class ConstantFromExpression(Constant):\n",
    "    def __init__(self, name, v):\n",
    "        conversions = dict(maxima=repr(maxima.coerce(v)))\n",
    "        Constant.__init__(self, name, conversions=conversions)\n",
    "        self._v = v\n",
    "    def __float__(self): return float(self._v)\n",
    "    def __complex__(self): return complex(self._v)\n",
    "    def _mpfr_(self, R): return R(self._v)\n",
    "    def _real_double_(self, R): return R(self._v)\n",
    "\n",
    "def NamedExpression(name, expr):\n",
    "    return ConstantFromExpression(name,expr).expression()\n",
    "####\n",
    "\n",
    "import sage.symbolic.units as units     # <: TODO\n",
    "\n",
    "π   = NamedExpression('π', scipy.constants.pi)          # pi\n",
    "ε_0 = NamedExpression('ε_0', scipy.constants.epsilon_0) # electric permittivity of vacuum\n",
    "μ_0 = NamedExpression('μ_0', scipy.constants.mu_0)      # magnetic permeability of vacuum\n",
    "\n",
    "𝛋 = 1. / (4 * π * ε_0)      # Coulomb's constant in [ N·m²/C² ]\n",
    "q = NamedExpression('q', -scipy.constants.elementary_charge)\n",
    "\n",
    "ℎ_planck = NamedExpression('ℎ', scipy.constants.Planck)\n",
    "ℏ = NamedExpression('ℏ', scipy.constants.hbar)\n",
    "\n",
    "α = NamedExpression('α', scipy.constants.fine_structure)\n",
    "\n",
    "m_e = NamedExpression('m_e', scipy.constants.electron_mass)\n",
    "m_p = NamedExpression('m_p', scipy.constants.proton_mass)\n",
    "\n",
    "################\n",
    "\n",
    "Parallelism().set(nproc=8)\n",
    "print(f\"Python: {sys.version}\")\n",
    "version()\n"
   ]
  },
  {
   "cell_type": "code",
   "execution_count": 2,
   "id": "6dbb2a79",
   "metadata": {
    "vscode": {
     "languageId": "python"
    }
   },
   "outputs": [
    {
     "name": "stdout",
     "output_type": "stream",
     "text": [
      "The Zen of Python, by Tim Peters\n",
      "\n",
      "Beautiful is better than ugly.\n",
      "Explicit is better than implicit.\n",
      "Simple is better than complex.\n",
      "Complex is better than complicated.\n",
      "Flat is better than nested.\n",
      "Sparse is better than dense.\n",
      "Readability counts.\n",
      "Special cases aren't special enough to break the rules.\n",
      "Although practicality beats purity.\n",
      "Errors should never pass silently.\n",
      "Unless explicitly silenced.\n",
      "In the face of ambiguity, refuse the temptation to guess.\n",
      "There should be one-- and preferably only one --obvious way to do it.\n",
      "Although that way may not be obvious at first unless you're Dutch.\n",
      "Now is better than never.\n",
      "Although never is often better than *right* now.\n",
      "If the implementation is hard to explain, it's a bad idea.\n",
      "If the implementation is easy to explain, it may be a good idea.\n",
      "Namespaces are one honking great idea -- let's do more of those!\n"
     ]
    }
   ],
   "source": [
    "##  sanity check\n",
    "import this\n"
   ]
  },
  {
   "cell_type": "markdown",
   "id": "1459a9c2",
   "metadata": {},
   "source": [
    "---\n",
    "\n",
    "<hr width=\"82%\" style=\"border-top:2px dashed; border-bottom:none\"/>\n",
    "\n",
    "<hr width=\"64%\" style=\"border-top:1px dotted; border-bottom:none\"/>"
   ]
  },
  {
   "cell_type": "markdown",
   "id": "8ba73720",
   "metadata": {},
   "source": [
    "<div style=\"page-break-after: always;\"/> \n",
    "\n",
    "---\n",
    "\n",
    "## [1]*\n",
    "\n",
    ">\n",
    ">   Consider the circuit fragment in the figure below. \n",
    ">   (Let $I_1 = 7$ [A], $I_3 = 1$ [A], $I_4 = 6$ [A]). \n",
    ">\n",
    ">   {{ graphic }}\n",
    ">\n",
    ">   __<p align='right'>(10 points)</p>__\n",
    ">\n",
    "\n",
    "<hr width=\"82%\" style=\"border-top:1px dashed; border-bottom:none\"/>"
   ]
  },
  {
   "cell_type": "markdown",
   "id": "3e0a4632",
   "metadata": {},
   "source": [
    "<hr width=\"82%\" style=\"border-bottom:2px dashed; border-top:none\"/>\n",
    "\n",
    "### (A)\n",
    "\n",
    ">\n",
    ">   __What is the absolute value of the outward-going conventional current $I_2$?__\n",
    ">\n",
    ">    &emsp;&emsp;&emsp;&emsp; $\\fbox{\\hspace{8em}?}\\ \\left[\\textrm{A}\\right]$\n",
    ">\n",
    "\n",
    "<hr width=\"64%\" style=\"border-top:2px dotted; border-bottom:none\"/>"
   ]
  },
  {
   "cell_type": "code",
   "execution_count": null,
   "id": "16733c18",
   "metadata": {
    "vscode": {
     "languageId": "python"
    }
   },
   "outputs": [],
   "source": []
  },
  {
   "cell_type": "markdown",
   "id": "0cbe4679",
   "metadata": {},
   "source": [
    "<hr width=\"82%\" style=\"border-bottom:2px dashed; border-top:none\"/>\n",
    "\n",
    "### (B)\n",
    "\n",
    ">\n",
    ">   __In the previous case (part A), did we make the right guess about the direction of the conventional current $I_2$?__ (We assumed the current was positive.)\n",
    ">\n",
    ">   (select one:)\n",
    ">\n",
    ">   - [ ] &nbsp; Yes\n",
    ">   - [ ] &nbsp; No\n",
    ">\n",
    "\n",
    "<hr width=\"64%\" style=\"border-top:2px dotted; border-bottom:none\"/>"
   ]
  },
  {
   "cell_type": "code",
   "execution_count": null,
   "id": "639ca563",
   "metadata": {
    "vscode": {
     "languageId": "python"
    }
   },
   "outputs": [],
   "source": []
  },
  {
   "cell_type": "markdown",
   "id": "7a7a8611",
   "metadata": {},
   "source": [
    "<hr width=\"82%\" style=\"border-bottom:2px dashed; border-top:none\"/>\n",
    "\n",
    "### (C)\n",
    "\n",
    ">\n",
    ">   Suppose $I_3$ is $22$ [A]; __what is the absolute value of the outward-going conventional current $I_2$?__\n",
    ">\n",
    ">    &emsp;&emsp;&emsp;&emsp; $\\fbox{\\hspace{8em}?}\\ \\left[\\textrm{A}\\right]$\n",
    ">\n",
    "\n",
    "<hr width=\"64%\" style=\"border-top:2px dotted; border-bottom:none\"/>"
   ]
  },
  {
   "cell_type": "code",
   "execution_count": null,
   "id": "a410c2b7",
   "metadata": {
    "vscode": {
     "languageId": "python"
    }
   },
   "outputs": [],
   "source": []
  },
  {
   "cell_type": "markdown",
   "id": "49a518fe",
   "metadata": {},
   "source": [
    "<hr width=\"82%\" style=\"border-bottom:2px dashed; border-top:none\"/>\n",
    "\n",
    "### (D)\n",
    "\n",
    ">\n",
    ">   __In the previous case (part C), did we make the right guess about the direction of the conventional current $I_2$?__ (We assumed the current was positive.)\n",
    ">\n",
    ">   (select one:)\n",
    ">\n",
    ">   - [ ] &nbsp; Yes\n",
    ">   - [ ] &nbsp; No\n",
    ">\n",
    "\n",
    "<hr width=\"64%\" style=\"border-top:2px dotted; border-bottom:none\"/>"
   ]
  },
  {
   "cell_type": "code",
   "execution_count": null,
   "id": "c43606ec",
   "metadata": {
    "vscode": {
     "languageId": "python"
    }
   },
   "outputs": [],
   "source": []
  },
  {
   "cell_type": "markdown",
   "id": "7eade91d",
   "metadata": {},
   "source": [
    "<div style=\"page-break-after: always;\"/> \n",
    "\n",
    "---\n",
    "\n",
    "## [2]\n",
    "\n",
    ">\n",
    ">   In the circuit below, the narrow resistor is made of the same material as the thick connecting wires. \n",
    ">\n",
    ">   {{ graphic }}\n",
    ">\n",
    ">   In the steady state, which graphs correctly show the magnitude of the electric field at locations around the circuit, and the drift speed of the elctrons at locations around the circuit? \n",
    ">\n",
    ">   __Select the two correct graphs in the following:__\n",
    ">\n",
    ">   {{ graphic | graphic }}\n",
    ">\n",
    ">   - [ ] &nbsp; (a)\n",
    ">\n",
    ">   - [ ] &nbsp; (b)\n",
    ">\n",
    ">   - [ ] &nbsp; (c)\n",
    ">\n",
    ">   - [ ] &nbsp; (d)\n",
    ">\n",
    ">   - [ ] &nbsp; (e)\n",
    ">\n",
    ">   - [ ] &nbsp; (f)\n",
    ">\n",
    ">   - [ ] &nbsp; (g)\n",
    ">\n",
    ">   - [ ] &nbsp; (h)\n",
    ">\n",
    ">   - [ ] &nbsp; (i)\n",
    ">\n",
    ">   - [ ] &nbsp; (j)\n",
    ">\n",
    ">   - [ ] &nbsp; (k)\n",
    ">\n",
    ">   - [ ] &nbsp; (l)\n",
    ">\n",
    ">\n",
    ">   __<p align='right'>(0.1 points)</p>__\n",
    ">\n",
    "\n",
    "<hr width=\"82%\" style=\"border-top:1px dashed; border-bottom:none\"/>"
   ]
  },
  {
   "cell_type": "markdown",
   "id": "b955146a",
   "metadata": {},
   "source": [
    "<div style=\"page-break-after: always;\"/> \n",
    "\n",
    "---\n",
    "\n",
    "## [3]\n",
    "\n",
    ">\n",
    ">   In the circuit shown below, a mechanical battery keeps a steady-state current, running in a wire which has rather low electron mobility. \n",
    ">\n",
    ">   {{ graphic }}\n",
    ">   \n",
    ">   Which of the following statements about the circuit are true?\n",
    ">\n",
    ">   (select all that apply:)\n",
    ">\n",
    ">   - [ ] &nbsp; At location 3, the electric field points to the left. \n",
    ">\n",
    ">   - [ ] &nbsp; At every location inside the wire, the direction of the electric field is parallel to the wire. \n",
    ">\n",
    ">   - [ ] &nbsp; The non-zero electric field inside the wire is created by excess charges on the surface of the wire and in and on the mechanical battery. \n",
    ">\n",
    ">   - [ ] &nbsp; The non-zero electric field inside the wire is created by the moving electrons in the wire. \n",
    ">\n",
    ">   - [ ] &nbsp; Mobile electrons inside the wire push each other through the wire. \n",
    ">\n",
    ">   - [ ] &nbsp; The electric field inside the wire varies in magnitude, depending on location. \n",
    ">\n",
    ">   - [ ] &nbsp; The magnitude of the electric field inside the wire is the same at all locations inside the wire. \n",
    ">\n",
    ">   - [ ] &nbsp; At location 3 inside the wire, the electric field points to the right.\n",
    ">\n",
    ">   - [ ] &nbsp; The electric field is zero at all locations inside the metal wire. \n",
    ">\n",
    ">\n",
    ">   __<p align='right'>(0.1 points)</p>__\n",
    ">\n",
    "\n",
    "<hr width=\"82%\" style=\"border-top:1px dashed; border-bottom:none\"/>"
   ]
  },
  {
   "cell_type": "markdown",
   "id": "7b4ef342",
   "metadata": {},
   "source": [
    "<div style=\"page-break-after: always;\"/> \n",
    "\n",
    "---\n",
    "\n",
    "## [4]*\n",
    "\n",
    ">\n",
    ">   Inside a chemical battery, it is not actually individual electrons that are \n",
    ">   transported from the \"$+$\" end to the \"$-$\" end. \n",
    ">\n",
    ">   At the \"$+$\" end of the battery, an \"acceptor\" molecule picks up an electron \n",
    ">   entering the battery; and at the \"$-$\" end, a different \"donor\" molecule \n",
    ">   gives up an electron (which leaves the battery). Ions, rather than electrons, \n",
    ">   move between the two ends to transport the charge inside the battery. \n",
    ">\n",
    ">   When the supplies of acceptor and donor molecules are used up in a chemical \n",
    ">   battery, the battery is dead, because it can no longer accept or release \n",
    ">   electrons. The electron current (in electrons per second), times the number \n",
    ">   of seconds of battery life, is equal to the number of donor (or acceptor) \n",
    ">   molecules in the battery.\n",
    ">\n",
    ">   ---\n",
    ">   \n",
    ">   A flashlight battery contains approximately half a mole of donor molecules. \n",
    ">   The current through a thick-filament bulb, powered by two flashlight \n",
    ">   batteries in series, is about $0.262$ [A]. \n",
    ">\n",
    ">   __About how many hours will the batteries keep this bulb lit?__\n",
    ">\n",
    ">   &emsp;&emsp;&emsp;&emsp; $\\fbox{\\hspace{8em}?}\\ \\left[\\textrm{h}\\right]$\n",
    ">\n",
    ">   __<p align='right'>(10 points)</p>__\n",
    ">\n",
    "\n",
    "<hr width=\"82%\" style=\"border-top:1px dashed; border-bottom:none\"/>"
   ]
  },
  {
   "cell_type": "markdown",
   "id": "f9f4c527",
   "metadata": {},
   "source": [
    "<div style=\"page-break-after: always;\"/> \n",
    "\n",
    "---\n",
    "\n",
    "## [5]*\n",
    "\n",
    ">\n",
    ">   A Nichrome wire $29$ [cm] long, and $0.23$ [mm] in diameter is connected to\n",
    ">   a $3.1$ [V] battery.\n",
    ">\n",
    ">   __<p align='right'>(10 points)</p>__\n",
    ">\n",
    "\n",
    "<hr width=\"82%\" style=\"border-top:1px dashed; border-bottom:none\"/>"
   ]
  },
  {
   "cell_type": "markdown",
   "id": "8c49da0e",
   "metadata": {},
   "source": [
    "<hr width=\"82%\" style=\"border-bottom:2px dashed; border-top:none\"/>\n",
    "\n",
    "### (A)\n",
    "\n",
    ">\n",
    ">   __What is the electric field inside the wire?__ (Enter the magnitude.)\n",
    ">\n",
    ">    &emsp;&emsp;&emsp;&emsp; $Q = \\fbox{\\hspace{8em}?}\\ \\left[\\textrm{V}/\\textrm{m}\\right]$\n",
    ">\n",
    "\n",
    "<hr width=\"64%\" style=\"border-top:2px dotted; border-bottom:none\"/>"
   ]
  },
  {
   "cell_type": "markdown",
   "id": "b6b18372",
   "metadata": {},
   "source": [
    "<hr width=\"82%\" style=\"border-bottom:2px dashed; border-top:none\"/>\n",
    "\n",
    "### (B)\n",
    "\n",
    ">\n",
    ">   __Why don't you have to know how the wire is bent?__ \n",
    ">\n",
    ">   - [ ] &nbsp; $E$ must be parallel to the wire at every location\n",
    ">               - even if the wire twists and turns.\n",
    ">\n",
    ">   - [ ] &nbsp; Since conventional current flows in the direction of $\\vec{E}$,\n",
    ">               $E$ is the same in every part of the wire with uniform properties.\n",
    ">                \n",
    ">   - [ ] &nbsp; $E$ is not dependent on how the wire is bent, only the diameter\n",
    ">               of the wire is needed.\n",
    ">\n",
    ">   - [ ] &nbsp; $E$ is dependent on length $L$ of the wire, which only applies \n",
    ">               to the segment of the wire that is not bent. \n",
    ">\n",
    "\n",
    "<hr width=\"64%\" style=\"border-top:2px dotted; border-bottom:none\"/>"
   ]
  },
  {
   "cell_type": "markdown",
   "id": "cae80f15",
   "metadata": {},
   "source": [
    "<hr width=\"82%\" style=\"border-bottom:2px dashed; border-top:none\"/>\n",
    "\n",
    "### (B)\n",
    "\n",
    ">\n",
    ">   __How would your answer change, if the wire diameter were $0.42$ [mm]?__\n",
    ">   (Note that the electric field in the wire is quite small compared to the \n",
    ">    electric field near a charged tape.)\n",
    ">\n",
    ">   - [ ] &nbsp; The answer will be larger.\n",
    ">   - [ ] &nbsp; The answer will be smaller.\n",
    ">   - [ ] &nbsp; The answer will stay the same. \n",
    ">\n",
    "\n",
    "<hr width=\"64%\" style=\"border-top:2px dotted; border-bottom:none\"/>"
   ]
  },
  {
   "cell_type": "markdown",
   "id": "8f345dc4",
   "metadata": {},
   "source": [
    "<div style=\"page-break-after: always;\"/> \n",
    "\n",
    "---\n",
    "\n",
    "## [6]\n",
    "\n",
    ">\n",
    ">   Consider the following figure.\n",
    ">\n",
    ">   {{ graphic }}\n",
    ">\n",
    ">   __What would be the potential difference $V_C - V_B$ across the thin resistor in the figure__,\n",
    ">   if the battery $\\mathcal{EMF}$ is $8.7$ [V]? \n",
    ">\n",
    ">   Assume that the electric field in the thick wires is very small, (so that the\n",
    ">   potential differences along the thick wires are negligible).\n",
    ">\n",
    ">   &nbsp;&nbsp;&nbsp;&nbsp; $\\fbox{\\hspace{8em}?}\\ \\left[\\textrm{V}\\right]$\n",
    ">   \n",
    ">   __Do you have enough information to determine the current $\\boldsymbol{J}$ in the circuit?__\n",
    ">\n",
    ">   (select one:)\n",
    ">\n",
    ">   - [ ] &nbsp; Yes\n",
    ">   - [ ] &nbsp; No\n",
    ">\n",
    ">   __<p align='right'>(0.1 points)</p>__\n",
    ">\n",
    "\n",
    "<hr width=\"82%\" style=\"border-top:1px dashed; border-bottom:none\"/>"
   ]
  },
  {
   "cell_type": "markdown",
   "id": "4c818464",
   "metadata": {},
   "source": [
    "---"
   ]
  }
 ],
 "metadata": {
  "kernelspec": {
   "display_name": "SageMath 10.6",
   "language": "sage",
   "name": "SageMath-10.6"
  },
  "language_info": {
   "codemirror_mode": {
    "name": "ipython",
    "version": 3
   },
   "file_extension": ".py",
   "mimetype": "text/x-python",
   "name": "sage",
   "nbconvert_exporter": "python",
   "pygments_lexer": "ipython3",
   "version": "3.12.5"
  }
 },
 "nbformat": 4,
 "nbformat_minor": 5
}
