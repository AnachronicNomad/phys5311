{
 "cells": [
  {
   "cell_type": "markdown",
   "id": "b178c1bf",
   "metadata": {},
   "source": [
    "# Flux\n",
    "\n",
    "M&I 4e\n",
    "\n",
    "Ch. 16 Electric Potential \n",
    "\n",
    "- §16.3 &ndash; Potential Difference in a Uniform Field\n",
    "- §16.5 &ndash; Potential Difference in a Non-Uniform Field\n",
    "\n",
    "Ch. 21 Patterns of Fields in Space\n",
    "\n",
    "- §21.2 &ndash; Definition of \"Electric Flux\"\n",
    "- §21.3 &ndash; Gauss's Law\n",
    "\n",
    "Ch. 22 Faraday's Law\n",
    "\n",
    "- §22.2 &ndash; Faraday's Law"
   ]
  },
  {
   "cell_type": "code",
   "execution_count": 3,
   "id": "4d87d0c4",
   "metadata": {},
   "outputs": [
    {
     "name": "stdout",
     "output_type": "stream",
     "text": [
      "The autoreload extension is already loaded. To reload it, use:\n",
      "  %reload_ext autoreload\n",
      "The Cython extension is already loaded. To reload it, use:\n",
      "  %reload_ext Cython\n",
      "Python: 3.12.5 (main, Feb 25 2025, 12:37:41) [Clang 16.0.0 (clang-1600.0.26.6)]\n"
     ]
    },
    {
     "data": {
      "text/html": [
       "<html>\\(\\displaystyle \\verb|SageMath|\\verb| |\\verb|version|\\verb| |\\verb|10.6,|\\verb| |\\verb|Release|\\verb| |\\verb|Date:|\\verb| |\\verb|2025-03-31|\\)</html>"
      ],
      "text/latex": [
       "$\\displaystyle \\verb|SageMath|\\verb| |\\verb|version|\\verb| |\\verb|10.6,|\\verb| |\\verb|Release|\\verb| |\\verb|Date:|\\verb| |\\verb|2025-03-31|$"
      ],
      "text/plain": [
       "'SageMath version 10.6, Release Date: 2025-03-31'"
      ]
     },
     "execution_count": 3,
     "metadata": {},
     "output_type": "execute_result"
    }
   ],
   "source": [
    "########\n",
    "## Env Setup / Preamble\n",
    "########\n",
    "%load_ext autoreload\n",
    "%autoreload complete \n",
    "\n",
    "%load_ext Cython\n",
    "\n",
    "%display latex\n",
    "\n",
    "################\n",
    "\n",
    "import cython\n",
    "from sage.all import *\n",
    "\n",
    "################\n",
    "\n",
    "import tempfile\n",
    "import mmap\n",
    "from multiprocessing import shared_memory\n",
    "\n",
    "################\n",
    "\n",
    "import numpy as np\n",
    "import scipy.constants\n",
    "\n",
    "np.random.seed( int(scipy.constants.golden_ratio * 1.e6) )\n",
    "\n",
    "from numpy import vectorize\n",
    "from numpy import r_, c_, s_\n",
    "\n",
    "################\n",
    "\n",
    "####    boiler-plate class for named constants\n",
    "from sage.symbolic.constants import Constant\n",
    "class ConstantFromExpression(Constant):\n",
    "    def __init__(self, name, v):\n",
    "        conversions = dict(maxima=repr(maxima.coerce(v)))\n",
    "        Constant.__init__(self, name, conversions=conversions)\n",
    "        self._v = v\n",
    "    def __float__(self): return float(self._v)\n",
    "    def __complex__(self): return complex(self._v)\n",
    "    def _mpfr_(self, R): return R(self._v)\n",
    "    def _real_double_(self, R): return R(self._v)\n",
    "\n",
    "def NamedExpression(name, expr):\n",
    "    return ConstantFromExpression(name,expr).expression()\n",
    "####\n",
    "\n",
    "import sage.symbolic.units as units     # <: TODO\n",
    "\n",
    "π   = NamedExpression('π', scipy.constants.pi)          # pi\n",
    "ε_0 = NamedExpression('ε_0', scipy.constants.epsilon_0) # electric permittivity of vacuum\n",
    "μ_0 = NamedExpression('μ_0', scipy.constants.mu_0)      # magnetic permeability of vacuum\n",
    "\n",
    "𝛋 = 1. / (4 * π * ε_0)      # Coulomb's constant in [ N·m²/C² ]\n",
    "q = NamedExpression('q', -scipy.constants.elementary_charge)\n",
    "\n",
    "ℎ_planck = NamedExpression('ℎ', scipy.constants.Planck)\n",
    "ℏ = NamedExpression('ℏ', scipy.constants.hbar)\n",
    "\n",
    "α = NamedExpression('α', scipy.constants.fine_structure)\n",
    "\n",
    "m_e = NamedExpression('m_e', scipy.constants.electron_mass)\n",
    "m_p = NamedExpression('m_p', scipy.constants.proton_mass)\n",
    "\n",
    "################\n",
    "\n",
    "Parallelism().set(nproc=8)\n",
    "print(f\"Python: {sys.version}\")\n",
    "version()\n"
   ]
  },
  {
   "cell_type": "code",
   "execution_count": 4,
   "id": "6dbb2a79",
   "metadata": {},
   "outputs": [],
   "source": [
    "##  sanity check\n",
    "import this\n"
   ]
  },
  {
   "cell_type": "markdown",
   "id": "b6060a6a",
   "metadata": {},
   "source": [
    "---\n",
    "\n",
    "<hr width=\"82%\" style=\"border-top:2px dashed; border-bottom:none\"/>\n",
    "\n",
    "<hr width=\"64%\" style=\"border-top:1px dotted; border-bottom:none\"/>"
   ]
  },
  {
   "cell_type": "markdown",
   "id": "0f3d2285",
   "metadata": {},
   "source": [
    "<div style=\"page-break-after: always;\"/> \n",
    "\n",
    "<h2 id='1' style=\"display:none\">[1]</h2>\n",
    "\n",
    ">   ---\n",
    ">   # [1] \n",
    ">\n",
    ">   You move from location $i$ at <5, 5, 5> [m], to a location $f$ at <4, 10, 13> [m].  \n",
    ">\n",
    ">   All along this path, there is a nearly uniform electric field \n",
    ">   $\\mathbf{\\vec{E}}$ = <1200, 210, -500> [N/C].  \n",
    ">\n",
    ">   __Calculate $\\Delta V = V_f - V_i$, including sign and units.__\n",
    ">\n",
    ">   &emsp;&emsp;&emsp;&emsp; $\\Delta V = \\fbox{\\hspace{8em}?}\\ \\left[\\textrm{V}\\right]$\n",
    ">\n",
    ">   __<p align='right'>(0.1 points)</p>__\n",
    ">   <hr width=\"64%\" style=\"border-top:1px dashed; border-bottom:none\"/>"
   ]
  },
  {
   "cell_type": "code",
   "execution_count": null,
   "id": "7b9f805c",
   "metadata": {},
   "outputs": [],
   "source": []
  },
  {
   "cell_type": "markdown",
   "id": "8b61f0fb",
   "metadata": {},
   "source": [
    "<div style=\"page-break-after: always;\"/> \n",
    "\n",
    "<h2 id='2' style=\"display:none\">[2]*</h2>\n",
    "\n",
    ">   ---\n",
    ">   ## [2]*\n",
    ">\n",
    ">   A capacitor with a gap of 3 [mm] has a potential difference from one plate \n",
    ">   to the other of 34 [volts]. \n",
    ">\n",
    ">   **What is the magnitude of the electric field between the plates?**\n",
    ">\n",
    ">   &emsp;&emsp;&emsp;&emsp; $\\fbox{\\hspace{8em}?}\\ \\left[\\textrm{V}/\\textrm{m}\\right]$\n",
    ">\n",
    ">   __<p align='right'>(10 points)</p>__\n",
    ">   <hr width=\"64%\" style=\"border-top:1px dashed; border-bottom:none\"/>"
   ]
  },
  {
   "cell_type": "code",
   "execution_count": null,
   "id": "b7c48448",
   "metadata": {},
   "outputs": [],
   "source": []
  },
  {
   "cell_type": "markdown",
   "id": "e69325bf",
   "metadata": {},
   "source": [
    "<div style=\"page-break-after: always;\"/> \n",
    "\n",
    "<h2 id='3' style=\"display:none\">[3]*</h2>\n",
    "\n",
    ">   ---\n",
    ">   ## [3]*\n",
    ">\n",
    ">   {{GRAPHIC}}\n",
    ">\n",
    ">   **Potential difference in a capacitor**\n",
    ">\n",
    ">   A capacitor consists of two large metal disks placed a distance $s$ apart \n",
    ">   (see figure above).\n",
    ">\n",
    ">   The radius $R$ of each disk is 7.8 [m], the gap $s$ between the disks is \n",
    ">   $1.2$ [mm], and the thickness of each disk is $0.4$ [mm]. \n",
    ">\n",
    ">   The disk on the left has a net charge of $3.3 \\times 10^{-4}$ [C], and the \n",
    ">   disk on the right has a net charge of $-3.3 \\times 10^{-4}$ [C]. \n",
    ">\n",
    ">   **Calculate the potential difference $V_2 - V_1$**, where:\n",
    ">   - location 1 is inside the left disk at its center, and \n",
    ">   - location 2 is in the center of the air gap between the disks.\n",
    ">\n",
    ">   Use $\\epsilon_0 = 8.85 \\times 10^{-12}$ [C^2 / (N⋅m^2)]\n",
    ">\n",
    ">   &emsp;&emsp;&emsp;&emsp; $V_2 = V_1 = \\fbox{\\hspace{8em}?}\\ \\left[\\textrm{V}\\right]$\n",
    ">\n",
    ">   <p align='right'><b>(10 points)</b></p>\n",
    ">   <hr width=\"64%\" style=\"border-top:1px dashed; border-bottom:none\"/>"
   ]
  },
  {
   "cell_type": "code",
   "execution_count": null,
   "id": "21cca777",
   "metadata": {},
   "outputs": [],
   "source": []
  },
  {
   "cell_type": "markdown",
   "id": "535e5ec3",
   "metadata": {},
   "source": [
    "<div style=\"page-break-after: always;\"/> \n",
    "<h2 id='4' style=\"display:none\">[4]*</h2>\n",
    "\n",
    ">   ---\n",
    ">   ## [4]*\n",
    ">\n",
    ">   Three charged metal disks are arranged as shown (cutaway view, see figure \n",
    ">   below). \n",
    ">\n",
    ">   The disks are held apart by insulating supports not shown in the diagram. \n",
    ">   Each disk has an area of 2.3 [m^2] (this is the area of one flat surface of \n",
    ">   the disk).\n",
    ">\n",
    ">   Use the values\n",
    ">   - $\\epsilon_0 = 8.85e10^{-12}$ [[C^2 / (N⋅m^2)]],\n",
    ">   - charge $Q_1 = 3 \\times 10^{-8}$ Coulombs,\n",
    ">   - charge $Q_2 = 2 \\times 10^{-7}$ Coulombs.\n",
    ">\n",
    ">   {{GRAPHIC}}\n",
    ">\n",
    ">   <p align='right'><b>(10 points)</b></p>\n",
    ">   <hr width=\"64%\" style=\"border-top:1px dashed; border-bottom:none\"/>"
   ]
  },
  {
   "cell_type": "markdown",
   "id": "b08df945",
   "metadata": {},
   "source": [
    "<h3 id='4a' style=\"display:none\">(A)</h3>\n",
    "\n",
    ">   <hr width=\"82%\" style=\"border-bottom:2px dashed; border-top:none\"/>\n",
    ">\n",
    ">   ### &#x2e04;&hairsp;&#x2074;&hairsp;&#x2E05;&hairsp;(A)\n",
    ">\n",
    ">   __What is the magnitude of the electric field in the region between disks 1 and 2?__\n",
    ">\n",
    ">   &emsp;&emsp;&emsp;&emsp; $\\lvert\\mathbf{\\vec{E}}_{12}\\rvert = \\fbox{\\hspace{8em} ?}\\ \\left[\\textrm{V}/\\textrm{m}\\right]$\n",
    ">\n",
    ">   __What is the direction of the electric field between disks 1 and 2?__ \n",
    ">\n",
    ">   (select one):\n",
    ">\n",
    ">   - [ ]   $+\\hat{x}$\n",
    ">   - [ ]   $-\\hat{x}$\n",
    ">   - [ ]   $+\\hat{y}$\n",
    ">   - [ ]   $-\\hat{y}$\n",
    ">   - [ ]   $+\\hat{z}$\n",
    ">   - [ ]   $-\\hat{z}$\n",
    ">\n",
    ">   <hr width=\"64%\" style=\"border-top:1px dashed; border-bottom:none\"/>"
   ]
  },
  {
   "cell_type": "code",
   "execution_count": null,
   "id": "f857a1e2",
   "metadata": {},
   "outputs": [],
   "source": []
  },
  {
   "cell_type": "markdown",
   "id": "6a137b3d",
   "metadata": {},
   "source": [
    "<h3 id='4b' style=\"display:none\">(B)</h3>\n",
    "\n",
    ">   <hr width=\"82%\" style=\"border-top:2px dashed; border-bottom:none\"/>\n",
    ">\n",
    ">   ### &#x2e04;&hairsp;&#x2074;&hairsp;&#x2E05;&hairsp;(B)\n",
    ">\n",
    ">   __Which of the following statements are true?__  Choose all that apply. \n",
    ">\n",
    ">   - [ ]   $V_B - V_A = - ((Q_1 / 2.3) / \\epsilon_0) \\cdot (0.003)\\ \\left[\\textrm{V}\\right]$\n",
    ">   - [ ]   $V_B - V_A = 0$\n",
    ">   - [ ]   $\\mathbf{\\vec{E}} \\perp \\Delta\\vec{l}$, along a path from $A$ to $B$\n",
    ">\n",
    ">   <hr width=\"64%\" style=\"border-top:1px dashed; border-bottom:none\"/>"
   ]
  },
  {
   "cell_type": "markdown",
   "id": "fe976e9d",
   "metadata": {},
   "source": []
  },
  {
   "cell_type": "markdown",
   "id": "ae4991b8",
   "metadata": {},
   "source": [
    "<h3 id='4c' style=\"display:none\">(C)</h3>\n",
    "\n",
    ">   <hr width=\"82%\" style=\"border-top:2px dashed; border-bottom:none\"/> \n",
    ">\n",
    ">   ### &#x2e04;&hairsp;&#x2074;&hairsp;&#x2E05;&hairsp;(C)\n",
    ">\n",
    ">   __To calculate $V_C - V_B$, which path should you choose?__ (select one):\n",
    ">\n",
    ">   - [ ]   A path starting at $B$ and ending at $C$.\n",
    ">   - [ ]   It doesn't matter whether the path starts or ends at $B$.\n",
    ">   - [ ]   A path starting at $C$ and ending at $B$.\n",
    ">\n",
    ">   <hr width=\"64%\" style=\"border-top:1px dashed; border-bottom:none\"/>"
   ]
  },
  {
   "cell_type": "markdown",
   "id": "6a4fb36e",
   "metadata": {},
   "source": []
  },
  {
   "cell_type": "markdown",
   "id": "7f43235d",
   "metadata": {},
   "source": [
    "<h3 id='4d' style=\"display:none\">(D)</h3>\n",
    "\n",
    ">   <hr width=\"82%\" style=\"border-top:2px dashed; border-bottom:none\"/>\n",
    ">\n",
    ">   ### &#x2e04;&hairsp;&#x2074;&hairsp;&#x2E05;&hairsp;(D)\n",
    ">\n",
    ">   __The sign of $V_C - V_B$ should be:__ (select one):\n",
    ">   \n",
    ">   - [ ]   Zero - no sign. \n",
    ">   - [ ]   Positive, because $\\Delta \\vec{l}$ is opposite (anti-parallel) to the direction of $\\mathbf{\\vec{E}}$\n",
    ">   - [ ]   Negative, because $\\Delta \\vec{l}$ is in the same direction (parallel) of $\\mathbf{\\vec{E}}$. \n",
    ">\n",
    ">   <hr width=\"64%\" style=\"border-top:1px dashed; border-bottom:none\"/>"
   ]
  },
  {
   "cell_type": "markdown",
   "id": "64fe30a4",
   "metadata": {},
   "source": []
  },
  {
   "cell_type": "markdown",
   "id": "282e9b58",
   "metadata": {},
   "source": [
    "<h3 id='4e' style=\"display:none\">(E)</h2>\n",
    "\n",
    ">   <hr width=\"82%\" style=\"border-top:2px dashed; border-bottom:none\"/>\n",
    ">   \n",
    ">   ### &#x2e04;&hairsp;&#x2074;&hairsp;&#x2E05;&hairsp;(E)\n",
    ">\n",
    ">   __What is the potential difference $V_C - V_B$?__\n",
    ">\n",
    ">   &emsp;&emsp;&emsp;&emsp; $V_C - V_B = \\fbox{\\hspace{8em} ?}\\ \\left[\\textrm{V}\\right]$\n",
    ">\n",
    ">   <hr width=\"64%\" style=\"border-top:1px dashed; border-bottom:none\"/>"
   ]
  },
  {
   "cell_type": "markdown",
   "id": "4961b8a9",
   "metadata": {},
   "source": []
  },
  {
   "cell_type": "markdown",
   "id": "95c6f30c",
   "metadata": {},
   "source": [
    "<h3 id='4f' style=\"display:none\">(F)</h3>\n",
    "\n",
    ">   <hr width=\"82%\" style=\"border-top:2px dashed; border-bottom:none\"/>\n",
    ">\n",
    ">   ### &#x2e04;&hairsp;&#x2074;&hairsp;&#x2E05;&hairsp;(F)\n",
    ">\n",
    ">   __What is the potential difference $V_D - V_C$?__\n",
    ">\n",
    ">   &emsp;&emsp;&emsp;&emsp; $V_D - V_C = \\fbox{\\hspace{8em}?}\\ \\left[\\textrm{V}\\right]$\n",
    ">\n",
    ">   <hr width=\"64%\" style=\"border-top:1px dashed; border-bottom:none\"/>"
   ]
  },
  {
   "cell_type": "markdown",
   "id": "9ee8b846",
   "metadata": {},
   "source": []
  },
  {
   "cell_type": "markdown",
   "id": "839c461a",
   "metadata": {},
   "source": [
    "<h3 id='4g' style=\"display:none\">(G)</h3>\n",
    "\n",
    ">   <hr width=\"82%\" style=\"border-top:2px dashed; border-bottom:none\"/>\n",
    ">\n",
    ">   ### &#x2e04;&hairsp;&#x2074;&hairsp;&#x2E05;&hairsp;(G)\n",
    ">\n",
    ">   __What is the potential difference $V_F - V_D$?__\n",
    ">\n",
    ">   &emsp;&emsp;&emsp;&emsp; $V_F - V_D = \\fbox{\\hspace{8em}?}\\ \\left[\\textrm{V}\\right]$\n",
    ">\n",
    ">   <hr width=\"64%\" style=\"border-top:1px dashed; border-bottom:none\"/>"
   ]
  },
  {
   "cell_type": "markdown",
   "id": "4d894396",
   "metadata": {},
   "source": []
  },
  {
   "cell_type": "markdown",
   "id": "76ffaccc",
   "metadata": {},
   "source": [
    "<h3 id='4h' style=\"display:none\">(H)</h3>\n",
    "\n",
    ">   <hr width=\"82%\" style=\"border-top:2px dashed; border-bottom:none\"/>\n",
    ">\n",
    ">   ### &#x2e04;&hairsp;&#x2074;&hairsp;&#x2E05;&hairsp;(H)\n",
    ">\n",
    ">   __What is the potential difference $V_G - V_F$?__\n",
    ">\n",
    ">   &emsp;&emsp;&emsp;&emsp; $V_G - V_F = \\fbox{\\hspace{8em}?}\\ \\left[\\textrm{V}\\right]$\n",
    ">\n",
    ">   <hr width=\"64%\" style=\"border-top:1px dashed; border-bottom:none\"/>"
   ]
  },
  {
   "cell_type": "markdown",
   "id": "c539a599",
   "metadata": {},
   "source": []
  },
  {
   "cell_type": "markdown",
   "id": "179f124d",
   "metadata": {},
   "source": [
    "<h3 id='4i' style=\"display:none\">(I)</h3>\n",
    "\n",
    ">   <hr width=\"82%\" style=\"border-top:2px dashed; border-bottom:none\"/>\n",
    ">\n",
    ">   ### &#x2e04;&hairsp;&#x2074;&hairsp;&#x2E05;&hairsp;(I)\n",
    ">\n",
    ">   __What is the potential difference $V_G - V_A$?__\n",
    ">\n",
    ">   &emsp;&emsp;&emsp;&emsp; $V_G - V_A = \\fbox{\\hspace{8em}?}\\ \\left[\\textrm{V}\\right]$\n",
    ">\n",
    ">   <hr width=\"64%\" style=\"border-top:1px dashed; border-bottom:none\"/>"
   ]
  },
  {
   "cell_type": "markdown",
   "id": "3473b828",
   "metadata": {},
   "source": []
  },
  {
   "cell_type": "markdown",
   "id": "e147fd34",
   "metadata": {},
   "source": [
    "<h3 id='4j' style=\"display:none\">(J)</h3>\n",
    "\n",
    ">   <hr width=\"82%\" style=\"border-top:2px dashed; border-bottom:none\"/>\n",
    ">\n",
    ">   ### &#x2e04;&hairsp;&#x2074;&hairsp;&#x2E05;&hairsp;(J)\n",
    ">\n",
    ">   The charged disks have tiny holes which allow a particle to pass through them.  \n",
    ">   An electron, which is traveling at a fast speed, approaches the plates from \n",
    ">   the left side.\n",
    ">\n",
    ">   It travels along a path from $A$ to $G$.\n",
    ">\n",
    ">   Consider the following states:\n",
    ">   - _Initial_, electron at location $A$.\n",
    ">   - _Final_, electron at location $G$.\n",
    ">\n",
    ">   <hr width=\"64%\" style=\"border-top:1px dashed; border-bottom:none\"/>"
   ]
  },
  {
   "cell_type": "markdown",
   "id": "29b304a4",
   "metadata": {},
   "source": [
    "<h4 id='4j_i' style=\"display:none\">{J.i}</h4>\n",
    "\n",
    ">   <hr width=\"64%\" style=\"border-top:1px dotted; border-bottom:none\"/>\n",
    ">\n",
    ">   #### &#x2e04;&hairsp;&#x2074;&hairsp;&#x2E05;&hairsp;{J.i}\n",
    ">\n",
    ">   __What is the change in the potential energy of the system?__\n",
    ">\n",
    ">   &emsp;&emsp;&emsp;&emsp; $\\Delta U = \\fbox{\\hspace{8em}?}\\ \\left[\\textrm{J}\\right]$\n",
    ">\n",
    ">   <hr width=\"64%\" style=\"border-top:1px dotted; border-bottom:none\"/>"
   ]
  },
  {
   "cell_type": "markdown",
   "id": "8921d2c3",
   "metadata": {},
   "source": []
  },
  {
   "cell_type": "markdown",
   "id": "03781c7c",
   "metadata": {},
   "source": [
    "<h4 id='4j_ii' style=\"display:none\">{J.ii}</h4>\n",
    "\n",
    ">   <hr width=\"64%\" style=\"border-top:1px dotted; border-bottom:none\"/>\n",
    ">\n",
    ">   #### &#x2e04;&hairsp;&#x2074;&hairsp;&#x2E05;&hairsp;{J.ii}\n",
    ">\n",
    ">   __What is the change in kinetic energy of the electron?__\n",
    ">\n",
    ">   &emsp;&emsp;&emsp;&emsp; $\\Delta K = \\fbox{\\hspace{8em}?}\\ \\left[\\textrm{J}\\right]$\n",
    ">\n",
    ">   <hr width=\"64%\" style=\"border-top:1px dotted; border-bottom:none\"/>"
   ]
  },
  {
   "cell_type": "markdown",
   "id": "1a07d40d",
   "metadata": {},
   "source": []
  },
  {
   "cell_type": "markdown",
   "id": "d06864b2",
   "metadata": {},
   "source": [
    "<div style=\"page-break-after: always;\"/> \n",
    "<h2 id='5' style=\"display:none\">[5]*</h2>\n",
    "\n",
    ">   ---\n",
    ">   ## [5]*\n",
    ">\n",
    ">   The figure shows a disk-shaped region of radius 2 [cm], on which there is a \n",
    ">   uniform electric field, of magnitude 291 [V/m], at an angle of $\\theta = 28$\n",
    ">   degrees to the plane of the disk.\n",
    ">\n",
    ">   {{GRAPHIC}}\n",
    ">\n",
    ">   __Calculate the electric flux on the disk, and include the correct units.__ (select one:)\n",
    ">\n",
    ">   &emsp;&emsp;&emsp;&emsp; $\\textrm{flux} = \\fbox{\\hspace{8em}?}$\n",
    ">\n",
    ">   - [ ]   [V⋅m]\n",
    ">   - [ ]   [V⋅m^2]\n",
    ">   - [ ]   [V/m^2]\n",
    ">   - [ ]   [V/m]\n",
    ">\n",
    ">   __<p align='right'>(10 points)</p>__\n",
    ">\n",
    ">   <hr width=\"64%\" style=\"border-top:1px dotted; border-bottom:none\"/>"
   ]
  },
  {
   "cell_type": "markdown",
   "id": "d1c2b19b",
   "metadata": {},
   "source": []
  },
  {
   "cell_type": "markdown",
   "id": "8f7d3a80",
   "metadata": {},
   "source": [
    "<div style=\"page-break-after: always;\"/> \n",
    "<h2 id='6' style=\"display:none\">[6]</h2>\n",
    "\n",
    ">   ---\n",
    ">   ## [6]\n",
    ">\n",
    ">   The figure shows a box, on whose surfaces the electric field is measured to \n",
    ">   be horizontal and to the right. \n",
    ">\n",
    ">   On the left face (3 [[cm]] by 2 [[cm]]), the magnitude of the electric field\n",
    ">   $\\mathbf{E}_1$ is 280 volts/meter; and on the right face, the magnitude of \n",
    ">   the electric field $\\mathbf{E}_2$ is 1190 volts/meter.\n",
    ">\n",
    ">   On the other faces, only the direction is known (horizontal for face $i$, \n",
    ">   $\\mathbf{E}_{i \\not \\in \\{1,2\\}}$).\n",
    ">\n",
    ">   __Calculate the electric flux on every face of the box, the total flux, and the total amount of charge that is inside the box.__\n",
    ">\n",
    ">   __<p align='right'>(0.1 points)</p>__\n",
    ">\n",
    ">   <hr width=\"64%\" style=\"border-top:1px dotted; border-bottom:none\"/>   "
   ]
  },
  {
   "cell_type": "markdown",
   "id": "b1de79e5",
   "metadata": {},
   "source": [
    "<h3 id='6a' style=\"display:none\">(A)</h3>\n",
    "\n",
    ">   <hr width=\"82%\" style=\"border-top:2px dashed; border-bottom:none\"/>\n",
    ">\n",
    ">   ### &#x2e04;&hairsp;&#x2076;&hairsp;&#x2E05;&hairsp;(A)\n",
    ">\n",
    ">   Electric Flux through the top face of the box is \n",
    ">   \n",
    ">   &emsp;&emsp;&emsp;&emsp; $\\fbox{\\hspace{8em}?}\\ \\left[\\textrm{V}\\cdot\\textrm{m}\\right]$\n",
    ">\n",
    ">   <hr width=\"64%\" style=\"border-top:1px dashed; border-bottom:none\"/>"
   ]
  },
  {
   "cell_type": "markdown",
   "id": "ae0fdba3",
   "metadata": {},
   "source": []
  },
  {
   "cell_type": "markdown",
   "id": "b7c1d92b",
   "metadata": {},
   "source": [
    "<h3 id='6b' style=\"display:none\">(B)</h3>\n",
    "\n",
    ">   <hr width=\"82%\" style=\"border-top:2px dashed; border-bottom:none\"/>\n",
    ">\n",
    ">   ### &#x2e04;&hairsp;&#x2076;&hairsp;&#x2E05;&hairsp;(B)\n",
    ">\n",
    ">   Electric Flux through the bottom face of the box is \n",
    ">\n",
    ">   &emsp;&emsp;&emsp;&emsp; $\\fbox{\\hspace{8em}?}\\ \\left[\\textrm{V}\\cdot\\textrm{m}\\right]$\n",
    ">\n",
    ">   <hr width=\"64%\" style=\"border-top:1px dashed; border-bottom:none\"/>"
   ]
  },
  {
   "cell_type": "markdown",
   "id": "6a4d994d",
   "metadata": {},
   "source": []
  },
  {
   "cell_type": "markdown",
   "id": "e5d2d1c0",
   "metadata": {},
   "source": [
    "<h3 id='6c' style=\"display:none\">(C)</h3>\n",
    "\n",
    ">   <hr width=\"82%\" style=\"border-top:2px dashed; border-bottom:none\"/>\n",
    ">\n",
    ">   ### &#x2e04;&hairsp;&#x2076;&hairsp;&#x2E05;&hairsp;(C)\n",
    ">\n",
    ">   Electric Flux through the left face of the box is \n",
    ">\n",
    ">   &emsp;&emsp;&emsp;&emsp; $\\fbox{\\hspace{8em}?}\\ \\left[\\textrm{V}\\cdot\\textrm{m}\\right]$\n",
    ">\n",
    ">   <hr width=\"64%\" style=\"border-top:1px dashed; border-bottom:none\"/>"
   ]
  },
  {
   "cell_type": "markdown",
   "id": "b2fbce88",
   "metadata": {},
   "source": []
  },
  {
   "cell_type": "markdown",
   "id": "06363bb2",
   "metadata": {},
   "source": [
    "<h3 id='6d' style=\"display:none\">(D)</h3>\n",
    "\n",
    ">   <hr width=\"82%\" style=\"border-top:2px dashed; border-bottom:none\"/>\n",
    ">\n",
    ">   ### &#x2e04;&hairsp;&#x2076;&hairsp;&#x2E05;&hairsp;(D)\n",
    ">\n",
    ">   Electric Flux through the right face of the box is \n",
    ">\n",
    ">   &emsp;&emsp;&emsp;&emsp; $\\fbox{\\hspace{8em}?}\\ \\left[\\textrm{V}\\cdot\\textrm{m}\\right]$\n",
    ">\n",
    ">   <hr width=\"64%\" style=\"border-top:1px dashed; border-bottom:none\"/>"
   ]
  },
  {
   "cell_type": "markdown",
   "id": "69f75710",
   "metadata": {},
   "source": []
  },
  {
   "cell_type": "markdown",
   "id": "631c48b2",
   "metadata": {},
   "source": [
    "<h3 id='6e' style=\"display:none\">(E)</h3>\n",
    "\n",
    ">   <hr width=\"82%\" style=\"border-top:2px dashed; border-bottom:none\"/>\n",
    ">\n",
    ">   ### &#x2e04;&hairsp;&#x2076;&hairsp;&#x2E05;&hairsp;(E)\n",
    ">\n",
    ">   Electric Flux through the front face of the box is \n",
    ">\n",
    ">   &emsp;&emsp;&emsp;&emsp; $\\fbox{\\hspace{8em}?}\\ \\left[\\textrm{V}\\cdot\\textrm{m}\\right]$\n",
    ">\n",
    ">   <hr width=\"64%\" style=\"border-top:1px dashed; border-bottom:none\"/>"
   ]
  },
  {
   "cell_type": "markdown",
   "id": "79d97225",
   "metadata": {},
   "source": []
  },
  {
   "cell_type": "markdown",
   "id": "8b9fd0d6",
   "metadata": {},
   "source": [
    "<h3 id='6f' style=\"display:none\">(F)</h3>\n",
    "\n",
    ">   <hr width=\"82%\" style=\"border-top:2px dashed; border-bottom:none\"/>\n",
    ">\n",
    ">   ### &#x2e04;&hairsp;&#x2076;&hairsp;&#x2E05;&hairsp;(F)\n",
    ">\n",
    ">   Electric Flux through the back face of the box is \n",
    ">\n",
    ">   &emsp;&emsp;&emsp;&emsp; $\\fbox{\\hspace{8em}?}\\ \\left[\\textrm{V}\\cdot\\textrm{m}\\right]$\n",
    ">\n",
    ">   <hr width=\"64%\" style=\"border-top:1px dashed; border-bottom:none\"/>"
   ]
  },
  {
   "cell_type": "markdown",
   "id": "13bd8f41",
   "metadata": {},
   "source": []
  },
  {
   "cell_type": "markdown",
   "id": "7161ad89",
   "metadata": {},
   "source": [
    "<h3 id='6g' style=\"display:none\">(G)</h3>\n",
    "\n",
    ">   <hr width=\"82%\" style=\"border-top:2px dashed; border-bottom:none\"/>\n",
    ">\n",
    ">   ### &#x2e04;&hairsp;&#x2076;&hairsp;&#x2E05;&hairsp;(G)\n",
    ">\n",
    ">   Total Flux through all faces of the box is \n",
    ">\n",
    ">   &emsp;&emsp;&emsp;&emsp; $\\fbox{\\hspace{8em}?}\\ \\left[\\textrm{V}\\cdot\\textrm{m}\\right]$\n",
    ">\n",
    ">   <hr width=\"64%\" style=\"border-top:1px dashed; border-bottom:none\"/>"
   ]
  },
  {
   "cell_type": "markdown",
   "id": "b16557eb",
   "metadata": {},
   "source": []
  },
  {
   "cell_type": "markdown",
   "id": "2f85b68b",
   "metadata": {},
   "source": [
    "<h3 id='6h' style=\"display:none\">(H)</h3>\n",
    "\n",
    ">   <hr width=\"82%\" style=\"border-top:2px dashed; border-bottom:none\"/>\n",
    ">\n",
    ">   ### &#x2e04;&hairsp;&#x2076;&hairsp;&#x2E05;&hairsp;(H)\n",
    ">\n",
    ">   Electric Flux through the left face of the box is \n",
    ">\n",
    ">   &emsp;&emsp;&emsp;&emsp; $\\fbox{\\hspace{8em}?}\\ \\left[\\textrm{V}\\cdot\\textrm{m}\\right]$\n",
    ">\n",
    ">   <hr width=\"64%\" style=\"border-top:1px dashed; border-bottom:none\"/>"
   ]
  },
  {
   "cell_type": "markdown",
   "id": "7f7bbfc2",
   "metadata": {},
   "source": []
  },
  {
   "cell_type": "markdown",
   "id": "2c8dbd96",
   "metadata": {},
   "source": [
    "<h3 id='6i' style=\"display:none\">(I)</h3>\n",
    "\n",
    ">   <hr width=\"82%\" style=\"border-top:2px dashed; border-bottom:none\"/>\n",
    ">\n",
    ">   ### &#x2e04;&hairsp;&#x2076;&hairsp;&#x2E05;&hairsp;(I)\n",
    ">\n",
    ">   The total electric charge inside the box (recall that $\\epsilon_0 = 8.85 \\times 10^{-12}$ [C^2 / N⋅m^2]) is\n",
    ">\n",
    ">   &emsp;&emsp;&emsp;&emsp; $\\fbox{\\hspace{8em}?}\\ \\left[\\textrm{C}\\right]$\n",
    ">\n",
    ">   <hr width=\"64%\" style=\"border-top:1px dashed; border-bottom:none\"/>"
   ]
  },
  {
   "cell_type": "markdown",
   "id": "66908614",
   "metadata": {},
   "source": []
  },
  {
   "cell_type": "markdown",
   "id": "7dbd0cbf",
   "metadata": {},
   "source": [
    "<div style=\"page-break-after: always;\"/> \n",
    "<h2 id='7' style=\"display:none\">[7]*</h2>\n",
    "\n",
    ">   ---\n",
    ">   ## [7]*\n",
    ">\n",
    ">   __<p align='right'>(10 points)</p>__\n",
    ">\n",
    ">   <hr width=\"64%\" style=\"border-top:1px dotted; border-bottom:none\"/>"
   ]
  },
  {
   "cell_type": "markdown",
   "id": "840b88fe",
   "metadata": {},
   "source": [
    "<h3 id='7a' style=\"display:none\">(A)</h3>\n",
    "\n",
    ">   <hr width=\"82%\" style=\"border-top:2px dashed; border-bottom:none\"/>\n",
    ">\n",
    ">   ### &#x2e04;&hairsp;&#x2077;&hairsp;&#x2E05;&hairsp;(A)\n",
    ">\n",
    ">   The electric field has been measured to be vertically upward everywhere on \n",
    ">   the surface of a box 20 [[cm]] long, 4 [[cm]] high, and 3 [[cm]] deep (shown\n",
    ">   in the figure below). \n",
    ">\n",
    ">   Over all the surface of the bottom face of the box, $\\mathbf{\\vec{E}}_1 = 1700$ [V/m], \n",
    ">   all over the surface of the side faces of the box $\\mathbf{\\vec{E}}_2 = 900$ [V/m], \n",
    ">   and over all the top surface of the box $\\mathbf{\\vec{E}}_3 = 800$ [V/m].\n",
    ">\n",
    ">   {{GRAPHIC}}\n",
    ">\n",
    ">   __What is the amount of charge enclosed by the box?__ <br>\n",
    ">   Use the accurate value $\\epsilon_0 = 8.85 \\times 10^{-12}$ [C^2 / N⋅m^2]\n",
    ">\n",
    ">   &emsp;&emsp;&emsp;&emsp; $\\fbox{\\hspace{8em}?}\\ \\left[\\textrm{C}\\right]$\n",
    ">\n",
    ">   <hr width=\"64%\" style=\"border-top:1px dashed; border-bottom:none\"/>"
   ]
  },
  {
   "cell_type": "markdown",
   "id": "0e65f6b9",
   "metadata": {},
   "source": []
  },
  {
   "cell_type": "markdown",
   "id": "2b02567e",
   "metadata": {},
   "source": [
    "<h3 id='7b' style=\"display:none\">(B)</h3>\n",
    "\n",
    ">   <hr width=\"82%\" style=\"border-top:2px dashed; border-bottom:none\"/>\n",
    ">\n",
    ">   ### &#x2e04;&hairsp;&#x2077;&hairsp;&#x2E05;&hairsp;(B)\n",
    ">\n",
    ">   The electric field is horizontal and has the values indicated on the surface \n",
    ">   of a cylinder shown in the figure. \n",
    ">\n",
    ">   $\\mathbf{\\vec{E}}_1 = 1700$ [N/C], $\\mathbf{\\vec{E}}_2 = 1400$ [N/C], and \n",
    ">   $\\mathbf{\\vec{E}}_3 = 1100$ [N/C].\n",
    ">\n",
    ">   {{GRAPHIC}}\n",
    ">\n",
    ">   __What is the amount of charge enclosed by the cylinder?__ <br>\n",
    ">   Use the accurate value $\\epsilon_0 = 8.85 \\times 10^{-12}$ [C^2 / N⋅m^2]\n",
    ">\n",
    ">   &emsp;&emsp;&emsp;&emsp; $\\fbox{\\hspace{8em}?}\\ \\left[\\textrm{C}\\right]$\n",
    ">\n",
    ">   <hr width=\"64%\" style=\"border-top:1px dashed; border-bottom:none\"/>"
   ]
  },
  {
   "cell_type": "markdown",
   "id": "1c6d75a7",
   "metadata": {},
   "source": []
  },
  {
   "cell_type": "markdown",
   "id": "3d1b102e",
   "metadata": {},
   "source": [
    "<h3 id='7c' style=\"display:none\">(C)</h3>\n",
    "\n",
    ">   <hr width=\"82%\" style=\"border-top:2px dashed; border-bottom:none\"/>\n",
    ">\n",
    ">   ### &#x2e04;&hairsp;&#x2077;&hairsp;&#x2E05;&hairsp;(C)\n",
    ">\n",
    ">   The electric field has been measured to be horizontal, and to the right, \n",
    ">   everywhere on the closed trapezoidal box shown in the figure below. \n",
    ">\n",
    ">   Over all the surface of the left face of the trapezoidal box $\\mathbf{\\vec{E}}_1 = 90$ [V/m], \n",
    ">   and over all the surface of the slanting right face of the box $\\mathbf{\\vec{E}}_2 = 450$ [V/m].\n",
    ">\n",
    ">   On the surface of the top face of the box, the average field is $\\mathbf{\\vec{E}}_3 = 300$ [V/m], \n",
    ">   and on the surfaces of the front and back faces the average field is $\\mathbf{\\vec{E}}_4 = 175$ [V/m], \n",
    ">   and on the surface of the bottom face of the box the average field is $\\mathbf{\\vec{E}}_5 = 240$ [V/m].\n",
    ">\n",
    ">   {{GRAPHIC}}\n",
    ">\n",
    ">   __How much charge is enclosed by the slanted trapezoidal box?__ <br>\n",
    ">   Use the accurate value $\\epsilon_0 = 8.85 \\times 10^{-12}$ [C^2 / N⋅m^2]\n",
    ">\n",
    ">   &emsp;&emsp;&emsp;&emsp; $\\fbox{\\hspace{8em}?}\\ \\left[\\textrm{C}\\right]$\n",
    ">\n",
    ">   <hr width=\"64%\" style=\"border-top:1px dashed; border-bottom:none\"/>"
   ]
  },
  {
   "cell_type": "markdown",
   "id": "167dd9dc",
   "metadata": {},
   "source": []
  },
  {
   "cell_type": "markdown",
   "id": "6d913fe8",
   "metadata": {},
   "source": [
    "<div style=\"page-break-after: always;\"/> \n",
    "<h2 id='8' style=\"display:none\">[8]*</h2>\n",
    "\n",
    ">   ---\n",
    ">   ## [8]*\n",
    ">\n",
    ">   The electric field has been measured to be horizontal, and to the right, \n",
    ">   everywhere on the closed box as shown in the figure below. \n",
    ">\n",
    ">   Over all the surface of the left side of the box $\\mathbf{E}_1 = 107$ [V/m],\n",
    ">   and all over the surface of the slanting right face of the box $\\mathbf{E}_2 = 273$ [V/m].\n",
    ">\n",
    ">   On the top face, the average field is $\\mathbf{E}_3 = 160$ [V], on the front\n",
    ">   and back the average field is $\\mathbf{E}_4 = 170$ [V/m], and on the bottom \n",
    ">   face the average field is $\\mathbf{E}_5 = 190$ [V/m]. \n",
    ">\n",
    ">   __How much charge is inside the box?__\n",
    ">\n",
    ">   &emsp;&emsp;&emsp;&emsp; $\\fbox{\\hspace{8em}?}\\ \\left[\\textrm{C}\\right]$\n",
    ">\n",
    ">   __Explain briefly:__ (select one):\n",
    ">   \n",
    ">   - [ ]   The charge inside the box is zero, because the total flux across all \n",
    ">           faces is zero. \n",
    ">\n",
    ">   - [ ]   All six faces of the wedge have a non-zero flux. The sum of the flux\n",
    ">           across all six faces gives the total flux, which can be used to find\n",
    ">           the total charge. \n",
    ">\n",
    ">   - [ ]   The charge inside the box is zero, because the flux across each \n",
    ">           individual face is zero. \n",
    ">\n",
    ">   - [ ]   Only four faces of the wedge have a non-zero flux -- the front and \n",
    ">           back sides, and the top and bottom sides.  Their sum gives the total\n",
    ">           flux, which can be used to find the total charge. \n",
    ">\n",
    ">   - [ ]   Only two faces of the wedge have a non-zero flux -- the left side \n",
    ">           and the slanting side.  Their sum gives the total flux, which can be\n",
    ">           used to find the total charge. \n",
    ">\n",
    ">   __<p align='right'>(10 points)</p>__\n",
    ">\n",
    ">   <hr width=\"64%\" style=\"border-top:1px dotted; border-bottom:none\"/>"
   ]
  },
  {
   "cell_type": "code",
   "execution_count": null,
   "id": "2d0b90a6",
   "metadata": {},
   "outputs": [],
   "source": []
  },
  {
   "cell_type": "markdown",
   "id": "c5b726b2",
   "metadata": {},
   "source": [
    "<div style=\"page-break-after: always;\"/> \n",
    "<h2 id='9' style=\"display:none\">[9]*</h2>\n",
    "\n",
    ">   ---\n",
    ">   ## [9]*\n",
    ">\n",
    ">   In the figure below the solenoid radius is $3$ [cm], and the ring radius is \n",
    ">   $14$ [cm]. \n",
    ">\n",
    ">   $\\mathbf{B} = 0.8$ [T] inside the solenoid, and $\\mathbf{B} \\approx 0$ outside the solenoid. \n",
    ">\n",
    ">   {{GRAPHIC}}\n",
    ">\n",
    ">   __What is the magnetic flux through the outer ring?__\n",
    ">\n",
    ">   &emsp;&emsp;&emsp;&emsp; $\\fbox{\\hspace{8em}?}\\ \\left[\\textrm{T}\\cdot\\textrm{m}^2\\right]$\n",
    ">\n",
    ">   __<p align='right'>(10 points)</p>__\n",
    ">\n",
    ">   <hr width=\"64%\" style=\"border-top:1px dotted; border-bottom:none\"/>"
   ]
  },
  {
   "cell_type": "code",
   "execution_count": null,
   "id": "346f0416",
   "metadata": {},
   "outputs": [],
   "source": []
  },
  {
   "cell_type": "markdown",
   "id": "1e78006d",
   "metadata": {},
   "source": [
    "---"
   ]
  }
 ],
 "metadata": {
  "kernelspec": {
   "display_name": "SageMath 10.6",
   "language": "sage",
   "name": "SageMath-10.6"
  },
  "language_info": {
   "codemirror_mode": {
    "name": "ipython",
    "version": 3
   },
   "file_extension": ".py",
   "mimetype": "text/x-python",
   "name": "python",
   "nbconvert_exporter": "python",
   "pygments_lexer": "ipython3",
   "version": "3.12.5"
  }
 },
 "nbformat": 4,
 "nbformat_minor": 5
}
