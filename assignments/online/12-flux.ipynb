{
 "cells": [
  {
   "cell_type": "markdown",
   "id": "b178c1bf",
   "metadata": {},
   "source": [
    "# Flux\n",
    "\n",
    "M&I 4e\n",
    "\n",
    "Ch. 16 Electric Potential \n",
    "\n",
    "- §16.3 &ndash; Potential Difference in a Uniform Field\n",
    "- §16.5 &ndash; Potential Difference in a Non-Uniform Field\n",
    "\n",
    "Ch. 21 Patterns of Fields in Space\n",
    "\n",
    "- §21.2 &ndash; Definition of \"Electric Flux\"\n",
    "- §21.3 &ndash; Gauss's Law\n",
    "\n",
    "Ch. 22 Faraday's Law\n",
    "\n",
    "- §22.2 &ndash; Faraday's Law"
   ]
  },
  {
   "cell_type": "code",
   "execution_count": 3,
   "id": "4d87d0c4",
   "metadata": {
    "vscode": {
     "languageId": "python"
    }
   },
   "outputs": [
    {
     "name": "stdout",
     "output_type": "stream",
     "text": [
      "The autoreload extension is already loaded. To reload it, use:\n",
      "  %reload_ext autoreload\n",
      "The Cython extension is already loaded. To reload it, use:\n",
      "  %reload_ext Cython\n",
      "Python: 3.12.5 (main, Feb 25 2025, 12:37:41) [Clang 16.0.0 (clang-1600.0.26.6)]\n"
     ]
    },
    {
     "data": {
      "text/html": [
       "<html>\\(\\displaystyle \\verb|SageMath|\\verb| |\\verb|version|\\verb| |\\verb|10.6,|\\verb| |\\verb|Release|\\verb| |\\verb|Date:|\\verb| |\\verb|2025-03-31|\\)</html>"
      ],
      "text/latex": [
       "$\\displaystyle \\verb|SageMath|\\verb| |\\verb|version|\\verb| |\\verb|10.6,|\\verb| |\\verb|Release|\\verb| |\\verb|Date:|\\verb| |\\verb|2025-03-31|$"
      ],
      "text/plain": [
       "'SageMath version 10.6, Release Date: 2025-03-31'"
      ]
     },
     "execution_count": 3,
     "metadata": {},
     "output_type": "execute_result"
    }
   ],
   "source": [
    "########\n",
    "## Env Setup / Preamble\n",
    "########\n",
    "%load_ext autoreload\n",
    "%autoreload complete \n",
    "\n",
    "%load_ext Cython\n",
    "\n",
    "%display latex\n",
    "\n",
    "################\n",
    "\n",
    "import cython\n",
    "from sage.all import *\n",
    "\n",
    "################\n",
    "\n",
    "import tempfile\n",
    "import mmap\n",
    "from multiprocessing import shared_memory\n",
    "\n",
    "################\n",
    "\n",
    "import numpy as np\n",
    "import scipy.constants\n",
    "\n",
    "np.random.seed( int(scipy.constants.golden_ratio * 1.e6) )\n",
    "\n",
    "from numpy import vectorize\n",
    "from numpy import r_, c_, s_\n",
    "\n",
    "################\n",
    "\n",
    "####    boiler-plate class for named constants\n",
    "from sage.symbolic.constants import Constant\n",
    "class ConstantFromExpression(Constant):\n",
    "    def __init__(self, name, v):\n",
    "        conversions = dict(maxima=repr(maxima.coerce(v)))\n",
    "        Constant.__init__(self, name, conversions=conversions)\n",
    "        self._v = v\n",
    "    def __float__(self): return float(self._v)\n",
    "    def __complex__(self): return complex(self._v)\n",
    "    def _mpfr_(self, R): return R(self._v)\n",
    "    def _real_double_(self, R): return R(self._v)\n",
    "\n",
    "def NamedExpression(name, expr):\n",
    "    return ConstantFromExpression(name,expr).expression()\n",
    "####\n",
    "\n",
    "import sage.symbolic.units as units     # <: TODO\n",
    "\n",
    "π   = NamedExpression('π', scipy.constants.pi)          # pi\n",
    "ε_0 = NamedExpression('ε_0', scipy.constants.epsilon_0) # electric permittivity of vacuum\n",
    "μ_0 = NamedExpression('μ_0', scipy.constants.mu_0)      # magnetic permeability of vacuum\n",
    "\n",
    "𝛋 = 1. / (4 * π * ε_0)      # Coulomb's constant in [ N·m²/C² ]\n",
    "q = NamedExpression('q', -scipy.constants.elementary_charge)\n",
    "\n",
    "ℎ_planck = NamedExpression('ℎ', scipy.constants.Planck)\n",
    "ℏ = NamedExpression('ℏ', scipy.constants.hbar)\n",
    "\n",
    "α = NamedExpression('α', scipy.constants.fine_structure)\n",
    "\n",
    "m_e = NamedExpression('m_e', scipy.constants.electron_mass)\n",
    "m_p = NamedExpression('m_p', scipy.constants.proton_mass)\n",
    "\n",
    "################\n",
    "\n",
    "Parallelism().set(nproc=8)\n",
    "print(f\"Python: {sys.version}\")\n",
    "version()\n"
   ]
  },
  {
   "cell_type": "code",
   "execution_count": 4,
   "id": "6dbb2a79",
   "metadata": {
    "vscode": {
     "languageId": "python"
    }
   },
   "outputs": [],
   "source": [
    "##  sanity check\n",
    "import this\n"
   ]
  },
  {
   "cell_type": "markdown",
   "id": "b6060a6a",
   "metadata": {},
   "source": [
    "---\n",
    "\n",
    "<hr width=\"82%\" style=\"border-top:2px dashed; border-bottom:none\"/>\n",
    "\n",
    "<hr width=\"64%\" style=\"border-top:1px dotted; border-bottom:none\"/>"
   ]
  },
  {
   "cell_type": "markdown",
   "id": "0f3d2285",
   "metadata": {},
   "source": [
    "<div style=\"page-break-after: always;\"/> \n",
    "\n",
    "<h2 id='1' style=\"display:none\">[1]</h2>\n",
    "\n",
    ">   ---\n",
    ">   # [1] \n",
    ">\n",
    ">   You move from location $i$ at <5, 5, 5> [m], to a location $f$ at $\\langle 4, 10, 13\\rangle$ [m].  \n",
    ">\n",
    ">   All along this path, there is a nearly uniform electric field \n",
    ">   $\\mathbf{\\vec{E}} = \\langle 1200, 210, -500 \\rangle$ [N/C].  \n",
    ">\n",
    ">   __Calculate $\\Delta V = V_f - V_i$, including sign and units.__\n",
    ">\n",
    ">   &emsp;&emsp;&emsp;&emsp; $\\Delta V = \\fbox{\\hspace{8em}?}\\ \\left[\\textrm{V}\\right]$\n",
    ">\n",
    ">   __<p align='right'>(0.1 points)</p>__\n",
    ">   <hr width=\"64%\" style=\"border-top:1px dashed; border-bottom:none\"/>"
   ]
  },
  {
   "cell_type": "code",
   "execution_count": null,
   "id": "7b9f805c",
   "metadata": {
    "vscode": {
     "languageId": "python"
    }
   },
   "outputs": [],
   "source": []
  },
  {
   "cell_type": "markdown",
   "id": "8b61f0fb",
   "metadata": {},
   "source": [
    "<div style=\"page-break-after: always;\"/> \n",
    "\n",
    "<h2 id='2' style=\"display:none\">[2]*</h2>\n",
    "\n",
    ">   ---\n",
    ">   ## [2]*\n",
    ">\n",
    ">   A capacitor with a gap of 3 [mm] has a potential difference from one plate \n",
    ">   to the other of 34 [volts]. \n",
    ">\n",
    ">   **What is the magnitude of the electric field between the plates?**\n",
    ">\n",
    ">   &emsp;&emsp;&emsp;&emsp; $\\fbox{\\hspace{8em}?}\\ \\left[\\textrm{V}/\\textrm{m}\\right]$\n",
    ">\n",
    ">   __<p align='right'>(10 points)</p>__\n",
    ">   <hr width=\"64%\" style=\"border-top:1px dashed; border-bottom:none\"/>"
   ]
  },
  {
   "cell_type": "code",
   "execution_count": null,
   "id": "b7c48448",
   "metadata": {
    "vscode": {
     "languageId": "python"
    }
   },
   "outputs": [],
   "source": []
  },
  {
   "cell_type": "markdown",
   "id": "e69325bf",
   "metadata": {},
   "source": [
    "<div style=\"page-break-after: always;\"/> \n",
    "\n",
    "<h2 id='3' style=\"display:none\">[3]*</h2>\n",
    "\n",
    ">   ---\n",
    ">   ## [3]*\n",
    ">\n",
    ">   <img loading='lazy' decoding='async' src=\"data:image/avif;base64,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\" />\n",
    ">\n",
    ">   **Potential difference in a capacitor**\n",
    ">\n",
    ">   A capacitor consists of two large metal disks placed a distance $s$ apart \n",
    ">   (see figure above).\n",
    ">\n",
    ">   The radius $R$ of each disk is 7.8 [m], the gap $s$ between the disks is \n",
    ">   $1.2$ [mm], and the thickness of each disk is $0.4$ [mm]. \n",
    ">\n",
    ">   The disk on the left has a net charge of $3.3 \\times 10^{-4}$ [C], and the \n",
    ">   disk on the right has a net charge of $-3.3 \\times 10^{-4}$ [C]. \n",
    ">\n",
    ">   **Calculate the potential difference $V_2 - V_1$**, where:\n",
    ">   - location 1 is inside the left disk at its center, and \n",
    ">   - location 2 is in the center of the air gap between the disks.\n",
    ">\n",
    ">   Use $\\epsilon_0 = 8.85 \\times 10^{-12}$ [C^2 / (N⋅m^2)]\n",
    ">\n",
    ">   &emsp;&emsp;&emsp;&emsp; $V_2 = V_1 = \\fbox{\\hspace{8em}?}\\ \\left[\\textrm{V}\\right]$\n",
    ">\n",
    ">   <p align='right'><b>(10 points)</b></p>\n",
    ">   <hr width=\"64%\" style=\"border-top:1px dashed; border-bottom:none\"/>"
   ]
  },
  {
   "cell_type": "code",
   "execution_count": null,
   "id": "21cca777",
   "metadata": {
    "vscode": {
     "languageId": "python"
    }
   },
   "outputs": [],
   "source": []
  },
  {
   "cell_type": "markdown",
   "id": "535e5ec3",
   "metadata": {},
   "source": [
    "<div style=\"page-break-after: always;\"/> \n",
    "<h2 id='4' style=\"display:none\">[4]*</h2>\n",
    "\n",
    ">   ---\n",
    ">   ## [4]*\n",
    ">\n",
    ">   Three charged metal disks are arranged as shown (cutaway view, see figure \n",
    ">   below). \n",
    ">\n",
    ">   The disks are held apart by insulating supports not shown in the diagram. \n",
    ">   Each disk has an area of 2.3 [m²] (this is the area of one flat surface of \n",
    ">   the disk).\n",
    ">\n",
    ">   Use the values\n",
    ">   - $\\epsilon_0 = 8.85e10^{-12}$ [[C² / (N⋅m²)]],\n",
    ">   - charge $Q_1 = 3 \\times 10^{-8}$ Coulombs,\n",
    ">   - charge $Q_2 = 2 \\times 10^{-7}$ Coulombs.\n",
    ">\n",
    ">   <img loading='lazy' decoding='async' src=\"data:image/avif;base64,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\" />\n",
    ">\n",
    ">   <p align='right'><b>(10 points)</b></p>\n",
    ">   <hr width=\"64%\" style=\"border-top:1px dashed; border-bottom:none\"/>"
   ]
  },
  {
   "cell_type": "markdown",
   "id": "b08df945",
   "metadata": {},
   "source": [
    "<h3 id='4a' style=\"display:none\">(A)</h3>\n",
    "\n",
    ">   <hr width=\"82%\" style=\"border-bottom:2px dashed; border-top:none\"/>\n",
    ">\n",
    ">   ### &#x2e04;&hairsp;&#x2074;&hairsp;&#x2E05;&hairsp;(A)\n",
    ">\n",
    ">   __What is the magnitude of the electric field in the region between disks 1 and 2?__\n",
    ">\n",
    ">   &emsp;&emsp;&emsp;&emsp; $\\lvert\\mathbf{\\vec{E}}_{12}\\rvert = \\fbox{\\hspace{8em} ?}\\ \\left[\\textrm{V}/\\textrm{m}\\right]$\n",
    ">\n",
    ">   __What is the direction of the electric field between disks 1 and 2?__ \n",
    ">\n",
    ">   (select one):\n",
    ">\n",
    ">   - [ ]   $+\\hat{x}$\n",
    ">   - [ ]   $-\\hat{x}$\n",
    ">   - [ ]   $+\\hat{y}$\n",
    ">   - [ ]   $-\\hat{y}$\n",
    ">   - [ ]   $+\\hat{z}$\n",
    ">   - [ ]   $-\\hat{z}$\n",
    ">\n",
    ">   <hr width=\"64%\" style=\"border-top:1px dashed; border-bottom:none\"/>"
   ]
  },
  {
   "cell_type": "code",
   "execution_count": null,
   "id": "5570516a",
   "metadata": {
    "vscode": {
     "languageId": "python"
    }
   },
   "outputs": [],
   "source": []
  },
  {
   "cell_type": "markdown",
   "id": "0776ce5f",
   "metadata": {},
   "source": []
  },
  {
   "cell_type": "markdown",
   "id": "6a137b3d",
   "metadata": {},
   "source": [
    "<h3 id='4b' style=\"display:none\">(B)</h3>\n",
    "\n",
    ">   <hr width=\"82%\" style=\"border-top:2px dashed; border-bottom:none\"/>\n",
    ">\n",
    ">   ### &#x2e04;&hairsp;&#x2074;&hairsp;&#x2E05;&hairsp;(B)\n",
    ">\n",
    ">   __Which of the following statements are true?__  Choose all that apply. \n",
    ">\n",
    ">   - [ ]   $V_B - V_A = - ((Q_1 / 2.3) / \\epsilon_0) \\cdot (0.003)\\ \\left[\\textrm{V}\\right]$\n",
    ">   - [ ]   $V_B - V_A = 0$\n",
    ">   - [ ]   $\\mathbf{\\vec{E}} \\perp \\Delta\\vec{l}$, along a path from $A$ to $B$\n",
    ">\n",
    ">   <hr width=\"64%\" style=\"border-top:1px dashed; border-bottom:none\"/>"
   ]
  },
  {
   "cell_type": "markdown",
   "id": "783a5584",
   "metadata": {},
   "source": []
  },
  {
   "cell_type": "markdown",
   "id": "ae4991b8",
   "metadata": {},
   "source": [
    "<h3 id='4c' style=\"display:none\">(C)</h3>\n",
    "\n",
    ">   <hr width=\"82%\" style=\"border-top:2px dashed; border-bottom:none\"/> \n",
    ">\n",
    ">   ### &#x2e04;&hairsp;&#x2074;&hairsp;&#x2E05;&hairsp;(C)\n",
    ">\n",
    ">   __To calculate $V_C - V_B$, which path should you choose?__ (select one):\n",
    ">\n",
    ">   - [ ]   A path starting at $B$ and ending at $C$.\n",
    ">\n",
    ">   - [ ]   It doesn't matter whether the path starts or ends at $B$.\n",
    ">\n",
    ">   - [ ]   A path starting at $C$ and ending at $B$.\n",
    ">\n",
    ">\n",
    ">   <hr width=\"64%\" style=\"border-top:1px dashed; border-bottom:none\"/>"
   ]
  },
  {
   "cell_type": "markdown",
   "id": "6a32d33c",
   "metadata": {},
   "source": []
  },
  {
   "cell_type": "markdown",
   "id": "7f43235d",
   "metadata": {},
   "source": [
    "<h3 id='4d' style=\"display:none\">(D)</h3>\n",
    "\n",
    ">   <hr width=\"82%\" style=\"border-top:2px dashed; border-bottom:none\"/>\n",
    ">\n",
    ">   ### &#x2e04;&hairsp;&#x2074;&hairsp;&#x2E05;&hairsp;(D)\n",
    ">\n",
    ">   __The sign of $V_C - V_B$ should be:__ (select one):\n",
    ">   \n",
    ">   - [ ]   Zero - no sign. \n",
    ">\n",
    ">   - [ ]   Positive, because $\\Delta \\vec{l}$ is opposite (anti-parallel) to the direction of $\\mathbf{\\vec{E}}$\n",
    ">\n",
    ">   - [ ]   Negative, because $\\Delta \\vec{l}$ is in the same direction (parallel) of $\\mathbf{\\vec{E}}$. \n",
    ">\n",
    ">\n",
    ">   <hr width=\"64%\" style=\"border-top:1px dashed; border-bottom:none\"/>"
   ]
  },
  {
   "cell_type": "markdown",
   "id": "4005dc6d",
   "metadata": {},
   "source": []
  },
  {
   "cell_type": "markdown",
   "id": "282e9b58",
   "metadata": {},
   "source": [
    "<h3 id='4e' style=\"display:none\">(E)</h2>\n",
    "\n",
    ">   <hr width=\"82%\" style=\"border-top:2px dashed; border-bottom:none\"/>\n",
    ">   \n",
    ">   ### &#x2e04;&hairsp;&#x2074;&hairsp;&#x2E05;&hairsp;(E)\n",
    ">\n",
    ">   __What is the potential difference $V_C - V_B$?__\n",
    ">\n",
    ">   &emsp;&emsp;&emsp;&emsp; $V_C - V_B = \\fbox{\\hspace{8em} ?}\\ \\left[\\textrm{V}\\right]$\n",
    ">\n",
    ">   <hr width=\"64%\" style=\"border-top:1px dashed; border-bottom:none\"/>"
   ]
  },
  {
   "cell_type": "code",
   "execution_count": null,
   "id": "d8064b5d",
   "metadata": {
    "vscode": {
     "languageId": "python"
    }
   },
   "outputs": [],
   "source": []
  },
  {
   "cell_type": "markdown",
   "id": "95c6f30c",
   "metadata": {},
   "source": [
    "<h3 id='4f' style=\"display:none\">(F)</h3>\n",
    "\n",
    ">   <hr width=\"82%\" style=\"border-top:2px dashed; border-bottom:none\"/>\n",
    ">\n",
    ">   ### &#x2e04;&hairsp;&#x2074;&hairsp;&#x2E05;&hairsp;(F)\n",
    ">\n",
    ">   __What is the potential difference $V_D - V_C$?__\n",
    ">\n",
    ">   &emsp;&emsp;&emsp;&emsp; $V_D - V_C = \\fbox{\\hspace{8em}?}\\ \\left[\\textrm{V}\\right]$\n",
    ">\n",
    ">   <hr width=\"64%\" style=\"border-top:1px dashed; border-bottom:none\"/>"
   ]
  },
  {
   "cell_type": "code",
   "execution_count": null,
   "id": "e9617a0d",
   "metadata": {
    "vscode": {
     "languageId": "python"
    }
   },
   "outputs": [],
   "source": []
  },
  {
   "cell_type": "markdown",
   "id": "839c461a",
   "metadata": {},
   "source": [
    "<h3 id='4g' style=\"display:none\">(G)</h3>\n",
    "\n",
    ">   <hr width=\"82%\" style=\"border-top:2px dashed; border-bottom:none\"/>\n",
    ">\n",
    ">   ### &#x2e04;&hairsp;&#x2074;&hairsp;&#x2E05;&hairsp;(G)\n",
    ">\n",
    ">   __What is the potential difference $V_F - V_D$?__\n",
    ">\n",
    ">   &emsp;&emsp;&emsp;&emsp; $V_F - V_D = \\fbox{\\hspace{8em}?}\\ \\left[\\textrm{V}\\right]$\n",
    ">\n",
    ">   <hr width=\"64%\" style=\"border-top:1px dashed; border-bottom:none\"/>"
   ]
  },
  {
   "cell_type": "code",
   "execution_count": null,
   "id": "683ca481",
   "metadata": {
    "vscode": {
     "languageId": "python"
    }
   },
   "outputs": [],
   "source": []
  },
  {
   "cell_type": "markdown",
   "id": "76ffaccc",
   "metadata": {},
   "source": [
    "<h3 id='4h' style=\"display:none\">(H)</h3>\n",
    "\n",
    ">   <hr width=\"82%\" style=\"border-top:2px dashed; border-bottom:none\"/>\n",
    ">\n",
    ">   ### &#x2e04;&hairsp;&#x2074;&hairsp;&#x2E05;&hairsp;(H)\n",
    ">\n",
    ">   __What is the potential difference $V_G - V_F$?__\n",
    ">\n",
    ">   &emsp;&emsp;&emsp;&emsp; $V_G - V_F = \\fbox{\\hspace{8em}?}\\ \\left[\\textrm{V}\\right]$\n",
    ">\n",
    ">   <hr width=\"64%\" style=\"border-top:1px dashed; border-bottom:none\"/>"
   ]
  },
  {
   "cell_type": "code",
   "execution_count": null,
   "id": "0ad9ef99",
   "metadata": {
    "vscode": {
     "languageId": "python"
    }
   },
   "outputs": [],
   "source": []
  },
  {
   "cell_type": "markdown",
   "id": "179f124d",
   "metadata": {},
   "source": [
    "<h3 id='4i' style=\"display:none\">(I)</h3>\n",
    "\n",
    ">   <hr width=\"82%\" style=\"border-top:2px dashed; border-bottom:none\"/>\n",
    ">\n",
    ">   ### &#x2e04;&hairsp;&#x2074;&hairsp;&#x2E05;&hairsp;(I)\n",
    ">\n",
    ">   __What is the potential difference $V_G - V_A$?__\n",
    ">\n",
    ">   &emsp;&emsp;&emsp;&emsp; $V_G - V_A = \\fbox{\\hspace{8em}?}\\ \\left[\\textrm{V}\\right]$\n",
    ">\n",
    ">   <hr width=\"64%\" style=\"border-top:1px dashed; border-bottom:none\"/>"
   ]
  },
  {
   "cell_type": "code",
   "execution_count": null,
   "id": "ac32f1d4",
   "metadata": {
    "vscode": {
     "languageId": "python"
    }
   },
   "outputs": [],
   "source": []
  },
  {
   "cell_type": "markdown",
   "id": "e147fd34",
   "metadata": {},
   "source": [
    "<h3 id='4j' style=\"display:none\">(J)</h3>\n",
    "\n",
    ">   <hr width=\"82%\" style=\"border-top:2px dashed; border-bottom:none\"/>\n",
    ">\n",
    ">   ### &#x2e04;&hairsp;&#x2074;&hairsp;&#x2E05;&hairsp;(J)\n",
    ">\n",
    ">   The charged disks have tiny holes which allow a particle to pass through them.  \n",
    ">   An electron, which is traveling at a fast speed, approaches the plates from \n",
    ">   the left side.\n",
    ">\n",
    ">   It travels along a path from $A$ to $G$.\n",
    ">\n",
    ">   Since no external work is done on the system of plates + electron, \n",
    ">   $\\Delta K + \\Delta U = W_\\textrm{ext} = 0$. \n",
    ">\n",
    ">   Consider the following states:\n",
    ">   - _Initial_, electron at location $A$.\n",
    ">   - _Final_, electron at location $G$.\n",
    ">\n",
    ">   <hr width=\"64%\" style=\"border-top:1px dashed; border-bottom:none\"/>"
   ]
  },
  {
   "cell_type": "markdown",
   "id": "29b304a4",
   "metadata": {},
   "source": [
    "<h4 id='4j_i' style=\"display:none\">{J.ⅰ}</h4>\n",
    "\n",
    ">   <hr width=\"64%\" style=\"border-top:1px dotted; border-bottom:none\"/>\n",
    ">\n",
    ">   #### &#x2e04;&hairsp;&#x2074;&hairsp;&#x2E05;&hairsp;{J.ⅰ}\n",
    ">\n",
    ">   __What is the change in the potential energy of the system?__\n",
    ">\n",
    ">   &emsp;&emsp;&emsp;&emsp; $\\Delta U = \\fbox{\\hspace{8em}?}\\ \\left[\\textrm{J}\\right]$\n",
    ">\n",
    ">   <hr width=\"64%\" style=\"border-top:1px dotted; border-bottom:none\"/>"
   ]
  },
  {
   "cell_type": "code",
   "execution_count": null,
   "id": "c6293961",
   "metadata": {
    "vscode": {
     "languageId": "python"
    }
   },
   "outputs": [],
   "source": []
  },
  {
   "cell_type": "markdown",
   "id": "03781c7c",
   "metadata": {},
   "source": [
    "<h4 id='4j_ii' style=\"display:none\">{J.ⅱ}</h4>\n",
    "\n",
    ">   <hr width=\"64%\" style=\"border-top:1px dotted; border-bottom:none\"/>\n",
    ">\n",
    ">   #### &#x2e04;&hairsp;&#x2074;&hairsp;&#x2E05;&hairsp;{J.ⅱ}\n",
    ">\n",
    ">   __What is the change in kinetic energy of the electron?__\n",
    ">\n",
    ">   &emsp;&emsp;&emsp;&emsp; $\\Delta K = \\fbox{\\hspace{8em}?}\\ \\left[\\textrm{J}\\right]$\n",
    ">\n",
    ">   <hr width=\"64%\" style=\"border-top:1px dotted; border-bottom:none\"/>"
   ]
  },
  {
   "cell_type": "code",
   "execution_count": null,
   "id": "bebeb2a2",
   "metadata": {
    "vscode": {
     "languageId": "python"
    }
   },
   "outputs": [],
   "source": []
  },
  {
   "cell_type": "markdown",
   "id": "d06864b2",
   "metadata": {},
   "source": [
    "<div style=\"page-break-after: always;\"/> \n",
    "<h2 id='5' style=\"display:none\">[5]*</h2>\n",
    "\n",
    ">   ---\n",
    ">   ## [5]*\n",
    ">\n",
    ">   The figure shows a disk-shaped region of radius 2 [cm], on which there is a \n",
    ">   uniform electric field, of magnitude 291 [V/m], at an angle of $\\theta = 28$\n",
    ">   degrees to the plane of the disk.\n",
    ">\n",
    ">   <img loading='lazy' decoding='async' src=\"data:image/avif;base64,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\" />\n",
    ">\n",
    ">   __Calculate the electric flux on the disk, and include the correct units.__ (select one:)\n",
    ">\n",
    ">   &emsp;&emsp;&emsp;&emsp; $\\textrm{flux} = \\fbox{\\hspace{8em}?}$\n",
    ">\n",
    ">   - [ ]   [V⋅m]\n",
    ">   - [ ]   [V⋅m²]\n",
    ">   - [ ]   [V/m²]\n",
    ">   - [ ]   [V/m]\n",
    ">\n",
    ">   __<p align='right'>(10 points)</p>__\n",
    ">\n",
    ">   <hr width=\"64%\" style=\"border-top:1px dotted; border-bottom:none\"/>"
   ]
  },
  {
   "cell_type": "code",
   "execution_count": null,
   "id": "b8979337",
   "metadata": {
    "vscode": {
     "languageId": "python"
    }
   },
   "outputs": [],
   "source": []
  },
  {
   "cell_type": "markdown",
   "id": "d1c2b19b",
   "metadata": {},
   "source": []
  },
  {
   "cell_type": "markdown",
   "id": "8f7d3a80",
   "metadata": {},
   "source": [
    "<div style=\"page-break-after: always;\"/> \n",
    "<h2 id='6' style=\"display:none\">[6]</h2>\n",
    "\n",
    ">   ---\n",
    ">   ## [6]\n",
    ">\n",
    ">   The figure shows a box, on whose surfaces the electric field is measured to \n",
    ">   be horizontal and to the right. \n",
    ">\n",
    ">   On the left face ($3$ [[cm]] by $2$ [[cm]]), the magnitude of the electric \n",
    ">   field $\\mathbf{E}_1$ is $280$ volts/meter; and on the right face, the \n",
    ">   magnitude of the electric field $\\mathbf{E}_2$ is 1190 volts/meter.\n",
    ">\n",
    ">   On the other faces, only the direction is known (horizontal for face $i$, \n",
    ">   $\\mathbf{E}_{i \\not \\in \\{1,2\\}}$).\n",
    ">\n",
    ">   __Calculate the electric flux on every face of the box, the total flux, and the total amount of charge that is inside the box.__\n",
    ">\n",
    ">   __<p align='right'>(0.1 points)</p>__\n",
    ">\n",
    ">   <hr width=\"64%\" style=\"border-top:1px dotted; border-bottom:none\"/>   "
   ]
  },
  {
   "cell_type": "markdown",
   "id": "b1de79e5",
   "metadata": {},
   "source": [
    "<h3 id='6a' style=\"display:none\">(A)</h3>\n",
    "\n",
    ">   <hr width=\"82%\" style=\"border-top:2px dashed; border-bottom:none\"/>\n",
    ">\n",
    ">   ### &#x2e04;&hairsp;&#x2076;&hairsp;&#x2E05;&hairsp;(A)\n",
    ">\n",
    ">   Electric Flux through the top face of the box is \n",
    ">   \n",
    ">   &emsp;&emsp;&emsp;&emsp; $\\fbox{\\hspace{8em}?}\\ \\left[\\textrm{V}\\cdot\\textrm{m}\\right]$\n",
    ">\n",
    ">   <hr width=\"64%\" style=\"border-top:1px dashed; border-bottom:none\"/>"
   ]
  },
  {
   "cell_type": "code",
   "execution_count": null,
   "id": "1f407401",
   "metadata": {
    "vscode": {
     "languageId": "python"
    }
   },
   "outputs": [],
   "source": []
  },
  {
   "cell_type": "markdown",
   "id": "b7c1d92b",
   "metadata": {},
   "source": [
    "<h3 id='6b' style=\"display:none\">(B)</h3>\n",
    "\n",
    ">   <hr width=\"82%\" style=\"border-top:2px dashed; border-bottom:none\"/>\n",
    ">\n",
    ">   ### &#x2e04;&hairsp;&#x2076;&hairsp;&#x2E05;&hairsp;(B)\n",
    ">\n",
    ">   Electric Flux through the bottom face of the box is \n",
    ">\n",
    ">   &emsp;&emsp;&emsp;&emsp; $\\fbox{\\hspace{8em}?}\\ \\left[\\textrm{V}\\cdot\\textrm{m}\\right]$\n",
    ">\n",
    ">   <hr width=\"64%\" style=\"border-top:1px dashed; border-bottom:none\"/>"
   ]
  },
  {
   "cell_type": "code",
   "execution_count": null,
   "id": "99162be6",
   "metadata": {
    "vscode": {
     "languageId": "python"
    }
   },
   "outputs": [],
   "source": []
  },
  {
   "cell_type": "markdown",
   "id": "e5d2d1c0",
   "metadata": {},
   "source": [
    "<h3 id='6c' style=\"display:none\">(C)</h3>\n",
    "\n",
    ">   <hr width=\"82%\" style=\"border-top:2px dashed; border-bottom:none\"/>\n",
    ">\n",
    ">   ### &#x2e04;&hairsp;&#x2076;&hairsp;&#x2E05;&hairsp;(C)\n",
    ">\n",
    ">   Electric Flux through the left face of the box is \n",
    ">\n",
    ">   &emsp;&emsp;&emsp;&emsp; $\\fbox{\\hspace{8em}?}\\ \\left[\\textrm{V}\\cdot\\textrm{m}\\right]$\n",
    ">\n",
    ">   <hr width=\"64%\" style=\"border-top:1px dashed; border-bottom:none\"/>"
   ]
  },
  {
   "cell_type": "code",
   "execution_count": null,
   "id": "e8c91cda",
   "metadata": {
    "vscode": {
     "languageId": "python"
    }
   },
   "outputs": [],
   "source": []
  },
  {
   "cell_type": "markdown",
   "id": "06363bb2",
   "metadata": {},
   "source": [
    "<h3 id='6d' style=\"display:none\">(D)</h3>\n",
    "\n",
    ">   <hr width=\"82%\" style=\"border-top:2px dashed; border-bottom:none\"/>\n",
    ">\n",
    ">   ### &#x2e04;&hairsp;&#x2076;&hairsp;&#x2E05;&hairsp;(D)\n",
    ">\n",
    ">   Electric Flux through the right face of the box is \n",
    ">\n",
    ">   &emsp;&emsp;&emsp;&emsp; $\\fbox{\\hspace{8em}?}\\ \\left[\\textrm{V}\\cdot\\textrm{m}\\right]$\n",
    ">\n",
    ">   <hr width=\"64%\" style=\"border-top:1px dashed; border-bottom:none\"/>"
   ]
  },
  {
   "cell_type": "code",
   "execution_count": null,
   "id": "07d3b2f1",
   "metadata": {
    "vscode": {
     "languageId": "python"
    }
   },
   "outputs": [],
   "source": []
  },
  {
   "cell_type": "markdown",
   "id": "631c48b2",
   "metadata": {},
   "source": [
    "<h3 id='6e' style=\"display:none\">(E)</h3>\n",
    "\n",
    ">   <hr width=\"82%\" style=\"border-top:2px dashed; border-bottom:none\"/>\n",
    ">\n",
    ">   ### &#x2e04;&hairsp;&#x2076;&hairsp;&#x2E05;&hairsp;(E)\n",
    ">\n",
    ">   Electric Flux through the front face of the box is \n",
    ">\n",
    ">   &emsp;&emsp;&emsp;&emsp; $\\fbox{\\hspace{8em}?}\\ \\left[\\textrm{V}\\cdot\\textrm{m}\\right]$\n",
    ">\n",
    ">   <hr width=\"64%\" style=\"border-top:1px dashed; border-bottom:none\"/>"
   ]
  },
  {
   "cell_type": "code",
   "execution_count": null,
   "id": "2d9f2685",
   "metadata": {
    "vscode": {
     "languageId": "python"
    }
   },
   "outputs": [],
   "source": []
  },
  {
   "cell_type": "markdown",
   "id": "8b9fd0d6",
   "metadata": {},
   "source": [
    "<h3 id='6f' style=\"display:none\">(F)</h3>\n",
    "\n",
    ">   <hr width=\"82%\" style=\"border-top:2px dashed; border-bottom:none\"/>\n",
    ">\n",
    ">   ### &#x2e04;&hairsp;&#x2076;&hairsp;&#x2E05;&hairsp;(F)\n",
    ">\n",
    ">   Electric Flux through the back face of the box is \n",
    ">\n",
    ">   &emsp;&emsp;&emsp;&emsp; $\\fbox{\\hspace{8em}?}\\ \\left[\\textrm{V}\\cdot\\textrm{m}\\right]$\n",
    ">\n",
    ">   <hr width=\"64%\" style=\"border-top:1px dashed; border-bottom:none\"/>"
   ]
  },
  {
   "cell_type": "code",
   "execution_count": null,
   "id": "e373a1d2",
   "metadata": {
    "vscode": {
     "languageId": "python"
    }
   },
   "outputs": [],
   "source": []
  },
  {
   "cell_type": "markdown",
   "id": "7161ad89",
   "metadata": {},
   "source": [
    "<h3 id='6g' style=\"display:none\">(G)</h3>\n",
    "\n",
    ">   <hr width=\"82%\" style=\"border-top:2px dashed; border-bottom:none\"/>\n",
    ">\n",
    ">   ### &#x2e04;&hairsp;&#x2076;&hairsp;&#x2E05;&hairsp;(G)\n",
    ">\n",
    ">   Total Flux through all faces of the box is \n",
    ">\n",
    ">   &emsp;&emsp;&emsp;&emsp; $\\fbox{\\hspace{8em}?}\\ \\left[\\textrm{V}\\cdot\\textrm{m}\\right]$\n",
    ">\n",
    ">   <hr width=\"64%\" style=\"border-top:1px dashed; border-bottom:none\"/>"
   ]
  },
  {
   "cell_type": "code",
   "execution_count": null,
   "id": "b4ee1883",
   "metadata": {
    "vscode": {
     "languageId": "python"
    }
   },
   "outputs": [],
   "source": []
  },
  {
   "cell_type": "markdown",
   "id": "2f85b68b",
   "metadata": {},
   "source": [
    "<h3 id='6h' style=\"display:none\">(H)</h3>\n",
    "\n",
    ">   <hr width=\"82%\" style=\"border-top:2px dashed; border-bottom:none\"/>\n",
    ">\n",
    ">   ### &#x2e04;&hairsp;&#x2076;&hairsp;&#x2E05;&hairsp;(H)\n",
    ">\n",
    ">   Electric Flux through the left face of the box is \n",
    ">\n",
    ">   &emsp;&emsp;&emsp;&emsp; $\\fbox{\\hspace{8em}?}\\ \\left[\\textrm{V}\\cdot\\textrm{m}\\right]$\n",
    ">\n",
    ">   <hr width=\"64%\" style=\"border-top:1px dashed; border-bottom:none\"/>"
   ]
  },
  {
   "cell_type": "code",
   "execution_count": null,
   "id": "0b45851e",
   "metadata": {
    "vscode": {
     "languageId": "python"
    }
   },
   "outputs": [],
   "source": []
  },
  {
   "cell_type": "markdown",
   "id": "2c8dbd96",
   "metadata": {},
   "source": [
    "<h3 id='6i' style=\"display:none\">(I)</h3>\n",
    "\n",
    ">   <hr width=\"82%\" style=\"border-top:2px dashed; border-bottom:none\"/>\n",
    ">\n",
    ">   ### &#x2e04;&hairsp;&#x2076;&hairsp;&#x2E05;&hairsp;(I)\n",
    ">\n",
    ">   The total electric charge inside the box (recall that $\\epsilon_0 = 8.85 \\times 10^{-12}$ [C^2 / N⋅m^2]) is\n",
    ">\n",
    ">   &emsp;&emsp;&emsp;&emsp; $\\fbox{\\hspace{8em}?}\\ \\left[\\textrm{C}\\right]$\n",
    ">\n",
    ">   <hr width=\"64%\" style=\"border-top:1px dashed; border-bottom:none\"/>"
   ]
  },
  {
   "cell_type": "code",
   "execution_count": null,
   "id": "67b9cbab",
   "metadata": {
    "vscode": {
     "languageId": "python"
    }
   },
   "outputs": [],
   "source": []
  },
  {
   "cell_type": "markdown",
   "id": "7dbd0cbf",
   "metadata": {},
   "source": [
    "<div style=\"page-break-after: always;\"/> \n",
    "<h2 id='7' style=\"display:none\">[7]*</h2>\n",
    "\n",
    ">   ---\n",
    ">   ## [7]*\n",
    ">\n",
    ">   __<p align='right'>(10 points)</p>__\n",
    ">\n",
    ">   <hr width=\"64%\" style=\"border-top:1px dotted; border-bottom:none\"/>"
   ]
  },
  {
   "cell_type": "markdown",
   "id": "840b88fe",
   "metadata": {},
   "source": [
    "<h3 id='7a' style=\"display:none\">(A)</h3>\n",
    "\n",
    ">   <hr width=\"82%\" style=\"border-top:2px dashed; border-bottom:none\"/>\n",
    ">\n",
    ">   ### &#x2e04;&hairsp;&#x2077;&hairsp;&#x2E05;&hairsp;(A)\n",
    ">\n",
    ">   The electric field has been measured to be vertically upward everywhere on \n",
    ">   the surface of a box 20 [[cm]] long, 4 [[cm]] high, and 3 [[cm]] deep (shown\n",
    ">   in the figure below). \n",
    ">\n",
    ">   Over all the surface of the bottom face of the box, $\\mathbf{\\vec{E}}_1 = 1700$ [V/m], \n",
    ">   all over the surface of the side faces of the box $\\mathbf{\\vec{E}}_2 = 900$ [V/m], \n",
    ">   and over all the top surface of the box $\\mathbf{\\vec{E}}_3 = 800$ [V/m].\n",
    ">\n",
    ">   <img loading='lazy' decoding='async' src=\"data:image/avif;base64,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\" />\n",
    ">\n",
    ">   __What is the amount of charge enclosed by the box?__ <br>\n",
    ">   Use the accurate value $\\epsilon_0 = 8.85 \\times 10^{-12}$ [C^2 / N⋅m^2]\n",
    ">\n",
    ">   &emsp;&emsp;&emsp;&emsp; $\\fbox{\\hspace{8em}?}\\ \\left[\\textrm{C}\\right]$\n",
    ">\n",
    ">   <hr width=\"64%\" style=\"border-top:1px dashed; border-bottom:none\"/>"
   ]
  },
  {
   "cell_type": "code",
   "execution_count": null,
   "id": "7a8f9363",
   "metadata": {
    "vscode": {
     "languageId": "python"
    }
   },
   "outputs": [],
   "source": []
  },
  {
   "cell_type": "markdown",
   "id": "2b02567e",
   "metadata": {},
   "source": [
    "<h3 id='7b' style=\"display:none\">(B)</h3>\n",
    "\n",
    ">   <hr width=\"82%\" style=\"border-top:2px dashed; border-bottom:none\"/>\n",
    ">\n",
    ">   ### &#x2e04;&hairsp;&#x2077;&hairsp;&#x2E05;&hairsp;(B)\n",
    ">\n",
    ">   The electric field is horizontal and has the values indicated on the surface \n",
    ">   of a cylinder shown in the figure. \n",
    ">\n",
    ">   $\\mathbf{\\vec{E}}_1 = 1700$ [N/C], $\\mathbf{\\vec{E}}_2 = 1400$ [N/C], and \n",
    ">   $\\mathbf{\\vec{E}}_3 = 1100$ [N/C].\n",
    ">\n",
    ">   <img loading='lazy' decoding='async' src=\"data:image/avif;base64,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\" />\n",
    ">\n",
    ">   __What is the amount of charge enclosed by the cylinder?__ <br>\n",
    ">   Use the accurate value $\\epsilon_0 = 8.85 \\times 10^{-12}$ [C^2 / N⋅m^2]\n",
    ">\n",
    ">   &emsp;&emsp;&emsp;&emsp; $\\fbox{\\hspace{8em}?}\\ \\left[\\textrm{C}\\right]$\n",
    ">\n",
    ">   <hr width=\"64%\" style=\"border-top:1px dashed; border-bottom:none\"/>"
   ]
  },
  {
   "cell_type": "code",
   "execution_count": null,
   "id": "465d0e09",
   "metadata": {
    "vscode": {
     "languageId": "python"
    }
   },
   "outputs": [],
   "source": []
  },
  {
   "cell_type": "markdown",
   "id": "3d1b102e",
   "metadata": {},
   "source": [
    "<h3 id='7c' style=\"display:none\">(C)</h3>\n",
    "\n",
    ">   <hr width=\"82%\" style=\"border-top:2px dashed; border-bottom:none\"/>\n",
    ">\n",
    ">   ### &#x2e04;&hairsp;&#x2077;&hairsp;&#x2E05;&hairsp;(C)\n",
    ">\n",
    ">   The electric field has been measured to be horizontal, and to the right, \n",
    ">   everywhere on the closed trapezoidal box shown in the figure below. \n",
    ">\n",
    ">   Over all the surface of the left face of the trapezoidal box $\\mathbf{\\vec{E}}_1 = 90$ [V/m], \n",
    ">   and over all the surface of the slanting right face of the box $\\mathbf{\\vec{E}}_2 = 450$ [V/m].\n",
    ">\n",
    ">   On the surface of the top face of the box, the average field is $\\mathbf{\\vec{E}}_3 = 300$ [V/m], \n",
    ">   and on the surfaces of the front and back faces the average field is $\\mathbf{\\vec{E}}_4 = 175$ [V/m], \n",
    ">   and on the surface of the bottom face of the box the average field is $\\mathbf{\\vec{E}}_5 = 240$ [V/m].\n",
    ">\n",
    ">   <img loading='lazy' decoding='async' src=\"data:image/avif;base64,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\" />\n",
    ">\n",
    ">   __How much charge is enclosed by the slanted trapezoidal box?__ <br>\n",
    ">   Use the accurate value $\\epsilon_0 = 8.85 \\times 10^{-12}$ [C² / N⋅m²]\n",
    ">\n",
    ">   &emsp;&emsp;&emsp;&emsp; $\\fbox{\\hspace{8em}?}\\ \\left[\\textrm{C}\\right]$\n",
    ">\n",
    ">   <hr width=\"64%\" style=\"border-top:1px dashed; border-bottom:none\"/>"
   ]
  },
  {
   "cell_type": "code",
   "execution_count": null,
   "id": "8caaec16",
   "metadata": {
    "vscode": {
     "languageId": "python"
    }
   },
   "outputs": [],
   "source": []
  },
  {
   "cell_type": "markdown",
   "id": "6d913fe8",
   "metadata": {},
   "source": [
    "<div style=\"page-break-after: always;\"/> \n",
    "<h2 id='8' style=\"display:none\">[8]*</h2>\n",
    "\n",
    ">   ---\n",
    ">   ## [8]*\n",
    ">\n",
    ">   The electric field has been measured to be horizontal, and to the right, \n",
    ">   everywhere on the closed box as shown in the figure below. \n",
    ">\n",
    ">   <img loading='lazy' decoding='async' src=\"data:image/avif;base64,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\" />\n",
    ">\n",
    ">   Over all the surface of the left side of the box $\\mathbf{E}_1 = 107$ [V/m],\n",
    ">   and all over the surface of the slanting right face of the box $\\mathbf{E}_2 = 273$ [V/m].\n",
    ">\n",
    ">   On the top face, the average field is $\\mathbf{E}_3 = 160$ [V], on the front\n",
    ">   and back the average field is $\\mathbf{E}_4 = 170$ [V/m], and on the bottom \n",
    ">   face the average field is $\\mathbf{E}_5 = 190$ [V/m]. \n",
    ">\n",
    ">   __How much charge is inside the box?__\n",
    ">\n",
    ">   &emsp;&emsp;&emsp;&emsp; $\\fbox{\\hspace{8em}?}\\ \\left[\\textrm{C}\\right]$\n",
    ">\n",
    ">   __Explain briefly:__ (select one):\n",
    ">   \n",
    ">   - [ ]   The charge inside the box is zero, because the total flux across all \n",
    ">           faces is zero. \n",
    ">\n",
    ">   - [ ]   All six faces of the wedge have a non-zero flux. The sum of the flux\n",
    ">           across all six faces gives the total flux, which can be used to find\n",
    ">           the total charge. \n",
    ">\n",
    ">   - [ ]   The charge inside the box is zero, because the flux across each \n",
    ">           individual face is zero. \n",
    ">\n",
    ">   - [ ]   Only four faces of the wedge have a non-zero flux -- the front and \n",
    ">           back sides, and the top and bottom sides.  Their sum gives the total\n",
    ">           flux, which can be used to find the total charge. \n",
    ">\n",
    ">   - [ ]   Only two faces of the wedge have a non-zero flux -- the left side \n",
    ">           and the slanting side.  Their sum gives the total flux, which can be\n",
    ">           used to find the total charge. \n",
    ">\n",
    ">   __<p align='right'>(10 points)</p>__\n",
    ">\n",
    ">   <hr width=\"64%\" style=\"border-top:1px dotted; border-bottom:none\"/>"
   ]
  },
  {
   "cell_type": "code",
   "execution_count": null,
   "id": "2d0b90a6",
   "metadata": {
    "vscode": {
     "languageId": "python"
    }
   },
   "outputs": [],
   "source": []
  },
  {
   "cell_type": "markdown",
   "id": "c5b726b2",
   "metadata": {},
   "source": [
    "<div style=\"page-break-after: always;\"/> \n",
    "<h2 id='9' style=\"display:none\">[9]*</h2>\n",
    "\n",
    ">   ---\n",
    ">   ## [9]*\n",
    ">\n",
    ">   In the figure below the solenoid radius is $3$ [cm], and the ring radius is \n",
    ">   $14$ [cm]. \n",
    ">\n",
    ">   $\\mathbf{B} = 0.8$ [T] inside the solenoid, and $\\mathbf{B} \\approx 0$ outside the solenoid. \n",
    ">\n",
    ">   <img loading='lazy' decoding='async' src=\"data:image/avif;base64,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\" />\n",
    ">\n",
    ">   __What is the magnetic flux through the outer ring?__\n",
    ">\n",
    ">   &emsp;&emsp;&emsp;&emsp; $\\fbox{\\hspace{8em}?}\\ \\left[\\textrm{T}\\cdot\\textrm{m}^2\\right]$\n",
    ">\n",
    ">   __<p align='right'>(10 points)</p>__\n",
    ">\n",
    ">   <hr width=\"64%\" style=\"border-top:1px dotted; border-bottom:none\"/>"
   ]
  },
  {
   "cell_type": "code",
   "execution_count": null,
   "id": "346f0416",
   "metadata": {
    "vscode": {
     "languageId": "python"
    }
   },
   "outputs": [],
   "source": []
  },
  {
   "cell_type": "markdown",
   "id": "1e78006d",
   "metadata": {},
   "source": [
    "---"
   ]
  }
 ],
 "metadata": {
  "kernelspec": {
   "display_name": "SageMath 10.6",
   "language": "sage",
   "name": "SageMath-10.6"
  },
  "language_info": {
   "codemirror_mode": {
    "name": "ipython",
    "version": 3
   },
   "file_extension": ".py",
   "mimetype": "text/x-python",
   "name": "sage",
   "nbconvert_exporter": "python",
   "pygments_lexer": "ipython3",
   "version": "3.12.5"
  }
 },
 "nbformat": 4,
 "nbformat_minor": 5
}
