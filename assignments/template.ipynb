{
 "cells": [
  {
   "cell_type": "code",
   "execution_count": 1,
   "id": "4d87d0c4",
   "metadata": {},
   "outputs": [
    {
     "name": "stdout",
     "output_type": "stream",
     "text": [
      "Python: 3.12.5 (main, Feb 25 2025, 12:37:41) [Clang 16.0.0 (clang-1600.0.26.6)]\n"
     ]
    },
    {
     "data": {
      "text/html": [
       "<html>\\(\\displaystyle \\verb|SageMath|\\verb| |\\verb|version|\\verb| |\\verb|10.6,|\\verb| |\\verb|Release|\\verb| |\\verb|Date:|\\verb| |\\verb|2025-03-31|\\)</html>"
      ],
      "text/latex": [
       "$\\displaystyle \\verb|SageMath|\\verb| |\\verb|version|\\verb| |\\verb|10.6,|\\verb| |\\verb|Release|\\verb| |\\verb|Date:|\\verb| |\\verb|2025-03-31|$"
      ],
      "text/plain": [
       "'SageMath version 10.6, Release Date: 2025-03-31'"
      ]
     },
     "execution_count": 1,
     "metadata": {},
     "output_type": "execute_result"
    }
   ],
   "source": [
    "########\n",
    "## Env Setup / Preamble\n",
    "########\n",
    "%load_ext autoreload\n",
    "%autoreload complete \n",
    "\n",
    "%load_ext Cython\n",
    "\n",
    "%display latex\n",
    "\n",
    "################\n",
    "\n",
    "import cython\n",
    "from sage.all import *\n",
    "\n",
    "################\n",
    "\n",
    "import tempfile\n",
    "import mmap\n",
    "from multiprocessing import shared_memory\n",
    "\n",
    "################\n",
    "\n",
    "import numpy as np\n",
    "import scipy.constants\n",
    "\n",
    "np.random.seed( int(scipy.constants.golden_ratio * 1.e6) )\n",
    "\n",
    "from numpy import vectorize\n",
    "from numpy import r_, c_, s_\n",
    "\n",
    "################\n",
    "\n",
    "####    boiler-plate class for named constants\n",
    "from sage.symbolic.constants import Constant\n",
    "class ConstantFromExpression(Constant):\n",
    "    def __init__(self, name, v):\n",
    "        conversions = dict(maxima=repr(maxima.coerce(v)))\n",
    "        Constant.__init__(self, name, conversions=conversions)\n",
    "        self._v = v\n",
    "    def __float__(self): return float(self._v)\n",
    "    def __complex__(self): return complex(self._v)\n",
    "    def _mpfr_(self, R): return R(self._v)\n",
    "    def _real_double_(self, R): return R(self._v)\n",
    "\n",
    "def NamedExpression(name, expr):\n",
    "    return ConstantFromExpression(name,expr).expression()\n",
    "####\n",
    "\n",
    "import sage.symbolic.units as units     # <: TODO\n",
    "\n",
    "π   = NamedExpression('π', scipy.constants.pi)          # pi\n",
    "ε_0 = NamedExpression('ε_0', scipy.constants.epsilon_0) # electric permittivity of vacuum\n",
    "μ_0 = NamedExpression('μ_0', scipy.constants.mu_0)      # magnetic permeability of vacuum\n",
    "\n",
    "𝛋 = 1. / (4 * π * ε_0)      # Coulomb's constant in [ N·m²/C² ]\n",
    "q = NamedExpression('q', -scipy.constants.elementary_charge)\n",
    "\n",
    "ℎ_planck = NamedExpression('ℎ', scipy.constants.Planck)\n",
    "ℏ = NamedExpression('ℏ', scipy.constants.hbar)\n",
    "\n",
    "α = NamedExpression('α', scipy.constants.fine_structure)\n",
    "\n",
    "m_e = NamedExpression('m_e', scipy.constants.electron_mass)\n",
    "m_p = NamedExpression('m_p', scipy.constants.proton_mass)\n",
    "\n",
    "################\n",
    "\n",
    "Parallelism().set(nproc=8)\n",
    "print(f\"Python: {sys.version}\")\n",
    "version()\n"
   ]
  },
  {
   "cell_type": "code",
   "execution_count": 2,
   "id": "6dbb2a79",
   "metadata": {},
   "outputs": [
    {
     "name": "stdout",
     "output_type": "stream",
     "text": [
      "The Zen of Python, by Tim Peters\n",
      "\n",
      "Beautiful is better than ugly.\n",
      "Explicit is better than implicit.\n",
      "Simple is better than complex.\n",
      "Complex is better than complicated.\n",
      "Flat is better than nested.\n",
      "Sparse is better than dense.\n",
      "Readability counts.\n",
      "Special cases aren't special enough to break the rules.\n",
      "Although practicality beats purity.\n",
      "Errors should never pass silently.\n",
      "Unless explicitly silenced.\n",
      "In the face of ambiguity, refuse the temptation to guess.\n",
      "There should be one-- and preferably only one --obvious way to do it.\n",
      "Although that way may not be obvious at first unless you're Dutch.\n",
      "Now is better than never.\n",
      "Although never is often better than *right* now.\n",
      "If the implementation is hard to explain, it's a bad idea.\n",
      "If the implementation is easy to explain, it may be a good idea.\n",
      "Namespaces are one honking great idea -- let's do more of those!\n"
     ]
    }
   ],
   "source": [
    "##  sanity check\n",
    "import this\n"
   ]
  },
  {
   "cell_type": "markdown",
   "id": "b6060a6a",
   "metadata": {},
   "source": [
    "---"
   ]
  },
  {
   "cell_type": "markdown",
   "id": "07660e34",
   "metadata": {},
   "source": [
    "<hr width=\"82%\" style=\"border-top:2px dashed black; border-bottom:none\"/>"
   ]
  },
  {
   "cell_type": "markdown",
   "id": "7fac4d34",
   "metadata": {},
   "source": [
    "<hr width=\"64%\" style=\"border-top:1px dotted black; border-bottom:none\"/>"
   ]
  },
  {
   "cell_type": "markdown",
   "id": "13a89f45",
   "metadata": {},
   "source": [
    ">   - Geometrization & Discretization\n",
    ">       * a.k.a., \"Pick a Coordinate System\". \n",
    ">"
   ]
  },
  {
   "cell_type": "code",
   "execution_count": 3,
   "id": "08d05d02",
   "metadata": {},
   "outputs": [],
   "source": [
    "########\n",
    "## Geometry & Discretization\n",
    "##    a.k.a. \"Pick a Coordinate System\"\n",
    "########\n"
   ]
  },
  {
   "cell_type": "markdown",
   "id": "490ec133",
   "metadata": {},
   "source": []
  },
  {
   "cell_type": "markdown",
   "id": "271a09d0",
   "metadata": {},
   "source": [
    "<hr width=\"64%\" style=\"border-top:1px dotted black; border-bottom:none\"/>"
   ]
  },
  {
   "cell_type": "markdown",
   "id": "a4f23414",
   "metadata": {},
   "source": [
    "2. Choose, Apply, and Interpret the Physical Model; then Calculate\n",
    "    * a.k.a, Analysis + \"Plug'n'Chug\" "
   ]
  },
  {
   "cell_type": "code",
   "execution_count": 4,
   "id": "00ef1f23",
   "metadata": {},
   "outputs": [],
   "source": [
    "########\n",
    "## Choose, Apply, and Interpret the Physical Model; then Calculate\n",
    "##      aka; \"Analysis, then Plug'n'Chug\"\n",
    "########\n"
   ]
  },
  {
   "cell_type": "markdown",
   "id": "0af9733f",
   "metadata": {},
   "source": [
    "<hr width=\"64%\" style=\"border-top:1px dotted black; border-bottom:none\"/>"
   ]
  },
  {
   "cell_type": "markdown",
   "id": "5dc308c5",
   "metadata": {},
   "source": [
    "3. Evaluate, Elaborate, and AEstheticize (?)\n",
    "    * \"Explain, Make a Picture (Visualize), then Estimate or Predict\""
   ]
  },
  {
   "cell_type": "code",
   "execution_count": 5,
   "id": "65718db0",
   "metadata": {},
   "outputs": [],
   "source": [
    "########\n",
    "## Evaluate, Elaborate, and AEstheticize\n",
    "##      \"Explain, Make a Picture (Visualize), then Estimate, or Predict.\"\n",
    "########\n"
   ]
  },
  {
   "cell_type": "markdown",
   "id": "7ca4a687",
   "metadata": {},
   "source": [
    "<hr width=\"64%\" style=\"border-top:1px dotted black; border-bottom:none\"/>"
   ]
  }
 ],
 "metadata": {
  "kernelspec": {
   "display_name": "SageMath 10.6",
   "language": "sage",
   "name": "SageMath-10.6"
  },
  "language_info": {
   "codemirror_mode": {
    "name": "ipython",
    "version": 3
   },
   "file_extension": ".py",
   "mimetype": "text/x-python",
   "name": "python",
   "nbconvert_exporter": "python",
   "pygments_lexer": "ipython3",
   "version": "3.12.5"
  }
 },
 "nbformat": 4,
 "nbformat_minor": 5
}
