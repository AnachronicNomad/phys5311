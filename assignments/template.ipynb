{
 "cells": [
  {
   "cell_type": "code",
   "execution_count": null,
   "id": "4d87d0c4",
   "metadata": {
    "vscode": {
     "languageId": "python"
    }
   },
   "outputs": [
    {
     "data": {
      "text/html": [
       "<html>\\(\\displaystyle \\verb|SageMath|\\verb| |\\verb|version|\\verb| |\\verb|10.6,|\\verb| |\\verb|Release|\\verb| |\\verb|Date:|\\verb| |\\verb|2025-03-31|\\)</html>"
      ],
      "text/latex": [
       "$\\displaystyle \\verb|SageMath|\\verb| |\\verb|version|\\verb| |\\verb|10.6,|\\verb| |\\verb|Release|\\verb| |\\verb|Date:|\\verb| |\\verb|2025-03-31|$"
      ],
      "text/plain": [
       "'SageMath version 10.6, Release Date: 2025-03-31'"
      ]
     },
     "execution_count": 1,
     "metadata": {},
     "output_type": "execute_result"
    }
   ],
   "source": [
    "########\n",
    "## Env Setup / Preamble\n",
    "########\n",
    "%load_ext autoreload\n",
    "%autoreload complete \n",
    "\n",
    "%load_ext Cython\n",
    "\n",
    "%display latex\n",
    "\n",
    "################\n",
    "\n",
    "from sage.all import *\n",
    "\n",
    "################\n",
    "\n",
    "import tempfile\n",
    "import mmap\n",
    "from multiprocessing import shared_memory\n",
    "\n",
    "################\n",
    "\n",
    "import numpy as np\n",
    "np.random.seed(1_618_033)\n",
    "\n",
    "from numpy import vectorize\n",
    "from numpy import r_, c_, s_\n",
    "\n",
    "################\n",
    "\n",
    "ε_0 = 8.854_187e-12\n",
    "μ_0 = 1.256_637_061e-6\n",
    "𝛋 = 1. / (4 * np.pi * ε_0)    # Coulomb's constant in [ N·m²/C² ]\n",
    "𝗾_e = 1.602e-19\n",
    "\n",
    "m_e = 9.109e-31\n",
    "m_p = 1.672e-27\n",
    "\n",
    "################\n",
    "\n",
    "#Parallelism().set(nproc=8)\n",
    "version()\n"
   ]
  },
  {
   "cell_type": "code",
   "execution_count": 2,
   "id": "6dbb2a79",
   "metadata": {
    "vscode": {
     "languageId": "python"
    }
   },
   "outputs": [
    {
     "name": "stdout",
     "output_type": "stream",
     "text": [
      "The Zen of Python, by Tim Peters\n",
      "\n",
      "Beautiful is better than ugly.\n",
      "Explicit is better than implicit.\n",
      "Simple is better than complex.\n",
      "Complex is better than complicated.\n",
      "Flat is better than nested.\n",
      "Sparse is better than dense.\n",
      "Readability counts.\n",
      "Special cases aren't special enough to break the rules.\n",
      "Although practicality beats purity.\n",
      "Errors should never pass silently.\n",
      "Unless explicitly silenced.\n",
      "In the face of ambiguity, refuse the temptation to guess.\n",
      "There should be one-- and preferably only one --obvious way to do it.\n",
      "Although that way may not be obvious at first unless you're Dutch.\n",
      "Now is better than never.\n",
      "Although never is often better than *right* now.\n",
      "If the implementation is hard to explain, it's a bad idea.\n",
      "If the implementation is easy to explain, it may be a good idea.\n",
      "Namespaces are one honking great idea -- let's do more of those!\n"
     ]
    }
   ],
   "source": [
    "##  sanity check\n",
    "import this\n"
   ]
  },
  {
   "cell_type": "markdown",
   "id": "b6060a6a",
   "metadata": {},
   "source": []
  },
  {
   "cell_type": "markdown",
   "id": "13a89f45",
   "metadata": {},
   "source": [
    "1. Geometrization and Discretization\n",
    "    * a.k.a., \"Pick a Coordinate System\". "
   ]
  },
  {
   "cell_type": "markdown",
   "id": "a4f23414",
   "metadata": {},
   "source": [
    "2. Choose, Apply, and Interpret the Physical Model\n",
    "    * a.k.a, \"Plug'n'Chug\" + Analysis"
   ]
  },
  {
   "cell_type": "markdown",
   "id": "5dc308c5",
   "metadata": {},
   "source": [
    "3. Evaluate, Elaborate, and AEstheticize (?)\n",
    "    * \"Explain, Make a Picture, then Estimate or Predict\""
   ]
  },
  {
   "cell_type": "markdown",
   "id": "2ec09b00",
   "metadata": {},
   "source": []
  }
 ],
 "metadata": {
  "kernelspec": {
   "display_name": "SageMath 10.6",
   "language": "sage",
   "name": "SageMath-10.6"
  },
  "language_info": {
   "codemirror_mode": {
    "name": "ipython",
    "version": 3
   },
   "file_extension": ".py",
   "mimetype": "text/x-python",
   "name": "sage",
   "nbconvert_exporter": "python",
   "pygments_lexer": "ipython3",
   "version": "3.12.5"
  }
 },
 "nbformat": 4,
 "nbformat_minor": 5
}
