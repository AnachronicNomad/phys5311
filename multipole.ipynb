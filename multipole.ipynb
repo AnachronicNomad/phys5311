version https://git-lfs.github.com/spec/v1
oid sha256:2caf7c61361182b93b13d2a4500fc0a035ce8fb42cda99fdbb509040934c63f8
size 1107
