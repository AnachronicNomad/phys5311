version https://git-lfs.github.com/spec/v1
oid sha256:0e52505b736e501b498bbd4e94d70fbfcf4c8dafc26ccd6623d32c8a46b8a251
size 5078478
