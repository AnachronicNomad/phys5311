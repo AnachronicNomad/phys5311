version https://git-lfs.github.com/spec/v1
oid sha256:6510c5f644ef5aabc1ec00acaf37f942f6b6d93d6f1a03b9adfc9d27e0c3ce0a
size 5078260
