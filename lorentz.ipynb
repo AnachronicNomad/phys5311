version https://git-lfs.github.com/spec/v1
oid sha256:ddf88d79e09c59d4e8d8504c6d36f19fe662464dd48d9eac33a6a973f0bf29f2
size 5078207
