{
 "cells": [
  {
   "cell_type": "markdown",
   "id": "8a1f48d4",
   "metadata": {},
   "source": [
    "# Themes\n",
    "\n",
    ">   __All models are wrong; Some are useful.__ - paraphrased aphorism attributed\n",
    ">   to applied statistician George Box (1976). \n",
    "\n",
    "1.  The Maxwell-Heaviside Differential Equations[^1] require additional contextual \n",
    "    data in their application, to accurately model the desired properties under \n",
    "    examination of an electromagnetic system.  This is re-doubled when we \n",
    "    consider alternate formulations of the same models, for example, each of the \n",
    "    corresponding Integral Forms of the MHDE that may describe the $\\mathbf{\\vec{E}}$\n",
    "    and $\\mathbf{\\vec{B}}$ fields.  The contextual data (e.g. initial value, \n",
    "    boundary conditions, etc. ) morph yet again, when we make the jump from \n",
    "    time-independent, to time-dependent, systems; and yet again, when we consider\n",
    "    the expanse of linearizations and approximations, that are tractable and \n",
    "    useful in common life. \n",
    "    \n",
    "    That is: __the models are missing information__ that we, the physicist, must \n",
    "    supply; and this course focuses on the \"what, when, where, how, and why\" of \n",
    "    this missing information.  \n",
    "\n",
    "2.  The various derivationally interrelated models in canonical `Electricity & \n",
    "    Magnetism` __break down__, under certain assumptions about the electromagnetic \n",
    "    systems under examination.  \n",
    "    \n",
    "    We aim to understand the \"what, when, where, how, and why\" of each of the \n",
    "    formulations made available to us, and __identify the conditions__ under \n",
    "    which a given model __appropriately describes the behavior of an \n",
    "    electromagnetic system__. \n",
    "\n",
    "[^1]:   Maxwell's formulation, compiled into a hefty tome from the work of \n",
    "        hundreds of researchers spanning a millenia, originally contained upwards \n",
    "        of 27 individual equations and identities, that were considered essential \n",
    "        to codify the observations of experiment.  Heaviside, ~50 years later, \n",
    "        provided an ~11 equation equivalent re-statement, that today, we have \n",
    "        reduced to 4 main equations; with an associated codified plethora of \n",
    "        derived statements relevant to categories of behaviors of electromagnetic \n",
    "        systems that we may wish to consider. "
   ]
  },
  {
   "cell_type": "markdown",
   "id": "6842ffec",
   "metadata": {},
   "source": [
    "# The Student\n",
    "\n",
    "Various students, with varying desired paths and existential goals, require training \n",
    "in the means towards these ends. An incomplete and non-exhaustive descriptive list\n",
    "is as follows: \n",
    "\n",
    "*   The __Working Physicist__.  Your goal is to enter industry, with a rocking \n",
    "    transcript \n",
    "\n",
    "*   The __Researcher__. "
   ]
  }
 ],
 "metadata": {
  "language_info": {
   "name": "python"
  }
 },
 "nbformat": 4,
 "nbformat_minor": 5
}
